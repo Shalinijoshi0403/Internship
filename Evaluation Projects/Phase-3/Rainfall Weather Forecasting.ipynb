{
 "cells": [
  {
   "cell_type": "markdown",
   "id": "ab7cd053",
   "metadata": {},
   "source": [
    "# Rainfall Weather Forecasting\n",
    "### Project Description\n",
    "##### Weather forecasting is the application of science and technology to predict the conditions of the atmosphere for a given location and time. Weather forecasts are made by collecting quantitative data about the current state of the atmosphere at a given place and using meteorology to project how the atmosphere will change.\n",
    "Rain Dataset is to predict whether or not it will rain tomorrow. The Dataset contains about 10 years of daily weather observations of different locations in Australia. Here, predict two things:\n",
    " \n",
    "##### 1. Problem Statement: \n",
    "a) Design a predictive model with the use of machine learning algorithms to forecast whether or not it will rain tomorrow.\n",
    "b)  Design a predictive model with the use of machine learning algorithms to predict how much rainfall could be there.\n",
    "\n",
    "\n",
    "##### Dataset Description:\n",
    "Number of columns: 23\n",
    "\n",
    "\n",
    "Date  - The date of observation\n",
    "Location  -The common name of the location of the weather station\n",
    "MinTemp  -The minimum temperature in degrees celsius\n",
    "MaxTemp -The maximum temperature in degrees celsius\n",
    "Rainfall  -The amount of rainfall recorded for the day in mm\n",
    "Evaporation  -The so-called Class A pan evaporation (mm) in the 24 hours to 9am\n",
    "Sunshine  -The number of hours of bright sunshine in the day.\n",
    "WindGustDi r- The direction of the strongest wind gust in the 24 hours to midnight\n",
    "WindGustSpeed -The speed (km/h) of the strongest wind gust in the 24 hours to midnight\n",
    "WindDir9am -Direction of the wind at 9am\n",
    "WindDir3pm -Direction of the wind at 3pm\n",
    "WindSpeed9am -Wind speed (km/hr) averaged over 10 minutes prior to 9am\n",
    "WindSpeed3pm -Wind speed (km/hr) averaged over 10 minutes prior to 3pm\n",
    "Humidity9am -Humidity (percent) at 9am\n",
    "Humidity3pm -Humidity (percent) at 3pm\n",
    "Pressure9am -Atmospheric pressure (hpa) reduced to mean sea level at 9am\n",
    "Pressure3pm -Atmospheric pressure (hpa) reduced to mean sea level at 3pm\n",
    "Cloud9am - Fraction of sky obscured by cloud at 9am. \n",
    "Cloud3pm -Fraction of sky obscured by cloud \n",
    "Temp9am-Temperature (degrees C) at 9am\n",
    "Temp3pm -Temperature (degrees C) at 3pm\n",
    "RainToday -Boolean: 1 if precipitation (mm) in the 24 hours to 9am exceeds 1mm, otherwise 0\n",
    "RainTomorrow -The amount of next day rain in mm. Used to create response variable . A kind of measure of the \"risk\".\n",
    "\n",
    "##### Dataset Link-  \n",
    "•\thttps://raw.githubusercontent.com/dsrscientist/dataset3/main/weatherAUS.csv\n",
    "•\thttps://github.com/dsrscientist/dataset3\n"
   ]
  },
  {
   "cell_type": "markdown",
   "id": "2787f6a7",
   "metadata": {},
   "source": [
    "# Importing necessary libraries¶"
   ]
  },
  {
   "cell_type": "code",
   "execution_count": 1,
   "id": "89d93cb6",
   "metadata": {},
   "outputs": [],
   "source": [
    "import pandas as pd\n",
    "import numpy as np\n",
    "import matplotlib.pyplot as plt\n",
    "import seaborn as sns\n",
    "\n",
    "import warnings\n",
    "warnings.filterwarnings('ignore')"
   ]
  },
  {
   "cell_type": "markdown",
   "id": "4a13a867",
   "metadata": {},
   "source": [
    "# Loading dataset"
   ]
  },
  {
   "cell_type": "code",
   "execution_count": 2,
   "id": "a2a32461",
   "metadata": {},
   "outputs": [
    {
     "data": {
      "text/html": [
       "<div>\n",
       "<style scoped>\n",
       "    .dataframe tbody tr th:only-of-type {\n",
       "        vertical-align: middle;\n",
       "    }\n",
       "\n",
       "    .dataframe tbody tr th {\n",
       "        vertical-align: top;\n",
       "    }\n",
       "\n",
       "    .dataframe thead th {\n",
       "        text-align: right;\n",
       "    }\n",
       "</style>\n",
       "<table border=\"1\" class=\"dataframe\">\n",
       "  <thead>\n",
       "    <tr style=\"text-align: right;\">\n",
       "      <th></th>\n",
       "      <th>Date</th>\n",
       "      <th>Location</th>\n",
       "      <th>MinTemp</th>\n",
       "      <th>MaxTemp</th>\n",
       "      <th>Rainfall</th>\n",
       "      <th>Evaporation</th>\n",
       "      <th>Sunshine</th>\n",
       "      <th>WindGustDir</th>\n",
       "      <th>WindGustSpeed</th>\n",
       "      <th>WindDir9am</th>\n",
       "      <th>...</th>\n",
       "      <th>Humidity9am</th>\n",
       "      <th>Humidity3pm</th>\n",
       "      <th>Pressure9am</th>\n",
       "      <th>Pressure3pm</th>\n",
       "      <th>Cloud9am</th>\n",
       "      <th>Cloud3pm</th>\n",
       "      <th>Temp9am</th>\n",
       "      <th>Temp3pm</th>\n",
       "      <th>RainToday</th>\n",
       "      <th>RainTomorrow</th>\n",
       "    </tr>\n",
       "  </thead>\n",
       "  <tbody>\n",
       "    <tr>\n",
       "      <th>0</th>\n",
       "      <td>12/1/2008</td>\n",
       "      <td>Albury</td>\n",
       "      <td>13.4</td>\n",
       "      <td>22.9</td>\n",
       "      <td>0.6</td>\n",
       "      <td>NaN</td>\n",
       "      <td>NaN</td>\n",
       "      <td>W</td>\n",
       "      <td>44.0</td>\n",
       "      <td>W</td>\n",
       "      <td>...</td>\n",
       "      <td>71.0</td>\n",
       "      <td>22.0</td>\n",
       "      <td>1007.7</td>\n",
       "      <td>1007.1</td>\n",
       "      <td>8.0</td>\n",
       "      <td>NaN</td>\n",
       "      <td>16.9</td>\n",
       "      <td>21.8</td>\n",
       "      <td>No</td>\n",
       "      <td>No</td>\n",
       "    </tr>\n",
       "    <tr>\n",
       "      <th>1</th>\n",
       "      <td>12/2/2008</td>\n",
       "      <td>Albury</td>\n",
       "      <td>7.4</td>\n",
       "      <td>25.1</td>\n",
       "      <td>0.0</td>\n",
       "      <td>NaN</td>\n",
       "      <td>NaN</td>\n",
       "      <td>WNW</td>\n",
       "      <td>44.0</td>\n",
       "      <td>NNW</td>\n",
       "      <td>...</td>\n",
       "      <td>44.0</td>\n",
       "      <td>25.0</td>\n",
       "      <td>1010.6</td>\n",
       "      <td>1007.8</td>\n",
       "      <td>NaN</td>\n",
       "      <td>NaN</td>\n",
       "      <td>17.2</td>\n",
       "      <td>24.3</td>\n",
       "      <td>No</td>\n",
       "      <td>No</td>\n",
       "    </tr>\n",
       "    <tr>\n",
       "      <th>2</th>\n",
       "      <td>12/3/2008</td>\n",
       "      <td>Albury</td>\n",
       "      <td>12.9</td>\n",
       "      <td>25.7</td>\n",
       "      <td>0.0</td>\n",
       "      <td>NaN</td>\n",
       "      <td>NaN</td>\n",
       "      <td>WSW</td>\n",
       "      <td>46.0</td>\n",
       "      <td>W</td>\n",
       "      <td>...</td>\n",
       "      <td>38.0</td>\n",
       "      <td>30.0</td>\n",
       "      <td>1007.6</td>\n",
       "      <td>1008.7</td>\n",
       "      <td>NaN</td>\n",
       "      <td>2.0</td>\n",
       "      <td>21.0</td>\n",
       "      <td>23.2</td>\n",
       "      <td>No</td>\n",
       "      <td>No</td>\n",
       "    </tr>\n",
       "    <tr>\n",
       "      <th>3</th>\n",
       "      <td>12/4/2008</td>\n",
       "      <td>Albury</td>\n",
       "      <td>9.2</td>\n",
       "      <td>28.0</td>\n",
       "      <td>0.0</td>\n",
       "      <td>NaN</td>\n",
       "      <td>NaN</td>\n",
       "      <td>NE</td>\n",
       "      <td>24.0</td>\n",
       "      <td>SE</td>\n",
       "      <td>...</td>\n",
       "      <td>45.0</td>\n",
       "      <td>16.0</td>\n",
       "      <td>1017.6</td>\n",
       "      <td>1012.8</td>\n",
       "      <td>NaN</td>\n",
       "      <td>NaN</td>\n",
       "      <td>18.1</td>\n",
       "      <td>26.5</td>\n",
       "      <td>No</td>\n",
       "      <td>No</td>\n",
       "    </tr>\n",
       "    <tr>\n",
       "      <th>4</th>\n",
       "      <td>12/5/2008</td>\n",
       "      <td>Albury</td>\n",
       "      <td>17.5</td>\n",
       "      <td>32.3</td>\n",
       "      <td>1.0</td>\n",
       "      <td>NaN</td>\n",
       "      <td>NaN</td>\n",
       "      <td>W</td>\n",
       "      <td>41.0</td>\n",
       "      <td>ENE</td>\n",
       "      <td>...</td>\n",
       "      <td>82.0</td>\n",
       "      <td>33.0</td>\n",
       "      <td>1010.8</td>\n",
       "      <td>1006.0</td>\n",
       "      <td>7.0</td>\n",
       "      <td>8.0</td>\n",
       "      <td>17.8</td>\n",
       "      <td>29.7</td>\n",
       "      <td>No</td>\n",
       "      <td>No</td>\n",
       "    </tr>\n",
       "  </tbody>\n",
       "</table>\n",
       "<p>5 rows × 23 columns</p>\n",
       "</div>"
      ],
      "text/plain": [
       "        Date Location  MinTemp  MaxTemp  Rainfall  Evaporation  Sunshine  \\\n",
       "0  12/1/2008   Albury     13.4     22.9       0.6          NaN       NaN   \n",
       "1  12/2/2008   Albury      7.4     25.1       0.0          NaN       NaN   \n",
       "2  12/3/2008   Albury     12.9     25.7       0.0          NaN       NaN   \n",
       "3  12/4/2008   Albury      9.2     28.0       0.0          NaN       NaN   \n",
       "4  12/5/2008   Albury     17.5     32.3       1.0          NaN       NaN   \n",
       "\n",
       "  WindGustDir  WindGustSpeed WindDir9am  ... Humidity9am  Humidity3pm  \\\n",
       "0           W           44.0          W  ...        71.0         22.0   \n",
       "1         WNW           44.0        NNW  ...        44.0         25.0   \n",
       "2         WSW           46.0          W  ...        38.0         30.0   \n",
       "3          NE           24.0         SE  ...        45.0         16.0   \n",
       "4           W           41.0        ENE  ...        82.0         33.0   \n",
       "\n",
       "   Pressure9am  Pressure3pm  Cloud9am  Cloud3pm  Temp9am  Temp3pm  RainToday  \\\n",
       "0       1007.7       1007.1       8.0       NaN     16.9     21.8         No   \n",
       "1       1010.6       1007.8       NaN       NaN     17.2     24.3         No   \n",
       "2       1007.6       1008.7       NaN       2.0     21.0     23.2         No   \n",
       "3       1017.6       1012.8       NaN       NaN     18.1     26.5         No   \n",
       "4       1010.8       1006.0       7.0       8.0     17.8     29.7         No   \n",
       "\n",
       "   RainTomorrow  \n",
       "0            No  \n",
       "1            No  \n",
       "2            No  \n",
       "3            No  \n",
       "4            No  \n",
       "\n",
       "[5 rows x 23 columns]"
      ]
     },
     "execution_count": 2,
     "metadata": {},
     "output_type": "execute_result"
    }
   ],
   "source": [
    "df = pd.read_csv(\"C:\\\\Users\\\\suven\\\\OneDrive\\\\Desktop\\\\Internship\\\\Evaluation Projects\\\\Third Phase\\\\Rainfall weather forecasting\\\\weatherAUS.csv\")\n",
    "df.head()"
   ]
  },
  {
   "cell_type": "code",
   "execution_count": 3,
   "id": "17698d90",
   "metadata": {},
   "outputs": [
    {
     "data": {
      "text/html": [
       "<div>\n",
       "<style scoped>\n",
       "    .dataframe tbody tr th:only-of-type {\n",
       "        vertical-align: middle;\n",
       "    }\n",
       "\n",
       "    .dataframe tbody tr th {\n",
       "        vertical-align: top;\n",
       "    }\n",
       "\n",
       "    .dataframe thead th {\n",
       "        text-align: right;\n",
       "    }\n",
       "</style>\n",
       "<table border=\"1\" class=\"dataframe\">\n",
       "  <thead>\n",
       "    <tr style=\"text-align: right;\">\n",
       "      <th></th>\n",
       "      <th>Date</th>\n",
       "      <th>Location</th>\n",
       "      <th>MinTemp</th>\n",
       "      <th>MaxTemp</th>\n",
       "      <th>Rainfall</th>\n",
       "      <th>Evaporation</th>\n",
       "      <th>Sunshine</th>\n",
       "      <th>WindGustDir</th>\n",
       "      <th>WindGustSpeed</th>\n",
       "      <th>WindDir9am</th>\n",
       "      <th>...</th>\n",
       "      <th>Humidity9am</th>\n",
       "      <th>Humidity3pm</th>\n",
       "      <th>Pressure9am</th>\n",
       "      <th>Pressure3pm</th>\n",
       "      <th>Cloud9am</th>\n",
       "      <th>Cloud3pm</th>\n",
       "      <th>Temp9am</th>\n",
       "      <th>Temp3pm</th>\n",
       "      <th>RainToday</th>\n",
       "      <th>RainTomorrow</th>\n",
       "    </tr>\n",
       "  </thead>\n",
       "  <tbody>\n",
       "    <tr>\n",
       "      <th>8420</th>\n",
       "      <td>6/21/2017</td>\n",
       "      <td>Uluru</td>\n",
       "      <td>2.8</td>\n",
       "      <td>23.4</td>\n",
       "      <td>0.0</td>\n",
       "      <td>NaN</td>\n",
       "      <td>NaN</td>\n",
       "      <td>E</td>\n",
       "      <td>31.0</td>\n",
       "      <td>SE</td>\n",
       "      <td>...</td>\n",
       "      <td>51.0</td>\n",
       "      <td>24.0</td>\n",
       "      <td>1024.6</td>\n",
       "      <td>1020.3</td>\n",
       "      <td>NaN</td>\n",
       "      <td>NaN</td>\n",
       "      <td>10.1</td>\n",
       "      <td>22.4</td>\n",
       "      <td>No</td>\n",
       "      <td>No</td>\n",
       "    </tr>\n",
       "    <tr>\n",
       "      <th>8421</th>\n",
       "      <td>6/22/2017</td>\n",
       "      <td>Uluru</td>\n",
       "      <td>3.6</td>\n",
       "      <td>25.3</td>\n",
       "      <td>0.0</td>\n",
       "      <td>NaN</td>\n",
       "      <td>NaN</td>\n",
       "      <td>NNW</td>\n",
       "      <td>22.0</td>\n",
       "      <td>SE</td>\n",
       "      <td>...</td>\n",
       "      <td>56.0</td>\n",
       "      <td>21.0</td>\n",
       "      <td>1023.5</td>\n",
       "      <td>1019.1</td>\n",
       "      <td>NaN</td>\n",
       "      <td>NaN</td>\n",
       "      <td>10.9</td>\n",
       "      <td>24.5</td>\n",
       "      <td>No</td>\n",
       "      <td>No</td>\n",
       "    </tr>\n",
       "    <tr>\n",
       "      <th>8422</th>\n",
       "      <td>6/23/2017</td>\n",
       "      <td>Uluru</td>\n",
       "      <td>5.4</td>\n",
       "      <td>26.9</td>\n",
       "      <td>0.0</td>\n",
       "      <td>NaN</td>\n",
       "      <td>NaN</td>\n",
       "      <td>N</td>\n",
       "      <td>37.0</td>\n",
       "      <td>SE</td>\n",
       "      <td>...</td>\n",
       "      <td>53.0</td>\n",
       "      <td>24.0</td>\n",
       "      <td>1021.0</td>\n",
       "      <td>1016.8</td>\n",
       "      <td>NaN</td>\n",
       "      <td>NaN</td>\n",
       "      <td>12.5</td>\n",
       "      <td>26.1</td>\n",
       "      <td>No</td>\n",
       "      <td>No</td>\n",
       "    </tr>\n",
       "    <tr>\n",
       "      <th>8423</th>\n",
       "      <td>6/24/2017</td>\n",
       "      <td>Uluru</td>\n",
       "      <td>7.8</td>\n",
       "      <td>27.0</td>\n",
       "      <td>0.0</td>\n",
       "      <td>NaN</td>\n",
       "      <td>NaN</td>\n",
       "      <td>SE</td>\n",
       "      <td>28.0</td>\n",
       "      <td>SSE</td>\n",
       "      <td>...</td>\n",
       "      <td>51.0</td>\n",
       "      <td>24.0</td>\n",
       "      <td>1019.4</td>\n",
       "      <td>1016.5</td>\n",
       "      <td>3.0</td>\n",
       "      <td>2.0</td>\n",
       "      <td>15.1</td>\n",
       "      <td>26.0</td>\n",
       "      <td>No</td>\n",
       "      <td>No</td>\n",
       "    </tr>\n",
       "    <tr>\n",
       "      <th>8424</th>\n",
       "      <td>6/25/2017</td>\n",
       "      <td>Uluru</td>\n",
       "      <td>14.9</td>\n",
       "      <td>NaN</td>\n",
       "      <td>0.0</td>\n",
       "      <td>NaN</td>\n",
       "      <td>NaN</td>\n",
       "      <td>NaN</td>\n",
       "      <td>NaN</td>\n",
       "      <td>ESE</td>\n",
       "      <td>...</td>\n",
       "      <td>62.0</td>\n",
       "      <td>36.0</td>\n",
       "      <td>1020.2</td>\n",
       "      <td>1017.9</td>\n",
       "      <td>8.0</td>\n",
       "      <td>8.0</td>\n",
       "      <td>15.0</td>\n",
       "      <td>20.9</td>\n",
       "      <td>No</td>\n",
       "      <td>NaN</td>\n",
       "    </tr>\n",
       "  </tbody>\n",
       "</table>\n",
       "<p>5 rows × 23 columns</p>\n",
       "</div>"
      ],
      "text/plain": [
       "           Date Location  MinTemp  MaxTemp  Rainfall  Evaporation  Sunshine  \\\n",
       "8420  6/21/2017    Uluru      2.8     23.4       0.0          NaN       NaN   \n",
       "8421  6/22/2017    Uluru      3.6     25.3       0.0          NaN       NaN   \n",
       "8422  6/23/2017    Uluru      5.4     26.9       0.0          NaN       NaN   \n",
       "8423  6/24/2017    Uluru      7.8     27.0       0.0          NaN       NaN   \n",
       "8424  6/25/2017    Uluru     14.9      NaN       0.0          NaN       NaN   \n",
       "\n",
       "     WindGustDir  WindGustSpeed WindDir9am  ... Humidity9am  Humidity3pm  \\\n",
       "8420           E           31.0         SE  ...        51.0         24.0   \n",
       "8421         NNW           22.0         SE  ...        56.0         21.0   \n",
       "8422           N           37.0         SE  ...        53.0         24.0   \n",
       "8423          SE           28.0        SSE  ...        51.0         24.0   \n",
       "8424         NaN            NaN        ESE  ...        62.0         36.0   \n",
       "\n",
       "      Pressure9am  Pressure3pm  Cloud9am  Cloud3pm  Temp9am  Temp3pm  \\\n",
       "8420       1024.6       1020.3       NaN       NaN     10.1     22.4   \n",
       "8421       1023.5       1019.1       NaN       NaN     10.9     24.5   \n",
       "8422       1021.0       1016.8       NaN       NaN     12.5     26.1   \n",
       "8423       1019.4       1016.5       3.0       2.0     15.1     26.0   \n",
       "8424       1020.2       1017.9       8.0       8.0     15.0     20.9   \n",
       "\n",
       "      RainToday  RainTomorrow  \n",
       "8420         No            No  \n",
       "8421         No            No  \n",
       "8422         No            No  \n",
       "8423         No            No  \n",
       "8424         No           NaN  \n",
       "\n",
       "[5 rows x 23 columns]"
      ]
     },
     "execution_count": 3,
     "metadata": {},
     "output_type": "execute_result"
    }
   ],
   "source": [
    "df.tail()"
   ]
  },
  {
   "cell_type": "code",
   "execution_count": 4,
   "id": "221f632f",
   "metadata": {},
   "outputs": [
    {
     "data": {
      "text/plain": [
       "(8425, 23)"
      ]
     },
     "execution_count": 4,
     "metadata": {},
     "output_type": "execute_result"
    }
   ],
   "source": [
    "# checking rows and columns in dataset\n",
    "df.shape"
   ]
  },
  {
   "cell_type": "markdown",
   "id": "1fbb5af8",
   "metadata": {},
   "source": [
    "- There are 8425 rows and 23 columns in the dataset\n",
    "- Out of these columns; 1 is target variable and rest 22 columns are features"
   ]
  },
  {
   "cell_type": "code",
   "execution_count": 5,
   "id": "3ad7d37d",
   "metadata": {},
   "outputs": [
    {
     "data": {
      "text/plain": [
       "Index(['Date', 'Location', 'MinTemp', 'MaxTemp', 'Rainfall', 'Evaporation',\n",
       "       'Sunshine', 'WindGustDir', 'WindGustSpeed', 'WindDir9am', 'WindDir3pm',\n",
       "       'WindSpeed9am', 'WindSpeed3pm', 'Humidity9am', 'Humidity3pm',\n",
       "       'Pressure9am', 'Pressure3pm', 'Cloud9am', 'Cloud3pm', 'Temp9am',\n",
       "       'Temp3pm', 'RainToday', 'RainTomorrow'],\n",
       "      dtype='object')"
      ]
     },
     "execution_count": 5,
     "metadata": {},
     "output_type": "execute_result"
    }
   ],
   "source": [
    "# seeing all the columns\n",
    "df.columns"
   ]
  },
  {
   "cell_type": "markdown",
   "id": "26392f1d",
   "metadata": {},
   "source": [
    "- for classification predictive model; 'RainTomorrow' is target variable and rest all are features\n",
    "- for regression predictive model; 'Rainfall'is target variable and rest all are features"
   ]
  },
  {
   "cell_type": "code",
   "execution_count": 6,
   "id": "5f8a1bc6",
   "metadata": {},
   "outputs": [
    {
     "data": {
      "text/plain": [
       "Date              object\n",
       "Location          object\n",
       "MinTemp          float64\n",
       "MaxTemp          float64\n",
       "Rainfall         float64\n",
       "Evaporation      float64\n",
       "Sunshine         float64\n",
       "WindGustDir       object\n",
       "WindGustSpeed    float64\n",
       "WindDir9am        object\n",
       "WindDir3pm        object\n",
       "WindSpeed9am     float64\n",
       "WindSpeed3pm     float64\n",
       "Humidity9am      float64\n",
       "Humidity3pm      float64\n",
       "Pressure9am      float64\n",
       "Pressure3pm      float64\n",
       "Cloud9am         float64\n",
       "Cloud3pm         float64\n",
       "Temp9am          float64\n",
       "Temp3pm          float64\n",
       "RainToday         object\n",
       "RainTomorrow      object\n",
       "dtype: object"
      ]
     },
     "execution_count": 6,
     "metadata": {},
     "output_type": "execute_result"
    }
   ],
   "source": [
    "# Checking the datatypes of each column\n",
    "df.dtypes"
   ]
  },
  {
   "cell_type": "markdown",
   "id": "553b97a8",
   "metadata": {},
   "source": [
    "- There are 7 non-numeric ; object type data fields. These will be transformed to numeric data type later.\n",
    "- There are 16 numeric; float64 type data fields\n",
    "- The column header match the datatypes in the columns"
   ]
  },
  {
   "cell_type": "code",
   "execution_count": 7,
   "id": "5b25ff71",
   "metadata": {},
   "outputs": [
    {
     "name": "stdout",
     "output_type": "stream",
     "text": [
      "<class 'pandas.core.frame.DataFrame'>\n",
      "RangeIndex: 8425 entries, 0 to 8424\n",
      "Data columns (total 23 columns):\n",
      " #   Column         Non-Null Count  Dtype  \n",
      "---  ------         --------------  -----  \n",
      " 0   Date           8425 non-null   object \n",
      " 1   Location       8425 non-null   object \n",
      " 2   MinTemp        8350 non-null   float64\n",
      " 3   MaxTemp        8365 non-null   float64\n",
      " 4   Rainfall       8185 non-null   float64\n",
      " 5   Evaporation    4913 non-null   float64\n",
      " 6   Sunshine       4431 non-null   float64\n",
      " 7   WindGustDir    7434 non-null   object \n",
      " 8   WindGustSpeed  7434 non-null   float64\n",
      " 9   WindDir9am     7596 non-null   object \n",
      " 10  WindDir3pm     8117 non-null   object \n",
      " 11  WindSpeed9am   8349 non-null   float64\n",
      " 12  WindSpeed3pm   8318 non-null   float64\n",
      " 13  Humidity9am    8366 non-null   float64\n",
      " 14  Humidity3pm    8323 non-null   float64\n",
      " 15  Pressure9am    7116 non-null   float64\n",
      " 16  Pressure3pm    7113 non-null   float64\n",
      " 17  Cloud9am       6004 non-null   float64\n",
      " 18  Cloud3pm       5970 non-null   float64\n",
      " 19  Temp9am        8369 non-null   float64\n",
      " 20  Temp3pm        8329 non-null   float64\n",
      " 21  RainToday      8185 non-null   object \n",
      " 22  RainTomorrow   8186 non-null   object \n",
      "dtypes: float64(16), object(7)\n",
      "memory usage: 1.5+ MB\n"
     ]
    }
   ],
   "source": [
    "# seeing more info about dataset at a glance\n",
    "df.info()"
   ]
  },
  {
   "cell_type": "markdown",
   "id": "58a6a18b",
   "metadata": {},
   "source": [
    "- There are some missing/null values in the dataset. We will check them and treat them.\n",
    "- There are 23 columns and 6762 rows in dataset.\n",
    "- There are 7 non-numeric ; object type data fields. These will be transformed to numeric data type later.\n",
    "- There are 16 numeric; float64 type data fields"
   ]
  },
  {
   "cell_type": "code",
   "execution_count": 8,
   "id": "974474b3",
   "metadata": {},
   "outputs": [
    {
     "data": {
      "text/plain": [
       "Date                0\n",
       "Location            0\n",
       "MinTemp            75\n",
       "MaxTemp            60\n",
       "Rainfall          240\n",
       "Evaporation      3512\n",
       "Sunshine         3994\n",
       "WindGustDir       991\n",
       "WindGustSpeed     991\n",
       "WindDir9am        829\n",
       "WindDir3pm        308\n",
       "WindSpeed9am       76\n",
       "WindSpeed3pm      107\n",
       "Humidity9am        59\n",
       "Humidity3pm       102\n",
       "Pressure9am      1309\n",
       "Pressure3pm      1312\n",
       "Cloud9am         2421\n",
       "Cloud3pm         2455\n",
       "Temp9am            56\n",
       "Temp3pm            96\n",
       "RainToday         240\n",
       "RainTomorrow      239\n",
       "dtype: int64"
      ]
     },
     "execution_count": 8,
     "metadata": {},
     "output_type": "execute_result"
    }
   ],
   "source": [
    "# checking null/missing values\n",
    "df.isna().sum()"
   ]
  },
  {
   "cell_type": "markdown",
   "id": "35c19b1c",
   "metadata": {},
   "source": [
    "- Except Date and Location, rest all the columns have missing/null values. \n",
    "- These will be treated later. The numerical columns will be imputed with the column's mean or median (depending on skewness) and the non-numeric fields will be imputed with the mode of the column.\n"
   ]
  },
  {
   "cell_type": "code",
   "execution_count": 9,
   "id": "f5df37a8",
   "metadata": {},
   "outputs": [
    {
     "data": {
      "text/plain": [
       "MinTemp          -0.089588\n",
       "MaxTemp           0.379297\n",
       "Rainfall         13.028837\n",
       "Evaporation      10.710605\n",
       "Sunshine         -0.519717\n",
       "WindGustSpeed     0.711103\n",
       "WindSpeed9am      0.956250\n",
       "WindSpeed3pm      0.491069\n",
       "Humidity9am      -0.255843\n",
       "Humidity3pm       0.117563\n",
       "Pressure9am      -0.022133\n",
       "Pressure3pm      -0.009385\n",
       "Cloud9am         -0.309417\n",
       "Cloud3pm         -0.232598\n",
       "Temp9am          -0.014699\n",
       "Temp3pm           0.395061\n",
       "dtype: float64"
      ]
     },
     "execution_count": 9,
     "metadata": {},
     "output_type": "execute_result"
    }
   ],
   "source": [
    "# Checking skewness\n",
    "df.skew()"
   ]
  },
  {
   "cell_type": "markdown",
   "id": "d9a74de8",
   "metadata": {},
   "source": [
    "- All the fields have mild skewness but Rainfall and Evaporation are heavily positively skewed."
   ]
  },
  {
   "cell_type": "code",
   "execution_count": 10,
   "id": "9ee55ff2",
   "metadata": {},
   "outputs": [
    {
     "data": {
      "text/html": [
       "<div>\n",
       "<style scoped>\n",
       "    .dataframe tbody tr th:only-of-type {\n",
       "        vertical-align: middle;\n",
       "    }\n",
       "\n",
       "    .dataframe tbody tr th {\n",
       "        vertical-align: top;\n",
       "    }\n",
       "\n",
       "    .dataframe thead th {\n",
       "        text-align: right;\n",
       "    }\n",
       "</style>\n",
       "<table border=\"1\" class=\"dataframe\">\n",
       "  <thead>\n",
       "    <tr style=\"text-align: right;\">\n",
       "      <th></th>\n",
       "      <th>count</th>\n",
       "      <th>mean</th>\n",
       "      <th>std</th>\n",
       "      <th>min</th>\n",
       "      <th>25%</th>\n",
       "      <th>50%</th>\n",
       "      <th>75%</th>\n",
       "      <th>max</th>\n",
       "    </tr>\n",
       "  </thead>\n",
       "  <tbody>\n",
       "    <tr>\n",
       "      <th>MinTemp</th>\n",
       "      <td>8350.0</td>\n",
       "      <td>13.193305</td>\n",
       "      <td>5.403596</td>\n",
       "      <td>-2.0</td>\n",
       "      <td>9.20</td>\n",
       "      <td>13.3</td>\n",
       "      <td>17.4</td>\n",
       "      <td>28.5</td>\n",
       "    </tr>\n",
       "    <tr>\n",
       "      <th>MaxTemp</th>\n",
       "      <td>8365.0</td>\n",
       "      <td>23.859976</td>\n",
       "      <td>6.136408</td>\n",
       "      <td>8.2</td>\n",
       "      <td>19.30</td>\n",
       "      <td>23.3</td>\n",
       "      <td>28.0</td>\n",
       "      <td>45.5</td>\n",
       "    </tr>\n",
       "    <tr>\n",
       "      <th>Rainfall</th>\n",
       "      <td>8185.0</td>\n",
       "      <td>2.805913</td>\n",
       "      <td>10.459379</td>\n",
       "      <td>0.0</td>\n",
       "      <td>0.00</td>\n",
       "      <td>0.0</td>\n",
       "      <td>1.0</td>\n",
       "      <td>371.0</td>\n",
       "    </tr>\n",
       "    <tr>\n",
       "      <th>Evaporation</th>\n",
       "      <td>4913.0</td>\n",
       "      <td>5.389395</td>\n",
       "      <td>5.044484</td>\n",
       "      <td>0.0</td>\n",
       "      <td>2.60</td>\n",
       "      <td>4.6</td>\n",
       "      <td>7.0</td>\n",
       "      <td>145.0</td>\n",
       "    </tr>\n",
       "    <tr>\n",
       "      <th>Sunshine</th>\n",
       "      <td>4431.0</td>\n",
       "      <td>7.632205</td>\n",
       "      <td>3.896235</td>\n",
       "      <td>0.0</td>\n",
       "      <td>4.75</td>\n",
       "      <td>8.7</td>\n",
       "      <td>10.7</td>\n",
       "      <td>13.9</td>\n",
       "    </tr>\n",
       "    <tr>\n",
       "      <th>WindGustSpeed</th>\n",
       "      <td>7434.0</td>\n",
       "      <td>40.174469</td>\n",
       "      <td>14.665721</td>\n",
       "      <td>7.0</td>\n",
       "      <td>30.00</td>\n",
       "      <td>39.0</td>\n",
       "      <td>50.0</td>\n",
       "      <td>107.0</td>\n",
       "    </tr>\n",
       "    <tr>\n",
       "      <th>WindSpeed9am</th>\n",
       "      <td>8349.0</td>\n",
       "      <td>13.847646</td>\n",
       "      <td>10.174579</td>\n",
       "      <td>0.0</td>\n",
       "      <td>6.00</td>\n",
       "      <td>13.0</td>\n",
       "      <td>20.0</td>\n",
       "      <td>63.0</td>\n",
       "    </tr>\n",
       "    <tr>\n",
       "      <th>WindSpeed3pm</th>\n",
       "      <td>8318.0</td>\n",
       "      <td>18.533662</td>\n",
       "      <td>9.766986</td>\n",
       "      <td>0.0</td>\n",
       "      <td>11.00</td>\n",
       "      <td>19.0</td>\n",
       "      <td>24.0</td>\n",
       "      <td>83.0</td>\n",
       "    </tr>\n",
       "    <tr>\n",
       "      <th>Humidity9am</th>\n",
       "      <td>8366.0</td>\n",
       "      <td>67.822496</td>\n",
       "      <td>16.833283</td>\n",
       "      <td>10.0</td>\n",
       "      <td>56.00</td>\n",
       "      <td>68.0</td>\n",
       "      <td>80.0</td>\n",
       "      <td>100.0</td>\n",
       "    </tr>\n",
       "    <tr>\n",
       "      <th>Humidity3pm</th>\n",
       "      <td>8323.0</td>\n",
       "      <td>51.249790</td>\n",
       "      <td>18.423774</td>\n",
       "      <td>6.0</td>\n",
       "      <td>39.00</td>\n",
       "      <td>51.0</td>\n",
       "      <td>63.0</td>\n",
       "      <td>99.0</td>\n",
       "    </tr>\n",
       "    <tr>\n",
       "      <th>Pressure9am</th>\n",
       "      <td>7116.0</td>\n",
       "      <td>1017.640233</td>\n",
       "      <td>6.828699</td>\n",
       "      <td>989.8</td>\n",
       "      <td>1013.00</td>\n",
       "      <td>1017.7</td>\n",
       "      <td>1022.3</td>\n",
       "      <td>1039.0</td>\n",
       "    </tr>\n",
       "    <tr>\n",
       "      <th>Pressure3pm</th>\n",
       "      <td>7113.0</td>\n",
       "      <td>1015.236075</td>\n",
       "      <td>6.766681</td>\n",
       "      <td>982.9</td>\n",
       "      <td>1010.40</td>\n",
       "      <td>1015.3</td>\n",
       "      <td>1019.8</td>\n",
       "      <td>1036.0</td>\n",
       "    </tr>\n",
       "    <tr>\n",
       "      <th>Cloud9am</th>\n",
       "      <td>6004.0</td>\n",
       "      <td>4.566622</td>\n",
       "      <td>2.877658</td>\n",
       "      <td>0.0</td>\n",
       "      <td>1.00</td>\n",
       "      <td>5.0</td>\n",
       "      <td>7.0</td>\n",
       "      <td>8.0</td>\n",
       "    </tr>\n",
       "    <tr>\n",
       "      <th>Cloud3pm</th>\n",
       "      <td>5970.0</td>\n",
       "      <td>4.503183</td>\n",
       "      <td>2.731659</td>\n",
       "      <td>0.0</td>\n",
       "      <td>2.00</td>\n",
       "      <td>5.0</td>\n",
       "      <td>7.0</td>\n",
       "      <td>8.0</td>\n",
       "    </tr>\n",
       "    <tr>\n",
       "      <th>Temp9am</th>\n",
       "      <td>8369.0</td>\n",
       "      <td>17.762015</td>\n",
       "      <td>5.627035</td>\n",
       "      <td>1.9</td>\n",
       "      <td>13.80</td>\n",
       "      <td>17.8</td>\n",
       "      <td>21.9</td>\n",
       "      <td>39.4</td>\n",
       "    </tr>\n",
       "    <tr>\n",
       "      <th>Temp3pm</th>\n",
       "      <td>8329.0</td>\n",
       "      <td>22.442934</td>\n",
       "      <td>5.980020</td>\n",
       "      <td>7.3</td>\n",
       "      <td>18.00</td>\n",
       "      <td>21.9</td>\n",
       "      <td>26.4</td>\n",
       "      <td>44.1</td>\n",
       "    </tr>\n",
       "  </tbody>\n",
       "</table>\n",
       "</div>"
      ],
      "text/plain": [
       "                count         mean        std    min      25%     50%     75%  \\\n",
       "MinTemp        8350.0    13.193305   5.403596   -2.0     9.20    13.3    17.4   \n",
       "MaxTemp        8365.0    23.859976   6.136408    8.2    19.30    23.3    28.0   \n",
       "Rainfall       8185.0     2.805913  10.459379    0.0     0.00     0.0     1.0   \n",
       "Evaporation    4913.0     5.389395   5.044484    0.0     2.60     4.6     7.0   \n",
       "Sunshine       4431.0     7.632205   3.896235    0.0     4.75     8.7    10.7   \n",
       "WindGustSpeed  7434.0    40.174469  14.665721    7.0    30.00    39.0    50.0   \n",
       "WindSpeed9am   8349.0    13.847646  10.174579    0.0     6.00    13.0    20.0   \n",
       "WindSpeed3pm   8318.0    18.533662   9.766986    0.0    11.00    19.0    24.0   \n",
       "Humidity9am    8366.0    67.822496  16.833283   10.0    56.00    68.0    80.0   \n",
       "Humidity3pm    8323.0    51.249790  18.423774    6.0    39.00    51.0    63.0   \n",
       "Pressure9am    7116.0  1017.640233   6.828699  989.8  1013.00  1017.7  1022.3   \n",
       "Pressure3pm    7113.0  1015.236075   6.766681  982.9  1010.40  1015.3  1019.8   \n",
       "Cloud9am       6004.0     4.566622   2.877658    0.0     1.00     5.0     7.0   \n",
       "Cloud3pm       5970.0     4.503183   2.731659    0.0     2.00     5.0     7.0   \n",
       "Temp9am        8369.0    17.762015   5.627035    1.9    13.80    17.8    21.9   \n",
       "Temp3pm        8329.0    22.442934   5.980020    7.3    18.00    21.9    26.4   \n",
       "\n",
       "                  max  \n",
       "MinTemp          28.5  \n",
       "MaxTemp          45.5  \n",
       "Rainfall        371.0  \n",
       "Evaporation     145.0  \n",
       "Sunshine         13.9  \n",
       "WindGustSpeed   107.0  \n",
       "WindSpeed9am     63.0  \n",
       "WindSpeed3pm     83.0  \n",
       "Humidity9am     100.0  \n",
       "Humidity3pm      99.0  \n",
       "Pressure9am    1039.0  \n",
       "Pressure3pm    1036.0  \n",
       "Cloud9am          8.0  \n",
       "Cloud3pm          8.0  \n",
       "Temp9am          39.4  \n",
       "Temp3pm          44.1  "
      ]
     },
     "execution_count": 10,
     "metadata": {},
     "output_type": "execute_result"
    }
   ],
   "source": [
    "# Checking statistical summary of dataset\n",
    "df.describe().T"
   ]
  },
  {
   "cell_type": "markdown",
   "id": "65fb372d",
   "metadata": {},
   "source": [
    "- MinTemp is lightly negatively skewed as mean is slightly greater than median.\n",
    "- MaxTemp is lightly positively skewed as mean is slightly greater than median.\n",
    "- Rainfall is positively skewed as mean is greater than median. There seems to be presence of outliers.\n",
    "- Evaporation is positively skewed as mean is greater than median. There seems to be presence of outliers.\n",
    "- Sunshine is  negatively skewed as mean is lesser than median.\n",
    "- WindGustSpeed is lightly positively skewed as mean is slightly greater than median.\n",
    "- WindSpeed9am is lightly positively skewed as mean is slightly greater than median.\n",
    "- WindSpeed3pm is lightly negatively skewed as mean is slightly greater than median.\n",
    "- Humidity9am is lightly negatively skewed as mean is slightly greater than median.\n",
    "- Humidity3pm is lightly positively skewed as mean is slightly greater than median.\n",
    "- Pressure9am is lightly negatively skewed as mean is slightly greater than median.\n",
    "- Pressure3pm is lightly negatively skewed as mean is slightly greater than median.\n",
    "- Cloud9am is lightly negatively skewed as mean is slightly greater than median.\n",
    "- Cloud3pm is lightly negatively skewed as mean is slightly greater than median.\n",
    "- Temp9am is lightly negatively skewed as mean is slightly greater than median.\n",
    "- Temp3pm is lightly positively skewed as mean is slightly greater than median.\n",
    "- the skewness will be treated and outliers will be checked.\n"
   ]
  },
  {
   "cell_type": "markdown",
   "id": "b129ea88",
   "metadata": {},
   "source": [
    "# Data Visualisation"
   ]
  },
  {
   "cell_type": "code",
   "execution_count": 11,
   "id": "2a19a7f3",
   "metadata": {},
   "outputs": [
    {
     "name": "stdout",
     "output_type": "stream",
     "text": [
      "Distribution Plot for  Date\n",
      "Distribution Plot for  Location\n",
      "Distribution Plot for  MinTemp\n"
     ]
    },
    {
     "data": {
      "image/png": "[encoded data removed]",
      "text/plain": [
       "<Figure size 432x288 with 1 Axes>"
      ]
     },
     "metadata": {
      "needs_background": "light"
     },
     "output_type": "display_data"
    },
    {
     "name": "stdout",
     "output_type": "stream",
     "text": [
      "Distribution Plot for  MaxTemp\n"
     ]
    },
    {
     "data": {
      "image/png": "[encoded data removed]",
      "text/plain": [
       "<Figure size 432x288 with 1 Axes>"
      ]
     },
     "metadata": {
      "needs_background": "light"
     },
     "output_type": "display_data"
    },
    {
     "name": "stdout",
     "output_type": "stream",
     "text": [
      "Distribution Plot for  Rainfall\n"
     ]
    },
    {
     "data": {
      "image/png": "[encoded data removed]",
      "text/plain": [
       "<Figure size 432x288 with 1 Axes>"
      ]
     },
     "metadata": {
      "needs_background": "light"
     },
     "output_type": "display_data"
    },
    {
     "name": "stdout",
     "output_type": "stream",
     "text": [
      "Distribution Plot for  Evaporation\n"
     ]
    },
    {
     "data": {
      "image/png": "[encoded data removed]",
      "text/plain": [
       "<Figure size 432x288 with 1 Axes>"
      ]
     },
     "metadata": {
      "needs_background": "light"
     },
     "output_type": "display_data"
    },
    {
     "name": "stdout",
     "output_type": "stream",
     "text": [
      "Distribution Plot for  Sunshine\n"
     ]
    },
    {
     "data": {
      "image/png": "[encoded data removed]",
      "text/plain": [
       "<Figure size 432x288 with 1 Axes>"
      ]
     },
     "metadata": {
      "needs_background": "light"
     },
     "output_type": "display_data"
    },
    {
     "name": "stdout",
     "output_type": "stream",
     "text": [
      "Distribution Plot for  WindGustDir\n",
      "Distribution Plot for  WindGustSpeed\n"
     ]
    },
    {
     "data": {
      "image/png": "[encoded data removed]",
      "text/plain": [
       "<Figure size 432x288 with 1 Axes>"
      ]
     },
     "metadata": {
      "needs_background": "light"
     },
     "output_type": "display_data"
    },
    {
     "name": "stdout",
     "output_type": "stream",
     "text": [
      "Distribution Plot for  WindDir9am\n",
      "Distribution Plot for  WindDir3pm\n",
      "Distribution Plot for  WindSpeed9am\n"
     ]
    },
    {
     "data": {
      "image/png": "[encoded data removed]",
      "text/plain": [
       "<Figure size 432x288 with 1 Axes>"
      ]
     },
     "metadata": {
      "needs_background": "light"
     },
     "output_type": "display_data"
    },
    {
     "name": "stdout",
     "output_type": "stream",
     "text": [
      "Distribution Plot for  WindSpeed3pm\n"
     ]
    },
    {
     "data": {
      "image/png": "[encoded data removed]",
      "text/plain": [
       "<Figure size 432x288 with 1 Axes>"
      ]
     },
     "metadata": {
      "needs_background": "light"
     },
     "output_type": "display_data"
    },
    {
     "name": "stdout",
     "output_type": "stream",
     "text": [
      "Distribution Plot for  Humidity9am\n"
     ]
    },
    {
     "data": {
      "image/png": "[encoded data removed]",
      "text/plain": [
       "<Figure size 432x288 with 1 Axes>"
      ]
     },
     "metadata": {
      "needs_background": "light"
     },
     "output_type": "display_data"
    },
    {
     "name": "stdout",
     "output_type": "stream",
     "text": [
      "Distribution Plot for  Humidity3pm\n"
     ]
    },
    {
     "data": {
      "image/png": "[encoded data removed]",
      "text/plain": [
       "<Figure size 432x288 with 1 Axes>"
      ]
     },
     "metadata": {
      "needs_background": "light"
     },
     "output_type": "display_data"
    },
    {
     "name": "stdout",
     "output_type": "stream",
     "text": [
      "Distribution Plot for  Pressure9am\n"
     ]
    },
    {
     "data": {
      "image/png": "[encoded data removed]",
      "text/plain": [
       "<Figure size 432x288 with 1 Axes>"
      ]
     },
     "metadata": {
      "needs_background": "light"
     },
     "output_type": "display_data"
    },
    {
     "name": "stdout",
     "output_type": "stream",
     "text": [
      "Distribution Plot for  Pressure3pm\n"
     ]
    },
    {
     "data": {
      "image/png": "[encoded data removed]",
      "text/plain": [
       "<Figure size 432x288 with 1 Axes>"
      ]
     },
     "metadata": {
      "needs_background": "light"
     },
     "output_type": "display_data"
    },
    {
     "name": "stdout",
     "output_type": "stream",
     "text": [
      "Distribution Plot for  Cloud9am\n"
     ]
    },
    {
     "data": {
      "image/png": "[encoded data removed]",
      "text/plain": [
       "<Figure size 432x288 with 1 Axes>"
      ]
     },
     "metadata": {
      "needs_background": "light"
     },
     "output_type": "display_data"
    },
    {
     "name": "stdout",
     "output_type": "stream",
     "text": [
      "Distribution Plot for  Cloud3pm\n"
     ]
    },
    {
     "data": {
      "image/png": "[encoded data removed]",
      "text/plain": [
       "<Figure size 432x288 with 1 Axes>"
      ]
     },
     "metadata": {
      "needs_background": "light"
     },
     "output_type": "display_data"
    },
    {
     "name": "stdout",
     "output_type": "stream",
     "text": [
      "Distribution Plot for  Temp9am\n"
     ]
    },
    {
     "data": {
      "image/png": "[encoded data removed]",
      "text/plain": [
       "<Figure size 432x288 with 1 Axes>"
      ]
     },
     "metadata": {
      "needs_background": "light"
     },
     "output_type": "display_data"
    },
    {
     "name": "stdout",
     "output_type": "stream",
     "text": [
      "Distribution Plot for  Temp3pm\n"
     ]
    },
    {
     "data": {
      "image/png": "[encoded data removed]",
      "text/plain": [
       "<Figure size 432x288 with 1 Axes>"
      ]
     },
     "metadata": {
      "needs_background": "light"
     },
     "output_type": "display_data"
    },
    {
     "name": "stdout",
     "output_type": "stream",
     "text": [
      "Distribution Plot for  RainToday\n",
      "Distribution Plot for  RainTomorrow\n"
     ]
    }
   ],
   "source": [
    "# Let's visualise numerical fields on the distplot\n",
    "\n",
    "for i in df.columns:\n",
    "    print('Distribution Plot for ', i)\n",
    "    if df[i].dtypes!='object':\n",
    "        sns.distplot(x=df[i],kde=True)\n",
    "        plt.show()"
   ]
  },
  {
   "cell_type": "markdown",
   "id": "8df4c980",
   "metadata": {},
   "source": [
    "- MinTemp looks like a perfect Gaussian curve . Majority of the values are in the range of 10 to 20.\n",
    "- Max Temp curve also looks like a perfect normal curve . Most of the values lie in the range of 20 to 30.\n",
    "- Rainfall is positively skewed.\n",
    "- Evaporation - Majority of the values lies near to zero. Which seems like there is skewness in the data.\n",
    "- WindSpeed9am and 3pm show the same trend. We will concatenate these two and create an Average of the two column.\n",
    "- Both Humidity 9am and 3pm has the same trend. We will concatenate these two and create an Average of the two column.\n",
    "- Both Pressure 9am and 3pm has the same trend.We will concatenate these two and create an Average of the two column.\n",
    "- Both Cloud 9am and 3pm has the same trend. We will concatenate these two and create an Average of the two column.\n",
    "- Both Temp 9am and 3pm has the same trend. We will concatenate these two and create an Average of the two column."
   ]
  },
  {
   "cell_type": "code",
   "execution_count": 12,
   "id": "5f42cda3",
   "metadata": {},
   "outputs": [],
   "source": [
    "df['Avg_WindSpeed']=(df['WindSpeed9am']+df['WindSpeed3pm'])/2\n",
    "\n",
    "df['Avg_Humidity']=(df['Humidity9am']+df['Humidity3pm'])/2\n",
    "\n",
    "df['Avg_Cloud']=(df['Cloud9am']+df['Cloud3pm'])/2\n",
    "\n",
    "df['Avg_Temp'] = (df['Temp9am']+df['Temp3pm'])/2\n",
    "\n",
    "df['Avg_Pressure']=(df['Pressure9am']+df['Pressure3pm'])/2\n"
   ]
  },
  {
   "cell_type": "code",
   "execution_count": 13,
   "id": "2f4a1bf7",
   "metadata": {},
   "outputs": [
    {
     "data": {
      "text/html": [
       "<div>\n",
       "<style scoped>\n",
       "    .dataframe tbody tr th:only-of-type {\n",
       "        vertical-align: middle;\n",
       "    }\n",
       "\n",
       "    .dataframe tbody tr th {\n",
       "        vertical-align: top;\n",
       "    }\n",
       "\n",
       "    .dataframe thead th {\n",
       "        text-align: right;\n",
       "    }\n",
       "</style>\n",
       "<table border=\"1\" class=\"dataframe\">\n",
       "  <thead>\n",
       "    <tr style=\"text-align: right;\">\n",
       "      <th></th>\n",
       "      <th>Location</th>\n",
       "      <th>MinTemp</th>\n",
       "      <th>MaxTemp</th>\n",
       "      <th>Rainfall</th>\n",
       "      <th>Evaporation</th>\n",
       "      <th>Sunshine</th>\n",
       "      <th>WindGustDir</th>\n",
       "      <th>WindGustSpeed</th>\n",
       "      <th>WindDir9am</th>\n",
       "      <th>WindDir3pm</th>\n",
       "      <th>RainToday</th>\n",
       "      <th>RainTomorrow</th>\n",
       "      <th>Avg_WindSpeed</th>\n",
       "      <th>Avg_Humidity</th>\n",
       "      <th>Avg_Cloud</th>\n",
       "      <th>Avg_Temp</th>\n",
       "      <th>Avg_Pressure</th>\n",
       "    </tr>\n",
       "  </thead>\n",
       "  <tbody>\n",
       "    <tr>\n",
       "      <th>0</th>\n",
       "      <td>Albury</td>\n",
       "      <td>13.4</td>\n",
       "      <td>22.9</td>\n",
       "      <td>0.6</td>\n",
       "      <td>NaN</td>\n",
       "      <td>NaN</td>\n",
       "      <td>W</td>\n",
       "      <td>44.0</td>\n",
       "      <td>W</td>\n",
       "      <td>WNW</td>\n",
       "      <td>No</td>\n",
       "      <td>No</td>\n",
       "      <td>22.0</td>\n",
       "      <td>46.5</td>\n",
       "      <td>NaN</td>\n",
       "      <td>19.35</td>\n",
       "      <td>1007.40</td>\n",
       "    </tr>\n",
       "    <tr>\n",
       "      <th>1</th>\n",
       "      <td>Albury</td>\n",
       "      <td>7.4</td>\n",
       "      <td>25.1</td>\n",
       "      <td>0.0</td>\n",
       "      <td>NaN</td>\n",
       "      <td>NaN</td>\n",
       "      <td>WNW</td>\n",
       "      <td>44.0</td>\n",
       "      <td>NNW</td>\n",
       "      <td>WSW</td>\n",
       "      <td>No</td>\n",
       "      <td>No</td>\n",
       "      <td>13.0</td>\n",
       "      <td>34.5</td>\n",
       "      <td>NaN</td>\n",
       "      <td>20.75</td>\n",
       "      <td>1009.20</td>\n",
       "    </tr>\n",
       "    <tr>\n",
       "      <th>2</th>\n",
       "      <td>Albury</td>\n",
       "      <td>12.9</td>\n",
       "      <td>25.7</td>\n",
       "      <td>0.0</td>\n",
       "      <td>NaN</td>\n",
       "      <td>NaN</td>\n",
       "      <td>WSW</td>\n",
       "      <td>46.0</td>\n",
       "      <td>W</td>\n",
       "      <td>WSW</td>\n",
       "      <td>No</td>\n",
       "      <td>No</td>\n",
       "      <td>22.5</td>\n",
       "      <td>34.0</td>\n",
       "      <td>NaN</td>\n",
       "      <td>22.10</td>\n",
       "      <td>1008.15</td>\n",
       "    </tr>\n",
       "    <tr>\n",
       "      <th>3</th>\n",
       "      <td>Albury</td>\n",
       "      <td>9.2</td>\n",
       "      <td>28.0</td>\n",
       "      <td>0.0</td>\n",
       "      <td>NaN</td>\n",
       "      <td>NaN</td>\n",
       "      <td>NE</td>\n",
       "      <td>24.0</td>\n",
       "      <td>SE</td>\n",
       "      <td>E</td>\n",
       "      <td>No</td>\n",
       "      <td>No</td>\n",
       "      <td>10.0</td>\n",
       "      <td>30.5</td>\n",
       "      <td>NaN</td>\n",
       "      <td>22.30</td>\n",
       "      <td>1015.20</td>\n",
       "    </tr>\n",
       "    <tr>\n",
       "      <th>4</th>\n",
       "      <td>Albury</td>\n",
       "      <td>17.5</td>\n",
       "      <td>32.3</td>\n",
       "      <td>1.0</td>\n",
       "      <td>NaN</td>\n",
       "      <td>NaN</td>\n",
       "      <td>W</td>\n",
       "      <td>41.0</td>\n",
       "      <td>ENE</td>\n",
       "      <td>NW</td>\n",
       "      <td>No</td>\n",
       "      <td>No</td>\n",
       "      <td>13.5</td>\n",
       "      <td>57.5</td>\n",
       "      <td>7.5</td>\n",
       "      <td>23.75</td>\n",
       "      <td>1008.40</td>\n",
       "    </tr>\n",
       "  </tbody>\n",
       "</table>\n",
       "</div>"
      ],
      "text/plain": [
       "  Location  MinTemp  MaxTemp  Rainfall  Evaporation  Sunshine WindGustDir  \\\n",
       "0   Albury     13.4     22.9       0.6          NaN       NaN           W   \n",
       "1   Albury      7.4     25.1       0.0          NaN       NaN         WNW   \n",
       "2   Albury     12.9     25.7       0.0          NaN       NaN         WSW   \n",
       "3   Albury      9.2     28.0       0.0          NaN       NaN          NE   \n",
       "4   Albury     17.5     32.3       1.0          NaN       NaN           W   \n",
       "\n",
       "   WindGustSpeed WindDir9am WindDir3pm RainToday RainTomorrow  Avg_WindSpeed  \\\n",
       "0           44.0          W        WNW        No           No           22.0   \n",
       "1           44.0        NNW        WSW        No           No           13.0   \n",
       "2           46.0          W        WSW        No           No           22.5   \n",
       "3           24.0         SE          E        No           No           10.0   \n",
       "4           41.0        ENE         NW        No           No           13.5   \n",
       "\n",
       "   Avg_Humidity  Avg_Cloud  Avg_Temp  Avg_Pressure  \n",
       "0          46.5        NaN     19.35       1007.40  \n",
       "1          34.5        NaN     20.75       1009.20  \n",
       "2          34.0        NaN     22.10       1008.15  \n",
       "3          30.5        NaN     22.30       1015.20  \n",
       "4          57.5        7.5     23.75       1008.40  "
      ]
     },
     "execution_count": 13,
     "metadata": {},
     "output_type": "execute_result"
    }
   ],
   "source": [
    "# Since Averages have been created therefore now we can remove the columns that were concatenated to create Avg columns\n",
    "# Also, removing as it will not contribute to model building\n",
    "df = df.drop(columns = ['Date', 'WindSpeed9am', 'WindSpeed3pm', 'Humidity9am', 'Humidity3pm', 'Cloud9am', 'Cloud3pm', 'Temp9am', 'Temp3pm', 'Pressure9am', 'Pressure3pm'], axis=1)\n",
    "\n",
    "df.head()"
   ]
  },
  {
   "cell_type": "code",
   "execution_count": 14,
   "id": "2a0d8971",
   "metadata": {},
   "outputs": [
    {
     "data": {
      "image/png": "[encoded data removed]",
      "text/plain": [
       "<Figure size 432x288 with 1 Axes>"
      ]
     },
     "metadata": {
      "needs_background": "light"
     },
     "output_type": "display_data"
    },
    {
     "data": {
      "image/png": "[encoded data removed]",
      "text/plain": [
       "<Figure size 432x288 with 1 Axes>"
      ]
     },
     "metadata": {
      "needs_background": "light"
     },
     "output_type": "display_data"
    },
    {
     "data": {
      "image/png": "[encoded data removed]",
      "text/plain": [
       "<Figure size 432x288 with 1 Axes>"
      ]
     },
     "metadata": {
      "needs_background": "light"
     },
     "output_type": "display_data"
    },
    {
     "data": {
      "image/png": "[encoded data removed]",
      "text/plain": [
       "<Figure size 432x288 with 1 Axes>"
      ]
     },
     "metadata": {
      "needs_background": "light"
     },
     "output_type": "display_data"
    },
    {
     "data": {
      "image/png": "[encoded data removed]",
      "text/plain": [
       "<Figure size 432x288 with 1 Axes>"
      ]
     },
     "metadata": {
      "needs_background": "light"
     },
     "output_type": "display_data"
    }
   ],
   "source": [
    "avg_columns = ['Avg_WindSpeed', 'Avg_Humidity', 'Avg_Cloud', 'Avg_Temp', 'Avg_Pressure']\n",
    "\n",
    "for column in avg_columns:\n",
    "    plt.figure()\n",
    "    sns.distplot(df[column])"
   ]
  },
  {
   "cell_type": "code",
   "execution_count": 15,
   "id": "ea9b5328",
   "metadata": {},
   "outputs": [
    {
     "name": "stdout",
     "output_type": "stream",
     "text": [
      "Count Plot for  Location\n",
      "Melbourne       1622\n",
      "Williamtown     1230\n",
      "PerthAirport    1204\n",
      "Albury           907\n",
      "Newcastle        822\n",
      "CoffsHarbour     611\n",
      "Brisbane         579\n",
      "Penrith          482\n",
      "Wollongong       474\n",
      "Darwin           250\n",
      "Adelaide         205\n",
      "Uluru             39\n",
      "Name: Location, dtype: int64\n",
      "Melbourne       0.192522\n",
      "Williamtown     0.145994\n",
      "PerthAirport    0.142908\n",
      "Albury          0.107656\n",
      "Newcastle       0.097567\n",
      "CoffsHarbour    0.072522\n",
      "Brisbane        0.068724\n",
      "Penrith         0.057211\n",
      "Wollongong      0.056261\n",
      "Darwin          0.029674\n",
      "Adelaide        0.024332\n",
      "Uluru           0.004629\n",
      "Name: Location, dtype: float64\n"
     ]
    },
    {
     "data": {
      "image/png": "[encoded data removed]",
      "text/plain": [
       "<Figure size 432x288 with 1 Axes>"
      ]
     },
     "metadata": {
      "needs_background": "light"
     },
     "output_type": "display_data"
    },
    {
     "name": "stdout",
     "output_type": "stream",
     "text": [
      "Count Plot for  MinTemp\n",
      "Count Plot for  MaxTemp\n",
      "Count Plot for  Rainfall\n",
      "Count Plot for  Evaporation\n",
      "Count Plot for  Sunshine\n",
      "Count Plot for  WindGustDir\n",
      "N      713\n",
      "SSE    578\n",
      "S      577\n",
      "SW     572\n",
      "E      557\n",
      "WNW    531\n",
      "W      507\n",
      "WSW    504\n",
      "SE     484\n",
      "ENE    415\n",
      "SSW    396\n",
      "NW     383\n",
      "NE     353\n",
      "NNE    343\n",
      "ESE    302\n",
      "NNW    219\n",
      "Name: WindGustDir, dtype: int64\n",
      "N      0.095911\n",
      "SSE    0.077751\n",
      "S      0.077616\n",
      "SW     0.076944\n",
      "E      0.074926\n",
      "WNW    0.071429\n",
      "W      0.068200\n",
      "WSW    0.067797\n",
      "SE     0.065106\n",
      "ENE    0.055825\n",
      "SSW    0.053269\n",
      "NW     0.051520\n",
      "NE     0.047485\n",
      "NNE    0.046139\n",
      "ESE    0.040624\n",
      "NNW    0.029459\n",
      "Name: WindGustDir, dtype: float64\n"
     ]
    },
    {
     "data": {
      "image/png": "[encoded data removed]",
      "text/plain": [
       "<Figure size 432x288 with 1 Axes>"
      ]
     },
     "metadata": {
      "needs_background": "light"
     },
     "output_type": "display_data"
    },
    {
     "name": "stdout",
     "output_type": "stream",
     "text": [
      "Count Plot for  WindGustSpeed\n",
      "Count Plot for  WindDir9am\n",
      "N      906\n",
      "SW     704\n",
      "NW     625\n",
      "WSW    543\n",
      "SE     505\n",
      "WNW    480\n",
      "SSW    467\n",
      "ENE    433\n",
      "NNE    430\n",
      "W      414\n",
      "NE     409\n",
      "S      402\n",
      "E      380\n",
      "SSE    365\n",
      "NNW    280\n",
      "ESE    253\n",
      "Name: WindDir9am, dtype: int64\n",
      "N      0.119273\n",
      "SW     0.092680\n",
      "NW     0.082280\n",
      "WSW    0.071485\n",
      "SE     0.066482\n",
      "WNW    0.063191\n",
      "SSW    0.061480\n",
      "ENE    0.057004\n",
      "NNE    0.056609\n",
      "W      0.054502\n",
      "NE     0.053844\n",
      "S      0.052923\n",
      "E      0.050026\n",
      "SSE    0.048052\n",
      "NNW    0.036862\n",
      "ESE    0.033307\n",
      "Name: WindDir9am, dtype: float64\n"
     ]
    },
    {
     "data": {
      "image/png": "[encoded data removed]",
      "text/plain": [
       "<Figure size 432x288 with 1 Axes>"
      ]
     },
     "metadata": {
      "needs_background": "light"
     },
     "output_type": "display_data"
    },
    {
     "name": "stdout",
     "output_type": "stream",
     "text": [
      "Count Plot for  WindDir3pm\n",
      "SE     813\n",
      "S      742\n",
      "SSE    623\n",
      "WSW    580\n",
      "NE     544\n",
      "N      524\n",
      "SW     494\n",
      "WNW    487\n",
      "NW     468\n",
      "W      462\n",
      "ESE    462\n",
      "E      460\n",
      "ENE    417\n",
      "SSW    370\n",
      "NNE    365\n",
      "NNW    306\n",
      "Name: WindDir3pm, dtype: int64\n",
      "SE     0.100160\n",
      "S      0.091413\n",
      "SSE    0.076752\n",
      "WSW    0.071455\n",
      "NE     0.067020\n",
      "N      0.064556\n",
      "SW     0.060860\n",
      "WNW    0.059998\n",
      "NW     0.057657\n",
      "W      0.056918\n",
      "ESE    0.056918\n",
      "E      0.056671\n",
      "ENE    0.051374\n",
      "SSW    0.045583\n",
      "NNE    0.044967\n",
      "NNW    0.037699\n",
      "Name: WindDir3pm, dtype: float64\n"
     ]
    },
    {
     "data": {
      "image/png": "[encoded data removed]",
      "text/plain": [
       "<Figure size 432x288 with 1 Axes>"
      ]
     },
     "metadata": {
      "needs_background": "light"
     },
     "output_type": "display_data"
    },
    {
     "name": "stdout",
     "output_type": "stream",
     "text": [
      "Count Plot for  RainToday\n",
      "No     6195\n",
      "Yes    1990\n",
      "Name: RainToday, dtype: int64\n",
      "No     0.756872\n",
      "Yes    0.243128\n",
      "Name: RainToday, dtype: float64\n"
     ]
    },
    {
     "data": {
      "image/png": "[encoded data removed]",
      "text/plain": [
       "<Figure size 432x288 with 1 Axes>"
      ]
     },
     "metadata": {
      "needs_background": "light"
     },
     "output_type": "display_data"
    },
    {
     "name": "stdout",
     "output_type": "stream",
     "text": [
      "Count Plot for  RainTomorrow\n",
      "No     6195\n",
      "Yes    1991\n",
      "Name: RainTomorrow, dtype: int64\n",
      "No     0.75678\n",
      "Yes    0.24322\n",
      "Name: RainTomorrow, dtype: float64\n"
     ]
    },
    {
     "data": {
      "image/png": "[encoded data removed]",
      "text/plain": [
       "<Figure size 432x288 with 1 Axes>"
      ]
     },
     "metadata": {
      "needs_background": "light"
     },
     "output_type": "display_data"
    },
    {
     "name": "stdout",
     "output_type": "stream",
     "text": [
      "Count Plot for  Avg_WindSpeed\n",
      "Count Plot for  Avg_Humidity\n",
      "Count Plot for  Avg_Cloud\n",
      "Count Plot for  Avg_Temp\n",
      "Count Plot for  Avg_Pressure\n"
     ]
    }
   ],
   "source": [
    "# Next let's check the variables with the target (classification) variable 'Raintomorrow'\n",
    "for i in df.columns:\n",
    "    print('Count Plot for ', i)\n",
    "    if df[i].dtypes=='object':\n",
    "        ax = sns.countplot(x=df[i], hue = df['RainTomorrow'])\n",
    "        ax.set_xticklabels(ax.get_xticklabels(), rotation=40, ha=\"right\")\n",
    "        plt.tight_layout()\n",
    "        print(df[i].value_counts())\n",
    "        print(df[i].value_counts(normalize=True))\n",
    "        plt.show()"
   ]
  },
  {
   "cell_type": "code",
   "execution_count": 16,
   "id": "c55677b4",
   "metadata": {},
   "outputs": [
    {
     "data": {
      "image/png": "[encoded data removed]",
      "text/plain": [
       "<Figure size 1440x432 with 1 Axes>"
      ]
     },
     "metadata": {
      "needs_background": "light"
     },
     "output_type": "display_data"
    }
   ],
   "source": [
    "# Check outliers using boxplot\n",
    "# Checking for outliers\n",
    "plt.figure(figsize=(20,6))\n",
    "sns.boxplot(data=df)\n",
    "plt.xticks(rotation=90)\n",
    "plt.show()"
   ]
  },
  {
   "cell_type": "markdown",
   "id": "f17f2f9f",
   "metadata": {},
   "source": [
    "- Some features have outliers"
   ]
  },
  {
   "cell_type": "markdown",
   "id": "71f08100",
   "metadata": {},
   "source": [
    "# Imputing and Encoding "
   ]
  },
  {
   "cell_type": "code",
   "execution_count": 17,
   "id": "f5fd5154",
   "metadata": {},
   "outputs": [],
   "source": [
    "# Imputing categorical columns with their mode value\n",
    "\n",
    "for i in df.columns:\n",
    "    if df[i].dtypes == 'object':\n",
    "        df[i] = df[i].fillna(df[i].mode()[0])\n",
    "           "
   ]
  },
  {
   "cell_type": "code",
   "execution_count": 18,
   "id": "5e5bc8b7",
   "metadata": {},
   "outputs": [
    {
     "data": {
      "text/plain": [
       "MinTemp          -0.089588\n",
       "MaxTemp           0.379297\n",
       "Rainfall         13.028837\n",
       "Evaporation      10.710605\n",
       "Sunshine         -0.519717\n",
       "WindGustSpeed     0.711103\n",
       "Avg_WindSpeed     0.635448\n",
       "Avg_Humidity     -0.146745\n",
       "Avg_Cloud        -0.294976\n",
       "Avg_Temp          0.164084\n",
       "Avg_Pressure      0.005712\n",
       "dtype: float64"
      ]
     },
     "execution_count": 18,
     "metadata": {},
     "output_type": "execute_result"
    }
   ],
   "source": [
    "df.skew()"
   ]
  },
  {
   "cell_type": "code",
   "execution_count": 19,
   "id": "f487d2d5",
   "metadata": {},
   "outputs": [
    {
     "data": {
      "text/plain": [
       "Location            0\n",
       "MinTemp            75\n",
       "MaxTemp            60\n",
       "Rainfall          240\n",
       "Evaporation      3512\n",
       "Sunshine         3994\n",
       "WindGustDir         0\n",
       "WindGustSpeed     991\n",
       "WindDir9am          0\n",
       "WindDir3pm          0\n",
       "RainToday           0\n",
       "RainTomorrow        0\n",
       "Avg_WindSpeed     150\n",
       "Avg_Humidity      130\n",
       "Avg_Cloud        2840\n",
       "Avg_Temp          123\n",
       "Avg_Pressure     1316\n",
       "dtype: int64"
      ]
     },
     "execution_count": 19,
     "metadata": {},
     "output_type": "execute_result"
    }
   ],
   "source": [
    "df.isna().sum()"
   ]
  },
  {
   "cell_type": "code",
   "execution_count": null,
   "id": "2527a85d",
   "metadata": {},
   "outputs": [],
   "source": [
    "# Imputing continuous columns with their mean/median value"
   ]
  },
  {
   "cell_type": "code",
   "execution_count": 20,
   "id": "b6170aaa",
   "metadata": {},
   "outputs": [],
   "source": [
    "# Imputing MinTemp and MaxTemp with their mean value\n",
    "df['MinTemp'] = df['MinTemp'].fillna(df['MinTemp'].mean())\n",
    "df['MaxTemp'] = df['MaxTemp'].fillna(df['MaxTemp'].mean())\n",
    "df['Avg_Humidity'] = df['Avg_Humidity'].fillna(df['Avg_Humidity'].mean())\n",
    "df['Avg_Cloud'] = df['Avg_Cloud'].fillna(df['Avg_Cloud'].mean())\n",
    "df['Avg_Temp'] = df['Avg_Temp'].fillna(df['Avg_Temp'].mean())\n",
    "df['Avg_Pressure'] = df['Avg_Pressure'].fillna(df['Avg_Pressure'].mean())\n",
    "\n",
    "# Imputing Rainfall, Evaporation with their median as they show some skewness\n",
    "# Mean gets affected by skewness while median doesnt\n",
    "\n",
    "df['Rainfall'] = df['Rainfall'].fillna(df['Rainfall'].median())\n",
    "df['Evaporation'] = df['Evaporation'].fillna(df['Evaporation'].median())\n",
    "df['Sunshine'] = df['Sunshine'].fillna(df['Sunshine'].mean())\n",
    "df['WindGustSpeed'] = df['WindGustSpeed'].fillna(df['WindGustSpeed'].mean())\n",
    "df['Avg_WindSpeed'] = df['Avg_WindSpeed'].fillna(df['Avg_WindSpeed'].mean())"
   ]
  },
  {
   "cell_type": "code",
   "execution_count": 21,
   "id": "970eba4d",
   "metadata": {},
   "outputs": [
    {
     "data": {
      "text/plain": [
       "Location         0\n",
       "MinTemp          0\n",
       "MaxTemp          0\n",
       "Rainfall         0\n",
       "Evaporation      0\n",
       "Sunshine         0\n",
       "WindGustDir      0\n",
       "WindGustSpeed    0\n",
       "WindDir9am       0\n",
       "WindDir3pm       0\n",
       "RainToday        0\n",
       "RainTomorrow     0\n",
       "Avg_WindSpeed    0\n",
       "Avg_Humidity     0\n",
       "Avg_Cloud        0\n",
       "Avg_Temp         0\n",
       "Avg_Pressure     0\n",
       "dtype: int64"
      ]
     },
     "execution_count": 21,
     "metadata": {},
     "output_type": "execute_result"
    }
   ],
   "source": [
    "df.isna().sum()"
   ]
  },
  {
   "cell_type": "markdown",
   "id": "a8f82eee",
   "metadata": {},
   "source": [
    "- No column has missing/null values now"
   ]
  },
  {
   "cell_type": "code",
   "execution_count": 22,
   "id": "50299017",
   "metadata": {},
   "outputs": [],
   "source": [
    "# Next Encoding categorical columns to change their data type to numeric\n",
    "\n",
    "from sklearn.preprocessing import LabelEncoder\n",
    "le = LabelEncoder()\n",
    "for i in df.columns:\n",
    "    if df[i].dtypes == 'object':\n",
    "        df[i] = le.fit_transform(df[i])\n"
   ]
  },
  {
   "cell_type": "code",
   "execution_count": 23,
   "id": "8b46b422",
   "metadata": {},
   "outputs": [
    {
     "data": {
      "text/plain": [
       "Location           int32\n",
       "MinTemp          float64\n",
       "MaxTemp          float64\n",
       "Rainfall         float64\n",
       "Evaporation      float64\n",
       "Sunshine         float64\n",
       "WindGustDir        int32\n",
       "WindGustSpeed    float64\n",
       "WindDir9am         int32\n",
       "WindDir3pm         int32\n",
       "RainToday          int32\n",
       "RainTomorrow       int32\n",
       "Avg_WindSpeed    float64\n",
       "Avg_Humidity     float64\n",
       "Avg_Cloud        float64\n",
       "Avg_Temp         float64\n",
       "Avg_Pressure     float64\n",
       "dtype: object"
      ]
     },
     "execution_count": 23,
     "metadata": {},
     "output_type": "execute_result"
    }
   ],
   "source": [
    "df.dtypes"
   ]
  },
  {
   "cell_type": "markdown",
   "id": "eec60a46",
   "metadata": {},
   "source": [
    "- All categorical columns have been changed to numeric datatype"
   ]
  },
  {
   "cell_type": "code",
   "execution_count": 24,
   "id": "d002c302",
   "metadata": {},
   "outputs": [
    {
     "data": {
      "text/plain": [
       "<AxesSubplot:>"
      ]
     },
     "execution_count": 24,
     "metadata": {},
     "output_type": "execute_result"
    },
    {
     "data": {
      "image/png": "[encoded data removed]",
      "text/plain": [
       "<Figure size 864x720 with 2 Axes>"
      ]
     },
     "metadata": {
      "needs_background": "light"
     },
     "output_type": "display_data"
    }
   ],
   "source": [
    "# Now lets plot heatmap to check correlation\n",
    "\n",
    "plt.figure(figsize=(12,10))\n",
    "sns.heatmap(df.corr(), annot=True)"
   ]
  },
  {
   "cell_type": "markdown",
   "id": "189ba8a4",
   "metadata": {},
   "source": [
    "\n",
    "#### Multicollinearity\n",
    "The highest value for correlation matrix is 0.96 between Avg_Temp and Max_Temp, which shows a strong correlation between the two columns. Apart from that there is no such column with high correlation value. We will also check for multicollinearity using VIF."
   ]
  },
  {
   "cell_type": "markdown",
   "id": "cac98370",
   "metadata": {},
   "source": [
    "## Treating outliers"
   ]
  },
  {
   "cell_type": "code",
   "execution_count": 25,
   "id": "a19832be",
   "metadata": {},
   "outputs": [
    {
     "data": {
      "text/plain": [
       "(8425, 17)"
      ]
     },
     "execution_count": 25,
     "metadata": {},
     "output_type": "execute_result"
    }
   ],
   "source": [
    "from scipy.stats import zscore\n",
    "z = np.abs(zscore(df))\n",
    "z.shape"
   ]
  },
  {
   "cell_type": "code",
   "execution_count": 26,
   "id": "8e23891f",
   "metadata": {},
   "outputs": [
    {
     "name": "stdout",
     "output_type": "stream",
     "text": [
      "(array([  12,   44,   52,   60,   61,   62,   62,   62,   68,  123,  267,\n",
      "        381,  407,  431,  462,  563,  568,  602,  683,  699,  713,  748,\n",
      "        770,  796,  797,  802,  928,  935,  949,  979,  980,  980,  980,\n",
      "       1008, 1009, 1011, 1138, 1148, 1149, 1151, 1202, 1203, 1237, 1241,\n",
      "       1264, 1265, 1357, 1411, 1412, 1413, 1479, 1480, 1481, 1513, 1661,\n",
      "       1673, 1680, 1774, 1819, 1873, 1898, 1903, 2063, 2108, 2116, 2201,\n",
      "       2219, 2231, 2265, 2429, 2488, 2500, 2505, 2527, 2541, 2593, 2676,\n",
      "       2677, 2735, 2827, 2835, 2849, 2849, 2855, 2863, 2869, 2877, 2883,\n",
      "       2890, 2891, 2897, 2898, 2900, 2901, 2905, 2909, 2911, 2919, 2925,\n",
      "       2933, 2939, 2947, 2953, 2961, 2967, 2975, 2989, 3003, 3042, 3051,\n",
      "       3059, 3066, 3067, 3067, 3068, 3070, 3082, 3082, 3089, 3089, 3099,\n",
      "       3099, 3101, 3150, 3153, 3157, 3164, 3172, 3178, 3185, 3206, 3212,\n",
      "       3213, 3221, 3227, 3234, 3248, 3248, 3260, 3278, 3291, 3302, 3303,\n",
      "       3350, 3360, 3419, 3421, 3430, 3449, 3449, 3449, 3450, 3450, 3491,\n",
      "       3571, 3602, 3603, 3607, 3609, 3621, 3679, 3687, 3701, 3701, 3707,\n",
      "       3715, 3721, 3729, 3735, 3742, 3743, 3749, 3750, 3752, 3753, 3757,\n",
      "       3761, 3763, 3771, 3777, 3785, 3791, 3799, 3805, 3813, 3819, 3827,\n",
      "       3841, 3855, 3894, 3903, 3911, 3918, 3919, 3919, 3920, 3922, 3934,\n",
      "       3934, 3941, 3941, 3951, 3951, 3953, 4002, 4005, 4009, 4016, 4024,\n",
      "       4030, 4037, 4058, 4064, 4065, 4073, 4079, 4086, 4100, 4100, 4112,\n",
      "       4130, 4143, 4154, 4155, 4202, 4212, 4271, 4273, 4282, 4301, 4301,\n",
      "       4301, 4302, 4302, 4343, 4423, 4454, 4455, 4459, 4461, 4473, 4528,\n",
      "       4566, 4568, 4618, 4619, 4638, 4650, 4672, 4673, 4678, 4731, 4775,\n",
      "       4780, 4798, 4814, 4833, 4833, 4837, 4854, 4854, 4855, 4859, 4886,\n",
      "       4892, 4895, 4911, 4918, 4923, 4960, 4979, 5010, 5038, 5122, 5138,\n",
      "       5155, 5175, 5176, 5188, 5188, 5202, 5204, 5207, 5212, 5214, 5214,\n",
      "       5243, 5264, 5274, 5288, 5301, 5323, 5324, 5324, 5339, 5377, 5379,\n",
      "       5429, 5430, 5449, 5461, 5483, 5484, 5489, 5542, 5586, 5591, 5609,\n",
      "       5625, 5644, 5644, 5648, 5665, 5665, 5666, 5670, 5697, 5703, 5706,\n",
      "       5722, 5729, 5734, 5771, 5790, 5821, 5849, 5933, 5949, 5966, 5986,\n",
      "       5987, 5999, 5999, 6013, 6015, 6018, 6023, 6025, 6025, 6054, 6075,\n",
      "       6085, 6099, 6112, 6134, 6135, 6135, 6149, 6182, 6441, 6480, 6481,\n",
      "       6489, 6520, 6583, 6584, 6786, 6794, 6848, 6849, 6862, 6876, 6880,\n",
      "       6883, 6886, 6904, 6918, 6925, 6930, 6933, 6960, 6960, 6978, 7111,\n",
      "       7169, 7186, 7187, 7282, 7303, 7366, 7462, 7565, 7633, 7735, 7827,\n",
      "       7857, 7872, 7983, 7984, 7984, 8100, 8136, 8144, 8145, 8145, 8185],\n",
      "      dtype=int64), array([16,  2,  7,  2,  2,  2,  7, 15,  2,  7,  7,  7,  2,  3,  3,  7, 16,\n",
      "       16, 16,  3,  3, 16,  3,  3,  3,  3,  3,  3,  3,  3,  3,  7, 12,  3,\n",
      "        3,  3,  3,  3,  3,  3,  3,  3,  3,  3,  3,  3,  3,  3,  3,  3,  3,\n",
      "        3,  3,  3,  3,  3,  3,  3,  3,  3, 12, 12,  3,  3,  3,  3, 12,  3,\n",
      "        3,  3,  3,  7,  7,  2,  3,  3,  3,  3,  3,  4,  4,  3,  4,  4,  4,\n",
      "        4,  4,  4,  3,  4,  4,  3,  3,  3,  4,  3,  4,  4,  4,  4,  4,  4,\n",
      "        4,  4,  4,  4,  4,  3, 12,  3, 16,  7,  7, 12, 12,  7,  7, 12,  7,\n",
      "       12,  7, 12,  4,  4, 12,  4,  4,  4,  4,  4,  4, 16,  4,  4,  4,  7,\n",
      "        3,  4,  4,  2,  2,  2, 16,  3, 12,  3,  3,  3,  3,  7, 16,  7, 16,\n",
      "        7,  3,  7,  7,  3, 12,  3,  4,  4,  3,  4,  4,  4,  4,  4,  4,  3,\n",
      "        4,  4,  3,  3,  3,  4,  3,  4,  4,  4,  4,  4,  4,  4,  4,  4,  4,\n",
      "        4,  3, 12,  3, 16,  7,  7, 12, 12,  7,  7, 12,  7, 12,  7, 12,  4,\n",
      "        4, 12,  4,  4,  4,  4,  4,  4, 16,  4,  4,  4,  7,  3,  4,  4,  2,\n",
      "        2,  2, 16,  3, 12,  3,  3,  3,  3,  7, 16,  7, 16,  7,  3,  7,  7,\n",
      "        3, 12,  3, 16,  7,  3,  2,  4, 12,  3,  7,  3, 16, 12,  7, 16, 12,\n",
      "       16,  7, 12,  7, 12, 16,  7, 12, 12, 12, 16,  3, 12, 12, 16, 12,  3,\n",
      "       12, 16, 16, 12, 16, 16,  7, 12, 12,  7, 12, 12,  3, 16, 12,  7,  3,\n",
      "        3,  7, 12,  4, 12, 16,  7,  3,  2,  4, 12,  3,  7,  3, 16, 12,  7,\n",
      "       16, 12, 16,  7, 12,  7, 12, 16,  7, 12, 12, 12, 16,  3, 12, 12, 16,\n",
      "       12,  3, 12, 16, 16, 12, 16, 16,  7, 12, 12,  7, 12, 12,  3, 16, 12,\n",
      "        7,  3,  3,  7, 12,  4, 12,  3,  3,  3,  3,  3,  3,  3,  3,  3, 16,\n",
      "       16,  7,  4,  4,  4, 13,  4, 13,  4,  4,  4,  4, 13,  4,  7, 16,  3,\n",
      "        3, 16, 16,  3,  7, 13,  7,  7,  7, 16,  3,  3,  7,  2,  2, 15,  3,\n",
      "        3,  3,  3,  7,  3], dtype=int64))\n"
     ]
    }
   ],
   "source": [
    "#setting threshold as 3\n",
    "print(np.where (z>3)) # these are all the outliers"
   ]
  },
  {
   "cell_type": "code",
   "execution_count": 27,
   "id": "0081b931",
   "metadata": {},
   "outputs": [
    {
     "name": "stdout",
     "output_type": "stream",
     "text": [
      "shape of new dataset excluding outliers is:  (8064, 17)\n"
     ]
    }
   ],
   "source": [
    "# Removing the outlier \n",
    "df=df[(z<3).all(axis=1)]\n",
    "print(\"shape of new dataset excluding outliers is: \",df.shape)"
   ]
  },
  {
   "cell_type": "code",
   "execution_count": 28,
   "id": "53436c92",
   "metadata": {},
   "outputs": [
    {
     "data": {
      "text/plain": [
       "4.28486646884273"
      ]
     },
     "execution_count": 28,
     "metadata": {},
     "output_type": "execute_result"
    }
   ],
   "source": [
    "# data loss percentage for class problem\n",
    "\n",
    "loss_percentage_class= ((8425- 8064)/8425)*100\n",
    "loss_percentage_class"
   ]
  },
  {
   "cell_type": "markdown",
   "id": "5bb0425e",
   "metadata": {},
   "source": [
    "- The data loss is acceptable"
   ]
  },
  {
   "cell_type": "code",
   "execution_count": 29,
   "id": "453d852b",
   "metadata": {},
   "outputs": [
    {
     "data": {
      "text/plain": [
       "Location        -0.040809\n",
       "MinTemp         -0.083008\n",
       "MaxTemp          0.331997\n",
       "Rainfall         3.535592\n",
       "Evaporation      1.282857\n",
       "Sunshine        -0.721331\n",
       "WindGustDir      0.121628\n",
       "WindGustSpeed    0.507816\n",
       "WindDir9am       0.169365\n",
       "WindDir3pm      -0.124306\n",
       "RainToday        1.306659\n",
       "RainTomorrow     1.292357\n",
       "Avg_WindSpeed    0.422257\n",
       "Avg_Humidity    -0.154751\n",
       "Avg_Cloud       -0.358738\n",
       "Avg_Temp         0.136958\n",
       "Avg_Pressure     0.063209\n",
       "dtype: float64"
      ]
     },
     "execution_count": 29,
     "metadata": {},
     "output_type": "execute_result"
    }
   ],
   "source": [
    "# Now let's check skewness\n",
    "df.skew()"
   ]
  },
  {
   "cell_type": "markdown",
   "id": "1c9dc100",
   "metadata": {},
   "source": [
    "- skewnes has reduced considerably after removing outliers. We well treat skewness furthermore."
   ]
  },
  {
   "cell_type": "code",
   "execution_count": 30,
   "id": "6b21b3ac",
   "metadata": {},
   "outputs": [
    {
     "data": {
      "text/html": [
       "<div>\n",
       "<style scoped>\n",
       "    .dataframe tbody tr th:only-of-type {\n",
       "        vertical-align: middle;\n",
       "    }\n",
       "\n",
       "    .dataframe tbody tr th {\n",
       "        vertical-align: top;\n",
       "    }\n",
       "\n",
       "    .dataframe thead th {\n",
       "        text-align: right;\n",
       "    }\n",
       "</style>\n",
       "<table border=\"1\" class=\"dataframe\">\n",
       "  <thead>\n",
       "    <tr style=\"text-align: right;\">\n",
       "      <th></th>\n",
       "      <th>Independent Features</th>\n",
       "      <th>VIF Scores</th>\n",
       "    </tr>\n",
       "  </thead>\n",
       "  <tbody>\n",
       "    <tr>\n",
       "      <th>0</th>\n",
       "      <td>Location</td>\n",
       "      <td>4.949014</td>\n",
       "    </tr>\n",
       "    <tr>\n",
       "      <th>1</th>\n",
       "      <td>MinTemp</td>\n",
       "      <td>45.733409</td>\n",
       "    </tr>\n",
       "    <tr>\n",
       "      <th>2</th>\n",
       "      <td>MaxTemp</td>\n",
       "      <td>269.090804</td>\n",
       "    </tr>\n",
       "    <tr>\n",
       "      <th>3</th>\n",
       "      <td>Rainfall</td>\n",
       "      <td>2.283617</td>\n",
       "    </tr>\n",
       "    <tr>\n",
       "      <th>4</th>\n",
       "      <td>Evaporation</td>\n",
       "      <td>8.069044</td>\n",
       "    </tr>\n",
       "    <tr>\n",
       "      <th>5</th>\n",
       "      <td>Sunshine</td>\n",
       "      <td>16.602640</td>\n",
       "    </tr>\n",
       "    <tr>\n",
       "      <th>6</th>\n",
       "      <td>WindGustDir</td>\n",
       "      <td>5.197386</td>\n",
       "    </tr>\n",
       "    <tr>\n",
       "      <th>7</th>\n",
       "      <td>WindGustSpeed</td>\n",
       "      <td>22.809539</td>\n",
       "    </tr>\n",
       "    <tr>\n",
       "      <th>8</th>\n",
       "      <td>WindDir9am</td>\n",
       "      <td>4.610306</td>\n",
       "    </tr>\n",
       "    <tr>\n",
       "      <th>9</th>\n",
       "      <td>WindDir3pm</td>\n",
       "      <td>5.753190</td>\n",
       "    </tr>\n",
       "    <tr>\n",
       "      <th>10</th>\n",
       "      <td>RainToday</td>\n",
       "      <td>2.787236</td>\n",
       "    </tr>\n",
       "    <tr>\n",
       "      <th>11</th>\n",
       "      <td>RainTomorrow</td>\n",
       "      <td>1.781578</td>\n",
       "    </tr>\n",
       "    <tr>\n",
       "      <th>12</th>\n",
       "      <td>Avg_WindSpeed</td>\n",
       "      <td>10.390251</td>\n",
       "    </tr>\n",
       "    <tr>\n",
       "      <th>13</th>\n",
       "      <td>Avg_Humidity</td>\n",
       "      <td>40.613502</td>\n",
       "    </tr>\n",
       "    <tr>\n",
       "      <th>14</th>\n",
       "      <td>Avg_Cloud</td>\n",
       "      <td>11.009353</td>\n",
       "    </tr>\n",
       "    <tr>\n",
       "      <th>15</th>\n",
       "      <td>Avg_Temp</td>\n",
       "      <td>371.992743</td>\n",
       "    </tr>\n",
       "    <tr>\n",
       "      <th>16</th>\n",
       "      <td>Avg_Pressure</td>\n",
       "      <td>150.691786</td>\n",
       "    </tr>\n",
       "  </tbody>\n",
       "</table>\n",
       "</div>"
      ],
      "text/plain": [
       "   Independent Features  VIF Scores\n",
       "0              Location    4.949014\n",
       "1               MinTemp   45.733409\n",
       "2               MaxTemp  269.090804\n",
       "3              Rainfall    2.283617\n",
       "4           Evaporation    8.069044\n",
       "5              Sunshine   16.602640\n",
       "6           WindGustDir    5.197386\n",
       "7         WindGustSpeed   22.809539\n",
       "8            WindDir9am    4.610306\n",
       "9            WindDir3pm    5.753190\n",
       "10            RainToday    2.787236\n",
       "11         RainTomorrow    1.781578\n",
       "12        Avg_WindSpeed   10.390251\n",
       "13         Avg_Humidity   40.613502\n",
       "14            Avg_Cloud   11.009353\n",
       "15             Avg_Temp  371.992743\n",
       "16         Avg_Pressure  150.691786"
      ]
     },
     "execution_count": 30,
     "metadata": {},
     "output_type": "execute_result"
    }
   ],
   "source": [
    "# Checking multicollinearity\n",
    "#importing the VIF in jupyter\n",
    "from statsmodels.stats.outliers_influence import variance_inflation_factor\n",
    "new_df=pd.DataFrame(df)\n",
    "def vif_scores(df):\n",
    "    VIF_Scores = pd.DataFrame()\n",
    "    VIF_Scores[\"Independent Features\"] = new_df.columns\n",
    "    VIF_Scores[\"VIF Scores\"] = [variance_inflation_factor(new_df.values,i) for i in range(new_df.shape[1])]\n",
    "    return VIF_Scores\n",
    "df = new_df\n",
    "vif_scores(df)"
   ]
  },
  {
   "cell_type": "markdown",
   "id": "5f37cab3",
   "metadata": {},
   "source": [
    "# Part 1: Classification model for predicting 'RainTomorrow'"
   ]
  },
  {
   "cell_type": "code",
   "execution_count": 31,
   "id": "1b43b9c8",
   "metadata": {},
   "outputs": [
    {
     "name": "stdout",
     "output_type": "stream",
     "text": [
      "shape of x is:  (8064, 16)\n",
      "shape of y is:  (8064,)\n"
     ]
    }
   ],
   "source": [
    "# Splitting data into target and feature variables\n",
    "x = df.drop(['RainTomorrow'], axis=1)\n",
    "y = df['RainTomorrow']\n",
    "\n",
    "print(\"shape of x is: \",x.shape)\n",
    "print(\"shape of y is: \",y.shape)"
   ]
  },
  {
   "cell_type": "code",
   "execution_count": 32,
   "id": "f5e6afa6",
   "metadata": {},
   "outputs": [
    {
     "data": {
      "text/plain": [
       "array([[-1.56907068,  0.05804485, -0.07742182, ..., -0.02872765,\n",
       "        -0.09254839, -1.55616169],\n",
       "       [-1.56907068, -1.05933279,  0.28355632, ..., -0.02872765,\n",
       "         0.16090405, -1.24537284],\n",
       "       [-1.56907068, -0.0346254 ,  0.3787991 , ..., -0.02872765,\n",
       "         0.40102774, -1.42644486],\n",
       "       ...,\n",
       "       [ 1.0167344 , -1.43511405,  0.56548827, ..., -0.02872765,\n",
       "        -0.10168855,  0.39852523],\n",
       "       [ 1.0167344 , -0.9844179 ,  0.58082561, ..., -0.99505289,\n",
       "         0.12498149,  0.23979415],\n",
       "       [ 1.0167344 ,  0.33565971,  0.08245246, ...,  1.82564992,\n",
       "        -0.35091384,  0.42354358]])"
      ]
     },
     "execution_count": 32,
     "metadata": {},
     "output_type": "execute_result"
    }
   ],
   "source": [
    "# Removing skewness using power transform method\n",
    "\n",
    "from sklearn.preprocessing import power_transform\n",
    "X = power_transform(x, method = 'yeo-johnson')\n",
    "X"
   ]
  },
  {
   "cell_type": "code",
   "execution_count": 33,
   "id": "5ae65b42",
   "metadata": {},
   "outputs": [
    {
     "data": {
      "text/plain": [
       "0    -0.183843\n",
       "1    -0.103599\n",
       "2    -0.013560\n",
       "3     1.046315\n",
       "4     0.059934\n",
       "5    -0.064872\n",
       "6    -0.186735\n",
       "7     0.002406\n",
       "8    -0.156937\n",
       "9    -0.248650\n",
       "10    1.306659\n",
       "11   -0.056354\n",
       "12   -0.045731\n",
       "13   -0.158175\n",
       "14   -0.032610\n",
       "15   -0.000997\n",
       "dtype: float64"
      ]
     },
     "execution_count": 33,
     "metadata": {},
     "output_type": "execute_result"
    }
   ],
   "source": [
    "#checking for skewness is removed or not\n",
    "skew_df=pd.DataFrame(X)\n",
    "skew_df.skew()"
   ]
  },
  {
   "cell_type": "markdown",
   "id": "dc015504",
   "metadata": {},
   "source": [
    "- skewness has reduced considerably"
   ]
  },
  {
   "cell_type": "code",
   "execution_count": 34,
   "id": "8231f3f9",
   "metadata": {},
   "outputs": [],
   "source": [
    "from sklearn.preprocessing import StandardScaler\n",
    "scaler=StandardScaler()\n",
    "X = pd.DataFrame(scaler.fit_transform(x), columns=x.columns)"
   ]
  },
  {
   "cell_type": "code",
   "execution_count": 35,
   "id": "bc9debfb",
   "metadata": {},
   "outputs": [
    {
     "data": {
      "text/html": [
       "<div>\n",
       "<style scoped>\n",
       "    .dataframe tbody tr th:only-of-type {\n",
       "        vertical-align: middle;\n",
       "    }\n",
       "\n",
       "    .dataframe tbody tr th {\n",
       "        vertical-align: top;\n",
       "    }\n",
       "\n",
       "    .dataframe thead th {\n",
       "        text-align: right;\n",
       "    }\n",
       "</style>\n",
       "<table border=\"1\" class=\"dataframe\">\n",
       "  <thead>\n",
       "    <tr style=\"text-align: right;\">\n",
       "      <th></th>\n",
       "      <th>vif_Features</th>\n",
       "      <th>Features</th>\n",
       "    </tr>\n",
       "  </thead>\n",
       "  <tbody>\n",
       "    <tr>\n",
       "      <th>0</th>\n",
       "      <td>1.146736</td>\n",
       "      <td>Location</td>\n",
       "    </tr>\n",
       "    <tr>\n",
       "      <th>1</th>\n",
       "      <td>6.601815</td>\n",
       "      <td>MinTemp</td>\n",
       "    </tr>\n",
       "    <tr>\n",
       "      <th>2</th>\n",
       "      <td>16.296861</td>\n",
       "      <td>MaxTemp</td>\n",
       "    </tr>\n",
       "    <tr>\n",
       "      <th>3</th>\n",
       "      <td>1.977599</td>\n",
       "      <td>Rainfall</td>\n",
       "    </tr>\n",
       "    <tr>\n",
       "      <th>4</th>\n",
       "      <td>1.523365</td>\n",
       "      <td>Evaporation</td>\n",
       "    </tr>\n",
       "    <tr>\n",
       "      <th>5</th>\n",
       "      <td>1.931547</td>\n",
       "      <td>Sunshine</td>\n",
       "    </tr>\n",
       "    <tr>\n",
       "      <th>6</th>\n",
       "      <td>1.567220</td>\n",
       "      <td>WindGustDir</td>\n",
       "    </tr>\n",
       "    <tr>\n",
       "      <th>7</th>\n",
       "      <td>2.293584</td>\n",
       "      <td>WindGustSpeed</td>\n",
       "    </tr>\n",
       "    <tr>\n",
       "      <th>8</th>\n",
       "      <td>1.313067</td>\n",
       "      <td>WindDir9am</td>\n",
       "    </tr>\n",
       "    <tr>\n",
       "      <th>9</th>\n",
       "      <td>1.402785</td>\n",
       "      <td>WindDir3pm</td>\n",
       "    </tr>\n",
       "    <tr>\n",
       "      <th>10</th>\n",
       "      <td>2.151851</td>\n",
       "      <td>RainToday</td>\n",
       "    </tr>\n",
       "    <tr>\n",
       "      <th>11</th>\n",
       "      <td>2.238171</td>\n",
       "      <td>Avg_WindSpeed</td>\n",
       "    </tr>\n",
       "    <tr>\n",
       "      <th>12</th>\n",
       "      <td>2.483062</td>\n",
       "      <td>Avg_Humidity</td>\n",
       "    </tr>\n",
       "    <tr>\n",
       "      <th>13</th>\n",
       "      <td>1.889924</td>\n",
       "      <td>Avg_Cloud</td>\n",
       "    </tr>\n",
       "    <tr>\n",
       "      <th>14</th>\n",
       "      <td>25.986957</td>\n",
       "      <td>Avg_Temp</td>\n",
       "    </tr>\n",
       "    <tr>\n",
       "      <th>15</th>\n",
       "      <td>1.471300</td>\n",
       "      <td>Avg_Pressure</td>\n",
       "    </tr>\n",
       "  </tbody>\n",
       "</table>\n",
       "</div>"
      ],
      "text/plain": [
       "    vif_Features       Features\n",
       "0       1.146736       Location\n",
       "1       6.601815        MinTemp\n",
       "2      16.296861        MaxTemp\n",
       "3       1.977599       Rainfall\n",
       "4       1.523365    Evaporation\n",
       "5       1.931547       Sunshine\n",
       "6       1.567220    WindGustDir\n",
       "7       2.293584  WindGustSpeed\n",
       "8       1.313067     WindDir9am\n",
       "9       1.402785     WindDir3pm\n",
       "10      2.151851      RainToday\n",
       "11      2.238171  Avg_WindSpeed\n",
       "12      2.483062   Avg_Humidity\n",
       "13      1.889924      Avg_Cloud\n",
       "14     25.986957       Avg_Temp\n",
       "15      1.471300   Avg_Pressure"
      ]
     },
     "execution_count": 35,
     "metadata": {},
     "output_type": "execute_result"
    }
   ],
   "source": [
    "from statsmodels.stats.outliers_influence import variance_inflation_factor\n",
    "vif=pd.DataFrame()\n",
    "vif[\"vif_Features\"]=[variance_inflation_factor(X.values, i) for i in range(X.shape[1])]\n",
    "vif[\"Features\"]=X.columns\n",
    "vif"
   ]
  },
  {
   "cell_type": "code",
   "execution_count": 36,
   "id": "2a733645",
   "metadata": {},
   "outputs": [],
   "source": [
    "# Dropping column Avg_Temp \n",
    "X = X.drop([\"Avg_Temp\"],axis=1)"
   ]
  },
  {
   "cell_type": "code",
   "execution_count": 37,
   "id": "ca9dff62",
   "metadata": {},
   "outputs": [
    {
     "data": {
      "text/html": [
       "<div>\n",
       "<style scoped>\n",
       "    .dataframe tbody tr th:only-of-type {\n",
       "        vertical-align: middle;\n",
       "    }\n",
       "\n",
       "    .dataframe tbody tr th {\n",
       "        vertical-align: top;\n",
       "    }\n",
       "\n",
       "    .dataframe thead th {\n",
       "        text-align: right;\n",
       "    }\n",
       "</style>\n",
       "<table border=\"1\" class=\"dataframe\">\n",
       "  <thead>\n",
       "    <tr style=\"text-align: right;\">\n",
       "      <th></th>\n",
       "      <th>vif_Features</th>\n",
       "      <th>Features</th>\n",
       "    </tr>\n",
       "  </thead>\n",
       "  <tbody>\n",
       "    <tr>\n",
       "      <th>0</th>\n",
       "      <td>1.135026</td>\n",
       "      <td>Location</td>\n",
       "    </tr>\n",
       "    <tr>\n",
       "      <th>1</th>\n",
       "      <td>3.693225</td>\n",
       "      <td>MinTemp</td>\n",
       "    </tr>\n",
       "    <tr>\n",
       "      <th>2</th>\n",
       "      <td>4.648502</td>\n",
       "      <td>MaxTemp</td>\n",
       "    </tr>\n",
       "    <tr>\n",
       "      <th>3</th>\n",
       "      <td>1.975864</td>\n",
       "      <td>Rainfall</td>\n",
       "    </tr>\n",
       "    <tr>\n",
       "      <th>4</th>\n",
       "      <td>1.522967</td>\n",
       "      <td>Evaporation</td>\n",
       "    </tr>\n",
       "    <tr>\n",
       "      <th>5</th>\n",
       "      <td>1.926351</td>\n",
       "      <td>Sunshine</td>\n",
       "    </tr>\n",
       "    <tr>\n",
       "      <th>6</th>\n",
       "      <td>1.566082</td>\n",
       "      <td>WindGustDir</td>\n",
       "    </tr>\n",
       "    <tr>\n",
       "      <th>7</th>\n",
       "      <td>2.252207</td>\n",
       "      <td>WindGustSpeed</td>\n",
       "    </tr>\n",
       "    <tr>\n",
       "      <th>8</th>\n",
       "      <td>1.313058</td>\n",
       "      <td>WindDir9am</td>\n",
       "    </tr>\n",
       "    <tr>\n",
       "      <th>9</th>\n",
       "      <td>1.401490</td>\n",
       "      <td>WindDir3pm</td>\n",
       "    </tr>\n",
       "    <tr>\n",
       "      <th>10</th>\n",
       "      <td>2.150289</td>\n",
       "      <td>RainToday</td>\n",
       "    </tr>\n",
       "    <tr>\n",
       "      <th>11</th>\n",
       "      <td>2.235970</td>\n",
       "      <td>Avg_WindSpeed</td>\n",
       "    </tr>\n",
       "    <tr>\n",
       "      <th>12</th>\n",
       "      <td>2.337156</td>\n",
       "      <td>Avg_Humidity</td>\n",
       "    </tr>\n",
       "    <tr>\n",
       "      <th>13</th>\n",
       "      <td>1.865986</td>\n",
       "      <td>Avg_Cloud</td>\n",
       "    </tr>\n",
       "    <tr>\n",
       "      <th>14</th>\n",
       "      <td>1.467186</td>\n",
       "      <td>Avg_Pressure</td>\n",
       "    </tr>\n",
       "  </tbody>\n",
       "</table>\n",
       "</div>"
      ],
      "text/plain": [
       "    vif_Features       Features\n",
       "0       1.135026       Location\n",
       "1       3.693225        MinTemp\n",
       "2       4.648502        MaxTemp\n",
       "3       1.975864       Rainfall\n",
       "4       1.522967    Evaporation\n",
       "5       1.926351       Sunshine\n",
       "6       1.566082    WindGustDir\n",
       "7       2.252207  WindGustSpeed\n",
       "8       1.313058     WindDir9am\n",
       "9       1.401490     WindDir3pm\n",
       "10      2.150289      RainToday\n",
       "11      2.235970  Avg_WindSpeed\n",
       "12      2.337156   Avg_Humidity\n",
       "13      1.865986      Avg_Cloud\n",
       "14      1.467186   Avg_Pressure"
      ]
     },
     "execution_count": 37,
     "metadata": {},
     "output_type": "execute_result"
    }
   ],
   "source": [
    "# checking if multicollinearity has reduced after removing Avg_Temp column\n",
    "vif=pd.DataFrame()\n",
    "vif[\"vif_Features\"]=[variance_inflation_factor(X.values, i) for i in range(X.shape[1])]\n",
    "vif[\"Features\"]=X.columns\n",
    "vif"
   ]
  },
  {
   "cell_type": "markdown",
   "id": "97c4f1d5",
   "metadata": {},
   "source": [
    "- Multicollinearity issue is resolved now!"
   ]
  },
  {
   "cell_type": "code",
   "execution_count": 38,
   "id": "4969b3ca",
   "metadata": {},
   "outputs": [
    {
     "data": {
      "text/plain": [
       "0    6220\n",
       "1    1844\n",
       "Name: RainTomorrow, dtype: int64"
      ]
     },
     "execution_count": 38,
     "metadata": {},
     "output_type": "execute_result"
    }
   ],
   "source": [
    "# Checking target variable class imbalance\n",
    "y.value_counts()"
   ]
  },
  {
   "cell_type": "code",
   "execution_count": 39,
   "id": "82d02c21",
   "metadata": {},
   "outputs": [
    {
     "data": {
      "text/plain": [
       "0    6220\n",
       "1    6220\n",
       "Name: RainTomorrow, dtype: int64"
      ]
     },
     "execution_count": 39,
     "metadata": {},
     "output_type": "execute_result"
    }
   ],
   "source": [
    "#Balancing the data using SMOTE\n",
    "from imblearn.over_sampling import SMOTE\n",
    "sm=SMOTE()\n",
    "X,Y=sm.fit_resample(X,y)\n",
    "Y.value_counts()"
   ]
  },
  {
   "cell_type": "markdown",
   "id": "e645c88b",
   "metadata": {},
   "source": [
    "- Now the target variable looks balanced!"
   ]
  },
  {
   "cell_type": "code",
   "execution_count": 40,
   "id": "c69181bd",
   "metadata": {},
   "outputs": [],
   "source": [
    "from sklearn.model_selection import train_test_split\n",
    "from sklearn.linear_model import LogisticRegression\n",
    "from sklearn.metrics import accuracy_score, confusion_matrix, classification_report"
   ]
  },
  {
   "cell_type": "code",
   "execution_count": 41,
   "id": "d5bf7aed",
   "metadata": {},
   "outputs": [],
   "source": [
    "lg = LogisticRegression()"
   ]
  },
  {
   "cell_type": "code",
   "execution_count": 42,
   "id": "a7a15647",
   "metadata": {},
   "outputs": [
    {
     "name": "stdout",
     "output_type": "stream",
     "text": [
      "At Random State  1\n",
      "testing accuracy 0.7753215434083601 randon state 1\n",
      "Training Accuracy 0.7595458199356914 random state 1\n",
      "max accuracy 0.7753215434083601 max_random_state 1\n",
      "At Random State  2\n",
      "testing accuracy 0.7721061093247589 randon state 2\n",
      "Training Accuracy 0.761354501607717 random state 2\n",
      "At Random State  3\n",
      "testing accuracy 0.764871382636656 randon state 3\n",
      "Training Accuracy 0.7610530546623794 random state 3\n",
      "At Random State  4\n",
      "testing accuracy 0.7652733118971061 randon state 4\n",
      "Training Accuracy 0.7615554662379421 random state 4\n",
      "At Random State  5\n",
      "testing accuracy 0.7604501607717041 randon state 5\n",
      "Training Accuracy 0.7626607717041801 random state 5\n",
      "At Random State  6\n",
      "testing accuracy 0.7580385852090032 randon state 6\n",
      "Training Accuracy 0.7647709003215434 random state 6\n",
      "At Random State  7\n",
      "testing accuracy 0.7688906752411575 randon state 7\n",
      "Training Accuracy 0.7614549839228296 random state 7\n",
      "At Random State  8\n",
      "testing accuracy 0.7596463022508039 randon state 8\n",
      "Training Accuracy 0.7634646302250804 random state 8\n",
      "At Random State  9\n",
      "testing accuracy 0.7616559485530546 randon state 9\n",
      "Training Accuracy 0.762459807073955 random state 9\n",
      "At Random State  10\n",
      "testing accuracy 0.7636655948553055 randon state 10\n",
      "Training Accuracy 0.7625602893890675 random state 10\n",
      "At Random State  11\n",
      "testing accuracy 0.7588424437299035 randon state 11\n",
      "Training Accuracy 0.765072347266881 random state 11\n",
      "At Random State  12\n",
      "testing accuracy 0.762459807073955 randon state 12\n",
      "Training Accuracy 0.7619573954983923 random state 12\n",
      "At Random State  13\n",
      "testing accuracy 0.7652733118971061 randon state 13\n",
      "Training Accuracy 0.7628617363344051 random state 13\n",
      "At Random State  14\n",
      "testing accuracy 0.7596463022508039 randon state 14\n",
      "Training Accuracy 0.7639670418006431 random state 14\n",
      "At Random State  15\n",
      "testing accuracy 0.7668810289389068 randon state 15\n",
      "Training Accuracy 0.758741961414791 random state 15\n",
      "At Random State  16\n",
      "testing accuracy 0.7692926045016077 randon state 16\n",
      "Training Accuracy 0.7605506430868167 random state 16\n",
      "At Random State  17\n",
      "testing accuracy 0.7692926045016077 randon state 17\n",
      "Training Accuracy 0.7609525723472669 random state 17\n",
      "At Random State  18\n",
      "testing accuracy 0.7620578778135049 randon state 18\n",
      "Training Accuracy 0.7633641479099679 random state 18\n",
      "At Random State  19\n",
      "testing accuracy 0.7757234726688103 randon state 19\n",
      "Training Accuracy 0.7608520900321544 random state 19\n",
      "max accuracy 0.7757234726688103 max_random_state 19\n",
      "At Random State  20\n",
      "testing accuracy 0.7660771704180064 randon state 20\n",
      "Training Accuracy 0.7599477491961415 random state 20\n",
      "At Random State  21\n",
      "testing accuracy 0.7572347266881029 randon state 21\n",
      "Training Accuracy 0.7653737942122186 random state 21\n",
      "At Random State  22\n",
      "testing accuracy 0.7491961414790996 randon state 22\n",
      "Training Accuracy 0.767483922829582 random state 22\n",
      "At Random State  23\n",
      "testing accuracy 0.7757234726688103 randon state 23\n",
      "Training Accuracy 0.7615554662379421 random state 23\n",
      "At Random State  24\n",
      "testing accuracy 0.7596463022508039 randon state 24\n",
      "Training Accuracy 0.7654742765273312 random state 24\n",
      "At Random State  25\n",
      "testing accuracy 0.762459807073955 randon state 25\n",
      "Training Accuracy 0.765072347266881 random state 25\n",
      "At Random State  26\n",
      "testing accuracy 0.7688906752411575 randon state 26\n",
      "Training Accuracy 0.7616559485530546 random state 26\n",
      "At Random State  27\n",
      "testing accuracy 0.7672829581993569 randon state 27\n",
      "Training Accuracy 0.7604501607717041 random state 27\n",
      "At Random State  28\n",
      "testing accuracy 0.7713022508038585 randon state 28\n",
      "Training Accuracy 0.7605506430868167 random state 28\n",
      "At Random State  29\n",
      "testing accuracy 0.7616559485530546 randon state 29\n",
      "Training Accuracy 0.7623593247588425 random state 29\n",
      "At Random State  30\n",
      "testing accuracy 0.7628617363344051 randon state 30\n",
      "Training Accuracy 0.7628617363344051 random state 30\n",
      "At Random State  31\n",
      "testing accuracy 0.7721061093247589 randon state 31\n",
      "Training Accuracy 0.761153536977492 random state 31\n",
      "At Random State  32\n",
      "testing accuracy 0.7596463022508039 randon state 32\n",
      "Training Accuracy 0.762459807073955 random state 32\n",
      "At Random State  33\n",
      "testing accuracy 0.7692926045016077 randon state 33\n",
      "Training Accuracy 0.7612540192926045 random state 33\n",
      "At Random State  34\n",
      "testing accuracy 0.7491961414790996 randon state 34\n",
      "Training Accuracy 0.7659766881028939 random state 34\n",
      "At Random State  35\n",
      "testing accuracy 0.7608520900321544 randon state 35\n",
      "Training Accuracy 0.763766077170418 random state 35\n",
      "At Random State  36\n",
      "testing accuracy 0.7564308681672026 randon state 36\n",
      "Training Accuracy 0.7634646302250804 random state 36\n",
      "At Random State  37\n",
      "testing accuracy 0.7664790996784566 randon state 37\n",
      "Training Accuracy 0.7636655948553055 random state 37\n",
      "At Random State  38\n",
      "testing accuracy 0.7580385852090032 randon state 38\n",
      "Training Accuracy 0.764871382636656 random state 38\n",
      "At Random State  39\n",
      "testing accuracy 0.7656752411575563 randon state 39\n",
      "Training Accuracy 0.7616559485530546 random state 39\n",
      "At Random State  40\n",
      "testing accuracy 0.7580385852090032 randon state 40\n",
      "Training Accuracy 0.7660771704180064 random state 40\n",
      "At Random State  41\n",
      "testing accuracy 0.7688906752411575 randon state 41\n",
      "Training Accuracy 0.7620578778135049 random state 41\n",
      "At Random State  42\n",
      "testing accuracy 0.7564308681672026 randon state 42\n",
      "Training Accuracy 0.7647709003215434 random state 42\n",
      "At Random State  43\n",
      "testing accuracy 0.7704983922829582 randon state 43\n",
      "Training Accuracy 0.7620578778135049 random state 43\n",
      "At Random State  44\n",
      "testing accuracy 0.7560289389067524 randon state 44\n",
      "Training Accuracy 0.7647709003215434 random state 44\n",
      "At Random State  45\n",
      "testing accuracy 0.7620578778135049 randon state 45\n",
      "Training Accuracy 0.7620578778135049 random state 45\n",
      "At Random State  46\n",
      "testing accuracy 0.752411575562701 randon state 46\n",
      "Training Accuracy 0.7654742765273312 random state 46\n",
      "At Random State  47\n",
      "testing accuracy 0.7656752411575563 randon state 47\n",
      "Training Accuracy 0.7619573954983923 random state 47\n",
      "At Random State  48\n",
      "testing accuracy 0.7459807073954984 randon state 48\n",
      "Training Accuracy 0.7659766881028939 random state 48\n",
      "At Random State  49\n",
      "testing accuracy 0.7632636655948553 randon state 49\n",
      "Training Accuracy 0.7644694533762058 random state 49\n",
      "At Random State  50\n",
      "testing accuracy 0.7696945337620579 randon state 50\n",
      "Training Accuracy 0.7631631832797428 random state 50\n",
      "At Random State  51\n",
      "testing accuracy 0.7556270096463023 randon state 51\n",
      "Training Accuracy 0.7657757234726688 random state 51\n",
      "At Random State  52\n",
      "testing accuracy 0.7640675241157556 randon state 52\n",
      "Training Accuracy 0.763766077170418 random state 52\n",
      "At Random State  53\n",
      "testing accuracy 0.7620578778135049 randon state 53\n",
      "Training Accuracy 0.7646704180064309 random state 53\n",
      "At Random State  54\n",
      "testing accuracy 0.7612540192926045 randon state 54\n",
      "Training Accuracy 0.764871382636656 random state 54\n",
      "At Random State  55\n",
      "testing accuracy 0.7596463022508039 randon state 55\n",
      "Training Accuracy 0.7633641479099679 random state 55\n",
      "At Random State  56\n",
      "testing accuracy 0.7592443729903537 randon state 56\n",
      "Training Accuracy 0.765072347266881 random state 56\n",
      "At Random State  57\n",
      "testing accuracy 0.7733118971061094 randon state 57\n",
      "Training Accuracy 0.7621583601286174 random state 57\n",
      "At Random State  58\n",
      "testing accuracy 0.7540192926045016 randon state 58\n",
      "Training Accuracy 0.7627612540192926 random state 58\n",
      "At Random State  59\n",
      "testing accuracy 0.7664790996784566 randon state 59\n",
      "Training Accuracy 0.7647709003215434 random state 59\n",
      "At Random State  60\n",
      "testing accuracy 0.7608520900321544 randon state 60\n",
      "Training Accuracy 0.7649718649517685 random state 60\n",
      "At Random State  61\n",
      "testing accuracy 0.7628617363344051 randon state 61\n",
      "Training Accuracy 0.7618569131832797 random state 61\n",
      "At Random State  62\n",
      "testing accuracy 0.7640675241157556 randon state 62\n",
      "Training Accuracy 0.7614549839228296 random state 62\n",
      "At Random State  63\n",
      "testing accuracy 0.7552250803858521 randon state 63\n",
      "Training Accuracy 0.7635651125401929 random state 63\n",
      "At Random State  64\n",
      "testing accuracy 0.7552250803858521 randon state 64\n",
      "Training Accuracy 0.7640675241157556 random state 64\n",
      "At Random State  65\n",
      "testing accuracy 0.7596463022508039 randon state 65\n",
      "Training Accuracy 0.7628617363344051 random state 65\n",
      "At Random State  66\n",
      "testing accuracy 0.7612540192926045 randon state 66\n",
      "Training Accuracy 0.7634646302250804 random state 66\n",
      "At Random State  67\n",
      "testing accuracy 0.7592443729903537 randon state 67\n",
      "Training Accuracy 0.763766077170418 random state 67\n",
      "At Random State  68\n",
      "testing accuracy 0.7532154340836013 randon state 68\n",
      "Training Accuracy 0.7626607717041801 random state 68\n",
      "At Random State  69\n",
      "testing accuracy 0.7745176848874598 randon state 69\n",
      "Training Accuracy 0.7605506430868167 random state 69\n",
      "At Random State  70\n",
      "testing accuracy 0.7644694533762058 randon state 70\n",
      "Training Accuracy 0.764871382636656 random state 70\n",
      "At Random State  71\n",
      "testing accuracy 0.7809485530546624 randon state 71\n",
      "Training Accuracy 0.7592443729903537 random state 71\n",
      "max accuracy 0.7809485530546624 max_random_state 71\n",
      "At Random State  72\n",
      "testing accuracy 0.757636655948553 randon state 72\n",
      "Training Accuracy 0.764871382636656 random state 72\n",
      "At Random State  73\n",
      "testing accuracy 0.7612540192926045 randon state 73\n",
      "Training Accuracy 0.7644694533762058 random state 73\n",
      "At Random State  74\n",
      "testing accuracy 0.7536173633440515 randon state 74\n",
      "Training Accuracy 0.7644694533762058 random state 74\n",
      "At Random State  75\n",
      "testing accuracy 0.7592443729903537 randon state 75\n",
      "Training Accuracy 0.7647709003215434 random state 75\n",
      "At Random State  76\n",
      "testing accuracy 0.7572347266881029 randon state 76\n",
      "Training Accuracy 0.7638665594855305 random state 76\n",
      "At Random State  77\n",
      "testing accuracy 0.7628617363344051 randon state 77\n",
      "Training Accuracy 0.763766077170418 random state 77\n",
      "At Random State  78\n",
      "testing accuracy 0.7652733118971061 randon state 78\n",
      "Training Accuracy 0.7626607717041801 random state 78\n",
      "At Random State  79\n",
      "testing accuracy 0.7604501607717041 randon state 79\n",
      "Training Accuracy 0.7628617363344051 random state 79\n",
      "At Random State  80\n",
      "testing accuracy 0.764871382636656 randon state 80\n",
      "Training Accuracy 0.7622588424437299 random state 80\n",
      "At Random State  81\n",
      "testing accuracy 0.7584405144694534 randon state 81\n",
      "Training Accuracy 0.7627612540192926 random state 81\n",
      "At Random State  82\n",
      "testing accuracy 0.7676848874598071 randon state 82\n",
      "Training Accuracy 0.7621583601286174 random state 82\n",
      "At Random State  83\n",
      "testing accuracy 0.7588424437299035 randon state 83\n",
      "Training Accuracy 0.7631631832797428 random state 83\n",
      "At Random State  84\n",
      "testing accuracy 0.7495980707395499 randon state 84\n",
      "Training Accuracy 0.7642684887459807 random state 84\n",
      "At Random State  85\n",
      "testing accuracy 0.7568327974276527 randon state 85\n",
      "Training Accuracy 0.7619573954983923 random state 85\n",
      "At Random State  86\n",
      "testing accuracy 0.7512057877813505 randon state 86\n",
      "Training Accuracy 0.7651728295819936 random state 86\n",
      "At Random State  87\n",
      "testing accuracy 0.7692926045016077 randon state 87\n",
      "Training Accuracy 0.7608520900321544 random state 87\n",
      "At Random State  88\n",
      "testing accuracy 0.7636655948553055 randon state 88\n",
      "Training Accuracy 0.7621583601286174 random state 88\n",
      "At Random State  89\n",
      "testing accuracy 0.7512057877813505 randon state 89\n",
      "Training Accuracy 0.7636655948553055 random state 89\n",
      "At Random State  90\n",
      "testing accuracy 0.7785369774919614 randon state 90\n",
      "Training Accuracy 0.7592443729903537 random state 90\n",
      "At Random State  91\n",
      "testing accuracy 0.7520096463022508 randon state 91\n",
      "Training Accuracy 0.7660771704180064 random state 91\n",
      "At Random State  92\n",
      "testing accuracy 0.7491961414790996 randon state 92\n",
      "Training Accuracy 0.7664790996784566 random state 92\n",
      "At Random State  93\n",
      "testing accuracy 0.7467845659163987 randon state 93\n",
      "Training Accuracy 0.7685892282958199 random state 93\n",
      "At Random State  94\n",
      "testing accuracy 0.757636655948553 randon state 94\n",
      "Training Accuracy 0.7633641479099679 random state 94\n",
      "At Random State  95\n",
      "testing accuracy 0.772508038585209 randon state 95\n",
      "Training Accuracy 0.7597467845659164 random state 95\n",
      "At Random State  96\n",
      "testing accuracy 0.7532154340836013 randon state 96\n",
      "Training Accuracy 0.7653737942122186 random state 96\n",
      "At Random State  97\n",
      "testing accuracy 0.7684887459807074 randon state 97\n",
      "Training Accuracy 0.7619573954983923 random state 97\n",
      "At Random State  98\n",
      "testing accuracy 0.7672829581993569 randon state 98\n",
      "Training Accuracy 0.7621583601286174 random state 98\n",
      "At Random State  99\n",
      "testing accuracy 0.762459807073955 randon state 99\n",
      "Training Accuracy 0.7629622186495176 random state 99\n"
     ]
    }
   ],
   "source": [
    "#Finding the random state\n",
    "\n",
    "maxaccu=0\n",
    "maxrs=0\n",
    "for i in range(1,100):\n",
    "    print(\"At Random State \", i)\n",
    "    Xtrain,Xtest,Ytrain,Ytest=train_test_split(X,Y,test_size=.20, random_state=i)\n",
    "    lg.fit(Xtrain,Ytrain)\n",
    "    predlg=lg.predict(Xtest)\n",
    "    trainlg=lg.predict(Xtrain)\n",
    "    acc=accuracy_score(Ytest,predlg)\n",
    "    accu=accuracy_score(Ytrain,trainlg)\n",
    "    print('testing accuracy', acc, 'randon state',i)\n",
    "    print('Training Accuracy', accu, 'random state', i)\n",
    "    if acc>maxaccu:\n",
    "        maxaccu=acc\n",
    "        maxrs=i\n",
    "        print('max accuracy', maxaccu , 'max_random_state', i)"
   ]
  },
  {
   "cell_type": "code",
   "execution_count": 43,
   "id": "2a64e50a",
   "metadata": {},
   "outputs": [
    {
     "name": "stdout",
     "output_type": "stream",
     "text": [
      "max accuracy 0.7809485530546624 max_random_state 99\n"
     ]
    }
   ],
   "source": [
    "# Checking for the Max. Accuracy at Random State\n",
    "print('max accuracy', maxaccu , 'max_random_state', i)"
   ]
  },
  {
   "cell_type": "markdown",
   "id": "6c57b68b",
   "metadata": {},
   "source": [
    "Using random state = 99 for the test train data split"
   ]
  },
  {
   "cell_type": "code",
   "execution_count": 44,
   "id": "b5a561ee",
   "metadata": {},
   "outputs": [],
   "source": [
    "X_train, X_test, Y_train, Y_test = train_test_split(X, Y, test_size = 0.2, random_state = 99)"
   ]
  },
  {
   "cell_type": "code",
   "execution_count": 45,
   "id": "b5efd4cb",
   "metadata": {},
   "outputs": [
    {
     "name": "stdout",
     "output_type": "stream",
     "text": [
      "Shape of X_train is : (9952, 15)\n",
      "Shape of X_test is : (2488, 15)\n",
      "Shape of Y_train is : (9952,)\n",
      "Shape of Y_test is : (2488,)\n"
     ]
    }
   ],
   "source": [
    "print(\"Shape of X_train is :\", X_train.shape)\n",
    "print(\"Shape of X_test is :\", X_test.shape)\n",
    "print(\"Shape of Y_train is :\", Y_train.shape)\n",
    "print(\"Shape of Y_test is :\", Y_test.shape)"
   ]
  },
  {
   "cell_type": "markdown",
   "id": "d8ba87f1",
   "metadata": {},
   "source": [
    "# 1) Logistic Regression"
   ]
  },
  {
   "cell_type": "code",
   "execution_count": 46,
   "id": "53789379",
   "metadata": {},
   "outputs": [
    {
     "name": "stdout",
     "output_type": "stream",
     "text": [
      "Training accuracy is:  0.7629622186495176\n",
      "Testing accuracy is:  0.762459807073955\n",
      "[[994 282]\n",
      " [309 903]]\n",
      "              precision    recall  f1-score   support\n",
      "\n",
      "           0       0.76      0.78      0.77      1276\n",
      "           1       0.76      0.75      0.75      1212\n",
      "\n",
      "    accuracy                           0.76      2488\n",
      "   macro avg       0.76      0.76      0.76      2488\n",
      "weighted avg       0.76      0.76      0.76      2488\n",
      "\n"
     ]
    }
   ],
   "source": [
    "lg = LogisticRegression()\n",
    "lg.fit(X_train, Y_train)\n",
    "Y_pred_train_lg = lg.predict(X_train)\n",
    "Y_pred_test_lg = lg.predict(X_test)\n",
    "print(\"Training accuracy is: \", accuracy_score(Y_train, Y_pred_train_lg))\n",
    "print(\"Testing accuracy is: \", accuracy_score(Y_test, Y_pred_test_lg))\n",
    "print(confusion_matrix(Y_test, Y_pred_test_lg))\n",
    "print(classification_report(Y_test, Y_pred_test_lg))"
   ]
  },
  {
   "cell_type": "code",
   "execution_count": 47,
   "id": "4fd113fd",
   "metadata": {},
   "outputs": [],
   "source": [
    "#AUC ROC Curve\n",
    "# Importing libraries\n",
    "from sklearn.metrics import roc_curve\n",
    "from sklearn.metrics import roc_auc_score"
   ]
  },
  {
   "cell_type": "code",
   "execution_count": 48,
   "id": "04c558ab",
   "metadata": {},
   "outputs": [
    {
     "data": {
      "image/png": "[encoded data removed]",
      "text/plain": [
       "<Figure size 432x288 with 1 Axes>"
      ]
     },
     "metadata": {
      "needs_background": "light"
     },
     "output_type": "display_data"
    },
    {
     "data": {
      "text/plain": [
       "0.7620231850771284"
      ]
     },
     "execution_count": 48,
     "metadata": {},
     "output_type": "execute_result"
    }
   ],
   "source": [
    "#AUC ROC curve for Logistic regression\n",
    "Y_pred_prob=lg.predict_proba(X_test)[:,1]\n",
    "fpr,tpr,threshold=roc_curve(Y_test,Y_pred_prob,pos_label=1)\n",
    "plt.plot([0,1],[0,1],'k--')\n",
    "plt.plot(fpr,tpr,label='Linear Regression')\n",
    "plt.xlabel('False positive rate')\n",
    "plt.ylabel('True positive rate')\n",
    "plt.title('Logistic Regression')\n",
    "plt.show()\n",
    "\n",
    "auc_score=roc_auc_score(Y_test,lg.predict(X_test))\n",
    "\n",
    "auc_score"
   ]
  },
  {
   "cell_type": "markdown",
   "id": "2c97f965",
   "metadata": {},
   "source": [
    "# 2) Decision Tree Classifier"
   ]
  },
  {
   "cell_type": "code",
   "execution_count": 49,
   "id": "6c47b80c",
   "metadata": {},
   "outputs": [
    {
     "name": "stdout",
     "output_type": "stream",
     "text": [
      "Training accuracy is:  0.9997990353697749\n",
      "Testing accuracy is:  0.875\n",
      "[[1100  176]\n",
      " [ 135 1077]]\n",
      "              precision    recall  f1-score   support\n",
      "\n",
      "           0       0.89      0.86      0.88      1276\n",
      "           1       0.86      0.89      0.87      1212\n",
      "\n",
      "    accuracy                           0.88      2488\n",
      "   macro avg       0.88      0.88      0.87      2488\n",
      "weighted avg       0.88      0.88      0.88      2488\n",
      "\n"
     ]
    }
   ],
   "source": [
    "from sklearn.tree import DecisionTreeClassifier\n",
    "dtc=DecisionTreeClassifier()\n",
    "dtc.fit(X_train,Y_train)\n",
    "Y_pred_train_dtc = dtc.predict(X_train)\n",
    "Y_pred_test_dtc = dtc.predict(X_test)\n",
    "print(\"Training accuracy is: \", accuracy_score(Y_train, Y_pred_train_dtc))\n",
    "print(\"Testing accuracy is: \", accuracy_score(Y_test, Y_pred_test_dtc))\n",
    "print(confusion_matrix(Y_test, Y_pred_test_dtc))\n",
    "print(classification_report(Y_test, Y_pred_test_dtc))"
   ]
  },
  {
   "cell_type": "code",
   "execution_count": 50,
   "id": "1e936f5a",
   "metadata": {},
   "outputs": [
    {
     "data": {
      "image/png": "[encoded data removed]",
      "text/plain": [
       "<Figure size 432x288 with 1 Axes>"
      ]
     },
     "metadata": {
      "needs_background": "light"
     },
     "output_type": "display_data"
    },
    {
     "data": {
      "text/plain": [
       "0.8753414134516899"
      ]
     },
     "execution_count": 50,
     "metadata": {},
     "output_type": "execute_result"
    }
   ],
   "source": [
    "#AUC ROC curve for Decision Tree Classifier\n",
    "Y_pred_prob=dtc.predict_proba(X_test)[:,1]\n",
    "fpr,tpr,threshold=roc_curve(Y_test,Y_pred_prob,pos_label=1)\n",
    "plt.plot([0,1],[0,1],'k--')\n",
    "plt.plot(fpr,tpr,label='Decision Tree Classifier')\n",
    "plt.xlabel('False positive rate')\n",
    "plt.ylabel('True positive rate')\n",
    "plt.title('Decision Tree Classifier')\n",
    "plt.show()\n",
    "\n",
    "auc_score=roc_auc_score(Y_test,dtc.predict(X_test))\n",
    "\n",
    "auc_score"
   ]
  },
  {
   "cell_type": "markdown",
   "id": "8052a440",
   "metadata": {},
   "source": [
    "# 3) Random Forest Classifier"
   ]
  },
  {
   "cell_type": "code",
   "execution_count": 51,
   "id": "b4a01a7f",
   "metadata": {},
   "outputs": [
    {
     "name": "stdout",
     "output_type": "stream",
     "text": [
      "Training accuracy is:  0.9997990353697749\n",
      "Testing accuracy is:  0.9312700964630225\n",
      "[[1186   90]\n",
      " [  81 1131]]\n",
      "              precision    recall  f1-score   support\n",
      "\n",
      "           0       0.94      0.93      0.93      1276\n",
      "           1       0.93      0.93      0.93      1212\n",
      "\n",
      "    accuracy                           0.93      2488\n",
      "   macro avg       0.93      0.93      0.93      2488\n",
      "weighted avg       0.93      0.93      0.93      2488\n",
      "\n"
     ]
    }
   ],
   "source": [
    "# Using RandomForestClassifier\n",
    "from sklearn.ensemble import RandomForestClassifier\n",
    "rf=RandomForestClassifier()\n",
    "rf.fit(X_train,Y_train)\n",
    "Y_pred_train_rf = rf.predict(X_train)\n",
    "Y_pred_test_rf = rf.predict(X_test)\n",
    "print(\"Training accuracy is: \", accuracy_score(Y_train, Y_pred_train_rf))\n",
    "print(\"Testing accuracy is: \", accuracy_score(Y_test, Y_pred_test_rf))\n",
    "print(confusion_matrix(Y_test, Y_pred_test_rf))\n",
    "print(classification_report(Y_test, Y_pred_test_rf))"
   ]
  },
  {
   "cell_type": "code",
   "execution_count": 52,
   "id": "5e8a3237",
   "metadata": {},
   "outputs": [
    {
     "data": {
      "image/png": "[encoded data removed]",
      "text/plain": [
       "<Figure size 432x288 with 1 Axes>"
      ]
     },
     "metadata": {
      "needs_background": "light"
     },
     "output_type": "display_data"
    },
    {
     "data": {
      "text/plain": [
       "0.9313177007355908"
      ]
     },
     "execution_count": 52,
     "metadata": {},
     "output_type": "execute_result"
    }
   ],
   "source": [
    "#AUC ROC curve for Random Forest Classifier Classifier\n",
    "Y_pred_prob=rf.predict_proba(X_test)[:,1]\n",
    "fpr,tpr,threshold=roc_curve(Y_test,Y_pred_prob,pos_label=1)\n",
    "plt.plot([0,1],[0,1],'k--')\n",
    "plt.plot(fpr,tpr,label='Random Forest Classifier')\n",
    "plt.xlabel('False positive rate')\n",
    "plt.ylabel('True positive rate')\n",
    "plt.title('Random Forest Classifier')\n",
    "plt.show()\n",
    "\n",
    "auc_score=roc_auc_score(Y_test,rf.predict(X_test))\n",
    "\n",
    "auc_score"
   ]
  },
  {
   "cell_type": "markdown",
   "id": "737f3cff",
   "metadata": {},
   "source": [
    "# 4) KNN"
   ]
  },
  {
   "cell_type": "code",
   "execution_count": 53,
   "id": "aab129b7",
   "metadata": {},
   "outputs": [
    {
     "name": "stdout",
     "output_type": "stream",
     "text": [
      "Training accuracy is:  0.9042403536977492\n",
      "Testing accuracy is:  0.8585209003215434\n",
      "[[ 968  308]\n",
      " [  44 1168]]\n",
      "              precision    recall  f1-score   support\n",
      "\n",
      "           0       0.96      0.76      0.85      1276\n",
      "           1       0.79      0.96      0.87      1212\n",
      "\n",
      "    accuracy                           0.86      2488\n",
      "   macro avg       0.87      0.86      0.86      2488\n",
      "weighted avg       0.88      0.86      0.86      2488\n",
      "\n"
     ]
    }
   ],
   "source": [
    "from sklearn.neighbors import KNeighborsClassifier\n",
    "knn=KNeighborsClassifier()\n",
    "knn.fit(X_train,Y_train)\n",
    "Y_pred_train_knn = knn.predict(X_train)\n",
    "Y_pred_test_knn = knn.predict(X_test)\n",
    "print(\"Training accuracy is: \", accuracy_score(Y_train, Y_pred_train_knn))\n",
    "print(\"Testing accuracy is: \", accuracy_score(Y_test, Y_pred_test_knn))\n",
    "print(confusion_matrix(Y_test, Y_pred_test_knn))\n",
    "print(classification_report(Y_test, Y_pred_test_knn))"
   ]
  },
  {
   "cell_type": "code",
   "execution_count": 54,
   "id": "0083a07b",
   "metadata": {},
   "outputs": [
    {
     "data": {
      "image/png": "[encoded data removed]",
      "text/plain": [
       "<Figure size 432x288 with 1 Axes>"
      ]
     },
     "metadata": {
      "needs_background": "light"
     },
     "output_type": "display_data"
    },
    {
     "data": {
      "text/plain": [
       "0.8611585296460681"
      ]
     },
     "execution_count": 54,
     "metadata": {},
     "output_type": "execute_result"
    }
   ],
   "source": [
    "#AUC ROC curve for  KNeighborsClassifier\n",
    "Y_pred_prob=knn.predict_proba(X_test)[:,1]\n",
    "fpr,tpr,threshold=roc_curve(Y_test,Y_pred_prob,pos_label=1)\n",
    "plt.plot([0,1],[0,1],'k--')\n",
    "plt.plot(fpr,tpr,label='KNeighborsClassifier')\n",
    "plt.xlabel('False positive rate')\n",
    "plt.ylabel('True positive rate')\n",
    "plt.title('KNeighborsClassifier')\n",
    "plt.show()\n",
    "\n",
    "auc_score=roc_auc_score(Y_test,knn.predict(X_test))\n",
    "\n",
    "auc_score"
   ]
  },
  {
   "cell_type": "markdown",
   "id": "0efcde05",
   "metadata": {},
   "source": [
    "# 5) Gradient Boosting Classifier"
   ]
  },
  {
   "cell_type": "code",
   "execution_count": 55,
   "id": "daee49c1",
   "metadata": {},
   "outputs": [
    {
     "name": "stdout",
     "output_type": "stream",
     "text": [
      "Training accuracy is:  0.8533963022508039\n",
      "Testing accuracy is:  0.8492765273311897\n",
      "[[1096  180]\n",
      " [ 195 1017]]\n",
      "              precision    recall  f1-score   support\n",
      "\n",
      "           0       0.85      0.86      0.85      1276\n",
      "           1       0.85      0.84      0.84      1212\n",
      "\n",
      "    accuracy                           0.85      2488\n",
      "   macro avg       0.85      0.85      0.85      2488\n",
      "weighted avg       0.85      0.85      0.85      2488\n",
      "\n"
     ]
    }
   ],
   "source": [
    "from sklearn.ensemble import GradientBoostingClassifier\n",
    "gbc=GradientBoostingClassifier()\n",
    "gbc.fit(X_train,Y_train)\n",
    "Y_pred_train_gbc = gbc.predict(X_train)\n",
    "Y_pred_test_gbc = gbc.predict(X_test)\n",
    "print(\"Training accuracy is: \", accuracy_score(Y_train, Y_pred_train_gbc))\n",
    "print(\"Testing accuracy is: \", accuracy_score(Y_test, Y_pred_test_gbc))\n",
    "print(confusion_matrix(Y_test, Y_pred_test_gbc))\n",
    "print(classification_report(Y_test, Y_pred_test_gbc))"
   ]
  },
  {
   "cell_type": "code",
   "execution_count": 56,
   "id": "d160ae82",
   "metadata": {},
   "outputs": [
    {
     "data": {
      "image/png": "[encoded data removed]",
      "text/plain": [
       "<Figure size 432x288 with 1 Axes>"
      ]
     },
     "metadata": {
      "needs_background": "light"
     },
     "output_type": "display_data"
    },
    {
     "data": {
      "text/plain": [
       "0.849021540085043"
      ]
     },
     "execution_count": 56,
     "metadata": {},
     "output_type": "execute_result"
    }
   ],
   "source": [
    "#AUC ROC curve for  GradientBoostingClassifier\n",
    "Y_pred_prob=gbc.predict_proba(X_test)[:,1]\n",
    "fpr,tpr,threshold=roc_curve(Y_test,Y_pred_prob,pos_label=1)\n",
    "plt.plot([0,1],[0,1],'k--')\n",
    "plt.plot(fpr,tpr,label='GradientBoostingClassifier')\n",
    "plt.xlabel('False positive rate')\n",
    "plt.ylabel('True positive rate')\n",
    "plt.title('GradientBoostingClassifier')\n",
    "plt.show()\n",
    "\n",
    "auc_score=roc_auc_score(Y_test,gbc.predict(X_test))\n",
    "\n",
    "auc_score"
   ]
  },
  {
   "cell_type": "markdown",
   "id": "6f4d13e3",
   "metadata": {},
   "source": [
    "# 7) AdaBoosting Classifier"
   ]
  },
  {
   "cell_type": "code",
   "execution_count": 57,
   "id": "daed51e3",
   "metadata": {},
   "outputs": [
    {
     "name": "stdout",
     "output_type": "stream",
     "text": [
      "Training accuracy is:  0.8041599678456591\n",
      "Testing accuracy is:  0.8066720257234726\n",
      "[[1016  260]\n",
      " [ 221  991]]\n",
      "              precision    recall  f1-score   support\n",
      "\n",
      "           0       0.82      0.80      0.81      1276\n",
      "           1       0.79      0.82      0.80      1212\n",
      "\n",
      "    accuracy                           0.81      2488\n",
      "   macro avg       0.81      0.81      0.81      2488\n",
      "weighted avg       0.81      0.81      0.81      2488\n",
      "\n"
     ]
    }
   ],
   "source": [
    "from sklearn.ensemble import AdaBoostClassifier\n",
    "ada=AdaBoostClassifier()\n",
    "ada.fit(X_train,Y_train)\n",
    "Y_pred_train_ada = ada.predict(X_train)\n",
    "Y_pred_test_ada = ada.predict(X_test)\n",
    "print(\"Training accuracy is: \", accuracy_score(Y_train, Y_pred_train_ada))\n",
    "print(\"Testing accuracy is: \", accuracy_score(Y_test, Y_pred_test_ada))\n",
    "print(confusion_matrix(Y_test, Y_pred_test_ada))\n",
    "print(classification_report(Y_test, Y_pred_test_ada))"
   ]
  },
  {
   "cell_type": "code",
   "execution_count": 58,
   "id": "9e6729f3",
   "metadata": {},
   "outputs": [
    {
     "data": {
      "image/png": "[encoded data removed]",
      "text/plain": [
       "<Figure size 432x288 with 1 Axes>"
      ]
     },
     "metadata": {
      "needs_background": "light"
     },
     "output_type": "display_data"
    },
    {
     "data": {
      "text/plain": [
       "0.806947505095337"
      ]
     },
     "execution_count": 58,
     "metadata": {},
     "output_type": "execute_result"
    }
   ],
   "source": [
    "#AUC ROC curve for  AdaBoostClassifier\n",
    "Y_pred_prob=ada.predict_proba(X_test)[:,1]\n",
    "fpr,tpr,threshold=roc_curve(Y_test,Y_pred_prob,pos_label=1)\n",
    "plt.plot([0,1],[0,1],'k--')\n",
    "plt.plot(fpr,tpr,label='AdaBoostClassifier')\n",
    "plt.xlabel('False positive rate')\n",
    "plt.ylabel('True positive rate')\n",
    "plt.title('AdaBoostClassifier')\n",
    "plt.show()\n",
    "\n",
    "auc_score=roc_auc_score(Y_test,ada.predict(X_test))\n",
    "\n",
    "auc_score"
   ]
  },
  {
   "cell_type": "markdown",
   "id": "7e968ad9",
   "metadata": {},
   "source": [
    "# Cross-validation"
   ]
  },
  {
   "cell_type": "code",
   "execution_count": 59,
   "id": "d7f7ab4e",
   "metadata": {
    "scrolled": false
   },
   "outputs": [
    {
     "name": "stdout",
     "output_type": "stream",
     "text": [
      "taking cv = 2\n",
      "Cross validation score for  LogisticRegression()  is [0.7022508  0.73745981]\n",
      "Mean of Cross Val. score is  0.719855305466238\n",
      "taking cv = 3\n",
      "Cross validation score for  LogisticRegression()  is [0.68796721 0.61345551 0.79811867]\n",
      "Mean of Cross Val. score is  0.699847127937352\n",
      "taking cv = 4\n",
      "Cross validation score for  LogisticRegression()  is [0.68874598 0.64758842 0.68038585 0.82025723]\n",
      "Mean of Cross Val. score is  0.7092443729903537\n",
      "taking cv = 5\n",
      "Cross validation score for  LogisticRegression()  is [0.67885852 0.71262058 0.64107717 0.7307074  0.82315113]\n",
      "Mean of Cross Val. score is  0.7172829581993568\n",
      "taking cv = 6\n",
      "Cross validation score for  LogisticRegression()  is [0.66393443 0.69431051 0.60877955 0.67679691 0.77665219 0.81765557]\n",
      "Mean of Cross Val. score is  0.7063548605131597\n",
      "taking cv = 7\n",
      "Cross validation score for  LogisticRegression()  is [0.70359955 0.66291503 0.71918965 0.69105234 0.65953855 0.82892515\n",
      " 0.81598199]\n",
      "Mean of Cross Val. score is  0.7258860358911444\n",
      "taking cv = 8\n",
      "Cross validation score for  LogisticRegression()  is [0.71061093 0.6977492  0.77491961 0.6096463  0.68617363 0.7170418\n",
      " 0.83344051 0.81864952]\n",
      "Mean of Cross Val. score is  0.7310289389067525\n",
      "taking cv = 9\n",
      "Cross validation score for  LogisticRegression()  is [0.72378886 0.70498915 0.72575977 0.66280753 0.68813314 0.67727931\n",
      " 0.75036179 0.84008683 0.81620839]\n",
      "Mean of Cross Val. score is  0.7321571974578871\n",
      "taking cv = 2\n",
      "Cross validation score for  DecisionTreeClassifier()  is [0.59196141 0.60385852]\n",
      "Mean of Cross Val. score is  0.5979099678456592\n",
      "taking cv = 3\n",
      "Cross validation score for  DecisionTreeClassifier()  is [0.61683144 0.63539908 0.65701881]\n",
      "Mean of Cross Val. score is  0.636416447135545\n",
      "taking cv = 4\n",
      "Cross validation score for  DecisionTreeClassifier()  is [0.69614148 0.64823151 0.7244373  0.66559486]\n",
      "Mean of Cross Val. score is  0.6836012861736334\n",
      "taking cv = 5\n",
      "Cross validation score for  DecisionTreeClassifier()  is [0.6772508  0.72186495 0.86776527 0.83721865 0.64067524]\n",
      "Mean of Cross Val. score is  0.7489549839228296\n",
      "taking cv = 6\n",
      "Cross validation score for  DecisionTreeClassifier()  is [0.62536162 0.54821601 0.66521949 0.85865895 0.78437048 0.80173661]\n",
      "Mean of Cross Val. score is  0.7139271926653986\n",
      "taking cv = 7\n",
      "Cross validation score for  DecisionTreeClassifier()  is [0.56692913 0.57400113 0.88238604 0.94203714 0.82892515 0.75689364\n",
      " 0.83005065]\n",
      "Mean of Cross Val. score is  0.7687461267679188\n",
      "taking cv = 8\n",
      "Cross validation score for  DecisionTreeClassifier()  is [0.67588424 0.7022508  0.74598071 0.8488746  0.94598071 0.91318328\n",
      " 0.80450161 0.8585209 ]\n",
      "Mean of Cross Val. score is  0.8118971061093248\n",
      "taking cv = 9\n",
      "Cross validation score for  DecisionTreeClassifier()  is [0.68474331 0.76572668 0.63675832 0.9146165  0.94645441 0.89652677\n",
      " 0.84153401 0.79739508 0.83863965]\n",
      "Mean of Cross Val. score is  0.8135994155014656\n",
      "taking cv = 2\n",
      "Cross validation score for  RandomForestClassifier()  is [0.64839228 0.64919614]\n",
      "Mean of Cross Val. score is  0.6487942122186495\n",
      "taking cv = 3\n",
      "Cross validation score for  RandomForestClassifier()  is [0.66095973 0.66047745 0.80125422]\n",
      "Mean of Cross Val. score is  0.7075638014806636\n",
      "taking cv = 4\n",
      "Cross validation score for  RandomForestClassifier()  is [0.73118971 0.63504823 0.76109325 0.79742765]\n",
      "Mean of Cross Val. score is  0.7311897106109324\n",
      "taking cv = 5\n",
      "Cross validation score for  RandomForestClassifier()  is [0.69573955 0.71824759 0.86133441 0.87339228 0.80506431]\n",
      "Mean of Cross Val. score is  0.7907556270096463\n",
      "taking cv = 6\n",
      "Cross validation score for  RandomForestClassifier()  is [0.67695275 0.54484089 0.61698022 0.90738061 0.83839846 0.89242644]\n",
      "Mean of Cross Val. score is  0.7461632261106699\n",
      "taking cv = 7\n",
      "Cross validation score for  RandomForestClassifier()  is [0.72047244 0.57400113 0.91277434 0.98142938 0.84974676 0.83117614\n",
      " 0.90208216]\n",
      "Mean of Cross Val. score is  0.8245260493254325\n",
      "taking cv = 8\n",
      "Cross validation score for  RandomForestClassifier()  is [0.70353698 0.75884244 0.77363344 0.89003215 0.98199357 0.95819936\n",
      " 0.86302251 0.91382637]\n",
      "Mean of Cross Val. score is  0.8553858520900322\n",
      "taking cv = 9\n",
      "Cross validation score for  RandomForestClassifier()  is [0.70932755 0.8308026  0.67221418 0.95803184 0.97829233 0.94573082\n",
      " 0.8878437  0.86613603 0.91534009]\n",
      "Mean of Cross Val. score is  0.8626354614767773\n",
      "taking cv = 2\n",
      "Cross validation score for  KNeighborsClassifier()  is [0.64742765 0.66688103]\n",
      "Mean of Cross Val. score is  0.6571543408360129\n",
      "taking cv = 3\n",
      "Cross validation score for  KNeighborsClassifier()  is [0.64311551 0.67422233 0.7698987 ]\n",
      "Mean of Cross Val. score is  0.6957455107063372\n",
      "taking cv = 4\n",
      "Cross validation score for  KNeighborsClassifier()  is [0.71511254 0.63440514 0.70418006 0.77427653]\n",
      "Mean of Cross Val. score is  0.7069935691318328\n",
      "taking cv = 5\n",
      "Cross validation score for  KNeighborsClassifier()  is [0.7307074  0.6579582  0.77572347 0.78697749 0.75401929]\n",
      "Mean of Cross Val. score is  0.7410771704180065\n",
      "taking cv = 6\n",
      "Cross validation score for  KNeighborsClassifier()  is [0.70395371 0.54918033 0.67390256 0.78726483 0.81283164 0.82633864]\n",
      "Mean of Cross Val. score is  0.7255786192281315\n",
      "taking cv = 7\n",
      "Cross validation score for  KNeighborsClassifier()  is [0.7064117  0.59032077 0.77771525 0.85649972 0.76195836 0.82836241\n",
      " 0.84130557]\n",
      "Mean of Cross Val. score is  0.7660819670633864\n",
      "taking cv = 8\n",
      "Cross validation score for  KNeighborsClassifier()  is [0.68038585 0.71768489 0.69839228 0.75562701 0.84437299 0.83279743\n",
      " 0.86559486 0.84630225]\n",
      "Mean of Cross Val. score is  0.7801446945337621\n",
      "taking cv = 9\n",
      "Cross validation score for  KNeighborsClassifier()  is [0.66883586 0.75921909 0.62735166 0.82850941 0.85890014 0.80607815\n",
      " 0.7894356  0.88060781 0.84949349]\n",
      "Mean of Cross Val. score is  0.7853812465868306\n",
      "taking cv = 2\n",
      "Cross validation score for  GradientBoostingClassifier()  is [0.49758842 0.52315113]\n",
      "Mean of Cross Val. score is  0.5103697749196141\n",
      "taking cv = 3\n",
      "Cross validation score for  GradientBoostingClassifier()  is [0.46660236 0.58524234 0.66063676]\n",
      "Mean of Cross Val. score is  0.5708271551127981\n",
      "taking cv = 4\n",
      "Cross validation score for  GradientBoostingClassifier()  is [0.55884244 0.53826367 0.64758842 0.6607717 ]\n",
      "Mean of Cross Val. score is  0.6013665594855304\n",
      "taking cv = 5\n",
      "Cross validation score for  GradientBoostingClassifier()  is [0.57958199 0.57717042 0.710209   0.72146302 0.6579582 ]\n",
      "Mean of Cross Val. score is  0.6492765273311897\n",
      "taking cv = 6\n",
      "Cross validation score for  GradientBoostingClassifier()  is [0.55303761 0.41562199 0.51374819 0.74770863 0.72503618 0.80656054]\n",
      "Mean of Cross Val. score is  0.6269521900952737\n",
      "taking cv = 7\n",
      "Cross validation score for  GradientBoostingClassifier()  is [0.57705287 0.42881261 0.75689364 0.81204277 0.71975239 0.778278\n",
      " 0.83342712]\n",
      "Mean of Cross Val. score is  0.7008941994639126\n",
      "taking cv = 8\n",
      "Cross validation score for  GradientBoostingClassifier()  is [0.54790997 0.54469453 0.70868167 0.71446945 0.79614148 0.80836013\n",
      " 0.80900322 0.8392283 ]\n",
      "Mean of Cross Val. score is  0.7210610932475885\n",
      "taking cv = 9\n",
      "Cross validation score for  GradientBoostingClassifier()  is [0.56399132 0.56616052 0.56078148 0.7698987  0.82054993 0.76845152\n",
      " 0.77134588 0.7894356  0.83791606]\n",
      "Mean of Cross Val. score is  0.716503444939394\n",
      "taking cv = 2\n",
      "Cross validation score for  AdaBoostClassifier()  is [0.51286174 0.57813505]\n",
      "Mean of Cross Val. score is  0.5454983922829582\n",
      "taking cv = 3\n",
      "Cross validation score for  AdaBoostClassifier()  is [0.47046057 0.56402218 0.69561023]\n",
      "Mean of Cross Val. score is  0.5766976617817478\n",
      "taking cv = 4\n",
      "Cross validation score for  AdaBoostClassifier()  is [0.55241158 0.53569132 0.61414791 0.67009646]\n",
      "Mean of Cross Val. score is  0.5930868167202572\n",
      "taking cv = 5\n",
      "Cross validation score for  AdaBoostClassifier()  is [0.51205788 0.55988746 0.66881029 0.71623794 0.67845659]\n",
      "Mean of Cross Val. score is  0.6270900321543409\n",
      "taking cv = 6\n",
      "Cross validation score for  AdaBoostClassifier()  is [0.49324976 0.41465767 0.51085384 0.70188133 0.69368066 0.77038109]\n",
      "Mean of Cross Val. score is  0.5974507229920193\n",
      "taking cv = 7\n",
      "Cross validation score for  AdaBoostClassifier()  is [0.49381327 0.40855374 0.7259426  0.74001125 0.66178953 0.72650535\n",
      " 0.77546427]\n",
      "Mean of Cross Val. score is  0.647440002148618\n",
      "taking cv = 8\n",
      "Cross validation score for  AdaBoostClassifier()  is [0.42636656 0.50546624 0.65080386 0.63729904 0.73826367 0.76720257\n",
      " 0.75755627 0.79807074]\n",
      "Mean of Cross Val. score is  0.660128617363344\n",
      "taking cv = 9\n",
      "Cross validation score for  AdaBoostClassifier()  is [0.46565437 0.54736081 0.54052098 0.73082489 0.75904486 0.70911722\n",
      " 0.73950796 0.75180897 0.79811867]\n",
      "Mean of Cross Val. score is  0.6713287493821851\n"
     ]
    }
   ],
   "source": [
    "from sklearn.model_selection import cross_val_score\n",
    "\n",
    "# validation accuracy\n",
    "\n",
    "model=[lg,dtc,rf, knn,gbc,ada]\n",
    "\n",
    "for i in model:\n",
    "    for j in range(2,10):\n",
    "        print('taking cv =', j)\n",
    "        cr_score=cross_val_score(i, X, Y, cv=j)\n",
    "        print('Cross validation score for ' , i ,' is', cr_score)\n",
    "        print('Mean of Cross Val. score is ', cr_score.mean())"
   ]
  },
  {
   "cell_type": "markdown",
   "id": "4f468a40",
   "metadata": {},
   "source": [
    "### Observation Made from abovelassifier models:\n",
    "- The Random Forest Classifier is giving the testing accuracy 93%  ."
   ]
  },
  {
   "cell_type": "markdown",
   "id": "b76986cd",
   "metadata": {},
   "source": [
    "# Hyperparameter Tuning"
   ]
  },
  {
   "cell_type": "code",
   "execution_count": 74,
   "id": "d2655c70",
   "metadata": {},
   "outputs": [],
   "source": [
    "from sklearn.model_selection import RandomizedSearchCV\n",
    "\n",
    "#Creating parameter list to be passed in RandomizedSearchCV\n",
    "parameters = {\n",
    " 'max_features': ['auto', 'sqrt','log2']\n",
    "    \n",
    "} \n",
    "\n",
    "RCV=RandomizedSearchCV(estimator=RandomForestClassifier(),\n",
    "                param_distributions=parameters,\n",
    "                cv=9,\n",
    "                scoring='accuracy')"
   ]
  },
  {
   "cell_type": "code",
   "execution_count": 75,
   "id": "ca2b6846",
   "metadata": {},
   "outputs": [
    {
     "data": {
      "text/plain": [
       "RandomizedSearchCV(cv=9, estimator=RandomForestClassifier(),\n",
       "                   param_distributions={'max_features': ['auto', 'sqrt',\n",
       "                                                         'log2']},\n",
       "                   scoring='accuracy')"
      ]
     },
     "execution_count": 75,
     "metadata": {},
     "output_type": "execute_result"
    }
   ],
   "source": [
    "RCV.fit(X_train,Y_train)"
   ]
  },
  {
   "cell_type": "code",
   "execution_count": 76,
   "id": "1c289c9b",
   "metadata": {},
   "outputs": [
    {
     "data": {
      "text/plain": [
       "{'max_features': 'sqrt'}"
      ]
     },
     "execution_count": 76,
     "metadata": {},
     "output_type": "execute_result"
    }
   ],
   "source": [
    "RCV.best_params_"
   ]
  },
  {
   "cell_type": "code",
   "execution_count": 77,
   "id": "683dcd94",
   "metadata": {},
   "outputs": [
    {
     "name": "stdout",
     "output_type": "stream",
     "text": [
      "Final Accuracy is with Random Forest Classifier =  0.932475884244373\n"
     ]
    }
   ],
   "source": [
    "# Checking score with best parameter\n",
    "final_model=RandomForestClassifier(max_features='sqrt')\n",
    "final_model.fit(X_train,Y_train)\n",
    "predfinal=final_model.predict(X_test)\n",
    "print('Final Accuracy is with Random Forest Classifier = ',accuracy_score(Y_test,predfinal))"
   ]
  },
  {
   "cell_type": "code",
   "execution_count": 79,
   "id": "5deebab4",
   "metadata": {},
   "outputs": [
    {
     "data": {
      "text/plain": [
       "<function matplotlib.pyplot.show(close=None, block=None)>"
      ]
     },
     "execution_count": 79,
     "metadata": {},
     "output_type": "execute_result"
    },
    {
     "data": {
      "image/png": "[encoded data removed]",
      "text/plain": [
       "<Figure size 432x288 with 1 Axes>"
      ]
     },
     "metadata": {
      "needs_background": "light"
     },
     "output_type": "display_data"
    }
   ],
   "source": [
    "#AUC ROC of Best Estimator\n",
    "from sklearn.metrics import plot_roc_curve\n",
    "plot_roc_curve(RCV.best_estimator_,X_test,Y_test)\n",
    "plt.title('AUC ROC Curve')\n",
    "plt.show"
   ]
  },
  {
   "cell_type": "markdown",
   "id": "52188798",
   "metadata": {},
   "source": [
    "# Saving the model"
   ]
  },
  {
   "cell_type": "code",
   "execution_count": 81,
   "id": "2ab29e2d",
   "metadata": {},
   "outputs": [
    {
     "data": {
      "text/plain": [
       "['Rainfall weather forecasting.pkl']"
      ]
     },
     "execution_count": 81,
     "metadata": {},
     "output_type": "execute_result"
    }
   ],
   "source": [
    "import joblib\n",
    "joblib.dump(RCV.best_estimator_, \"Rainfall weather forecasting.pkl\")"
   ]
  },
  {
   "cell_type": "code",
   "execution_count": 82,
   "id": "50d50714",
   "metadata": {},
   "outputs": [
    {
     "data": {
      "text/html": [
       "<div>\n",
       "<style scoped>\n",
       "    .dataframe tbody tr th:only-of-type {\n",
       "        vertical-align: middle;\n",
       "    }\n",
       "\n",
       "    .dataframe tbody tr th {\n",
       "        vertical-align: top;\n",
       "    }\n",
       "\n",
       "    .dataframe thead th {\n",
       "        text-align: right;\n",
       "    }\n",
       "</style>\n",
       "<table border=\"1\" class=\"dataframe\">\n",
       "  <thead>\n",
       "    <tr style=\"text-align: right;\">\n",
       "      <th></th>\n",
       "      <th>Original</th>\n",
       "      <th>Predicted</th>\n",
       "    </tr>\n",
       "  </thead>\n",
       "  <tbody>\n",
       "    <tr>\n",
       "      <th>0</th>\n",
       "      <td>1</td>\n",
       "      <td>1</td>\n",
       "    </tr>\n",
       "    <tr>\n",
       "      <th>1</th>\n",
       "      <td>1</td>\n",
       "      <td>1</td>\n",
       "    </tr>\n",
       "    <tr>\n",
       "      <th>2</th>\n",
       "      <td>1</td>\n",
       "      <td>1</td>\n",
       "    </tr>\n",
       "    <tr>\n",
       "      <th>3</th>\n",
       "      <td>0</td>\n",
       "      <td>0</td>\n",
       "    </tr>\n",
       "    <tr>\n",
       "      <th>4</th>\n",
       "      <td>1</td>\n",
       "      <td>1</td>\n",
       "    </tr>\n",
       "    <tr>\n",
       "      <th>...</th>\n",
       "      <td>...</td>\n",
       "      <td>...</td>\n",
       "    </tr>\n",
       "    <tr>\n",
       "      <th>2483</th>\n",
       "      <td>1</td>\n",
       "      <td>1</td>\n",
       "    </tr>\n",
       "    <tr>\n",
       "      <th>2484</th>\n",
       "      <td>0</td>\n",
       "      <td>0</td>\n",
       "    </tr>\n",
       "    <tr>\n",
       "      <th>2485</th>\n",
       "      <td>1</td>\n",
       "      <td>1</td>\n",
       "    </tr>\n",
       "    <tr>\n",
       "      <th>2486</th>\n",
       "      <td>0</td>\n",
       "      <td>0</td>\n",
       "    </tr>\n",
       "    <tr>\n",
       "      <th>2487</th>\n",
       "      <td>0</td>\n",
       "      <td>0</td>\n",
       "    </tr>\n",
       "  </tbody>\n",
       "</table>\n",
       "<p>2488 rows × 2 columns</p>\n",
       "</div>"
      ],
      "text/plain": [
       "      Original  Predicted\n",
       "0            1          1\n",
       "1            1          1\n",
       "2            1          1\n",
       "3            0          0\n",
       "4            1          1\n",
       "...        ...        ...\n",
       "2483         1          1\n",
       "2484         0          0\n",
       "2485         1          1\n",
       "2486         0          0\n",
       "2487         0          0\n",
       "\n",
       "[2488 rows x 2 columns]"
      ]
     },
     "execution_count": 82,
     "metadata": {},
     "output_type": "execute_result"
    }
   ],
   "source": [
    "# Conclusion\n",
    "a=np.array(Y_test)\n",
    "predicted=np.array(predfinal)\n",
    "df_con=pd.DataFrame({'Original':a,'Predicted':predicted}, index=range(len(a)))\n",
    "df_con"
   ]
  },
  {
   "cell_type": "markdown",
   "id": "6c2417ee",
   "metadata": {},
   "source": [
    "# Part 2: Regression model for the Prediction of 'Rainfall'"
   ]
  },
  {
   "cell_type": "code",
   "execution_count": 89,
   "id": "9a536cf7",
   "metadata": {},
   "outputs": [
    {
     "name": "stdout",
     "output_type": "stream",
     "text": [
      "(8064, 16)\n",
      "(8064,)\n"
     ]
    }
   ],
   "source": [
    "X = df.drop(['Rainfall'], axis=1)\n",
    "Y= df['Rainfall']\n",
    "print(X.shape)\n",
    "print(Y.shape)"
   ]
  },
  {
   "cell_type": "code",
   "execution_count": 90,
   "id": "7dfb0e64",
   "metadata": {},
   "outputs": [
    {
     "data": {
      "text/html": [
       "<div>\n",
       "<style scoped>\n",
       "    .dataframe tbody tr th:only-of-type {\n",
       "        vertical-align: middle;\n",
       "    }\n",
       "\n",
       "    .dataframe tbody tr th {\n",
       "        vertical-align: top;\n",
       "    }\n",
       "\n",
       "    .dataframe thead th {\n",
       "        text-align: right;\n",
       "    }\n",
       "</style>\n",
       "<table border=\"1\" class=\"dataframe\">\n",
       "  <thead>\n",
       "    <tr style=\"text-align: right;\">\n",
       "      <th></th>\n",
       "      <th>Location</th>\n",
       "      <th>MinTemp</th>\n",
       "      <th>MaxTemp</th>\n",
       "      <th>Evaporation</th>\n",
       "      <th>Sunshine</th>\n",
       "      <th>WindGustDir</th>\n",
       "      <th>WindGustSpeed</th>\n",
       "      <th>WindDir9am</th>\n",
       "      <th>WindDir3pm</th>\n",
       "      <th>RainToday</th>\n",
       "      <th>RainTomorrow</th>\n",
       "      <th>Avg_WindSpeed</th>\n",
       "      <th>Avg_Humidity</th>\n",
       "      <th>Avg_Cloud</th>\n",
       "      <th>Avg_Temp</th>\n",
       "      <th>Avg_Pressure</th>\n",
       "    </tr>\n",
       "  </thead>\n",
       "  <tbody>\n",
       "    <tr>\n",
       "      <th>0</th>\n",
       "      <td>-1.509770</td>\n",
       "      <td>0.053772</td>\n",
       "      <td>-0.150131</td>\n",
       "      <td>-0.093383</td>\n",
       "      <td>-0.014245</td>\n",
       "      <td>1.233582</td>\n",
       "      <td>0.352079</td>\n",
       "      <td>1.256877</td>\n",
       "      <td>1.400197</td>\n",
       "      <td>-0.541229</td>\n",
       "      <td>-0.544484</td>\n",
       "      <td>0.743379</td>\n",
       "      <td>-0.829609</td>\n",
       "      <td>0.013692</td>\n",
       "      <td>-0.129902</td>\n",
       "      <td>-1.542225</td>\n",
       "    </tr>\n",
       "    <tr>\n",
       "      <th>1</th>\n",
       "      <td>-1.509770</td>\n",
       "      <td>-1.060593</td>\n",
       "      <td>0.214020</td>\n",
       "      <td>-0.093383</td>\n",
       "      <td>-0.014245</td>\n",
       "      <td>1.446370</td>\n",
       "      <td>0.352079</td>\n",
       "      <td>-0.273201</td>\n",
       "      <td>1.626646</td>\n",
       "      <td>-0.541229</td>\n",
       "      <td>-0.544484</td>\n",
       "      <td>-0.343811</td>\n",
       "      <td>-1.597091</td>\n",
       "      <td>0.013692</td>\n",
       "      <td>0.125170</td>\n",
       "      <td>-1.239747</td>\n",
       "    </tr>\n",
       "    <tr>\n",
       "      <th>2</th>\n",
       "      <td>-1.509770</td>\n",
       "      <td>-0.039092</td>\n",
       "      <td>0.313334</td>\n",
       "      <td>-0.093383</td>\n",
       "      <td>-0.014245</td>\n",
       "      <td>1.659158</td>\n",
       "      <td>0.507491</td>\n",
       "      <td>1.256877</td>\n",
       "      <td>1.626646</td>\n",
       "      <td>-0.541229</td>\n",
       "      <td>-0.544484</td>\n",
       "      <td>0.803779</td>\n",
       "      <td>-1.629069</td>\n",
       "      <td>0.013692</td>\n",
       "      <td>0.371132</td>\n",
       "      <td>-1.416193</td>\n",
       "    </tr>\n",
       "    <tr>\n",
       "      <th>3</th>\n",
       "      <td>-1.509770</td>\n",
       "      <td>-0.726283</td>\n",
       "      <td>0.694038</td>\n",
       "      <td>-0.093383</td>\n",
       "      <td>-0.014245</td>\n",
       "      <td>-0.681506</td>\n",
       "      <td>-1.202039</td>\n",
       "      <td>0.382547</td>\n",
       "      <td>-1.770086</td>\n",
       "      <td>-0.541229</td>\n",
       "      <td>-0.544484</td>\n",
       "      <td>-0.706208</td>\n",
       "      <td>-1.852918</td>\n",
       "      <td>0.013692</td>\n",
       "      <td>0.407571</td>\n",
       "      <td>-0.231485</td>\n",
       "    </tr>\n",
       "    <tr>\n",
       "      <th>4</th>\n",
       "      <td>-1.509770</td>\n",
       "      <td>0.815254</td>\n",
       "      <td>1.405788</td>\n",
       "      <td>-0.093383</td>\n",
       "      <td>-0.014245</td>\n",
       "      <td>1.233582</td>\n",
       "      <td>0.118962</td>\n",
       "      <td>-1.366114</td>\n",
       "      <td>-0.184944</td>\n",
       "      <td>-0.541229</td>\n",
       "      <td>-0.544484</td>\n",
       "      <td>-0.283412</td>\n",
       "      <td>-0.126084</td>\n",
       "      <td>1.478888</td>\n",
       "      <td>0.671753</td>\n",
       "      <td>-1.374182</td>\n",
       "    </tr>\n",
       "    <tr>\n",
       "      <th>...</th>\n",
       "      <td>...</td>\n",
       "      <td>...</td>\n",
       "      <td>...</td>\n",
       "      <td>...</td>\n",
       "      <td>...</td>\n",
       "      <td>...</td>\n",
       "      <td>...</td>\n",
       "      <td>...</td>\n",
       "      <td>...</td>\n",
       "      <td>...</td>\n",
       "      <td>...</td>\n",
       "      <td>...</td>\n",
       "      <td>...</td>\n",
       "      <td>...</td>\n",
       "      <td>...</td>\n",
       "      <td>...</td>\n",
       "    </tr>\n",
       "    <tr>\n",
       "      <th>8059</th>\n",
       "      <td>1.029752</td>\n",
       "      <td>-1.914939</td>\n",
       "      <td>-0.067369</td>\n",
       "      <td>-0.093383</td>\n",
       "      <td>-0.014245</td>\n",
       "      <td>-1.532657</td>\n",
       "      <td>-0.658098</td>\n",
       "      <td>0.382547</td>\n",
       "      <td>-1.543638</td>\n",
       "      <td>-0.541229</td>\n",
       "      <td>-0.544484</td>\n",
       "      <td>-0.464610</td>\n",
       "      <td>-1.405220</td>\n",
       "      <td>0.013692</td>\n",
       "      <td>-0.694705</td>\n",
       "      <td>0.986830</td>\n",
       "    </tr>\n",
       "    <tr>\n",
       "      <th>8060</th>\n",
       "      <td>1.029752</td>\n",
       "      <td>-1.766357</td>\n",
       "      <td>0.247125</td>\n",
       "      <td>-0.093383</td>\n",
       "      <td>-0.014245</td>\n",
       "      <td>-0.255931</td>\n",
       "      <td>-1.357451</td>\n",
       "      <td>0.382547</td>\n",
       "      <td>-1.090740</td>\n",
       "      <td>-0.541229</td>\n",
       "      <td>-0.544484</td>\n",
       "      <td>-0.585409</td>\n",
       "      <td>-1.341263</td>\n",
       "      <td>0.013692</td>\n",
       "      <td>-0.430523</td>\n",
       "      <td>0.793580</td>\n",
       "    </tr>\n",
       "    <tr>\n",
       "      <th>8061</th>\n",
       "      <td>1.029752</td>\n",
       "      <td>-1.432047</td>\n",
       "      <td>0.511962</td>\n",
       "      <td>-0.093383</td>\n",
       "      <td>-0.014245</td>\n",
       "      <td>-0.894294</td>\n",
       "      <td>-0.191862</td>\n",
       "      <td>0.382547</td>\n",
       "      <td>1.400197</td>\n",
       "      <td>-0.541229</td>\n",
       "      <td>-0.544484</td>\n",
       "      <td>-0.827007</td>\n",
       "      <td>-1.341263</td>\n",
       "      <td>0.013692</td>\n",
       "      <td>-0.139012</td>\n",
       "      <td>0.390276</td>\n",
       "    </tr>\n",
       "    <tr>\n",
       "      <th>8062</th>\n",
       "      <td>1.029752</td>\n",
       "      <td>-0.986302</td>\n",
       "      <td>0.528515</td>\n",
       "      <td>-0.093383</td>\n",
       "      <td>-0.014245</td>\n",
       "      <td>0.382432</td>\n",
       "      <td>-0.891215</td>\n",
       "      <td>0.601129</td>\n",
       "      <td>-1.090740</td>\n",
       "      <td>-0.541229</td>\n",
       "      <td>-0.544484</td>\n",
       "      <td>-0.706208</td>\n",
       "      <td>-1.405220</td>\n",
       "      <td>-0.967778</td>\n",
       "      <td>0.088731</td>\n",
       "      <td>0.230634</td>\n",
       "    </tr>\n",
       "    <tr>\n",
       "      <th>8063</th>\n",
       "      <td>1.029752</td>\n",
       "      <td>0.332363</td>\n",
       "      <td>0.008768</td>\n",
       "      <td>-0.093383</td>\n",
       "      <td>-0.014245</td>\n",
       "      <td>-0.894294</td>\n",
       "      <td>0.054813</td>\n",
       "      <td>-1.147531</td>\n",
       "      <td>-1.317189</td>\n",
       "      <td>-0.541229</td>\n",
       "      <td>-0.544484</td>\n",
       "      <td>0.139385</td>\n",
       "      <td>-0.669717</td>\n",
       "      <td>1.723555</td>\n",
       "      <td>-0.384974</td>\n",
       "      <td>0.415482</td>\n",
       "    </tr>\n",
       "  </tbody>\n",
       "</table>\n",
       "<p>8064 rows × 16 columns</p>\n",
       "</div>"
      ],
      "text/plain": [
       "      Location   MinTemp   MaxTemp  Evaporation  Sunshine  WindGustDir  \\\n",
       "0    -1.509770  0.053772 -0.150131    -0.093383 -0.014245     1.233582   \n",
       "1    -1.509770 -1.060593  0.214020    -0.093383 -0.014245     1.446370   \n",
       "2    -1.509770 -0.039092  0.313334    -0.093383 -0.014245     1.659158   \n",
       "3    -1.509770 -0.726283  0.694038    -0.093383 -0.014245    -0.681506   \n",
       "4    -1.509770  0.815254  1.405788    -0.093383 -0.014245     1.233582   \n",
       "...        ...       ...       ...          ...       ...          ...   \n",
       "8059  1.029752 -1.914939 -0.067369    -0.093383 -0.014245    -1.532657   \n",
       "8060  1.029752 -1.766357  0.247125    -0.093383 -0.014245    -0.255931   \n",
       "8061  1.029752 -1.432047  0.511962    -0.093383 -0.014245    -0.894294   \n",
       "8062  1.029752 -0.986302  0.528515    -0.093383 -0.014245     0.382432   \n",
       "8063  1.029752  0.332363  0.008768    -0.093383 -0.014245    -0.894294   \n",
       "\n",
       "      WindGustSpeed  WindDir9am  WindDir3pm  RainToday  RainTomorrow  \\\n",
       "0          0.352079    1.256877    1.400197  -0.541229     -0.544484   \n",
       "1          0.352079   -0.273201    1.626646  -0.541229     -0.544484   \n",
       "2          0.507491    1.256877    1.626646  -0.541229     -0.544484   \n",
       "3         -1.202039    0.382547   -1.770086  -0.541229     -0.544484   \n",
       "4          0.118962   -1.366114   -0.184944  -0.541229     -0.544484   \n",
       "...             ...         ...         ...        ...           ...   \n",
       "8059      -0.658098    0.382547   -1.543638  -0.541229     -0.544484   \n",
       "8060      -1.357451    0.382547   -1.090740  -0.541229     -0.544484   \n",
       "8061      -0.191862    0.382547    1.400197  -0.541229     -0.544484   \n",
       "8062      -0.891215    0.601129   -1.090740  -0.541229     -0.544484   \n",
       "8063       0.054813   -1.147531   -1.317189  -0.541229     -0.544484   \n",
       "\n",
       "      Avg_WindSpeed  Avg_Humidity  Avg_Cloud  Avg_Temp  Avg_Pressure  \n",
       "0          0.743379     -0.829609   0.013692 -0.129902     -1.542225  \n",
       "1         -0.343811     -1.597091   0.013692  0.125170     -1.239747  \n",
       "2          0.803779     -1.629069   0.013692  0.371132     -1.416193  \n",
       "3         -0.706208     -1.852918   0.013692  0.407571     -0.231485  \n",
       "4         -0.283412     -0.126084   1.478888  0.671753     -1.374182  \n",
       "...             ...           ...        ...       ...           ...  \n",
       "8059      -0.464610     -1.405220   0.013692 -0.694705      0.986830  \n",
       "8060      -0.585409     -1.341263   0.013692 -0.430523      0.793580  \n",
       "8061      -0.827007     -1.341263   0.013692 -0.139012      0.390276  \n",
       "8062      -0.706208     -1.405220  -0.967778  0.088731      0.230634  \n",
       "8063       0.139385     -0.669717   1.723555 -0.384974      0.415482  \n",
       "\n",
       "[8064 rows x 16 columns]"
      ]
     },
     "execution_count": 90,
     "metadata": {},
     "output_type": "execute_result"
    }
   ],
   "source": [
    "#standardising features\n",
    "sc= StandardScaler()\n",
    "X = pd.DataFrame(sc.fit_transform(X), columns = X.columns)\n",
    "X"
   ]
  },
  {
   "cell_type": "code",
   "execution_count": 91,
   "id": "a62a1591",
   "metadata": {},
   "outputs": [
    {
     "data": {
      "text/html": [
       "<div>\n",
       "<style scoped>\n",
       "    .dataframe tbody tr th:only-of-type {\n",
       "        vertical-align: middle;\n",
       "    }\n",
       "\n",
       "    .dataframe tbody tr th {\n",
       "        vertical-align: top;\n",
       "    }\n",
       "\n",
       "    .dataframe thead th {\n",
       "        text-align: right;\n",
       "    }\n",
       "</style>\n",
       "<table border=\"1\" class=\"dataframe\">\n",
       "  <thead>\n",
       "    <tr style=\"text-align: right;\">\n",
       "      <th></th>\n",
       "      <th>vif_Features</th>\n",
       "      <th>Features</th>\n",
       "    </tr>\n",
       "  </thead>\n",
       "  <tbody>\n",
       "    <tr>\n",
       "      <th>0</th>\n",
       "      <td>1.151103</td>\n",
       "      <td>Location</td>\n",
       "    </tr>\n",
       "    <tr>\n",
       "      <th>1</th>\n",
       "      <td>6.607338</td>\n",
       "      <td>MinTemp</td>\n",
       "    </tr>\n",
       "    <tr>\n",
       "      <th>2</th>\n",
       "      <td>16.298686</td>\n",
       "      <td>MaxTemp</td>\n",
       "    </tr>\n",
       "    <tr>\n",
       "      <th>3</th>\n",
       "      <td>1.524109</td>\n",
       "      <td>Evaporation</td>\n",
       "    </tr>\n",
       "    <tr>\n",
       "      <th>4</th>\n",
       "      <td>1.950228</td>\n",
       "      <td>Sunshine</td>\n",
       "    </tr>\n",
       "    <tr>\n",
       "      <th>5</th>\n",
       "      <td>1.567567</td>\n",
       "      <td>WindGustDir</td>\n",
       "    </tr>\n",
       "    <tr>\n",
       "      <th>6</th>\n",
       "      <td>2.367116</td>\n",
       "      <td>WindGustSpeed</td>\n",
       "    </tr>\n",
       "    <tr>\n",
       "      <th>7</th>\n",
       "      <td>1.311378</td>\n",
       "      <td>WindDir9am</td>\n",
       "    </tr>\n",
       "    <tr>\n",
       "      <th>8</th>\n",
       "      <td>1.405620</td>\n",
       "      <td>WindDir3pm</td>\n",
       "    </tr>\n",
       "    <tr>\n",
       "      <th>9</th>\n",
       "      <td>1.301367</td>\n",
       "      <td>RainToday</td>\n",
       "    </tr>\n",
       "    <tr>\n",
       "      <th>10</th>\n",
       "      <td>1.376850</td>\n",
       "      <td>RainTomorrow</td>\n",
       "    </tr>\n",
       "    <tr>\n",
       "      <th>11</th>\n",
       "      <td>2.239036</td>\n",
       "      <td>Avg_WindSpeed</td>\n",
       "    </tr>\n",
       "    <tr>\n",
       "      <th>12</th>\n",
       "      <td>2.621114</td>\n",
       "      <td>Avg_Humidity</td>\n",
       "    </tr>\n",
       "    <tr>\n",
       "      <th>13</th>\n",
       "      <td>1.901181</td>\n",
       "      <td>Avg_Cloud</td>\n",
       "    </tr>\n",
       "    <tr>\n",
       "      <th>14</th>\n",
       "      <td>25.989674</td>\n",
       "      <td>Avg_Temp</td>\n",
       "    </tr>\n",
       "    <tr>\n",
       "      <th>15</th>\n",
       "      <td>1.480208</td>\n",
       "      <td>Avg_Pressure</td>\n",
       "    </tr>\n",
       "  </tbody>\n",
       "</table>\n",
       "</div>"
      ],
      "text/plain": [
       "    vif_Features       Features\n",
       "0       1.151103       Location\n",
       "1       6.607338        MinTemp\n",
       "2      16.298686        MaxTemp\n",
       "3       1.524109    Evaporation\n",
       "4       1.950228       Sunshine\n",
       "5       1.567567    WindGustDir\n",
       "6       2.367116  WindGustSpeed\n",
       "7       1.311378     WindDir9am\n",
       "8       1.405620     WindDir3pm\n",
       "9       1.301367      RainToday\n",
       "10      1.376850   RainTomorrow\n",
       "11      2.239036  Avg_WindSpeed\n",
       "12      2.621114   Avg_Humidity\n",
       "13      1.901181      Avg_Cloud\n",
       "14     25.989674       Avg_Temp\n",
       "15      1.480208   Avg_Pressure"
      ]
     },
     "execution_count": 91,
     "metadata": {},
     "output_type": "execute_result"
    }
   ],
   "source": [
    "# checking multicollinearity\n",
    "from statsmodels.stats.outliers_influence import variance_inflation_factor\n",
    "vif=pd.DataFrame()\n",
    "vif[\"vif_Features\"]=[variance_inflation_factor(X.values, i) for i in range(X.shape[1])]\n",
    "vif[\"Features\"]=X.columns\n",
    "vif"
   ]
  },
  {
   "cell_type": "code",
   "execution_count": 92,
   "id": "80eb535d",
   "metadata": {},
   "outputs": [
    {
     "data": {
      "text/html": [
       "<div>\n",
       "<style scoped>\n",
       "    .dataframe tbody tr th:only-of-type {\n",
       "        vertical-align: middle;\n",
       "    }\n",
       "\n",
       "    .dataframe tbody tr th {\n",
       "        vertical-align: top;\n",
       "    }\n",
       "\n",
       "    .dataframe thead th {\n",
       "        text-align: right;\n",
       "    }\n",
       "</style>\n",
       "<table border=\"1\" class=\"dataframe\">\n",
       "  <thead>\n",
       "    <tr style=\"text-align: right;\">\n",
       "      <th></th>\n",
       "      <th>Location</th>\n",
       "      <th>MinTemp</th>\n",
       "      <th>MaxTemp</th>\n",
       "      <th>Evaporation</th>\n",
       "      <th>Sunshine</th>\n",
       "      <th>WindGustDir</th>\n",
       "      <th>WindGustSpeed</th>\n",
       "      <th>WindDir9am</th>\n",
       "      <th>WindDir3pm</th>\n",
       "      <th>RainToday</th>\n",
       "      <th>RainTomorrow</th>\n",
       "      <th>Avg_WindSpeed</th>\n",
       "      <th>Avg_Humidity</th>\n",
       "      <th>Avg_Cloud</th>\n",
       "      <th>Avg_Pressure</th>\n",
       "    </tr>\n",
       "  </thead>\n",
       "  <tbody>\n",
       "    <tr>\n",
       "      <th>0</th>\n",
       "      <td>-1.50977</td>\n",
       "      <td>0.053772</td>\n",
       "      <td>-0.150131</td>\n",
       "      <td>-0.093383</td>\n",
       "      <td>-0.014245</td>\n",
       "      <td>1.233582</td>\n",
       "      <td>0.352079</td>\n",
       "      <td>1.256877</td>\n",
       "      <td>1.400197</td>\n",
       "      <td>-0.541229</td>\n",
       "      <td>-0.544484</td>\n",
       "      <td>0.743379</td>\n",
       "      <td>-0.829609</td>\n",
       "      <td>0.013692</td>\n",
       "      <td>-1.542225</td>\n",
       "    </tr>\n",
       "    <tr>\n",
       "      <th>1</th>\n",
       "      <td>-1.50977</td>\n",
       "      <td>-1.060593</td>\n",
       "      <td>0.214020</td>\n",
       "      <td>-0.093383</td>\n",
       "      <td>-0.014245</td>\n",
       "      <td>1.446370</td>\n",
       "      <td>0.352079</td>\n",
       "      <td>-0.273201</td>\n",
       "      <td>1.626646</td>\n",
       "      <td>-0.541229</td>\n",
       "      <td>-0.544484</td>\n",
       "      <td>-0.343811</td>\n",
       "      <td>-1.597091</td>\n",
       "      <td>0.013692</td>\n",
       "      <td>-1.239747</td>\n",
       "    </tr>\n",
       "    <tr>\n",
       "      <th>2</th>\n",
       "      <td>-1.50977</td>\n",
       "      <td>-0.039092</td>\n",
       "      <td>0.313334</td>\n",
       "      <td>-0.093383</td>\n",
       "      <td>-0.014245</td>\n",
       "      <td>1.659158</td>\n",
       "      <td>0.507491</td>\n",
       "      <td>1.256877</td>\n",
       "      <td>1.626646</td>\n",
       "      <td>-0.541229</td>\n",
       "      <td>-0.544484</td>\n",
       "      <td>0.803779</td>\n",
       "      <td>-1.629069</td>\n",
       "      <td>0.013692</td>\n",
       "      <td>-1.416193</td>\n",
       "    </tr>\n",
       "    <tr>\n",
       "      <th>3</th>\n",
       "      <td>-1.50977</td>\n",
       "      <td>-0.726283</td>\n",
       "      <td>0.694038</td>\n",
       "      <td>-0.093383</td>\n",
       "      <td>-0.014245</td>\n",
       "      <td>-0.681506</td>\n",
       "      <td>-1.202039</td>\n",
       "      <td>0.382547</td>\n",
       "      <td>-1.770086</td>\n",
       "      <td>-0.541229</td>\n",
       "      <td>-0.544484</td>\n",
       "      <td>-0.706208</td>\n",
       "      <td>-1.852918</td>\n",
       "      <td>0.013692</td>\n",
       "      <td>-0.231485</td>\n",
       "    </tr>\n",
       "    <tr>\n",
       "      <th>4</th>\n",
       "      <td>-1.50977</td>\n",
       "      <td>0.815254</td>\n",
       "      <td>1.405788</td>\n",
       "      <td>-0.093383</td>\n",
       "      <td>-0.014245</td>\n",
       "      <td>1.233582</td>\n",
       "      <td>0.118962</td>\n",
       "      <td>-1.366114</td>\n",
       "      <td>-0.184944</td>\n",
       "      <td>-0.541229</td>\n",
       "      <td>-0.544484</td>\n",
       "      <td>-0.283412</td>\n",
       "      <td>-0.126084</td>\n",
       "      <td>1.478888</td>\n",
       "      <td>-1.374182</td>\n",
       "    </tr>\n",
       "  </tbody>\n",
       "</table>\n",
       "</div>"
      ],
      "text/plain": [
       "   Location   MinTemp   MaxTemp  Evaporation  Sunshine  WindGustDir  \\\n",
       "0  -1.50977  0.053772 -0.150131    -0.093383 -0.014245     1.233582   \n",
       "1  -1.50977 -1.060593  0.214020    -0.093383 -0.014245     1.446370   \n",
       "2  -1.50977 -0.039092  0.313334    -0.093383 -0.014245     1.659158   \n",
       "3  -1.50977 -0.726283  0.694038    -0.093383 -0.014245    -0.681506   \n",
       "4  -1.50977  0.815254  1.405788    -0.093383 -0.014245     1.233582   \n",
       "\n",
       "   WindGustSpeed  WindDir9am  WindDir3pm  RainToday  RainTomorrow  \\\n",
       "0       0.352079    1.256877    1.400197  -0.541229     -0.544484   \n",
       "1       0.352079   -0.273201    1.626646  -0.541229     -0.544484   \n",
       "2       0.507491    1.256877    1.626646  -0.541229     -0.544484   \n",
       "3      -1.202039    0.382547   -1.770086  -0.541229     -0.544484   \n",
       "4       0.118962   -1.366114   -0.184944  -0.541229     -0.544484   \n",
       "\n",
       "   Avg_WindSpeed  Avg_Humidity  Avg_Cloud  Avg_Pressure  \n",
       "0       0.743379     -0.829609   0.013692     -1.542225  \n",
       "1      -0.343811     -1.597091   0.013692     -1.239747  \n",
       "2       0.803779     -1.629069   0.013692     -1.416193  \n",
       "3      -0.706208     -1.852918   0.013692     -0.231485  \n",
       "4      -0.283412     -0.126084   1.478888     -1.374182  "
      ]
     },
     "execution_count": 92,
     "metadata": {},
     "output_type": "execute_result"
    }
   ],
   "source": [
    "# Dropping Avg_Temp as Avg_Temp and Max_Temp show multicollinearity\n",
    "\n",
    "X = X.drop([\"Avg_Temp\"],axis=1)\n",
    "X.head()"
   ]
  },
  {
   "cell_type": "code",
   "execution_count": 93,
   "id": "6312d4be",
   "metadata": {},
   "outputs": [
    {
     "data": {
      "text/html": [
       "<div>\n",
       "<style scoped>\n",
       "    .dataframe tbody tr th:only-of-type {\n",
       "        vertical-align: middle;\n",
       "    }\n",
       "\n",
       "    .dataframe tbody tr th {\n",
       "        vertical-align: top;\n",
       "    }\n",
       "\n",
       "    .dataframe thead th {\n",
       "        text-align: right;\n",
       "    }\n",
       "</style>\n",
       "<table border=\"1\" class=\"dataframe\">\n",
       "  <thead>\n",
       "    <tr style=\"text-align: right;\">\n",
       "      <th></th>\n",
       "      <th>vif_Features</th>\n",
       "      <th>Features</th>\n",
       "    </tr>\n",
       "  </thead>\n",
       "  <tbody>\n",
       "    <tr>\n",
       "      <th>0</th>\n",
       "      <td>1.139003</td>\n",
       "      <td>Location</td>\n",
       "    </tr>\n",
       "    <tr>\n",
       "      <th>1</th>\n",
       "      <td>3.693766</td>\n",
       "      <td>MinTemp</td>\n",
       "    </tr>\n",
       "    <tr>\n",
       "      <th>2</th>\n",
       "      <td>4.647906</td>\n",
       "      <td>MaxTemp</td>\n",
       "    </tr>\n",
       "    <tr>\n",
       "      <th>3</th>\n",
       "      <td>1.523695</td>\n",
       "      <td>Evaporation</td>\n",
       "    </tr>\n",
       "    <tr>\n",
       "      <th>4</th>\n",
       "      <td>1.944297</td>\n",
       "      <td>Sunshine</td>\n",
       "    </tr>\n",
       "    <tr>\n",
       "      <th>5</th>\n",
       "      <td>1.566348</td>\n",
       "      <td>WindGustDir</td>\n",
       "    </tr>\n",
       "    <tr>\n",
       "      <th>6</th>\n",
       "      <td>2.322919</td>\n",
       "      <td>WindGustSpeed</td>\n",
       "    </tr>\n",
       "    <tr>\n",
       "      <th>7</th>\n",
       "      <td>1.311374</td>\n",
       "      <td>WindDir9am</td>\n",
       "    </tr>\n",
       "    <tr>\n",
       "      <th>8</th>\n",
       "      <td>1.404489</td>\n",
       "      <td>WindDir3pm</td>\n",
       "    </tr>\n",
       "    <tr>\n",
       "      <th>9</th>\n",
       "      <td>1.301109</td>\n",
       "      <td>RainToday</td>\n",
       "    </tr>\n",
       "    <tr>\n",
       "      <th>10</th>\n",
       "      <td>1.375498</td>\n",
       "      <td>RainTomorrow</td>\n",
       "    </tr>\n",
       "    <tr>\n",
       "      <th>11</th>\n",
       "      <td>2.236730</td>\n",
       "      <td>Avg_WindSpeed</td>\n",
       "    </tr>\n",
       "    <tr>\n",
       "      <th>12</th>\n",
       "      <td>2.468807</td>\n",
       "      <td>Avg_Humidity</td>\n",
       "    </tr>\n",
       "    <tr>\n",
       "      <th>13</th>\n",
       "      <td>1.876410</td>\n",
       "      <td>Avg_Cloud</td>\n",
       "    </tr>\n",
       "    <tr>\n",
       "      <th>14</th>\n",
       "      <td>1.476470</td>\n",
       "      <td>Avg_Pressure</td>\n",
       "    </tr>\n",
       "  </tbody>\n",
       "</table>\n",
       "</div>"
      ],
      "text/plain": [
       "    vif_Features       Features\n",
       "0       1.139003       Location\n",
       "1       3.693766        MinTemp\n",
       "2       4.647906        MaxTemp\n",
       "3       1.523695    Evaporation\n",
       "4       1.944297       Sunshine\n",
       "5       1.566348    WindGustDir\n",
       "6       2.322919  WindGustSpeed\n",
       "7       1.311374     WindDir9am\n",
       "8       1.404489     WindDir3pm\n",
       "9       1.301109      RainToday\n",
       "10      1.375498   RainTomorrow\n",
       "11      2.236730  Avg_WindSpeed\n",
       "12      2.468807   Avg_Humidity\n",
       "13      1.876410      Avg_Cloud\n",
       "14      1.476470   Avg_Pressure"
      ]
     },
     "execution_count": 93,
     "metadata": {},
     "output_type": "execute_result"
    }
   ],
   "source": [
    "# Let's check if multicollinearity still exists\n",
    "vif=pd.DataFrame()\n",
    "vif[\"vif_Features\"]=[variance_inflation_factor(X.values, i) for i in range(X.shape[1])]\n",
    "vif[\"Features\"]=X.columns\n",
    "vif"
   ]
  },
  {
   "cell_type": "markdown",
   "id": "e4f31a96",
   "metadata": {},
   "source": [
    "The issue of multicollinearity is solved now."
   ]
  },
  {
   "cell_type": "code",
   "execution_count": 94,
   "id": "576537bd",
   "metadata": {},
   "outputs": [
    {
     "data": {
      "text/plain": [
       "array([[-1.56907068,  0.05804485, -0.07742182, ..., -0.02872765,\n",
       "        -0.09254839, -1.55616169],\n",
       "       [-1.56907068, -1.05933279,  0.28355632, ..., -0.02872765,\n",
       "         0.16090405, -1.24537284],\n",
       "       [-1.56907068, -0.0346254 ,  0.3787991 , ..., -0.02872765,\n",
       "         0.40102774, -1.42644486],\n",
       "       ...,\n",
       "       [ 1.0167344 , -1.43511405,  0.56548827, ..., -0.02872765,\n",
       "        -0.10168855,  0.39852523],\n",
       "       [ 1.0167344 , -0.9844179 ,  0.58082561, ..., -0.99505289,\n",
       "         0.12498149,  0.23979415],\n",
       "       [ 1.0167344 ,  0.33565971,  0.08245246, ...,  1.82564992,\n",
       "        -0.35091384,  0.42354358]])"
      ]
     },
     "execution_count": 94,
     "metadata": {},
     "output_type": "execute_result"
    }
   ],
   "source": [
    "# Removing skewness\n",
    "from sklearn.preprocessing import power_transform\n",
    "X=power_transform(x, method='yeo-johnson')\n",
    "X"
   ]
  },
  {
   "cell_type": "code",
   "execution_count": 95,
   "id": "7ef6fdfd",
   "metadata": {},
   "outputs": [
    {
     "data": {
      "text/plain": [
       "0    -0.183843\n",
       "1    -0.103599\n",
       "2    -0.013560\n",
       "3     1.046315\n",
       "4     0.059934\n",
       "5    -0.064872\n",
       "6    -0.186735\n",
       "7     0.002406\n",
       "8    -0.156937\n",
       "9    -0.248650\n",
       "10    1.306659\n",
       "11   -0.056354\n",
       "12   -0.045731\n",
       "13   -0.158175\n",
       "14   -0.032610\n",
       "15   -0.000997\n",
       "dtype: float64"
      ]
     },
     "execution_count": 95,
     "metadata": {},
     "output_type": "execute_result"
    }
   ],
   "source": [
    "#checking for skewness is removed or not\n",
    "skew_df=pd.DataFrame(X)\n",
    "skew_df.skew()"
   ]
  },
  {
   "cell_type": "markdown",
   "id": "c076abab",
   "metadata": {},
   "source": [
    "skewness is treated now.It cant be reduced furthermore."
   ]
  },
  {
   "cell_type": "code",
   "execution_count": 96,
   "id": "e635a3cc",
   "metadata": {},
   "outputs": [],
   "source": [
    "# Importing Linear Regression and metrics for it\n",
    "from sklearn.linear_model import LinearRegression\n",
    "from sklearn.metrics import mean_squared_error,mean_absolute_error, r2_score\n",
    "from sklearn.model_selection import train_test_split"
   ]
  },
  {
   "cell_type": "code",
   "execution_count": 97,
   "id": "750cbb1f",
   "metadata": {},
   "outputs": [
    {
     "name": "stdout",
     "output_type": "stream",
     "text": [
      "Random State is  0\n",
      "training accuracy is  0.5128621267775317\n",
      "testing accuracy is  0.5137924546475532\n",
      "\n",
      "\n",
      "Random State is  1\n",
      "training accuracy is  0.5100853183058924\n",
      "testing accuracy is  0.5268765881815447\n",
      "\n",
      "\n",
      "Random State is  2\n",
      "training accuracy is  0.5127900032346848\n",
      "testing accuracy is  0.514430073460612\n",
      "\n",
      "\n",
      "Random State is  3\n",
      "training accuracy is  0.510891879879843\n",
      "testing accuracy is  0.5231142788005474\n",
      "\n",
      "\n",
      "Random State is  4\n",
      "training accuracy is  0.5111859428205529\n",
      "testing accuracy is  0.5197824054378369\n",
      "\n",
      "\n",
      "Random State is  5\n",
      "training accuracy is  0.5162942478140435\n",
      "testing accuracy is  0.5018099390530284\n",
      "\n",
      "\n",
      "Random State is  6\n",
      "training accuracy is  0.51386127812142\n",
      "testing accuracy is  0.5100734178335091\n",
      "\n",
      "\n",
      "Random State is  7\n",
      "training accuracy is  0.51288808782692\n",
      "testing accuracy is  0.5135460530004121\n",
      "\n",
      "\n",
      "Random State is  8\n",
      "training accuracy is  0.5150227998945139\n",
      "testing accuracy is  0.5066381025073916\n",
      "\n",
      "\n",
      "Random State is  9\n",
      "training accuracy is  0.5139337363531926\n",
      "testing accuracy is  0.5106200179972171\n",
      "\n",
      "\n",
      "Random State is  10\n",
      "training accuracy is  0.5072311040714026\n",
      "testing accuracy is  0.53814923855647\n",
      "\n",
      "\n",
      "Random State is  11\n",
      "training accuracy is  0.5182601335152752\n",
      "testing accuracy is  0.49369891111688735\n",
      "\n",
      "\n",
      "Random State is  12\n",
      "training accuracy is  0.5084008603687393\n",
      "testing accuracy is  0.5285311618296333\n",
      "\n",
      "\n",
      "Random State is  13\n",
      "training accuracy is  0.515783685721614\n",
      "testing accuracy is  0.5036136774313694\n",
      "\n",
      "\n",
      "Random State is  14\n",
      "training accuracy is  0.5105857965145939\n",
      "testing accuracy is  0.5226464547125176\n",
      "\n",
      "\n",
      "Random State is  15\n",
      "training accuracy is  0.5183378902202027\n",
      "testing accuracy is  0.4911557800411852\n",
      "\n",
      "\n",
      "Random State is  16\n",
      "training accuracy is  0.5159515158413921\n",
      "testing accuracy is  0.5024860128613541\n",
      "\n",
      "\n",
      "Random State is  17\n",
      "training accuracy is  0.5077101050163628\n",
      "testing accuracy is  0.5333843337540187\n",
      "\n",
      "\n",
      "Random State is  18\n",
      "training accuracy is  0.5192431604439729\n",
      "testing accuracy is  0.48916807614618874\n",
      "\n",
      "\n",
      "Random State is  19\n",
      "training accuracy is  0.5155056990645678\n",
      "testing accuracy is  0.49884669672972015\n",
      "\n",
      "\n",
      "Random State is  20\n",
      "training accuracy is  0.5141551130097343\n",
      "testing accuracy is  0.5090325057928091\n",
      "\n",
      "\n",
      "Random State is  21\n",
      "training accuracy is  0.5074445057585362\n",
      "testing accuracy is  0.5372681475192539\n",
      "\n",
      "\n",
      "Random State is  22\n",
      "training accuracy is  0.5142793561513759\n",
      "testing accuracy is  0.5079668535410181\n",
      "\n",
      "\n",
      "Random State is  23\n",
      "training accuracy is  0.5109452462231241\n",
      "testing accuracy is  0.5234786512183501\n",
      "\n",
      "\n",
      "Random State is  24\n",
      "training accuracy is  0.5073021929422219\n",
      "testing accuracy is  0.5327585189548181\n",
      "\n",
      "\n",
      "Random State is  25\n",
      "training accuracy is  0.5160670867484901\n",
      "testing accuracy is  0.5002445508874732\n",
      "\n",
      "\n",
      "Random State is  26\n",
      "training accuracy is  0.5180596174941177\n",
      "testing accuracy is  0.49507087777210546\n",
      "\n",
      "\n",
      "Random State is  27\n",
      "training accuracy is  0.5126169436495991\n",
      "testing accuracy is  0.5158444665943365\n",
      "\n",
      "\n",
      "Random State is  28\n",
      "training accuracy is  0.5147407866065588\n",
      "testing accuracy is  0.506021677465841\n",
      "\n",
      "\n",
      "Random State is  29\n",
      "training accuracy is  0.5094774655249988\n",
      "testing accuracy is  0.5303554340724386\n",
      "\n",
      "\n",
      "Random State is  30\n",
      "training accuracy is  0.5112079969228639\n",
      "testing accuracy is  0.5214670980160467\n",
      "\n",
      "\n",
      "Random State is  31\n",
      "training accuracy is  0.5128747103121263\n",
      "testing accuracy is  0.5145151757425801\n",
      "\n",
      "\n",
      "Random State is  32\n",
      "training accuracy is  0.5125007438909273\n",
      "testing accuracy is  0.5151099924536434\n",
      "\n",
      "\n",
      "Random State is  33\n",
      "training accuracy is  0.5114225041038338\n",
      "testing accuracy is  0.5214336890195631\n",
      "\n",
      "\n",
      "Random State is  34\n",
      "training accuracy is  0.5121394181695442\n",
      "testing accuracy is  0.5172241602650511\n",
      "\n",
      "\n",
      "Random State is  35\n",
      "training accuracy is  0.5074951062830713\n",
      "testing accuracy is  0.5391781042001962\n",
      "\n",
      "\n",
      "Random State is  36\n",
      "training accuracy is  0.5101287858350447\n",
      "testing accuracy is  0.5269890729377494\n",
      "\n",
      "\n",
      "Random State is  37\n",
      "training accuracy is  0.5139114359974908\n",
      "testing accuracy is  0.5100591509998376\n",
      "\n",
      "\n",
      "Random State is  38\n",
      "training accuracy is  0.5118189869036753\n",
      "testing accuracy is  0.5189164000927722\n",
      "\n",
      "\n",
      "Random State is  39\n",
      "training accuracy is  0.5168731786584128\n",
      "testing accuracy is  0.49726154679582\n",
      "\n",
      "\n",
      "Random State is  40\n",
      "training accuracy is  0.5162242294836965\n",
      "testing accuracy is  0.4998670921030475\n",
      "\n",
      "\n",
      "Random State is  41\n",
      "training accuracy is  0.5193152632925824\n",
      "testing accuracy is  0.49102885864384826\n",
      "\n",
      "\n",
      "Random State is  42\n",
      "training accuracy is  0.5099355562727699\n",
      "testing accuracy is  0.5264829160713078\n",
      "\n",
      "\n",
      "Random State is  43\n",
      "training accuracy is  0.5118338272143861\n",
      "testing accuracy is  0.5190656320274725\n",
      "\n",
      "\n",
      "Random State is  44\n",
      "training accuracy is  0.5127603234308773\n",
      "testing accuracy is  0.5141097998369693\n",
      "\n",
      "\n",
      "Random State is  45\n",
      "training accuracy is  0.5175730554397966\n",
      "testing accuracy is  0.4851144160957782\n",
      "\n",
      "\n",
      "Random State is  46\n",
      "training accuracy is  0.5137498957412797\n",
      "testing accuracy is  0.5102618474858198\n",
      "\n",
      "\n",
      "Random State is  47\n",
      "training accuracy is  0.510970099298198\n",
      "testing accuracy is  0.5232446019113255\n",
      "\n",
      "\n",
      "Random State is  48\n",
      "training accuracy is  0.5171026841652663\n",
      "testing accuracy is  0.49936342866580563\n",
      "\n",
      "\n",
      "Random State is  49\n",
      "training accuracy is  0.5136353969776173\n",
      "testing accuracy is  0.5109092607352503\n",
      "\n",
      "\n",
      "Random State is  50\n",
      "training accuracy is  0.5173524627375721\n",
      "testing accuracy is  0.4955249407775315\n",
      "\n",
      "\n",
      "Random State is  51\n",
      "training accuracy is  0.515971828646427\n",
      "testing accuracy is  0.5022393132891583\n",
      "\n",
      "\n",
      "Random State is  52\n",
      "training accuracy is  0.5083242888654317\n",
      "testing accuracy is  0.5333345266129957\n",
      "\n",
      "\n",
      "Random State is  53\n",
      "training accuracy is  0.5129239432950311\n",
      "testing accuracy is  0.5143346822918688\n",
      "\n",
      "\n",
      "Random State is  54\n",
      "training accuracy is  0.5119195705431838\n",
      "testing accuracy is  0.5180441749026685\n",
      "\n",
      "\n",
      "Random State is  55\n",
      "training accuracy is  0.5148255304365799\n",
      "testing accuracy is  0.5074126429965184\n",
      "\n",
      "\n",
      "Random State is  56\n",
      "training accuracy is  0.514113343615199\n",
      "testing accuracy is  0.509772352782112\n",
      "\n",
      "\n",
      "Random State is  57\n",
      "training accuracy is  0.5184572771942675\n",
      "testing accuracy is  0.49288706512696023\n",
      "\n",
      "\n",
      "Random State is  58\n",
      "training accuracy is  0.5165762054144197\n",
      "testing accuracy is  0.49720275523093327\n",
      "\n",
      "\n",
      "Random State is  59\n",
      "training accuracy is  0.513694942317038\n",
      "testing accuracy is  0.5117890750551699\n",
      "\n",
      "\n",
      "Random State is  60\n",
      "training accuracy is  0.5100007584985486\n",
      "testing accuracy is  0.5278793177385264\n",
      "\n",
      "\n",
      "Random State is  61\n",
      "training accuracy is  0.5178789176208789\n",
      "testing accuracy is  0.49523488198825194\n",
      "\n",
      "\n",
      "Random State is  62\n",
      "training accuracy is  0.5086452238175712\n",
      "testing accuracy is  0.527431588138497\n",
      "\n",
      "\n",
      "Random State is  63\n",
      "training accuracy is  0.5108580421699052\n",
      "testing accuracy is  0.5199433221253335\n",
      "\n",
      "\n",
      "Random State is  64\n",
      "training accuracy is  0.5133620434156111\n",
      "testing accuracy is  0.5113241062104623\n",
      "\n",
      "\n",
      "Random State is  65\n",
      "training accuracy is  0.5077780829523697\n",
      "testing accuracy is  0.5256764704118049\n",
      "\n",
      "\n",
      "Random State is  66\n",
      "training accuracy is  0.5120528403025708\n",
      "testing accuracy is  0.5188263803028351\n",
      "\n",
      "\n",
      "Random State is  67\n",
      "training accuracy is  0.5157991145646288\n",
      "testing accuracy is  0.5012871309439506\n",
      "\n",
      "\n",
      "Random State is  68\n",
      "training accuracy is  0.51735557764904\n",
      "testing accuracy is  0.49828881553859716\n",
      "\n",
      "\n",
      "Random State is  69\n",
      "training accuracy is  0.5139971666987057\n",
      "testing accuracy is  0.510723041962664\n",
      "\n",
      "\n",
      "Random State is  70\n",
      "training accuracy is  0.5134105538045786\n",
      "testing accuracy is  0.512280887018273\n",
      "\n",
      "\n",
      "Random State is  71\n",
      "training accuracy is  0.5128890448133243\n",
      "testing accuracy is  0.5134588178146555\n",
      "\n",
      "\n",
      "Random State is  72\n",
      "training accuracy is  0.5154704580073708\n",
      "testing accuracy is  0.5043994202995927\n",
      "\n",
      "\n",
      "Random State is  73\n",
      "training accuracy is  0.5152361855203238\n",
      "testing accuracy is  0.5033189193265826\n",
      "\n",
      "\n",
      "Random State is  74\n",
      "training accuracy is  0.5100161382174043\n",
      "testing accuracy is  0.5274912126885191\n",
      "\n",
      "\n",
      "Random State is  75\n",
      "training accuracy is  0.5178967201032696\n",
      "testing accuracy is  0.49203366972924234\n",
      "\n",
      "\n",
      "Random State is  76\n",
      "training accuracy is  0.5098456073983972\n",
      "testing accuracy is  0.5248589888779163\n",
      "\n",
      "\n",
      "Random State is  77\n",
      "training accuracy is  0.5200177850635328\n",
      "testing accuracy is  0.48366354240738074\n",
      "\n",
      "\n",
      "Random State is  78\n",
      "training accuracy is  0.5094406376017544\n",
      "testing accuracy is  0.5282674336269071\n",
      "\n",
      "\n",
      "Random State is  79\n",
      "training accuracy is  0.5073774566048934\n",
      "testing accuracy is  0.5352836834145072\n",
      "\n",
      "\n",
      "Random State is  80\n",
      "training accuracy is  0.5106175175839436\n",
      "testing accuracy is  0.5240972008564572\n",
      "\n",
      "\n",
      "Random State is  81\n",
      "training accuracy is  0.5172925222583326\n",
      "testing accuracy is  0.4981868293781109\n",
      "\n",
      "\n",
      "Random State is  82\n",
      "training accuracy is  0.5120227258628527\n",
      "testing accuracy is  0.5179026209293489\n",
      "\n",
      "\n",
      "Random State is  83\n",
      "training accuracy is  0.5120954199380118\n",
      "testing accuracy is  0.5176033620644309\n",
      "\n",
      "\n",
      "Random State is  84\n",
      "training accuracy is  0.5119360874336908\n",
      "testing accuracy is  0.5190758910367366\n",
      "\n",
      "\n",
      "Random State is  85\n",
      "training accuracy is  0.5117143145368047\n",
      "testing accuracy is  0.5203295200848119\n",
      "\n",
      "\n",
      "Random State is  86\n",
      "training accuracy is  0.5165419918580464\n",
      "testing accuracy is  0.5000740266506567\n",
      "\n",
      "\n",
      "Random State is  87\n",
      "training accuracy is  0.5124461417343844\n",
      "testing accuracy is  0.5168206118436994\n",
      "\n",
      "\n",
      "Random State is  88\n",
      "training accuracy is  0.5155335858324628\n",
      "testing accuracy is  0.5010933546279176\n",
      "\n",
      "\n",
      "Random State is  89\n",
      "training accuracy is  0.5111142156054258\n",
      "testing accuracy is  0.5223744696922457\n",
      "\n",
      "\n",
      "Random State is  90\n",
      "training accuracy is  0.5127666340688919\n",
      "testing accuracy is  0.5145588144098718\n",
      "\n",
      "\n",
      "Random State is  91\n",
      "training accuracy is  0.511603505039576\n",
      "testing accuracy is  0.5184182671641807\n",
      "\n",
      "\n",
      "Random State is  92\n",
      "training accuracy is  0.5090040935649025\n",
      "testing accuracy is  0.5292386944322249\n",
      "\n",
      "\n",
      "Random State is  93\n",
      "training accuracy is  0.5189788546599394\n",
      "testing accuracy is  0.48840881786798496\n",
      "\n",
      "\n",
      "Random State is  94\n",
      "training accuracy is  0.514568013894406\n",
      "testing accuracy is  0.5079461778020135\n",
      "\n",
      "\n",
      "Random State is  95\n",
      "training accuracy is  0.5150835174717585\n",
      "testing accuracy is  0.5061768815428035\n",
      "\n",
      "\n",
      "Random State is  96\n",
      "training accuracy is  0.5153969939220012\n",
      "testing accuracy is  0.5052255824076315\n",
      "\n",
      "\n",
      "Random State is  97\n",
      "training accuracy is  0.5240889974891232\n",
      "testing accuracy is  0.4754850432147373\n",
      "\n",
      "\n",
      "Random State is  98\n",
      "training accuracy is  0.5148748715903814\n",
      "testing accuracy is  0.5018914133314056\n",
      "\n",
      "\n",
      "Random State is  99\n",
      "training accuracy is  0.5123376746501831\n",
      "testing accuracy is  0.5164733954994672\n",
      "\n",
      "\n",
      "Random State is  100\n",
      "training accuracy is  0.5159403598820325\n",
      "testing accuracy is  0.5003156736344827\n",
      "\n",
      "\n",
      "Random State is  101\n",
      "training accuracy is  0.5145021855775669\n",
      "testing accuracy is  0.5087217415524807\n",
      "\n",
      "\n",
      "Random State is  102\n",
      "training accuracy is  0.513929565659264\n",
      "testing accuracy is  0.5104647987453343\n",
      "\n",
      "\n",
      "Random State is  103\n",
      "training accuracy is  0.5090542332633583\n",
      "testing accuracy is  0.5303123662164352\n",
      "\n",
      "\n",
      "Random State is  104\n",
      "training accuracy is  0.5169017158387339\n",
      "testing accuracy is  0.49845644858575044\n",
      "\n",
      "\n",
      "Random State is  105\n",
      "training accuracy is  0.5158046537740901\n",
      "testing accuracy is  0.5035612092528581\n",
      "\n",
      "\n",
      "Random State is  106\n",
      "training accuracy is  0.5145309292792823\n",
      "testing accuracy is  0.5086912736784\n",
      "\n",
      "\n",
      "Random State is  107\n",
      "training accuracy is  0.5149996930833887\n",
      "testing accuracy is  0.5024231600728017\n",
      "\n",
      "\n",
      "Random State is  108\n",
      "training accuracy is  0.5175887817216125\n",
      "testing accuracy is  0.4964276501507595\n",
      "\n",
      "\n",
      "Random State is  109\n",
      "training accuracy is  0.5118301172504093\n",
      "testing accuracy is  0.5193995549493062\n",
      "\n",
      "\n",
      "Random State is  110\n",
      "training accuracy is  0.5123084341982831\n",
      "testing accuracy is  0.5162906322910394\n",
      "\n",
      "\n",
      "Random State is  111\n",
      "training accuracy is  0.5133934729192603\n",
      "testing accuracy is  0.5118710191685097\n",
      "\n",
      "\n",
      "Random State is  112\n",
      "training accuracy is  0.5169345375098889\n",
      "testing accuracy is  0.4977516984481172\n",
      "\n",
      "\n",
      "Random State is  113\n",
      "training accuracy is  0.509935623634567\n",
      "testing accuracy is  0.5264061914104758\n",
      "\n",
      "\n",
      "Random State is  114\n",
      "training accuracy is  0.512998377247081\n",
      "testing accuracy is  0.5143356980172917\n",
      "\n",
      "\n",
      "Random State is  115\n",
      "training accuracy is  0.5200498074203795\n",
      "testing accuracy is  0.4885661631228847\n",
      "\n",
      "\n",
      "Random State is  116\n",
      "training accuracy is  0.5171440183633679\n",
      "testing accuracy is  0.4980040575971738\n",
      "\n",
      "\n",
      "Random State is  117\n",
      "training accuracy is  0.5131081134038764\n",
      "testing accuracy is  0.5127510652943519\n",
      "\n",
      "\n",
      "Random State is  118\n",
      "training accuracy is  0.5173062756593796\n",
      "testing accuracy is  0.4977452671960303\n",
      "\n",
      "\n",
      "Random State is  119\n",
      "training accuracy is  0.5161331516024086\n",
      "testing accuracy is  0.5005234418688767\n",
      "\n",
      "\n",
      "Random State is  120\n",
      "training accuracy is  0.512836775272237\n",
      "testing accuracy is  0.5150652576838817\n",
      "\n",
      "\n",
      "Random State is  121\n",
      "training accuracy is  0.5094218237687396\n",
      "testing accuracy is  0.5295039435941278\n",
      "\n",
      "\n",
      "Random State is  122\n",
      "training accuracy is  0.5182030204929651\n",
      "testing accuracy is  0.4958873360089897\n",
      "\n",
      "\n",
      "Random State is  123\n",
      "training accuracy is  0.51638580500995\n",
      "testing accuracy is  0.5015413402283169\n",
      "\n",
      "\n",
      "Random State is  124\n",
      "training accuracy is  0.5097737735682417\n",
      "testing accuracy is  0.5261198687292609\n",
      "\n",
      "\n",
      "Random State is  125\n",
      "training accuracy is  0.5161526081449482\n",
      "testing accuracy is  0.5011293174132111\n",
      "\n",
      "\n",
      "Random State is  126\n",
      "training accuracy is  0.5137400667537406\n",
      "testing accuracy is  0.5118854408701887\n",
      "\n",
      "\n",
      "Random State is  127\n",
      "training accuracy is  0.5136477105663937\n",
      "testing accuracy is  0.510887612343371\n",
      "\n",
      "\n",
      "Random State is  128\n",
      "training accuracy is  0.5163696873343842\n",
      "testing accuracy is  0.5021802171255474\n",
      "\n",
      "\n",
      "Random State is  129\n",
      "training accuracy is  0.5158024842564626\n",
      "testing accuracy is  0.5031911351075081\n",
      "\n",
      "\n",
      "Random State is  130\n",
      "training accuracy is  0.5141916489356937\n",
      "testing accuracy is  0.5077664253676955\n",
      "\n",
      "\n",
      "Random State is  131\n",
      "training accuracy is  0.5108219149810587\n",
      "testing accuracy is  0.5240925331248979\n",
      "\n",
      "\n",
      "Random State is  132\n",
      "training accuracy is  0.5094922322188642\n",
      "testing accuracy is  0.5282258118582528\n",
      "\n",
      "\n",
      "Random State is  133\n",
      "training accuracy is  0.5182463371467119\n",
      "testing accuracy is  0.4911630049938158\n",
      "\n",
      "\n",
      "Random State is  134\n",
      "training accuracy is  0.5117889296302507\n",
      "testing accuracy is  0.5195272739455443\n",
      "\n",
      "\n",
      "Random State is  135\n",
      "training accuracy is  0.5065462165738128\n",
      "testing accuracy is  0.5394705188097864\n",
      "\n",
      "\n",
      "Random State is  136\n",
      "training accuracy is  0.5173130389163958\n",
      "testing accuracy is  0.494394922923031\n",
      "\n",
      "\n",
      "Random State is  137\n",
      "training accuracy is  0.5115566739847355\n",
      "testing accuracy is  0.5199473656085065\n",
      "\n",
      "\n",
      "Random State is  138\n",
      "training accuracy is  0.5115601157826555\n",
      "testing accuracy is  0.5202169376645611\n",
      "\n",
      "\n",
      "Random State is  139\n",
      "training accuracy is  0.5158152966516544\n",
      "testing accuracy is  0.5023930433506596\n",
      "\n",
      "\n",
      "Random State is  140\n",
      "training accuracy is  0.5089544634634297\n",
      "testing accuracy is  0.5300984846206251\n",
      "\n",
      "\n",
      "Random State is  141\n",
      "training accuracy is  0.5120921281062636\n",
      "testing accuracy is  0.516815643921738\n",
      "\n",
      "\n",
      "Random State is  142\n",
      "training accuracy is  0.5189683776104617\n",
      "testing accuracy is  0.4832814429489868\n",
      "\n",
      "\n",
      "Random State is  143\n",
      "training accuracy is  0.5134349622332717\n",
      "testing accuracy is  0.5121397719297862\n",
      "\n",
      "\n",
      "Random State is  144\n",
      "training accuracy is  0.5089585717880599\n",
      "testing accuracy is  0.532615345435143\n",
      "\n",
      "\n",
      "Random State is  145\n",
      "training accuracy is  0.5157678243150576\n",
      "testing accuracy is  0.501422775462584\n",
      "\n",
      "\n",
      "Random State is  146\n",
      "training accuracy is  0.5096470588943969\n",
      "testing accuracy is  0.5270633536931013\n",
      "\n",
      "\n",
      "Random State is  147\n",
      "training accuracy is  0.5152609532444505\n",
      "testing accuracy is  0.5053333183453566\n",
      "\n",
      "\n",
      "Random State is  148\n",
      "training accuracy is  0.5110066359984473\n",
      "testing accuracy is  0.518556473349838\n",
      "\n",
      "\n",
      "Random State is  149\n",
      "training accuracy is  0.5111016344966002\n",
      "testing accuracy is  0.523054439716712\n",
      "\n",
      "\n",
      "Random State is  150\n",
      "training accuracy is  0.5108350526017436\n",
      "testing accuracy is  0.52035888192775\n",
      "\n",
      "\n",
      "Random State is  151\n",
      "training accuracy is  0.5165735912040139\n",
      "testing accuracy is  0.5010947405854551\n",
      "\n",
      "\n",
      "Random State is  152\n",
      "training accuracy is  0.5134232302165576\n",
      "testing accuracy is  0.5128691452054895\n",
      "\n",
      "\n",
      "Random State is  153\n",
      "training accuracy is  0.513335766916718\n",
      "testing accuracy is  0.5125993330003613\n",
      "\n",
      "\n",
      "Random State is  154\n",
      "training accuracy is  0.5111213790229672\n",
      "testing accuracy is  0.5220178018805324\n",
      "\n",
      "\n",
      "Random State is  155\n",
      "training accuracy is  0.5189053877795784\n",
      "testing accuracy is  0.4901024117808206\n",
      "\n",
      "\n",
      "Random State is  156\n",
      "training accuracy is  0.5155300319589459\n",
      "testing accuracy is  0.5032519815130387\n",
      "\n",
      "\n",
      "Random State is  157\n",
      "training accuracy is  0.5124123175555311\n",
      "testing accuracy is  0.5153610591449451\n",
      "\n",
      "\n",
      "Random State is  158\n",
      "training accuracy is  0.5107107522696528\n",
      "testing accuracy is  0.5213476661228951\n",
      "\n",
      "\n",
      "Random State is  159\n",
      "training accuracy is  0.5139066164931438\n",
      "testing accuracy is  0.5103951044866506\n",
      "\n",
      "\n",
      "Random State is  160\n",
      "training accuracy is  0.5154508504139327\n",
      "testing accuracy is  0.5003456548893945\n",
      "\n",
      "\n",
      "Random State is  161\n",
      "training accuracy is  0.5086808334989961\n",
      "testing accuracy is  0.5311069806564176\n",
      "\n",
      "\n",
      "Random State is  162\n",
      "training accuracy is  0.5097150079280883\n",
      "testing accuracy is  0.527391655736996\n",
      "\n",
      "\n",
      "Random State is  163\n",
      "training accuracy is  0.5190105055407409\n",
      "testing accuracy is  0.49412162391936765\n",
      "\n",
      "\n",
      "Random State is  164\n",
      "training accuracy is  0.5143701257031013\n",
      "testing accuracy is  0.5072837618767825\n",
      "\n",
      "\n",
      "Random State is  165\n",
      "training accuracy is  0.5108656103286079\n",
      "testing accuracy is  0.5214378008128822\n",
      "\n",
      "\n",
      "Random State is  166\n",
      "training accuracy is  0.5171345113461245\n",
      "testing accuracy is  0.49522654109597963\n",
      "\n",
      "\n",
      "Random State is  167\n",
      "training accuracy is  0.5153884550007652\n",
      "testing accuracy is  0.5053352108246071\n",
      "\n",
      "\n",
      "Random State is  168\n",
      "training accuracy is  0.5123990097815239\n",
      "testing accuracy is  0.5169376437687428\n",
      "\n",
      "\n",
      "Random State is  169\n",
      "training accuracy is  0.5111221499171685\n",
      "testing accuracy is  0.5213612208828067\n",
      "\n",
      "\n",
      "Random State is  170\n",
      "training accuracy is  0.5137165294017476\n",
      "testing accuracy is  0.5111643960564605\n",
      "\n",
      "\n",
      "Random State is  171\n",
      "training accuracy is  0.5088779387885626\n",
      "testing accuracy is  0.5312109811178491\n",
      "\n",
      "\n",
      "Random State is  172\n",
      "training accuracy is  0.5139480516317192\n",
      "testing accuracy is  0.5105550920626581\n",
      "\n",
      "\n",
      "Random State is  173\n",
      "training accuracy is  0.512711798891675\n",
      "testing accuracy is  0.5119179453938612\n",
      "\n",
      "\n",
      "Random State is  174\n",
      "training accuracy is  0.5141618364446279\n",
      "testing accuracy is  0.5095194064897002\n",
      "\n",
      "\n",
      "Random State is  175\n",
      "training accuracy is  0.5071724440505804\n",
      "testing accuracy is  0.5408653546858264\n",
      "\n",
      "\n",
      "Random State is  176\n",
      "training accuracy is  0.5182891682210817\n",
      "testing accuracy is  0.49071686559844485\n",
      "\n",
      "\n",
      "Random State is  177\n",
      "training accuracy is  0.511494232914837\n",
      "testing accuracy is  0.5204162259651816\n",
      "\n",
      "\n",
      "Random State is  178\n",
      "training accuracy is  0.5132289588200425\n",
      "testing accuracy is  0.5133596793674695\n",
      "\n",
      "\n",
      "Random State is  179\n",
      "training accuracy is  0.5179311632900252\n",
      "testing accuracy is  0.4946096576704879\n",
      "\n",
      "\n",
      "Random State is  180\n",
      "training accuracy is  0.5172862728808212\n",
      "testing accuracy is  0.4975340588881231\n",
      "\n",
      "\n",
      "Random State is  181\n",
      "training accuracy is  0.5108234689963664\n",
      "testing accuracy is  0.5229701065528525\n",
      "\n",
      "\n",
      "Random State is  182\n",
      "training accuracy is  0.5141743098761314\n",
      "testing accuracy is  0.5100371492168647\n",
      "\n",
      "\n",
      "Random State is  183\n",
      "training accuracy is  0.5189789469470723\n",
      "testing accuracy is  0.4848126770258804\n",
      "\n",
      "\n",
      "Random State is  184\n",
      "training accuracy is  0.5154806982358372\n",
      "testing accuracy is  0.5044614950727184\n",
      "\n",
      "\n",
      "Random State is  185\n",
      "training accuracy is  0.5207477952285886\n",
      "testing accuracy is  0.4819379332658389\n",
      "\n",
      "\n",
      "Random State is  186\n",
      "training accuracy is  0.5180803896783883\n",
      "testing accuracy is  0.48869721428825164\n",
      "\n",
      "\n",
      "Random State is  187\n",
      "training accuracy is  0.5087941835608212\n",
      "testing accuracy is  0.5314362958542387\n",
      "\n",
      "\n",
      "Random State is  188\n",
      "training accuracy is  0.5183317876575715\n",
      "testing accuracy is  0.4904485932735203\n",
      "\n",
      "\n",
      "Random State is  189\n",
      "training accuracy is  0.5129083278968629\n",
      "testing accuracy is  0.5143936315237467\n",
      "\n",
      "\n",
      "Random State is  190\n",
      "training accuracy is  0.509672010578418\n",
      "testing accuracy is  0.5294108267443349\n",
      "\n",
      "\n",
      "Random State is  191\n",
      "training accuracy is  0.5122080969704504\n",
      "testing accuracy is  0.5171813073280702\n",
      "\n",
      "\n",
      "Random State is  192\n",
      "training accuracy is  0.5120998754026247\n",
      "testing accuracy is  0.5182401892714281\n",
      "\n",
      "\n",
      "Random State is  193\n",
      "training accuracy is  0.5159987619918683\n",
      "testing accuracy is  0.4995483191753166\n",
      "\n",
      "\n",
      "Random State is  194\n",
      "training accuracy is  0.5139109514017233\n",
      "testing accuracy is  0.5099372258695947\n",
      "\n",
      "\n",
      "Random State is  195\n",
      "training accuracy is  0.5126105544285913\n",
      "testing accuracy is  0.5138201860798497\n",
      "\n",
      "\n",
      "Random State is  196\n",
      "training accuracy is  0.5110506905977417\n",
      "testing accuracy is  0.5227658355038991\n",
      "\n",
      "\n",
      "Random State is  197\n",
      "training accuracy is  0.5119347828074859\n",
      "testing accuracy is  0.5156942667566273\n",
      "\n",
      "\n",
      "Random State is  198\n",
      "training accuracy is  0.5162195377107166\n",
      "testing accuracy is  0.5003640723392175\n",
      "\n",
      "\n",
      "Random State is  199\n",
      "training accuracy is  0.5195212680581138\n",
      "testing accuracy is  0.48991864136651375\n",
      "\n",
      "\n",
      "maximum r2 score is  0.5408653546858264 at random state  175\n"
     ]
    }
   ],
   "source": [
    "# Finding the best Random State\n",
    "maxr2=0\n",
    "maxrs=0\n",
    "lr=LinearRegression()\n",
    "for i in range(0,200):\n",
    "    print(\"Random State is \", i)\n",
    "    xtrain,xtest,ytrain,ytest=train_test_split(X,Y,test_size=0.20,random_state=i)\n",
    "    lr.fit(xtrain,ytrain)\n",
    "    predtrain=lr.predict(xtrain)\n",
    "    predtest=lr.predict(xtest)\n",
    "    print('training accuracy is ', r2_score(ytrain,predtrain))\n",
    "    score=r2_score(ytest,predtest)\n",
    "    print('testing accuracy is ', score)\n",
    "    print(\"\\n\")\n",
    "    \n",
    "    if score>maxr2:\n",
    "        maxr2=score\n",
    "        maxrs=i\n",
    "        \n",
    "        \n",
    "print(\"maximum r2 score is \", maxr2 , \"at random state \", maxrs)"
   ]
  },
  {
   "cell_type": "markdown",
   "id": "e84856f2",
   "metadata": {},
   "source": [
    "We have got the best random state at 175"
   ]
  },
  {
   "cell_type": "code",
   "execution_count": 98,
   "id": "7595c3be",
   "metadata": {},
   "outputs": [
    {
     "name": "stdout",
     "output_type": "stream",
     "text": [
      "shape of x_train is:  (6451, 16)\n",
      "shape of y_train is:  (6451,)\n",
      "shape of x_test is:  (1613, 16)\n",
      "shape of y_test is:  (1613,)\n"
     ]
    }
   ],
   "source": [
    "x_train,x_test,y_train,y_test = train_test_split(X,Y,test_size=0.20,random_state=113)\n",
    "print(\"shape of x_train is: \",x_train.shape)\n",
    "print(\"shape of y_train is: \",y_train.shape)\n",
    "print(\"shape of x_test is: \",x_test.shape)\n",
    "print(\"shape of y_test is: \",y_test.shape)"
   ]
  },
  {
   "cell_type": "markdown",
   "id": "fc84f4d3",
   "metadata": {},
   "source": [
    "# 1. Linear Regression"
   ]
  },
  {
   "cell_type": "code",
   "execution_count": 99,
   "id": "c5d420e5",
   "metadata": {},
   "outputs": [
    {
     "name": "stdout",
     "output_type": "stream",
     "text": [
      "training accuracy is  0.509935623634567\n",
      "testing accuracy is  0.5264061914104758\n",
      "Mean Squared Error is  11.013093180826795\n",
      "Mean Absolute Error is  1.5609503725255434\n",
      "Root Mean Squared Error is  3.318598074613254\n"
     ]
    }
   ],
   "source": [
    "lr.fit(x_train,y_train)\n",
    "y_train_pred = lr.predict(x_train)\n",
    "y_test_pred = lr.predict(x_test)\n",
    "print('training accuracy is ', r2_score(y_train,y_train_pred))\n",
    "print('testing accuracy is ', r2_score(y_test,y_test_pred))\n",
    "print(\"Mean Squared Error is \",mean_squared_error(y_test,y_test_pred))\n",
    "print(\"Mean Absolute Error is \",mean_absolute_error(y_test,y_test_pred))\n",
    "print(\"Root Mean Squared Error is \",np.sqrt(mean_squared_error(y_test,y_test_pred)))"
   ]
  },
  {
   "cell_type": "code",
   "execution_count": 100,
   "id": "9fefb296",
   "metadata": {},
   "outputs": [
    {
     "name": "stdout",
     "output_type": "stream",
     "text": [
      "At fold  2 Mean CV score is  0.22355522522378235\n",
      "training accuracy is  0.509935623634567\n",
      "testing accuracy is  0.5264061914104758\n",
      "At fold  3 Mean CV score is  0.23998544548283363\n",
      "training accuracy is  0.509935623634567\n",
      "testing accuracy is  0.5264061914104758\n",
      "At fold  4 Mean CV score is  0.24530863058777388\n",
      "training accuracy is  0.509935623634567\n",
      "testing accuracy is  0.5264061914104758\n",
      "At fold  5 Mean CV score is  0.251008125269013\n",
      "training accuracy is  0.509935623634567\n",
      "testing accuracy is  0.5264061914104758\n",
      "At fold  6 Mean CV score is  0.2534436483690407\n",
      "training accuracy is  0.509935623634567\n",
      "testing accuracy is  0.5264061914104758\n",
      "At fold  7 Mean CV score is  0.2521586883327355\n",
      "training accuracy is  0.509935623634567\n",
      "testing accuracy is  0.5264061914104758\n",
      "At fold  8 Mean CV score is  0.2577501517556531\n",
      "training accuracy is  0.509935623634567\n",
      "testing accuracy is  0.5264061914104758\n",
      "At fold  9 Mean CV score is  0.25737216257837175\n",
      "training accuracy is  0.509935623634567\n",
      "testing accuracy is  0.5264061914104758\n",
      "At fold  10 Mean CV score is  0.25761696505456505\n",
      "training accuracy is  0.509935623634567\n",
      "testing accuracy is  0.5264061914104758\n",
      "At fold  11 Mean CV score is  0.2567799370304915\n",
      "training accuracy is  0.509935623634567\n",
      "testing accuracy is  0.5264061914104758\n",
      "At fold  12 Mean CV score is  0.2596748117513005\n",
      "training accuracy is  0.509935623634567\n",
      "testing accuracy is  0.5264061914104758\n",
      "At fold  13 Mean CV score is  0.2626193639550905\n",
      "training accuracy is  0.509935623634567\n",
      "testing accuracy is  0.5264061914104758\n",
      "At fold  14 Mean CV score is  0.2632080084029325\n",
      "training accuracy is  0.509935623634567\n",
      "testing accuracy is  0.5264061914104758\n",
      "At fold  15 Mean CV score is  0.26016614708360625\n",
      "training accuracy is  0.509935623634567\n",
      "testing accuracy is  0.5264061914104758\n",
      "At fold  16 Mean CV score is  0.2583157794581499\n",
      "training accuracy is  0.509935623634567\n",
      "testing accuracy is  0.5264061914104758\n",
      "At fold  17 Mean CV score is  0.25973738030374455\n",
      "training accuracy is  0.509935623634567\n",
      "testing accuracy is  0.5264061914104758\n",
      "At fold  18 Mean CV score is  0.2584498882827403\n",
      "training accuracy is  0.509935623634567\n",
      "testing accuracy is  0.5264061914104758\n",
      "At fold  19 Mean CV score is  0.2636182953398977\n",
      "training accuracy is  0.509935623634567\n",
      "testing accuracy is  0.5264061914104758\n"
     ]
    }
   ],
   "source": [
    "from sklearn.model_selection import cross_val_score\n",
    "#cross validation of the lr model\n",
    "for j in range(2,20):\n",
    "    cv_score = cross_val_score(lr,x,y,cv=j)\n",
    "    print('At fold ', j , \"Mean CV score is \", cv_score.mean())\n",
    "    print('training accuracy is ', r2_score(y_train,y_train_pred))\n",
    "    print('testing accuracy is ', r2_score(y_test,y_test_pred))"
   ]
  },
  {
   "cell_type": "markdown",
   "id": "1cb12349",
   "metadata": {},
   "source": [
    "# 2. Decision Tree Regressor"
   ]
  },
  {
   "cell_type": "code",
   "execution_count": 101,
   "id": "173491b9",
   "metadata": {},
   "outputs": [
    {
     "name": "stdout",
     "output_type": "stream",
     "text": [
      "training accuracy is  1.0\n",
      "testing accuracy is  0.9999685410413724\n",
      "Mean squared error is  0.0007315561066336046\n",
      "Mean Absolute error is  0.0027278363298204253\n",
      "Root Mean Squared Error is  0.027047293887441023\n"
     ]
    }
   ],
   "source": [
    "from sklearn.tree import DecisionTreeRegressor\n",
    "\n",
    "dtr = DecisionTreeRegressor()\n",
    "dtr.fit(x_train, y_train)\n",
    "y_train_pred_dtr = dtr.predict(x_train)\n",
    "y_test_pred_dtr = dtr.predict(x_test)\n",
    "print('training accuracy is ', r2_score(y_train, y_train_pred_dtr))\n",
    "print('testing accuracy is ', r2_score(y_test, y_test_pred_dtr))\n",
    "print('Mean squared error is ', mean_squared_error(y_test,y_test_pred_dtr))\n",
    "print('Mean Absolute error is ', mean_absolute_error(y_test,y_test_pred_dtr))\n",
    "print(\"Root Mean Squared Error is \",np.sqrt(mean_squared_error(y_test,y_test_pred_dtr)))"
   ]
  },
  {
   "cell_type": "code",
   "execution_count": 102,
   "id": "91998b19",
   "metadata": {},
   "outputs": [
    {
     "name": "stdout",
     "output_type": "stream",
     "text": [
      "At fold  2 Mean CV score is  -0.6741453997605352\n",
      "At fold  3 Mean CV score is  -0.5186998477747743\n",
      "At fold  4 Mean CV score is  -0.5068946484812953\n",
      "At fold  5 Mean CV score is  -0.24837782788890955\n",
      "At fold  6 Mean CV score is  -0.2153550966485438\n",
      "At fold  7 Mean CV score is  -0.10798770450578819\n",
      "At fold  8 Mean CV score is  -0.06848523538431142\n",
      "At fold  9 Mean CV score is  0.03565950997142301\n"
     ]
    }
   ],
   "source": [
    "#Cross validation of the dtr model\n",
    "dtr=DecisionTreeRegressor()\n",
    "for j in range(2,10):\n",
    "    cv_dtr=cross_val_score(dtr, x, y, cv=j)\n",
    "    print('At fold ', j , \"Mean CV score is \", cv_dtr.mean())"
   ]
  },
  {
   "cell_type": "markdown",
   "id": "9a6d26ae",
   "metadata": {},
   "source": [
    "# 3. RandomForestRegressor"
   ]
  },
  {
   "cell_type": "code",
   "execution_count": 103,
   "id": "39ffabe1",
   "metadata": {},
   "outputs": [
    {
     "name": "stdout",
     "output_type": "stream",
     "text": [
      "training accuracy is  0.9999961309880316\n",
      "testing accuracy is  0.9999786966863808\n",
      "mean squared error is  0.0004953936763793985\n",
      "mean absolute error is  0.0025232486050844345\n",
      "Root Mean Squared Error is  0.022257440921619864\n"
     ]
    }
   ],
   "source": [
    "from sklearn.ensemble import RandomForestRegressor\n",
    "\n",
    "rfr = RandomForestRegressor()\n",
    "rfr.fit(x_train, y_train)\n",
    "y_train_pred_rfr = rfr.predict(x_train)\n",
    "y_test_pred_rfr = rfr.predict(x_test)\n",
    "print(\"training accuracy is \",r2_score(y_train,y_train_pred_rfr))\n",
    "print(\"testing accuracy is \",r2_score(y_test,y_test_pred_rfr))\n",
    "print(\"mean squared error is \",mean_squared_error(y_test, y_test_pred_rfr))\n",
    "print(\"mean absolute error is \",mean_absolute_error(y_test, y_test_pred_rfr))\n",
    "print(\"Root Mean Squared Error is \",np.sqrt(mean_squared_error(y_test,y_test_pred_rfr)))"
   ]
  },
  {
   "cell_type": "code",
   "execution_count": 104,
   "id": "f37e11da",
   "metadata": {},
   "outputs": [
    {
     "name": "stdout",
     "output_type": "stream",
     "text": [
      "At fold  2 Mean CV score is  0.22257686546449146\n",
      "At fold  3 Mean CV score is  0.28252044295440143\n",
      "At fold  4 Mean CV score is  0.24322405020334034\n",
      "At fold  5 Mean CV score is  0.38229591605756735\n",
      "At fold  6 Mean CV score is  0.3767620202404138\n",
      "At fold  7 Mean CV score is  0.4192372772790403\n",
      "At fold  8 Mean CV score is  0.45450302905109885\n",
      "At fold  9 Mean CV score is  0.47313811593174815\n"
     ]
    }
   ],
   "source": [
    "# cross validation for random forest model\n",
    "\n",
    "for j in range(2,10):\n",
    "    cv_rfr = cross_val_score(rfr, x, y, cv=j)\n",
    "    print('At fold ', j , \"Mean CV score is \", cv_rfr.mean())"
   ]
  },
  {
   "cell_type": "markdown",
   "id": "c9f32dce",
   "metadata": {},
   "source": [
    "# 4. ExtraTreesRegressor"
   ]
  },
  {
   "cell_type": "code",
   "execution_count": 105,
   "id": "469df2b4",
   "metadata": {},
   "outputs": [
    {
     "name": "stdout",
     "output_type": "stream",
     "text": [
      "training accuracy is  1.0\n",
      "testing accuracy is  0.999998314093079\n",
      "mean squared error is  3.9204587724733924e-05\n",
      "mean absolute error is  0.0007470551766906665\n",
      "root mean squared error is  0.0062613567000079084\n"
     ]
    }
   ],
   "source": [
    "from sklearn.ensemble import ExtraTreesRegressor\n",
    "\n",
    "etr = ExtraTreesRegressor()\n",
    "etr.fit(x_train,y_train)\n",
    "y_train_pred_etr = etr.predict(x_train)\n",
    "y_test_pred_etr = etr.predict(x_test)\n",
    "print('training accuracy is ',r2_score(y_train, y_train_pred_etr))\n",
    "print('testing accuracy is ',r2_score(y_test, y_test_pred_etr))\n",
    "print('mean squared error is ',mean_squared_error(y_test, y_test_pred_etr))\n",
    "print('mean absolute error is ',mean_absolute_error(y_test, y_test_pred_etr))\n",
    "print('root mean squared error is ',np.sqrt(mean_squared_error(y_test, y_test_pred_etr)))"
   ]
  },
  {
   "cell_type": "code",
   "execution_count": 106,
   "id": "c5364f5a",
   "metadata": {},
   "outputs": [
    {
     "name": "stdout",
     "output_type": "stream",
     "text": [
      "At fold  2 Mean CV score is  0.2497272656032869\n",
      "At fold  3 Mean CV score is  0.32531817795754975\n",
      "At fold  4 Mean CV score is  0.27978113692324574\n",
      "At fold  5 Mean CV score is  0.43917161046110637\n",
      "At fold  6 Mean CV score is  0.4152072840755198\n",
      "At fold  7 Mean CV score is  0.46033787530534565\n",
      "At fold  8 Mean CV score is  0.509312773469556\n",
      "At fold  9 Mean CV score is  0.527668920376301\n"
     ]
    }
   ],
   "source": [
    "# cross validation for extra trees regressor model\n",
    "\n",
    "for j in range(2,10):\n",
    "    cv_etr = cross_val_score(etr, x, y , cv = j)\n",
    "    print('At fold ', j , \"Mean CV score is \", cv_etr.mean())"
   ]
  },
  {
   "cell_type": "markdown",
   "id": "502d97d1",
   "metadata": {},
   "source": [
    "# 5. Gradient Boosting Regressor"
   ]
  },
  {
   "cell_type": "code",
   "execution_count": 107,
   "id": "aed97916",
   "metadata": {},
   "outputs": [
    {
     "name": "stdout",
     "output_type": "stream",
     "text": [
      "training accuracy is  0.9999856888658509\n",
      "testing accuracy is  0.9999729967029751\n",
      "mean squared error is  0.0006279428086487621\n",
      "mean absolute error is  0.006810952136732361\n",
      "root mean squared error is  0.025058787054619426\n"
     ]
    }
   ],
   "source": [
    "from sklearn.ensemble import GradientBoostingRegressor\n",
    "\n",
    "gbr = GradientBoostingRegressor()\n",
    "gbr.fit(x_train, y_train)\n",
    "y_train_pred_gbr = gbr.predict(x_train)\n",
    "y_test_pred_gbr = gbr.predict(x_test)\n",
    "print('training accuracy is ',r2_score(y_train,y_train_pred_gbr))\n",
    "print('testing accuracy is ',r2_score(y_test,y_test_pred_gbr))\n",
    "print('mean squared error is ', mean_squared_error(y_test,y_test_pred_gbr))\n",
    "print('mean absolute error is ', mean_absolute_error(y_test,y_test_pred_gbr))\n",
    "print('root mean squared error is ', np.sqrt(mean_squared_error(y_test,y_test_pred_gbr)))"
   ]
  },
  {
   "cell_type": "code",
   "execution_count": 108,
   "id": "c454aae1",
   "metadata": {},
   "outputs": [
    {
     "name": "stdout",
     "output_type": "stream",
     "text": [
      "At fold  2 Mean cv score is  0.2114819983330376\n",
      "At fold  3 Mean cv score is  0.24826673149486436\n",
      "At fold  4 Mean cv score is  0.24726479932919554\n",
      "At fold  5 Mean cv score is  0.28212321782088223\n",
      "At fold  6 Mean cv score is  0.28412268657191664\n",
      "At fold  7 Mean cv score is  0.29623736529080374\n",
      "At fold  8 Mean cv score is  0.3081462407683784\n",
      "At fold  9 Mean cv score is  0.3060241507028053\n"
     ]
    }
   ],
   "source": [
    "# cross validation for gradient boosting regressor model\n",
    "\n",
    "for j in range(2,10):\n",
    "    cv_gbr = cross_val_score(gbr, x, y, cv=j)\n",
    "    print('At fold ',j,'Mean cv score is ',cv_gbr.mean())"
   ]
  },
  {
   "cell_type": "markdown",
   "id": "241cf5b7",
   "metadata": {},
   "source": [
    "- Out of the above 5 models used, extra trees regressor gives the best accuracy so we will use it as the final model."
   ]
  },
  {
   "cell_type": "markdown",
   "id": "69900fd5",
   "metadata": {},
   "source": [
    "# Hyperparameter Tuning"
   ]
  },
  {
   "cell_type": "code",
   "execution_count": 109,
   "id": "753dc24c",
   "metadata": {},
   "outputs": [
    {
     "data": {
      "text/plain": [
       "{'n_estimators': 200, 'max_features': 'sqrt'}"
      ]
     },
     "execution_count": 109,
     "metadata": {},
     "output_type": "execute_result"
    }
   ],
   "source": [
    "from sklearn.model_selection import RandomizedSearchCV\n",
    "parameter = {\n",
    "    'n_estimators': [100,200,300,400,500],\n",
    "        'max_features': ['sqrt','log2']\n",
    "}\n",
    "\n",
    "model = ExtraTreesRegressor()\n",
    "\n",
    "rcv = RandomizedSearchCV(model,parameter,cv=9,n_jobs=-1).fit(x_train,y_train.values.ravel())\n",
    "\n",
    "rcv.best_params_"
   ]
  },
  {
   "cell_type": "code",
   "execution_count": 110,
   "id": "baf2bff9",
   "metadata": {},
   "outputs": [
    {
     "name": "stdout",
     "output_type": "stream",
     "text": [
      "Final Accuracy is with Random Forest Classifier =  0.9494750027253253\n"
     ]
    }
   ],
   "source": [
    "# Checking score with best parameter\n",
    "final_model=ExtraTreesRegressor(max_features='sqrt',n_estimators=200)\n",
    "final_model.fit(x_train,y_train)\n",
    "y_pred_test_final=final_model.predict(x_test)\n",
    "print('Final Accuracy is with Random Forest Classifier = ',r2_score(y_test,y_pred_test_final))"
   ]
  },
  {
   "cell_type": "code",
   "execution_count": 111,
   "id": "525bdd1a",
   "metadata": {},
   "outputs": [
    {
     "data": {
      "text/plain": [
       "['Rainfall weather prediction_Part2.pkl']"
      ]
     },
     "execution_count": 111,
     "metadata": {},
     "output_type": "execute_result"
    }
   ],
   "source": [
    "#saving the model\n",
    "import joblib\n",
    "joblib.dump(ExtraTreesRegressor(criterion='mse',max_features='sqrt',n_estimators=300), \"Rainfall weather prediction_Part2.pkl\")"
   ]
  },
  {
   "cell_type": "code",
   "execution_count": 112,
   "id": "107dfcf3",
   "metadata": {},
   "outputs": [
    {
     "data": {
      "text/html": [
       "<div>\n",
       "<style scoped>\n",
       "    .dataframe tbody tr th:only-of-type {\n",
       "        vertical-align: middle;\n",
       "    }\n",
       "\n",
       "    .dataframe tbody tr th {\n",
       "        vertical-align: top;\n",
       "    }\n",
       "\n",
       "    .dataframe thead th {\n",
       "        text-align: right;\n",
       "    }\n",
       "</style>\n",
       "<table border=\"1\" class=\"dataframe\">\n",
       "  <thead>\n",
       "    <tr style=\"text-align: right;\">\n",
       "      <th></th>\n",
       "      <th>Original</th>\n",
       "      <th>Predicted</th>\n",
       "    </tr>\n",
       "  </thead>\n",
       "  <tbody>\n",
       "    <tr>\n",
       "      <th>0</th>\n",
       "      <td>0.0</td>\n",
       "      <td>0.0000</td>\n",
       "    </tr>\n",
       "    <tr>\n",
       "      <th>1</th>\n",
       "      <td>0.0</td>\n",
       "      <td>0.0010</td>\n",
       "    </tr>\n",
       "    <tr>\n",
       "      <th>2</th>\n",
       "      <td>0.2</td>\n",
       "      <td>0.2130</td>\n",
       "    </tr>\n",
       "    <tr>\n",
       "      <th>3</th>\n",
       "      <td>0.0</td>\n",
       "      <td>0.0000</td>\n",
       "    </tr>\n",
       "    <tr>\n",
       "      <th>4</th>\n",
       "      <td>0.0</td>\n",
       "      <td>0.1275</td>\n",
       "    </tr>\n",
       "    <tr>\n",
       "      <th>...</th>\n",
       "      <td>...</td>\n",
       "      <td>...</td>\n",
       "    </tr>\n",
       "    <tr>\n",
       "      <th>1608</th>\n",
       "      <td>0.0</td>\n",
       "      <td>0.0000</td>\n",
       "    </tr>\n",
       "    <tr>\n",
       "      <th>1609</th>\n",
       "      <td>1.4</td>\n",
       "      <td>2.3425</td>\n",
       "    </tr>\n",
       "    <tr>\n",
       "      <th>1610</th>\n",
       "      <td>0.0</td>\n",
       "      <td>0.0000</td>\n",
       "    </tr>\n",
       "    <tr>\n",
       "      <th>1611</th>\n",
       "      <td>12.0</td>\n",
       "      <td>12.7080</td>\n",
       "    </tr>\n",
       "    <tr>\n",
       "      <th>1612</th>\n",
       "      <td>0.0</td>\n",
       "      <td>0.0000</td>\n",
       "    </tr>\n",
       "  </tbody>\n",
       "</table>\n",
       "<p>1613 rows × 2 columns</p>\n",
       "</div>"
      ],
      "text/plain": [
       "      Original  Predicted\n",
       "0          0.0     0.0000\n",
       "1          0.0     0.0010\n",
       "2          0.2     0.2130\n",
       "3          0.0     0.0000\n",
       "4          0.0     0.1275\n",
       "...        ...        ...\n",
       "1608       0.0     0.0000\n",
       "1609       1.4     2.3425\n",
       "1610       0.0     0.0000\n",
       "1611      12.0    12.7080\n",
       "1612       0.0     0.0000\n",
       "\n",
       "[1613 rows x 2 columns]"
      ]
     },
     "execution_count": 112,
     "metadata": {},
     "output_type": "execute_result"
    }
   ],
   "source": [
    "# Conclusion\n",
    "a=np.array(y_test)\n",
    "predicted=np.array(y_pred_test_final)\n",
    "df_con=pd.DataFrame({'Original':a,'Predicted':y_pred_test_final}, index=range(len(a)))\n",
    "df_con"
   ]
  },
  {
   "cell_type": "markdown",
   "id": "081be8c5",
   "metadata": {},
   "source": [
    "# The End"
   ]
  }
 ],
 "metadata": {
  "kernelspec": {
   "display_name": "Python 3 (ipykernel)",
   "language": "python",
   "name": "python3"
  },
  "language_info": {
   "codemirror_mode": {
    "name": "ipython",
    "version": 3
   },
   "file_extension": ".py",
   "mimetype": "text/x-python",
   "name": "python",
   "nbconvert_exporter": "python",
   "pygments_lexer": "ipython3",
   "version": "3.9.12"
  }
 },
 "nbformat": 4,
 "nbformat_minor": 5
}
