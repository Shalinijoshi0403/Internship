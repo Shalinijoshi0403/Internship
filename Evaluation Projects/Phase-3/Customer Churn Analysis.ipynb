{
 "cells": [
  {
   "cell_type": "markdown",
   "id": "901ee49b",
   "metadata": {},
   "source": [
    "# Customer Churn Analysis\n",
    "### Project Description\n",
    "Customer churn is when a company’s customers stop doing business with that company. Businesses are very keen on measuring churn because keeping an existing customer is far less expensive than acquiring a new customer. New business involves working leads through a sales funnel, using marketing and sales budgets to gain additional customers. Existing customers will often have a higher volume of service consumption and can generate additional customer referrals.\n",
    "\n",
    "Customer retention can be achieved with good customer service and products. But the most effective way for a company to prevent attrition of customers is to truly know them. The vast volumes of data collected about customers can be used to build churn prediction models. Knowing who is most likely to defect means that a company can prioritise focused marketing efforts on that subset of their customer base.\n",
    "\n",
    "Preventing customer churn is critically important to the telecommunications sector, as the barriers to entry for switching services are so low. \n",
    "\n",
    "You will examine customer data from IBM Sample Data Sets with the aim of building and comparing several customer churn prediction models. \n",
    "\n",
    "### Dataset Link-  \n",
    "•\thttps://github.com/dsrscientist/DSData/blob/master/Telecom_customer_churn.csv\n",
    "\n"
   ]
  },
  {
   "cell_type": "markdown",
   "id": "baa5fb53",
   "metadata": {},
   "source": [
    "# Importing necessary libraries"
   ]
  },
  {
   "cell_type": "code",
   "execution_count": 1,
   "id": "4a44de01",
   "metadata": {},
   "outputs": [],
   "source": [
    "import pandas as pd\n",
    "import numpy as np\n",
    "import matplotlib.pyplot as plt\n",
    "import seaborn as sns\n",
    "\n",
    "import warnings\n",
    "warnings.filterwarnings('ignore')"
   ]
  },
  {
   "cell_type": "markdown",
   "id": "4afbd32f",
   "metadata": {},
   "source": [
    "# Loading dataset"
   ]
  },
  {
   "cell_type": "code",
   "execution_count": 2,
   "id": "ebfe12c7",
   "metadata": {},
   "outputs": [
    {
     "data": {
      "text/html": [
       "<div>\n",
       "<style scoped>\n",
       "    .dataframe tbody tr th:only-of-type {\n",
       "        vertical-align: middle;\n",
       "    }\n",
       "\n",
       "    .dataframe tbody tr th {\n",
       "        vertical-align: top;\n",
       "    }\n",
       "\n",
       "    .dataframe thead th {\n",
       "        text-align: right;\n",
       "    }\n",
       "</style>\n",
       "<table border=\"1\" class=\"dataframe\">\n",
       "  <thead>\n",
       "    <tr style=\"text-align: right;\">\n",
       "      <th></th>\n",
       "      <th>customerID</th>\n",
       "      <th>gender</th>\n",
       "      <th>SeniorCitizen</th>\n",
       "      <th>Partner</th>\n",
       "      <th>Dependents</th>\n",
       "      <th>tenure</th>\n",
       "      <th>PhoneService</th>\n",
       "      <th>MultipleLines</th>\n",
       "      <th>InternetService</th>\n",
       "      <th>OnlineSecurity</th>\n",
       "      <th>...</th>\n",
       "      <th>DeviceProtection</th>\n",
       "      <th>TechSupport</th>\n",
       "      <th>StreamingTV</th>\n",
       "      <th>StreamingMovies</th>\n",
       "      <th>Contract</th>\n",
       "      <th>PaperlessBilling</th>\n",
       "      <th>PaymentMethod</th>\n",
       "      <th>MonthlyCharges</th>\n",
       "      <th>TotalCharges</th>\n",
       "      <th>Churn</th>\n",
       "    </tr>\n",
       "  </thead>\n",
       "  <tbody>\n",
       "    <tr>\n",
       "      <th>0</th>\n",
       "      <td>7590-VHVEG</td>\n",
       "      <td>Female</td>\n",
       "      <td>0</td>\n",
       "      <td>Yes</td>\n",
       "      <td>No</td>\n",
       "      <td>1</td>\n",
       "      <td>No</td>\n",
       "      <td>No phone service</td>\n",
       "      <td>DSL</td>\n",
       "      <td>No</td>\n",
       "      <td>...</td>\n",
       "      <td>No</td>\n",
       "      <td>No</td>\n",
       "      <td>No</td>\n",
       "      <td>No</td>\n",
       "      <td>Month-to-month</td>\n",
       "      <td>Yes</td>\n",
       "      <td>Electronic check</td>\n",
       "      <td>29.85</td>\n",
       "      <td>29.85</td>\n",
       "      <td>No</td>\n",
       "    </tr>\n",
       "    <tr>\n",
       "      <th>1</th>\n",
       "      <td>5575-GNVDE</td>\n",
       "      <td>Male</td>\n",
       "      <td>0</td>\n",
       "      <td>No</td>\n",
       "      <td>No</td>\n",
       "      <td>34</td>\n",
       "      <td>Yes</td>\n",
       "      <td>No</td>\n",
       "      <td>DSL</td>\n",
       "      <td>Yes</td>\n",
       "      <td>...</td>\n",
       "      <td>Yes</td>\n",
       "      <td>No</td>\n",
       "      <td>No</td>\n",
       "      <td>No</td>\n",
       "      <td>One year</td>\n",
       "      <td>No</td>\n",
       "      <td>Mailed check</td>\n",
       "      <td>56.95</td>\n",
       "      <td>1889.5</td>\n",
       "      <td>No</td>\n",
       "    </tr>\n",
       "    <tr>\n",
       "      <th>2</th>\n",
       "      <td>3668-QPYBK</td>\n",
       "      <td>Male</td>\n",
       "      <td>0</td>\n",
       "      <td>No</td>\n",
       "      <td>No</td>\n",
       "      <td>2</td>\n",
       "      <td>Yes</td>\n",
       "      <td>No</td>\n",
       "      <td>DSL</td>\n",
       "      <td>Yes</td>\n",
       "      <td>...</td>\n",
       "      <td>No</td>\n",
       "      <td>No</td>\n",
       "      <td>No</td>\n",
       "      <td>No</td>\n",
       "      <td>Month-to-month</td>\n",
       "      <td>Yes</td>\n",
       "      <td>Mailed check</td>\n",
       "      <td>53.85</td>\n",
       "      <td>108.15</td>\n",
       "      <td>Yes</td>\n",
       "    </tr>\n",
       "    <tr>\n",
       "      <th>3</th>\n",
       "      <td>7795-CFOCW</td>\n",
       "      <td>Male</td>\n",
       "      <td>0</td>\n",
       "      <td>No</td>\n",
       "      <td>No</td>\n",
       "      <td>45</td>\n",
       "      <td>No</td>\n",
       "      <td>No phone service</td>\n",
       "      <td>DSL</td>\n",
       "      <td>Yes</td>\n",
       "      <td>...</td>\n",
       "      <td>Yes</td>\n",
       "      <td>Yes</td>\n",
       "      <td>No</td>\n",
       "      <td>No</td>\n",
       "      <td>One year</td>\n",
       "      <td>No</td>\n",
       "      <td>Bank transfer (automatic)</td>\n",
       "      <td>42.30</td>\n",
       "      <td>1840.75</td>\n",
       "      <td>No</td>\n",
       "    </tr>\n",
       "    <tr>\n",
       "      <th>4</th>\n",
       "      <td>9237-HQITU</td>\n",
       "      <td>Female</td>\n",
       "      <td>0</td>\n",
       "      <td>No</td>\n",
       "      <td>No</td>\n",
       "      <td>2</td>\n",
       "      <td>Yes</td>\n",
       "      <td>No</td>\n",
       "      <td>Fiber optic</td>\n",
       "      <td>No</td>\n",
       "      <td>...</td>\n",
       "      <td>No</td>\n",
       "      <td>No</td>\n",
       "      <td>No</td>\n",
       "      <td>No</td>\n",
       "      <td>Month-to-month</td>\n",
       "      <td>Yes</td>\n",
       "      <td>Electronic check</td>\n",
       "      <td>70.70</td>\n",
       "      <td>151.65</td>\n",
       "      <td>Yes</td>\n",
       "    </tr>\n",
       "  </tbody>\n",
       "</table>\n",
       "<p>5 rows × 21 columns</p>\n",
       "</div>"
      ],
      "text/plain": [
       "   customerID  gender  SeniorCitizen Partner Dependents  tenure PhoneService  \\\n",
       "0  7590-VHVEG  Female              0     Yes         No       1           No   \n",
       "1  5575-GNVDE    Male              0      No         No      34          Yes   \n",
       "2  3668-QPYBK    Male              0      No         No       2          Yes   \n",
       "3  7795-CFOCW    Male              0      No         No      45           No   \n",
       "4  9237-HQITU  Female              0      No         No       2          Yes   \n",
       "\n",
       "      MultipleLines InternetService OnlineSecurity  ... DeviceProtection  \\\n",
       "0  No phone service             DSL             No  ...               No   \n",
       "1                No             DSL            Yes  ...              Yes   \n",
       "2                No             DSL            Yes  ...               No   \n",
       "3  No phone service             DSL            Yes  ...              Yes   \n",
       "4                No     Fiber optic             No  ...               No   \n",
       "\n",
       "  TechSupport StreamingTV StreamingMovies        Contract PaperlessBilling  \\\n",
       "0          No          No              No  Month-to-month              Yes   \n",
       "1          No          No              No        One year               No   \n",
       "2          No          No              No  Month-to-month              Yes   \n",
       "3         Yes          No              No        One year               No   \n",
       "4          No          No              No  Month-to-month              Yes   \n",
       "\n",
       "               PaymentMethod MonthlyCharges  TotalCharges Churn  \n",
       "0           Electronic check          29.85         29.85    No  \n",
       "1               Mailed check          56.95        1889.5    No  \n",
       "2               Mailed check          53.85        108.15   Yes  \n",
       "3  Bank transfer (automatic)          42.30       1840.75    No  \n",
       "4           Electronic check          70.70        151.65   Yes  \n",
       "\n",
       "[5 rows x 21 columns]"
      ]
     },
     "execution_count": 2,
     "metadata": {},
     "output_type": "execute_result"
    }
   ],
   "source": [
    "df = pd.read_csv(\"C:\\\\Users\\\\suven\\\\OneDrive\\\\Desktop\\\\Internship\\\\Evaluation Projects\\\\Third Phase\\\\Customer Churn Analysis\\\\Telecom_customer_churn.csv\")\n",
    "df.head()"
   ]
  },
  {
   "cell_type": "code",
   "execution_count": 3,
   "id": "4d05ec14",
   "metadata": {},
   "outputs": [
    {
     "data": {
      "text/html": [
       "<div>\n",
       "<style scoped>\n",
       "    .dataframe tbody tr th:only-of-type {\n",
       "        vertical-align: middle;\n",
       "    }\n",
       "\n",
       "    .dataframe tbody tr th {\n",
       "        vertical-align: top;\n",
       "    }\n",
       "\n",
       "    .dataframe thead th {\n",
       "        text-align: right;\n",
       "    }\n",
       "</style>\n",
       "<table border=\"1\" class=\"dataframe\">\n",
       "  <thead>\n",
       "    <tr style=\"text-align: right;\">\n",
       "      <th></th>\n",
       "      <th>customerID</th>\n",
       "      <th>gender</th>\n",
       "      <th>SeniorCitizen</th>\n",
       "      <th>Partner</th>\n",
       "      <th>Dependents</th>\n",
       "      <th>tenure</th>\n",
       "      <th>PhoneService</th>\n",
       "      <th>MultipleLines</th>\n",
       "      <th>InternetService</th>\n",
       "      <th>OnlineSecurity</th>\n",
       "      <th>...</th>\n",
       "      <th>DeviceProtection</th>\n",
       "      <th>TechSupport</th>\n",
       "      <th>StreamingTV</th>\n",
       "      <th>StreamingMovies</th>\n",
       "      <th>Contract</th>\n",
       "      <th>PaperlessBilling</th>\n",
       "      <th>PaymentMethod</th>\n",
       "      <th>MonthlyCharges</th>\n",
       "      <th>TotalCharges</th>\n",
       "      <th>Churn</th>\n",
       "    </tr>\n",
       "  </thead>\n",
       "  <tbody>\n",
       "    <tr>\n",
       "      <th>7038</th>\n",
       "      <td>6840-RESVB</td>\n",
       "      <td>Male</td>\n",
       "      <td>0</td>\n",
       "      <td>Yes</td>\n",
       "      <td>Yes</td>\n",
       "      <td>24</td>\n",
       "      <td>Yes</td>\n",
       "      <td>Yes</td>\n",
       "      <td>DSL</td>\n",
       "      <td>Yes</td>\n",
       "      <td>...</td>\n",
       "      <td>Yes</td>\n",
       "      <td>Yes</td>\n",
       "      <td>Yes</td>\n",
       "      <td>Yes</td>\n",
       "      <td>One year</td>\n",
       "      <td>Yes</td>\n",
       "      <td>Mailed check</td>\n",
       "      <td>84.80</td>\n",
       "      <td>1990.5</td>\n",
       "      <td>No</td>\n",
       "    </tr>\n",
       "    <tr>\n",
       "      <th>7039</th>\n",
       "      <td>2234-XADUH</td>\n",
       "      <td>Female</td>\n",
       "      <td>0</td>\n",
       "      <td>Yes</td>\n",
       "      <td>Yes</td>\n",
       "      <td>72</td>\n",
       "      <td>Yes</td>\n",
       "      <td>Yes</td>\n",
       "      <td>Fiber optic</td>\n",
       "      <td>No</td>\n",
       "      <td>...</td>\n",
       "      <td>Yes</td>\n",
       "      <td>No</td>\n",
       "      <td>Yes</td>\n",
       "      <td>Yes</td>\n",
       "      <td>One year</td>\n",
       "      <td>Yes</td>\n",
       "      <td>Credit card (automatic)</td>\n",
       "      <td>103.20</td>\n",
       "      <td>7362.9</td>\n",
       "      <td>No</td>\n",
       "    </tr>\n",
       "    <tr>\n",
       "      <th>7040</th>\n",
       "      <td>4801-JZAZL</td>\n",
       "      <td>Female</td>\n",
       "      <td>0</td>\n",
       "      <td>Yes</td>\n",
       "      <td>Yes</td>\n",
       "      <td>11</td>\n",
       "      <td>No</td>\n",
       "      <td>No phone service</td>\n",
       "      <td>DSL</td>\n",
       "      <td>Yes</td>\n",
       "      <td>...</td>\n",
       "      <td>No</td>\n",
       "      <td>No</td>\n",
       "      <td>No</td>\n",
       "      <td>No</td>\n",
       "      <td>Month-to-month</td>\n",
       "      <td>Yes</td>\n",
       "      <td>Electronic check</td>\n",
       "      <td>29.60</td>\n",
       "      <td>346.45</td>\n",
       "      <td>No</td>\n",
       "    </tr>\n",
       "    <tr>\n",
       "      <th>7041</th>\n",
       "      <td>8361-LTMKD</td>\n",
       "      <td>Male</td>\n",
       "      <td>1</td>\n",
       "      <td>Yes</td>\n",
       "      <td>No</td>\n",
       "      <td>4</td>\n",
       "      <td>Yes</td>\n",
       "      <td>Yes</td>\n",
       "      <td>Fiber optic</td>\n",
       "      <td>No</td>\n",
       "      <td>...</td>\n",
       "      <td>No</td>\n",
       "      <td>No</td>\n",
       "      <td>No</td>\n",
       "      <td>No</td>\n",
       "      <td>Month-to-month</td>\n",
       "      <td>Yes</td>\n",
       "      <td>Mailed check</td>\n",
       "      <td>74.40</td>\n",
       "      <td>306.6</td>\n",
       "      <td>Yes</td>\n",
       "    </tr>\n",
       "    <tr>\n",
       "      <th>7042</th>\n",
       "      <td>3186-AJIEK</td>\n",
       "      <td>Male</td>\n",
       "      <td>0</td>\n",
       "      <td>No</td>\n",
       "      <td>No</td>\n",
       "      <td>66</td>\n",
       "      <td>Yes</td>\n",
       "      <td>No</td>\n",
       "      <td>Fiber optic</td>\n",
       "      <td>Yes</td>\n",
       "      <td>...</td>\n",
       "      <td>Yes</td>\n",
       "      <td>Yes</td>\n",
       "      <td>Yes</td>\n",
       "      <td>Yes</td>\n",
       "      <td>Two year</td>\n",
       "      <td>Yes</td>\n",
       "      <td>Bank transfer (automatic)</td>\n",
       "      <td>105.65</td>\n",
       "      <td>6844.5</td>\n",
       "      <td>No</td>\n",
       "    </tr>\n",
       "  </tbody>\n",
       "</table>\n",
       "<p>5 rows × 21 columns</p>\n",
       "</div>"
      ],
      "text/plain": [
       "      customerID  gender  SeniorCitizen Partner Dependents  tenure  \\\n",
       "7038  6840-RESVB    Male              0     Yes        Yes      24   \n",
       "7039  2234-XADUH  Female              0     Yes        Yes      72   \n",
       "7040  4801-JZAZL  Female              0     Yes        Yes      11   \n",
       "7041  8361-LTMKD    Male              1     Yes         No       4   \n",
       "7042  3186-AJIEK    Male              0      No         No      66   \n",
       "\n",
       "     PhoneService     MultipleLines InternetService OnlineSecurity  ...  \\\n",
       "7038          Yes               Yes             DSL            Yes  ...   \n",
       "7039          Yes               Yes     Fiber optic             No  ...   \n",
       "7040           No  No phone service             DSL            Yes  ...   \n",
       "7041          Yes               Yes     Fiber optic             No  ...   \n",
       "7042          Yes                No     Fiber optic            Yes  ...   \n",
       "\n",
       "     DeviceProtection TechSupport StreamingTV StreamingMovies        Contract  \\\n",
       "7038              Yes         Yes         Yes             Yes        One year   \n",
       "7039              Yes          No         Yes             Yes        One year   \n",
       "7040               No          No          No              No  Month-to-month   \n",
       "7041               No          No          No              No  Month-to-month   \n",
       "7042              Yes         Yes         Yes             Yes        Two year   \n",
       "\n",
       "     PaperlessBilling              PaymentMethod MonthlyCharges  TotalCharges  \\\n",
       "7038              Yes               Mailed check          84.80        1990.5   \n",
       "7039              Yes    Credit card (automatic)         103.20        7362.9   \n",
       "7040              Yes           Electronic check          29.60        346.45   \n",
       "7041              Yes               Mailed check          74.40         306.6   \n",
       "7042              Yes  Bank transfer (automatic)         105.65        6844.5   \n",
       "\n",
       "     Churn  \n",
       "7038    No  \n",
       "7039    No  \n",
       "7040    No  \n",
       "7041   Yes  \n",
       "7042    No  \n",
       "\n",
       "[5 rows x 21 columns]"
      ]
     },
     "execution_count": 3,
     "metadata": {},
     "output_type": "execute_result"
    }
   ],
   "source": [
    "df.tail()"
   ]
  },
  {
   "cell_type": "code",
   "execution_count": 4,
   "id": "71452570",
   "metadata": {},
   "outputs": [
    {
     "data": {
      "text/plain": [
       "(7043, 21)"
      ]
     },
     "execution_count": 4,
     "metadata": {},
     "output_type": "execute_result"
    }
   ],
   "source": [
    "# Checking rows and columns of dataset\n",
    "df.shape"
   ]
  },
  {
   "cell_type": "markdown",
   "id": "c13ab379",
   "metadata": {},
   "source": [
    "- There are 7043 rows and 21 columns in the dataset\n",
    "- Out of these 21 columns 1 is target variable and rest are features"
   ]
  },
  {
   "cell_type": "code",
   "execution_count": 5,
   "id": "aa15f938",
   "metadata": {},
   "outputs": [
    {
     "data": {
      "text/plain": [
       "Index(['customerID', 'gender', 'SeniorCitizen', 'Partner', 'Dependents',\n",
       "       'tenure', 'PhoneService', 'MultipleLines', 'InternetService',\n",
       "       'OnlineSecurity', 'OnlineBackup', 'DeviceProtection', 'TechSupport',\n",
       "       'StreamingTV', 'StreamingMovies', 'Contract', 'PaperlessBilling',\n",
       "       'PaymentMethod', 'MonthlyCharges', 'TotalCharges', 'Churn'],\n",
       "      dtype='object')"
      ]
     },
     "execution_count": 5,
     "metadata": {},
     "output_type": "execute_result"
    }
   ],
   "source": [
    "# Checking names of all the columns\n",
    "df.columns"
   ]
  },
  {
   "cell_type": "markdown",
   "id": "4914d949",
   "metadata": {},
   "source": [
    "- 'Churn' is the target variable and rest all are features"
   ]
  },
  {
   "cell_type": "code",
   "execution_count": 6,
   "id": "3634608f",
   "metadata": {},
   "outputs": [
    {
     "data": {
      "text/plain": [
       "customerID           object\n",
       "gender               object\n",
       "SeniorCitizen         int64\n",
       "Partner              object\n",
       "Dependents           object\n",
       "tenure                int64\n",
       "PhoneService         object\n",
       "MultipleLines        object\n",
       "InternetService      object\n",
       "OnlineSecurity       object\n",
       "OnlineBackup         object\n",
       "DeviceProtection     object\n",
       "TechSupport          object\n",
       "StreamingTV          object\n",
       "StreamingMovies      object\n",
       "Contract             object\n",
       "PaperlessBilling     object\n",
       "PaymentMethod        object\n",
       "MonthlyCharges      float64\n",
       "TotalCharges         object\n",
       "Churn                object\n",
       "dtype: object"
      ]
     },
     "execution_count": 6,
     "metadata": {},
     "output_type": "execute_result"
    }
   ],
   "source": [
    "# Checking datatype of each column\n",
    "df.dtypes"
   ]
  },
  {
   "cell_type": "markdown",
   "id": "9be95cb5",
   "metadata": {},
   "source": [
    "- There are 3 numeric (2 int64 and 1 float64) fields. Rest all are non-numeric(object)\n",
    "- The categorical i.e. non -numeric fields will be dealt with later"
   ]
  },
  {
   "cell_type": "code",
   "execution_count": 7,
   "id": "f7082570",
   "metadata": {},
   "outputs": [
    {
     "name": "stdout",
     "output_type": "stream",
     "text": [
      "<class 'pandas.core.frame.DataFrame'>\n",
      "RangeIndex: 7043 entries, 0 to 7042\n",
      "Data columns (total 21 columns):\n",
      " #   Column            Non-Null Count  Dtype  \n",
      "---  ------            --------------  -----  \n",
      " 0   customerID        7043 non-null   object \n",
      " 1   gender            7043 non-null   object \n",
      " 2   SeniorCitizen     7043 non-null   int64  \n",
      " 3   Partner           7043 non-null   object \n",
      " 4   Dependents        7043 non-null   object \n",
      " 5   tenure            7043 non-null   int64  \n",
      " 6   PhoneService      7043 non-null   object \n",
      " 7   MultipleLines     7043 non-null   object \n",
      " 8   InternetService   7043 non-null   object \n",
      " 9   OnlineSecurity    7043 non-null   object \n",
      " 10  OnlineBackup      7043 non-null   object \n",
      " 11  DeviceProtection  7043 non-null   object \n",
      " 12  TechSupport       7043 non-null   object \n",
      " 13  StreamingTV       7043 non-null   object \n",
      " 14  StreamingMovies   7043 non-null   object \n",
      " 15  Contract          7043 non-null   object \n",
      " 16  PaperlessBilling  7043 non-null   object \n",
      " 17  PaymentMethod     7043 non-null   object \n",
      " 18  MonthlyCharges    7043 non-null   float64\n",
      " 19  TotalCharges      7043 non-null   object \n",
      " 20  Churn             7043 non-null   object \n",
      "dtypes: float64(1), int64(2), object(18)\n",
      "memory usage: 1.1+ MB\n"
     ]
    }
   ],
   "source": [
    "# Checking more info about the dataset\n",
    "df.info()"
   ]
  },
  {
   "cell_type": "markdown",
   "id": "a134de11",
   "metadata": {},
   "source": [
    "- There are 7043 rows and 21 columns- another validation with this function\n",
    "- There are no null/missing values in the dataset\n",
    "- Theere are 3 numeric and 18 non-numeric fields in the dataset\n",
    "- The datatype matches with the column name in the dataset\n"
   ]
  },
  {
   "cell_type": "code",
   "execution_count": 8,
   "id": "024a42d0",
   "metadata": {},
   "outputs": [
    {
     "data": {
      "text/plain": [
       "customerID          0\n",
       "gender              0\n",
       "SeniorCitizen       0\n",
       "Partner             0\n",
       "Dependents          0\n",
       "tenure              0\n",
       "PhoneService        0\n",
       "MultipleLines       0\n",
       "InternetService     0\n",
       "OnlineSecurity      0\n",
       "OnlineBackup        0\n",
       "DeviceProtection    0\n",
       "TechSupport         0\n",
       "StreamingTV         0\n",
       "StreamingMovies     0\n",
       "Contract            0\n",
       "PaperlessBilling    0\n",
       "PaymentMethod       0\n",
       "MonthlyCharges      0\n",
       "TotalCharges        0\n",
       "Churn               0\n",
       "dtype: int64"
      ]
     },
     "execution_count": 8,
     "metadata": {},
     "output_type": "execute_result"
    }
   ],
   "source": [
    "# Checking again if there is any null or missing value\n",
    "df.isna().sum()"
   ]
  },
  {
   "cell_type": "markdown",
   "id": "99f5221c",
   "metadata": {},
   "source": [
    "- This confirms that there is no missing/null value in the dataset"
   ]
  },
  {
   "cell_type": "code",
   "execution_count": 9,
   "id": "16b2eb77",
   "metadata": {},
   "outputs": [
    {
     "data": {
      "text/plain": [
       "customerID          7043\n",
       "gender                 2\n",
       "SeniorCitizen          2\n",
       "Partner                2\n",
       "Dependents             2\n",
       "tenure                73\n",
       "PhoneService           2\n",
       "MultipleLines          3\n",
       "InternetService        3\n",
       "OnlineSecurity         3\n",
       "OnlineBackup           3\n",
       "DeviceProtection       3\n",
       "TechSupport            3\n",
       "StreamingTV            3\n",
       "StreamingMovies        3\n",
       "Contract               3\n",
       "PaperlessBilling       2\n",
       "PaymentMethod          4\n",
       "MonthlyCharges      1585\n",
       "TotalCharges        6531\n",
       "Churn                  2\n",
       "dtype: int64"
      ]
     },
     "execution_count": 9,
     "metadata": {},
     "output_type": "execute_result"
    }
   ],
   "source": [
    "# Checking unique values in columns\n",
    "df.nunique()"
   ]
  },
  {
   "cell_type": "markdown",
   "id": "1e44864e",
   "metadata": {},
   "source": [
    "- Only customerID has all the unique values which looks fine as it is the only identifier in the dataset"
   ]
  },
  {
   "cell_type": "code",
   "execution_count": 10,
   "id": "f430d71e",
   "metadata": {},
   "outputs": [
    {
     "data": {
      "text/html": [
       "<div>\n",
       "<style scoped>\n",
       "    .dataframe tbody tr th:only-of-type {\n",
       "        vertical-align: middle;\n",
       "    }\n",
       "\n",
       "    .dataframe tbody tr th {\n",
       "        vertical-align: top;\n",
       "    }\n",
       "\n",
       "    .dataframe thead th {\n",
       "        text-align: right;\n",
       "    }\n",
       "</style>\n",
       "<table border=\"1\" class=\"dataframe\">\n",
       "  <thead>\n",
       "    <tr style=\"text-align: right;\">\n",
       "      <th></th>\n",
       "      <th>count</th>\n",
       "      <th>mean</th>\n",
       "      <th>std</th>\n",
       "      <th>min</th>\n",
       "      <th>25%</th>\n",
       "      <th>50%</th>\n",
       "      <th>75%</th>\n",
       "      <th>max</th>\n",
       "    </tr>\n",
       "  </thead>\n",
       "  <tbody>\n",
       "    <tr>\n",
       "      <th>SeniorCitizen</th>\n",
       "      <td>7043.0</td>\n",
       "      <td>0.162147</td>\n",
       "      <td>0.368612</td>\n",
       "      <td>0.00</td>\n",
       "      <td>0.0</td>\n",
       "      <td>0.00</td>\n",
       "      <td>0.00</td>\n",
       "      <td>1.00</td>\n",
       "    </tr>\n",
       "    <tr>\n",
       "      <th>tenure</th>\n",
       "      <td>7043.0</td>\n",
       "      <td>32.371149</td>\n",
       "      <td>24.559481</td>\n",
       "      <td>0.00</td>\n",
       "      <td>9.0</td>\n",
       "      <td>29.00</td>\n",
       "      <td>55.00</td>\n",
       "      <td>72.00</td>\n",
       "    </tr>\n",
       "    <tr>\n",
       "      <th>MonthlyCharges</th>\n",
       "      <td>7043.0</td>\n",
       "      <td>64.761692</td>\n",
       "      <td>30.090047</td>\n",
       "      <td>18.25</td>\n",
       "      <td>35.5</td>\n",
       "      <td>70.35</td>\n",
       "      <td>89.85</td>\n",
       "      <td>118.75</td>\n",
       "    </tr>\n",
       "  </tbody>\n",
       "</table>\n",
       "</div>"
      ],
      "text/plain": [
       "                 count       mean        std    min   25%    50%    75%  \\\n",
       "SeniorCitizen   7043.0   0.162147   0.368612   0.00   0.0   0.00   0.00   \n",
       "tenure          7043.0  32.371149  24.559481   0.00   9.0  29.00  55.00   \n",
       "MonthlyCharges  7043.0  64.761692  30.090047  18.25  35.5  70.35  89.85   \n",
       "\n",
       "                   max  \n",
       "SeniorCitizen     1.00  \n",
       "tenure           72.00  \n",
       "MonthlyCharges  118.75  "
      ]
     },
     "execution_count": 10,
     "metadata": {},
     "output_type": "execute_result"
    }
   ],
   "source": [
    "# Checking the statistical summary\n",
    "df.describe().T"
   ]
  },
  {
   "cell_type": "markdown",
   "id": "db98a7da",
   "metadata": {},
   "source": [
    "- The statistical summary of the three numerical columns present in the dataset is shown\n",
    "- 'SeniorCitizen' should be considered as a categorical column\n",
    "- 'tenure' is positively skewed as mean > median\n",
    "- 'MonthlyCharges' is negatively skewed as mean < median"
   ]
  },
  {
   "cell_type": "code",
   "execution_count": 3,
   "id": "a27b4d95",
   "metadata": {},
   "outputs": [
    {
     "data": {
      "text/plain": [
       "SeniorCitizen     1.833633\n",
       "tenure            0.239540\n",
       "MonthlyCharges   -0.220524\n",
       "dtype: float64"
      ]
     },
     "execution_count": 3,
     "metadata": {},
     "output_type": "execute_result"
    }
   ],
   "source": [
    "# checking skewness score\n",
    "df.skew()"
   ]
  },
  {
   "cell_type": "markdown",
   "id": "2d43c55a",
   "metadata": {},
   "source": [
    "- very mild skewness present"
   ]
  },
  {
   "cell_type": "markdown",
   "id": "efebde56",
   "metadata": {},
   "source": [
    "# EDA"
   ]
  },
  {
   "cell_type": "code",
   "execution_count": 12,
   "id": "ef272396",
   "metadata": {},
   "outputs": [
    {
     "name": "stdout",
     "output_type": "stream",
     "text": [
      "7590-VHVEG    1\n",
      "3791-LGQCY    1\n",
      "6008-NAIXK    1\n",
      "5956-YHHRX    1\n",
      "5365-LLFYV    1\n",
      "             ..\n",
      "9796-MVYXX    1\n",
      "2637-FKFSY    1\n",
      "1552-AAGRX    1\n",
      "4304-TSPVK    1\n",
      "3186-AJIEK    1\n",
      "Name: customerID, Length: 7043, dtype: int64\n",
      "7590-VHVEG    0.000142\n",
      "3791-LGQCY    0.000142\n",
      "6008-NAIXK    0.000142\n",
      "5956-YHHRX    0.000142\n",
      "5365-LLFYV    0.000142\n",
      "                ...   \n",
      "9796-MVYXX    0.000142\n",
      "2637-FKFSY    0.000142\n",
      "1552-AAGRX    0.000142\n",
      "4304-TSPVK    0.000142\n",
      "3186-AJIEK    0.000142\n",
      "Name: customerID, Length: 7043, dtype: float64\n"
     ]
    },
    {
     "data": {
      "image/png": "[encoded data removed]",
      "text/plain": [
       "<Figure size 432x288 with 1 Axes>"
      ]
     },
     "metadata": {
      "needs_background": "light"
     },
     "output_type": "display_data"
    },
    {
     "name": "stdout",
     "output_type": "stream",
     "text": [
      "Male      3555\n",
      "Female    3488\n",
      "Name: gender, dtype: int64\n",
      "Male      0.504756\n",
      "Female    0.495244\n",
      "Name: gender, dtype: float64\n"
     ]
    },
    {
     "data": {
      "image/png": "[encoded data removed]",
      "text/plain": [
       "<Figure size 432x288 with 1 Axes>"
      ]
     },
     "metadata": {
      "needs_background": "light"
     },
     "output_type": "display_data"
    },
    {
     "name": "stdout",
     "output_type": "stream",
     "text": [
      "No     3641\n",
      "Yes    3402\n",
      "Name: Partner, dtype: int64\n",
      "No     0.516967\n",
      "Yes    0.483033\n",
      "Name: Partner, dtype: float64\n"
     ]
    },
    {
     "data": {
      "image/png": "[encoded data removed]",
      "text/plain": [
       "<Figure size 432x288 with 1 Axes>"
      ]
     },
     "metadata": {
      "needs_background": "light"
     },
     "output_type": "display_data"
    },
    {
     "name": "stdout",
     "output_type": "stream",
     "text": [
      "No     4933\n",
      "Yes    2110\n",
      "Name: Dependents, dtype: int64\n",
      "No     0.700412\n",
      "Yes    0.299588\n",
      "Name: Dependents, dtype: float64\n"
     ]
    },
    {
     "data": {
      "image/png": "[encoded data removed]",
      "text/plain": [
       "<Figure size 432x288 with 1 Axes>"
      ]
     },
     "metadata": {
      "needs_background": "light"
     },
     "output_type": "display_data"
    },
    {
     "name": "stdout",
     "output_type": "stream",
     "text": [
      "Yes    6361\n",
      "No      682\n",
      "Name: PhoneService, dtype: int64\n",
      "Yes    0.903166\n",
      "No     0.096834\n",
      "Name: PhoneService, dtype: float64\n"
     ]
    },
    {
     "data": {
      "image/png": "[encoded data removed]",
      "text/plain": [
       "<Figure size 432x288 with 1 Axes>"
      ]
     },
     "metadata": {
      "needs_background": "light"
     },
     "output_type": "display_data"
    },
    {
     "name": "stdout",
     "output_type": "stream",
     "text": [
      "No                  3390\n",
      "Yes                 2971\n",
      "No phone service     682\n",
      "Name: MultipleLines, dtype: int64\n",
      "No                  0.481329\n",
      "Yes                 0.421837\n",
      "No phone service    0.096834\n",
      "Name: MultipleLines, dtype: float64\n"
     ]
    },
    {
     "data": {
      "image/png": "[encoded data removed]",
      "text/plain": [
       "<Figure size 432x288 with 1 Axes>"
      ]
     },
     "metadata": {
      "needs_background": "light"
     },
     "output_type": "display_data"
    },
    {
     "name": "stdout",
     "output_type": "stream",
     "text": [
      "Fiber optic    3096\n",
      "DSL            2421\n",
      "No             1526\n",
      "Name: InternetService, dtype: int64\n",
      "Fiber optic    0.439585\n",
      "DSL            0.343746\n",
      "No             0.216669\n",
      "Name: InternetService, dtype: float64\n"
     ]
    },
    {
     "data": {
      "image/png": "[encoded data removed]",
      "text/plain": [
       "<Figure size 432x288 with 1 Axes>"
      ]
     },
     "metadata": {
      "needs_background": "light"
     },
     "output_type": "display_data"
    },
    {
     "name": "stdout",
     "output_type": "stream",
     "text": [
      "No                     3498\n",
      "Yes                    2019\n",
      "No internet service    1526\n",
      "Name: OnlineSecurity, dtype: int64\n",
      "No                     0.496663\n",
      "Yes                    0.286668\n",
      "No internet service    0.216669\n",
      "Name: OnlineSecurity, dtype: float64\n"
     ]
    },
    {
     "data": {
      "image/png": "[encoded data removed]",
      "text/plain": [
       "<Figure size 432x288 with 1 Axes>"
      ]
     },
     "metadata": {
      "needs_background": "light"
     },
     "output_type": "display_data"
    },
    {
     "name": "stdout",
     "output_type": "stream",
     "text": [
      "No                     3088\n",
      "Yes                    2429\n",
      "No internet service    1526\n",
      "Name: OnlineBackup, dtype: int64\n",
      "No                     0.438450\n",
      "Yes                    0.344881\n",
      "No internet service    0.216669\n",
      "Name: OnlineBackup, dtype: float64\n"
     ]
    },
    {
     "data": {
      "image/png": "[encoded data removed]",
      "text/plain": [
       "<Figure size 432x288 with 1 Axes>"
      ]
     },
     "metadata": {
      "needs_background": "light"
     },
     "output_type": "display_data"
    },
    {
     "name": "stdout",
     "output_type": "stream",
     "text": [
      "No                     3095\n",
      "Yes                    2422\n",
      "No internet service    1526\n",
      "Name: DeviceProtection, dtype: int64\n",
      "No                     0.439443\n",
      "Yes                    0.343888\n",
      "No internet service    0.216669\n",
      "Name: DeviceProtection, dtype: float64\n"
     ]
    },
    {
     "data": {
      "image/png": "[encoded data removed]",
      "text/plain": [
       "<Figure size 432x288 with 1 Axes>"
      ]
     },
     "metadata": {
      "needs_background": "light"
     },
     "output_type": "display_data"
    },
    {
     "name": "stdout",
     "output_type": "stream",
     "text": [
      "No                     3473\n",
      "Yes                    2044\n",
      "No internet service    1526\n",
      "Name: TechSupport, dtype: int64\n",
      "No                     0.493114\n",
      "Yes                    0.290217\n",
      "No internet service    0.216669\n",
      "Name: TechSupport, dtype: float64\n"
     ]
    },
    {
     "data": {
      "image/png": "[encoded data removed]",
      "text/plain": [
       "<Figure size 432x288 with 1 Axes>"
      ]
     },
     "metadata": {
      "needs_background": "light"
     },
     "output_type": "display_data"
    },
    {
     "name": "stdout",
     "output_type": "stream",
     "text": [
      "No                     2810\n",
      "Yes                    2707\n",
      "No internet service    1526\n",
      "Name: StreamingTV, dtype: int64\n",
      "No                     0.398978\n",
      "Yes                    0.384353\n",
      "No internet service    0.216669\n",
      "Name: StreamingTV, dtype: float64\n"
     ]
    },
    {
     "data": {
      "image/png": "[encoded data removed]",
      "text/plain": [
       "<Figure size 432x288 with 1 Axes>"
      ]
     },
     "metadata": {
      "needs_background": "light"
     },
     "output_type": "display_data"
    },
    {
     "name": "stdout",
     "output_type": "stream",
     "text": [
      "No                     2785\n",
      "Yes                    2732\n",
      "No internet service    1526\n",
      "Name: StreamingMovies, dtype: int64\n",
      "No                     0.395428\n",
      "Yes                    0.387903\n",
      "No internet service    0.216669\n",
      "Name: StreamingMovies, dtype: float64\n"
     ]
    },
    {
     "data": {
      "image/png": "[encoded data removed]",
      "text/plain": [
       "<Figure size 432x288 with 1 Axes>"
      ]
     },
     "metadata": {
      "needs_background": "light"
     },
     "output_type": "display_data"
    },
    {
     "name": "stdout",
     "output_type": "stream",
     "text": [
      "Month-to-month    3875\n",
      "Two year          1695\n",
      "One year          1473\n",
      "Name: Contract, dtype: int64\n",
      "Month-to-month    0.550192\n",
      "Two year          0.240664\n",
      "One year          0.209144\n",
      "Name: Contract, dtype: float64\n"
     ]
    },
    {
     "data": {
      "image/png": "[encoded data removed]",
      "text/plain": [
       "<Figure size 432x288 with 1 Axes>"
      ]
     },
     "metadata": {
      "needs_background": "light"
     },
     "output_type": "display_data"
    },
    {
     "name": "stdout",
     "output_type": "stream",
     "text": [
      "Yes    4171\n",
      "No     2872\n",
      "Name: PaperlessBilling, dtype: int64\n",
      "Yes    0.592219\n",
      "No     0.407781\n",
      "Name: PaperlessBilling, dtype: float64\n"
     ]
    },
    {
     "data": {
      "image/png": "[encoded data removed]",
      "text/plain": [
       "<Figure size 432x288 with 1 Axes>"
      ]
     },
     "metadata": {
      "needs_background": "light"
     },
     "output_type": "display_data"
    },
    {
     "name": "stdout",
     "output_type": "stream",
     "text": [
      "Electronic check             2365\n",
      "Mailed check                 1612\n",
      "Bank transfer (automatic)    1544\n",
      "Credit card (automatic)      1522\n",
      "Name: PaymentMethod, dtype: int64\n",
      "Electronic check             0.335794\n",
      "Mailed check                 0.228880\n",
      "Bank transfer (automatic)    0.219225\n",
      "Credit card (automatic)      0.216101\n",
      "Name: PaymentMethod, dtype: float64\n"
     ]
    },
    {
     "data": {
      "image/png": "[encoded data removed]",
      "text/plain": [
       "<Figure size 432x288 with 1 Axes>"
      ]
     },
     "metadata": {
      "needs_background": "light"
     },
     "output_type": "display_data"
    },
    {
     "name": "stdout",
     "output_type": "stream",
     "text": [
      "          11\n",
      "20.2      11\n",
      "19.75      9\n",
      "20.05      8\n",
      "19.9       8\n",
      "          ..\n",
      "6849.4     1\n",
      "692.35     1\n",
      "130.15     1\n",
      "3211.9     1\n",
      "6844.5     1\n",
      "Name: TotalCharges, Length: 6531, dtype: int64\n",
      "          0.001562\n",
      "20.2      0.001562\n",
      "19.75     0.001278\n",
      "20.05     0.001136\n",
      "19.9      0.001136\n",
      "            ...   \n",
      "6849.4    0.000142\n",
      "692.35    0.000142\n",
      "130.15    0.000142\n",
      "3211.9    0.000142\n",
      "6844.5    0.000142\n",
      "Name: TotalCharges, Length: 6531, dtype: float64\n"
     ]
    },
    {
     "data": {
      "image/png": "[encoded data removed]",
      "text/plain": [
       "<Figure size 432x288 with 1 Axes>"
      ]
     },
     "metadata": {
      "needs_background": "light"
     },
     "output_type": "display_data"
    },
    {
     "name": "stdout",
     "output_type": "stream",
     "text": [
      "No     5174\n",
      "Yes    1869\n",
      "Name: Churn, dtype: int64\n",
      "No     0.73463\n",
      "Yes    0.26537\n",
      "Name: Churn, dtype: float64\n"
     ]
    },
    {
     "data": {
      "image/png": "[encoded data removed]",
      "text/plain": [
       "<Figure size 432x288 with 1 Axes>"
      ]
     },
     "metadata": {
      "needs_background": "light"
     },
     "output_type": "display_data"
    }
   ],
   "source": [
    "# Let's visualise categorical fields on the countplot\n",
    "for i in df.columns:\n",
    "    if df[i].dtypes == 'object':\n",
    "        sns.countplot(x = df[i], hue = df['Churn'])\n",
    "        print(df[i].value_counts())\n",
    "        print(df[i].value_counts(normalize=True))\n",
    "        plt.show()"
   ]
  },
  {
   "cell_type": "markdown",
   "id": "c79110ab",
   "metadata": {},
   "source": [
    "- Out of total customerbase, 73% churn while only 27% retain.\n",
    "- 'customerID' are all unique values\n",
    "- The number of male and female in the dataset is nearly close. Their churn rate is also very much same.\n",
    "- The people with no partners is more in the data and they tend to churn more than the ones with the partner.\n",
    "- 70% of customers have no dependents out of which 83% churn.\n",
    "- 90% of customers have phoneservice out of 91% churn.\n",
    "- Customer with no multiple lines is in majority followed by ones with multiple lines and no phone service.Out of these ones with MultipleLines churn the most\n",
    "- 44% customers have Fiberoptic internet service followed by DSL; 34% and 22% have no internet service. Out of these the ones with Fiberoptic service churn the most; 69%\n",
    "- 50% customers have no Online security followed by ones with Online security; 29% and 22% have no internet service. Out of these the ones with no online security churn the most.\n",
    "- 'TotalCharges' should be changed to numeric datatype\n",
    "- The 'Electronic Check' payment method is in majority ; 33.58% followed by Mailed check; 23% and Bank Transfer 22% and CreditCard 21%. Out of these the Electronic cHECK  churns the most\n",
    "- 59% of cutomers opt for PaperlessBilling and they churn more; 75%\n",
    "- The customers in month to month contract are highest in number and also churn the most in comparison to ones in one year or 2 year contracts.\n",
    "- The ones with no streamingTV churn the most\n",
    "- The ones with no device protect churn the most"
   ]
  },
  {
   "cell_type": "code",
   "execution_count": 4,
   "id": "1335db5b",
   "metadata": {},
   "outputs": [],
   "source": [
    "df['TotalCharges'] = pd.to_numeric(df.TotalCharges, errors='coerce')\n"
   ]
  },
  {
   "cell_type": "code",
   "execution_count": 5,
   "id": "6844c493",
   "metadata": {},
   "outputs": [
    {
     "data": {
      "text/plain": [
       "customerID           0\n",
       "gender               0\n",
       "SeniorCitizen        0\n",
       "Partner              0\n",
       "Dependents           0\n",
       "tenure               0\n",
       "PhoneService         0\n",
       "MultipleLines        0\n",
       "InternetService      0\n",
       "OnlineSecurity       0\n",
       "OnlineBackup         0\n",
       "DeviceProtection     0\n",
       "TechSupport          0\n",
       "StreamingTV          0\n",
       "StreamingMovies      0\n",
       "Contract             0\n",
       "PaperlessBilling     0\n",
       "PaymentMethod        0\n",
       "MonthlyCharges       0\n",
       "TotalCharges        11\n",
       "Churn                0\n",
       "dtype: int64"
      ]
     },
     "execution_count": 5,
     "metadata": {},
     "output_type": "execute_result"
    }
   ],
   "source": [
    "# Checking if TotalCharges has null values\n",
    "df.isna().sum()"
   ]
  },
  {
   "cell_type": "markdown",
   "id": "bafb2d58",
   "metadata": {},
   "source": [
    "'TotalCharges' has 11 missing values. They can be replaced with the mean of the columsn"
   ]
  },
  {
   "cell_type": "code",
   "execution_count": 6,
   "id": "3abb36ad",
   "metadata": {},
   "outputs": [],
   "source": [
    "df['TotalCharges'] = df['TotalCharges'].fillna(df['TotalCharges'].mean())"
   ]
  },
  {
   "cell_type": "code",
   "execution_count": 7,
   "id": "55be4c90",
   "metadata": {},
   "outputs": [
    {
     "data": {
      "text/plain": [
       "customerID          0\n",
       "gender              0\n",
       "SeniorCitizen       0\n",
       "Partner             0\n",
       "Dependents          0\n",
       "tenure              0\n",
       "PhoneService        0\n",
       "MultipleLines       0\n",
       "InternetService     0\n",
       "OnlineSecurity      0\n",
       "OnlineBackup        0\n",
       "DeviceProtection    0\n",
       "TechSupport         0\n",
       "StreamingTV         0\n",
       "StreamingMovies     0\n",
       "Contract            0\n",
       "PaperlessBilling    0\n",
       "PaymentMethod       0\n",
       "MonthlyCharges      0\n",
       "TotalCharges        0\n",
       "Churn               0\n",
       "dtype: int64"
      ]
     },
     "execution_count": 7,
     "metadata": {},
     "output_type": "execute_result"
    }
   ],
   "source": [
    "df.isna().sum()"
   ]
  },
  {
   "cell_type": "markdown",
   "id": "81c63b0f",
   "metadata": {},
   "source": [
    "- Missing value in TotalCharges column has been treated"
   ]
  },
  {
   "cell_type": "code",
   "execution_count": 8,
   "id": "bfbd2071",
   "metadata": {},
   "outputs": [
    {
     "name": "stdout",
     "output_type": "stream",
     "text": [
      "Distribution Plot for  customerID\n",
      "Distribution Plot for  gender\n",
      "Distribution Plot for  SeniorCitizen\n"
     ]
    },
    {
     "data": {
      "image/png": "[encoded data removed]",
      "text/plain": [
       "<Figure size 432x288 with 1 Axes>"
      ]
     },
     "metadata": {
      "needs_background": "light"
     },
     "output_type": "display_data"
    },
    {
     "name": "stdout",
     "output_type": "stream",
     "text": [
      "Distribution Plot for  Partner\n",
      "Distribution Plot for  Dependents\n",
      "Distribution Plot for  tenure\n"
     ]
    },
    {
     "data": {
      "image/png": "[encoded data removed]",
      "text/plain": [
       "<Figure size 432x288 with 1 Axes>"
      ]
     },
     "metadata": {
      "needs_background": "light"
     },
     "output_type": "display_data"
    },
    {
     "name": "stdout",
     "output_type": "stream",
     "text": [
      "Distribution Plot for  PhoneService\n",
      "Distribution Plot for  MultipleLines\n",
      "Distribution Plot for  InternetService\n",
      "Distribution Plot for  OnlineSecurity\n",
      "Distribution Plot for  OnlineBackup\n",
      "Distribution Plot for  DeviceProtection\n",
      "Distribution Plot for  TechSupport\n",
      "Distribution Plot for  StreamingTV\n",
      "Distribution Plot for  StreamingMovies\n",
      "Distribution Plot for  Contract\n",
      "Distribution Plot for  PaperlessBilling\n",
      "Distribution Plot for  PaymentMethod\n",
      "Distribution Plot for  MonthlyCharges\n"
     ]
    },
    {
     "data": {
      "image/png": "[encoded data removed]",
      "text/plain": [
       "<Figure size 432x288 with 1 Axes>"
      ]
     },
     "metadata": {
      "needs_background": "light"
     },
     "output_type": "display_data"
    },
    {
     "name": "stdout",
     "output_type": "stream",
     "text": [
      "Distribution Plot for  TotalCharges\n"
     ]
    },
    {
     "data": {
      "image/png": "[encoded data removed]",
      "text/plain": [
       "<Figure size 432x288 with 1 Axes>"
      ]
     },
     "metadata": {
      "needs_background": "light"
     },
     "output_type": "display_data"
    },
    {
     "name": "stdout",
     "output_type": "stream",
     "text": [
      "Distribution Plot for  Churn\n"
     ]
    }
   ],
   "source": [
    "# Let's visualise numerical fields on the histplot\n",
    "\n",
    "for i in df.columns:\n",
    "    print('Distribution Plot for ', i)\n",
    "    if df[i].dtypes!='object':\n",
    "        sns.distplot(x=df[i],kde=True)\n",
    "        plt.show()"
   ]
  },
  {
   "cell_type": "markdown",
   "id": "5ceb0943",
   "metadata": {},
   "source": [
    "- SeniorCitizen should be treated as categorical field\n",
    "- tenure and MonthlyCharges have very very mild skewness- can be avoided!\n",
    "- TotalCharges is positively skewed-presence of outliers"
   ]
  },
  {
   "cell_type": "markdown",
   "id": "6263a258",
   "metadata": {},
   "source": [
    "# Data Pre-processing"
   ]
  },
  {
   "cell_type": "code",
   "execution_count": null,
   "id": "3e3c483d",
   "metadata": {},
   "outputs": [],
   "source": [
    "# Let's check the correlation between the features and target variable.\n",
    "# But before that let's treat the missing values and use Encoder to convert non-numeric fields to numeric datatype"
   ]
  },
  {
   "cell_type": "code",
   "execution_count": 10,
   "id": "79568005",
   "metadata": {},
   "outputs": [
    {
     "data": {
      "text/html": [
       "<div>\n",
       "<style scoped>\n",
       "    .dataframe tbody tr th:only-of-type {\n",
       "        vertical-align: middle;\n",
       "    }\n",
       "\n",
       "    .dataframe tbody tr th {\n",
       "        vertical-align: top;\n",
       "    }\n",
       "\n",
       "    .dataframe thead th {\n",
       "        text-align: right;\n",
       "    }\n",
       "</style>\n",
       "<table border=\"1\" class=\"dataframe\">\n",
       "  <thead>\n",
       "    <tr style=\"text-align: right;\">\n",
       "      <th></th>\n",
       "      <th>customerID</th>\n",
       "      <th>gender</th>\n",
       "      <th>SeniorCitizen</th>\n",
       "      <th>Partner</th>\n",
       "      <th>Dependents</th>\n",
       "      <th>tenure</th>\n",
       "      <th>PhoneService</th>\n",
       "      <th>MultipleLines</th>\n",
       "      <th>InternetService</th>\n",
       "      <th>OnlineSecurity</th>\n",
       "      <th>...</th>\n",
       "      <th>DeviceProtection</th>\n",
       "      <th>TechSupport</th>\n",
       "      <th>StreamingTV</th>\n",
       "      <th>StreamingMovies</th>\n",
       "      <th>Contract</th>\n",
       "      <th>PaperlessBilling</th>\n",
       "      <th>PaymentMethod</th>\n",
       "      <th>MonthlyCharges</th>\n",
       "      <th>TotalCharges</th>\n",
       "      <th>Churn</th>\n",
       "    </tr>\n",
       "  </thead>\n",
       "  <tbody>\n",
       "    <tr>\n",
       "      <th>0</th>\n",
       "      <td>5375</td>\n",
       "      <td>0</td>\n",
       "      <td>0</td>\n",
       "      <td>1</td>\n",
       "      <td>0</td>\n",
       "      <td>1</td>\n",
       "      <td>0</td>\n",
       "      <td>1</td>\n",
       "      <td>0</td>\n",
       "      <td>0</td>\n",
       "      <td>...</td>\n",
       "      <td>0</td>\n",
       "      <td>0</td>\n",
       "      <td>0</td>\n",
       "      <td>0</td>\n",
       "      <td>0</td>\n",
       "      <td>1</td>\n",
       "      <td>2</td>\n",
       "      <td>29.85</td>\n",
       "      <td>29.85</td>\n",
       "      <td>0</td>\n",
       "    </tr>\n",
       "    <tr>\n",
       "      <th>1</th>\n",
       "      <td>3962</td>\n",
       "      <td>1</td>\n",
       "      <td>0</td>\n",
       "      <td>0</td>\n",
       "      <td>0</td>\n",
       "      <td>34</td>\n",
       "      <td>1</td>\n",
       "      <td>0</td>\n",
       "      <td>0</td>\n",
       "      <td>2</td>\n",
       "      <td>...</td>\n",
       "      <td>2</td>\n",
       "      <td>0</td>\n",
       "      <td>0</td>\n",
       "      <td>0</td>\n",
       "      <td>1</td>\n",
       "      <td>0</td>\n",
       "      <td>3</td>\n",
       "      <td>56.95</td>\n",
       "      <td>1889.50</td>\n",
       "      <td>0</td>\n",
       "    </tr>\n",
       "    <tr>\n",
       "      <th>2</th>\n",
       "      <td>2564</td>\n",
       "      <td>1</td>\n",
       "      <td>0</td>\n",
       "      <td>0</td>\n",
       "      <td>0</td>\n",
       "      <td>2</td>\n",
       "      <td>1</td>\n",
       "      <td>0</td>\n",
       "      <td>0</td>\n",
       "      <td>2</td>\n",
       "      <td>...</td>\n",
       "      <td>0</td>\n",
       "      <td>0</td>\n",
       "      <td>0</td>\n",
       "      <td>0</td>\n",
       "      <td>0</td>\n",
       "      <td>1</td>\n",
       "      <td>3</td>\n",
       "      <td>53.85</td>\n",
       "      <td>108.15</td>\n",
       "      <td>1</td>\n",
       "    </tr>\n",
       "    <tr>\n",
       "      <th>3</th>\n",
       "      <td>5535</td>\n",
       "      <td>1</td>\n",
       "      <td>0</td>\n",
       "      <td>0</td>\n",
       "      <td>0</td>\n",
       "      <td>45</td>\n",
       "      <td>0</td>\n",
       "      <td>1</td>\n",
       "      <td>0</td>\n",
       "      <td>2</td>\n",
       "      <td>...</td>\n",
       "      <td>2</td>\n",
       "      <td>2</td>\n",
       "      <td>0</td>\n",
       "      <td>0</td>\n",
       "      <td>1</td>\n",
       "      <td>0</td>\n",
       "      <td>0</td>\n",
       "      <td>42.30</td>\n",
       "      <td>1840.75</td>\n",
       "      <td>0</td>\n",
       "    </tr>\n",
       "    <tr>\n",
       "      <th>4</th>\n",
       "      <td>6511</td>\n",
       "      <td>0</td>\n",
       "      <td>0</td>\n",
       "      <td>0</td>\n",
       "      <td>0</td>\n",
       "      <td>2</td>\n",
       "      <td>1</td>\n",
       "      <td>0</td>\n",
       "      <td>1</td>\n",
       "      <td>0</td>\n",
       "      <td>...</td>\n",
       "      <td>0</td>\n",
       "      <td>0</td>\n",
       "      <td>0</td>\n",
       "      <td>0</td>\n",
       "      <td>0</td>\n",
       "      <td>1</td>\n",
       "      <td>2</td>\n",
       "      <td>70.70</td>\n",
       "      <td>151.65</td>\n",
       "      <td>1</td>\n",
       "    </tr>\n",
       "    <tr>\n",
       "      <th>...</th>\n",
       "      <td>...</td>\n",
       "      <td>...</td>\n",
       "      <td>...</td>\n",
       "      <td>...</td>\n",
       "      <td>...</td>\n",
       "      <td>...</td>\n",
       "      <td>...</td>\n",
       "      <td>...</td>\n",
       "      <td>...</td>\n",
       "      <td>...</td>\n",
       "      <td>...</td>\n",
       "      <td>...</td>\n",
       "      <td>...</td>\n",
       "      <td>...</td>\n",
       "      <td>...</td>\n",
       "      <td>...</td>\n",
       "      <td>...</td>\n",
       "      <td>...</td>\n",
       "      <td>...</td>\n",
       "      <td>...</td>\n",
       "      <td>...</td>\n",
       "    </tr>\n",
       "    <tr>\n",
       "      <th>7038</th>\n",
       "      <td>4853</td>\n",
       "      <td>1</td>\n",
       "      <td>0</td>\n",
       "      <td>1</td>\n",
       "      <td>1</td>\n",
       "      <td>24</td>\n",
       "      <td>1</td>\n",
       "      <td>2</td>\n",
       "      <td>0</td>\n",
       "      <td>2</td>\n",
       "      <td>...</td>\n",
       "      <td>2</td>\n",
       "      <td>2</td>\n",
       "      <td>2</td>\n",
       "      <td>2</td>\n",
       "      <td>1</td>\n",
       "      <td>1</td>\n",
       "      <td>3</td>\n",
       "      <td>84.80</td>\n",
       "      <td>1990.50</td>\n",
       "      <td>0</td>\n",
       "    </tr>\n",
       "    <tr>\n",
       "      <th>7039</th>\n",
       "      <td>1525</td>\n",
       "      <td>0</td>\n",
       "      <td>0</td>\n",
       "      <td>1</td>\n",
       "      <td>1</td>\n",
       "      <td>72</td>\n",
       "      <td>1</td>\n",
       "      <td>2</td>\n",
       "      <td>1</td>\n",
       "      <td>0</td>\n",
       "      <td>...</td>\n",
       "      <td>2</td>\n",
       "      <td>0</td>\n",
       "      <td>2</td>\n",
       "      <td>2</td>\n",
       "      <td>1</td>\n",
       "      <td>1</td>\n",
       "      <td>1</td>\n",
       "      <td>103.20</td>\n",
       "      <td>7362.90</td>\n",
       "      <td>0</td>\n",
       "    </tr>\n",
       "    <tr>\n",
       "      <th>7040</th>\n",
       "      <td>3367</td>\n",
       "      <td>0</td>\n",
       "      <td>0</td>\n",
       "      <td>1</td>\n",
       "      <td>1</td>\n",
       "      <td>11</td>\n",
       "      <td>0</td>\n",
       "      <td>1</td>\n",
       "      <td>0</td>\n",
       "      <td>2</td>\n",
       "      <td>...</td>\n",
       "      <td>0</td>\n",
       "      <td>0</td>\n",
       "      <td>0</td>\n",
       "      <td>0</td>\n",
       "      <td>0</td>\n",
       "      <td>1</td>\n",
       "      <td>2</td>\n",
       "      <td>29.60</td>\n",
       "      <td>346.45</td>\n",
       "      <td>0</td>\n",
       "    </tr>\n",
       "    <tr>\n",
       "      <th>7041</th>\n",
       "      <td>5934</td>\n",
       "      <td>1</td>\n",
       "      <td>1</td>\n",
       "      <td>1</td>\n",
       "      <td>0</td>\n",
       "      <td>4</td>\n",
       "      <td>1</td>\n",
       "      <td>2</td>\n",
       "      <td>1</td>\n",
       "      <td>0</td>\n",
       "      <td>...</td>\n",
       "      <td>0</td>\n",
       "      <td>0</td>\n",
       "      <td>0</td>\n",
       "      <td>0</td>\n",
       "      <td>0</td>\n",
       "      <td>1</td>\n",
       "      <td>3</td>\n",
       "      <td>74.40</td>\n",
       "      <td>306.60</td>\n",
       "      <td>1</td>\n",
       "    </tr>\n",
       "    <tr>\n",
       "      <th>7042</th>\n",
       "      <td>2226</td>\n",
       "      <td>1</td>\n",
       "      <td>0</td>\n",
       "      <td>0</td>\n",
       "      <td>0</td>\n",
       "      <td>66</td>\n",
       "      <td>1</td>\n",
       "      <td>0</td>\n",
       "      <td>1</td>\n",
       "      <td>2</td>\n",
       "      <td>...</td>\n",
       "      <td>2</td>\n",
       "      <td>2</td>\n",
       "      <td>2</td>\n",
       "      <td>2</td>\n",
       "      <td>2</td>\n",
       "      <td>1</td>\n",
       "      <td>0</td>\n",
       "      <td>105.65</td>\n",
       "      <td>6844.50</td>\n",
       "      <td>0</td>\n",
       "    </tr>\n",
       "  </tbody>\n",
       "</table>\n",
       "<p>7043 rows × 21 columns</p>\n",
       "</div>"
      ],
      "text/plain": [
       "      customerID  gender  SeniorCitizen  Partner  Dependents  tenure  \\\n",
       "0           5375       0              0        1           0       1   \n",
       "1           3962       1              0        0           0      34   \n",
       "2           2564       1              0        0           0       2   \n",
       "3           5535       1              0        0           0      45   \n",
       "4           6511       0              0        0           0       2   \n",
       "...          ...     ...            ...      ...         ...     ...   \n",
       "7038        4853       1              0        1           1      24   \n",
       "7039        1525       0              0        1           1      72   \n",
       "7040        3367       0              0        1           1      11   \n",
       "7041        5934       1              1        1           0       4   \n",
       "7042        2226       1              0        0           0      66   \n",
       "\n",
       "      PhoneService  MultipleLines  InternetService  OnlineSecurity  ...  \\\n",
       "0                0              1                0               0  ...   \n",
       "1                1              0                0               2  ...   \n",
       "2                1              0                0               2  ...   \n",
       "3                0              1                0               2  ...   \n",
       "4                1              0                1               0  ...   \n",
       "...            ...            ...              ...             ...  ...   \n",
       "7038             1              2                0               2  ...   \n",
       "7039             1              2                1               0  ...   \n",
       "7040             0              1                0               2  ...   \n",
       "7041             1              2                1               0  ...   \n",
       "7042             1              0                1               2  ...   \n",
       "\n",
       "      DeviceProtection  TechSupport  StreamingTV  StreamingMovies  Contract  \\\n",
       "0                    0            0            0                0         0   \n",
       "1                    2            0            0                0         1   \n",
       "2                    0            0            0                0         0   \n",
       "3                    2            2            0                0         1   \n",
       "4                    0            0            0                0         0   \n",
       "...                ...          ...          ...              ...       ...   \n",
       "7038                 2            2            2                2         1   \n",
       "7039                 2            0            2                2         1   \n",
       "7040                 0            0            0                0         0   \n",
       "7041                 0            0            0                0         0   \n",
       "7042                 2            2            2                2         2   \n",
       "\n",
       "      PaperlessBilling  PaymentMethod  MonthlyCharges  TotalCharges  Churn  \n",
       "0                    1              2           29.85         29.85      0  \n",
       "1                    0              3           56.95       1889.50      0  \n",
       "2                    1              3           53.85        108.15      1  \n",
       "3                    0              0           42.30       1840.75      0  \n",
       "4                    1              2           70.70        151.65      1  \n",
       "...                ...            ...             ...           ...    ...  \n",
       "7038                 1              3           84.80       1990.50      0  \n",
       "7039                 1              1          103.20       7362.90      0  \n",
       "7040                 1              2           29.60        346.45      0  \n",
       "7041                 1              3           74.40        306.60      1  \n",
       "7042                 1              0          105.65       6844.50      0  \n",
       "\n",
       "[7043 rows x 21 columns]"
      ]
     },
     "execution_count": 10,
     "metadata": {},
     "output_type": "execute_result"
    }
   ],
   "source": [
    "# Now let us encode the categorical columns\n",
    "\n",
    "from sklearn.preprocessing import LabelEncoder\n",
    "le = LabelEncoder()\n",
    "for i in df.columns:\n",
    "    if df[i].dtypes == 'object':\n",
    "        df[i] = le.fit_transform(df[i])\n",
    "df"
   ]
  },
  {
   "cell_type": "code",
   "execution_count": 11,
   "id": "f0519294",
   "metadata": {},
   "outputs": [
    {
     "data": {
      "text/plain": [
       "customerID            int32\n",
       "gender                int32\n",
       "SeniorCitizen         int64\n",
       "Partner               int32\n",
       "Dependents            int32\n",
       "tenure                int64\n",
       "PhoneService          int32\n",
       "MultipleLines         int32\n",
       "InternetService       int32\n",
       "OnlineSecurity        int32\n",
       "OnlineBackup          int32\n",
       "DeviceProtection      int32\n",
       "TechSupport           int32\n",
       "StreamingTV           int32\n",
       "StreamingMovies       int32\n",
       "Contract              int32\n",
       "PaperlessBilling      int32\n",
       "PaymentMethod         int32\n",
       "MonthlyCharges      float64\n",
       "TotalCharges        float64\n",
       "Churn                 int32\n",
       "dtype: object"
      ]
     },
     "execution_count": 11,
     "metadata": {},
     "output_type": "execute_result"
    }
   ],
   "source": [
    "# checking the data type of columns \n",
    "\n",
    "df.dtypes"
   ]
  },
  {
   "cell_type": "markdown",
   "id": "9b2b7c64",
   "metadata": {},
   "source": [
    "- All are numeric fields now"
   ]
  },
  {
   "cell_type": "code",
   "execution_count": 20,
   "id": "5566ec12",
   "metadata": {},
   "outputs": [
    {
     "data": {
      "image/png": "[encoded data removed]",
      "text/plain": [
       "<Figure size 1800x720 with 2 Axes>"
      ]
     },
     "metadata": {
      "needs_background": "light"
     },
     "output_type": "display_data"
    }
   ],
   "source": [
    "plt.figure(figsize=(25,10))\n",
    "corr=df.apply(lambda x:pd.factorize(x)[0]).corr()\n",
    "mask = np.triu(np.ones_like(corr,dtype=bool))\n",
    "ax=sns.heatmap(corr,mask=mask,xticklabels=corr.columns,yticklabels=corr.columns,annot=True,linewidths=.2,cmap='coolwarm',vmin=-1,vmax=1)"
   ]
  },
  {
   "cell_type": "code",
   "execution_count": 12,
   "id": "5f72a6af",
   "metadata": {},
   "outputs": [],
   "source": [
    "# We can drop CustomerID col as it will not contribute to modelling\n",
    "df= df.drop(['customerID'], axis=1)"
   ]
  },
  {
   "cell_type": "code",
   "execution_count": 13,
   "id": "03c2b274",
   "metadata": {},
   "outputs": [],
   "source": [
    "\n",
    "# Splitting data into target and features\n",
    "x = df.drop(\"Churn\",axis=1) # features\n",
    "y = df[\"Churn\"]             # target variable"
   ]
  },
  {
   "cell_type": "code",
   "execution_count": 14,
   "id": "b7db9701",
   "metadata": {},
   "outputs": [],
   "source": [
    "# Scaling data\n",
    "\n",
    "#Importing necessary libraries\n",
    "from sklearn.preprocessing import StandardScaler\n",
    "from sklearn.metrics import accuracy_score\n",
    "from sklearn.metrics import r2_score\n",
    "from sklearn.model_selection import train_test_split"
   ]
  },
  {
   "cell_type": "code",
   "execution_count": 15,
   "id": "62b0fb66",
   "metadata": {},
   "outputs": [],
   "source": [
    "scaler=StandardScaler()\n",
    "X = pd.DataFrame(scaler.fit_transform(x), columns=x.columns)"
   ]
  },
  {
   "cell_type": "code",
   "execution_count": 16,
   "id": "f5230013",
   "metadata": {},
   "outputs": [
    {
     "data": {
      "text/html": [
       "<div>\n",
       "<style scoped>\n",
       "    .dataframe tbody tr th:only-of-type {\n",
       "        vertical-align: middle;\n",
       "    }\n",
       "\n",
       "    .dataframe tbody tr th {\n",
       "        vertical-align: top;\n",
       "    }\n",
       "\n",
       "    .dataframe thead th {\n",
       "        text-align: right;\n",
       "    }\n",
       "</style>\n",
       "<table border=\"1\" class=\"dataframe\">\n",
       "  <thead>\n",
       "    <tr style=\"text-align: right;\">\n",
       "      <th></th>\n",
       "      <th>vif_Features</th>\n",
       "      <th>Features</th>\n",
       "    </tr>\n",
       "  </thead>\n",
       "  <tbody>\n",
       "    <tr>\n",
       "      <th>0</th>\n",
       "      <td>1.001938</td>\n",
       "      <td>gender</td>\n",
       "    </tr>\n",
       "    <tr>\n",
       "      <th>1</th>\n",
       "      <td>1.149759</td>\n",
       "      <td>SeniorCitizen</td>\n",
       "    </tr>\n",
       "    <tr>\n",
       "      <th>2</th>\n",
       "      <td>1.461052</td>\n",
       "      <td>Partner</td>\n",
       "    </tr>\n",
       "    <tr>\n",
       "      <th>3</th>\n",
       "      <td>1.382351</td>\n",
       "      <td>Dependents</td>\n",
       "    </tr>\n",
       "    <tr>\n",
       "      <th>4</th>\n",
       "      <td>7.213411</td>\n",
       "      <td>tenure</td>\n",
       "    </tr>\n",
       "    <tr>\n",
       "      <th>5</th>\n",
       "      <td>1.622493</td>\n",
       "      <td>PhoneService</td>\n",
       "    </tr>\n",
       "    <tr>\n",
       "      <th>6</th>\n",
       "      <td>1.394323</td>\n",
       "      <td>MultipleLines</td>\n",
       "    </tr>\n",
       "    <tr>\n",
       "      <th>7</th>\n",
       "      <td>1.826632</td>\n",
       "      <td>InternetService</td>\n",
       "    </tr>\n",
       "    <tr>\n",
       "      <th>8</th>\n",
       "      <td>1.268868</td>\n",
       "      <td>OnlineSecurity</td>\n",
       "    </tr>\n",
       "    <tr>\n",
       "      <th>9</th>\n",
       "      <td>1.218713</td>\n",
       "      <td>OnlineBackup</td>\n",
       "    </tr>\n",
       "    <tr>\n",
       "      <th>10</th>\n",
       "      <td>1.298218</td>\n",
       "      <td>DeviceProtection</td>\n",
       "    </tr>\n",
       "    <tr>\n",
       "      <th>11</th>\n",
       "      <td>1.321563</td>\n",
       "      <td>TechSupport</td>\n",
       "    </tr>\n",
       "    <tr>\n",
       "      <th>12</th>\n",
       "      <td>1.446971</td>\n",
       "      <td>StreamingTV</td>\n",
       "    </tr>\n",
       "    <tr>\n",
       "      <th>13</th>\n",
       "      <td>1.446138</td>\n",
       "      <td>StreamingMovies</td>\n",
       "    </tr>\n",
       "    <tr>\n",
       "      <th>14</th>\n",
       "      <td>2.466973</td>\n",
       "      <td>Contract</td>\n",
       "    </tr>\n",
       "    <tr>\n",
       "      <th>15</th>\n",
       "      <td>1.203122</td>\n",
       "      <td>PaperlessBilling</td>\n",
       "    </tr>\n",
       "    <tr>\n",
       "      <th>16</th>\n",
       "      <td>1.186966</td>\n",
       "      <td>PaymentMethod</td>\n",
       "    </tr>\n",
       "    <tr>\n",
       "      <th>17</th>\n",
       "      <td>4.924379</td>\n",
       "      <td>MonthlyCharges</td>\n",
       "    </tr>\n",
       "    <tr>\n",
       "      <th>18</th>\n",
       "      <td>10.353591</td>\n",
       "      <td>TotalCharges</td>\n",
       "    </tr>\n",
       "  </tbody>\n",
       "</table>\n",
       "</div>"
      ],
      "text/plain": [
       "    vif_Features          Features\n",
       "0       1.001938            gender\n",
       "1       1.149759     SeniorCitizen\n",
       "2       1.461052           Partner\n",
       "3       1.382351        Dependents\n",
       "4       7.213411            tenure\n",
       "5       1.622493      PhoneService\n",
       "6       1.394323     MultipleLines\n",
       "7       1.826632   InternetService\n",
       "8       1.268868    OnlineSecurity\n",
       "9       1.218713      OnlineBackup\n",
       "10      1.298218  DeviceProtection\n",
       "11      1.321563       TechSupport\n",
       "12      1.446971       StreamingTV\n",
       "13      1.446138   StreamingMovies\n",
       "14      2.466973          Contract\n",
       "15      1.203122  PaperlessBilling\n",
       "16      1.186966     PaymentMethod\n",
       "17      4.924379    MonthlyCharges\n",
       "18     10.353591      TotalCharges"
      ]
     },
     "execution_count": 16,
     "metadata": {},
     "output_type": "execute_result"
    }
   ],
   "source": [
    "# Checking multicollinearity using VIF\n",
    "from statsmodels.stats.outliers_influence import variance_inflation_factor\n",
    "vif=pd.DataFrame()\n",
    "vif[\"vif_Features\"]=[variance_inflation_factor(X.values, i) for i in range(X.shape[1])]\n",
    "vif[\"Features\"]=X.columns\n",
    "vif"
   ]
  },
  {
   "cell_type": "code",
   "execution_count": 17,
   "id": "2752c89b",
   "metadata": {},
   "outputs": [],
   "source": [
    "# Dropping column TotalCharges\n",
    "X = X.drop([\"TotalCharges\"],axis=1)"
   ]
  },
  {
   "cell_type": "code",
   "execution_count": 18,
   "id": "ac262425",
   "metadata": {},
   "outputs": [
    {
     "data": {
      "text/html": [
       "<div>\n",
       "<style scoped>\n",
       "    .dataframe tbody tr th:only-of-type {\n",
       "        vertical-align: middle;\n",
       "    }\n",
       "\n",
       "    .dataframe tbody tr th {\n",
       "        vertical-align: top;\n",
       "    }\n",
       "\n",
       "    .dataframe thead th {\n",
       "        text-align: right;\n",
       "    }\n",
       "</style>\n",
       "<table border=\"1\" class=\"dataframe\">\n",
       "  <thead>\n",
       "    <tr style=\"text-align: right;\">\n",
       "      <th></th>\n",
       "      <th>vif_Features</th>\n",
       "      <th>Features</th>\n",
       "    </tr>\n",
       "  </thead>\n",
       "  <tbody>\n",
       "    <tr>\n",
       "      <th>0</th>\n",
       "      <td>1.001684</td>\n",
       "      <td>gender</td>\n",
       "    </tr>\n",
       "    <tr>\n",
       "      <th>1</th>\n",
       "      <td>1.149639</td>\n",
       "      <td>SeniorCitizen</td>\n",
       "    </tr>\n",
       "    <tr>\n",
       "      <th>2</th>\n",
       "      <td>1.460856</td>\n",
       "      <td>Partner</td>\n",
       "    </tr>\n",
       "    <tr>\n",
       "      <th>3</th>\n",
       "      <td>1.382106</td>\n",
       "      <td>Dependents</td>\n",
       "    </tr>\n",
       "    <tr>\n",
       "      <th>4</th>\n",
       "      <td>2.754468</td>\n",
       "      <td>tenure</td>\n",
       "    </tr>\n",
       "    <tr>\n",
       "      <th>5</th>\n",
       "      <td>1.622282</td>\n",
       "      <td>PhoneService</td>\n",
       "    </tr>\n",
       "    <tr>\n",
       "      <th>6</th>\n",
       "      <td>1.391652</td>\n",
       "      <td>MultipleLines</td>\n",
       "    </tr>\n",
       "    <tr>\n",
       "      <th>7</th>\n",
       "      <td>1.825876</td>\n",
       "      <td>InternetService</td>\n",
       "    </tr>\n",
       "    <tr>\n",
       "      <th>8</th>\n",
       "      <td>1.247696</td>\n",
       "      <td>OnlineSecurity</td>\n",
       "    </tr>\n",
       "    <tr>\n",
       "      <th>9</th>\n",
       "      <td>1.185932</td>\n",
       "      <td>OnlineBackup</td>\n",
       "    </tr>\n",
       "    <tr>\n",
       "      <th>10</th>\n",
       "      <td>1.280152</td>\n",
       "      <td>DeviceProtection</td>\n",
       "    </tr>\n",
       "    <tr>\n",
       "      <th>11</th>\n",
       "      <td>1.303573</td>\n",
       "      <td>TechSupport</td>\n",
       "    </tr>\n",
       "    <tr>\n",
       "      <th>12</th>\n",
       "      <td>1.443671</td>\n",
       "      <td>StreamingTV</td>\n",
       "    </tr>\n",
       "    <tr>\n",
       "      <th>13</th>\n",
       "      <td>1.442276</td>\n",
       "      <td>StreamingMovies</td>\n",
       "    </tr>\n",
       "    <tr>\n",
       "      <th>14</th>\n",
       "      <td>2.459201</td>\n",
       "      <td>Contract</td>\n",
       "    </tr>\n",
       "    <tr>\n",
       "      <th>15</th>\n",
       "      <td>1.202918</td>\n",
       "      <td>PaperlessBilling</td>\n",
       "    </tr>\n",
       "    <tr>\n",
       "      <th>16</th>\n",
       "      <td>1.180664</td>\n",
       "      <td>PaymentMethod</td>\n",
       "    </tr>\n",
       "    <tr>\n",
       "      <th>17</th>\n",
       "      <td>2.733024</td>\n",
       "      <td>MonthlyCharges</td>\n",
       "    </tr>\n",
       "  </tbody>\n",
       "</table>\n",
       "</div>"
      ],
      "text/plain": [
       "    vif_Features          Features\n",
       "0       1.001684            gender\n",
       "1       1.149639     SeniorCitizen\n",
       "2       1.460856           Partner\n",
       "3       1.382106        Dependents\n",
       "4       2.754468            tenure\n",
       "5       1.622282      PhoneService\n",
       "6       1.391652     MultipleLines\n",
       "7       1.825876   InternetService\n",
       "8       1.247696    OnlineSecurity\n",
       "9       1.185932      OnlineBackup\n",
       "10      1.280152  DeviceProtection\n",
       "11      1.303573       TechSupport\n",
       "12      1.443671       StreamingTV\n",
       "13      1.442276   StreamingMovies\n",
       "14      2.459201          Contract\n",
       "15      1.202918  PaperlessBilling\n",
       "16      1.180664     PaymentMethod\n",
       "17      2.733024    MonthlyCharges"
      ]
     },
     "execution_count": 18,
     "metadata": {},
     "output_type": "execute_result"
    }
   ],
   "source": [
    "# Let's check if multicollinearity still exists\n",
    "vif=pd.DataFrame()\n",
    "vif[\"vif_Features\"]=[variance_inflation_factor(X.values, i) for i in range(X.shape[1])]\n",
    "vif[\"Features\"]=X.columns\n",
    "vif"
   ]
  },
  {
   "cell_type": "markdown",
   "id": "e3c1ecf9",
   "metadata": {},
   "source": [
    "- Multicollinearity issue is resolved"
   ]
  },
  {
   "cell_type": "code",
   "execution_count": 19,
   "id": "94501fd1",
   "metadata": {},
   "outputs": [
    {
     "data": {
      "text/plain": [
       "0    5174\n",
       "1    1869\n",
       "Name: Churn, dtype: int64"
      ]
     },
     "execution_count": 19,
     "metadata": {},
     "output_type": "execute_result"
    }
   ],
   "source": [
    "# let's check if class is imbalanced\n",
    "y.value_counts()"
   ]
  },
  {
   "cell_type": "markdown",
   "id": "1b8fdcad",
   "metadata": {},
   "source": [
    "- Since the class is imbalanced we will treat it through SMOTE"
   ]
  },
  {
   "cell_type": "code",
   "execution_count": 20,
   "id": "3a8a6e23",
   "metadata": {},
   "outputs": [
    {
     "data": {
      "text/plain": [
       "0    5174\n",
       "1    5174\n",
       "Name: Churn, dtype: int64"
      ]
     },
     "execution_count": 20,
     "metadata": {},
     "output_type": "execute_result"
    }
   ],
   "source": [
    "# Let's balance the target variable using SMOTE()\n",
    "\n",
    "# Importing Libraries for it \n",
    "from imblearn.over_sampling import SMOTE\n",
    "sm=SMOTE()\n",
    "X,Y=sm.fit_resample(X,y)\n",
    "Y.value_counts()"
   ]
  },
  {
   "cell_type": "markdown",
   "id": "acd9cdea",
   "metadata": {},
   "source": [
    "- Now the class looks balanced"
   ]
  },
  {
   "cell_type": "markdown",
   "id": "f34221a1",
   "metadata": {},
   "source": [
    "## Splitting data for training and testing"
   ]
  },
  {
   "cell_type": "code",
   "execution_count": 21,
   "id": "fa8d69bb",
   "metadata": {},
   "outputs": [],
   "source": [
    "from sklearn.linear_model import  LogisticRegression\n",
    "from sklearn.metrics import accuracy_score, confusion_matrix, classification_report\n",
    "from sklearn.model_selection import train_test_split\n",
    "\n",
    "lg=LogisticRegression()"
   ]
  },
  {
   "cell_type": "markdown",
   "id": "f91798b1",
   "metadata": {},
   "source": [
    "### Finding best random state"
   ]
  },
  {
   "cell_type": "code",
   "execution_count": 22,
   "id": "e855eb2b",
   "metadata": {},
   "outputs": [
    {
     "name": "stdout",
     "output_type": "stream",
     "text": [
      "At Random State  1\n",
      "testing accuracy 0.7695652173913043 randon state 1\n",
      "Training Accuracy 0.7782072964484175 random state 1\n",
      "max accuracy 0.7695652173913043 max_random_state 1\n",
      "At Random State  2\n",
      "testing accuracy 0.7797101449275362 randon state 2\n",
      "Training Accuracy 0.7742208262865427 random state 2\n",
      "max accuracy 0.7797101449275362 max_random_state 2\n",
      "At Random State  3\n",
      "testing accuracy 0.7806763285024154 randon state 3\n",
      "Training Accuracy 0.7741000241604252 random state 3\n",
      "max accuracy 0.7806763285024154 max_random_state 3\n",
      "At Random State  4\n",
      "testing accuracy 0.7816425120772947 randon state 4\n",
      "Training Accuracy 0.7742208262865427 random state 4\n",
      "max accuracy 0.7816425120772947 max_random_state 4\n",
      "At Random State  5\n",
      "testing accuracy 0.778743961352657 randon state 5\n",
      "Training Accuracy 0.7755496496738342 random state 5\n",
      "At Random State  6\n",
      "testing accuracy 0.7705314009661836 randon state 6\n",
      "Training Accuracy 0.7768784730611259 random state 6\n",
      "At Random State  7\n",
      "testing accuracy 0.7584541062801933 randon state 7\n",
      "Training Accuracy 0.7792945155834743 random state 7\n",
      "At Random State  8\n",
      "testing accuracy 0.7729468599033816 randon state 8\n",
      "Training Accuracy 0.7763952645566562 random state 8\n",
      "At Random State  9\n",
      "testing accuracy 0.7671497584541063 randon state 9\n",
      "Training Accuracy 0.7776032858178304 random state 9\n",
      "At Random State  10\n",
      "testing accuracy 0.7753623188405797 randon state 10\n",
      "Training Accuracy 0.7760328581783039 random state 10\n",
      "At Random State  11\n",
      "testing accuracy 0.782608695652174 randon state 11\n",
      "Training Accuracy 0.7757912539260691 random state 11\n",
      "max accuracy 0.782608695652174 max_random_state 11\n",
      "At Random State  12\n",
      "testing accuracy 0.770048309178744 randon state 12\n",
      "Training Accuracy 0.775187243295482 random state 12\n",
      "At Random State  13\n",
      "testing accuracy 0.7763285024154589 randon state 13\n",
      "Training Accuracy 0.7763952645566562 random state 13\n",
      "At Random State  14\n",
      "testing accuracy 0.7681159420289855 randon state 14\n",
      "Training Accuracy 0.7784489007006523 random state 14\n",
      "At Random State  15\n",
      "testing accuracy 0.7608695652173914 randon state 15\n",
      "Training Accuracy 0.7806233389707659 random state 15\n",
      "At Random State  16\n",
      "testing accuracy 0.7695652173913043 randon state 16\n",
      "Training Accuracy 0.7780864943223 random state 16\n",
      "At Random State  17\n",
      "testing accuracy 0.782608695652174 randon state 17\n",
      "Training Accuracy 0.7753080454215994 random state 17\n",
      "At Random State  18\n",
      "testing accuracy 0.7719806763285024 randon state 18\n",
      "Training Accuracy 0.7744624305387775 random state 18\n",
      "At Random State  19\n",
      "testing accuracy 0.7705314009661836 randon state 19\n",
      "Training Accuracy 0.7767576709350085 random state 19\n",
      "At Random State  20\n",
      "testing accuracy 0.7811594202898551 randon state 20\n",
      "Training Accuracy 0.7743416284126601 random state 20\n",
      "At Random State  21\n",
      "testing accuracy 0.7574879227053141 randon state 21\n",
      "Training Accuracy 0.7798985262140614 random state 21\n",
      "At Random State  22\n",
      "testing accuracy 0.778743961352657 randon state 22\n",
      "Training Accuracy 0.7753080454215994 random state 22\n",
      "At Random State  23\n",
      "testing accuracy 0.7782608695652173 randon state 23\n",
      "Training Accuracy 0.7718047837641943 random state 23\n",
      "At Random State  24\n",
      "testing accuracy 0.7753623188405797 randon state 24\n",
      "Training Accuracy 0.777482483691713 random state 24\n",
      "At Random State  25\n",
      "testing accuracy 0.7792270531400967 randon state 25\n",
      "Training Accuracy 0.7743416284126601 random state 25\n",
      "At Random State  26\n",
      "testing accuracy 0.7845410628019324 randon state 26\n",
      "Training Accuracy 0.7744624305387775 random state 26\n",
      "max accuracy 0.7845410628019324 max_random_state 26\n",
      "At Random State  27\n",
      "testing accuracy 0.7724637681159421 randon state 27\n",
      "Training Accuracy 0.7790529113312394 random state 27\n",
      "At Random State  28\n",
      "testing accuracy 0.7772946859903381 randon state 28\n",
      "Training Accuracy 0.7716839816380768 random state 28\n",
      "At Random State  29\n",
      "testing accuracy 0.7724637681159421 randon state 29\n",
      "Training Accuracy 0.7771200773133607 random state 29\n",
      "At Random State  30\n",
      "testing accuracy 0.7589371980676328 randon state 30\n",
      "Training Accuracy 0.7784489007006523 random state 30\n",
      "At Random State  31\n",
      "testing accuracy 0.77487922705314 randon state 31\n",
      "Training Accuracy 0.7745832326648949 random state 31\n",
      "At Random State  32\n",
      "testing accuracy 0.7768115942028986 randon state 32\n",
      "Training Accuracy 0.7765160666827736 random state 32\n",
      "At Random State  33\n",
      "testing accuracy 0.7927536231884058 randon state 33\n",
      "Training Accuracy 0.7738584199081904 random state 33\n",
      "max accuracy 0.7927536231884058 max_random_state 33\n",
      "At Random State  34\n",
      "testing accuracy 0.782608695652174 randon state 34\n",
      "Training Accuracy 0.7741000241604252 random state 34\n",
      "At Random State  35\n",
      "testing accuracy 0.7671497584541063 randon state 35\n",
      "Training Accuracy 0.7777240879439478 random state 35\n",
      "At Random State  36\n",
      "testing accuracy 0.7714975845410628 randon state 36\n",
      "Training Accuracy 0.7762744624305388 random state 36\n",
      "At Random State  37\n",
      "testing accuracy 0.7840579710144927 randon state 37\n",
      "Training Accuracy 0.7744624305387775 random state 37\n",
      "At Random State  38\n",
      "testing accuracy 0.778743961352657 randon state 38\n",
      "Training Accuracy 0.7747040347910124 random state 38\n",
      "At Random State  39\n",
      "testing accuracy 0.7623188405797101 randon state 39\n",
      "Training Accuracy 0.7798985262140614 random state 39\n",
      "At Random State  40\n",
      "testing accuracy 0.7821256038647343 randon state 40\n",
      "Training Accuracy 0.7716839816380768 random state 40\n",
      "At Random State  41\n",
      "testing accuracy 0.7777777777777778 randon state 41\n",
      "Training Accuracy 0.7767576709350085 random state 41\n",
      "At Random State  42\n",
      "testing accuracy 0.782608695652174 randon state 42\n",
      "Training Accuracy 0.7750664411693646 random state 42\n",
      "At Random State  43\n",
      "testing accuracy 0.7743961352657005 randon state 43\n",
      "Training Accuracy 0.772892002899251 random state 43\n",
      "At Random State  44\n",
      "testing accuracy 0.7864734299516908 randon state 44\n",
      "Training Accuracy 0.7742208262865427 random state 44\n",
      "At Random State  45\n",
      "testing accuracy 0.7594202898550725 randon state 45\n",
      "Training Accuracy 0.7768784730611259 random state 45\n",
      "At Random State  46\n",
      "testing accuracy 0.7507246376811594 randon state 46\n",
      "Training Accuracy 0.7800193283401788 random state 46\n",
      "At Random State  47\n",
      "testing accuracy 0.7676328502415459 randon state 47\n",
      "Training Accuracy 0.778932109205122 random state 47\n",
      "At Random State  48\n",
      "testing accuracy 0.7816425120772947 randon state 48\n",
      "Training Accuracy 0.7753080454215994 random state 48\n",
      "At Random State  49\n",
      "testing accuracy 0.7671497584541063 randon state 49\n",
      "Training Accuracy 0.777482483691713 random state 49\n",
      "At Random State  50\n",
      "testing accuracy 0.7772946859903381 randon state 50\n",
      "Training Accuracy 0.777482483691713 random state 50\n",
      "At Random State  51\n",
      "testing accuracy 0.7753623188405797 randon state 51\n",
      "Training Accuracy 0.7745832326648949 random state 51\n",
      "At Random State  52\n",
      "testing accuracy 0.7806763285024154 randon state 52\n",
      "Training Accuracy 0.7745832326648949 random state 52\n",
      "At Random State  53\n",
      "testing accuracy 0.7753623188405797 randon state 53\n",
      "Training Accuracy 0.7755496496738342 random state 53\n",
      "At Random State  54\n",
      "testing accuracy 0.7777777777777778 randon state 54\n",
      "Training Accuracy 0.7757912539260691 random state 54\n",
      "At Random State  55\n",
      "testing accuracy 0.7714975845410628 randon state 55\n",
      "Training Accuracy 0.7759120560521865 random state 55\n",
      "At Random State  56\n",
      "testing accuracy 0.778743961352657 randon state 56\n",
      "Training Accuracy 0.7754288475477168 random state 56\n",
      "At Random State  57\n",
      "testing accuracy 0.7884057971014493 randon state 57\n",
      "Training Accuracy 0.7733752114037207 random state 57\n",
      "At Random State  58\n",
      "testing accuracy 0.7608695652173914 randon state 58\n",
      "Training Accuracy 0.780381734718531 random state 58\n",
      "At Random State  59\n",
      "testing accuracy 0.7917874396135266 randon state 59\n",
      "Training Accuracy 0.773737617782073 random state 59\n",
      "At Random State  60\n",
      "testing accuracy 0.7864734299516908 randon state 60\n",
      "Training Accuracy 0.773737617782073 random state 60\n",
      "At Random State  61\n",
      "testing accuracy 0.7879227053140097 randon state 61\n",
      "Training Accuracy 0.7738584199081904 random state 61\n",
      "At Random State  62\n",
      "testing accuracy 0.7666666666666667 randon state 62\n",
      "Training Accuracy 0.7780864943223 random state 62\n",
      "At Random State  63\n",
      "testing accuracy 0.7719806763285024 randon state 63\n",
      "Training Accuracy 0.7760328581783039 random state 63\n",
      "At Random State  64\n",
      "testing accuracy 0.7830917874396135 randon state 64\n",
      "Training Accuracy 0.7718047837641943 random state 64\n",
      "At Random State  65\n",
      "testing accuracy 0.7705314009661836 randon state 65\n",
      "Training Accuracy 0.7767576709350085 random state 65\n",
      "At Random State  66\n",
      "testing accuracy 0.7840579710144927 randon state 66\n",
      "Training Accuracy 0.7755496496738342 random state 66\n",
      "At Random State  67\n",
      "testing accuracy 0.7801932367149759 randon state 67\n",
      "Training Accuracy 0.7743416284126601 random state 67\n",
      "At Random State  68\n",
      "testing accuracy 0.785024154589372 randon state 68\n",
      "Training Accuracy 0.7736168156559555 random state 68\n",
      "At Random State  69\n",
      "testing accuracy 0.7743961352657005 randon state 69\n",
      "Training Accuracy 0.7749456390432472 random state 69\n",
      "At Random State  70\n",
      "testing accuracy 0.7753623188405797 randon state 70\n",
      "Training Accuracy 0.7763952645566562 random state 70\n",
      "At Random State  71\n",
      "testing accuracy 0.785024154589372 randon state 71\n",
      "Training Accuracy 0.7742208262865427 random state 71\n",
      "At Random State  72\n",
      "testing accuracy 0.7545893719806763 randon state 72\n",
      "Training Accuracy 0.7829185793669968 random state 72\n",
      "At Random State  73\n",
      "testing accuracy 0.7652173913043478 randon state 73\n",
      "Training Accuracy 0.7792945155834743 random state 73\n",
      "At Random State  74\n",
      "testing accuracy 0.7734299516908213 randon state 74\n",
      "Training Accuracy 0.7755496496738342 random state 74\n",
      "At Random State  75\n",
      "testing accuracy 0.7758454106280194 randon state 75\n",
      "Training Accuracy 0.7761536603044213 random state 75\n",
      "At Random State  76\n",
      "testing accuracy 0.778743961352657 randon state 76\n",
      "Training Accuracy 0.7768784730611259 random state 76\n",
      "At Random State  77\n",
      "testing accuracy 0.770048309178744 randon state 77\n",
      "Training Accuracy 0.7748248369171298 random state 77\n",
      "At Random State  78\n",
      "testing accuracy 0.7864734299516908 randon state 78\n",
      "Training Accuracy 0.7734960135298381 random state 78\n",
      "At Random State  79\n",
      "testing accuracy 0.7806763285024154 randon state 79\n",
      "Training Accuracy 0.7736168156559555 random state 79\n",
      "At Random State  80\n",
      "testing accuracy 0.7782608695652173 randon state 80\n",
      "Training Accuracy 0.7759120560521865 random state 80\n",
      "At Random State  81\n",
      "testing accuracy 0.7806763285024154 randon state 81\n",
      "Training Accuracy 0.7744624305387775 random state 81\n",
      "At Random State  82\n",
      "testing accuracy 0.7801932367149759 randon state 82\n",
      "Training Accuracy 0.7753080454215994 random state 82\n",
      "At Random State  83\n",
      "testing accuracy 0.7676328502415459 randon state 83\n",
      "Training Accuracy 0.7767576709350085 random state 83\n",
      "At Random State  84\n",
      "testing accuracy 0.778743961352657 randon state 84\n",
      "Training Accuracy 0.7757912539260691 random state 84\n",
      "At Random State  85\n",
      "testing accuracy 0.770048309178744 randon state 85\n",
      "Training Accuracy 0.7783280985745349 random state 85\n",
      "At Random State  86\n",
      "testing accuracy 0.7565217391304347 randon state 86\n",
      "Training Accuracy 0.7784489007006523 random state 86\n",
      "At Random State  87\n",
      "testing accuracy 0.7835748792270532 randon state 87\n",
      "Training Accuracy 0.7749456390432472 random state 87\n",
      "At Random State  88\n",
      "testing accuracy 0.7743961352657005 randon state 88\n",
      "Training Accuracy 0.7761536603044213 random state 88\n",
      "At Random State  89\n",
      "testing accuracy 0.763768115942029 randon state 89\n",
      "Training Accuracy 0.7768784730611259 random state 89\n",
      "At Random State  90\n",
      "testing accuracy 0.7913043478260869 randon state 90\n",
      "Training Accuracy 0.7741000241604252 random state 90\n",
      "At Random State  91\n",
      "testing accuracy 0.7888888888888889 randon state 91\n",
      "Training Accuracy 0.7720463880164291 random state 91\n",
      "At Random State  92\n",
      "testing accuracy 0.7961352657004831 randon state 92\n",
      "Training Accuracy 0.7716839816380768 random state 92\n",
      "max accuracy 0.7961352657004831 max_random_state 92\n",
      "At Random State  93\n",
      "testing accuracy 0.7758454106280194 randon state 93\n",
      "Training Accuracy 0.7733752114037207 random state 93\n",
      "At Random State  94\n",
      "testing accuracy 0.7724637681159421 randon state 94\n",
      "Training Accuracy 0.7749456390432472 random state 94\n",
      "At Random State  95\n",
      "testing accuracy 0.7772946859903381 randon state 95\n",
      "Training Accuracy 0.7747040347910124 random state 95\n",
      "At Random State  96\n",
      "testing accuracy 0.7734299516908213 randon state 96\n",
      "Training Accuracy 0.7771200773133607 random state 96\n",
      "At Random State  97\n",
      "testing accuracy 0.7821256038647343 randon state 97\n",
      "Training Accuracy 0.7747040347910124 random state 97\n",
      "At Random State  98\n",
      "testing accuracy 0.7719806763285024 randon state 98\n",
      "Training Accuracy 0.7747040347910124 random state 98\n",
      "At Random State  99\n",
      "testing accuracy 0.7714975845410628 randon state 99\n",
      "Training Accuracy 0.7765160666827736 random state 99\n"
     ]
    }
   ],
   "source": [
    "# Finding the random state\n",
    "maxaccu=0\n",
    "maxrs=0\n",
    "for i in range(1,100):\n",
    "    print(\"At Random State \", i)\n",
    "    Xtrain,Xtest,Ytrain,Ytest=train_test_split(X,Y,test_size=.20, random_state=i)\n",
    "    lg.fit(Xtrain,Ytrain)\n",
    "    predlg=lg.predict(Xtest)\n",
    "    trainlg=lg.predict(Xtrain)\n",
    "    acc=accuracy_score(Ytest,predlg)\n",
    "    accu=accuracy_score(Ytrain,trainlg)\n",
    "    print('testing accuracy', acc, 'randon state',i)\n",
    "    print('Training Accuracy', accu, 'random state', i)\n",
    "    if acc>maxaccu:\n",
    "        maxaccu=acc\n",
    "        maxrs=i\n",
    "        print('max accuracy', maxaccu , 'max_random_state', i)"
   ]
  },
  {
   "cell_type": "code",
   "execution_count": 23,
   "id": "7b61bb2f",
   "metadata": {},
   "outputs": [
    {
     "name": "stdout",
     "output_type": "stream",
     "text": [
      "max accuracy 0.7961352657004831 max_random_state 99\n"
     ]
    }
   ],
   "source": [
    "# Checking for the Max. Accuracy at Random State\n",
    "print('max accuracy', maxaccu , 'max_random_state', i)"
   ]
  },
  {
   "cell_type": "code",
   "execution_count": 24,
   "id": "ac579286",
   "metadata": {},
   "outputs": [],
   "source": [
    "#Splitting the data into 80% training and 20% testing\n",
    "\n",
    "X_train,X_test,Y_train,Y_test=train_test_split(X,Y,test_size=0.20,random_state=99)"
   ]
  },
  {
   "cell_type": "code",
   "execution_count": 25,
   "id": "f6182dba",
   "metadata": {},
   "outputs": [
    {
     "name": "stdout",
     "output_type": "stream",
     "text": [
      "shape of x_train is (8278, 18)\n",
      "shape of x_test is (2070, 18)\n",
      "shape of y_train is (8278,)\n",
      "shape of y_test is (2070,)\n"
     ]
    }
   ],
   "source": [
    "print(\"shape of x_train is\", X_train.shape)\n",
    "print(\"shape of x_test is\", X_test.shape)\n",
    "print(\"shape of y_train is\", Y_train.shape)\n",
    "print(\"shape of y_test is\", Y_test.shape)"
   ]
  },
  {
   "cell_type": "markdown",
   "id": "3d527c48",
   "metadata": {},
   "source": [
    "# 1. Logistic Regression"
   ]
  },
  {
   "cell_type": "code",
   "execution_count": 26,
   "id": "48ef9d5c",
   "metadata": {},
   "outputs": [
    {
     "name": "stdout",
     "output_type": "stream",
     "text": [
      "Training accuracy is:  0.7765160666827736\n",
      "Testing accuracy is:  0.7714975845410628\n",
      "[[756 262]\n",
      " [211 841]]\n",
      "              precision    recall  f1-score   support\n",
      "\n",
      "           0       0.78      0.74      0.76      1018\n",
      "           1       0.76      0.80      0.78      1052\n",
      "\n",
      "    accuracy                           0.77      2070\n",
      "   macro avg       0.77      0.77      0.77      2070\n",
      "weighted avg       0.77      0.77      0.77      2070\n",
      "\n"
     ]
    }
   ],
   "source": [
    "lg = LogisticRegression()\n",
    "lg.fit(X_train, Y_train)\n",
    "Y_pred_train_lg = lg.predict(X_train)\n",
    "Y_pred_test_lg = lg.predict(X_test)\n",
    "print(\"Training accuracy is: \", accuracy_score(Y_train, Y_pred_train_lg))\n",
    "print(\"Testing accuracy is: \", accuracy_score(Y_test, Y_pred_test_lg))\n",
    "print(confusion_matrix(Y_test, Y_pred_test_lg))\n",
    "print(classification_report(Y_test, Y_pred_test_lg))"
   ]
  },
  {
   "cell_type": "code",
   "execution_count": 27,
   "id": "dcc91683",
   "metadata": {},
   "outputs": [],
   "source": [
    "#AUC ROC Curve\n",
    "# Importing libraries\n",
    "from sklearn.metrics import roc_curve\n",
    "from sklearn.metrics import roc_auc_score"
   ]
  },
  {
   "cell_type": "code",
   "execution_count": 28,
   "id": "d7a978f6",
   "metadata": {},
   "outputs": [
    {
     "data": {
      "image/png": "[encoded data removed]",
      "text/plain": [
       "<Figure size 432x288 with 1 Axes>"
      ]
     },
     "metadata": {
      "needs_background": "light"
     },
     "output_type": "display_data"
    },
    {
     "data": {
      "text/plain": [
       "0.771031135380639"
      ]
     },
     "execution_count": 28,
     "metadata": {},
     "output_type": "execute_result"
    }
   ],
   "source": [
    "#AUC ROC curve for Logistic regression\n",
    "Y_pred_prob=lg.predict_proba(X_test)[:,1]\n",
    "fpr,tpr,threshold=roc_curve(Y_test,Y_pred_prob,pos_label=1)\n",
    "plt.plot([0,1],[0,1],'k--')\n",
    "plt.plot(fpr,tpr,label='Linear Regression')\n",
    "plt.xlabel('False positive rate')\n",
    "plt.ylabel('True positive rate')\n",
    "plt.title('Logistic Regression')\n",
    "plt.show()\n",
    "\n",
    "auc_score=roc_auc_score(Y_test,lg.predict(X_test))\n",
    "\n",
    "auc_score"
   ]
  },
  {
   "cell_type": "markdown",
   "id": "a7ca526f",
   "metadata": {},
   "source": [
    "# 2. Decision Tree Classifier"
   ]
  },
  {
   "cell_type": "code",
   "execution_count": 29,
   "id": "b0c8e10d",
   "metadata": {},
   "outputs": [
    {
     "name": "stdout",
     "output_type": "stream",
     "text": [
      "Training accuracy is:  0.9983087702343562\n",
      "Testing accuracy is:  0.7811594202898551\n",
      "[[792 226]\n",
      " [227 825]]\n",
      "              precision    recall  f1-score   support\n",
      "\n",
      "           0       0.78      0.78      0.78      1018\n",
      "           1       0.78      0.78      0.78      1052\n",
      "\n",
      "    accuracy                           0.78      2070\n",
      "   macro avg       0.78      0.78      0.78      2070\n",
      "weighted avg       0.78      0.78      0.78      2070\n",
      "\n"
     ]
    }
   ],
   "source": [
    "from sklearn.tree import DecisionTreeClassifier\n",
    "dtc=DecisionTreeClassifier()\n",
    "dtc.fit(X_train,Y_train)\n",
    "Y_pred_train_dtc = dtc.predict(X_train)\n",
    "Y_pred_test_dtc = dtc.predict(X_test)\n",
    "print(\"Training accuracy is: \", accuracy_score(Y_train, Y_pred_train_dtc))\n",
    "print(\"Testing accuracy is: \", accuracy_score(Y_test, Y_pred_test_dtc))\n",
    "print(confusion_matrix(Y_test, Y_pred_test_dtc))\n",
    "print(classification_report(Y_test, Y_pred_test_dtc))"
   ]
  },
  {
   "cell_type": "code",
   "execution_count": 30,
   "id": "f4bc6700",
   "metadata": {},
   "outputs": [
    {
     "data": {
      "image/png": "[encoded data removed]",
      "text/plain": [
       "<Figure size 432x288 with 1 Axes>"
      ]
     },
     "metadata": {
      "needs_background": "light"
     },
     "output_type": "display_data"
    },
    {
     "data": {
      "text/plain": [
       "0.7811083015231536"
      ]
     },
     "execution_count": 30,
     "metadata": {},
     "output_type": "execute_result"
    }
   ],
   "source": [
    "#AUC ROC curve for Decision Tree Classifier\n",
    "Y_pred_prob=dtc.predict_proba(X_test)[:,1]\n",
    "fpr,tpr,threshold=roc_curve(Y_test,Y_pred_prob,pos_label=1)\n",
    "plt.plot([0,1],[0,1],'k--')\n",
    "plt.plot(fpr,tpr,label='Decision Tree Classifier')\n",
    "plt.xlabel('False positive rate')\n",
    "plt.ylabel('True positive rate')\n",
    "plt.title('Decision Tree Classifier')\n",
    "plt.show()\n",
    "\n",
    "auc_score=roc_auc_score(Y_test,dtc.predict(X_test))\n",
    "\n",
    "auc_score"
   ]
  },
  {
   "cell_type": "markdown",
   "id": "227670c2",
   "metadata": {},
   "source": [
    "# Random Forest Classifier"
   ]
  },
  {
   "cell_type": "code",
   "execution_count": 31,
   "id": "5496bd14",
   "metadata": {},
   "outputs": [
    {
     "name": "stdout",
     "output_type": "stream",
     "text": [
      "Training accuracy is:  0.9983087702343562\n",
      "Testing accuracy is:  0.8536231884057971\n",
      "[[864 154]\n",
      " [149 903]]\n",
      "              precision    recall  f1-score   support\n",
      "\n",
      "           0       0.85      0.85      0.85      1018\n",
      "           1       0.85      0.86      0.86      1052\n",
      "\n",
      "    accuracy                           0.85      2070\n",
      "   macro avg       0.85      0.85      0.85      2070\n",
      "weighted avg       0.85      0.85      0.85      2070\n",
      "\n"
     ]
    }
   ],
   "source": [
    "# Using RandomForestClassifier\n",
    "from sklearn.ensemble import RandomForestClassifier\n",
    "rf=RandomForestClassifier()\n",
    "rf.fit(X_train,Y_train)\n",
    "Y_pred_train_rf = rf.predict(X_train)\n",
    "Y_pred_test_rf = rf.predict(X_test)\n",
    "print(\"Training accuracy is: \", accuracy_score(Y_train, Y_pred_train_rf))\n",
    "print(\"Testing accuracy is: \", accuracy_score(Y_test, Y_pred_test_rf))\n",
    "print(confusion_matrix(Y_test, Y_pred_test_rf))\n",
    "print(classification_report(Y_test, Y_pred_test_rf))"
   ]
  },
  {
   "cell_type": "code",
   "execution_count": 32,
   "id": "8c6998d9",
   "metadata": {},
   "outputs": [
    {
     "data": {
      "image/png": "[encoded data removed]",
      "text/plain": [
       "<Figure size 432x288 with 1 Axes>"
      ]
     },
     "metadata": {
      "needs_background": "light"
     },
     "output_type": "display_data"
    },
    {
     "data": {
      "text/plain": [
       "0.8535440026294754"
      ]
     },
     "execution_count": 32,
     "metadata": {},
     "output_type": "execute_result"
    }
   ],
   "source": [
    "#AUC ROC curve for Random Forest Classifier Classifier\n",
    "Y_pred_prob=rf.predict_proba(X_test)[:,1]\n",
    "fpr,tpr,threshold=roc_curve(Y_test,Y_pred_prob,pos_label=1)\n",
    "plt.plot([0,1],[0,1],'k--')\n",
    "plt.plot(fpr,tpr,label='Random Forest Classifier')\n",
    "plt.xlabel('False positive rate')\n",
    "plt.ylabel('True positive rate')\n",
    "plt.title('Random Forest Classifier')\n",
    "plt.show()\n",
    "\n",
    "auc_score=roc_auc_score(Y_test,rf.predict(X_test))\n",
    "\n",
    "auc_score"
   ]
  },
  {
   "cell_type": "markdown",
   "id": "7ec4e941",
   "metadata": {},
   "source": [
    "# 4. KNN"
   ]
  },
  {
   "cell_type": "code",
   "execution_count": 33,
   "id": "2beab781",
   "metadata": {},
   "outputs": [
    {
     "name": "stdout",
     "output_type": "stream",
     "text": [
      "Training accuracy is:  0.8483933317226383\n",
      "Testing accuracy is:  0.7763285024154589\n",
      "[[679 339]\n",
      " [124 928]]\n",
      "              precision    recall  f1-score   support\n",
      "\n",
      "           0       0.85      0.67      0.75      1018\n",
      "           1       0.73      0.88      0.80      1052\n",
      "\n",
      "    accuracy                           0.78      2070\n",
      "   macro avg       0.79      0.77      0.77      2070\n",
      "weighted avg       0.79      0.78      0.77      2070\n",
      "\n"
     ]
    }
   ],
   "source": [
    "from sklearn.neighbors import KNeighborsClassifier\n",
    "knn=KNeighborsClassifier()\n",
    "knn.fit(X_train,Y_train)\n",
    "Y_pred_train_knn = knn.predict(X_train)\n",
    "Y_pred_test_knn = knn.predict(X_test)\n",
    "print(\"Training accuracy is: \", accuracy_score(Y_train, Y_pred_train_knn))\n",
    "print(\"Testing accuracy is: \", accuracy_score(Y_test, Y_pred_test_knn))\n",
    "print(confusion_matrix(Y_test, Y_pred_test_knn))\n",
    "print(classification_report(Y_test, Y_pred_test_knn))"
   ]
  },
  {
   "cell_type": "code",
   "execution_count": 34,
   "id": "050dbec2",
   "metadata": {},
   "outputs": [
    {
     "data": {
      "image/png": "[encoded data removed]",
      "text/plain": [
       "<Figure size 432x288 with 1 Axes>"
      ]
     },
     "metadata": {
      "needs_background": "light"
     },
     "output_type": "display_data"
    },
    {
     "data": {
      "text/plain": [
       "0.7745616918284566"
      ]
     },
     "execution_count": 34,
     "metadata": {},
     "output_type": "execute_result"
    }
   ],
   "source": [
    "#AUC ROC curve for  KNeighborsClassifier\n",
    "Y_pred_prob=knn.predict_proba(X_test)[:,1]\n",
    "fpr,tpr,threshold=roc_curve(Y_test,Y_pred_prob,pos_label=1)\n",
    "plt.plot([0,1],[0,1],'k--')\n",
    "plt.plot(fpr,tpr,label='KNeighborsClassifier')\n",
    "plt.xlabel('False positive rate')\n",
    "plt.ylabel('True positive rate')\n",
    "plt.title('KNeighborsClassifier')\n",
    "plt.show()\n",
    "\n",
    "auc_score=roc_auc_score(Y_test,knn.predict(X_test))\n",
    "\n",
    "auc_score"
   ]
  },
  {
   "cell_type": "markdown",
   "id": "15bc7246",
   "metadata": {},
   "source": [
    "# 5. GradientBoosting Classifier"
   ]
  },
  {
   "cell_type": "code",
   "execution_count": 35,
   "id": "75f9f7cd",
   "metadata": {},
   "outputs": [
    {
     "name": "stdout",
     "output_type": "stream",
     "text": [
      "Training accuracy is:  0.8555206571635661\n",
      "Testing accuracy is:  0.8304347826086956\n",
      "[[821 197]\n",
      " [154 898]]\n",
      "              precision    recall  f1-score   support\n",
      "\n",
      "           0       0.84      0.81      0.82      1018\n",
      "           1       0.82      0.85      0.84      1052\n",
      "\n",
      "    accuracy                           0.83      2070\n",
      "   macro avg       0.83      0.83      0.83      2070\n",
      "weighted avg       0.83      0.83      0.83      2070\n",
      "\n"
     ]
    }
   ],
   "source": [
    "from sklearn.ensemble import GradientBoostingClassifier\n",
    "gbc=GradientBoostingClassifier()\n",
    "gbc.fit(X_train,Y_train)\n",
    "Y_pred_train_gbc = gbc.predict(X_train)\n",
    "Y_pred_test_gbc = gbc.predict(X_test)\n",
    "print(\"Training accuracy is: \", accuracy_score(Y_train, Y_pred_train_gbc))\n",
    "print(\"Testing accuracy is: \", accuracy_score(Y_test, Y_pred_test_gbc))\n",
    "print(confusion_matrix(Y_test, Y_pred_test_gbc))\n",
    "print(classification_report(Y_test, Y_pred_test_gbc))"
   ]
  },
  {
   "cell_type": "code",
   "execution_count": 36,
   "id": "7eff88b8",
   "metadata": {},
   "outputs": [
    {
     "data": {
      "image/png": "[encoded data removed]",
      "text/plain": [
       "<Figure size 432x288 with 1 Axes>"
      ]
     },
     "metadata": {
      "needs_background": "light"
     },
     "output_type": "display_data"
    },
    {
     "data": {
      "text/plain": [
       "0.8300477339448856"
      ]
     },
     "execution_count": 36,
     "metadata": {},
     "output_type": "execute_result"
    }
   ],
   "source": [
    "#AUC ROC curve for  GradientBoostingClassifier\n",
    "Y_pred_prob=gbc.predict_proba(X_test)[:,1]\n",
    "fpr,tpr,threshold=roc_curve(Y_test,Y_pred_prob,pos_label=1)\n",
    "plt.plot([0,1],[0,1],'k--')\n",
    "plt.plot(fpr,tpr,label='GradientBoostingClassifier')\n",
    "plt.xlabel('False positive rate')\n",
    "plt.ylabel('True positive rate')\n",
    "plt.title('GradientBoostingClassifier')\n",
    "plt.show()\n",
    "\n",
    "auc_score=roc_auc_score(Y_test,gbc.predict(X_test))\n",
    "\n",
    "auc_score"
   ]
  },
  {
   "cell_type": "markdown",
   "id": "4712209a",
   "metadata": {},
   "source": [
    "# 6. ADA Boosting Classifier"
   ]
  },
  {
   "cell_type": "code",
   "execution_count": 37,
   "id": "b1cc8d38",
   "metadata": {},
   "outputs": [
    {
     "name": "stdout",
     "output_type": "stream",
     "text": [
      "Training accuracy is:  0.8201256342111621\n",
      "Testing accuracy is:  0.8043478260869565\n",
      "[[792 226]\n",
      " [179 873]]\n",
      "              precision    recall  f1-score   support\n",
      "\n",
      "           0       0.82      0.78      0.80      1018\n",
      "           1       0.79      0.83      0.81      1052\n",
      "\n",
      "    accuracy                           0.80      2070\n",
      "   macro avg       0.81      0.80      0.80      2070\n",
      "weighted avg       0.80      0.80      0.80      2070\n",
      "\n"
     ]
    }
   ],
   "source": [
    "from sklearn.ensemble import AdaBoostClassifier\n",
    "ada=AdaBoostClassifier()\n",
    "ada.fit(X_train,Y_train)\n",
    "Y_pred_train_ada = ada.predict(X_train)\n",
    "Y_pred_test_ada = ada.predict(X_test)\n",
    "print(\"Training accuracy is: \", accuracy_score(Y_train, Y_pred_train_ada))\n",
    "print(\"Testing accuracy is: \", accuracy_score(Y_test, Y_pred_test_ada))\n",
    "print(confusion_matrix(Y_test, Y_pred_test_ada))\n",
    "print(classification_report(Y_test, Y_pred_test_ada))"
   ]
  },
  {
   "cell_type": "code",
   "execution_count": 38,
   "id": "e2b020e5",
   "metadata": {},
   "outputs": [
    {
     "data": {
      "image/png": "[encoded data removed]",
      "text/plain": [
       "<Figure size 432x288 with 1 Axes>"
      ]
     },
     "metadata": {
      "needs_background": "light"
     },
     "output_type": "display_data"
    },
    {
     "data": {
      "text/plain": [
       "0.8039219897360813"
      ]
     },
     "execution_count": 38,
     "metadata": {},
     "output_type": "execute_result"
    }
   ],
   "source": [
    "#AUC ROC curve for  AdaBoostClassifier\n",
    "Y_pred_prob=ada.predict_proba(X_test)[:,1]\n",
    "fpr,tpr,threshold=roc_curve(Y_test,Y_pred_prob,pos_label=1)\n",
    "plt.plot([0,1],[0,1],'k--')\n",
    "plt.plot(fpr,tpr,label='AdaBoostClassifier')\n",
    "plt.xlabel('False positive rate')\n",
    "plt.ylabel('True positive rate')\n",
    "plt.title('AdaBoostClassifier')\n",
    "plt.show()\n",
    "\n",
    "auc_score=roc_auc_score(Y_test,ada.predict(X_test))\n",
    "\n",
    "auc_score"
   ]
  },
  {
   "cell_type": "markdown",
   "id": "9a5486b3",
   "metadata": {},
   "source": [
    "# Cross Validation"
   ]
  },
  {
   "cell_type": "code",
   "execution_count": 39,
   "id": "f7a0caa3",
   "metadata": {
    "scrolled": false
   },
   "outputs": [
    {
     "name": "stdout",
     "output_type": "stream",
     "text": [
      "taking cv = 2\n",
      "Cross validation score for  LogisticRegression()  is [0.76285273 0.77908775]\n",
      "Mean of Cross Val. score is  0.7709702357943564\n",
      "taking cv = 3\n",
      "Cross validation score for  LogisticRegression()  is [0.76463768 0.76601914 0.7924036 ]\n",
      "Mean of Cross Val. score is  0.7743534707952877\n",
      "taking cv = 4\n",
      "Cross validation score for  LogisticRegression()  is [0.76923077 0.75995361 0.76691148 0.79706223]\n",
      "Mean of Cross Val. score is  0.773289524545806\n",
      "taking cv = 5\n",
      "Cross validation score for  LogisticRegression()  is [0.77004831 0.75603865 0.76086957 0.7858869  0.79748671]\n",
      "Mean of Cross Val. score is  0.7740660264357914\n",
      "taking cv = 6\n",
      "Cross validation score for  LogisticRegression()  is [0.76985507 0.75130435 0.76927536 0.76057971 0.78770302 0.80336427]\n",
      "Mean of Cross Val. score is  0.7736802963560757\n",
      "taking cv = 7\n",
      "Cross validation score for  LogisticRegression()  is [0.775524   0.75726842 0.76048714 0.76184032 0.77469553 0.78822733\n",
      " 0.80717185]\n",
      "Mean of Cross Val. score is  0.7750306599239014\n",
      "taking cv = 8\n",
      "Cross validation score for  LogisticRegression()  is [0.77588872 0.76352396 0.74574961 0.77125193 0.75638051 0.77648879\n",
      " 0.79273009 0.8058778 ]\n",
      "Mean of Cross Val. score is  0.773486425539494\n",
      "taking cv = 9\n",
      "Cross validation score for  LogisticRegression()  is [0.76869565 0.77391304 0.75043478 0.77652174 0.75565217 0.76695652\n",
      " 0.78521739 0.79373368 0.80852916]\n",
      "Mean of Cross Val. score is  0.7755171268441787\n",
      "taking cv = 2\n",
      "Cross validation score for  DecisionTreeClassifier()  is [0.73985311 0.79532277]\n",
      "Mean of Cross Val. score is  0.7675879396984925\n",
      "taking cv = 3\n",
      "Cross validation score for  DecisionTreeClassifier()  is [0.72057971 0.80632067 0.83212525]\n",
      "Mean of Cross Val. score is  0.7863418788334643\n",
      "taking cv = 4\n",
      "Cross validation score for  DecisionTreeClassifier()  is [0.71781987 0.77812138 0.8040201  0.82605334]\n",
      "Mean of Cross Val. score is  0.7815036722071897\n",
      "taking cv = 5\n",
      "Cross validation score for  DecisionTreeClassifier()  is [0.70386473 0.73285024 0.82125604 0.82310295 0.84533591]\n",
      "Mean of Cross Val. score is  0.7852819747690195\n",
      "taking cv = 6\n",
      "Cross validation score for  DecisionTreeClassifier()  is [0.69855072 0.69333333 0.82028986 0.81391304 0.82540603 0.83468677]\n",
      "Mean of Cross Val. score is  0.7810299606577221\n",
      "taking cv = 7\n",
      "Cross validation score for  DecisionTreeClassifier()  is [0.69912103 0.6903313  0.76928281 0.83288227 0.83558863 0.83423545\n",
      " 0.84979702]\n",
      "Mean of Cross Val. score is  0.7873197900316395\n",
      "taking cv = 8\n",
      "Cross validation score for  DecisionTreeClassifier()  is [0.70479134 0.70710974 0.71020093 0.85162287 0.83062645 0.82134571\n",
      " 0.84532096 0.84068059]\n",
      "Mean of Cross Val. score is  0.7889623235804253\n",
      "taking cv = 9\n",
      "Cross validation score for  DecisionTreeClassifier()  is [0.7        0.70521739 0.68869565 0.80608696 0.81478261 0.8226087\n",
      " 0.82695652 0.84247171 0.84508268]\n",
      "Mean of Cross Val. score is  0.7835446912459059\n",
      "taking cv = 2\n",
      "Cross validation score for  RandomForestClassifier()  is [0.7995748  0.86973328]\n",
      "Mean of Cross Val. score is  0.8346540394279087\n",
      "taking cv = 3\n",
      "Cross validation score for  RandomForestClassifier()  is [0.76927536 0.87242679 0.89040302]\n",
      "Mean of Cross Val. score is  0.8440350560198784\n",
      "taking cv = 4\n",
      "Cross validation score for  RandomForestClassifier()  is [0.77386935 0.83649014 0.88480866 0.907615  ]\n",
      "Mean of Cross Val. score is  0.850695786625435\n",
      "taking cv = 5\n",
      "Cross validation score for  RandomForestClassifier()  is [0.77729469 0.78309179 0.89082126 0.90236829 0.90526825]\n",
      "Mean of Cross Val. score is  0.8517688537719218\n",
      "taking cv = 6\n",
      "Cross validation score for  RandomForestClassifier()  is [0.77391304 0.77101449 0.88231884 0.89681159 0.90197216 0.91067285]\n",
      "Mean of Cross Val. score is  0.8561171637692367\n",
      "taking cv = 7\n",
      "Cross validation score for  RandomForestClassifier()  is [0.77281947 0.7525355  0.82949932 0.90392422 0.90663058 0.90933694\n",
      " 0.91271989]\n",
      "Mean of Cross Val. score is  0.8553522757616882\n",
      "taking cv = 8\n",
      "Cross validation score for  RandomForestClassifier()  is [0.78670788 0.76429675 0.76197836 0.91267388 0.89868523 0.90100541\n",
      " 0.91183295 0.91647332]\n",
      "Mean of Cross Val. score is  0.8567067230396463\n",
      "taking cv = 9\n",
      "Cross validation score for  RandomForestClassifier()  is [0.77130435 0.76956522 0.75826087 0.87043478 0.89565217 0.90608696\n",
      " 0.90086957 0.90861619 0.92254134]\n",
      "Mean of Cross Val. score is  0.855925715703216\n",
      "taking cv = 2\n",
      "Cross validation score for  KNeighborsClassifier()  is [0.77174333 0.78372632]\n",
      "Mean of Cross Val. score is  0.7777348279860843\n",
      "taking cv = 3\n",
      "Cross validation score for  KNeighborsClassifier()  is [0.7684058  0.78921427 0.79182372]\n",
      "Mean of Cross Val. score is  0.7831479263750748\n",
      "taking cv = 4\n",
      "Cross validation score for  KNeighborsClassifier()  is [0.76575184 0.77928102 0.77773483 0.80170081]\n",
      "Mean of Cross Val. score is  0.7811171240819482\n",
      "taking cv = 5\n",
      "Cross validation score for  KNeighborsClassifier()  is [0.77777778 0.76908213 0.79758454 0.79168681 0.79845336]\n",
      "Mean of Cross Val. score is  0.7869169217550077\n",
      "taking cv = 6\n",
      "Cross validation score for  KNeighborsClassifier()  is [0.77043478 0.75478261 0.79884058 0.78608696 0.79292343 0.80220418]\n",
      "Mean of Cross Val. score is  0.7842120896241748\n",
      "taking cv = 7\n",
      "Cross validation score for  KNeighborsClassifier()  is [0.76741041 0.75524003 0.79093369 0.79566982 0.78416779 0.797023\n",
      " 0.80243572]\n",
      "Mean of Cross Val. score is  0.7846972114402198\n",
      "taking cv = 8\n",
      "Cross validation score for  KNeighborsClassifier()  is [0.75888717 0.77125193 0.76429675 0.81607419 0.78576953 0.78654292\n",
      " 0.81747873 0.80123743]\n",
      "Mean of Cross Val. score is  0.7876923327488043\n",
      "taking cv = 9\n",
      "Cross validation score for  KNeighborsClassifier()  is [0.75217391 0.78086957 0.76       0.80869565 0.77565217 0.79478261\n",
      " 0.79652174 0.81462141 0.794604  ]\n",
      "Mean of Cross Val. score is  0.7864356739529857\n",
      "taking cv = 2\n",
      "Cross validation score for  GradientBoostingClassifier()  is [0.77696173 0.84982605]\n",
      "Mean of Cross Val. score is  0.8133938925396211\n",
      "taking cv = 3\n",
      "Cross validation score for  GradientBoostingClassifier()  is [0.73043478 0.86111916 0.88054509]\n",
      "Mean of Cross Val. score is  0.8240330110386963\n",
      "taking cv = 4\n",
      "Cross validation score for  GradientBoostingClassifier()  is [0.74990336 0.82875918 0.8658678  0.88519521]\n",
      "Mean of Cross Val. score is  0.8324313877077696\n",
      "taking cv = 5\n",
      "Cross validation score for  GradientBoostingClassifier()  is [0.75120773 0.78792271 0.8647343  0.88255196 0.88593523]\n",
      "Mean of Cross Val. score is  0.8344703852359304\n",
      "taking cv = 6\n",
      "Cross validation score for  GradientBoostingClassifier()  is [0.75536232 0.7542029  0.86782609 0.86492754 0.88109049 0.89095128]\n",
      "Mean of Cross Val. score is  0.8357267673201295\n",
      "taking cv = 7\n",
      "Cross validation score for  GradientBoostingClassifier()  is [0.75794456 0.74915483 0.82476319 0.86874154 0.8782138  0.88024357\n",
      " 0.8917456 ]\n",
      "Mean of Cross Val. score is  0.835829586372368\n",
      "taking cv = 8\n",
      "Cross validation score for  GradientBoostingClassifier()  is [0.75811437 0.76893354 0.76275116 0.88871716 0.86465584 0.8863109\n",
      " 0.8870843  0.89095128]\n",
      "Mean of Cross Val. score is  0.8384398186167104\n",
      "taking cv = 9\n",
      "Cross validation score for  GradientBoostingClassifier()  is [0.75478261 0.76956522 0.74695652 0.86782609 0.8626087  0.87391304\n",
      " 0.88782609 0.88859878 0.89033943]\n",
      "Mean of Cross Val. score is  0.8380462742229118\n",
      "taking cv = 2\n",
      "Cross validation score for  AdaBoostClassifier()  is [0.78140704 0.82025512]\n",
      "Mean of Cross Val. score is  0.8008310784692694\n",
      "taking cv = 3\n",
      "Cross validation score for  AdaBoostClassifier()  is [0.75246377 0.82371702 0.84024355]\n",
      "Mean of Cross Val. score is  0.8054747787988678\n",
      "taking cv = 4\n",
      "Cross validation score for  AdaBoostClassifier()  is [0.75995361 0.8047932  0.82759954 0.85349826]\n",
      "Mean of Cross Val. score is  0.8114611519134132\n",
      "taking cv = 5\n",
      "Cross validation score for  AdaBoostClassifier()  is [0.76811594 0.77391304 0.82222222 0.84291928 0.84630256]\n",
      "Mean of Cross Val. score is  0.8106946108064059\n",
      "taking cv = 6\n",
      "Cross validation score for  AdaBoostClassifier()  is [0.76289855 0.74956522 0.83536232 0.81913043 0.84570766 0.85034803]\n",
      "Mean of Cross Val. score is  0.8105020343656477\n",
      "taking cv = 7\n",
      "Cross validation score for  AdaBoostClassifier()  is [0.775524   0.75591616 0.80852503 0.83017591 0.83897158 0.84370771\n",
      " 0.85588633]\n",
      "Mean of Cross Val. score is  0.815529534103782\n",
      "taking cv = 8\n",
      "Cross validation score for  AdaBoostClassifier()  is [0.77357032 0.75425039 0.76120556 0.84080371 0.8221191  0.84145398\n",
      " 0.85228152 0.85924207]\n",
      "Mean of Cross Val. score is  0.8131158323680836\n",
      "taking cv = 9\n",
      "Cross validation score for  AdaBoostClassifier()  is [0.76608696 0.77304348 0.75304348 0.84086957 0.82956522 0.82782609\n",
      " 0.84695652 0.84508268 0.85291558]\n",
      "Mean of Cross Val. score is  0.8150432848559764\n"
     ]
    }
   ],
   "source": [
    "from sklearn.model_selection import cross_val_score\n",
    "\n",
    "# validation accuracy\n",
    "\n",
    "model=[lg,dtc,rf,knn,gbc,ada]\n",
    "\n",
    "for i in model:\n",
    "    for j in range(2,10):\n",
    "        print('taking cv =', j)\n",
    "        cr_score=cross_val_score(i, X, Y, cv=j)\n",
    "        print('Cross validation score for ' , i ,' is', cr_score)\n",
    "        print('Mean of Cross Val. score is ', cr_score.mean())"
   ]
  },
  {
   "cell_type": "markdown",
   "id": "df07f8c2",
   "metadata": {},
   "source": [
    "The Random Forest Classifier is giving the accuracy 85.22% with cross val score as 84.64% at fold 8 compared with all other classifiers\n",
    "Hence selecting the RandomForestClassifier giving almost 85% model accuracy."
   ]
  },
  {
   "cell_type": "markdown",
   "id": "4df325ca",
   "metadata": {},
   "source": [
    "# Hyperparameter Tuning"
   ]
  },
  {
   "cell_type": "code",
   "execution_count": 40,
   "id": "41cbfd92",
   "metadata": {},
   "outputs": [],
   "source": [
    "from sklearn.model_selection import GridSearchCV\n",
    "\n",
    "#Creating parameter list to be passed in GridSearchCV\n",
    "parameters = {\n",
    " 'max_depth': [10, 20, 30, 40, 50],\n",
    " 'max_features': ['auto', 'sqrt','log2'],\n",
    " 'n_estimators': [100, 200, 300]\n",
    "    \n",
    "} \n",
    "\n",
    "GCV=GridSearchCV(estimator=RandomForestClassifier(),\n",
    "                param_grid=parameters,\n",
    "                cv=7,\n",
    "                scoring='accuracy')"
   ]
  },
  {
   "cell_type": "code",
   "execution_count": 42,
   "id": "36fd6f5d",
   "metadata": {},
   "outputs": [
    {
     "data": {
      "text/plain": [
       "GridSearchCV(cv=7, estimator=RandomForestClassifier(),\n",
       "             param_grid={'max_depth': [10, 20, 30, 40, 50],\n",
       "                         'max_features': ['auto', 'sqrt', 'log2'],\n",
       "                         'n_estimators': [100, 200, 300]},\n",
       "             scoring='accuracy')"
      ]
     },
     "execution_count": 42,
     "metadata": {},
     "output_type": "execute_result"
    }
   ],
   "source": [
    "GCV.fit(X_train,Y_train)"
   ]
  },
  {
   "cell_type": "code",
   "execution_count": 43,
   "id": "5718e65d",
   "metadata": {},
   "outputs": [
    {
     "name": "stdout",
     "output_type": "stream",
     "text": [
      "Final Accuracy is with Random Forest Classifier =  0.8594202898550725\n"
     ]
    }
   ],
   "source": [
    "# Checking score with best parameter\n",
    "final_model=RandomForestClassifier(max_depth=40,max_features='log2',n_estimators=200)\n",
    "final_model.fit(X_train,Y_train)\n",
    "predfinal=final_model.predict(X_test)\n",
    "print('Final Accuracy is with Random Forest Classifier = ',accuracy_score(Y_test,predfinal))"
   ]
  },
  {
   "cell_type": "code",
   "execution_count": 44,
   "id": "83766198",
   "metadata": {},
   "outputs": [
    {
     "data": {
      "text/plain": [
       "<function matplotlib.pyplot.show(close=None, block=None)>"
      ]
     },
     "execution_count": 44,
     "metadata": {},
     "output_type": "execute_result"
    },
    {
     "data": {
      "image/png": "[encoded data removed]",
      "text/plain": [
       "<Figure size 432x288 with 1 Axes>"
      ]
     },
     "metadata": {
      "needs_background": "light"
     },
     "output_type": "display_data"
    }
   ],
   "source": [
    "#AUC ROC of Best Estimator\n",
    "from sklearn.metrics import plot_roc_curve\n",
    "plot_roc_curve(GCV.best_estimator_,X_test,Y_test)\n",
    "plt.title('AUC ROC Curve')\n",
    "plt.show"
   ]
  },
  {
   "cell_type": "markdown",
   "id": "f9cac7d2",
   "metadata": {},
   "source": [
    "# Saving the model"
   ]
  },
  {
   "cell_type": "code",
   "execution_count": 46,
   "id": "480d3f4f",
   "metadata": {},
   "outputs": [
    {
     "data": {
      "text/plain": [
       "['Customer churn analysis.pkl']"
      ]
     },
     "execution_count": 46,
     "metadata": {},
     "output_type": "execute_result"
    }
   ],
   "source": [
    "import joblib\n",
    "joblib.dump(GCV.best_estimator_, \"Customer churn analysis.pkl\")"
   ]
  },
  {
   "cell_type": "code",
   "execution_count": 50,
   "id": "34f1cd46",
   "metadata": {},
   "outputs": [
    {
     "data": {
      "text/html": [
       "<div>\n",
       "<style scoped>\n",
       "    .dataframe tbody tr th:only-of-type {\n",
       "        vertical-align: middle;\n",
       "    }\n",
       "\n",
       "    .dataframe tbody tr th {\n",
       "        vertical-align: top;\n",
       "    }\n",
       "\n",
       "    .dataframe thead th {\n",
       "        text-align: right;\n",
       "    }\n",
       "</style>\n",
       "<table border=\"1\" class=\"dataframe\">\n",
       "  <thead>\n",
       "    <tr style=\"text-align: right;\">\n",
       "      <th></th>\n",
       "      <th>Original</th>\n",
       "      <th>Predicted</th>\n",
       "    </tr>\n",
       "  </thead>\n",
       "  <tbody>\n",
       "    <tr>\n",
       "      <th>0</th>\n",
       "      <td>1</td>\n",
       "      <td>1</td>\n",
       "    </tr>\n",
       "    <tr>\n",
       "      <th>1</th>\n",
       "      <td>1</td>\n",
       "      <td>1</td>\n",
       "    </tr>\n",
       "    <tr>\n",
       "      <th>2</th>\n",
       "      <td>1</td>\n",
       "      <td>0</td>\n",
       "    </tr>\n",
       "    <tr>\n",
       "      <th>3</th>\n",
       "      <td>0</td>\n",
       "      <td>1</td>\n",
       "    </tr>\n",
       "    <tr>\n",
       "      <th>4</th>\n",
       "      <td>0</td>\n",
       "      <td>0</td>\n",
       "    </tr>\n",
       "    <tr>\n",
       "      <th>...</th>\n",
       "      <td>...</td>\n",
       "      <td>...</td>\n",
       "    </tr>\n",
       "    <tr>\n",
       "      <th>2065</th>\n",
       "      <td>0</td>\n",
       "      <td>0</td>\n",
       "    </tr>\n",
       "    <tr>\n",
       "      <th>2066</th>\n",
       "      <td>0</td>\n",
       "      <td>0</td>\n",
       "    </tr>\n",
       "    <tr>\n",
       "      <th>2067</th>\n",
       "      <td>0</td>\n",
       "      <td>0</td>\n",
       "    </tr>\n",
       "    <tr>\n",
       "      <th>2068</th>\n",
       "      <td>1</td>\n",
       "      <td>1</td>\n",
       "    </tr>\n",
       "    <tr>\n",
       "      <th>2069</th>\n",
       "      <td>0</td>\n",
       "      <td>1</td>\n",
       "    </tr>\n",
       "  </tbody>\n",
       "</table>\n",
       "<p>2070 rows × 2 columns</p>\n",
       "</div>"
      ],
      "text/plain": [
       "      Original  Predicted\n",
       "0            1          1\n",
       "1            1          1\n",
       "2            1          0\n",
       "3            0          1\n",
       "4            0          0\n",
       "...        ...        ...\n",
       "2065         0          0\n",
       "2066         0          0\n",
       "2067         0          0\n",
       "2068         1          1\n",
       "2069         0          1\n",
       "\n",
       "[2070 rows x 2 columns]"
      ]
     },
     "execution_count": 50,
     "metadata": {},
     "output_type": "execute_result"
    }
   ],
   "source": [
    "# Conclusion\n",
    "a=np.array(Y_test)\n",
    "predicted=np.array(predfinal)\n",
    "df_con=pd.DataFrame({'Original':a,'Predicted':predfinal}, index=range(len(a)))\n",
    "df_con"
   ]
  },
  {
   "cell_type": "code",
   "execution_count": null,
   "id": "6009b677",
   "metadata": {},
   "outputs": [],
   "source": []
  }
 ],
 "metadata": {
  "kernelspec": {
   "display_name": "Python 3 (ipykernel)",
   "language": "python",
   "name": "python3"
  },
  "language_info": {
   "codemirror_mode": {
    "name": "ipython",
    "version": 3
   },
   "file_extension": ".py",
   "mimetype": "text/x-python",
   "name": "python",
   "nbconvert_exporter": "python",
   "pygments_lexer": "ipython3",
   "version": "3.9.12"
  }
 },
 "nbformat": 4,
 "nbformat_minor": 5
}
