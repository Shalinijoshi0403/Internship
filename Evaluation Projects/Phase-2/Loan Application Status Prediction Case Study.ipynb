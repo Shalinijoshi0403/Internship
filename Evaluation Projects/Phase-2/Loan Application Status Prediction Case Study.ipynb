{
 "cells": [
  {
   "cell_type": "markdown",
   "id": "f775760a",
   "metadata": {},
   "source": [
    "# Loan Application Status Prediction\n",
    "## Project Description\n",
    "This dataset includes details of applicants who have applied for loan. The dataset includes details like credit history, loan amount, their income, dependents etc. \n",
    "### Independent Variables:\n",
    "1.\tLoan_ID - This refer to the unique identifier of the applicant's affirmed purchases\n",
    "2.\tGender - This refers to either of the two main categories (male and female) into which applicants are divided on the basis of their reproductive functions\n",
    "3.\tMarried - This refers to applicant being in a state of matrimony\n",
    "4.\tDependents - This refres to persons who depends on the applicants for survival\n",
    "5.\tEducation - This refers to number of years in which applicant received systematic instruction, especially at a school or university\n",
    "6.\tSelf_Employed - This refers to applicant working for oneself as a freelancer or the owner of a business rather than for an employer\n",
    "7.\tApplicant Income - This refers to disposable income available for the applicant's use under State law.\n",
    "8.\tCoapplicantIncome - This refers to disposable income available for the people that participate in the loan application process alongside the main applicant use under State law.\n",
    "9.\tLoan_Amount - This refers to the amount of money an applicant owe at any given time.\n",
    "10.\tLoan_Amount_Term - This refers to the duaration in which the loan is availed to the applicant\n",
    "11.\tCredit History - This refers to a record of applicant's ability to repay debts and demonstrated responsibility in repaying them.\n",
    "12.\tProperty_Area - This refers to the total area within the boundaries of the property as set out in Schedule.\n",
    "13.\tLoan_Status - This refres to whether applicant is eligible to be availed the Loan requested.\n",
    "#### You have to build a model that can predict whether the loan of the applicant will be approved(Loan_status) or not on the basis of the details provided in the dataset. \n",
    "## Dataset Link-  https://github.com/dsrscientist/DSData/blob/master/loan_prediction.csv\n"
   ]
  },
  {
   "cell_type": "code",
   "execution_count": 1,
   "id": "1afaf1fb",
   "metadata": {},
   "outputs": [],
   "source": [
    "import pandas as pd\n",
    "import numpy as np\n",
    "import matplotlib.pyplot as plt\n",
    "import seaborn as sns\n",
    "\n",
    "import warnings\n",
    "warnings.filterwarnings('ignore')"
   ]
  },
  {
   "cell_type": "code",
   "execution_count": 2,
   "id": "0ebec53b",
   "metadata": {},
   "outputs": [],
   "source": [
    "df = pd.read_csv(\"C:\\\\Users\\\\suven\\\\OneDrive\\\\Desktop\\\\Internship\\\\Evaluation Projects\\\\Second Phase\\\\Loan Prediction\\\\loan_prediction.csv\")"
   ]
  },
  {
   "cell_type": "code",
   "execution_count": 3,
   "id": "85dc74e6",
   "metadata": {},
   "outputs": [
    {
     "data": {
      "text/html": [
       "<div>\n",
       "<style scoped>\n",
       "    .dataframe tbody tr th:only-of-type {\n",
       "        vertical-align: middle;\n",
       "    }\n",
       "\n",
       "    .dataframe tbody tr th {\n",
       "        vertical-align: top;\n",
       "    }\n",
       "\n",
       "    .dataframe thead th {\n",
       "        text-align: right;\n",
       "    }\n",
       "</style>\n",
       "<table border=\"1\" class=\"dataframe\">\n",
       "  <thead>\n",
       "    <tr style=\"text-align: right;\">\n",
       "      <th></th>\n",
       "      <th>Loan_ID</th>\n",
       "      <th>Gender</th>\n",
       "      <th>Married</th>\n",
       "      <th>Dependents</th>\n",
       "      <th>Education</th>\n",
       "      <th>Self_Employed</th>\n",
       "      <th>ApplicantIncome</th>\n",
       "      <th>CoapplicantIncome</th>\n",
       "      <th>LoanAmount</th>\n",
       "      <th>Loan_Amount_Term</th>\n",
       "      <th>Credit_History</th>\n",
       "      <th>Property_Area</th>\n",
       "      <th>Loan_Status</th>\n",
       "    </tr>\n",
       "  </thead>\n",
       "  <tbody>\n",
       "    <tr>\n",
       "      <th>0</th>\n",
       "      <td>LP001002</td>\n",
       "      <td>Male</td>\n",
       "      <td>No</td>\n",
       "      <td>0</td>\n",
       "      <td>Graduate</td>\n",
       "      <td>No</td>\n",
       "      <td>5849</td>\n",
       "      <td>0.0</td>\n",
       "      <td>NaN</td>\n",
       "      <td>360.0</td>\n",
       "      <td>1.0</td>\n",
       "      <td>Urban</td>\n",
       "      <td>Y</td>\n",
       "    </tr>\n",
       "    <tr>\n",
       "      <th>1</th>\n",
       "      <td>LP001003</td>\n",
       "      <td>Male</td>\n",
       "      <td>Yes</td>\n",
       "      <td>1</td>\n",
       "      <td>Graduate</td>\n",
       "      <td>No</td>\n",
       "      <td>4583</td>\n",
       "      <td>1508.0</td>\n",
       "      <td>128.0</td>\n",
       "      <td>360.0</td>\n",
       "      <td>1.0</td>\n",
       "      <td>Rural</td>\n",
       "      <td>N</td>\n",
       "    </tr>\n",
       "    <tr>\n",
       "      <th>2</th>\n",
       "      <td>LP001005</td>\n",
       "      <td>Male</td>\n",
       "      <td>Yes</td>\n",
       "      <td>0</td>\n",
       "      <td>Graduate</td>\n",
       "      <td>Yes</td>\n",
       "      <td>3000</td>\n",
       "      <td>0.0</td>\n",
       "      <td>66.0</td>\n",
       "      <td>360.0</td>\n",
       "      <td>1.0</td>\n",
       "      <td>Urban</td>\n",
       "      <td>Y</td>\n",
       "    </tr>\n",
       "    <tr>\n",
       "      <th>3</th>\n",
       "      <td>LP001006</td>\n",
       "      <td>Male</td>\n",
       "      <td>Yes</td>\n",
       "      <td>0</td>\n",
       "      <td>Not Graduate</td>\n",
       "      <td>No</td>\n",
       "      <td>2583</td>\n",
       "      <td>2358.0</td>\n",
       "      <td>120.0</td>\n",
       "      <td>360.0</td>\n",
       "      <td>1.0</td>\n",
       "      <td>Urban</td>\n",
       "      <td>Y</td>\n",
       "    </tr>\n",
       "    <tr>\n",
       "      <th>4</th>\n",
       "      <td>LP001008</td>\n",
       "      <td>Male</td>\n",
       "      <td>No</td>\n",
       "      <td>0</td>\n",
       "      <td>Graduate</td>\n",
       "      <td>No</td>\n",
       "      <td>6000</td>\n",
       "      <td>0.0</td>\n",
       "      <td>141.0</td>\n",
       "      <td>360.0</td>\n",
       "      <td>1.0</td>\n",
       "      <td>Urban</td>\n",
       "      <td>Y</td>\n",
       "    </tr>\n",
       "  </tbody>\n",
       "</table>\n",
       "</div>"
      ],
      "text/plain": [
       "    Loan_ID Gender Married Dependents     Education Self_Employed  \\\n",
       "0  LP001002   Male      No          0      Graduate            No   \n",
       "1  LP001003   Male     Yes          1      Graduate            No   \n",
       "2  LP001005   Male     Yes          0      Graduate           Yes   \n",
       "3  LP001006   Male     Yes          0  Not Graduate            No   \n",
       "4  LP001008   Male      No          0      Graduate            No   \n",
       "\n",
       "   ApplicantIncome  CoapplicantIncome  LoanAmount  Loan_Amount_Term  \\\n",
       "0             5849                0.0         NaN             360.0   \n",
       "1             4583             1508.0       128.0             360.0   \n",
       "2             3000                0.0        66.0             360.0   \n",
       "3             2583             2358.0       120.0             360.0   \n",
       "4             6000                0.0       141.0             360.0   \n",
       "\n",
       "   Credit_History Property_Area Loan_Status  \n",
       "0             1.0         Urban           Y  \n",
       "1             1.0         Rural           N  \n",
       "2             1.0         Urban           Y  \n",
       "3             1.0         Urban           Y  \n",
       "4             1.0         Urban           Y  "
      ]
     },
     "execution_count": 3,
     "metadata": {},
     "output_type": "execute_result"
    }
   ],
   "source": [
    "df.head()"
   ]
  },
  {
   "cell_type": "code",
   "execution_count": 4,
   "id": "5ab96247",
   "metadata": {},
   "outputs": [
    {
     "data": {
      "text/html": [
       "<div>\n",
       "<style scoped>\n",
       "    .dataframe tbody tr th:only-of-type {\n",
       "        vertical-align: middle;\n",
       "    }\n",
       "\n",
       "    .dataframe tbody tr th {\n",
       "        vertical-align: top;\n",
       "    }\n",
       "\n",
       "    .dataframe thead th {\n",
       "        text-align: right;\n",
       "    }\n",
       "</style>\n",
       "<table border=\"1\" class=\"dataframe\">\n",
       "  <thead>\n",
       "    <tr style=\"text-align: right;\">\n",
       "      <th></th>\n",
       "      <th>Loan_ID</th>\n",
       "      <th>Gender</th>\n",
       "      <th>Married</th>\n",
       "      <th>Dependents</th>\n",
       "      <th>Education</th>\n",
       "      <th>Self_Employed</th>\n",
       "      <th>ApplicantIncome</th>\n",
       "      <th>CoapplicantIncome</th>\n",
       "      <th>LoanAmount</th>\n",
       "      <th>Loan_Amount_Term</th>\n",
       "      <th>Credit_History</th>\n",
       "      <th>Property_Area</th>\n",
       "      <th>Loan_Status</th>\n",
       "    </tr>\n",
       "  </thead>\n",
       "  <tbody>\n",
       "    <tr>\n",
       "      <th>609</th>\n",
       "      <td>LP002978</td>\n",
       "      <td>Female</td>\n",
       "      <td>No</td>\n",
       "      <td>0</td>\n",
       "      <td>Graduate</td>\n",
       "      <td>No</td>\n",
       "      <td>2900</td>\n",
       "      <td>0.0</td>\n",
       "      <td>71.0</td>\n",
       "      <td>360.0</td>\n",
       "      <td>1.0</td>\n",
       "      <td>Rural</td>\n",
       "      <td>Y</td>\n",
       "    </tr>\n",
       "    <tr>\n",
       "      <th>610</th>\n",
       "      <td>LP002979</td>\n",
       "      <td>Male</td>\n",
       "      <td>Yes</td>\n",
       "      <td>3+</td>\n",
       "      <td>Graduate</td>\n",
       "      <td>No</td>\n",
       "      <td>4106</td>\n",
       "      <td>0.0</td>\n",
       "      <td>40.0</td>\n",
       "      <td>180.0</td>\n",
       "      <td>1.0</td>\n",
       "      <td>Rural</td>\n",
       "      <td>Y</td>\n",
       "    </tr>\n",
       "    <tr>\n",
       "      <th>611</th>\n",
       "      <td>LP002983</td>\n",
       "      <td>Male</td>\n",
       "      <td>Yes</td>\n",
       "      <td>1</td>\n",
       "      <td>Graduate</td>\n",
       "      <td>No</td>\n",
       "      <td>8072</td>\n",
       "      <td>240.0</td>\n",
       "      <td>253.0</td>\n",
       "      <td>360.0</td>\n",
       "      <td>1.0</td>\n",
       "      <td>Urban</td>\n",
       "      <td>Y</td>\n",
       "    </tr>\n",
       "    <tr>\n",
       "      <th>612</th>\n",
       "      <td>LP002984</td>\n",
       "      <td>Male</td>\n",
       "      <td>Yes</td>\n",
       "      <td>2</td>\n",
       "      <td>Graduate</td>\n",
       "      <td>No</td>\n",
       "      <td>7583</td>\n",
       "      <td>0.0</td>\n",
       "      <td>187.0</td>\n",
       "      <td>360.0</td>\n",
       "      <td>1.0</td>\n",
       "      <td>Urban</td>\n",
       "      <td>Y</td>\n",
       "    </tr>\n",
       "    <tr>\n",
       "      <th>613</th>\n",
       "      <td>LP002990</td>\n",
       "      <td>Female</td>\n",
       "      <td>No</td>\n",
       "      <td>0</td>\n",
       "      <td>Graduate</td>\n",
       "      <td>Yes</td>\n",
       "      <td>4583</td>\n",
       "      <td>0.0</td>\n",
       "      <td>133.0</td>\n",
       "      <td>360.0</td>\n",
       "      <td>0.0</td>\n",
       "      <td>Semiurban</td>\n",
       "      <td>N</td>\n",
       "    </tr>\n",
       "  </tbody>\n",
       "</table>\n",
       "</div>"
      ],
      "text/plain": [
       "      Loan_ID  Gender Married Dependents Education Self_Employed  \\\n",
       "609  LP002978  Female      No          0  Graduate            No   \n",
       "610  LP002979    Male     Yes         3+  Graduate            No   \n",
       "611  LP002983    Male     Yes          1  Graduate            No   \n",
       "612  LP002984    Male     Yes          2  Graduate            No   \n",
       "613  LP002990  Female      No          0  Graduate           Yes   \n",
       "\n",
       "     ApplicantIncome  CoapplicantIncome  LoanAmount  Loan_Amount_Term  \\\n",
       "609             2900                0.0        71.0             360.0   \n",
       "610             4106                0.0        40.0             180.0   \n",
       "611             8072              240.0       253.0             360.0   \n",
       "612             7583                0.0       187.0             360.0   \n",
       "613             4583                0.0       133.0             360.0   \n",
       "\n",
       "     Credit_History Property_Area Loan_Status  \n",
       "609             1.0         Rural           Y  \n",
       "610             1.0         Rural           Y  \n",
       "611             1.0         Urban           Y  \n",
       "612             1.0         Urban           Y  \n",
       "613             0.0     Semiurban           N  "
      ]
     },
     "execution_count": 4,
     "metadata": {},
     "output_type": "execute_result"
    }
   ],
   "source": [
    "df.tail()"
   ]
  },
  {
   "cell_type": "code",
   "execution_count": 5,
   "id": "bb07925d",
   "metadata": {},
   "outputs": [
    {
     "data": {
      "text/plain": [
       "(614, 13)"
      ]
     },
     "execution_count": 5,
     "metadata": {},
     "output_type": "execute_result"
    }
   ],
   "source": [
    "# checking rows and columns in dataset\n",
    "df.shape"
   ]
  },
  {
   "cell_type": "markdown",
   "id": "06b91c09",
   "metadata": {},
   "source": [
    "- There are total 614 rows and 13 columns in dataset\n",
    "- Out of 13 columns, 12 columns are features and 1 is target variable; Loan_Status"
   ]
  },
  {
   "cell_type": "code",
   "execution_count": 9,
   "id": "4d134a40",
   "metadata": {},
   "outputs": [
    {
     "data": {
      "text/plain": [
       "Index(['Loan_ID', 'Gender', 'Married', 'Dependents', 'Education',\n",
       "       'Self_Employed', 'ApplicantIncome', 'CoapplicantIncome', 'LoanAmount',\n",
       "       'Loan_Amount_Term', 'Credit_History', 'Property_Area', 'Loan_Status'],\n",
       "      dtype='object')"
      ]
     },
     "execution_count": 9,
     "metadata": {},
     "output_type": "execute_result"
    }
   ],
   "source": [
    "# checking all column names\n",
    "df.columns"
   ]
  },
  {
   "cell_type": "code",
   "execution_count": 6,
   "id": "a8a51a70",
   "metadata": {},
   "outputs": [
    {
     "data": {
      "text/plain": [
       "Loan_ID               object\n",
       "Gender                object\n",
       "Married               object\n",
       "Dependents            object\n",
       "Education             object\n",
       "Self_Employed         object\n",
       "ApplicantIncome        int64\n",
       "CoapplicantIncome    float64\n",
       "LoanAmount           float64\n",
       "Loan_Amount_Term     float64\n",
       "Credit_History       float64\n",
       "Property_Area         object\n",
       "Loan_Status           object\n",
       "dtype: object"
      ]
     },
     "execution_count": 6,
     "metadata": {},
     "output_type": "execute_result"
    }
   ],
   "source": [
    "# checking datatypes of each column\n",
    "df.dtypes"
   ]
  },
  {
   "cell_type": "markdown",
   "id": "2bbf1457",
   "metadata": {},
   "source": [
    "Out of 13 columns, there are:\n",
    "- 8 columns of object datatype\n",
    "- 4 columns of float64 (numeric) data type\n",
    "- and 1 column of int64(numeric) data type"
   ]
  },
  {
   "cell_type": "code",
   "execution_count": 7,
   "id": "d10d1330",
   "metadata": {},
   "outputs": [
    {
     "name": "stdout",
     "output_type": "stream",
     "text": [
      "<class 'pandas.core.frame.DataFrame'>\n",
      "RangeIndex: 614 entries, 0 to 613\n",
      "Data columns (total 13 columns):\n",
      " #   Column             Non-Null Count  Dtype  \n",
      "---  ------             --------------  -----  \n",
      " 0   Loan_ID            614 non-null    object \n",
      " 1   Gender             601 non-null    object \n",
      " 2   Married            611 non-null    object \n",
      " 3   Dependents         599 non-null    object \n",
      " 4   Education          614 non-null    object \n",
      " 5   Self_Employed      582 non-null    object \n",
      " 6   ApplicantIncome    614 non-null    int64  \n",
      " 7   CoapplicantIncome  614 non-null    float64\n",
      " 8   LoanAmount         592 non-null    float64\n",
      " 9   Loan_Amount_Term   600 non-null    float64\n",
      " 10  Credit_History     564 non-null    float64\n",
      " 11  Property_Area      614 non-null    object \n",
      " 12  Loan_Status        614 non-null    object \n",
      "dtypes: float64(4), int64(1), object(8)\n",
      "memory usage: 62.5+ KB\n"
     ]
    }
   ],
   "source": [
    "# checking more info about dataset at a glance\n",
    "df.info()"
   ]
  },
  {
   "cell_type": "markdown",
   "id": "de0ae2e4",
   "metadata": {},
   "source": [
    "- There are some missing/null values in a few columns in the dataset; we will check them in detail going forward\n",
    "- Out of 13 columns, there are:\n",
    "\n",
    "8 columns of object datatype\n",
    "4 columns of float64 (numeric) data type\n",
    "and 1 column of int64(numeric) data type\n",
    "\n",
    "- The data in the columns match their datatype"
   ]
  },
  {
   "cell_type": "code",
   "execution_count": 8,
   "id": "4e13f4fc",
   "metadata": {},
   "outputs": [
    {
     "data": {
      "text/plain": [
       "Loan_ID               0\n",
       "Gender               13\n",
       "Married               3\n",
       "Dependents           15\n",
       "Education             0\n",
       "Self_Employed        32\n",
       "ApplicantIncome       0\n",
       "CoapplicantIncome     0\n",
       "LoanAmount           22\n",
       "Loan_Amount_Term     14\n",
       "Credit_History       50\n",
       "Property_Area         0\n",
       "Loan_Status           0\n",
       "dtype: int64"
      ]
     },
     "execution_count": 8,
     "metadata": {},
     "output_type": "execute_result"
    }
   ],
   "source": [
    "# checking null values further\n",
    "df.isna().sum()"
   ]
  },
  {
   "cell_type": "markdown",
   "id": "044bda9e",
   "metadata": {},
   "source": [
    "- Gender column has 13 missing values\n",
    "- Married column has 3 missing values\n",
    "- Dependednts column has 15 missing values\n",
    "- Self_Employed has 32 missing values\n",
    "- LoanAmount has 22 missing values\n",
    "- Loan_Amount_Term  has 14 missing values\n",
    "- Credit_History has 50 missing values\n",
    "- remaining columns; Loan_ID, Education, ApplicantIncome,CoapplicantIncome,Property_Area, Loan_Status  have no missing/null values"
   ]
  },
  {
   "cell_type": "code",
   "execution_count": 11,
   "id": "6ebb17e6",
   "metadata": {},
   "outputs": [
    {
     "data": {
      "text/html": [
       "<div>\n",
       "<style scoped>\n",
       "    .dataframe tbody tr th:only-of-type {\n",
       "        vertical-align: middle;\n",
       "    }\n",
       "\n",
       "    .dataframe tbody tr th {\n",
       "        vertical-align: top;\n",
       "    }\n",
       "\n",
       "    .dataframe thead th {\n",
       "        text-align: right;\n",
       "    }\n",
       "</style>\n",
       "<table border=\"1\" class=\"dataframe\">\n",
       "  <thead>\n",
       "    <tr style=\"text-align: right;\">\n",
       "      <th></th>\n",
       "      <th>count</th>\n",
       "      <th>mean</th>\n",
       "      <th>std</th>\n",
       "      <th>min</th>\n",
       "      <th>25%</th>\n",
       "      <th>50%</th>\n",
       "      <th>75%</th>\n",
       "      <th>max</th>\n",
       "    </tr>\n",
       "  </thead>\n",
       "  <tbody>\n",
       "    <tr>\n",
       "      <th>ApplicantIncome</th>\n",
       "      <td>614.0</td>\n",
       "      <td>5403.459283</td>\n",
       "      <td>6109.041673</td>\n",
       "      <td>150.0</td>\n",
       "      <td>2877.5</td>\n",
       "      <td>3812.5</td>\n",
       "      <td>5795.00</td>\n",
       "      <td>81000.0</td>\n",
       "    </tr>\n",
       "    <tr>\n",
       "      <th>CoapplicantIncome</th>\n",
       "      <td>614.0</td>\n",
       "      <td>1621.245798</td>\n",
       "      <td>2926.248369</td>\n",
       "      <td>0.0</td>\n",
       "      <td>0.0</td>\n",
       "      <td>1188.5</td>\n",
       "      <td>2297.25</td>\n",
       "      <td>41667.0</td>\n",
       "    </tr>\n",
       "    <tr>\n",
       "      <th>LoanAmount</th>\n",
       "      <td>592.0</td>\n",
       "      <td>146.412162</td>\n",
       "      <td>85.587325</td>\n",
       "      <td>9.0</td>\n",
       "      <td>100.0</td>\n",
       "      <td>128.0</td>\n",
       "      <td>168.00</td>\n",
       "      <td>700.0</td>\n",
       "    </tr>\n",
       "    <tr>\n",
       "      <th>Loan_Amount_Term</th>\n",
       "      <td>600.0</td>\n",
       "      <td>342.000000</td>\n",
       "      <td>65.120410</td>\n",
       "      <td>12.0</td>\n",
       "      <td>360.0</td>\n",
       "      <td>360.0</td>\n",
       "      <td>360.00</td>\n",
       "      <td>480.0</td>\n",
       "    </tr>\n",
       "    <tr>\n",
       "      <th>Credit_History</th>\n",
       "      <td>564.0</td>\n",
       "      <td>0.842199</td>\n",
       "      <td>0.364878</td>\n",
       "      <td>0.0</td>\n",
       "      <td>1.0</td>\n",
       "      <td>1.0</td>\n",
       "      <td>1.00</td>\n",
       "      <td>1.0</td>\n",
       "    </tr>\n",
       "  </tbody>\n",
       "</table>\n",
       "</div>"
      ],
      "text/plain": [
       "                   count         mean          std    min     25%     50%  \\\n",
       "ApplicantIncome    614.0  5403.459283  6109.041673  150.0  2877.5  3812.5   \n",
       "CoapplicantIncome  614.0  1621.245798  2926.248369    0.0     0.0  1188.5   \n",
       "LoanAmount         592.0   146.412162    85.587325    9.0   100.0   128.0   \n",
       "Loan_Amount_Term   600.0   342.000000    65.120410   12.0   360.0   360.0   \n",
       "Credit_History     564.0     0.842199     0.364878    0.0     1.0     1.0   \n",
       "\n",
       "                       75%      max  \n",
       "ApplicantIncome    5795.00  81000.0  \n",
       "CoapplicantIncome  2297.25  41667.0  \n",
       "LoanAmount          168.00    700.0  \n",
       "Loan_Amount_Term    360.00    480.0  \n",
       "Credit_History        1.00      1.0  "
      ]
     },
     "execution_count": 11,
     "metadata": {},
     "output_type": "execute_result"
    }
   ],
   "source": [
    "# checking statistical summary of dataset\n",
    "df.describe().T"
   ]
  },
  {
   "cell_type": "markdown",
   "id": "19aded2a",
   "metadata": {},
   "source": [
    "- LoanAmount has 22 missing values & Credit_History has 50 missing values\n",
    "- ApplicantIncome is positively skewed (right tailed) as mean > median - seems to be having outliers\n",
    "- CoapplicantIncome is positively skewed (right tailed) as mean > median - seems to be having outliers\n",
    "- LoanAmount is positively skewed (right tailed) as mean > median\n",
    "- Loan_Amount_Term is mildly negatively skewed (left tailed) as mean< median\n"
   ]
  },
  {
   "cell_type": "markdown",
   "id": "495c7168",
   "metadata": {},
   "source": [
    "# Data Visualization"
   ]
  },
  {
   "cell_type": "markdown",
   "id": "a3a0925c",
   "metadata": {},
   "source": [
    "### Plotting the countplot of categorical (non-numeric) columns"
   ]
  },
  {
   "cell_type": "code",
   "execution_count": 12,
   "id": "ee934783",
   "metadata": {},
   "outputs": [
    {
     "name": "stdout",
     "output_type": "stream",
     "text": [
      "Count Plot for  Loan_ID\n",
      "LP001002    1\n",
      "LP002328    1\n",
      "LP002305    1\n",
      "LP002308    1\n",
      "LP002314    1\n",
      "           ..\n",
      "LP001692    1\n",
      "LP001693    1\n",
      "LP001698    1\n",
      "LP001699    1\n",
      "LP002990    1\n",
      "Name: Loan_ID, Length: 614, dtype: int64\n",
      "LP001002    0.001629\n",
      "LP002328    0.001629\n",
      "LP002305    0.001629\n",
      "LP002308    0.001629\n",
      "LP002314    0.001629\n",
      "              ...   \n",
      "LP001692    0.001629\n",
      "LP001693    0.001629\n",
      "LP001698    0.001629\n",
      "LP001699    0.001629\n",
      "LP002990    0.001629\n",
      "Name: Loan_ID, Length: 614, dtype: float64\n"
     ]
    },
    {
     "data": {
      "image/png": "[encoded data removed]",
      "text/plain": [
       "<Figure size 432x288 with 1 Axes>"
      ]
     },
     "metadata": {
      "needs_background": "light"
     },
     "output_type": "display_data"
    },
    {
     "name": "stdout",
     "output_type": "stream",
     "text": [
      "Count Plot for  Gender\n",
      "Male      489\n",
      "Female    112\n",
      "Name: Gender, dtype: int64\n",
      "Male      0.813644\n",
      "Female    0.186356\n",
      "Name: Gender, dtype: float64\n"
     ]
    },
    {
     "data": {
      "image/png": "[encoded data removed]",
      "text/plain": [
       "<Figure size 432x288 with 1 Axes>"
      ]
     },
     "metadata": {
      "needs_background": "light"
     },
     "output_type": "display_data"
    },
    {
     "name": "stdout",
     "output_type": "stream",
     "text": [
      "Count Plot for  Married\n",
      "Yes    398\n",
      "No     213\n",
      "Name: Married, dtype: int64\n",
      "Yes    0.651391\n",
      "No     0.348609\n",
      "Name: Married, dtype: float64\n"
     ]
    },
    {
     "data": {
      "image/png": "[encoded data removed]",
      "text/plain": [
       "<Figure size 432x288 with 1 Axes>"
      ]
     },
     "metadata": {
      "needs_background": "light"
     },
     "output_type": "display_data"
    },
    {
     "name": "stdout",
     "output_type": "stream",
     "text": [
      "Count Plot for  Dependents\n",
      "0     345\n",
      "1     102\n",
      "2     101\n",
      "3+     51\n",
      "Name: Dependents, dtype: int64\n",
      "0     0.575960\n",
      "1     0.170284\n",
      "2     0.168614\n",
      "3+    0.085142\n",
      "Name: Dependents, dtype: float64\n"
     ]
    },
    {
     "data": {
      "image/png": "[encoded data removed]",
      "text/plain": [
       "<Figure size 432x288 with 1 Axes>"
      ]
     },
     "metadata": {
      "needs_background": "light"
     },
     "output_type": "display_data"
    },
    {
     "name": "stdout",
     "output_type": "stream",
     "text": [
      "Count Plot for  Education\n",
      "Graduate        480\n",
      "Not Graduate    134\n",
      "Name: Education, dtype: int64\n",
      "Graduate        0.781759\n",
      "Not Graduate    0.218241\n",
      "Name: Education, dtype: float64\n"
     ]
    },
    {
     "data": {
      "image/png": "[encoded data removed]",
      "text/plain": [
       "<Figure size 432x288 with 1 Axes>"
      ]
     },
     "metadata": {
      "needs_background": "light"
     },
     "output_type": "display_data"
    },
    {
     "name": "stdout",
     "output_type": "stream",
     "text": [
      "Count Plot for  Self_Employed\n",
      "No     500\n",
      "Yes     82\n",
      "Name: Self_Employed, dtype: int64\n",
      "No     0.859107\n",
      "Yes    0.140893\n",
      "Name: Self_Employed, dtype: float64\n"
     ]
    },
    {
     "data": {
      "image/png": "[encoded data removed]",
      "text/plain": [
       "<Figure size 432x288 with 1 Axes>"
      ]
     },
     "metadata": {
      "needs_background": "light"
     },
     "output_type": "display_data"
    },
    {
     "name": "stdout",
     "output_type": "stream",
     "text": [
      "Count Plot for  ApplicantIncome\n",
      "Count Plot for  CoapplicantIncome\n",
      "Count Plot for  LoanAmount\n",
      "Count Plot for  Loan_Amount_Term\n",
      "Count Plot for  Credit_History\n",
      "Count Plot for  Property_Area\n",
      "Semiurban    233\n",
      "Urban        202\n",
      "Rural        179\n",
      "Name: Property_Area, dtype: int64\n",
      "Semiurban    0.379479\n",
      "Urban        0.328990\n",
      "Rural        0.291531\n",
      "Name: Property_Area, dtype: float64\n"
     ]
    },
    {
     "data": {
      "image/png": "[encoded data removed]",
      "text/plain": [
       "<Figure size 432x288 with 1 Axes>"
      ]
     },
     "metadata": {
      "needs_background": "light"
     },
     "output_type": "display_data"
    },
    {
     "name": "stdout",
     "output_type": "stream",
     "text": [
      "Count Plot for  Loan_Status\n",
      "Y    422\n",
      "N    192\n",
      "Name: Loan_Status, dtype: int64\n",
      "Y    0.687296\n",
      "N    0.312704\n",
      "Name: Loan_Status, dtype: float64\n"
     ]
    },
    {
     "data": {
      "image/png": "[encoded data removed]",
      "text/plain": [
       "<Figure size 432x288 with 1 Axes>"
      ]
     },
     "metadata": {
      "needs_background": "light"
     },
     "output_type": "display_data"
    }
   ],
   "source": [
    "for i in df.columns:\n",
    "    print('Count Plot for ', i)\n",
    "    if df[i].dtypes=='object':\n",
    "        sns.countplot(x=df[i], hue=df['Loan_Status'])\n",
    "        print(df[i].value_counts())\n",
    "        print(df[i].value_counts(normalize=True))\n",
    "        plt.show()\n",
    "        "
   ]
  },
  {
   "cell_type": "markdown",
   "id": "a303c3d4",
   "metadata": {},
   "source": [
    "- Loan_ID is an Unique Identifier columns\n",
    "- More males get loan status approved than females\n",
    "- More married couples get loan status approved than unmarried\n",
    "- More people with zero dependents get their loans approved probably because of less liability\n",
    "- More graduates get loan approved than non-graduate as education provides better job opportunities and better salaries\n",
    "- the ones who are not self employed get more approved loans\n",
    "- Semi urban gets most loan status approved followed  by urban and rural"
   ]
  },
  {
   "cell_type": "markdown",
   "id": "20fc9f2d",
   "metadata": {},
   "source": [
    "### Ploting Dist plot for the Numerical columns"
   ]
  },
  {
   "cell_type": "code",
   "execution_count": 13,
   "id": "ca394d34",
   "metadata": {},
   "outputs": [
    {
     "name": "stdout",
     "output_type": "stream",
     "text": [
      "Distribution Plot for  Loan_ID\n",
      "Distribution Plot for  Gender\n",
      "Distribution Plot for  Married\n",
      "Distribution Plot for  Dependents\n",
      "Distribution Plot for  Education\n",
      "Distribution Plot for  Self_Employed\n",
      "Distribution Plot for  ApplicantIncome\n"
     ]
    },
    {
     "data": {
      "image/png": "[encoded data removed]",
      "text/plain": [
       "<Figure size 432x288 with 1 Axes>"
      ]
     },
     "metadata": {
      "needs_background": "light"
     },
     "output_type": "display_data"
    },
    {
     "name": "stdout",
     "output_type": "stream",
     "text": [
      "Distribution Plot for  CoapplicantIncome\n"
     ]
    },
    {
     "data": {
      "image/png": "[encoded data removed]",
      "text/plain": [
       "<Figure size 432x288 with 1 Axes>"
      ]
     },
     "metadata": {
      "needs_background": "light"
     },
     "output_type": "display_data"
    },
    {
     "name": "stdout",
     "output_type": "stream",
     "text": [
      "Distribution Plot for  LoanAmount\n"
     ]
    },
    {
     "data": {
      "image/png": "[encoded data removed]",
      "text/plain": [
       "<Figure size 432x288 with 1 Axes>"
      ]
     },
     "metadata": {
      "needs_background": "light"
     },
     "output_type": "display_data"
    },
    {
     "name": "stdout",
     "output_type": "stream",
     "text": [
      "Distribution Plot for  Loan_Amount_Term\n"
     ]
    },
    {
     "data": {
      "image/png": "[encoded data removed]",
      "text/plain": [
       "<Figure size 432x288 with 1 Axes>"
      ]
     },
     "metadata": {
      "needs_background": "light"
     },
     "output_type": "display_data"
    },
    {
     "name": "stdout",
     "output_type": "stream",
     "text": [
      "Distribution Plot for  Credit_History\n"
     ]
    },
    {
     "data": {
      "image/png": "[encoded data removed]",
      "text/plain": [
       "<Figure size 432x288 with 1 Axes>"
      ]
     },
     "metadata": {
      "needs_background": "light"
     },
     "output_type": "display_data"
    },
    {
     "name": "stdout",
     "output_type": "stream",
     "text": [
      "Distribution Plot for  Property_Area\n",
      "Distribution Plot for  Loan_Status\n"
     ]
    }
   ],
   "source": [
    "\n",
    "for i in df.columns:\n",
    "    print('Distribution Plot for ', i)\n",
    "    if df[i].dtypes!='object':\n",
    "        sns.distplot(x=df[i],kde=True)\n",
    "        plt.show()"
   ]
  },
  {
   "cell_type": "markdown",
   "id": "53ef994b",
   "metadata": {},
   "source": [
    "- ApplicantIncome, CoapplicantIncome, LoanAmount are rightly skewed\n",
    "- Loan_Amount_Term is only having 4 unique values and have to fill with mode for null values\n",
    "- Credit_History shows that most (nearly 85%) of the applicants have repayed their debts "
   ]
  },
  {
   "cell_type": "code",
   "execution_count": 15,
   "id": "ce209990",
   "metadata": {},
   "outputs": [
    {
     "data": {
      "text/plain": [
       "ApplicantIncome      6.539513\n",
       "CoapplicantIncome    7.491531\n",
       "LoanAmount           2.677552\n",
       "Loan_Amount_Term    -2.362414\n",
       "Credit_History      -1.882361\n",
       "dtype: float64"
      ]
     },
     "execution_count": 15,
     "metadata": {},
     "output_type": "execute_result"
    }
   ],
   "source": [
    "# checking skew score\n",
    "df.skew()"
   ]
  },
  {
   "cell_type": "markdown",
   "id": "0dbec311",
   "metadata": {},
   "source": [
    "- skewness in the columns will be dealt wth later "
   ]
  },
  {
   "cell_type": "code",
   "execution_count": 14,
   "id": "db8aebe5",
   "metadata": {},
   "outputs": [
    {
     "data": {
      "text/plain": [
       "<AxesSubplot:>"
      ]
     },
     "execution_count": 14,
     "metadata": {},
     "output_type": "execute_result"
    },
    {
     "data": {
      "image/png": "[encoded data removed]",
      "text/plain": [
       "<Figure size 1080x360 with 1 Axes>"
      ]
     },
     "metadata": {
      "needs_background": "light"
     },
     "output_type": "display_data"
    }
   ],
   "source": [
    "# Checking for Outliers\n",
    "plt.figure(figsize=(15,5))\n",
    "sns.boxplot(data=df)"
   ]
  },
  {
   "cell_type": "markdown",
   "id": "cd058e00",
   "metadata": {},
   "source": [
    "- ApplicantIncome, CoapplicantIncome have outliers as evident from the boxplot"
   ]
  },
  {
   "cell_type": "code",
   "execution_count": null,
   "id": "8ab9f693",
   "metadata": {},
   "outputs": [],
   "source": [
    "# Let's check the correlation between the features and target variable.\n",
    "# But before that let's treat the missing values and use Encoder to convert non-numeric fields to numeric datatype"
   ]
  },
  {
   "cell_type": "code",
   "execution_count": 17,
   "id": "43374298",
   "metadata": {},
   "outputs": [
    {
     "data": {
      "text/plain": [
       "Loan_ID               0\n",
       "Gender               13\n",
       "Married               3\n",
       "Dependents           15\n",
       "Education             0\n",
       "Self_Employed        32\n",
       "ApplicantIncome       0\n",
       "CoapplicantIncome     0\n",
       "LoanAmount           22\n",
       "Loan_Amount_Term     14\n",
       "Credit_History       50\n",
       "Property_Area         0\n",
       "Loan_Status           0\n",
       "dtype: int64"
      ]
     },
     "execution_count": 17,
     "metadata": {},
     "output_type": "execute_result"
    }
   ],
   "source": [
    "df.isna().sum()"
   ]
  },
  {
   "cell_type": "code",
   "execution_count": 20,
   "id": "aab3d24d",
   "metadata": {},
   "outputs": [],
   "source": [
    "\n",
    "# Filling na values in Gender column with mode\n",
    "df['Gender'] = df['Gender'].fillna(df['Gender'].mode()[0])\n",
    "\n",
    "# Filling na values in Married column with mode\n",
    "df['Married'] = df['Married'].fillna(df['Married'].mode()[0])\n",
    "\n",
    "# Filling na values in Dependents column with mode\n",
    "df['Dependents'] = df['Dependents'].fillna(df['Dependents'].mode()[0])\n",
    "\n",
    "# Filling na values in Self_Employed column with mode\n",
    "df['Self_Employed'] = df['Self_Employed'].fillna(df['Self_Employed'].mode()[0])\n",
    "\n",
    "\n",
    "# Filling na values in LoanAmount column with mode \n",
    "df['Loan_Amount_Term'] = df['Loan_Amount_Term'].fillna(df['Loan_Amount_Term'].mode()[0])\n",
    "\n",
    "# Filling na values in Credit_History   column with mode\n",
    "df['Credit_History'] = df['Credit_History'].fillna(df['Credit_History'].median())\n",
    "\n",
    "# Filling na values in Loan_Amount  column with median as it has some outliers so mean wouldnt be the right value to use here\n",
    "df['LoanAmount'] = df['LoanAmount'].fillna(df['LoanAmount'].median())"
   ]
  },
  {
   "cell_type": "code",
   "execution_count": 21,
   "id": "18d051b5",
   "metadata": {},
   "outputs": [
    {
     "data": {
      "text/plain": [
       "Loan_ID              0\n",
       "Gender               0\n",
       "Married              0\n",
       "Dependents           0\n",
       "Education            0\n",
       "Self_Employed        0\n",
       "ApplicantIncome      0\n",
       "CoapplicantIncome    0\n",
       "LoanAmount           0\n",
       "Loan_Amount_Term     0\n",
       "Credit_History       0\n",
       "Property_Area        0\n",
       "Loan_Status          0\n",
       "dtype: int64"
      ]
     },
     "execution_count": 21,
     "metadata": {},
     "output_type": "execute_result"
    }
   ],
   "source": [
    "# Checking if null values are still there\n",
    "df.isna().sum()"
   ]
  },
  {
   "cell_type": "markdown",
   "id": "19bb8b73",
   "metadata": {},
   "source": [
    "- The null values have been treated. There are no missing/null values in the dataset now."
   ]
  },
  {
   "cell_type": "code",
   "execution_count": 22,
   "id": "c4d5fdb2",
   "metadata": {},
   "outputs": [
    {
     "data": {
      "text/html": [
       "<div>\n",
       "<style scoped>\n",
       "    .dataframe tbody tr th:only-of-type {\n",
       "        vertical-align: middle;\n",
       "    }\n",
       "\n",
       "    .dataframe tbody tr th {\n",
       "        vertical-align: top;\n",
       "    }\n",
       "\n",
       "    .dataframe thead th {\n",
       "        text-align: right;\n",
       "    }\n",
       "</style>\n",
       "<table border=\"1\" class=\"dataframe\">\n",
       "  <thead>\n",
       "    <tr style=\"text-align: right;\">\n",
       "      <th></th>\n",
       "      <th>Loan_ID</th>\n",
       "      <th>Gender</th>\n",
       "      <th>Married</th>\n",
       "      <th>Dependents</th>\n",
       "      <th>Education</th>\n",
       "      <th>Self_Employed</th>\n",
       "      <th>ApplicantIncome</th>\n",
       "      <th>CoapplicantIncome</th>\n",
       "      <th>LoanAmount</th>\n",
       "      <th>Loan_Amount_Term</th>\n",
       "      <th>Credit_History</th>\n",
       "      <th>Property_Area</th>\n",
       "      <th>Loan_Status</th>\n",
       "    </tr>\n",
       "  </thead>\n",
       "  <tbody>\n",
       "    <tr>\n",
       "      <th>0</th>\n",
       "      <td>0</td>\n",
       "      <td>1</td>\n",
       "      <td>0</td>\n",
       "      <td>0</td>\n",
       "      <td>0</td>\n",
       "      <td>0</td>\n",
       "      <td>5849</td>\n",
       "      <td>0.0</td>\n",
       "      <td>128.0</td>\n",
       "      <td>360.0</td>\n",
       "      <td>1.0</td>\n",
       "      <td>2</td>\n",
       "      <td>1</td>\n",
       "    </tr>\n",
       "    <tr>\n",
       "      <th>1</th>\n",
       "      <td>1</td>\n",
       "      <td>1</td>\n",
       "      <td>1</td>\n",
       "      <td>1</td>\n",
       "      <td>0</td>\n",
       "      <td>0</td>\n",
       "      <td>4583</td>\n",
       "      <td>1508.0</td>\n",
       "      <td>128.0</td>\n",
       "      <td>360.0</td>\n",
       "      <td>1.0</td>\n",
       "      <td>0</td>\n",
       "      <td>0</td>\n",
       "    </tr>\n",
       "    <tr>\n",
       "      <th>2</th>\n",
       "      <td>2</td>\n",
       "      <td>1</td>\n",
       "      <td>1</td>\n",
       "      <td>0</td>\n",
       "      <td>0</td>\n",
       "      <td>1</td>\n",
       "      <td>3000</td>\n",
       "      <td>0.0</td>\n",
       "      <td>66.0</td>\n",
       "      <td>360.0</td>\n",
       "      <td>1.0</td>\n",
       "      <td>2</td>\n",
       "      <td>1</td>\n",
       "    </tr>\n",
       "    <tr>\n",
       "      <th>3</th>\n",
       "      <td>3</td>\n",
       "      <td>1</td>\n",
       "      <td>1</td>\n",
       "      <td>0</td>\n",
       "      <td>1</td>\n",
       "      <td>0</td>\n",
       "      <td>2583</td>\n",
       "      <td>2358.0</td>\n",
       "      <td>120.0</td>\n",
       "      <td>360.0</td>\n",
       "      <td>1.0</td>\n",
       "      <td>2</td>\n",
       "      <td>1</td>\n",
       "    </tr>\n",
       "    <tr>\n",
       "      <th>4</th>\n",
       "      <td>4</td>\n",
       "      <td>1</td>\n",
       "      <td>0</td>\n",
       "      <td>0</td>\n",
       "      <td>0</td>\n",
       "      <td>0</td>\n",
       "      <td>6000</td>\n",
       "      <td>0.0</td>\n",
       "      <td>141.0</td>\n",
       "      <td>360.0</td>\n",
       "      <td>1.0</td>\n",
       "      <td>2</td>\n",
       "      <td>1</td>\n",
       "    </tr>\n",
       "    <tr>\n",
       "      <th>...</th>\n",
       "      <td>...</td>\n",
       "      <td>...</td>\n",
       "      <td>...</td>\n",
       "      <td>...</td>\n",
       "      <td>...</td>\n",
       "      <td>...</td>\n",
       "      <td>...</td>\n",
       "      <td>...</td>\n",
       "      <td>...</td>\n",
       "      <td>...</td>\n",
       "      <td>...</td>\n",
       "      <td>...</td>\n",
       "      <td>...</td>\n",
       "    </tr>\n",
       "    <tr>\n",
       "      <th>609</th>\n",
       "      <td>609</td>\n",
       "      <td>0</td>\n",
       "      <td>0</td>\n",
       "      <td>0</td>\n",
       "      <td>0</td>\n",
       "      <td>0</td>\n",
       "      <td>2900</td>\n",
       "      <td>0.0</td>\n",
       "      <td>71.0</td>\n",
       "      <td>360.0</td>\n",
       "      <td>1.0</td>\n",
       "      <td>0</td>\n",
       "      <td>1</td>\n",
       "    </tr>\n",
       "    <tr>\n",
       "      <th>610</th>\n",
       "      <td>610</td>\n",
       "      <td>1</td>\n",
       "      <td>1</td>\n",
       "      <td>3</td>\n",
       "      <td>0</td>\n",
       "      <td>0</td>\n",
       "      <td>4106</td>\n",
       "      <td>0.0</td>\n",
       "      <td>40.0</td>\n",
       "      <td>180.0</td>\n",
       "      <td>1.0</td>\n",
       "      <td>0</td>\n",
       "      <td>1</td>\n",
       "    </tr>\n",
       "    <tr>\n",
       "      <th>611</th>\n",
       "      <td>611</td>\n",
       "      <td>1</td>\n",
       "      <td>1</td>\n",
       "      <td>1</td>\n",
       "      <td>0</td>\n",
       "      <td>0</td>\n",
       "      <td>8072</td>\n",
       "      <td>240.0</td>\n",
       "      <td>253.0</td>\n",
       "      <td>360.0</td>\n",
       "      <td>1.0</td>\n",
       "      <td>2</td>\n",
       "      <td>1</td>\n",
       "    </tr>\n",
       "    <tr>\n",
       "      <th>612</th>\n",
       "      <td>612</td>\n",
       "      <td>1</td>\n",
       "      <td>1</td>\n",
       "      <td>2</td>\n",
       "      <td>0</td>\n",
       "      <td>0</td>\n",
       "      <td>7583</td>\n",
       "      <td>0.0</td>\n",
       "      <td>187.0</td>\n",
       "      <td>360.0</td>\n",
       "      <td>1.0</td>\n",
       "      <td>2</td>\n",
       "      <td>1</td>\n",
       "    </tr>\n",
       "    <tr>\n",
       "      <th>613</th>\n",
       "      <td>613</td>\n",
       "      <td>0</td>\n",
       "      <td>0</td>\n",
       "      <td>0</td>\n",
       "      <td>0</td>\n",
       "      <td>1</td>\n",
       "      <td>4583</td>\n",
       "      <td>0.0</td>\n",
       "      <td>133.0</td>\n",
       "      <td>360.0</td>\n",
       "      <td>0.0</td>\n",
       "      <td>1</td>\n",
       "      <td>0</td>\n",
       "    </tr>\n",
       "  </tbody>\n",
       "</table>\n",
       "<p>614 rows × 13 columns</p>\n",
       "</div>"
      ],
      "text/plain": [
       "     Loan_ID  Gender  Married  Dependents  Education  Self_Employed  \\\n",
       "0          0       1        0           0          0              0   \n",
       "1          1       1        1           1          0              0   \n",
       "2          2       1        1           0          0              1   \n",
       "3          3       1        1           0          1              0   \n",
       "4          4       1        0           0          0              0   \n",
       "..       ...     ...      ...         ...        ...            ...   \n",
       "609      609       0        0           0          0              0   \n",
       "610      610       1        1           3          0              0   \n",
       "611      611       1        1           1          0              0   \n",
       "612      612       1        1           2          0              0   \n",
       "613      613       0        0           0          0              1   \n",
       "\n",
       "     ApplicantIncome  CoapplicantIncome  LoanAmount  Loan_Amount_Term  \\\n",
       "0               5849                0.0       128.0             360.0   \n",
       "1               4583             1508.0       128.0             360.0   \n",
       "2               3000                0.0        66.0             360.0   \n",
       "3               2583             2358.0       120.0             360.0   \n",
       "4               6000                0.0       141.0             360.0   \n",
       "..               ...                ...         ...               ...   \n",
       "609             2900                0.0        71.0             360.0   \n",
       "610             4106                0.0        40.0             180.0   \n",
       "611             8072              240.0       253.0             360.0   \n",
       "612             7583                0.0       187.0             360.0   \n",
       "613             4583                0.0       133.0             360.0   \n",
       "\n",
       "     Credit_History  Property_Area  Loan_Status  \n",
       "0               1.0              2            1  \n",
       "1               1.0              0            0  \n",
       "2               1.0              2            1  \n",
       "3               1.0              2            1  \n",
       "4               1.0              2            1  \n",
       "..              ...            ...          ...  \n",
       "609             1.0              0            1  \n",
       "610             1.0              0            1  \n",
       "611             1.0              2            1  \n",
       "612             1.0              2            1  \n",
       "613             0.0              1            0  \n",
       "\n",
       "[614 rows x 13 columns]"
      ]
     },
     "execution_count": 22,
     "metadata": {},
     "output_type": "execute_result"
    }
   ],
   "source": [
    "# Now let us encode the categorical columns\n",
    "\n",
    "from sklearn.preprocessing import LabelEncoder\n",
    "le = LabelEncoder()\n",
    "for i in df.columns:\n",
    "    if df[i].dtypes == 'object':\n",
    "        df[i] = le.fit_transform(df[i])\n",
    "df"
   ]
  },
  {
   "cell_type": "code",
   "execution_count": 23,
   "id": "f388f01c",
   "metadata": {},
   "outputs": [
    {
     "data": {
      "text/plain": [
       "Loan_ID                int32\n",
       "Gender                 int32\n",
       "Married                int32\n",
       "Dependents             int32\n",
       "Education              int32\n",
       "Self_Employed          int32\n",
       "ApplicantIncome        int64\n",
       "CoapplicantIncome    float64\n",
       "LoanAmount           float64\n",
       "Loan_Amount_Term     float64\n",
       "Credit_History       float64\n",
       "Property_Area          int32\n",
       "Loan_Status            int32\n",
       "dtype: object"
      ]
     },
     "execution_count": 23,
     "metadata": {},
     "output_type": "execute_result"
    }
   ],
   "source": [
    "# checking the data type of columns \n",
    "\n",
    "df.dtypes"
   ]
  },
  {
   "cell_type": "markdown",
   "id": "90a1a627",
   "metadata": {},
   "source": [
    "- All the categorical columns have been converted to numeric data type"
   ]
  },
  {
   "cell_type": "code",
   "execution_count": 26,
   "id": "20276fb8",
   "metadata": {},
   "outputs": [
    {
     "data": {
      "text/plain": [
       "<AxesSubplot:>"
      ]
     },
     "execution_count": 26,
     "metadata": {},
     "output_type": "execute_result"
    },
    {
     "data": {
      "image/png": "[encoded data removed]",
      "text/plain": [
       "<Figure size 864x720 with 2 Axes>"
      ]
     },
     "metadata": {
      "needs_background": "light"
     },
     "output_type": "display_data"
    }
   ],
   "source": [
    "# Now lets plot heatmap to check correlation\n",
    "\n",
    "plt.figure(figsize=(12,10))\n",
    "sns.heatmap(df.corr(), annot=True)"
   ]
  },
  {
   "cell_type": "markdown",
   "id": "c66ca66d",
   "metadata": {},
   "source": [
    "- Here, we see that target variable 'Loan_Status' is highly correlated with 'Credit_history'\n",
    "- The features that are correlated with each other are: 'ApplicantIncome' & 'LoanAmount'"
   ]
  },
  {
   "cell_type": "markdown",
   "id": "78b2b9b8",
   "metadata": {},
   "source": [
    "# Pre-processing Data"
   ]
  },
  {
   "cell_type": "code",
   "execution_count": 30,
   "id": "f5cb17fd",
   "metadata": {},
   "outputs": [
    {
     "data": {
      "text/html": [
       "<div>\n",
       "<style scoped>\n",
       "    .dataframe tbody tr th:only-of-type {\n",
       "        vertical-align: middle;\n",
       "    }\n",
       "\n",
       "    .dataframe tbody tr th {\n",
       "        vertical-align: top;\n",
       "    }\n",
       "\n",
       "    .dataframe thead th {\n",
       "        text-align: right;\n",
       "    }\n",
       "</style>\n",
       "<table border=\"1\" class=\"dataframe\">\n",
       "  <thead>\n",
       "    <tr style=\"text-align: right;\">\n",
       "      <th></th>\n",
       "      <th>Gender</th>\n",
       "      <th>Married</th>\n",
       "      <th>Dependents</th>\n",
       "      <th>Education</th>\n",
       "      <th>Self_Employed</th>\n",
       "      <th>ApplicantIncome</th>\n",
       "      <th>CoapplicantIncome</th>\n",
       "      <th>LoanAmount</th>\n",
       "      <th>Loan_Amount_Term</th>\n",
       "      <th>Credit_History</th>\n",
       "      <th>Property_Area</th>\n",
       "      <th>Loan_Status</th>\n",
       "    </tr>\n",
       "  </thead>\n",
       "  <tbody>\n",
       "    <tr>\n",
       "      <th>0</th>\n",
       "      <td>1</td>\n",
       "      <td>0</td>\n",
       "      <td>0</td>\n",
       "      <td>0</td>\n",
       "      <td>0</td>\n",
       "      <td>5849</td>\n",
       "      <td>0.0</td>\n",
       "      <td>128.0</td>\n",
       "      <td>360.0</td>\n",
       "      <td>1.0</td>\n",
       "      <td>2</td>\n",
       "      <td>1</td>\n",
       "    </tr>\n",
       "    <tr>\n",
       "      <th>1</th>\n",
       "      <td>1</td>\n",
       "      <td>1</td>\n",
       "      <td>1</td>\n",
       "      <td>0</td>\n",
       "      <td>0</td>\n",
       "      <td>4583</td>\n",
       "      <td>1508.0</td>\n",
       "      <td>128.0</td>\n",
       "      <td>360.0</td>\n",
       "      <td>1.0</td>\n",
       "      <td>0</td>\n",
       "      <td>0</td>\n",
       "    </tr>\n",
       "    <tr>\n",
       "      <th>2</th>\n",
       "      <td>1</td>\n",
       "      <td>1</td>\n",
       "      <td>0</td>\n",
       "      <td>0</td>\n",
       "      <td>1</td>\n",
       "      <td>3000</td>\n",
       "      <td>0.0</td>\n",
       "      <td>66.0</td>\n",
       "      <td>360.0</td>\n",
       "      <td>1.0</td>\n",
       "      <td>2</td>\n",
       "      <td>1</td>\n",
       "    </tr>\n",
       "    <tr>\n",
       "      <th>3</th>\n",
       "      <td>1</td>\n",
       "      <td>1</td>\n",
       "      <td>0</td>\n",
       "      <td>1</td>\n",
       "      <td>0</td>\n",
       "      <td>2583</td>\n",
       "      <td>2358.0</td>\n",
       "      <td>120.0</td>\n",
       "      <td>360.0</td>\n",
       "      <td>1.0</td>\n",
       "      <td>2</td>\n",
       "      <td>1</td>\n",
       "    </tr>\n",
       "    <tr>\n",
       "      <th>4</th>\n",
       "      <td>1</td>\n",
       "      <td>0</td>\n",
       "      <td>0</td>\n",
       "      <td>0</td>\n",
       "      <td>0</td>\n",
       "      <td>6000</td>\n",
       "      <td>0.0</td>\n",
       "      <td>141.0</td>\n",
       "      <td>360.0</td>\n",
       "      <td>1.0</td>\n",
       "      <td>2</td>\n",
       "      <td>1</td>\n",
       "    </tr>\n",
       "    <tr>\n",
       "      <th>...</th>\n",
       "      <td>...</td>\n",
       "      <td>...</td>\n",
       "      <td>...</td>\n",
       "      <td>...</td>\n",
       "      <td>...</td>\n",
       "      <td>...</td>\n",
       "      <td>...</td>\n",
       "      <td>...</td>\n",
       "      <td>...</td>\n",
       "      <td>...</td>\n",
       "      <td>...</td>\n",
       "      <td>...</td>\n",
       "    </tr>\n",
       "    <tr>\n",
       "      <th>609</th>\n",
       "      <td>0</td>\n",
       "      <td>0</td>\n",
       "      <td>0</td>\n",
       "      <td>0</td>\n",
       "      <td>0</td>\n",
       "      <td>2900</td>\n",
       "      <td>0.0</td>\n",
       "      <td>71.0</td>\n",
       "      <td>360.0</td>\n",
       "      <td>1.0</td>\n",
       "      <td>0</td>\n",
       "      <td>1</td>\n",
       "    </tr>\n",
       "    <tr>\n",
       "      <th>610</th>\n",
       "      <td>1</td>\n",
       "      <td>1</td>\n",
       "      <td>3</td>\n",
       "      <td>0</td>\n",
       "      <td>0</td>\n",
       "      <td>4106</td>\n",
       "      <td>0.0</td>\n",
       "      <td>40.0</td>\n",
       "      <td>180.0</td>\n",
       "      <td>1.0</td>\n",
       "      <td>0</td>\n",
       "      <td>1</td>\n",
       "    </tr>\n",
       "    <tr>\n",
       "      <th>611</th>\n",
       "      <td>1</td>\n",
       "      <td>1</td>\n",
       "      <td>1</td>\n",
       "      <td>0</td>\n",
       "      <td>0</td>\n",
       "      <td>8072</td>\n",
       "      <td>240.0</td>\n",
       "      <td>253.0</td>\n",
       "      <td>360.0</td>\n",
       "      <td>1.0</td>\n",
       "      <td>2</td>\n",
       "      <td>1</td>\n",
       "    </tr>\n",
       "    <tr>\n",
       "      <th>612</th>\n",
       "      <td>1</td>\n",
       "      <td>1</td>\n",
       "      <td>2</td>\n",
       "      <td>0</td>\n",
       "      <td>0</td>\n",
       "      <td>7583</td>\n",
       "      <td>0.0</td>\n",
       "      <td>187.0</td>\n",
       "      <td>360.0</td>\n",
       "      <td>1.0</td>\n",
       "      <td>2</td>\n",
       "      <td>1</td>\n",
       "    </tr>\n",
       "    <tr>\n",
       "      <th>613</th>\n",
       "      <td>0</td>\n",
       "      <td>0</td>\n",
       "      <td>0</td>\n",
       "      <td>0</td>\n",
       "      <td>1</td>\n",
       "      <td>4583</td>\n",
       "      <td>0.0</td>\n",
       "      <td>133.0</td>\n",
       "      <td>360.0</td>\n",
       "      <td>0.0</td>\n",
       "      <td>1</td>\n",
       "      <td>0</td>\n",
       "    </tr>\n",
       "  </tbody>\n",
       "</table>\n",
       "<p>614 rows × 12 columns</p>\n",
       "</div>"
      ],
      "text/plain": [
       "     Gender  Married  Dependents  Education  Self_Employed  ApplicantIncome  \\\n",
       "0         1        0           0          0              0             5849   \n",
       "1         1        1           1          0              0             4583   \n",
       "2         1        1           0          0              1             3000   \n",
       "3         1        1           0          1              0             2583   \n",
       "4         1        0           0          0              0             6000   \n",
       "..      ...      ...         ...        ...            ...              ...   \n",
       "609       0        0           0          0              0             2900   \n",
       "610       1        1           3          0              0             4106   \n",
       "611       1        1           1          0              0             8072   \n",
       "612       1        1           2          0              0             7583   \n",
       "613       0        0           0          0              1             4583   \n",
       "\n",
       "     CoapplicantIncome  LoanAmount  Loan_Amount_Term  Credit_History  \\\n",
       "0                  0.0       128.0             360.0             1.0   \n",
       "1               1508.0       128.0             360.0             1.0   \n",
       "2                  0.0        66.0             360.0             1.0   \n",
       "3               2358.0       120.0             360.0             1.0   \n",
       "4                  0.0       141.0             360.0             1.0   \n",
       "..                 ...         ...               ...             ...   \n",
       "609                0.0        71.0             360.0             1.0   \n",
       "610                0.0        40.0             180.0             1.0   \n",
       "611              240.0       253.0             360.0             1.0   \n",
       "612                0.0       187.0             360.0             1.0   \n",
       "613                0.0       133.0             360.0             0.0   \n",
       "\n",
       "     Property_Area  Loan_Status  \n",
       "0                2            1  \n",
       "1                0            0  \n",
       "2                2            1  \n",
       "3                2            1  \n",
       "4                2            1  \n",
       "..             ...          ...  \n",
       "609              0            1  \n",
       "610              0            1  \n",
       "611              2            1  \n",
       "612              2            1  \n",
       "613              1            0  \n",
       "\n",
       "[614 rows x 12 columns]"
      ]
     },
     "execution_count": 30,
     "metadata": {},
     "output_type": "execute_result"
    }
   ],
   "source": [
    "# We can drop Loan_ID column from data as it is not contrIibuting any relavant information\n",
    "\n",
    "df=df.drop(['Loan_ID'], axis=1)\n",
    "df"
   ]
  },
  {
   "cell_type": "code",
   "execution_count": 31,
   "id": "972f866a",
   "metadata": {},
   "outputs": [
    {
     "data": {
      "text/plain": [
       "(614, 12)"
      ]
     },
     "execution_count": 31,
     "metadata": {},
     "output_type": "execute_result"
    }
   ],
   "source": [
    "# Treating outliers with z-score method\n",
    "\n",
    "from scipy.stats import zscore\n",
    "\n",
    "z = np.abs(zscore(df))\n",
    "z.shape"
   ]
  },
  {
   "cell_type": "code",
   "execution_count": 32,
   "id": "63869ac0",
   "metadata": {},
   "outputs": [
    {
     "name": "stdout",
     "output_type": "stream",
     "text": [
      "(array([  9,  14,  68,  94, 126, 130, 133, 155, 155, 171, 171, 177, 177,\n",
      "       183, 185, 242, 262, 278, 308, 313, 333, 333, 369, 402, 409, 417,\n",
      "       432, 443, 487, 495, 497, 506, 523, 525, 546, 561, 575, 581, 585,\n",
      "       600, 604], dtype=int64), array([6, 8, 8, 8, 5, 7, 8, 5, 7, 5, 7, 6, 7, 5, 5, 8, 8, 7, 7, 8, 5, 7,\n",
      "       7, 6, 5, 6, 7, 5, 7, 8, 8, 7, 7, 7, 8, 7, 8, 6, 8, 6, 7],\n",
      "      dtype=int64))\n"
     ]
    }
   ],
   "source": [
    "# setting threshold as 3\n",
    "threshold = 3\n",
    "print(np.where(z>3))"
   ]
  },
  {
   "cell_type": "code",
   "execution_count": 33,
   "id": "7ccc25be",
   "metadata": {},
   "outputs": [
    {
     "data": {
      "text/plain": [
       "(577, 12)"
      ]
     },
     "execution_count": 33,
     "metadata": {},
     "output_type": "execute_result"
    }
   ],
   "source": [
    "# Removing the outlier \n",
    "df=df[(z<3).all(axis=1)]\n",
    "df.shape"
   ]
  },
  {
   "cell_type": "code",
   "execution_count": 34,
   "id": "6e9e1f89",
   "metadata": {},
   "outputs": [
    {
     "data": {
      "text/plain": [
       "6.412478336221837"
      ]
     },
     "execution_count": 34,
     "metadata": {},
     "output_type": "execute_result"
    }
   ],
   "source": [
    "#data loss\n",
    "loss=(614-577)/577*100\n",
    "loss"
   ]
  },
  {
   "cell_type": "markdown",
   "id": "d233c078",
   "metadata": {},
   "source": [
    "- As data loss is only 6% therefore we can drop the outliers"
   ]
  },
  {
   "cell_type": "code",
   "execution_count": 35,
   "id": "f7b055c5",
   "metadata": {},
   "outputs": [
    {
     "name": "stdout",
     "output_type": "stream",
     "text": [
      "shape of x is:  (577, 11)\n",
      "shape of y is:  (577,)\n"
     ]
    }
   ],
   "source": [
    "# Splitting dataset into features and target variable\n",
    "\n",
    "x = df.drop(['Loan_Status'], axis=1)\n",
    "y = df['Loan_Status']\n",
    "print(\"shape of x is: \", x.shape)\n",
    "print(\"shape of y is: \", y.shape)\n"
   ]
  },
  {
   "cell_type": "code",
   "execution_count": 37,
   "id": "01d1c828",
   "metadata": {},
   "outputs": [
    {
     "data": {
      "text/plain": [
       "array([[ 0.47713685, -1.36251079, -0.80924269, ...,  0.13078824,\n",
       "         0.41851254,  1.1948064 ],\n",
       "       [ 0.47713685,  0.73393914,  0.90286851, ...,  0.13078824,\n",
       "         0.41851254, -1.34019905],\n",
       "       [ 0.47713685,  0.73393914, -0.80924269, ...,  0.13078824,\n",
       "         0.41851254,  1.1948064 ],\n",
       "       ...,\n",
       "       [ 0.47713685,  0.73393914,  0.90286851, ...,  0.13078824,\n",
       "         0.41851254,  1.1948064 ],\n",
       "       [ 0.47713685,  0.73393914,  1.34467098, ...,  0.13078824,\n",
       "         0.41851254,  1.1948064 ],\n",
       "       [-2.09583477, -1.36251079, -0.80924269, ...,  0.13078824,\n",
       "        -2.38941464,  0.01546372]])"
      ]
     },
     "execution_count": 37,
     "metadata": {},
     "output_type": "execute_result"
    }
   ],
   "source": [
    "# Removing Skewness Using Power Transform\n",
    "from sklearn.preprocessing import power_transform\n",
    "X=power_transform(x, method='yeo-johnson')\n",
    "X"
   ]
  },
  {
   "cell_type": "code",
   "execution_count": 39,
   "id": "184a4335",
   "metadata": {},
   "outputs": [
    {
     "data": {
      "text/plain": [
       "0    -1.622920\n",
       "1    -0.630211\n",
       "2     0.478360\n",
       "3     1.306588\n",
       "4     2.252848\n",
       "5     0.027981\n",
       "6    -0.191876\n",
       "7     0.048425\n",
       "8     0.727533\n",
       "9    -1.976043\n",
       "10   -0.155094\n",
       "dtype: float64"
      ]
     },
     "execution_count": 39,
     "metadata": {},
     "output_type": "execute_result"
    }
   ],
   "source": [
    "#checking for skewness is removed or not\n",
    "skew_df=pd.DataFrame(X)\n",
    "skew_df.skew()"
   ]
  },
  {
   "cell_type": "markdown",
   "id": "fdea0e2f",
   "metadata": {},
   "source": [
    "- the skewness has reduced and is in the desirable range"
   ]
  },
  {
   "cell_type": "code",
   "execution_count": 40,
   "id": "402f14df",
   "metadata": {},
   "outputs": [
    {
     "data": {
      "text/plain": [
       "array([[ 0.47713685, -1.36251079, -0.80924269, ...,  0.13078824,\n",
       "         0.41851254,  1.1948064 ],\n",
       "       [ 0.47713685,  0.73393914,  0.90286851, ...,  0.13078824,\n",
       "         0.41851254, -1.34019905],\n",
       "       [ 0.47713685,  0.73393914, -0.80924269, ...,  0.13078824,\n",
       "         0.41851254,  1.1948064 ],\n",
       "       ...,\n",
       "       [ 0.47713685,  0.73393914,  0.90286851, ...,  0.13078824,\n",
       "         0.41851254,  1.1948064 ],\n",
       "       [ 0.47713685,  0.73393914,  1.34467098, ...,  0.13078824,\n",
       "         0.41851254,  1.1948064 ],\n",
       "       [-2.09583477, -1.36251079, -0.80924269, ...,  0.13078824,\n",
       "        -2.38941464,  0.01546372]])"
      ]
     },
     "execution_count": 40,
     "metadata": {},
     "output_type": "execute_result"
    }
   ],
   "source": [
    "# Standardising the feature data\n",
    "\n",
    "#importing the StandardScaler\n",
    "from sklearn.preprocessing import StandardScaler\n",
    "ss=StandardScaler()\n",
    "X=ss.fit_transform(X)\n",
    "X"
   ]
  },
  {
   "cell_type": "code",
   "execution_count": 41,
   "id": "16e3b772",
   "metadata": {},
   "outputs": [
    {
     "data": {
      "text/plain": [
       "1    398\n",
       "0    179\n",
       "Name: Loan_Status, dtype: int64"
      ]
     },
     "execution_count": 41,
     "metadata": {},
     "output_type": "execute_result"
    }
   ],
   "source": [
    "y.value_counts()"
   ]
  },
  {
   "cell_type": "code",
   "execution_count": 42,
   "id": "3e36c5f0",
   "metadata": {},
   "outputs": [
    {
     "data": {
      "text/plain": [
       "1    398\n",
       "0    398\n",
       "Name: Loan_Status, dtype: int64"
      ]
     },
     "execution_count": 42,
     "metadata": {},
     "output_type": "execute_result"
    }
   ],
   "source": [
    "# Let's balance the target variable using SMOTE()\n",
    "\n",
    "# Importing Libraries for it \n",
    "from imblearn.over_sampling import SMOTE\n",
    "sm=SMOTE()\n",
    "X,Y=sm.fit_resample(X,y)\n",
    "Y.value_counts()"
   ]
  },
  {
   "cell_type": "markdown",
   "id": "89d4427f",
   "metadata": {},
   "source": [
    "- The data looks balanced now"
   ]
  },
  {
   "cell_type": "markdown",
   "id": "118b6198",
   "metadata": {},
   "source": [
    "# MOdel Building"
   ]
  },
  {
   "cell_type": "code",
   "execution_count": 45,
   "id": "a5a79f97",
   "metadata": {},
   "outputs": [],
   "source": [
    "# Splitting data into training and testing subsets\n",
    "\n",
    "from sklearn.model_selection import train_test_split\n",
    "from sklearn.linear_model import LogisticRegression\n",
    "from sklearn.metrics import accuracy_score, confusion_matrix, classification_report"
   ]
  },
  {
   "cell_type": "code",
   "execution_count": 46,
   "id": "f04f5bb9",
   "metadata": {},
   "outputs": [],
   "source": [
    "lg = LogisticRegression()"
   ]
  },
  {
   "cell_type": "code",
   "execution_count": null,
   "id": "db1dd471",
   "metadata": {},
   "outputs": [],
   "source": [
    "#Finding the random state\n",
    "\n",
    "maxaccu=0\n",
    "maxrs=0\n",
    "for i in range(1,100):\n",
    "    print(\"At Random State \", i)\n",
    "    Xtrain,Xtest,Ytrain,Ytest=train_test_split(X,Y,test_size=.20, random_state=i)\n",
    "    lg.fit(Xtrain,Ytrain)\n",
    "    predlg=lg.predict(Xtest)\n",
    "    trainlg=lg.predict(Xtrain)\n",
    "    acc=accuracy_score(Ytest,predlg)\n",
    "    accu=accuracy_score(Ytrain,trainlg)\n",
    "    print('testing accuracy', acc, 'randon state',i)\n",
    "    print('Training Accuracy', accu, 'random state', i)\n",
    "    if acc>maxaccu:\n",
    "        maxaccu=acc\n",
    "        maxrs=i\n",
    "        print('max accuracy', maxaccu , 'max_random_state', i)"
   ]
  },
  {
   "cell_type": "code",
   "execution_count": 48,
   "id": "790e9366",
   "metadata": {},
   "outputs": [
    {
     "name": "stdout",
     "output_type": "stream",
     "text": [
      "max accuracy 0.825 max_random_state 99\n"
     ]
    }
   ],
   "source": [
    "# Checking for the Max. Accuracy at Random State\n",
    "print('max accuracy', maxaccu , 'max_random_state', i)"
   ]
  },
  {
   "cell_type": "markdown",
   "id": "cd1108db",
   "metadata": {},
   "source": [
    "Using random state = 99 for the test train data split"
   ]
  },
  {
   "cell_type": "code",
   "execution_count": 57,
   "id": "5020226d",
   "metadata": {},
   "outputs": [],
   "source": [
    "X_train, X_test, Y_train, Y_test = train_test_split(X, Y, test_size = 0.2, random_state = 99)"
   ]
  },
  {
   "cell_type": "code",
   "execution_count": 58,
   "id": "81f5992d",
   "metadata": {},
   "outputs": [
    {
     "name": "stdout",
     "output_type": "stream",
     "text": [
      "Shape of X_train is : (636, 11)\n",
      "Shape of X_test is : (160, 11)\n",
      "Shape of Y_train is : (636,)\n",
      "Shape of Y_test is : (160,)\n"
     ]
    }
   ],
   "source": [
    "print(\"Shape of X_train is :\", X_train.shape)\n",
    "print(\"Shape of X_test is :\", X_test.shape)\n",
    "print(\"Shape of Y_train is :\", Y_train.shape)\n",
    "print(\"Shape of Y_test is :\", Y_test.shape)\n"
   ]
  },
  {
   "cell_type": "markdown",
   "id": "0700ee3b",
   "metadata": {},
   "source": [
    "# 1. Logistic Regression"
   ]
  },
  {
   "cell_type": "code",
   "execution_count": 59,
   "id": "6ef88abc",
   "metadata": {},
   "outputs": [
    {
     "name": "stdout",
     "output_type": "stream",
     "text": [
      "Training accuracy is:  0.7484276729559748\n",
      "Testing accuracy is:  0.71875\n",
      "[[45 35]\n",
      " [10 70]]\n",
      "              precision    recall  f1-score   support\n",
      "\n",
      "           0       0.82      0.56      0.67        80\n",
      "           1       0.67      0.88      0.76        80\n",
      "\n",
      "    accuracy                           0.72       160\n",
      "   macro avg       0.74      0.72      0.71       160\n",
      "weighted avg       0.74      0.72      0.71       160\n",
      "\n"
     ]
    }
   ],
   "source": [
    "lg = LogisticRegression()\n",
    "lg.fit(X_train, Y_train)\n",
    "Y_pred_train_lg = lg.predict(X_train)\n",
    "Y_pred_test_lg = lg.predict(X_test)\n",
    "print(\"Training accuracy is: \", accuracy_score(Y_train, Y_pred_train_lg))\n",
    "print(\"Testing accuracy is: \", accuracy_score(Y_test, Y_pred_test_lg))\n",
    "print(confusion_matrix(Y_test, Y_pred_test_lg))\n",
    "print(classification_report(Y_test, Y_pred_test_lg))"
   ]
  },
  {
   "cell_type": "code",
   "execution_count": 60,
   "id": "4a6a08b8",
   "metadata": {},
   "outputs": [],
   "source": [
    "#AUC ROC Curve\n",
    "# Importing libraries\n",
    "from sklearn.metrics import roc_curve\n",
    "from sklearn.metrics import roc_auc_score"
   ]
  },
  {
   "cell_type": "code",
   "execution_count": 61,
   "id": "c572e8c0",
   "metadata": {},
   "outputs": [
    {
     "data": {
      "image/png": "[encoded data removed]",
      "text/plain": [
       "<Figure size 432x288 with 1 Axes>"
      ]
     },
     "metadata": {
      "needs_background": "light"
     },
     "output_type": "display_data"
    },
    {
     "data": {
      "text/plain": [
       "0.71875"
      ]
     },
     "execution_count": 61,
     "metadata": {},
     "output_type": "execute_result"
    }
   ],
   "source": [
    "#AUC ROC curve for Logistic regression\n",
    "Y_pred_prob=lg.predict_proba(X_test)[:,1]\n",
    "fpr,tpr,threshold=roc_curve(Y_test,Y_pred_prob,pos_label=1)\n",
    "plt.plot([0,1],[0,1],'k--')\n",
    "plt.plot(fpr,tpr,label='Linear Regression')\n",
    "plt.xlabel('False positive rate')\n",
    "plt.ylabel('True positive rate')\n",
    "plt.title('Logistic Regression')\n",
    "plt.show()\n",
    "\n",
    "auc_score=roc_auc_score(Y_test,lg.predict(X_test))\n",
    "\n",
    "auc_score"
   ]
  },
  {
   "cell_type": "markdown",
   "id": "62208adb",
   "metadata": {},
   "source": [
    "# 2. Decision Tree Classifier"
   ]
  },
  {
   "cell_type": "code",
   "execution_count": 62,
   "id": "6914a067",
   "metadata": {},
   "outputs": [
    {
     "name": "stdout",
     "output_type": "stream",
     "text": [
      "Training accuracy is:  1.0\n",
      "Testing accuracy is:  0.80625\n",
      "[[63 17]\n",
      " [14 66]]\n",
      "              precision    recall  f1-score   support\n",
      "\n",
      "           0       0.82      0.79      0.80        80\n",
      "           1       0.80      0.82      0.81        80\n",
      "\n",
      "    accuracy                           0.81       160\n",
      "   macro avg       0.81      0.81      0.81       160\n",
      "weighted avg       0.81      0.81      0.81       160\n",
      "\n"
     ]
    }
   ],
   "source": [
    "from sklearn.tree import DecisionTreeClassifier\n",
    "dtc=DecisionTreeClassifier()\n",
    "dtc.fit(X_train,Y_train)\n",
    "Y_pred_train_dtc = dtc.predict(X_train)\n",
    "Y_pred_test_dtc = dtc.predict(X_test)\n",
    "print(\"Training accuracy is: \", accuracy_score(Y_train, Y_pred_train_dtc))\n",
    "print(\"Testing accuracy is: \", accuracy_score(Y_test, Y_pred_test_dtc))\n",
    "print(confusion_matrix(Y_test, Y_pred_test_dtc))\n",
    "print(classification_report(Y_test, Y_pred_test_dtc))"
   ]
  },
  {
   "cell_type": "code",
   "execution_count": 63,
   "id": "062ef132",
   "metadata": {},
   "outputs": [
    {
     "data": {
      "image/png": "[encoded data removed]",
      "text/plain": [
       "<Figure size 432x288 with 1 Axes>"
      ]
     },
     "metadata": {
      "needs_background": "light"
     },
     "output_type": "display_data"
    },
    {
     "data": {
      "text/plain": [
       "0.8062499999999999"
      ]
     },
     "execution_count": 63,
     "metadata": {},
     "output_type": "execute_result"
    }
   ],
   "source": [
    "#AUC ROC curve for Decision Tree Classifier\n",
    "Y_pred_prob=dtc.predict_proba(X_test)[:,1]\n",
    "fpr,tpr,threshold=roc_curve(Y_test,Y_pred_prob,pos_label=1)\n",
    "plt.plot([0,1],[0,1],'k--')\n",
    "plt.plot(fpr,tpr,label='Decision Tree Classifier')\n",
    "plt.xlabel('False positive rate')\n",
    "plt.ylabel('True positive rate')\n",
    "plt.title('Decision Tree Classifier')\n",
    "plt.show()\n",
    "\n",
    "auc_score=roc_auc_score(Y_test,dtc.predict(X_test))\n",
    "\n",
    "auc_score"
   ]
  },
  {
   "cell_type": "markdown",
   "id": "c6aab542",
   "metadata": {},
   "source": [
    "# 3. Random Forest Classifier"
   ]
  },
  {
   "cell_type": "code",
   "execution_count": 64,
   "id": "4b426bd2",
   "metadata": {},
   "outputs": [
    {
     "name": "stdout",
     "output_type": "stream",
     "text": [
      "Training accuracy is:  1.0\n",
      "Testing accuracy is:  0.84375\n",
      "[[61 19]\n",
      " [ 6 74]]\n",
      "              precision    recall  f1-score   support\n",
      "\n",
      "           0       0.91      0.76      0.83        80\n",
      "           1       0.80      0.93      0.86        80\n",
      "\n",
      "    accuracy                           0.84       160\n",
      "   macro avg       0.85      0.84      0.84       160\n",
      "weighted avg       0.85      0.84      0.84       160\n",
      "\n"
     ]
    }
   ],
   "source": [
    "# Using RandomForestClassifier\n",
    "from sklearn.ensemble import RandomForestClassifier\n",
    "rf=RandomForestClassifier()\n",
    "rf.fit(X_train,Y_train)\n",
    "Y_pred_train_rf = rf.predict(X_train)\n",
    "Y_pred_test_rf = rf.predict(X_test)\n",
    "print(\"Training accuracy is: \", accuracy_score(Y_train, Y_pred_train_rf))\n",
    "print(\"Testing accuracy is: \", accuracy_score(Y_test, Y_pred_test_rf))\n",
    "print(confusion_matrix(Y_test, Y_pred_test_rf))\n",
    "print(classification_report(Y_test, Y_pred_test_rf))"
   ]
  },
  {
   "cell_type": "code",
   "execution_count": 65,
   "id": "4164bafd",
   "metadata": {},
   "outputs": [
    {
     "data": {
      "image/png": "[encoded data removed]",
      "text/plain": [
       "<Figure size 432x288 with 1 Axes>"
      ]
     },
     "metadata": {
      "needs_background": "light"
     },
     "output_type": "display_data"
    },
    {
     "data": {
      "text/plain": [
       "0.84375"
      ]
     },
     "execution_count": 65,
     "metadata": {},
     "output_type": "execute_result"
    }
   ],
   "source": [
    "#AUC ROC curve for Random Forest Classifier Classifier\n",
    "Y_pred_prob=rf.predict_proba(X_test)[:,1]\n",
    "fpr,tpr,threshold=roc_curve(Y_test,Y_pred_prob,pos_label=1)\n",
    "plt.plot([0,1],[0,1],'k--')\n",
    "plt.plot(fpr,tpr,label='Random Forest Classifier')\n",
    "plt.xlabel('False positive rate')\n",
    "plt.ylabel('True positive rate')\n",
    "plt.title('Random Forest Classifier')\n",
    "plt.show()\n",
    "\n",
    "auc_score=roc_auc_score(Y_test,rf.predict(X_test))\n",
    "\n",
    "auc_score"
   ]
  },
  {
   "cell_type": "markdown",
   "id": "8563582f",
   "metadata": {},
   "source": [
    "# 4. SVC"
   ]
  },
  {
   "cell_type": "code",
   "execution_count": 66,
   "id": "1758a4cb",
   "metadata": {},
   "outputs": [
    {
     "name": "stdout",
     "output_type": "stream",
     "text": [
      "Training accuracy is:  0.8160377358490566\n",
      "Testing accuracy is:  0.8\n",
      "[[54 26]\n",
      " [ 6 74]]\n",
      "              precision    recall  f1-score   support\n",
      "\n",
      "           0       0.90      0.68      0.77        80\n",
      "           1       0.74      0.93      0.82        80\n",
      "\n",
      "    accuracy                           0.80       160\n",
      "   macro avg       0.82      0.80      0.80       160\n",
      "weighted avg       0.82      0.80      0.80       160\n",
      "\n"
     ]
    }
   ],
   "source": [
    "from sklearn.svm import SVC\n",
    "svc=SVC(probability=True)\n",
    "svc.fit(X_train,Y_train)\n",
    "Y_pred_train_svc = svc.predict(X_train)\n",
    "Y_pred_test_svc = svc.predict(X_test)\n",
    "print(\"Training accuracy is: \", accuracy_score(Y_train, Y_pred_train_svc))\n",
    "print(\"Testing accuracy is: \", accuracy_score(Y_test, Y_pred_test_svc))\n",
    "print(confusion_matrix(Y_test, Y_pred_test_svc))\n",
    "print(classification_report(Y_test, Y_pred_test_svc))"
   ]
  },
  {
   "cell_type": "code",
   "execution_count": 67,
   "id": "07d910e9",
   "metadata": {},
   "outputs": [
    {
     "data": {
      "image/png": "[encoded data removed]",
      "text/plain": [
       "<Figure size 432x288 with 1 Axes>"
      ]
     },
     "metadata": {
      "needs_background": "light"
     },
     "output_type": "display_data"
    },
    {
     "data": {
      "text/plain": [
       "0.8"
      ]
     },
     "execution_count": 67,
     "metadata": {},
     "output_type": "execute_result"
    }
   ],
   "source": [
    "#AUC ROC curve for  SVC\n",
    "Y_pred_prob=svc.predict_proba(X_test)[:,1]\n",
    "fpr,tpr,threshold=roc_curve(Y_test,Y_pred_prob,pos_label=1)\n",
    "plt.plot([0,1],[0,1],'k--')\n",
    "plt.plot(fpr,tpr,label='SVC')\n",
    "plt.xlabel('False positive rate')\n",
    "plt.ylabel('True positive rate')\n",
    "plt.title('SVC')\n",
    "plt.show()\n",
    "\n",
    "auc_score=roc_auc_score(Y_test,svc.predict(X_test))\n",
    "\n",
    "auc_score"
   ]
  },
  {
   "cell_type": "markdown",
   "id": "2141ab60",
   "metadata": {},
   "source": [
    "# 5. KNN"
   ]
  },
  {
   "cell_type": "code",
   "execution_count": 69,
   "id": "b6befdd6",
   "metadata": {},
   "outputs": [
    {
     "name": "stdout",
     "output_type": "stream",
     "text": [
      "Training accuracy is:  0.8380503144654088\n",
      "Testing accuracy is:  0.7625\n",
      "[[60 20]\n",
      " [18 62]]\n",
      "              precision    recall  f1-score   support\n",
      "\n",
      "           0       0.77      0.75      0.76        80\n",
      "           1       0.76      0.78      0.77        80\n",
      "\n",
      "    accuracy                           0.76       160\n",
      "   macro avg       0.76      0.76      0.76       160\n",
      "weighted avg       0.76      0.76      0.76       160\n",
      "\n"
     ]
    }
   ],
   "source": [
    "from sklearn.neighbors import KNeighborsClassifier\n",
    "knn=KNeighborsClassifier()\n",
    "knn.fit(X_train,Y_train)\n",
    "Y_pred_train_knn = knn.predict(X_train)\n",
    "Y_pred_test_knn = knn.predict(X_test)\n",
    "print(\"Training accuracy is: \", accuracy_score(Y_train, Y_pred_train_knn))\n",
    "print(\"Testing accuracy is: \", accuracy_score(Y_test, Y_pred_test_knn))\n",
    "print(confusion_matrix(Y_test, Y_pred_test_knn))\n",
    "print(classification_report(Y_test, Y_pred_test_knn))"
   ]
  },
  {
   "cell_type": "code",
   "execution_count": 70,
   "id": "91447d77",
   "metadata": {},
   "outputs": [
    {
     "data": {
      "image/png": "[encoded data removed]",
      "text/plain": [
       "<Figure size 432x288 with 1 Axes>"
      ]
     },
     "metadata": {
      "needs_background": "light"
     },
     "output_type": "display_data"
    },
    {
     "data": {
      "text/plain": [
       "0.7625"
      ]
     },
     "execution_count": 70,
     "metadata": {},
     "output_type": "execute_result"
    }
   ],
   "source": [
    "#AUC ROC curve for  KNeighborsClassifier\n",
    "Y_pred_prob=knn.predict_proba(X_test)[:,1]\n",
    "fpr,tpr,threshold=roc_curve(Y_test,Y_pred_prob,pos_label=1)\n",
    "plt.plot([0,1],[0,1],'k--')\n",
    "plt.plot(fpr,tpr,label='KNeighborsClassifier')\n",
    "plt.xlabel('False positive rate')\n",
    "plt.ylabel('True positive rate')\n",
    "plt.title('KNeighborsClassifier')\n",
    "plt.show()\n",
    "\n",
    "auc_score=roc_auc_score(Y_test,knn.predict(X_test))\n",
    "\n",
    "auc_score"
   ]
  },
  {
   "cell_type": "markdown",
   "id": "f988d148",
   "metadata": {},
   "source": [
    "# 6. Gradient Boosting Classifier"
   ]
  },
  {
   "cell_type": "code",
   "execution_count": 77,
   "id": "017a8a59",
   "metadata": {},
   "outputs": [
    {
     "name": "stdout",
     "output_type": "stream",
     "text": [
      "Training accuracy is:  0.9072327044025157\n",
      "Testing accuracy is:  0.84375\n",
      "[[60 20]\n",
      " [ 5 75]]\n",
      "              precision    recall  f1-score   support\n",
      "\n",
      "           0       0.92      0.75      0.83        80\n",
      "           1       0.79      0.94      0.86        80\n",
      "\n",
      "    accuracy                           0.84       160\n",
      "   macro avg       0.86      0.84      0.84       160\n",
      "weighted avg       0.86      0.84      0.84       160\n",
      "\n"
     ]
    }
   ],
   "source": [
    "from sklearn.ensemble import GradientBoostingClassifier\n",
    "gbc=GradientBoostingClassifier()\n",
    "gbc.fit(X_train,Y_train)\n",
    "Y_pred_train_gbc = gbc.predict(X_train)\n",
    "Y_pred_test_gbc = gbc.predict(X_test)\n",
    "print(\"Training accuracy is: \", accuracy_score(Y_train, Y_pred_train_gbc))\n",
    "print(\"Testing accuracy is: \", accuracy_score(Y_test, Y_pred_test_gbc))\n",
    "print(confusion_matrix(Y_test, Y_pred_test_gbc))\n",
    "print(classification_report(Y_test, Y_pred_test_gbc))"
   ]
  },
  {
   "cell_type": "code",
   "execution_count": 78,
   "id": "83d00d42",
   "metadata": {},
   "outputs": [
    {
     "data": {
      "image/png": "[encoded data removed]",
      "text/plain": [
       "<Figure size 432x288 with 1 Axes>"
      ]
     },
     "metadata": {
      "needs_background": "light"
     },
     "output_type": "display_data"
    },
    {
     "data": {
      "text/plain": [
       "0.84375"
      ]
     },
     "execution_count": 78,
     "metadata": {},
     "output_type": "execute_result"
    }
   ],
   "source": [
    "#AUC ROC curve for  GradientBoostingClassifier\n",
    "Y_pred_prob=gbc.predict_proba(X_test)[:,1]\n",
    "fpr,tpr,threshold=roc_curve(Y_test,Y_pred_prob,pos_label=1)\n",
    "plt.plot([0,1],[0,1],'k--')\n",
    "plt.plot(fpr,tpr,label='GradientBoostingClassifier')\n",
    "plt.xlabel('False positive rate')\n",
    "plt.ylabel('True positive rate')\n",
    "plt.title('GradientBoostingClassifier')\n",
    "plt.show()\n",
    "\n",
    "auc_score=roc_auc_score(Y_test,gbc.predict(X_test))\n",
    "\n",
    "auc_score"
   ]
  },
  {
   "cell_type": "markdown",
   "id": "52feb950",
   "metadata": {},
   "source": [
    "# 7. AdaBoosting Classifier"
   ]
  },
  {
   "cell_type": "code",
   "execution_count": 74,
   "id": "63534d8b",
   "metadata": {},
   "outputs": [
    {
     "name": "stdout",
     "output_type": "stream",
     "text": [
      "Training accuracy is:  0.8301886792452831\n",
      "Testing accuracy is:  0.8125\n",
      "[[59 21]\n",
      " [ 9 71]]\n",
      "              precision    recall  f1-score   support\n",
      "\n",
      "           0       0.87      0.74      0.80        80\n",
      "           1       0.77      0.89      0.83        80\n",
      "\n",
      "    accuracy                           0.81       160\n",
      "   macro avg       0.82      0.81      0.81       160\n",
      "weighted avg       0.82      0.81      0.81       160\n",
      "\n"
     ]
    }
   ],
   "source": [
    "from sklearn.ensemble import AdaBoostClassifier\n",
    "ada=AdaBoostClassifier()\n",
    "ada.fit(X_train,Y_train)\n",
    "Y_pred_train_ada = ada.predict(X_train)\n",
    "Y_pred_test_ada = ada.predict(X_test)\n",
    "print(\"Training accuracy is: \", accuracy_score(Y_train, Y_pred_train_ada))\n",
    "print(\"Testing accuracy is: \", accuracy_score(Y_test, Y_pred_test_ada))\n",
    "print(confusion_matrix(Y_test, Y_pred_test_ada))\n",
    "print(classification_report(Y_test, Y_pred_test_ada))"
   ]
  },
  {
   "cell_type": "code",
   "execution_count": 75,
   "id": "ded97629",
   "metadata": {},
   "outputs": [
    {
     "data": {
      "image/png": "[encoded data removed]",
      "text/plain": [
       "<Figure size 432x288 with 1 Axes>"
      ]
     },
     "metadata": {
      "needs_background": "light"
     },
     "output_type": "display_data"
    },
    {
     "data": {
      "text/plain": [
       "0.8125"
      ]
     },
     "execution_count": 75,
     "metadata": {},
     "output_type": "execute_result"
    }
   ],
   "source": [
    "#AUC ROC curve for  AdaBoostClassifier\n",
    "Y_pred_prob=ada.predict_proba(X_test)[:,1]\n",
    "fpr,tpr,threshold=roc_curve(Y_test,Y_pred_prob,pos_label=1)\n",
    "plt.plot([0,1],[0,1],'k--')\n",
    "plt.plot(fpr,tpr,label='AdaBoostClassifier')\n",
    "plt.xlabel('False positive rate')\n",
    "plt.ylabel('True positive rate')\n",
    "plt.title('AdaBoostClassifier')\n",
    "plt.show()\n",
    "\n",
    "auc_score=roc_auc_score(Y_test,ada.predict(X_test))\n",
    "\n",
    "auc_score"
   ]
  },
  {
   "cell_type": "markdown",
   "id": "69957d28",
   "metadata": {},
   "source": [
    "# Cross-validation"
   ]
  },
  {
   "cell_type": "code",
   "execution_count": 79,
   "id": "69d3b17f",
   "metadata": {},
   "outputs": [
    {
     "name": "stdout",
     "output_type": "stream",
     "text": [
      "taking cv = 2\n",
      "Cross validation score for  LogisticRegression()  is [0.74874372 0.74874372]\n",
      "Mean of Cross Val. score is  0.7487437185929648\n",
      "taking cv = 3\n",
      "Cross validation score for  LogisticRegression()  is [0.73308271 0.75849057 0.71698113]\n",
      "Mean of Cross Val. score is  0.7361848016267083\n",
      "taking cv = 4\n",
      "Cross validation score for  LogisticRegression()  is [0.70854271 0.77386935 0.77889447 0.69346734]\n",
      "Mean of Cross Val. score is  0.7386934673366834\n",
      "taking cv = 5\n",
      "Cross validation score for  LogisticRegression()  is [0.69375    0.75471698 0.81132075 0.72327044 0.70440252]\n",
      "Mean of Cross Val. score is  0.7374921383647799\n",
      "taking cv = 6\n",
      "Cross validation score for  LogisticRegression()  is [0.72180451 0.73684211 0.72932331 0.78947368 0.72727273 0.71969697]\n",
      "Mean of Cross Val. score is  0.7374022176653757\n",
      "taking cv = 7\n",
      "Cross validation score for  LogisticRegression()  is [0.73684211 0.71052632 0.75438596 0.78070175 0.77192982 0.7079646\n",
      " 0.72566372]\n",
      "Mean of Cross Val. score is  0.7411448976423359\n",
      "taking cv = 8\n",
      "Cross validation score for  LogisticRegression()  is [0.74       0.68       0.75       0.77       0.7979798  0.74747475\n",
      " 0.67676768 0.71717172]\n",
      "Mean of Cross Val. score is  0.7349242424242424\n",
      "taking cv = 9\n",
      "Cross validation score for  LogisticRegression()  is [0.76404494 0.66292135 0.7752809  0.71910112 0.78409091 0.79545455\n",
      " 0.73863636 0.65909091 0.72727273]\n",
      "Mean of Cross Val. score is  0.7362104187946885\n",
      "taking cv = 2\n",
      "Cross validation score for  DecisionTreeClassifier()  is [0.74623116 0.78140704]\n",
      "Mean of Cross Val. score is  0.7638190954773869\n",
      "taking cv = 3\n",
      "Cross validation score for  DecisionTreeClassifier()  is [0.7593985  0.75849057 0.78113208]\n",
      "Mean of Cross Val. score is  0.7663403792500119\n",
      "taking cv = 4\n",
      "Cross validation score for  DecisionTreeClassifier()  is [0.69346734 0.76884422 0.85427136 0.8040201 ]\n",
      "Mean of Cross Val. score is  0.7801507537688442\n",
      "taking cv = 5\n",
      "Cross validation score for  DecisionTreeClassifier()  is [0.6875     0.71069182 0.81132075 0.81761006 0.83018868]\n",
      "Mean of Cross Val. score is  0.7714622641509434\n",
      "taking cv = 6\n",
      "Cross validation score for  DecisionTreeClassifier()  is [0.70676692 0.72180451 0.78195489 0.86466165 0.81060606 0.83333333]\n",
      "Mean of Cross Val. score is  0.786521227310701\n",
      "taking cv = 7\n",
      "Cross validation score for  DecisionTreeClassifier()  is [0.64912281 0.69298246 0.77192982 0.80701754 0.88596491 0.78761062\n",
      " 0.78761062]\n",
      "Mean of Cross Val. score is  0.7688912546853859\n",
      "taking cv = 8\n",
      "Cross validation score for  DecisionTreeClassifier()  is [0.69       0.69       0.74       0.8        0.87878788 0.84848485\n",
      " 0.81818182 0.7979798 ]\n",
      "Mean of Cross Val. score is  0.7829292929292929\n",
      "taking cv = 9\n",
      "Cross validation score for  DecisionTreeClassifier()  is [0.74157303 0.69662921 0.71910112 0.80898876 0.85227273 0.88636364\n",
      " 0.81818182 0.86363636 0.77272727]\n",
      "Mean of Cross Val. score is  0.7954971058903644\n",
      "taking cv = 2\n",
      "Cross validation score for  RandomForestClassifier()  is [0.77386935 0.8241206 ]\n",
      "Mean of Cross Val. score is  0.7989949748743719\n",
      "taking cv = 3\n",
      "Cross validation score for  RandomForestClassifier()  is [0.77443609 0.82641509 0.86415094]\n",
      "Mean of Cross Val. score is  0.8216673759871377\n",
      "taking cv = 4\n",
      "Cross validation score for  RandomForestClassifier()  is [0.74371859 0.77889447 0.91959799 0.85929648]\n",
      "Mean of Cross Val. score is  0.8253768844221105\n",
      "taking cv = 5\n",
      "Cross validation score for  RandomForestClassifier()  is [0.75625    0.78616352 0.86792453 0.88679245 0.89308176]\n",
      "Mean of Cross Val. score is  0.8380424528301887\n",
      "taking cv = 6\n",
      "Cross validation score for  RandomForestClassifier()  is [0.7518797  0.7593985  0.78195489 0.93984962 0.90151515 0.86363636]\n",
      "Mean of Cross Val. score is  0.8330390369864054\n",
      "taking cv = 7\n",
      "Cross validation score for  RandomForestClassifier()  is [0.75438596 0.73684211 0.78947368 0.87719298 0.90350877 0.88495575\n",
      " 0.89380531]\n",
      "Mean of Cross Val. score is  0.8343092243884047\n",
      "taking cv = 8\n",
      "Cross validation score for  RandomForestClassifier()  is [0.78       0.73       0.84       0.79       0.93939394 0.8989899\n",
      " 0.85858586 0.8989899 ]\n",
      "Mean of Cross Val. score is  0.8419949494949495\n",
      "taking cv = 9\n",
      "Cross validation score for  RandomForestClassifier()  is [0.80898876 0.71910112 0.83146067 0.75280899 0.92045455 0.93181818\n",
      " 0.88636364 0.88636364 0.875     ]\n",
      "Mean of Cross Val. score is  0.8458177278401997\n",
      "taking cv = 2\n",
      "Cross validation score for  SVC(probability=True)  is [0.74874372 0.75879397]\n",
      "Mean of Cross Val. score is  0.7537688442211055\n",
      "taking cv = 3\n",
      "Cross validation score for  SVC(probability=True)  is [0.7518797  0.77358491 0.74339623]\n",
      "Mean of Cross Val. score is  0.7562869437745307\n",
      "taking cv = 4\n",
      "Cross validation score for  SVC(probability=True)  is [0.71356784 0.76884422 0.79396985 0.73869347]\n",
      "Mean of Cross Val. score is  0.7537688442211055\n",
      "taking cv = 5\n",
      "Cross validation score for  SVC(probability=True)  is [0.71875    0.77987421 0.82389937 0.77358491 0.77358491]\n",
      "Mean of Cross Val. score is  0.773938679245283\n",
      "taking cv = 6\n",
      "Cross validation score for  SVC(probability=True)  is [0.71428571 0.78947368 0.72180451 0.81954887 0.75       0.76515152]\n",
      "Mean of Cross Val. score is  0.7600440495177336\n",
      "taking cv = 7\n",
      "Cross validation score for  SVC(probability=True)  is [0.71929825 0.77192982 0.72807018 0.8245614  0.8245614  0.73451327\n",
      " 0.77876106]\n",
      "Mean of Cross Val. score is  0.7688136269878235\n",
      "taking cv = 8\n",
      "Cross validation score for  SVC(probability=True)  is [0.7        0.74       0.79       0.74       0.82828283 0.7979798\n",
      " 0.72727273 0.7979798 ]\n",
      "Mean of Cross Val. score is  0.7651893939393939\n",
      "taking cv = 9\n",
      "Cross validation score for  SVC(probability=True)  is [0.73033708 0.70786517 0.80898876 0.69662921 0.81818182 0.85227273\n",
      " 0.78409091 0.70454545 0.80681818]\n",
      "Mean of Cross Val. score is  0.7677477017364658\n",
      "taking cv = 2\n",
      "Cross validation score for  KNeighborsClassifier()  is [0.71859296 0.76130653]\n",
      "Mean of Cross Val. score is  0.7399497487437185\n",
      "taking cv = 3\n",
      "Cross validation score for  KNeighborsClassifier()  is [0.7443609  0.72830189 0.78113208]\n",
      "Mean of Cross Val. score is  0.75126495483993\n",
      "taking cv = 4\n",
      "Cross validation score for  KNeighborsClassifier()  is [0.72361809 0.74371859 0.79899497 0.75879397]\n",
      "Mean of Cross Val. score is  0.7562814070351759\n",
      "taking cv = 5\n",
      "Cross validation score for  KNeighborsClassifier()  is [0.71875    0.76100629 0.77987421 0.80503145 0.7672956 ]\n",
      "Mean of Cross Val. score is  0.7663915094339624\n",
      "taking cv = 6\n",
      "Cross validation score for  KNeighborsClassifier()  is [0.7518797  0.78947368 0.71428571 0.79699248 0.79545455 0.75757576]\n",
      "Mean of Cross Val. score is  0.7676103136629453\n",
      "taking cv = 7\n",
      "Cross validation score for  KNeighborsClassifier()  is [0.78947368 0.75438596 0.71929825 0.79824561 0.85087719 0.74336283\n",
      " 0.77876106]\n",
      "Mean of Cross Val. score is  0.7763435136513852\n",
      "taking cv = 8\n",
      "Cross validation score for  KNeighborsClassifier()  is [0.77       0.72       0.84       0.75       0.77777778 0.81818182\n",
      " 0.72727273 0.78787879]\n",
      "Mean of Cross Val. score is  0.7738888888888888\n",
      "taking cv = 9\n",
      "Cross validation score for  KNeighborsClassifier()  is [0.7752809  0.68539326 0.83146067 0.65168539 0.78409091 0.86363636\n",
      " 0.78409091 0.70454545 0.78409091]\n",
      "Mean of Cross Val. score is  0.7626971966859607\n",
      "taking cv = 2\n",
      "Cross validation score for  GradientBoostingClassifier()  is [0.74371859 0.7638191 ]\n",
      "Mean of Cross Val. score is  0.7537688442211055\n",
      "taking cv = 3\n",
      "Cross validation score for  GradientBoostingClassifier()  is [0.73308271 0.80377358 0.81509434]\n",
      "Mean of Cross Val. score is  0.7839835437650731\n",
      "taking cv = 4\n",
      "Cross validation score for  GradientBoostingClassifier()  is [0.69346734 0.77386935 0.85929648 0.8241206 ]\n",
      "Mean of Cross Val. score is  0.7876884422110553\n",
      "taking cv = 5\n",
      "Cross validation score for  GradientBoostingClassifier()  is [0.69375    0.71698113 0.85534591 0.85534591 0.83647799]\n",
      "Mean of Cross Val. score is  0.7915801886792452\n",
      "taking cv = 6\n",
      "Cross validation score for  GradientBoostingClassifier()  is [0.65413534 0.70676692 0.7443609  0.89473684 0.84848485 0.84848485]\n",
      "Mean of Cross Val. score is  0.7828282828282829\n",
      "taking cv = 7\n",
      "Cross validation score for  GradientBoostingClassifier()  is [0.6754386  0.66666667 0.76315789 0.86842105 0.90350877 0.84070796\n",
      " 0.87610619]\n",
      "Mean of Cross Val. score is  0.7991438773925966\n",
      "taking cv = 8\n",
      "Cross validation score for  GradientBoostingClassifier()  is [0.67       0.65       0.77       0.82       0.87878788 0.87878788\n",
      " 0.83838384 0.83838384]\n",
      "Mean of Cross Val. score is  0.7930429292929293\n",
      "taking cv = 9\n",
      "Cross validation score for  GradientBoostingClassifier()  is [0.68539326 0.65168539 0.78651685 0.71910112 0.85227273 0.93181818\n",
      " 0.81818182 0.82954545 0.89772727]\n",
      "Mean of Cross Val. score is  0.7969157870843264\n",
      "taking cv = 2\n",
      "Cross validation score for  AdaBoostClassifier()  is [0.72110553 0.74371859]\n",
      "Mean of Cross Val. score is  0.7324120603015075\n",
      "taking cv = 3\n",
      "Cross validation score for  AdaBoostClassifier()  is [0.70300752 0.76603774 0.72830189]\n",
      "Mean of Cross Val. score is  0.7324490471461673\n",
      "taking cv = 4\n",
      "Cross validation score for  AdaBoostClassifier()  is [0.68341709 0.75376884 0.81407035 0.75879397]\n",
      "Mean of Cross Val. score is  0.7525125628140703\n",
      "taking cv = 5\n",
      "Cross validation score for  AdaBoostClassifier()  is [0.6625     0.71069182 0.78616352 0.81132075 0.80503145]\n",
      "Mean of Cross Val. score is  0.7551415094339623\n",
      "taking cv = 6\n",
      "Cross validation score for  AdaBoostClassifier()  is [0.67669173 0.69172932 0.7593985  0.85714286 0.78030303 0.81818182]\n",
      "Mean of Cross Val. score is  0.763907875749981\n",
      "taking cv = 7\n",
      "Cross validation score for  AdaBoostClassifier()  is [0.68421053 0.6754386  0.73684211 0.79824561 0.85087719 0.76106195\n",
      " 0.80530973]\n",
      "Mean of Cross Val. score is  0.7588551023576641\n",
      "taking cv = 8\n",
      "Cross validation score for  AdaBoostClassifier()  is [0.65       0.66       0.75       0.77       0.84848485 0.77777778\n",
      " 0.7979798  0.78787879]\n",
      "Mean of Cross Val. score is  0.7552651515151515\n",
      "taking cv = 9\n",
      "Cross validation score for  AdaBoostClassifier()  is [0.69662921 0.66292135 0.78651685 0.71910112 0.80681818 0.88636364\n",
      " 0.75       0.76136364 0.78409091]\n",
      "Mean of Cross Val. score is  0.7615338781069118\n"
     ]
    }
   ],
   "source": [
    "from sklearn.model_selection import cross_val_score\n",
    "\n",
    "# validation accuracy\n",
    "\n",
    "model=[lg,dtc,rf,svc, knn,gbc,ada]\n",
    "\n",
    "for i in model:\n",
    "    for j in range(2,10):\n",
    "        print('taking cv =', j)\n",
    "        cr_score=cross_val_score(i, X, Y, cv=j)\n",
    "        print('Cross validation score for ' , i ,' is', cr_score)\n",
    "        print('Mean of Cross Val. score is ', cr_score.mean())"
   ]
  },
  {
   "cell_type": "markdown",
   "id": "45fc5e8b",
   "metadata": {},
   "source": [
    "## Observation Made from abovelassifier models:\n",
    "\n",
    "\n",
    "- The Random Forest Classifier is giving the accuracy 84.37% with cross val score as 84.581% at fold 9 compared with all other classifiers\n",
    "- Hence selecting the RandomForestClassifier giving almost 85% model accuracy."
   ]
  },
  {
   "cell_type": "markdown",
   "id": "c38117f1",
   "metadata": {},
   "source": [
    "# Hyperparameter Tuning"
   ]
  },
  {
   "cell_type": "code",
   "execution_count": 81,
   "id": "2cb90dce",
   "metadata": {},
   "outputs": [],
   "source": [
    "from sklearn.model_selection import GridSearchCV\n",
    "\n",
    "#Creating parameter list to be passed in GridSearchCV\n",
    "parameters = {\n",
    " 'max_depth': [10, 20, 30, 40, 50],\n",
    " 'max_features': ['auto', 'sqrt','log2'],\n",
    " 'n_estimators': [100, 200, 300]\n",
    "    \n",
    "} \n",
    "\n",
    "GCV=GridSearchCV(estimator=RandomForestClassifier(),\n",
    "                param_grid=parameters,\n",
    "                cv=7,\n",
    "                scoring='accuracy')"
   ]
  },
  {
   "cell_type": "code",
   "execution_count": 82,
   "id": "16ae667b",
   "metadata": {},
   "outputs": [
    {
     "data": {
      "text/plain": [
       "GridSearchCV(cv=7, estimator=RandomForestClassifier(),\n",
       "             param_grid={'max_depth': [10, 20, 30, 40, 50],\n",
       "                         'max_features': ['auto', 'sqrt', 'log2'],\n",
       "                         'n_estimators': [100, 200, 300]},\n",
       "             scoring='accuracy')"
      ]
     },
     "execution_count": 82,
     "metadata": {},
     "output_type": "execute_result"
    }
   ],
   "source": [
    "GCV.fit(X_train,Y_train)"
   ]
  },
  {
   "cell_type": "code",
   "execution_count": 83,
   "id": "f238e3a3",
   "metadata": {},
   "outputs": [
    {
     "data": {
      "text/plain": [
       "{'max_depth': 50, 'max_features': 'auto', 'n_estimators': 100}"
      ]
     },
     "execution_count": 83,
     "metadata": {},
     "output_type": "execute_result"
    }
   ],
   "source": [
    "GCV.best_params_"
   ]
  },
  {
   "cell_type": "code",
   "execution_count": 84,
   "id": "9faa9a0d",
   "metadata": {},
   "outputs": [
    {
     "name": "stdout",
     "output_type": "stream",
     "text": [
      "Final Accuracy is with Random Forest Classifier =  0.84375\n"
     ]
    }
   ],
   "source": [
    "# Checking score with best parameter\n",
    "final_model=RandomForestClassifier(max_depth=40,max_features='log2',n_estimators=200)\n",
    "final_model.fit(X_train,Y_train)\n",
    "predfinal=final_model.predict(X_test)\n",
    "print('Final Accuracy is with Random Forest Classifier = ',accuracy_score(Y_test,predfinal))"
   ]
  },
  {
   "cell_type": "code",
   "execution_count": 85,
   "id": "009f9a54",
   "metadata": {},
   "outputs": [
    {
     "data": {
      "text/plain": [
       "<function matplotlib.pyplot.show(close=None, block=None)>"
      ]
     },
     "execution_count": 85,
     "metadata": {},
     "output_type": "execute_result"
    },
    {
     "data": {
      "image/png": "[encoded data removed]",
      "text/plain": [
       "<Figure size 432x288 with 1 Axes>"
      ]
     },
     "metadata": {
      "needs_background": "light"
     },
     "output_type": "display_data"
    }
   ],
   "source": [
    "#AUC ROC of Best Estimator\n",
    "from sklearn.metrics import plot_roc_curve\n",
    "plot_roc_curve(GCV.best_estimator_,X_test,Y_test)\n",
    "plt.title('AUC ROC Curve')\n",
    "plt.show"
   ]
  },
  {
   "cell_type": "markdown",
   "id": "86f30251",
   "metadata": {},
   "source": [
    "# Saving the model"
   ]
  },
  {
   "cell_type": "code",
   "execution_count": 86,
   "id": "60d1810e",
   "metadata": {},
   "outputs": [
    {
     "data": {
      "text/plain": [
       "['Loan Application Status Prediction.pkl']"
      ]
     },
     "execution_count": 86,
     "metadata": {},
     "output_type": "execute_result"
    }
   ],
   "source": [
    "import joblib\n",
    "joblib.dump(GCV.best_estimator_, \"Loan Application Status Prediction.pkl\")"
   ]
  },
  {
   "cell_type": "code",
   "execution_count": 87,
   "id": "e1b8fccd",
   "metadata": {},
   "outputs": [
    {
     "data": {
      "text/html": [
       "<div>\n",
       "<style scoped>\n",
       "    .dataframe tbody tr th:only-of-type {\n",
       "        vertical-align: middle;\n",
       "    }\n",
       "\n",
       "    .dataframe tbody tr th {\n",
       "        vertical-align: top;\n",
       "    }\n",
       "\n",
       "    .dataframe thead th {\n",
       "        text-align: right;\n",
       "    }\n",
       "</style>\n",
       "<table border=\"1\" class=\"dataframe\">\n",
       "  <thead>\n",
       "    <tr style=\"text-align: right;\">\n",
       "      <th></th>\n",
       "      <th>Original</th>\n",
       "      <th>Predicted</th>\n",
       "    </tr>\n",
       "  </thead>\n",
       "  <tbody>\n",
       "    <tr>\n",
       "      <th>0</th>\n",
       "      <td>0</td>\n",
       "      <td>0</td>\n",
       "    </tr>\n",
       "    <tr>\n",
       "      <th>1</th>\n",
       "      <td>1</td>\n",
       "      <td>1</td>\n",
       "    </tr>\n",
       "    <tr>\n",
       "      <th>2</th>\n",
       "      <td>1</td>\n",
       "      <td>1</td>\n",
       "    </tr>\n",
       "    <tr>\n",
       "      <th>3</th>\n",
       "      <td>1</td>\n",
       "      <td>1</td>\n",
       "    </tr>\n",
       "    <tr>\n",
       "      <th>4</th>\n",
       "      <td>1</td>\n",
       "      <td>1</td>\n",
       "    </tr>\n",
       "    <tr>\n",
       "      <th>...</th>\n",
       "      <td>...</td>\n",
       "      <td>...</td>\n",
       "    </tr>\n",
       "    <tr>\n",
       "      <th>155</th>\n",
       "      <td>1</td>\n",
       "      <td>1</td>\n",
       "    </tr>\n",
       "    <tr>\n",
       "      <th>156</th>\n",
       "      <td>1</td>\n",
       "      <td>1</td>\n",
       "    </tr>\n",
       "    <tr>\n",
       "      <th>157</th>\n",
       "      <td>1</td>\n",
       "      <td>1</td>\n",
       "    </tr>\n",
       "    <tr>\n",
       "      <th>158</th>\n",
       "      <td>0</td>\n",
       "      <td>0</td>\n",
       "    </tr>\n",
       "    <tr>\n",
       "      <th>159</th>\n",
       "      <td>0</td>\n",
       "      <td>0</td>\n",
       "    </tr>\n",
       "  </tbody>\n",
       "</table>\n",
       "<p>160 rows × 2 columns</p>\n",
       "</div>"
      ],
      "text/plain": [
       "     Original  Predicted\n",
       "0           0          0\n",
       "1           1          1\n",
       "2           1          1\n",
       "3           1          1\n",
       "4           1          1\n",
       "..        ...        ...\n",
       "155         1          1\n",
       "156         1          1\n",
       "157         1          1\n",
       "158         0          0\n",
       "159         0          0\n",
       "\n",
       "[160 rows x 2 columns]"
      ]
     },
     "execution_count": 87,
     "metadata": {},
     "output_type": "execute_result"
    }
   ],
   "source": [
    "# Conclusion\n",
    "a=np.array(Y_test)\n",
    "predicted=np.array(predfinal)\n",
    "df_con=pd.DataFrame({'Original':a,'Predicted':predicted}, index=range(len(a)))\n",
    "df_con"
   ]
  },
  {
   "cell_type": "markdown",
   "id": "4c3b7391",
   "metadata": {},
   "source": [
    "As we can see that after the Hyper parameter tunning the final model accuracy that we have got is 84.375% which is considerably good hence we can say that the model is performing well"
   ]
  },
  {
   "cell_type": "markdown",
   "id": "2ad4ef1f",
   "metadata": {},
   "source": [
    "# THE END"
   ]
  },
  {
   "cell_type": "code",
   "execution_count": null,
   "id": "855a0b58",
   "metadata": {},
   "outputs": [],
   "source": []
  }
 ],
 "metadata": {
  "kernelspec": {
   "display_name": "Python 3 (ipykernel)",
   "language": "python",
   "name": "python3"
  },
  "language_info": {
   "codemirror_mode": {
    "name": "ipython",
    "version": 3
   },
   "file_extension": ".py",
   "mimetype": "text/x-python",
   "name": "python",
   "nbconvert_exporter": "python",
   "pygments_lexer": "ipython3",
   "version": "3.9.12"
  }
 },
 "nbformat": 4,
 "nbformat_minor": 5
}
