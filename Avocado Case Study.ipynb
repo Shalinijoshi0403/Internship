{
 "cells": [
  {
   "cell_type": "markdown",
   "id": "e34ce2a0",
   "metadata": {},
   "source": [
    "# Avocado Project¶\n",
    "### Project Description\n",
    "This data was downloaded from the Hass Avocado Board website in May of 2018 & compiled into a single CSV. The table below represents weekly 2018 retail scan data for National retail volume (units) and price. Retail scan data comes directly from retailers’ cash registers based on actual retail sales of Hass avocados. Starting in 2013, the table below reflects an expanded, multi-outlet retail data set. Multi-outlet reporting includes an aggregation of the following channels: grocery, mass, club, drug, dollar and military. The Average Price (of avocados) in the table reflects a per unit (per avocado) cost, even when multiple units (avocados) are sold in bags. The Product Lookup codes (PLU’s) in the table are only for Hass avocados. Other varieties of avocados (e.g. greenskins) are not included in this table. Some relevant columns in the dataset: • Date - The date of the observation • AveragePrice - the average price of a single avocado • type - conventional or organic • year - the year • Region - the city or region of the observation • Total Volume - Total number of avocados sold • 4046 - Total number of avocados with PLU 4046 sold • 4225 - Total number of avocados with PLU 4225 sold • 4770 - Total number of avocados with PLU 4770 sold\n",
    "\n",
    "### Inspiration /Label\n",
    "The dataset can be seen in two angles to find the region and find the average price . Task: One of Classification and other of Regression Do both tasks in the same .ipynb file and submit at single file.\n",
    "\n",
    "### Dataset Link-\n",
    "• https://github.com/dsrscientist/Data-Science-ML-Capstone-Projects/blob/master/avocado.csv.zip"
   ]
  },
  {
   "cell_type": "markdown",
   "id": "7235ff05",
   "metadata": {},
   "source": [
    "# Importing required libraries"
   ]
  },
  {
   "cell_type": "code",
   "execution_count": 4,
   "id": "0fb9d5c5",
   "metadata": {},
   "outputs": [],
   "source": [
    "import numpy as np\n",
    "import pandas as pd\n",
    "import matplotlib.pyplot as plt\n",
    "from scipy import stats\n",
    "import seaborn as sns\n",
    "\n",
    "import warnings\n",
    "warnings.filterwarnings('ignore')"
   ]
  },
  {
   "cell_type": "markdown",
   "id": "486f3468",
   "metadata": {},
   "source": [
    "# Loading Dataset"
   ]
  },
  {
   "cell_type": "code",
   "execution_count": 5,
   "id": "7aa8783d",
   "metadata": {},
   "outputs": [
    {
     "data": {
      "text/html": [
       "<div>\n",
       "<style scoped>\n",
       "    .dataframe tbody tr th:only-of-type {\n",
       "        vertical-align: middle;\n",
       "    }\n",
       "\n",
       "    .dataframe tbody tr th {\n",
       "        vertical-align: top;\n",
       "    }\n",
       "\n",
       "    .dataframe thead th {\n",
       "        text-align: right;\n",
       "    }\n",
       "</style>\n",
       "<table border=\"1\" class=\"dataframe\">\n",
       "  <thead>\n",
       "    <tr style=\"text-align: right;\">\n",
       "      <th></th>\n",
       "      <th>Unnamed: 0</th>\n",
       "      <th>Date</th>\n",
       "      <th>AveragePrice</th>\n",
       "      <th>Total Volume</th>\n",
       "      <th>4046</th>\n",
       "      <th>4225</th>\n",
       "      <th>4770</th>\n",
       "      <th>Total Bags</th>\n",
       "      <th>Small Bags</th>\n",
       "      <th>Large Bags</th>\n",
       "      <th>XLarge Bags</th>\n",
       "      <th>type</th>\n",
       "      <th>year</th>\n",
       "      <th>region</th>\n",
       "    </tr>\n",
       "  </thead>\n",
       "  <tbody>\n",
       "    <tr>\n",
       "      <th>0</th>\n",
       "      <td>0</td>\n",
       "      <td>2015-12-27</td>\n",
       "      <td>1.33</td>\n",
       "      <td>64236.62</td>\n",
       "      <td>1036.74</td>\n",
       "      <td>54454.85</td>\n",
       "      <td>48.16</td>\n",
       "      <td>8696.87</td>\n",
       "      <td>8603.62</td>\n",
       "      <td>93.25</td>\n",
       "      <td>0.0</td>\n",
       "      <td>conventional</td>\n",
       "      <td>2015</td>\n",
       "      <td>Albany</td>\n",
       "    </tr>\n",
       "    <tr>\n",
       "      <th>1</th>\n",
       "      <td>1</td>\n",
       "      <td>2015-12-20</td>\n",
       "      <td>1.35</td>\n",
       "      <td>54876.98</td>\n",
       "      <td>674.28</td>\n",
       "      <td>44638.81</td>\n",
       "      <td>58.33</td>\n",
       "      <td>9505.56</td>\n",
       "      <td>9408.07</td>\n",
       "      <td>97.49</td>\n",
       "      <td>0.0</td>\n",
       "      <td>conventional</td>\n",
       "      <td>2015</td>\n",
       "      <td>Albany</td>\n",
       "    </tr>\n",
       "    <tr>\n",
       "      <th>2</th>\n",
       "      <td>2</td>\n",
       "      <td>2015-12-13</td>\n",
       "      <td>0.93</td>\n",
       "      <td>118220.22</td>\n",
       "      <td>794.70</td>\n",
       "      <td>109149.67</td>\n",
       "      <td>130.50</td>\n",
       "      <td>8145.35</td>\n",
       "      <td>8042.21</td>\n",
       "      <td>103.14</td>\n",
       "      <td>0.0</td>\n",
       "      <td>conventional</td>\n",
       "      <td>2015</td>\n",
       "      <td>Albany</td>\n",
       "    </tr>\n",
       "    <tr>\n",
       "      <th>3</th>\n",
       "      <td>3</td>\n",
       "      <td>2015-12-06</td>\n",
       "      <td>1.08</td>\n",
       "      <td>78992.15</td>\n",
       "      <td>1132.00</td>\n",
       "      <td>71976.41</td>\n",
       "      <td>72.58</td>\n",
       "      <td>5811.16</td>\n",
       "      <td>5677.40</td>\n",
       "      <td>133.76</td>\n",
       "      <td>0.0</td>\n",
       "      <td>conventional</td>\n",
       "      <td>2015</td>\n",
       "      <td>Albany</td>\n",
       "    </tr>\n",
       "    <tr>\n",
       "      <th>4</th>\n",
       "      <td>4</td>\n",
       "      <td>2015-11-29</td>\n",
       "      <td>1.28</td>\n",
       "      <td>51039.60</td>\n",
       "      <td>941.48</td>\n",
       "      <td>43838.39</td>\n",
       "      <td>75.78</td>\n",
       "      <td>6183.95</td>\n",
       "      <td>5986.26</td>\n",
       "      <td>197.69</td>\n",
       "      <td>0.0</td>\n",
       "      <td>conventional</td>\n",
       "      <td>2015</td>\n",
       "      <td>Albany</td>\n",
       "    </tr>\n",
       "  </tbody>\n",
       "</table>\n",
       "</div>"
      ],
      "text/plain": [
       "   Unnamed: 0        Date  AveragePrice  Total Volume     4046       4225  \\\n",
       "0           0  2015-12-27          1.33      64236.62  1036.74   54454.85   \n",
       "1           1  2015-12-20          1.35      54876.98   674.28   44638.81   \n",
       "2           2  2015-12-13          0.93     118220.22   794.70  109149.67   \n",
       "3           3  2015-12-06          1.08      78992.15  1132.00   71976.41   \n",
       "4           4  2015-11-29          1.28      51039.60   941.48   43838.39   \n",
       "\n",
       "     4770  Total Bags  Small Bags  Large Bags  XLarge Bags          type  \\\n",
       "0   48.16     8696.87     8603.62       93.25          0.0  conventional   \n",
       "1   58.33     9505.56     9408.07       97.49          0.0  conventional   \n",
       "2  130.50     8145.35     8042.21      103.14          0.0  conventional   \n",
       "3   72.58     5811.16     5677.40      133.76          0.0  conventional   \n",
       "4   75.78     6183.95     5986.26      197.69          0.0  conventional   \n",
       "\n",
       "   year  region  \n",
       "0  2015  Albany  \n",
       "1  2015  Albany  \n",
       "2  2015  Albany  \n",
       "3  2015  Albany  \n",
       "4  2015  Albany  "
      ]
     },
     "execution_count": 5,
     "metadata": {},
     "output_type": "execute_result"
    }
   ],
   "source": [
    "df = pd.read_csv(\"C:\\\\Users\\\\suven\\\\OneDrive\\\\Desktop\\\\Internship\\\\Evaluation Projects\\\\First Phase\\\\Avocado\\\\avocado.csv\")\n",
    "df.head()"
   ]
  },
  {
   "cell_type": "code",
   "execution_count": 3,
   "id": "752f8a62",
   "metadata": {},
   "outputs": [
    {
     "data": {
      "text/html": [
       "<div>\n",
       "<style scoped>\n",
       "    .dataframe tbody tr th:only-of-type {\n",
       "        vertical-align: middle;\n",
       "    }\n",
       "\n",
       "    .dataframe tbody tr th {\n",
       "        vertical-align: top;\n",
       "    }\n",
       "\n",
       "    .dataframe thead th {\n",
       "        text-align: right;\n",
       "    }\n",
       "</style>\n",
       "<table border=\"1\" class=\"dataframe\">\n",
       "  <thead>\n",
       "    <tr style=\"text-align: right;\">\n",
       "      <th></th>\n",
       "      <th>Unnamed: 0</th>\n",
       "      <th>Date</th>\n",
       "      <th>AveragePrice</th>\n",
       "      <th>Total Volume</th>\n",
       "      <th>4046</th>\n",
       "      <th>4225</th>\n",
       "      <th>4770</th>\n",
       "      <th>Total Bags</th>\n",
       "      <th>Small Bags</th>\n",
       "      <th>Large Bags</th>\n",
       "      <th>XLarge Bags</th>\n",
       "      <th>type</th>\n",
       "      <th>year</th>\n",
       "      <th>region</th>\n",
       "    </tr>\n",
       "  </thead>\n",
       "  <tbody>\n",
       "    <tr>\n",
       "      <th>18244</th>\n",
       "      <td>7</td>\n",
       "      <td>2018-02-04</td>\n",
       "      <td>1.63</td>\n",
       "      <td>17074.83</td>\n",
       "      <td>2046.96</td>\n",
       "      <td>1529.20</td>\n",
       "      <td>0.00</td>\n",
       "      <td>13498.67</td>\n",
       "      <td>13066.82</td>\n",
       "      <td>431.85</td>\n",
       "      <td>0.0</td>\n",
       "      <td>organic</td>\n",
       "      <td>2018</td>\n",
       "      <td>WestTexNewMexico</td>\n",
       "    </tr>\n",
       "    <tr>\n",
       "      <th>18245</th>\n",
       "      <td>8</td>\n",
       "      <td>2018-01-28</td>\n",
       "      <td>1.71</td>\n",
       "      <td>13888.04</td>\n",
       "      <td>1191.70</td>\n",
       "      <td>3431.50</td>\n",
       "      <td>0.00</td>\n",
       "      <td>9264.84</td>\n",
       "      <td>8940.04</td>\n",
       "      <td>324.80</td>\n",
       "      <td>0.0</td>\n",
       "      <td>organic</td>\n",
       "      <td>2018</td>\n",
       "      <td>WestTexNewMexico</td>\n",
       "    </tr>\n",
       "    <tr>\n",
       "      <th>18246</th>\n",
       "      <td>9</td>\n",
       "      <td>2018-01-21</td>\n",
       "      <td>1.87</td>\n",
       "      <td>13766.76</td>\n",
       "      <td>1191.92</td>\n",
       "      <td>2452.79</td>\n",
       "      <td>727.94</td>\n",
       "      <td>9394.11</td>\n",
       "      <td>9351.80</td>\n",
       "      <td>42.31</td>\n",
       "      <td>0.0</td>\n",
       "      <td>organic</td>\n",
       "      <td>2018</td>\n",
       "      <td>WestTexNewMexico</td>\n",
       "    </tr>\n",
       "    <tr>\n",
       "      <th>18247</th>\n",
       "      <td>10</td>\n",
       "      <td>2018-01-14</td>\n",
       "      <td>1.93</td>\n",
       "      <td>16205.22</td>\n",
       "      <td>1527.63</td>\n",
       "      <td>2981.04</td>\n",
       "      <td>727.01</td>\n",
       "      <td>10969.54</td>\n",
       "      <td>10919.54</td>\n",
       "      <td>50.00</td>\n",
       "      <td>0.0</td>\n",
       "      <td>organic</td>\n",
       "      <td>2018</td>\n",
       "      <td>WestTexNewMexico</td>\n",
       "    </tr>\n",
       "    <tr>\n",
       "      <th>18248</th>\n",
       "      <td>11</td>\n",
       "      <td>2018-01-07</td>\n",
       "      <td>1.62</td>\n",
       "      <td>17489.58</td>\n",
       "      <td>2894.77</td>\n",
       "      <td>2356.13</td>\n",
       "      <td>224.53</td>\n",
       "      <td>12014.15</td>\n",
       "      <td>11988.14</td>\n",
       "      <td>26.01</td>\n",
       "      <td>0.0</td>\n",
       "      <td>organic</td>\n",
       "      <td>2018</td>\n",
       "      <td>WestTexNewMexico</td>\n",
       "    </tr>\n",
       "  </tbody>\n",
       "</table>\n",
       "</div>"
      ],
      "text/plain": [
       "       Unnamed: 0        Date  AveragePrice  Total Volume     4046     4225  \\\n",
       "18244           7  2018-02-04          1.63      17074.83  2046.96  1529.20   \n",
       "18245           8  2018-01-28          1.71      13888.04  1191.70  3431.50   \n",
       "18246           9  2018-01-21          1.87      13766.76  1191.92  2452.79   \n",
       "18247          10  2018-01-14          1.93      16205.22  1527.63  2981.04   \n",
       "18248          11  2018-01-07          1.62      17489.58  2894.77  2356.13   \n",
       "\n",
       "         4770  Total Bags  Small Bags  Large Bags  XLarge Bags     type  year  \\\n",
       "18244    0.00    13498.67    13066.82      431.85          0.0  organic  2018   \n",
       "18245    0.00     9264.84     8940.04      324.80          0.0  organic  2018   \n",
       "18246  727.94     9394.11     9351.80       42.31          0.0  organic  2018   \n",
       "18247  727.01    10969.54    10919.54       50.00          0.0  organic  2018   \n",
       "18248  224.53    12014.15    11988.14       26.01          0.0  organic  2018   \n",
       "\n",
       "                 region  \n",
       "18244  WestTexNewMexico  \n",
       "18245  WestTexNewMexico  \n",
       "18246  WestTexNewMexico  \n",
       "18247  WestTexNewMexico  \n",
       "18248  WestTexNewMexico  "
      ]
     },
     "execution_count": 3,
     "metadata": {},
     "output_type": "execute_result"
    }
   ],
   "source": [
    "df.tail()"
   ]
  },
  {
   "cell_type": "code",
   "execution_count": 4,
   "id": "18265243",
   "metadata": {},
   "outputs": [
    {
     "data": {
      "text/plain": [
       "(18249, 14)"
      ]
     },
     "execution_count": 4,
     "metadata": {},
     "output_type": "execute_result"
    }
   ],
   "source": [
    "# Checking rows and columns\n",
    "df.shape"
   ]
  },
  {
   "cell_type": "markdown",
   "id": "bd5d2cfc",
   "metadata": {},
   "source": [
    "- There are 18249 rows and 14 columns in the dataset\n",
    "- Out of 14 columns, 13 columns are features and 1 is target variable"
   ]
  },
  {
   "cell_type": "code",
   "execution_count": 5,
   "id": "67412240",
   "metadata": {},
   "outputs": [
    {
     "data": {
      "text/plain": [
       "Unnamed: 0        int64\n",
       "Date             object\n",
       "AveragePrice    float64\n",
       "Total Volume    float64\n",
       "4046            float64\n",
       "4225            float64\n",
       "4770            float64\n",
       "Total Bags      float64\n",
       "Small Bags      float64\n",
       "Large Bags      float64\n",
       "XLarge Bags     float64\n",
       "type             object\n",
       "year              int64\n",
       "region           object\n",
       "dtype: object"
      ]
     },
     "execution_count": 5,
     "metadata": {},
     "output_type": "execute_result"
    }
   ],
   "source": [
    "# Checking the data type of columns\n",
    "df.dtypes"
   ]
  },
  {
   "cell_type": "markdown",
   "id": "7de0f1bb",
   "metadata": {},
   "source": [
    "- Out of the 14 columns, 2 are int64, 3 are object and rest all are float64"
   ]
  },
  {
   "cell_type": "code",
   "execution_count": 6,
   "id": "4b179358",
   "metadata": {},
   "outputs": [
    {
     "name": "stdout",
     "output_type": "stream",
     "text": [
      "<class 'pandas.core.frame.DataFrame'>\n",
      "RangeIndex: 18249 entries, 0 to 18248\n",
      "Data columns (total 14 columns):\n",
      " #   Column        Non-Null Count  Dtype  \n",
      "---  ------        --------------  -----  \n",
      " 0   Unnamed: 0    18249 non-null  int64  \n",
      " 1   Date          18249 non-null  object \n",
      " 2   AveragePrice  18249 non-null  float64\n",
      " 3   Total Volume  18249 non-null  float64\n",
      " 4   4046          18249 non-null  float64\n",
      " 5   4225          18249 non-null  float64\n",
      " 6   4770          18249 non-null  float64\n",
      " 7   Total Bags    18249 non-null  float64\n",
      " 8   Small Bags    18249 non-null  float64\n",
      " 9   Large Bags    18249 non-null  float64\n",
      " 10  XLarge Bags   18249 non-null  float64\n",
      " 11  type          18249 non-null  object \n",
      " 12  year          18249 non-null  int64  \n",
      " 13  region        18249 non-null  object \n",
      "dtypes: float64(9), int64(2), object(3)\n",
      "memory usage: 1.9+ MB\n"
     ]
    }
   ],
   "source": [
    "# Checking more info about the data\n",
    "df.info()"
   ]
  },
  {
   "cell_type": "markdown",
   "id": "0cd83844",
   "metadata": {},
   "source": [
    "- All the columns have 18249 rows i.e. no null/missing values\n",
    "- Out of the 14 columns, 2 are int64, 3 are object and rest all are float64"
   ]
  },
  {
   "cell_type": "code",
   "execution_count": 7,
   "id": "01474241",
   "metadata": {},
   "outputs": [
    {
     "data": {
      "text/plain": [
       "array([ 0,  1,  2,  3,  4,  5,  6,  7,  8,  9, 10, 11, 12, 13, 14, 15, 16,\n",
       "       17, 18, 19, 20, 21, 22, 23, 24, 25, 26, 27, 28, 29, 30, 31, 32, 33,\n",
       "       34, 35, 36, 37, 38, 39, 40, 41, 42, 43, 44, 45, 46, 47, 48, 49, 50,\n",
       "       51, 52], dtype=int64)"
      ]
     },
     "execution_count": 7,
     "metadata": {},
     "output_type": "execute_result"
    }
   ],
   "source": [
    "# Out of all the columns present, let's check if the \"Unnamed: 0\" columns contains any useful information or not\n",
    "\n",
    "df['Unnamed: 0'].unique()"
   ]
  },
  {
   "cell_type": "code",
   "execution_count": 6,
   "id": "735de43f",
   "metadata": {},
   "outputs": [],
   "source": [
    "# It doesn't have any useful information that can be used for model building therefore, we can drop it from dataset\n",
    "df=df.drop(['Unnamed: 0'],axis=1)"
   ]
  },
  {
   "cell_type": "code",
   "execution_count": 7,
   "id": "e95ffa2d",
   "metadata": {},
   "outputs": [
    {
     "data": {
      "text/html": [
       "<div>\n",
       "<style scoped>\n",
       "    .dataframe tbody tr th:only-of-type {\n",
       "        vertical-align: middle;\n",
       "    }\n",
       "\n",
       "    .dataframe tbody tr th {\n",
       "        vertical-align: top;\n",
       "    }\n",
       "\n",
       "    .dataframe thead th {\n",
       "        text-align: right;\n",
       "    }\n",
       "</style>\n",
       "<table border=\"1\" class=\"dataframe\">\n",
       "  <thead>\n",
       "    <tr style=\"text-align: right;\">\n",
       "      <th></th>\n",
       "      <th>Date</th>\n",
       "      <th>AveragePrice</th>\n",
       "      <th>Total Volume</th>\n",
       "      <th>4046</th>\n",
       "      <th>4225</th>\n",
       "      <th>4770</th>\n",
       "      <th>Total Bags</th>\n",
       "      <th>Small Bags</th>\n",
       "      <th>Large Bags</th>\n",
       "      <th>XLarge Bags</th>\n",
       "      <th>type</th>\n",
       "      <th>year</th>\n",
       "      <th>region</th>\n",
       "      <th>month</th>\n",
       "    </tr>\n",
       "  </thead>\n",
       "  <tbody>\n",
       "    <tr>\n",
       "      <th>0</th>\n",
       "      <td>2015-12-27</td>\n",
       "      <td>1.33</td>\n",
       "      <td>64236.62</td>\n",
       "      <td>1036.74</td>\n",
       "      <td>54454.85</td>\n",
       "      <td>48.16</td>\n",
       "      <td>8696.87</td>\n",
       "      <td>8603.62</td>\n",
       "      <td>93.25</td>\n",
       "      <td>0.0</td>\n",
       "      <td>conventional</td>\n",
       "      <td>2015</td>\n",
       "      <td>Albany</td>\n",
       "      <td>12</td>\n",
       "    </tr>\n",
       "    <tr>\n",
       "      <th>1</th>\n",
       "      <td>2015-12-20</td>\n",
       "      <td>1.35</td>\n",
       "      <td>54876.98</td>\n",
       "      <td>674.28</td>\n",
       "      <td>44638.81</td>\n",
       "      <td>58.33</td>\n",
       "      <td>9505.56</td>\n",
       "      <td>9408.07</td>\n",
       "      <td>97.49</td>\n",
       "      <td>0.0</td>\n",
       "      <td>conventional</td>\n",
       "      <td>2015</td>\n",
       "      <td>Albany</td>\n",
       "      <td>12</td>\n",
       "    </tr>\n",
       "    <tr>\n",
       "      <th>2</th>\n",
       "      <td>2015-12-13</td>\n",
       "      <td>0.93</td>\n",
       "      <td>118220.22</td>\n",
       "      <td>794.70</td>\n",
       "      <td>109149.67</td>\n",
       "      <td>130.50</td>\n",
       "      <td>8145.35</td>\n",
       "      <td>8042.21</td>\n",
       "      <td>103.14</td>\n",
       "      <td>0.0</td>\n",
       "      <td>conventional</td>\n",
       "      <td>2015</td>\n",
       "      <td>Albany</td>\n",
       "      <td>12</td>\n",
       "    </tr>\n",
       "    <tr>\n",
       "      <th>3</th>\n",
       "      <td>2015-12-06</td>\n",
       "      <td>1.08</td>\n",
       "      <td>78992.15</td>\n",
       "      <td>1132.00</td>\n",
       "      <td>71976.41</td>\n",
       "      <td>72.58</td>\n",
       "      <td>5811.16</td>\n",
       "      <td>5677.40</td>\n",
       "      <td>133.76</td>\n",
       "      <td>0.0</td>\n",
       "      <td>conventional</td>\n",
       "      <td>2015</td>\n",
       "      <td>Albany</td>\n",
       "      <td>12</td>\n",
       "    </tr>\n",
       "    <tr>\n",
       "      <th>4</th>\n",
       "      <td>2015-11-29</td>\n",
       "      <td>1.28</td>\n",
       "      <td>51039.60</td>\n",
       "      <td>941.48</td>\n",
       "      <td>43838.39</td>\n",
       "      <td>75.78</td>\n",
       "      <td>6183.95</td>\n",
       "      <td>5986.26</td>\n",
       "      <td>197.69</td>\n",
       "      <td>0.0</td>\n",
       "      <td>conventional</td>\n",
       "      <td>2015</td>\n",
       "      <td>Albany</td>\n",
       "      <td>11</td>\n",
       "    </tr>\n",
       "  </tbody>\n",
       "</table>\n",
       "</div>"
      ],
      "text/plain": [
       "         Date  AveragePrice  Total Volume     4046       4225    4770  \\\n",
       "0  2015-12-27          1.33      64236.62  1036.74   54454.85   48.16   \n",
       "1  2015-12-20          1.35      54876.98   674.28   44638.81   58.33   \n",
       "2  2015-12-13          0.93     118220.22   794.70  109149.67  130.50   \n",
       "3  2015-12-06          1.08      78992.15  1132.00   71976.41   72.58   \n",
       "4  2015-11-29          1.28      51039.60   941.48   43838.39   75.78   \n",
       "\n",
       "   Total Bags  Small Bags  Large Bags  XLarge Bags          type  year  \\\n",
       "0     8696.87     8603.62       93.25          0.0  conventional  2015   \n",
       "1     9505.56     9408.07       97.49          0.0  conventional  2015   \n",
       "2     8145.35     8042.21      103.14          0.0  conventional  2015   \n",
       "3     5811.16     5677.40      133.76          0.0  conventional  2015   \n",
       "4     6183.95     5986.26      197.69          0.0  conventional  2015   \n",
       "\n",
       "   region  month  \n",
       "0  Albany     12  \n",
       "1  Albany     12  \n",
       "2  Albany     12  \n",
       "3  Albany     12  \n",
       "4  Albany     11  "
      ]
     },
     "execution_count": 7,
     "metadata": {},
     "output_type": "execute_result"
    }
   ],
   "source": [
    "# Extracting the month from date and adding one more column to dataset. The Month column will be used for analysis later\n",
    "df['month'] = pd.DatetimeIndex(df['Date']).month\n",
    "df.head()"
   ]
  },
  {
   "cell_type": "code",
   "execution_count": 13,
   "id": "e150de2a",
   "metadata": {},
   "outputs": [
    {
     "data": {
      "text/plain": [
       "(18249, 14)"
      ]
     },
     "execution_count": 13,
     "metadata": {},
     "output_type": "execute_result"
    }
   ],
   "source": [
    "df.shape # deleted 'Unnamed: 0' and added Month column to dataset"
   ]
  },
  {
   "cell_type": "code",
   "execution_count": 14,
   "id": "87b4337d",
   "metadata": {},
   "outputs": [
    {
     "data": {
      "text/plain": [
       "Date            0\n",
       "AveragePrice    0\n",
       "Total Volume    0\n",
       "4046            0\n",
       "4225            0\n",
       "4770            0\n",
       "Total Bags      0\n",
       "Small Bags      0\n",
       "Large Bags      0\n",
       "XLarge Bags     0\n",
       "type            0\n",
       "year            0\n",
       "region          0\n",
       "month           0\n",
       "dtype: int64"
      ]
     },
     "execution_count": 14,
     "metadata": {},
     "output_type": "execute_result"
    }
   ],
   "source": [
    "# Checking for null values\n",
    "df.isnull().sum()"
   ]
  },
  {
   "cell_type": "markdown",
   "id": "8350637e",
   "metadata": {},
   "source": [
    "- Validated that there are no null values present in the dataset"
   ]
  },
  {
   "cell_type": "code",
   "execution_count": 15,
   "id": "40635816",
   "metadata": {},
   "outputs": [
    {
     "data": {
      "text/plain": [
       "Date             object\n",
       "AveragePrice    float64\n",
       "Total Volume    float64\n",
       "4046            float64\n",
       "4225            float64\n",
       "4770            float64\n",
       "Total Bags      float64\n",
       "Small Bags      float64\n",
       "Large Bags      float64\n",
       "XLarge Bags     float64\n",
       "type             object\n",
       "year              int64\n",
       "region           object\n",
       "month             int64\n",
       "dtype: object"
      ]
     },
     "execution_count": 15,
     "metadata": {},
     "output_type": "execute_result"
    }
   ],
   "source": [
    "df.dtypes"
   ]
  },
  {
   "cell_type": "code",
   "execution_count": 8,
   "id": "34840d0c",
   "metadata": {},
   "outputs": [
    {
     "data": {
      "text/html": [
       "<div>\n",
       "<style scoped>\n",
       "    .dataframe tbody tr th:only-of-type {\n",
       "        vertical-align: middle;\n",
       "    }\n",
       "\n",
       "    .dataframe tbody tr th {\n",
       "        vertical-align: top;\n",
       "    }\n",
       "\n",
       "    .dataframe thead th {\n",
       "        text-align: right;\n",
       "    }\n",
       "</style>\n",
       "<table border=\"1\" class=\"dataframe\">\n",
       "  <thead>\n",
       "    <tr style=\"text-align: right;\">\n",
       "      <th></th>\n",
       "      <th>Date</th>\n",
       "      <th>AveragePrice</th>\n",
       "      <th>Total Volume</th>\n",
       "      <th>4046</th>\n",
       "      <th>4225</th>\n",
       "      <th>4770</th>\n",
       "      <th>Total Bags</th>\n",
       "      <th>Small Bags</th>\n",
       "      <th>Large Bags</th>\n",
       "      <th>XLarge Bags</th>\n",
       "      <th>type</th>\n",
       "      <th>year</th>\n",
       "      <th>region</th>\n",
       "      <th>month</th>\n",
       "    </tr>\n",
       "  </thead>\n",
       "  <tbody>\n",
       "    <tr>\n",
       "      <th>15415</th>\n",
       "      <td>2017-04-09</td>\n",
       "      <td>0.89</td>\n",
       "      <td>65820.33</td>\n",
       "      <td>11793.22</td>\n",
       "      <td>2019.38</td>\n",
       "      <td>76.45</td>\n",
       "      <td>51931.28</td>\n",
       "      <td>47908.39</td>\n",
       "      <td>4022.89</td>\n",
       "      <td>0.00</td>\n",
       "      <td>1</td>\n",
       "      <td>2017</td>\n",
       "      <td>12</td>\n",
       "      <td>4</td>\n",
       "    </tr>\n",
       "    <tr>\n",
       "      <th>12484</th>\n",
       "      <td>2016-05-22</td>\n",
       "      <td>1.31</td>\n",
       "      <td>6711.12</td>\n",
       "      <td>389.47</td>\n",
       "      <td>3323.72</td>\n",
       "      <td>18.38</td>\n",
       "      <td>2979.55</td>\n",
       "      <td>1037.65</td>\n",
       "      <td>1941.90</td>\n",
       "      <td>0.00</td>\n",
       "      <td>1</td>\n",
       "      <td>2016</td>\n",
       "      <td>10</td>\n",
       "      <td>5</td>\n",
       "    </tr>\n",
       "    <tr>\n",
       "      <th>17101</th>\n",
       "      <td>2017-06-18</td>\n",
       "      <td>1.72</td>\n",
       "      <td>13816.79</td>\n",
       "      <td>235.14</td>\n",
       "      <td>5136.73</td>\n",
       "      <td>132.12</td>\n",
       "      <td>8312.80</td>\n",
       "      <td>6835.95</td>\n",
       "      <td>1476.85</td>\n",
       "      <td>0.00</td>\n",
       "      <td>1</td>\n",
       "      <td>2017</td>\n",
       "      <td>44</td>\n",
       "      <td>6</td>\n",
       "    </tr>\n",
       "    <tr>\n",
       "      <th>13283</th>\n",
       "      <td>2016-01-10</td>\n",
       "      <td>1.46</td>\n",
       "      <td>76440.12</td>\n",
       "      <td>2702.76</td>\n",
       "      <td>34243.57</td>\n",
       "      <td>2813.96</td>\n",
       "      <td>36679.83</td>\n",
       "      <td>12285.03</td>\n",
       "      <td>24394.80</td>\n",
       "      <td>0.00</td>\n",
       "      <td>1</td>\n",
       "      <td>2016</td>\n",
       "      <td>25</td>\n",
       "      <td>1</td>\n",
       "    </tr>\n",
       "    <tr>\n",
       "      <th>5791</th>\n",
       "      <td>2017-09-10</td>\n",
       "      <td>1.76</td>\n",
       "      <td>66479.27</td>\n",
       "      <td>36441.41</td>\n",
       "      <td>2816.58</td>\n",
       "      <td>6160.18</td>\n",
       "      <td>21061.10</td>\n",
       "      <td>13679.37</td>\n",
       "      <td>7241.83</td>\n",
       "      <td>139.90</td>\n",
       "      <td>0</td>\n",
       "      <td>2017</td>\n",
       "      <td>3</td>\n",
       "      <td>9</td>\n",
       "    </tr>\n",
       "    <tr>\n",
       "      <th>...</th>\n",
       "      <td>...</td>\n",
       "      <td>...</td>\n",
       "      <td>...</td>\n",
       "      <td>...</td>\n",
       "      <td>...</td>\n",
       "      <td>...</td>\n",
       "      <td>...</td>\n",
       "      <td>...</td>\n",
       "      <td>...</td>\n",
       "      <td>...</td>\n",
       "      <td>...</td>\n",
       "      <td>...</td>\n",
       "      <td>...</td>\n",
       "      <td>...</td>\n",
       "    </tr>\n",
       "    <tr>\n",
       "      <th>9600</th>\n",
       "      <td>2015-11-15</td>\n",
       "      <td>1.20</td>\n",
       "      <td>8896.59</td>\n",
       "      <td>338.88</td>\n",
       "      <td>7249.58</td>\n",
       "      <td>0.00</td>\n",
       "      <td>1308.13</td>\n",
       "      <td>286.67</td>\n",
       "      <td>1021.46</td>\n",
       "      <td>0.00</td>\n",
       "      <td>1</td>\n",
       "      <td>2015</td>\n",
       "      <td>9</td>\n",
       "      <td>11</td>\n",
       "    </tr>\n",
       "    <tr>\n",
       "      <th>12494</th>\n",
       "      <td>2016-03-13</td>\n",
       "      <td>1.37</td>\n",
       "      <td>7157.22</td>\n",
       "      <td>376.52</td>\n",
       "      <td>3722.09</td>\n",
       "      <td>4.30</td>\n",
       "      <td>3054.31</td>\n",
       "      <td>619.05</td>\n",
       "      <td>2435.26</td>\n",
       "      <td>0.00</td>\n",
       "      <td>1</td>\n",
       "      <td>2016</td>\n",
       "      <td>10</td>\n",
       "      <td>3</td>\n",
       "    </tr>\n",
       "    <tr>\n",
       "      <th>8335</th>\n",
       "      <td>2017-09-10</td>\n",
       "      <td>1.56</td>\n",
       "      <td>26385081.36</td>\n",
       "      <td>9496485.27</td>\n",
       "      <td>8373234.08</td>\n",
       "      <td>487926.52</td>\n",
       "      <td>8027435.49</td>\n",
       "      <td>6035666.24</td>\n",
       "      <td>1818832.48</td>\n",
       "      <td>172936.77</td>\n",
       "      <td>0</td>\n",
       "      <td>2017</td>\n",
       "      <td>51</td>\n",
       "      <td>9</td>\n",
       "    </tr>\n",
       "    <tr>\n",
       "      <th>4366</th>\n",
       "      <td>2016-01-10</td>\n",
       "      <td>1.20</td>\n",
       "      <td>3890225.41</td>\n",
       "      <td>96952.31</td>\n",
       "      <td>2696731.85</td>\n",
       "      <td>34789.19</td>\n",
       "      <td>1061752.06</td>\n",
       "      <td>976499.36</td>\n",
       "      <td>85149.37</td>\n",
       "      <td>103.33</td>\n",
       "      <td>0</td>\n",
       "      <td>2016</td>\n",
       "      <td>29</td>\n",
       "      <td>1</td>\n",
       "    </tr>\n",
       "    <tr>\n",
       "      <th>2498</th>\n",
       "      <td>2015-12-13</td>\n",
       "      <td>0.99</td>\n",
       "      <td>166083.52</td>\n",
       "      <td>64673.08</td>\n",
       "      <td>24481.09</td>\n",
       "      <td>71.71</td>\n",
       "      <td>76857.64</td>\n",
       "      <td>55878.32</td>\n",
       "      <td>20979.32</td>\n",
       "      <td>0.00</td>\n",
       "      <td>0</td>\n",
       "      <td>2015</td>\n",
       "      <td>48</td>\n",
       "      <td>12</td>\n",
       "    </tr>\n",
       "  </tbody>\n",
       "</table>\n",
       "<p>18249 rows × 14 columns</p>\n",
       "</div>"
      ],
      "text/plain": [
       "             Date  AveragePrice  Total Volume        4046        4225  \\\n",
       "15415  2017-04-09          0.89      65820.33    11793.22     2019.38   \n",
       "12484  2016-05-22          1.31       6711.12      389.47     3323.72   \n",
       "17101  2017-06-18          1.72      13816.79      235.14     5136.73   \n",
       "13283  2016-01-10          1.46      76440.12     2702.76    34243.57   \n",
       "5791   2017-09-10          1.76      66479.27    36441.41     2816.58   \n",
       "...           ...           ...           ...         ...         ...   \n",
       "9600   2015-11-15          1.20       8896.59      338.88     7249.58   \n",
       "12494  2016-03-13          1.37       7157.22      376.52     3722.09   \n",
       "8335   2017-09-10          1.56   26385081.36  9496485.27  8373234.08   \n",
       "4366   2016-01-10          1.20    3890225.41    96952.31  2696731.85   \n",
       "2498   2015-12-13          0.99     166083.52    64673.08    24481.09   \n",
       "\n",
       "            4770  Total Bags  Small Bags  Large Bags  XLarge Bags  type  year  \\\n",
       "15415      76.45    51931.28    47908.39     4022.89         0.00     1  2017   \n",
       "12484      18.38     2979.55     1037.65     1941.90         0.00     1  2016   \n",
       "17101     132.12     8312.80     6835.95     1476.85         0.00     1  2017   \n",
       "13283    2813.96    36679.83    12285.03    24394.80         0.00     1  2016   \n",
       "5791     6160.18    21061.10    13679.37     7241.83       139.90     0  2017   \n",
       "...          ...         ...         ...         ...          ...   ...   ...   \n",
       "9600        0.00     1308.13      286.67     1021.46         0.00     1  2015   \n",
       "12494       4.30     3054.31      619.05     2435.26         0.00     1  2016   \n",
       "8335   487926.52  8027435.49  6035666.24  1818832.48    172936.77     0  2017   \n",
       "4366    34789.19  1061752.06   976499.36    85149.37       103.33     0  2016   \n",
       "2498       71.71    76857.64    55878.32    20979.32         0.00     0  2015   \n",
       "\n",
       "       region  month  \n",
       "15415      12      4  \n",
       "12484      10      5  \n",
       "17101      44      6  \n",
       "13283      25      1  \n",
       "5791        3      9  \n",
       "...       ...    ...  \n",
       "9600        9     11  \n",
       "12494      10      3  \n",
       "8335       51      9  \n",
       "4366       29      1  \n",
       "2498       48     12  \n",
       "\n",
       "[18249 rows x 14 columns]"
      ]
     },
     "execution_count": 8,
     "metadata": {},
     "output_type": "execute_result"
    }
   ],
   "source": [
    "# Encoding the Two Columns of object datastype by Label Encoder for region and type\n",
    "from sklearn.preprocessing import LabelEncoder\n",
    "le=LabelEncoder()\n",
    "df['region'] = le.fit_transform(df['region'])\n",
    "df['type'] = le.fit_transform(df['type'])\n",
    "df.sample(frac=1)"
   ]
  },
  {
   "cell_type": "code",
   "execution_count": 22,
   "id": "e8e75fce",
   "metadata": {},
   "outputs": [
    {
     "data": {
      "text/plain": [
       "Date             object\n",
       "AveragePrice    float64\n",
       "Total Volume    float64\n",
       "4046            float64\n",
       "4225            float64\n",
       "4770            float64\n",
       "Total Bags      float64\n",
       "Small Bags      float64\n",
       "Large Bags      float64\n",
       "XLarge Bags     float64\n",
       "type              int64\n",
       "year              int64\n",
       "region            int64\n",
       "month             int64\n",
       "dtype: object"
      ]
     },
     "execution_count": 22,
     "metadata": {},
     "output_type": "execute_result"
    }
   ],
   "source": [
    "df.dtypes"
   ]
  },
  {
   "cell_type": "markdown",
   "id": "537f89e2",
   "metadata": {},
   "source": [
    "- We can see that after using LabelEncoder, the type and region columns have been changed to numeric datatype (int64)"
   ]
  },
  {
   "cell_type": "code",
   "execution_count": 9,
   "id": "51bcfe0d",
   "metadata": {},
   "outputs": [],
   "source": [
    "# We have year and month in the dataset now which will be used for analysis. So, now 'Date' column can be dropped from the data\n",
    "df=df.drop(['Date'],axis=1)"
   ]
  },
  {
   "cell_type": "code",
   "execution_count": 25,
   "id": "cd50daf2",
   "metadata": {},
   "outputs": [
    {
     "data": {
      "text/html": [
       "<div>\n",
       "<style scoped>\n",
       "    .dataframe tbody tr th:only-of-type {\n",
       "        vertical-align: middle;\n",
       "    }\n",
       "\n",
       "    .dataframe tbody tr th {\n",
       "        vertical-align: top;\n",
       "    }\n",
       "\n",
       "    .dataframe thead th {\n",
       "        text-align: right;\n",
       "    }\n",
       "</style>\n",
       "<table border=\"1\" class=\"dataframe\">\n",
       "  <thead>\n",
       "    <tr style=\"text-align: right;\">\n",
       "      <th></th>\n",
       "      <th>count</th>\n",
       "      <th>mean</th>\n",
       "      <th>std</th>\n",
       "      <th>min</th>\n",
       "      <th>25%</th>\n",
       "      <th>50%</th>\n",
       "      <th>75%</th>\n",
       "      <th>max</th>\n",
       "    </tr>\n",
       "  </thead>\n",
       "  <tbody>\n",
       "    <tr>\n",
       "      <th>AveragePrice</th>\n",
       "      <td>18249.0</td>\n",
       "      <td>1.405978</td>\n",
       "      <td>4.026766e-01</td>\n",
       "      <td>0.44</td>\n",
       "      <td>1.10</td>\n",
       "      <td>1.37</td>\n",
       "      <td>1.66</td>\n",
       "      <td>3.25</td>\n",
       "    </tr>\n",
       "    <tr>\n",
       "      <th>Total Volume</th>\n",
       "      <td>18249.0</td>\n",
       "      <td>850644.013009</td>\n",
       "      <td>3.453545e+06</td>\n",
       "      <td>84.56</td>\n",
       "      <td>10838.58</td>\n",
       "      <td>107376.76</td>\n",
       "      <td>432962.29</td>\n",
       "      <td>62505646.52</td>\n",
       "    </tr>\n",
       "    <tr>\n",
       "      <th>4046</th>\n",
       "      <td>18249.0</td>\n",
       "      <td>293008.424531</td>\n",
       "      <td>1.264989e+06</td>\n",
       "      <td>0.00</td>\n",
       "      <td>854.07</td>\n",
       "      <td>8645.30</td>\n",
       "      <td>111020.20</td>\n",
       "      <td>22743616.17</td>\n",
       "    </tr>\n",
       "    <tr>\n",
       "      <th>4225</th>\n",
       "      <td>18249.0</td>\n",
       "      <td>295154.568356</td>\n",
       "      <td>1.204120e+06</td>\n",
       "      <td>0.00</td>\n",
       "      <td>3008.78</td>\n",
       "      <td>29061.02</td>\n",
       "      <td>150206.86</td>\n",
       "      <td>20470572.61</td>\n",
       "    </tr>\n",
       "    <tr>\n",
       "      <th>4770</th>\n",
       "      <td>18249.0</td>\n",
       "      <td>22839.735993</td>\n",
       "      <td>1.074641e+05</td>\n",
       "      <td>0.00</td>\n",
       "      <td>0.00</td>\n",
       "      <td>184.99</td>\n",
       "      <td>6243.42</td>\n",
       "      <td>2546439.11</td>\n",
       "    </tr>\n",
       "    <tr>\n",
       "      <th>Total Bags</th>\n",
       "      <td>18249.0</td>\n",
       "      <td>239639.202060</td>\n",
       "      <td>9.862424e+05</td>\n",
       "      <td>0.00</td>\n",
       "      <td>5088.64</td>\n",
       "      <td>39743.83</td>\n",
       "      <td>110783.37</td>\n",
       "      <td>19373134.37</td>\n",
       "    </tr>\n",
       "    <tr>\n",
       "      <th>Small Bags</th>\n",
       "      <td>18249.0</td>\n",
       "      <td>182194.686696</td>\n",
       "      <td>7.461785e+05</td>\n",
       "      <td>0.00</td>\n",
       "      <td>2849.42</td>\n",
       "      <td>26362.82</td>\n",
       "      <td>83337.67</td>\n",
       "      <td>13384586.80</td>\n",
       "    </tr>\n",
       "    <tr>\n",
       "      <th>Large Bags</th>\n",
       "      <td>18249.0</td>\n",
       "      <td>54338.088145</td>\n",
       "      <td>2.439660e+05</td>\n",
       "      <td>0.00</td>\n",
       "      <td>127.47</td>\n",
       "      <td>2647.71</td>\n",
       "      <td>22029.25</td>\n",
       "      <td>5719096.61</td>\n",
       "    </tr>\n",
       "    <tr>\n",
       "      <th>XLarge Bags</th>\n",
       "      <td>18249.0</td>\n",
       "      <td>3106.426507</td>\n",
       "      <td>1.769289e+04</td>\n",
       "      <td>0.00</td>\n",
       "      <td>0.00</td>\n",
       "      <td>0.00</td>\n",
       "      <td>132.50</td>\n",
       "      <td>551693.65</td>\n",
       "    </tr>\n",
       "    <tr>\n",
       "      <th>type</th>\n",
       "      <td>18249.0</td>\n",
       "      <td>0.499918</td>\n",
       "      <td>5.000137e-01</td>\n",
       "      <td>0.00</td>\n",
       "      <td>0.00</td>\n",
       "      <td>0.00</td>\n",
       "      <td>1.00</td>\n",
       "      <td>1.00</td>\n",
       "    </tr>\n",
       "    <tr>\n",
       "      <th>year</th>\n",
       "      <td>18249.0</td>\n",
       "      <td>2016.147899</td>\n",
       "      <td>9.399385e-01</td>\n",
       "      <td>2015.00</td>\n",
       "      <td>2015.00</td>\n",
       "      <td>2016.00</td>\n",
       "      <td>2017.00</td>\n",
       "      <td>2018.00</td>\n",
       "    </tr>\n",
       "    <tr>\n",
       "      <th>region</th>\n",
       "      <td>18249.0</td>\n",
       "      <td>26.495644</td>\n",
       "      <td>1.558379e+01</td>\n",
       "      <td>0.00</td>\n",
       "      <td>13.00</td>\n",
       "      <td>26.00</td>\n",
       "      <td>40.00</td>\n",
       "      <td>53.00</td>\n",
       "    </tr>\n",
       "    <tr>\n",
       "      <th>month</th>\n",
       "      <td>18249.0</td>\n",
       "      <td>6.177215</td>\n",
       "      <td>3.534130e+00</td>\n",
       "      <td>1.00</td>\n",
       "      <td>3.00</td>\n",
       "      <td>6.00</td>\n",
       "      <td>9.00</td>\n",
       "      <td>12.00</td>\n",
       "    </tr>\n",
       "  </tbody>\n",
       "</table>\n",
       "</div>"
      ],
      "text/plain": [
       "                count           mean           std      min       25%  \\\n",
       "AveragePrice  18249.0       1.405978  4.026766e-01     0.44      1.10   \n",
       "Total Volume  18249.0  850644.013009  3.453545e+06    84.56  10838.58   \n",
       "4046          18249.0  293008.424531  1.264989e+06     0.00    854.07   \n",
       "4225          18249.0  295154.568356  1.204120e+06     0.00   3008.78   \n",
       "4770          18249.0   22839.735993  1.074641e+05     0.00      0.00   \n",
       "Total Bags    18249.0  239639.202060  9.862424e+05     0.00   5088.64   \n",
       "Small Bags    18249.0  182194.686696  7.461785e+05     0.00   2849.42   \n",
       "Large Bags    18249.0   54338.088145  2.439660e+05     0.00    127.47   \n",
       "XLarge Bags   18249.0    3106.426507  1.769289e+04     0.00      0.00   \n",
       "type          18249.0       0.499918  5.000137e-01     0.00      0.00   \n",
       "year          18249.0    2016.147899  9.399385e-01  2015.00   2015.00   \n",
       "region        18249.0      26.495644  1.558379e+01     0.00     13.00   \n",
       "month         18249.0       6.177215  3.534130e+00     1.00      3.00   \n",
       "\n",
       "                    50%        75%          max  \n",
       "AveragePrice       1.37       1.66         3.25  \n",
       "Total Volume  107376.76  432962.29  62505646.52  \n",
       "4046            8645.30  111020.20  22743616.17  \n",
       "4225           29061.02  150206.86  20470572.61  \n",
       "4770             184.99    6243.42   2546439.11  \n",
       "Total Bags     39743.83  110783.37  19373134.37  \n",
       "Small Bags     26362.82   83337.67  13384586.80  \n",
       "Large Bags      2647.71   22029.25   5719096.61  \n",
       "XLarge Bags        0.00     132.50    551693.65  \n",
       "type               0.00       1.00         1.00  \n",
       "year            2016.00    2017.00      2018.00  \n",
       "region            26.00      40.00        53.00  \n",
       "month              6.00       9.00        12.00  "
      ]
     },
     "execution_count": 25,
     "metadata": {},
     "output_type": "execute_result"
    }
   ],
   "source": [
    "# Checking statistical summary of the dataset\n",
    "df.describe().T"
   ]
  },
  {
   "cell_type": "markdown",
   "id": "b55ad6df",
   "metadata": {},
   "source": [
    "- There are no null values in the dataset\n",
    "- The 'AveragePrice' columns looks normally distributed( as mean and 50% values are quite close)\n",
    "- For the Numeric Columns in database the mean is more than the median and implying the columns are positivey skewed"
   ]
  },
  {
   "cell_type": "code",
   "execution_count": 10,
   "id": "6213f235",
   "metadata": {},
   "outputs": [
    {
     "data": {
      "text/plain": [
       "AveragePrice     0.580303\n",
       "Total Volume     9.007687\n",
       "4046             8.648220\n",
       "4225             8.942466\n",
       "4770            10.159396\n",
       "Total Bags       9.756072\n",
       "Small Bags       9.540660\n",
       "Large Bags       9.796455\n",
       "XLarge Bags     13.139751\n",
       "type             0.000329\n",
       "year             0.215339\n",
       "region           0.000030\n",
       "month            0.106617\n",
       "dtype: float64"
      ]
     },
     "execution_count": 10,
     "metadata": {},
     "output_type": "execute_result"
    }
   ],
   "source": [
    "# Checking the skewness of the data\n",
    "df.skew()"
   ]
  },
  {
   "cell_type": "markdown",
   "id": "afedfefe",
   "metadata": {},
   "source": [
    "- The skewness data should be nearer to the zero to be a normal distribution, but We can see that our data is away from mean. It is tailed towards right and it is positively skewed\n",
    "- We will deal with the skewness later"
   ]
  },
  {
   "cell_type": "code",
   "execution_count": 27,
   "id": "cd745181",
   "metadata": {},
   "outputs": [
    {
     "data": {
      "text/plain": [
       "AveragePrice      259\n",
       "Total Volume    18237\n",
       "4046            17702\n",
       "4225            18103\n",
       "4770            12071\n",
       "Total Bags      18097\n",
       "Small Bags      17321\n",
       "Large Bags      15082\n",
       "XLarge Bags      5588\n",
       "type                2\n",
       "year                4\n",
       "region             54\n",
       "month              12\n",
       "dtype: int64"
      ]
     },
     "execution_count": 27,
     "metadata": {},
     "output_type": "execute_result"
    }
   ],
   "source": [
    "#Checking unique values of each columns\n",
    "df.nunique()"
   ]
  },
  {
   "cell_type": "code",
   "execution_count": 11,
   "id": "ace79331",
   "metadata": {},
   "outputs": [
    {
     "name": "stdout",
     "output_type": "stream",
     "text": [
      "Duplicate Rows: \n"
     ]
    },
    {
     "data": {
      "text/html": [
       "<div>\n",
       "<style scoped>\n",
       "    .dataframe tbody tr th:only-of-type {\n",
       "        vertical-align: middle;\n",
       "    }\n",
       "\n",
       "    .dataframe tbody tr th {\n",
       "        vertical-align: top;\n",
       "    }\n",
       "\n",
       "    .dataframe thead th {\n",
       "        text-align: right;\n",
       "    }\n",
       "</style>\n",
       "<table border=\"1\" class=\"dataframe\">\n",
       "  <thead>\n",
       "    <tr style=\"text-align: right;\">\n",
       "      <th></th>\n",
       "      <th>AveragePrice</th>\n",
       "      <th>Total Volume</th>\n",
       "      <th>4046</th>\n",
       "      <th>4225</th>\n",
       "      <th>4770</th>\n",
       "      <th>Total Bags</th>\n",
       "      <th>Small Bags</th>\n",
       "      <th>Large Bags</th>\n",
       "      <th>XLarge Bags</th>\n",
       "      <th>type</th>\n",
       "      <th>year</th>\n",
       "      <th>region</th>\n",
       "      <th>month</th>\n",
       "    </tr>\n",
       "  </thead>\n",
       "  <tbody>\n",
       "  </tbody>\n",
       "</table>\n",
       "</div>"
      ],
      "text/plain": [
       "Empty DataFrame\n",
       "Columns: [AveragePrice, Total Volume, 4046, 4225, 4770, Total Bags, Small Bags, Large Bags, XLarge Bags, type, year, region, month]\n",
       "Index: []"
      ]
     },
     "execution_count": 11,
     "metadata": {},
     "output_type": "execute_result"
    }
   ],
   "source": [
    "# Checking the duplicate values\n",
    "\n",
    "duplicated_rows = df[df.duplicated()]\n",
    "print(\"Duplicate Rows: \")\n",
    "\n",
    "#print the Resultant Dataframe\n",
    "duplicated_rows"
   ]
  },
  {
   "cell_type": "markdown",
   "id": "cca105bb",
   "metadata": {},
   "source": [
    "- There are no duplicate rows in the dataset"
   ]
  },
  {
   "cell_type": "markdown",
   "id": "036479cf",
   "metadata": {},
   "source": [
    "# EDA"
   ]
  },
  {
   "cell_type": "code",
   "execution_count": 29,
   "id": "58186130",
   "metadata": {},
   "outputs": [
    {
     "data": {
      "text/plain": [
       "1.15    202\n",
       "1.18    199\n",
       "1.08    194\n",
       "1.26    193\n",
       "1.13    192\n",
       "       ... \n",
       "3.25      1\n",
       "3.12      1\n",
       "2.68      1\n",
       "3.03      1\n",
       "3.17      1\n",
       "Name: AveragePrice, Length: 259, dtype: int64"
      ]
     },
     "execution_count": 29,
     "metadata": {},
     "output_type": "execute_result"
    }
   ],
   "source": [
    "#Frequency table of target column 'AveragePrice'\n",
    "df['AveragePrice'].value_counts()"
   ]
  },
  {
   "cell_type": "code",
   "execution_count": 30,
   "id": "66b3a111",
   "metadata": {},
   "outputs": [
    {
     "name": "stdout",
     "output_type": "stream",
     "text": [
      "1.4059784097758825\n"
     ]
    },
    {
     "data": {
      "text/plain": [
       "<AxesSubplot:xlabel='AveragePrice', ylabel='Count'>"
      ]
     },
     "execution_count": 30,
     "metadata": {},
     "output_type": "execute_result"
    },
    {
     "data": {
      "image/png": "[encoded data removed]",
      "text/plain": [
       "<Figure size 432x288 with 1 Axes>"
      ]
     },
     "metadata": {
      "needs_background": "light"
     },
     "output_type": "display_data"
    }
   ],
   "source": [
    "# histogram for the Average Price\n",
    "print(df['AveragePrice'].mean())\n",
    "sns.histplot(x='AveragePrice', data=df, kde=True)"
   ]
  },
  {
   "cell_type": "markdown",
   "id": "61790873",
   "metadata": {},
   "source": [
    "- The plot validates that AveragePrice is normally distributed"
   ]
  },
  {
   "cell_type": "code",
   "execution_count": 32,
   "id": "5d027612",
   "metadata": {},
   "outputs": [
    {
     "name": "stdout",
     "output_type": "stream",
     "text": [
      "0    9126\n",
      "1    9123\n",
      "Name: type, dtype: int64\n"
     ]
    },
    {
     "data": {
      "text/plain": [
       "<AxesSubplot:xlabel='type', ylabel='count'>"
      ]
     },
     "execution_count": 32,
     "metadata": {},
     "output_type": "execute_result"
    },
    {
     "data": {
      "image/png": "[encoded data removed]",
      "text/plain": [
       "<Figure size 432x288 with 1 Axes>"
      ]
     },
     "metadata": {
      "needs_background": "light"
     },
     "output_type": "display_data"
    }
   ],
   "source": [
    "#Count Plot for Type\n",
    "print(df['type'].value_counts())\n",
    "sns.countplot(x='type',data=df)"
   ]
  },
  {
   "cell_type": "markdown",
   "id": "e02e3035",
   "metadata": {},
   "source": [
    "- As we can see that the data for Conventional and Organic type of Avocado is almost same hence there is no need for balancing the data"
   ]
  },
  {
   "cell_type": "code",
   "execution_count": 33,
   "id": "b248bf63",
   "metadata": {},
   "outputs": [
    {
     "data": {
      "image/png": "[encoded data removed]",
      "text/plain": [
       "<Figure size 576x360 with 1 Axes>"
      ]
     },
     "metadata": {
      "needs_background": "light"
     },
     "output_type": "display_data"
    }
   ],
   "source": [
    "#Bar Plot showing Total volume sold from 2015 to 2018\n",
    "plt.figure(figsize=(8,5))\n",
    "df1=df.groupby([\"year\"])['Total Volume'].sum()\n",
    "plt.bar(data=df1,x=df1.index, height=df1.values)\n",
    "plt.xlabel(\"Years\")\n",
    "plt.ylabel(\"Total Volume\")\n",
    "plt.show()"
   ]
  },
  {
   "cell_type": "markdown",
   "id": "54f9982b",
   "metadata": {},
   "source": [
    "- The maximum Total Volumes of avocados is in the year 2017"
   ]
  },
  {
   "cell_type": "code",
   "execution_count": 35,
   "id": "7bd62d3f",
   "metadata": {},
   "outputs": [
    {
     "data": {
      "image/png": "[encoded data removed]",
      "text/plain": [
       "<Figure size 864x576 with 1 Axes>"
      ]
     },
     "metadata": {
      "needs_background": "light"
     },
     "output_type": "display_data"
    }
   ],
   "source": [
    "# Plot showing the Total Volume Consumed in regions of USA\n",
    "plt.figure(figsize=(12,8))\n",
    "df1=df.groupby(df[\"region\"])['Total Volume'].sum()\n",
    "plt.bar(data=df1,x=df1.index, height=df1.values)\n",
    "plt.xlabel(\"region\")\n",
    "plt.ylabel(\"Total Volume\")\n",
    "plt.show()"
   ]
  },
  {
   "cell_type": "code",
   "execution_count": 36,
   "id": "ab5db56b",
   "metadata": {},
   "outputs": [
    {
     "data": {
      "text/plain": [
       "<AxesSubplot:xlabel='region', ylabel='AveragePrice'>"
      ]
     },
     "execution_count": 36,
     "metadata": {},
     "output_type": "execute_result"
    },
    {
     "data": {
      "image/png": "[encoded data removed]",
      "text/plain": [
       "<Figure size 1440x1080 with 1 Axes>"
      ]
     },
     "metadata": {
      "needs_background": "light"
     },
     "output_type": "display_data"
    }
   ],
   "source": [
    "# Plot showing Average Price in diffrent regions of the USA\n",
    "df1=df.groupby(['region']).sum()\n",
    "plt.figure(figsize=(20,15))\n",
    "sns.barplot(x = df1.index,y=df1[\"AveragePrice\"],data = df1)"
   ]
  },
  {
   "cell_type": "code",
   "execution_count": 37,
   "id": "d708a8b3",
   "metadata": {},
   "outputs": [
    {
     "data": {
      "text/plain": [
       "<AxesSubplot:xlabel='month', ylabel='AveragePrice'>"
      ]
     },
     "execution_count": 37,
     "metadata": {},
     "output_type": "execute_result"
    },
    {
     "data": {
      "image/png": "[encoded data removed]",
      "text/plain": [
       "<Figure size 432x288 with 1 Axes>"
      ]
     },
     "metadata": {
      "needs_background": "light"
     },
     "output_type": "display_data"
    }
   ],
   "source": [
    "# The average price distributed over the months\n",
    "sns.barplot(x='month',y='AveragePrice', data=df)"
   ]
  },
  {
   "cell_type": "markdown",
   "id": "fa495b7b",
   "metadata": {},
   "source": [
    "- The sales of avocados is at it's peak during September and October. But, throughout the year the sales don't go very low. Therefore, the demand is consistently good throughout the year"
   ]
  },
  {
   "cell_type": "code",
   "execution_count": 38,
   "id": "0e6dce50",
   "metadata": {},
   "outputs": [
    {
     "data": {
      "text/plain": [
       "<AxesSubplot:xlabel='year', ylabel='AveragePrice'>"
      ]
     },
     "execution_count": 38,
     "metadata": {},
     "output_type": "execute_result"
    },
    {
     "data": {
      "image/png": "[encoded data removed]",
      "text/plain": [
       "<Figure size 432x288 with 1 Axes>"
      ]
     },
     "metadata": {
      "needs_background": "light"
     },
     "output_type": "display_data"
    }
   ],
   "source": [
    "# Average Price vs Year Plot\n",
    "sns.barplot(x='year',y='AveragePrice', data=df)\n"
   ]
  },
  {
   "cell_type": "markdown",
   "id": "3d5e45b5",
   "metadata": {},
   "source": [
    "- We can see that the in 2017 the average price is little bit high otherwise it is more or less constant only"
   ]
  },
  {
   "cell_type": "code",
   "execution_count": 41,
   "id": "6f6b99ad",
   "metadata": {},
   "outputs": [
    {
     "data": {
      "text/plain": [
       "<AxesSubplot:xlabel='month', ylabel='AveragePrice'>"
      ]
     },
     "execution_count": 41,
     "metadata": {},
     "output_type": "execute_result"
    },
    {
     "data": {
      "image/png": "[encoded data removed]",
      "text/plain": [
       "<Figure size 864x576 with 1 Axes>"
      ]
     },
     "metadata": {
      "needs_background": "light"
     },
     "output_type": "display_data"
    }
   ],
   "source": [
    "# Line plot for the all the regions over the months\n",
    "plt.figure(figsize=(12,8))\n",
    "sns.lineplot(x='month',y='AveragePrice', data=df, hue='region')"
   ]
  },
  {
   "cell_type": "markdown",
   "id": "6e078c8a",
   "metadata": {},
   "source": [
    "- It can be concluded that the the Average Price is higher in the month of september, october and november"
   ]
  },
  {
   "cell_type": "code",
   "execution_count": 43,
   "id": "3d40b673",
   "metadata": {},
   "outputs": [
    {
     "data": {
      "text/plain": [
       "<AxesSubplot:>"
      ]
     },
     "execution_count": 43,
     "metadata": {},
     "output_type": "execute_result"
    },
    {
     "data": {
      "image/png": "[encoded data removed]",
      "text/plain": [
       "<Figure size 864x576 with 2 Axes>"
      ]
     },
     "metadata": {
      "needs_background": "light"
     },
     "output_type": "display_data"
    }
   ],
   "source": [
    "#Checking the correlation of the database\n",
    "corr_mat=df.corr()\n",
    "plt.figure(figsize=(12,8))\n",
    "sns.heatmap(corr_mat,annot=True)"
   ]
  },
  {
   "cell_type": "code",
   "execution_count": 12,
   "id": "c0babeeb",
   "metadata": {},
   "outputs": [
    {
     "data": {
      "text/html": [
       "<div>\n",
       "<style scoped>\n",
       "    .dataframe tbody tr th:only-of-type {\n",
       "        vertical-align: middle;\n",
       "    }\n",
       "\n",
       "    .dataframe tbody tr th {\n",
       "        vertical-align: top;\n",
       "    }\n",
       "\n",
       "    .dataframe thead th {\n",
       "        text-align: right;\n",
       "    }\n",
       "</style>\n",
       "<table border=\"1\" class=\"dataframe\">\n",
       "  <thead>\n",
       "    <tr style=\"text-align: right;\">\n",
       "      <th></th>\n",
       "      <th>Independent Features</th>\n",
       "      <th>VIF Scores</th>\n",
       "    </tr>\n",
       "  </thead>\n",
       "  <tbody>\n",
       "    <tr>\n",
       "      <th>0</th>\n",
       "      <td>AveragePrice</td>\n",
       "      <td>2.288679e+01</td>\n",
       "    </tr>\n",
       "    <tr>\n",
       "      <th>1</th>\n",
       "      <td>Total Volume</td>\n",
       "      <td>5.213172e+09</td>\n",
       "    </tr>\n",
       "    <tr>\n",
       "      <th>2</th>\n",
       "      <td>4046</td>\n",
       "      <td>6.947984e+08</td>\n",
       "    </tr>\n",
       "    <tr>\n",
       "      <th>3</th>\n",
       "      <td>4225</td>\n",
       "      <td>6.333882e+08</td>\n",
       "    </tr>\n",
       "    <tr>\n",
       "      <th>4</th>\n",
       "      <td>4770</td>\n",
       "      <td>4.974087e+06</td>\n",
       "    </tr>\n",
       "    <tr>\n",
       "      <th>5</th>\n",
       "      <td>Total Bags</td>\n",
       "      <td>2.502000e+14</td>\n",
       "    </tr>\n",
       "    <tr>\n",
       "      <th>6</th>\n",
       "      <td>Small Bags</td>\n",
       "      <td>1.429714e+14</td>\n",
       "    </tr>\n",
       "    <tr>\n",
       "      <th>7</th>\n",
       "      <td>Large Bags</td>\n",
       "      <td>1.521486e+13</td>\n",
       "    </tr>\n",
       "    <tr>\n",
       "      <th>8</th>\n",
       "      <td>XLarge Bags</td>\n",
       "      <td>7.856943e+10</td>\n",
       "    </tr>\n",
       "    <tr>\n",
       "      <th>9</th>\n",
       "      <td>type</td>\n",
       "      <td>3.399608e+00</td>\n",
       "    </tr>\n",
       "    <tr>\n",
       "      <th>10</th>\n",
       "      <td>year</td>\n",
       "      <td>1.982417e+01</td>\n",
       "    </tr>\n",
       "    <tr>\n",
       "      <th>11</th>\n",
       "      <td>region</td>\n",
       "      <td>4.161431e+00</td>\n",
       "    </tr>\n",
       "    <tr>\n",
       "      <th>12</th>\n",
       "      <td>month</td>\n",
       "      <td>4.240237e+00</td>\n",
       "    </tr>\n",
       "  </tbody>\n",
       "</table>\n",
       "</div>"
      ],
      "text/plain": [
       "   Independent Features    VIF Scores\n",
       "0          AveragePrice  2.288679e+01\n",
       "1          Total Volume  5.213172e+09\n",
       "2                  4046  6.947984e+08\n",
       "3                  4225  6.333882e+08\n",
       "4                  4770  4.974087e+06\n",
       "5            Total Bags  2.502000e+14\n",
       "6            Small Bags  1.429714e+14\n",
       "7            Large Bags  1.521486e+13\n",
       "8           XLarge Bags  7.856943e+10\n",
       "9                  type  3.399608e+00\n",
       "10                 year  1.982417e+01\n",
       "11               region  4.161431e+00\n",
       "12                month  4.240237e+00"
      ]
     },
     "execution_count": 12,
     "metadata": {},
     "output_type": "execute_result"
    }
   ],
   "source": [
    "#importing the VIF in jupyter\n",
    "from statsmodels.stats.outliers_influence import variance_inflation_factor\n",
    "new_df=pd.DataFrame(df)\n",
    "def vif_scores(df):\n",
    "    VIF_Scores = pd.DataFrame()\n",
    "    VIF_Scores[\"Independent Features\"] = new_df.columns\n",
    "    VIF_Scores[\"VIF Scores\"] = [variance_inflation_factor(new_df.values,i) for i in range(new_df.shape[1])]\n",
    "    return VIF_Scores\n",
    "df1 = new_df\n",
    "vif_scores(df1)"
   ]
  },
  {
   "cell_type": "code",
   "execution_count": 45,
   "id": "d7c8694e",
   "metadata": {},
   "outputs": [
    {
     "data": {
      "text/plain": [
       "array([[<AxesSubplot:title={'center':'AveragePrice'}>,\n",
       "        <AxesSubplot:title={'center':'Total Volume'}>,\n",
       "        <AxesSubplot:title={'center':'4046'}>,\n",
       "        <AxesSubplot:title={'center':'4225'}>,\n",
       "        <AxesSubplot:title={'center':'4770'}>],\n",
       "       [<AxesSubplot:title={'center':'Total Bags'}>,\n",
       "        <AxesSubplot:title={'center':'Small Bags'}>,\n",
       "        <AxesSubplot:title={'center':'Large Bags'}>,\n",
       "        <AxesSubplot:title={'center':'XLarge Bags'}>,\n",
       "        <AxesSubplot:title={'center':'type'}>],\n",
       "       [<AxesSubplot:title={'center':'year'}>,\n",
       "        <AxesSubplot:title={'center':'region'}>,\n",
       "        <AxesSubplot:title={'center':'month'}>, <AxesSubplot:>,\n",
       "        <AxesSubplot:>],\n",
       "       [<AxesSubplot:>, <AxesSubplot:>, <AxesSubplot:>, <AxesSubplot:>,\n",
       "        <AxesSubplot:>]], dtype=object)"
      ]
     },
     "execution_count": 45,
     "metadata": {},
     "output_type": "execute_result"
    },
    {
     "data": {
      "image/png": "[encoded data removed]",
      "text/plain": [
       "<Figure size 1080x720 with 20 Axes>"
      ]
     },
     "metadata": {
      "needs_background": "light"
     },
     "output_type": "display_data"
    }
   ],
   "source": [
    "## Plotting Histogram for the database\n",
    "df.hist(grid=True,layout=(4,5),figsize=(15,10),bins=30)"
   ]
  },
  {
   "cell_type": "markdown",
   "id": "2c51038e",
   "metadata": {},
   "source": [
    "- The Numerical columns are positively skewed as shown in dataset"
   ]
  },
  {
   "cell_type": "code",
   "execution_count": 46,
   "id": "74cd23ef",
   "metadata": {},
   "outputs": [
    {
     "data": {
      "text/plain": [
       "AveragePrice        AxesSubplot(0.125,0.71587;0.133621x0.16413)\n",
       "Total Volume     AxesSubplot(0.285345,0.71587;0.133621x0.16413)\n",
       "4046              AxesSubplot(0.44569,0.71587;0.133621x0.16413)\n",
       "4225             AxesSubplot(0.606034,0.71587;0.133621x0.16413)\n",
       "4770             AxesSubplot(0.766379,0.71587;0.133621x0.16413)\n",
       "Total Bags         AxesSubplot(0.125,0.518913;0.133621x0.16413)\n",
       "Small Bags      AxesSubplot(0.285345,0.518913;0.133621x0.16413)\n",
       "Large Bags       AxesSubplot(0.44569,0.518913;0.133621x0.16413)\n",
       "XLarge Bags     AxesSubplot(0.606034,0.518913;0.133621x0.16413)\n",
       "type            AxesSubplot(0.766379,0.518913;0.133621x0.16413)\n",
       "year               AxesSubplot(0.125,0.321957;0.133621x0.16413)\n",
       "region          AxesSubplot(0.285345,0.321957;0.133621x0.16413)\n",
       "month            AxesSubplot(0.44569,0.321957;0.133621x0.16413)\n",
       "dtype: object"
      ]
     },
     "execution_count": 46,
     "metadata": {},
     "output_type": "execute_result"
    },
    {
     "data": {
      "image/png": "[encoded data removed]",
      "text/plain": [
       "<Figure size 1080x720 with 20 Axes>"
      ]
     },
     "metadata": {
      "needs_background": "light"
     },
     "output_type": "display_data"
    }
   ],
   "source": [
    "# Checking for outliers in data base by box plot method\n",
    "df.plot(kind='box', subplots=True,layout=(4,5),figsize=(15,10))"
   ]
  },
  {
   "cell_type": "code",
   "execution_count": 13,
   "id": "3b93df94",
   "metadata": {},
   "outputs": [
    {
     "data": {
      "text/plain": [
       "<AxesSubplot:>"
      ]
     },
     "execution_count": 13,
     "metadata": {},
     "output_type": "execute_result"
    },
    {
     "data": {
      "image/png": "[encoded data removed]",
      "text/plain": [
       "<Figure size 1500x700 with 1 Axes>"
      ]
     },
     "metadata": {
      "needs_background": "light"
     },
     "output_type": "display_data"
    }
   ],
   "source": [
    "plt.figure(figsize=(15,7),dpi=100)\n",
    "sns.boxplot(data = df[['AveragePrice','Total Volume','4046','4225','4770','Total Bags','Small Bags','Large Bags','XLarge Bags']])"
   ]
  },
  {
   "cell_type": "markdown",
   "id": "2406d4ee",
   "metadata": {},
   "source": [
    "- As we can see that the Total volume, 4046, 4225, 4770, total bags , small bags , large bags, Xlarge bags are having the outliers and have to be removed for further processing"
   ]
  },
  {
   "cell_type": "markdown",
   "id": "73fa1610",
   "metadata": {},
   "source": [
    "### Dealing with Outliers\n"
   ]
  },
  {
   "cell_type": "code",
   "execution_count": 14,
   "id": "eb530a7d",
   "metadata": {},
   "outputs": [
    {
     "data": {
      "text/plain": [
       "(18249, 13)"
      ]
     },
     "execution_count": 14,
     "metadata": {},
     "output_type": "execute_result"
    }
   ],
   "source": [
    "# Importing Zscore\n",
    "from scipy.stats import zscore\n",
    "z=np.abs(zscore(df))\n",
    "z.shape"
   ]
  },
  {
   "cell_type": "code",
   "execution_count": 15,
   "id": "e6e3ada6",
   "metadata": {},
   "outputs": [
    {
     "name": "stdout",
     "output_type": "stream",
     "text": [
      "(array([  346,   359,   780, ..., 17304, 17402, 17428], dtype=int64), array([2, 2, 8, ..., 0, 0, 0], dtype=int64))\n"
     ]
    }
   ],
   "source": [
    "# Setting threshold at 3 and detecting the outliers\n",
    "threshold=3\n",
    "print(np.where(z>3))"
   ]
  },
  {
   "cell_type": "code",
   "execution_count": 16,
   "id": "1c1f9f3f",
   "metadata": {},
   "outputs": [
    {
     "data": {
      "text/plain": [
       "(17651, 13)"
      ]
     },
     "execution_count": 16,
     "metadata": {},
     "output_type": "execute_result"
    }
   ],
   "source": [
    "# Removing the outlier \n",
    "df=df[(z<3).all(axis=1)]\n",
    "df.shape"
   ]
  },
  {
   "cell_type": "code",
   "execution_count": 17,
   "id": "465f2e09",
   "metadata": {},
   "outputs": [
    {
     "data": {
      "text/plain": [
       "3.276891884486821"
      ]
     },
     "execution_count": 17,
     "metadata": {},
     "output_type": "execute_result"
    }
   ],
   "source": [
    "#calculating loss\n",
    "loss=(18249-17651)/18249*100\n",
    "loss"
   ]
  },
  {
   "cell_type": "markdown",
   "id": "f71e7d49",
   "metadata": {},
   "source": [
    "As the loss of data is only 3.27% we can remove the outliers and Proceed Further"
   ]
  },
  {
   "cell_type": "markdown",
   "id": "fd68880c",
   "metadata": {},
   "source": [
    "# Separating the data for train test Split in X and Y"
   ]
  },
  {
   "cell_type": "code",
   "execution_count": 18,
   "id": "65dc5da5",
   "metadata": {},
   "outputs": [
    {
     "name": "stdout",
     "output_type": "stream",
     "text": [
      "(17651, 12)\n",
      "(17651,)\n"
     ]
    }
   ],
   "source": [
    "x=df.drop(['AveragePrice'],axis=1)\n",
    "y=df['AveragePrice']\n",
    "print(x.shape)\n",
    "print(y.shape)"
   ]
  },
  {
   "cell_type": "markdown",
   "id": "ac9a2699",
   "metadata": {},
   "source": [
    "# Regression Model for Average Price Prediction"
   ]
  },
  {
   "cell_type": "code",
   "execution_count": 19,
   "id": "e5fa67d1",
   "metadata": {},
   "outputs": [
    {
     "data": {
      "text/plain": [
       "array([[-0.07532391, -0.65742071,  0.35142978, ..., -1.2106467 ,\n",
       "        -2.01058988,  1.49138301],\n",
       "       [-0.14749743, -0.77717852,  0.26951276, ..., -1.2106467 ,\n",
       "        -2.01058988,  1.49138301],\n",
       "       [ 0.20555557, -0.7317763 ,  0.64933326, ..., -1.2106467 ,\n",
       "        -2.01058988,  1.49138301],\n",
       "       ...,\n",
       "       [-0.77527398, -0.61796649, -0.77889327, ...,  1.97870686,\n",
       "         1.57828237, -1.64028838],\n",
       "       [-0.70179733, -0.54701087, -0.71637127, ...,  1.97870686,\n",
       "         1.57828237, -1.64028838],\n",
       "       [-0.66738095, -0.35967077, -0.79165015, ...,  1.97870686,\n",
       "         1.57828237, -1.64028838]])"
      ]
     },
     "execution_count": 19,
     "metadata": {},
     "output_type": "execute_result"
    }
   ],
   "source": [
    "# Removing Skewness Using Power Transform\n",
    "from sklearn.preprocessing import power_transform\n",
    "x=power_transform(x, method='yeo-johnson')\n",
    "x"
   ]
  },
  {
   "cell_type": "code",
   "execution_count": 20,
   "id": "852a47ff",
   "metadata": {},
   "outputs": [
    {
     "data": {
      "text/plain": [
       "0    -0.008642\n",
       "1    -0.039282\n",
       "2    -0.044675\n",
       "3     0.024168\n",
       "4    -0.022204\n",
       "5    -0.024405\n",
       "6    -0.110913\n",
       "7     0.853758\n",
       "8    -0.037741\n",
       "9     0.227731\n",
       "10   -0.257799\n",
       "11   -0.146554\n",
       "dtype: float64"
      ]
     },
     "execution_count": 20,
     "metadata": {},
     "output_type": "execute_result"
    }
   ],
   "source": [
    "#checking for skewness is removed or not\n",
    "skew_df=pd.DataFrame(x)\n",
    "skew_df.skew()"
   ]
  },
  {
   "cell_type": "markdown",
   "id": "4d812488",
   "metadata": {},
   "source": [
    "- As we can see the skewness has reduced"
   ]
  },
  {
   "cell_type": "code",
   "execution_count": 21,
   "id": "ce8eed6a",
   "metadata": {},
   "outputs": [
    {
     "data": {
      "text/plain": [
       "array([[-0.07532391, -0.65742071,  0.35142978, ..., -1.21061818,\n",
       "        -2.01058988,  1.49138301],\n",
       "       [-0.14749743, -0.77717852,  0.26951276, ..., -1.21061818,\n",
       "        -2.01058988,  1.49138301],\n",
       "       [ 0.20555557, -0.7317763 ,  0.64933326, ..., -1.21061818,\n",
       "        -2.01058988,  1.49138301],\n",
       "       ...,\n",
       "       [-0.77527398, -0.61796649, -0.77889327, ...,  1.97873539,\n",
       "         1.57828237, -1.64028838],\n",
       "       [-0.70179733, -0.54701087, -0.71637127, ...,  1.97873539,\n",
       "         1.57828237, -1.64028838],\n",
       "       [-0.66738095, -0.35967077, -0.79165015, ...,  1.97873539,\n",
       "         1.57828237, -1.64028838]])"
      ]
     },
     "execution_count": 21,
     "metadata": {},
     "output_type": "execute_result"
    }
   ],
   "source": [
    "#importing the StandardScaler\n",
    "from sklearn.preprocessing import StandardScaler\n",
    "ss=StandardScaler()\n",
    "x=ss.fit_transform(x)\n",
    "x"
   ]
  },
  {
   "cell_type": "code",
   "execution_count": 22,
   "id": "654c96c9",
   "metadata": {},
   "outputs": [],
   "source": [
    "# importing Linear Regression and metrics for it\n",
    "from sklearn.linear_model import LinearRegression\n",
    "from sklearn.metrics import mean_squared_error,mean_absolute_error, r2_score\n",
    "from sklearn.model_selection import train_test_split"
   ]
  },
  {
   "cell_type": "code",
   "execution_count": 23,
   "id": "553cf24a",
   "metadata": {},
   "outputs": [
    {
     "name": "stdout",
     "output_type": "stream",
     "text": [
      "Random State is  0\n",
      "training accuracy is  0.5666882050160083\n",
      "testing accuracy is  0.5634741496278667\n",
      "\n",
      "\n",
      "Random State is  1\n",
      "training accuracy is  0.5666103521825521\n",
      "testing accuracy is  0.5639597075840952\n",
      "\n",
      "\n",
      "Random State is  2\n",
      "training accuracy is  0.5718413768134276\n",
      "testing accuracy is  0.5427639160840694\n",
      "\n",
      "\n",
      "Random State is  3\n",
      "training accuracy is  0.5629430427731699\n",
      "testing accuracy is  0.5786904612917032\n",
      "\n",
      "\n",
      "Random State is  4\n",
      "training accuracy is  0.5650976909776033\n",
      "testing accuracy is  0.5700126247429147\n",
      "\n",
      "\n",
      "Random State is  5\n",
      "training accuracy is  0.5626002816407243\n",
      "testing accuracy is  0.5793447239905818\n",
      "\n",
      "\n",
      "Random State is  6\n",
      "training accuracy is  0.5625167397348434\n",
      "testing accuracy is  0.5797783923779247\n",
      "\n",
      "\n",
      "Random State is  7\n",
      "training accuracy is  0.5639485433044089\n",
      "testing accuracy is  0.5742757516621944\n",
      "\n",
      "\n",
      "Random State is  8\n",
      "training accuracy is  0.564640199563857\n",
      "testing accuracy is  0.5710759039975799\n",
      "\n",
      "\n",
      "Random State is  9\n",
      "training accuracy is  0.5651861772743902\n",
      "testing accuracy is  0.5691165540638835\n",
      "\n",
      "\n",
      "Random State is  10\n",
      "training accuracy is  0.5687519636629801\n",
      "testing accuracy is  0.5550265178353471\n",
      "\n",
      "\n",
      "Random State is  11\n",
      "training accuracy is  0.5649159221682769\n",
      "testing accuracy is  0.5706531985988159\n",
      "\n",
      "\n",
      "Random State is  12\n",
      "training accuracy is  0.5684001946525548\n",
      "testing accuracy is  0.556449718429221\n",
      "\n",
      "\n",
      "Random State is  13\n",
      "training accuracy is  0.5655876756011359\n",
      "testing accuracy is  0.5681119651212232\n",
      "\n",
      "\n",
      "Random State is  14\n",
      "training accuracy is  0.566317957260684\n",
      "testing accuracy is  0.5648667401380958\n",
      "\n",
      "\n",
      "Random State is  15\n",
      "training accuracy is  0.566976056568326\n",
      "testing accuracy is  0.5622235499986719\n",
      "\n",
      "\n",
      "Random State is  16\n",
      "training accuracy is  0.5679317825403778\n",
      "testing accuracy is  0.5582084055239516\n",
      "\n",
      "\n",
      "Random State is  17\n",
      "training accuracy is  0.5670242789452806\n",
      "testing accuracy is  0.5616570838142421\n",
      "\n",
      "\n",
      "Random State is  18\n",
      "training accuracy is  0.5652981653871659\n",
      "testing accuracy is  0.5689548101403139\n",
      "\n",
      "\n",
      "Random State is  19\n",
      "training accuracy is  0.5629052584370615\n",
      "testing accuracy is  0.5790148080433661\n",
      "\n",
      "\n",
      "Random State is  20\n",
      "training accuracy is  0.5655869383035755\n",
      "testing accuracy is  0.5680369380988948\n",
      "\n",
      "\n",
      "Random State is  21\n",
      "training accuracy is  0.5672625332769432\n",
      "testing accuracy is  0.5610023789107206\n",
      "\n",
      "\n",
      "Random State is  22\n",
      "training accuracy is  0.5681718776080076\n",
      "testing accuracy is  0.5572447964334932\n",
      "\n",
      "\n",
      "Random State is  23\n",
      "training accuracy is  0.567610715004516\n",
      "testing accuracy is  0.5593602752449983\n",
      "\n",
      "\n",
      "Random State is  24\n",
      "training accuracy is  0.5661052414744497\n",
      "testing accuracy is  0.5658883310026034\n",
      "\n",
      "\n",
      "Random State is  25\n",
      "training accuracy is  0.5674923961833405\n",
      "testing accuracy is  0.5598080762027298\n",
      "\n",
      "\n",
      "Random State is  26\n",
      "training accuracy is  0.566913175897212\n",
      "testing accuracy is  0.5627931547251603\n",
      "\n",
      "\n",
      "Random State is  27\n",
      "training accuracy is  0.5655695998062832\n",
      "testing accuracy is  0.5678964778860771\n",
      "\n",
      "\n",
      "Random State is  28\n",
      "training accuracy is  0.5623939750667822\n",
      "testing accuracy is  0.5810831198131035\n",
      "\n",
      "\n",
      "Random State is  29\n",
      "training accuracy is  0.5648070912578034\n",
      "testing accuracy is  0.5707800810695393\n",
      "\n",
      "\n",
      "Random State is  30\n",
      "training accuracy is  0.5703851092330005\n",
      "testing accuracy is  0.5480320609971031\n",
      "\n",
      "\n",
      "Random State is  31\n",
      "training accuracy is  0.5636433322329761\n",
      "testing accuracy is  0.5756006880490101\n",
      "\n",
      "\n",
      "Random State is  32\n",
      "training accuracy is  0.5668190311780554\n",
      "testing accuracy is  0.5631514723730066\n",
      "\n",
      "\n",
      "Random State is  33\n",
      "training accuracy is  0.5649129145148011\n",
      "testing accuracy is  0.5704968531396888\n",
      "\n",
      "\n",
      "Random State is  34\n",
      "training accuracy is  0.5668804523575955\n",
      "testing accuracy is  0.5623523752925703\n",
      "\n",
      "\n",
      "Random State is  35\n",
      "training accuracy is  0.5644357024221408\n",
      "testing accuracy is  0.5723760201438302\n",
      "\n",
      "\n",
      "Random State is  36\n",
      "training accuracy is  0.5682071662654924\n",
      "testing accuracy is  0.5566487662767701\n",
      "\n",
      "\n",
      "Random State is  37\n",
      "training accuracy is  0.5648439368745402\n",
      "testing accuracy is  0.5710514623642851\n",
      "\n",
      "\n",
      "Random State is  38\n",
      "training accuracy is  0.5650524980542563\n",
      "testing accuracy is  0.5698959970456845\n",
      "\n",
      "\n",
      "Random State is  39\n",
      "training accuracy is  0.5675552875881389\n",
      "testing accuracy is  0.5595766968979241\n",
      "\n",
      "\n",
      "Random State is  40\n",
      "training accuracy is  0.566626423576992\n",
      "testing accuracy is  0.5639221546556676\n",
      "\n",
      "\n",
      "Random State is  41\n",
      "training accuracy is  0.5650771048993015\n",
      "testing accuracy is  0.569801279567377\n",
      "\n",
      "\n",
      "Random State is  42\n",
      "training accuracy is  0.5648912919224507\n",
      "testing accuracy is  0.5703742683454683\n",
      "\n",
      "\n",
      "Random State is  43\n",
      "training accuracy is  0.5646615523689138\n",
      "testing accuracy is  0.5716134923445921\n",
      "\n",
      "\n",
      "Random State is  44\n",
      "training accuracy is  0.5692090146933967\n",
      "testing accuracy is  0.553158848781526\n",
      "\n",
      "\n",
      "Random State is  45\n",
      "training accuracy is  0.5644813387123497\n",
      "testing accuracy is  0.5720209271332709\n",
      "\n",
      "\n",
      "Random State is  46\n",
      "training accuracy is  0.5633793465796361\n",
      "testing accuracy is  0.5765498376671417\n",
      "\n",
      "\n",
      "Random State is  47\n",
      "training accuracy is  0.5672765377731205\n",
      "testing accuracy is  0.5610695499688847\n",
      "\n",
      "\n",
      "Random State is  48\n",
      "training accuracy is  0.5659393580924865\n",
      "testing accuracy is  0.5663659003044872\n",
      "\n",
      "\n",
      "Random State is  49\n",
      "training accuracy is  0.5639828156950648\n",
      "testing accuracy is  0.5739542501663182\n",
      "\n",
      "\n",
      "Random State is  50\n",
      "training accuracy is  0.5671432464231667\n",
      "testing accuracy is  0.561670226411158\n",
      "\n",
      "\n",
      "Random State is  51\n",
      "training accuracy is  0.5667122083347509\n",
      "testing accuracy is  0.5632422929408014\n",
      "\n",
      "\n",
      "Random State is  52\n",
      "training accuracy is  0.5644496241900249\n",
      "testing accuracy is  0.5721807906831595\n",
      "\n",
      "\n",
      "Random State is  53\n",
      "training accuracy is  0.5651313560246061\n",
      "testing accuracy is  0.5698906047518618\n",
      "\n",
      "\n",
      "Random State is  54\n",
      "training accuracy is  0.5715046847343082\n",
      "testing accuracy is  0.5439450101583416\n",
      "\n",
      "\n",
      "Random State is  55\n",
      "training accuracy is  0.56748160981579\n",
      "testing accuracy is  0.5595976062423527\n",
      "\n",
      "\n",
      "Random State is  56\n",
      "training accuracy is  0.5650258984695926\n",
      "testing accuracy is  0.5699344462093556\n",
      "\n",
      "\n",
      "Random State is  57\n",
      "training accuracy is  0.5630461496725699\n",
      "testing accuracy is  0.5775862910556413\n",
      "\n",
      "\n",
      "Random State is  58\n",
      "training accuracy is  0.5641759089806998\n",
      "testing accuracy is  0.5732787841337321\n",
      "\n",
      "\n",
      "Random State is  59\n",
      "training accuracy is  0.5691045161096626\n",
      "testing accuracy is  0.5535290285855291\n",
      "\n",
      "\n",
      "Random State is  60\n",
      "training accuracy is  0.562475614148959\n",
      "testing accuracy is  0.5797095588663467\n",
      "\n",
      "\n",
      "Random State is  61\n",
      "training accuracy is  0.5713618839631716\n",
      "testing accuracy is  0.5445411218828338\n",
      "\n",
      "\n",
      "Random State is  62\n",
      "training accuracy is  0.5677469625832179\n",
      "testing accuracy is  0.5590082016110429\n",
      "\n",
      "\n",
      "Random State is  63\n",
      "training accuracy is  0.5640246722897264\n",
      "testing accuracy is  0.5738291232847951\n",
      "\n",
      "\n",
      "Random State is  64\n",
      "training accuracy is  0.5654802257784786\n",
      "testing accuracy is  0.568571052964174\n",
      "\n",
      "\n",
      "Random State is  65\n",
      "training accuracy is  0.5643021609567644\n",
      "testing accuracy is  0.5730373862898084\n",
      "\n",
      "\n",
      "Random State is  66\n",
      "training accuracy is  0.5674702651870225\n",
      "testing accuracy is  0.5595153059935478\n",
      "\n",
      "\n",
      "Random State is  67\n",
      "training accuracy is  0.5653508510174026\n",
      "testing accuracy is  0.5687644249012868\n",
      "\n",
      "\n",
      "Random State is  68\n",
      "training accuracy is  0.5646379048242305\n",
      "testing accuracy is  0.5713180994722697\n",
      "\n",
      "\n",
      "Random State is  69\n",
      "training accuracy is  0.5629164900085853\n",
      "testing accuracy is  0.5781535606209237\n",
      "\n",
      "\n",
      "Random State is  70\n",
      "training accuracy is  0.567528469027788\n",
      "testing accuracy is  0.5600885810924784\n",
      "\n",
      "\n",
      "Random State is  71\n",
      "training accuracy is  0.5641717067770362\n",
      "testing accuracy is  0.5734570411829191\n",
      "\n",
      "\n",
      "Random State is  72\n",
      "training accuracy is  0.5655415098116809\n",
      "testing accuracy is  0.5676767729749301\n",
      "\n",
      "\n",
      "Random State is  73\n",
      "training accuracy is  0.5660885818032174\n",
      "testing accuracy is  0.5658904279009636\n",
      "\n",
      "\n",
      "Random State is  74\n",
      "training accuracy is  0.5657763819375096\n",
      "testing accuracy is  0.5671425440104058\n",
      "\n",
      "\n",
      "Random State is  75\n",
      "training accuracy is  0.5667163281263847\n",
      "testing accuracy is  0.5635279187803456\n",
      "\n",
      "\n",
      "Random State is  76\n",
      "training accuracy is  0.5645447263428571\n",
      "testing accuracy is  0.5723243375038458\n",
      "\n",
      "\n",
      "Random State is  77\n",
      "training accuracy is  0.5659180208811989\n",
      "testing accuracy is  0.5666212942938302\n",
      "\n",
      "\n",
      "Random State is  78\n",
      "training accuracy is  0.5667273227450493\n",
      "testing accuracy is  0.5635115021372358\n",
      "\n",
      "\n",
      "Random State is  79\n",
      "training accuracy is  0.5634085394762618\n",
      "testing accuracy is  0.5768348982229525\n",
      "\n",
      "\n",
      "Random State is  80\n",
      "training accuracy is  0.5682212888187553\n",
      "testing accuracy is  0.5568101836815045\n",
      "\n",
      "\n",
      "Random State is  81\n",
      "training accuracy is  0.565472127225989\n",
      "testing accuracy is  0.5684359035531525\n",
      "\n",
      "\n",
      "Random State is  82\n",
      "training accuracy is  0.561195932128886\n",
      "testing accuracy is  0.5853134646524616\n",
      "\n",
      "\n",
      "Random State is  83\n",
      "training accuracy is  0.5680461113433983\n",
      "testing accuracy is  0.5577960318831534\n",
      "\n",
      "\n",
      "Random State is  84\n",
      "training accuracy is  0.5665029209721563\n",
      "testing accuracy is  0.5639707067409616\n",
      "\n",
      "\n",
      "Random State is  85\n",
      "training accuracy is  0.5625197865078471\n",
      "testing accuracy is  0.5785607372637572\n",
      "\n",
      "\n",
      "Random State is  86\n",
      "training accuracy is  0.5663546065884226\n",
      "testing accuracy is  0.5649565593970842\n",
      "\n",
      "\n",
      "Random State is  87\n",
      "training accuracy is  0.5668616444588388\n",
      "testing accuracy is  0.5628933064626704\n",
      "\n",
      "\n",
      "Random State is  88\n",
      "training accuracy is  0.5681226063138646\n",
      "testing accuracy is  0.5576395444924993\n",
      "\n",
      "\n",
      "Random State is  89\n",
      "training accuracy is  0.5642098861818396\n",
      "testing accuracy is  0.5737528942645761\n",
      "\n",
      "\n",
      "Random State is  90\n",
      "training accuracy is  0.5727374285031404\n",
      "testing accuracy is  0.5384811514262648\n",
      "\n",
      "\n",
      "Random State is  91\n",
      "training accuracy is  0.5665908751256501\n",
      "testing accuracy is  0.5636448875409998\n",
      "\n",
      "\n",
      "Random State is  92\n",
      "training accuracy is  0.5662363967899757\n",
      "testing accuracy is  0.5650432040472428\n",
      "\n",
      "\n",
      "Random State is  93\n",
      "training accuracy is  0.5681955321599226\n",
      "testing accuracy is  0.5576165624164022\n",
      "\n",
      "\n",
      "Random State is  94\n",
      "training accuracy is  0.5683835812476967\n",
      "testing accuracy is  0.5565745525221801\n",
      "\n",
      "\n",
      "Random State is  95\n",
      "training accuracy is  0.5655271869170384\n",
      "testing accuracy is  0.5681848712270507\n",
      "\n",
      "\n",
      "Random State is  96\n",
      "training accuracy is  0.5665166857229751\n",
      "testing accuracy is  0.5645555780305016\n",
      "\n",
      "\n",
      "Random State is  97\n",
      "training accuracy is  0.5674037654489676\n",
      "testing accuracy is  0.5604830081723453\n",
      "\n",
      "\n",
      "Random State is  98\n",
      "training accuracy is  0.5673692293659436\n",
      "testing accuracy is  0.5606358390531646\n",
      "\n",
      "\n",
      "Random State is  99\n",
      "training accuracy is  0.5648362934109274\n",
      "testing accuracy is  0.570695546972535\n",
      "\n",
      "\n",
      "Random State is  100\n",
      "training accuracy is  0.5655942898779497\n",
      "testing accuracy is  0.5680473079346544\n",
      "\n",
      "\n",
      "Random State is  101\n",
      "training accuracy is  0.5648586112262171\n",
      "testing accuracy is  0.5709154703702178\n",
      "\n",
      "\n",
      "Random State is  102\n",
      "training accuracy is  0.5669960035625419\n",
      "testing accuracy is  0.5622866668818176\n",
      "\n",
      "\n",
      "Random State is  103\n",
      "training accuracy is  0.5685907405454702\n",
      "testing accuracy is  0.5559902214376773\n",
      "\n",
      "\n",
      "Random State is  104\n",
      "training accuracy is  0.5651977454039379\n",
      "testing accuracy is  0.568892099740467\n",
      "\n",
      "\n",
      "Random State is  105\n",
      "training accuracy is  0.5672647328462729\n",
      "testing accuracy is  0.5611456145500592\n",
      "\n",
      "\n",
      "Random State is  106\n",
      "training accuracy is  0.5628351884679992\n",
      "testing accuracy is  0.5785122810497452\n",
      "\n",
      "\n",
      "Random State is  107\n",
      "training accuracy is  0.5650479808005877\n",
      "testing accuracy is  0.5696225725548894\n",
      "\n",
      "\n",
      "Random State is  108\n",
      "training accuracy is  0.5664774565006546\n",
      "testing accuracy is  0.5641581904546138\n",
      "\n",
      "\n",
      "Random State is  109\n",
      "training accuracy is  0.5676664901750765\n",
      "testing accuracy is  0.5594560004057749\n",
      "\n",
      "\n",
      "Random State is  110\n",
      "training accuracy is  0.5688983753082746\n",
      "testing accuracy is  0.5543199901917548\n",
      "\n",
      "\n",
      "Random State is  111\n",
      "training accuracy is  0.569759296103045\n",
      "testing accuracy is  0.5512313955535573\n",
      "\n",
      "\n",
      "Random State is  112\n",
      "training accuracy is  0.564933503633694\n",
      "testing accuracy is  0.5704156353847823\n",
      "\n",
      "\n",
      "Random State is  113\n",
      "training accuracy is  0.5656514231063614\n",
      "testing accuracy is  0.5676646338200784\n",
      "\n",
      "\n",
      "Random State is  114\n",
      "training accuracy is  0.5675308287582085\n",
      "testing accuracy is  0.5599242245978637\n",
      "\n",
      "\n",
      "Random State is  115\n",
      "training accuracy is  0.5662150769682963\n",
      "testing accuracy is  0.5653729213285471\n",
      "\n",
      "\n",
      "Random State is  116\n",
      "training accuracy is  0.5640310013748149\n",
      "testing accuracy is  0.5738207997976104\n",
      "\n",
      "\n",
      "Random State is  117\n",
      "training accuracy is  0.563662671204687\n",
      "testing accuracy is  0.5755696689317069\n",
      "\n",
      "\n",
      "Random State is  118\n",
      "training accuracy is  0.5626473735343951\n",
      "testing accuracy is  0.5795370437519918\n",
      "\n",
      "\n",
      "Random State is  119\n",
      "training accuracy is  0.5678284358305229\n",
      "testing accuracy is  0.5587065218931409\n",
      "\n",
      "\n",
      "Random State is  120\n",
      "training accuracy is  0.5698387341594885\n",
      "testing accuracy is  0.5502201121947643\n",
      "\n",
      "\n",
      "Random State is  121\n",
      "training accuracy is  0.5672664348510956\n",
      "testing accuracy is  0.5611766372709586\n",
      "\n",
      "\n",
      "Random State is  122\n",
      "training accuracy is  0.5704027083222069\n",
      "testing accuracy is  0.5470309689897979\n",
      "\n",
      "\n",
      "Random State is  123\n",
      "training accuracy is  0.5683710168606158\n",
      "testing accuracy is  0.5565598506092468\n",
      "\n",
      "\n",
      "Random State is  124\n",
      "training accuracy is  0.5688664109386176\n",
      "testing accuracy is  0.5544401702334971\n",
      "\n",
      "\n",
      "Random State is  125\n",
      "training accuracy is  0.5698877482245259\n",
      "testing accuracy is  0.5494501158186802\n",
      "\n",
      "\n",
      "Random State is  126\n",
      "training accuracy is  0.565300415273349\n",
      "testing accuracy is  0.5690253009694507\n",
      "\n",
      "\n",
      "Random State is  127\n",
      "training accuracy is  0.5663967843359972\n",
      "testing accuracy is  0.5644401283930314\n",
      "\n",
      "\n",
      "Random State is  128\n",
      "training accuracy is  0.5677080876275878\n",
      "testing accuracy is  0.5593580381703843\n",
      "\n",
      "\n",
      "Random State is  129\n",
      "training accuracy is  0.5647080402298714\n",
      "testing accuracy is  0.5708721282225714\n",
      "\n",
      "\n",
      "Random State is  130\n",
      "training accuracy is  0.5666957130896355\n",
      "testing accuracy is  0.5633859208861631\n",
      "\n",
      "\n",
      "Random State is  131\n",
      "training accuracy is  0.5657561505140032\n",
      "testing accuracy is  0.5668001822382359\n",
      "\n",
      "\n",
      "Random State is  132\n",
      "training accuracy is  0.563663584100295\n",
      "testing accuracy is  0.5757666479211085\n",
      "\n",
      "\n",
      "Random State is  133\n",
      "training accuracy is  0.5689395245013336\n",
      "testing accuracy is  0.5541408619765038\n",
      "\n",
      "\n",
      "Random State is  134\n",
      "training accuracy is  0.5616139580763753\n",
      "testing accuracy is  0.5838296100764431\n",
      "\n",
      "\n",
      "Random State is  135\n",
      "training accuracy is  0.5726642757811741\n",
      "testing accuracy is  0.5381111040618507\n",
      "\n",
      "\n",
      "Random State is  136\n",
      "training accuracy is  0.5667024331421814\n",
      "testing accuracy is  0.5635657377192627\n",
      "\n",
      "\n",
      "Random State is  137\n",
      "training accuracy is  0.5662662655832953\n",
      "testing accuracy is  0.5651974620739452\n",
      "\n",
      "\n",
      "Random State is  138\n",
      "training accuracy is  0.5658005084854356\n",
      "testing accuracy is  0.5665919979689206\n",
      "\n",
      "\n",
      "Random State is  139\n",
      "training accuracy is  0.5673456587872778\n",
      "testing accuracy is  0.5604221174127133\n",
      "\n",
      "\n",
      "Random State is  140\n",
      "training accuracy is  0.5639945397345414\n",
      "testing accuracy is  0.574374141153758\n",
      "\n",
      "\n",
      "Random State is  141\n",
      "training accuracy is  0.5654938837377796\n",
      "testing accuracy is  0.5676233004614637\n",
      "\n",
      "\n",
      "Random State is  142\n",
      "training accuracy is  0.5676510743924338\n",
      "testing accuracy is  0.559104461894492\n",
      "\n",
      "\n",
      "Random State is  143\n",
      "training accuracy is  0.567282080767392\n",
      "testing accuracy is  0.5609987616904459\n",
      "\n",
      "\n",
      "Random State is  144\n",
      "training accuracy is  0.5652633164796024\n",
      "testing accuracy is  0.5692704037622988\n",
      "\n",
      "\n",
      "Random State is  145\n",
      "training accuracy is  0.5660648412056231\n",
      "testing accuracy is  0.5659346601575468\n",
      "\n",
      "\n",
      "Random State is  146\n",
      "training accuracy is  0.5653430583802788\n",
      "testing accuracy is  0.5688062379863439\n",
      "\n",
      "\n",
      "Random State is  147\n",
      "training accuracy is  0.5626102848927481\n",
      "testing accuracy is  0.5793653268557681\n",
      "\n",
      "\n",
      "Random State is  148\n",
      "training accuracy is  0.5652085762286367\n",
      "testing accuracy is  0.5691796148764929\n",
      "\n",
      "\n",
      "Random State is  149\n",
      "training accuracy is  0.5665940255219233\n",
      "testing accuracy is  0.5636816111714615\n",
      "\n",
      "\n",
      "Random State is  150\n",
      "training accuracy is  0.5697979269972147\n",
      "testing accuracy is  0.5500960244171671\n",
      "\n",
      "\n",
      "Random State is  151\n",
      "training accuracy is  0.5697334018792393\n",
      "testing accuracy is  0.5515802014717597\n",
      "\n",
      "\n",
      "Random State is  152\n",
      "training accuracy is  0.5651766861577505\n",
      "testing accuracy is  0.5697476753845527\n",
      "\n",
      "\n",
      "Random State is  153\n",
      "training accuracy is  0.5692162417418805\n",
      "testing accuracy is  0.5521388989271301\n",
      "\n",
      "\n",
      "Random State is  154\n",
      "training accuracy is  0.5671321658204608\n",
      "testing accuracy is  0.5615215648432113\n",
      "\n",
      "\n",
      "Random State is  155\n",
      "training accuracy is  0.5667929983768227\n",
      "testing accuracy is  0.5631973147264249\n",
      "\n",
      "\n",
      "Random State is  156\n",
      "training accuracy is  0.5660886536496518\n",
      "testing accuracy is  0.566104008878531\n",
      "\n",
      "\n",
      "Random State is  157\n",
      "training accuracy is  0.5676017157129558\n",
      "testing accuracy is  0.559848279841427\n",
      "\n",
      "\n",
      "Random State is  158\n",
      "training accuracy is  0.5670997430808425\n",
      "testing accuracy is  0.5619517194208621\n",
      "\n",
      "\n",
      "Random State is  159\n",
      "training accuracy is  0.5636521624145838\n",
      "testing accuracy is  0.5752217366791201\n",
      "\n",
      "\n",
      "Random State is  160\n",
      "training accuracy is  0.5675282042476208\n",
      "testing accuracy is  0.5597377333934297\n",
      "\n",
      "\n",
      "Random State is  161\n",
      "training accuracy is  0.56691071581077\n",
      "testing accuracy is  0.5620641092950607\n",
      "\n",
      "\n",
      "Random State is  162\n",
      "training accuracy is  0.5676001155474857\n",
      "testing accuracy is  0.5594570484141468\n",
      "\n",
      "\n",
      "Random State is  163\n",
      "training accuracy is  0.5689264953657756\n",
      "testing accuracy is  0.5545191344016219\n",
      "\n",
      "\n",
      "Random State is  164\n",
      "training accuracy is  0.5656278783698427\n",
      "testing accuracy is  0.5678269793553103\n",
      "\n",
      "\n",
      "Random State is  165\n",
      "training accuracy is  0.5626209232576135\n",
      "testing accuracy is  0.5783014541805791\n",
      "\n",
      "\n",
      "Random State is  166\n",
      "training accuracy is  0.5670939744835264\n",
      "testing accuracy is  0.5620054061750203\n",
      "\n",
      "\n",
      "Random State is  167\n",
      "training accuracy is  0.566216742260572\n",
      "testing accuracy is  0.5652574117995394\n",
      "\n",
      "\n",
      "Random State is  168\n",
      "training accuracy is  0.565114380917767\n",
      "testing accuracy is  0.5697841609698812\n",
      "\n",
      "\n",
      "Random State is  169\n",
      "training accuracy is  0.5665597775232307\n",
      "testing accuracy is  0.5639020593619244\n",
      "\n",
      "\n",
      "Random State is  170\n",
      "training accuracy is  0.5697008015604565\n",
      "testing accuracy is  0.5506162051408918\n",
      "\n",
      "\n",
      "Random State is  171\n",
      "training accuracy is  0.5670738064235408\n",
      "testing accuracy is  0.561661444104253\n",
      "\n",
      "\n",
      "Random State is  172\n",
      "training accuracy is  0.5663704389250116\n",
      "testing accuracy is  0.5647958998986119\n",
      "\n",
      "\n",
      "Random State is  173\n",
      "training accuracy is  0.5643146429343686\n",
      "testing accuracy is  0.5731009128495675\n",
      "\n",
      "\n",
      "Random State is  174\n",
      "training accuracy is  0.5659340194079894\n",
      "testing accuracy is  0.5665263660352156\n",
      "\n",
      "\n",
      "Random State is  175\n",
      "training accuracy is  0.5629518374486282\n",
      "testing accuracy is  0.5786451243133168\n",
      "\n",
      "\n",
      "Random State is  176\n",
      "training accuracy is  0.5675462008346359\n",
      "testing accuracy is  0.5596843279455144\n",
      "\n",
      "\n",
      "Random State is  177\n",
      "training accuracy is  0.5670093486306997\n",
      "testing accuracy is  0.5623771602790391\n",
      "\n",
      "\n",
      "Random State is  178\n",
      "training accuracy is  0.5656861239694018\n",
      "testing accuracy is  0.5676024413750503\n",
      "\n",
      "\n",
      "Random State is  179\n",
      "training accuracy is  0.5654598739334042\n",
      "testing accuracy is  0.568223876349384\n",
      "\n",
      "\n",
      "Random State is  180\n",
      "training accuracy is  0.5666975274799395\n",
      "testing accuracy is  0.5632490432825801\n",
      "\n",
      "\n",
      "Random State is  181\n",
      "training accuracy is  0.5639796968207713\n",
      "testing accuracy is  0.5737426658233943\n",
      "\n",
      "\n",
      "Random State is  182\n",
      "training accuracy is  0.562472932341803\n",
      "testing accuracy is  0.5791970918778815\n",
      "\n",
      "\n",
      "Random State is  183\n",
      "training accuracy is  0.5668144311164853\n",
      "testing accuracy is  0.5630652827063793\n",
      "\n",
      "\n",
      "Random State is  184\n",
      "training accuracy is  0.5661090494522225\n",
      "testing accuracy is  0.5653016084167171\n",
      "\n",
      "\n",
      "Random State is  185\n",
      "training accuracy is  0.569456713690006\n",
      "testing accuracy is  0.5518949092829439\n",
      "\n",
      "\n",
      "Random State is  186\n",
      "training accuracy is  0.5712550159874046\n",
      "testing accuracy is  0.5446858916137922\n",
      "\n",
      "\n",
      "Random State is  187\n",
      "training accuracy is  0.5674486297440131\n",
      "testing accuracy is  0.5604793991750385\n",
      "\n",
      "\n",
      "Random State is  188\n",
      "training accuracy is  0.5671212636279075\n",
      "testing accuracy is  0.5611834143761556\n",
      "\n",
      "\n",
      "Random State is  189\n",
      "training accuracy is  0.5636029525655029\n",
      "testing accuracy is  0.5756385075944217\n",
      "\n",
      "\n",
      "Random State is  190\n",
      "training accuracy is  0.5721776349323191\n",
      "testing accuracy is  0.5411637347210708\n",
      "\n",
      "\n",
      "Random State is  191\n",
      "training accuracy is  0.5648367880808357\n",
      "testing accuracy is  0.5705584175386298\n",
      "\n",
      "\n",
      "Random State is  192\n",
      "training accuracy is  0.5664695122408081\n",
      "testing accuracy is  0.5643734354157728\n",
      "\n",
      "\n",
      "Random State is  193\n",
      "training accuracy is  0.5661525343479432\n",
      "testing accuracy is  0.5654016019653061\n",
      "\n",
      "\n",
      "Random State is  194\n",
      "training accuracy is  0.566127686752026\n",
      "testing accuracy is  0.5657967548485205\n",
      "\n",
      "\n",
      "Random State is  195\n",
      "training accuracy is  0.5619855950050406\n",
      "testing accuracy is  0.5812208427410493\n",
      "\n",
      "\n",
      "Random State is  196\n",
      "training accuracy is  0.5637563720752594\n",
      "testing accuracy is  0.5753158858175831\n",
      "\n",
      "\n",
      "Random State is  197\n",
      "training accuracy is  0.5626522352470248\n",
      "testing accuracy is  0.5794977416846576\n",
      "\n",
      "\n",
      "Random State is  198\n",
      "training accuracy is  0.5658686383655829\n",
      "testing accuracy is  0.5667511660528478\n",
      "\n",
      "\n",
      "Random State is  199\n",
      "training accuracy is  0.5644742256680719\n",
      "testing accuracy is  0.5723000198636671\n",
      "\n",
      "\n",
      "maximum r2 score is  0.5853134646524616 at random state  82\n"
     ]
    }
   ],
   "source": [
    "# Finding the best Random State\n",
    "maxr2=0\n",
    "maxrs=0\n",
    "lr=LinearRegression()\n",
    "for i in range(0,200):\n",
    "    print(\"Random State is \", i)\n",
    "    xtrain,xtest,ytrain,ytest=train_test_split(x,y,test_size=0.20,random_state=i)\n",
    "    lr.fit(xtrain,ytrain)\n",
    "    predtrain=lr.predict(xtrain)\n",
    "    predtest=lr.predict(xtest)\n",
    "    print('training accuracy is ', r2_score(ytrain,predtrain))\n",
    "    score=r2_score(ytest,predtest)\n",
    "    print('testing accuracy is ', score)\n",
    "    print(\"\\n\")\n",
    "    \n",
    "    if score>maxr2:\n",
    "        maxr2=score\n",
    "        maxrs=i\n",
    "        \n",
    "        \n",
    "print(\"maximum r2 score is \", maxr2 , \"at random state \", maxrs)"
   ]
  },
  {
   "cell_type": "code",
   "execution_count": 24,
   "id": "8fc4686c",
   "metadata": {},
   "outputs": [],
   "source": [
    "# Spliting data on the best Random state we have got\n",
    "x_train,x_test,y_train,y_test=train_test_split(x,y,test_size=0.20,random_state=82)"
   ]
  },
  {
   "cell_type": "code",
   "execution_count": 25,
   "id": "ed7271c4",
   "metadata": {},
   "outputs": [
    {
     "name": "stdout",
     "output_type": "stream",
     "text": [
      "training accuracy is  0.561195932128886\n",
      "testing accuracy is  0.5853134646524616\n",
      "Mean Squared Error is  0.06214169697059118\n",
      "Mean Absolute Error is  0.19736746883639378\n",
      "Root Mean Squared Error is  0.24928236393814782\n"
     ]
    }
   ],
   "source": [
    "#running that Linear Regression model \n",
    "\n",
    "lr.fit(x_train,y_train)\n",
    "predtrainlr=lr.predict(x_train)\n",
    "predtestlr=lr.predict(x_test)\n",
    "print('training accuracy is ', r2_score(y_train,predtrainlr))\n",
    "print('testing accuracy is ', r2_score(y_test,predtestlr))\n",
    "print(\"Mean Squared Error is \",mean_squared_error(y_test,predtestlr))\n",
    "print(\"Mean Absolute Error is \",mean_absolute_error(y_test,predtestlr))\n",
    "print(\"Root Mean Squared Error is \",np.sqrt(mean_squared_error(y_test,predtestlr)))"
   ]
  },
  {
   "cell_type": "code",
   "execution_count": 26,
   "id": "49c29f80",
   "metadata": {},
   "outputs": [
    {
     "name": "stdout",
     "output_type": "stream",
     "text": [
      "At fold  2 Mean CV score is  -3.5371998372408875\n",
      "training accuracy is  0.561195932128886\n",
      "testing accuracy is  0.5853134646524616\n",
      "At fold  3 Mean CV score is  0.192599043475148\n",
      "training accuracy is  0.561195932128886\n",
      "testing accuracy is  0.5853134646524616\n",
      "At fold  4 Mean CV score is  0.15375417533857866\n",
      "training accuracy is  0.561195932128886\n",
      "testing accuracy is  0.5853134646524616\n",
      "At fold  5 Mean CV score is  0.21843055959979357\n",
      "training accuracy is  0.561195932128886\n",
      "testing accuracy is  0.5853134646524616\n",
      "At fold  6 Mean CV score is  0.1417246680896793\n",
      "training accuracy is  0.561195932128886\n",
      "testing accuracy is  0.5853134646524616\n",
      "At fold  7 Mean CV score is  0.1630232876508375\n",
      "training accuracy is  0.561195932128886\n",
      "testing accuracy is  0.5853134646524616\n",
      "At fold  8 Mean CV score is  0.15993074813639874\n",
      "training accuracy is  0.561195932128886\n",
      "testing accuracy is  0.5853134646524616\n",
      "At fold  9 Mean CV score is  0.17669781278024144\n",
      "training accuracy is  0.561195932128886\n",
      "testing accuracy is  0.5853134646524616\n",
      "At fold  10 Mean CV score is  0.1645714569407895\n",
      "training accuracy is  0.561195932128886\n",
      "testing accuracy is  0.5853134646524616\n",
      "At fold  11 Mean CV score is  0.16638759494768413\n",
      "training accuracy is  0.561195932128886\n",
      "testing accuracy is  0.5853134646524616\n",
      "At fold  12 Mean CV score is  0.16487070488568759\n",
      "training accuracy is  0.561195932128886\n",
      "testing accuracy is  0.5853134646524616\n",
      "At fold  13 Mean CV score is  0.1670558275105965\n",
      "training accuracy is  0.561195932128886\n",
      "testing accuracy is  0.5853134646524616\n",
      "At fold  14 Mean CV score is  0.1455613674377299\n",
      "training accuracy is  0.561195932128886\n",
      "testing accuracy is  0.5853134646524616\n",
      "At fold  15 Mean CV score is  0.16825096196452893\n",
      "training accuracy is  0.561195932128886\n",
      "testing accuracy is  0.5853134646524616\n",
      "At fold  16 Mean CV score is  0.16577973449173372\n",
      "training accuracy is  0.561195932128886\n",
      "testing accuracy is  0.5853134646524616\n",
      "At fold  17 Mean CV score is  0.15306226955641264\n",
      "training accuracy is  0.561195932128886\n",
      "testing accuracy is  0.5853134646524616\n",
      "At fold  18 Mean CV score is  0.1653431410835776\n",
      "training accuracy is  0.561195932128886\n",
      "testing accuracy is  0.5853134646524616\n",
      "At fold  19 Mean CV score is  0.1667180738843537\n",
      "training accuracy is  0.561195932128886\n",
      "testing accuracy is  0.5853134646524616\n"
     ]
    }
   ],
   "source": [
    "from sklearn.model_selection import cross_val_score\n",
    "#Cross validation of the lr model\n",
    "for j in range(2,20):\n",
    "    cv_score=cross_val_score(lr, x, y, cv=j)\n",
    "    print('At fold ', j , \"Mean CV score is \", cv_score.mean())\n",
    "    print('training accuracy is ', r2_score(y_train,predtrainlr))\n",
    "    print('testing accuracy is ', r2_score(y_test,predtestlr))"
   ]
  },
  {
   "cell_type": "code",
   "execution_count": 34,
   "id": "980f6f3a",
   "metadata": {},
   "outputs": [
    {
     "name": "stdout",
     "output_type": "stream",
     "text": [
      "training accuracy is  1.0\n",
      "testing accuracy is  0.7681909516874952\n",
      "Mean Squared Error is  0.034737099971679404\n",
      "Mean Absolute Error is  0.12277824978759558\n",
      "Root Mean Squared Error is  0.1863789150405147\n"
     ]
    }
   ],
   "source": [
    "# modelling using the Decision tree regressor\n",
    "from sklearn.tree import DecisionTreeRegressor\n",
    "\n",
    "dtr=DecisionTreeRegressor()\n",
    "dtr.fit(x_train,y_train)\n",
    "predtraindtr=dtr.predict(x_train)\n",
    "predtestdtr=dtr.predict(x_test)\n",
    "print('training accuracy is ', r2_score(y_train,predtraindtr))\n",
    "print('testing accuracy is ', r2_score(y_test,predtestdtr))\n",
    "print(\"Mean Squared Error is \",mean_squared_error(y_test,predtestdtr))\n",
    "print(\"Mean Absolute Error is \",mean_absolute_error(y_test,predtestdtr))\n",
    "print(\"Root Mean Squared Error is \",np.sqrt(mean_squared_error(y_test,predtestdtr)))"
   ]
  },
  {
   "cell_type": "code",
   "execution_count": 35,
   "id": "fe453d88",
   "metadata": {},
   "outputs": [
    {
     "name": "stdout",
     "output_type": "stream",
     "text": [
      "At fold  2 Mean CV score is  -2.0299893210015454\n",
      "At fold  3 Mean CV score is  -0.39541301723273153\n",
      "At fold  4 Mean CV score is  -0.2972142895643943\n",
      "At fold  5 Mean CV score is  -0.2894808292648716\n",
      "At fold  6 Mean CV score is  -0.46140897729806224\n",
      "At fold  7 Mean CV score is  -0.27119161212641707\n",
      "At fold  8 Mean CV score is  -0.3147076486602005\n",
      "At fold  9 Mean CV score is  -0.27792326074406554\n"
     ]
    }
   ],
   "source": [
    "#Cross validation of the dtr model\n",
    "dtr=DecisionTreeRegressor()\n",
    "for j in range(2,10):\n",
    "    cvdtr=cross_val_score(dtr, x, y, cv=j)\n",
    "    print('At fold ', j , \"Mean CV score is \", cvdtr.mean())"
   ]
  },
  {
   "cell_type": "code",
   "execution_count": 36,
   "id": "a4750e1e",
   "metadata": {},
   "outputs": [
    {
     "name": "stdout",
     "output_type": "stream",
     "text": [
      "training accuracy is  0.9842900397536949\n",
      "testing accuracy is  0.8949622322742072\n",
      "Mean Squared Error is  0.015740142435570655\n",
      "Mean Absolute Error is  0.08891979609175871\n",
      "Root Mean Squared Error is  0.12545972435634734\n"
     ]
    }
   ],
   "source": [
    "# Modelling with randomForestRegressor\n",
    "\n",
    "from sklearn.ensemble import RandomForestRegressor\n",
    "\n",
    "rfr=RandomForestRegressor()\n",
    "rfr.fit(x_train,y_train)\n",
    "predtrainrfr=rfr.predict(x_train)\n",
    "predtestrfr=rfr.predict(x_test)\n",
    "print('training accuracy is ', r2_score(y_train,predtrainrfr))\n",
    "print('testing accuracy is ', r2_score(y_test,predtestrfr))\n",
    "print(\"Mean Squared Error is \",mean_squared_error(y_test,predtestrfr))\n",
    "print(\"Mean Absolute Error is \",mean_absolute_error(y_test,predtestrfr))\n",
    "print(\"Root Mean Squared Error is \",np.sqrt(mean_squared_error(y_test,predtestrfr)))"
   ]
  },
  {
   "cell_type": "code",
   "execution_count": 37,
   "id": "7d78b54e",
   "metadata": {},
   "outputs": [
    {
     "name": "stdout",
     "output_type": "stream",
     "text": [
      "At fold  2 Mean CV score is  -1.1026392470549347\n",
      "At fold  3 Mean CV score is  0.059776341074318874\n",
      "At fold  4 Mean CV score is  0.13554770905940358\n",
      "At fold  5 Mean CV score is  0.1898339778255491\n",
      "At fold  6 Mean CV score is  0.19594421828823205\n",
      "At fold  7 Mean CV score is  0.2639151770117838\n",
      "At fold  8 Mean CV score is  0.2739499463913273\n",
      "At fold  9 Mean CV score is  0.3375021513140347\n"
     ]
    }
   ],
   "source": [
    "#Cross validation of the rfr model\n",
    "for j in range(2,10):\n",
    "    cv_score=cross_val_score(rfr, x, y, cv=j)\n",
    "    print('At fold ', j , \"Mean CV score is \", cv_score.mean())"
   ]
  },
  {
   "cell_type": "code",
   "execution_count": 39,
   "id": "8dc396ea",
   "metadata": {},
   "outputs": [
    {
     "name": "stdout",
     "output_type": "stream",
     "text": [
      "training accuracy is  1.0\n",
      "testing accuracy is  0.9174331104357132\n",
      "Mean Squared Error is  0.012372831509487392\n",
      "Mean Absolute Error is  0.07745800056641179\n",
      "Root Mean Squared Error is  0.11123323023938211\n"
     ]
    }
   ],
   "source": [
    "# modelling with ExtraTreesRegressor\n",
    "\n",
    "from sklearn.ensemble import ExtraTreesRegressor\n",
    "\n",
    "etr=ExtraTreesRegressor()\n",
    "etr.fit(x_train,y_train)\n",
    "predtrainetr=etr.predict(x_train)\n",
    "predtestetr=etr.predict(x_test)\n",
    "print('training accuracy is ', r2_score(y_train,predtrainetr))\n",
    "print('testing accuracy is ', r2_score(y_test,predtestetr))\n",
    "print(\"Mean Squared Error is \",mean_squared_error(y_test,predtestetr))\n",
    "print(\"Mean Absolute Error is \",mean_absolute_error(y_test,predtestetr))\n",
    "print(\"Root Mean Squared Error is \",np.sqrt(mean_squared_error(y_test,predtestetr)))"
   ]
  },
  {
   "cell_type": "code",
   "execution_count": 40,
   "id": "08ead1ec",
   "metadata": {},
   "outputs": [
    {
     "name": "stdout",
     "output_type": "stream",
     "text": [
      "At fold  2 Mean CV score is  -1.1302150661108294\n",
      "At fold  3 Mean CV score is  0.10999076699395142\n",
      "At fold  4 Mean CV score is  0.19423861152496064\n",
      "At fold  5 Mean CV score is  0.2829583585565086\n",
      "At fold  6 Mean CV score is  0.2796080947355011\n",
      "At fold  7 Mean CV score is  0.42197615453093373\n",
      "At fold  8 Mean CV score is  0.4196420499208475\n",
      "At fold  9 Mean CV score is  0.48896621834348214\n"
     ]
    }
   ],
   "source": [
    "#Cross validation of the etr model\n",
    "for j in range(2,10):\n",
    "    cv_score=cross_val_score(etr, x, y, cv=j)\n",
    "    print('At fold ', j , \"Mean CV score is \", cv_score.mean())"
   ]
  },
  {
   "cell_type": "code",
   "execution_count": 30,
   "id": "fd89e058",
   "metadata": {},
   "outputs": [
    {
     "name": "stdout",
     "output_type": "stream",
     "text": [
      "training accuracy is  0.8034864425851105\n",
      "testing accuracy is  0.8019551803106875\n",
      "Mean Squared Error is  0.029677455433691807\n",
      "Mean Absolute Error is  0.12872463505678572\n",
      "Root Mean Squared Error is  0.17227145855797416\n"
     ]
    }
   ],
   "source": [
    "# Modelling with SVR\n",
    "\n",
    "from sklearn.svm import SVR\n",
    "\n",
    "svr=SVR()\n",
    "svr.fit(x_train,y_train)\n",
    "predtrainsvr=svr.predict(x_train)\n",
    "predtestsvr=svr.predict(x_test)\n",
    "print('training accuracy is ', r2_score(y_train,predtrainsvr))\n",
    "print('testing accuracy is ', r2_score(y_test,predtestsvr))\n",
    "print(\"Mean Squared Error is \",mean_squared_error(y_test,predtestsvr))\n",
    "print(\"Mean Absolute Error is \",mean_absolute_error(y_test,predtestsvr))\n",
    "print(\"Root Mean Squared Error is \",np.sqrt(mean_squared_error(y_test,predtestsvr)))"
   ]
  },
  {
   "cell_type": "code",
   "execution_count": 41,
   "id": "8463fbec",
   "metadata": {},
   "outputs": [
    {
     "name": "stdout",
     "output_type": "stream",
     "text": [
      "At fold  2 Mean CV score is  -1.1023673731544155\n",
      "At fold  3 Mean CV score is  -0.26980849660239775\n",
      "At fold  4 Mean CV score is  -0.0305047593170463\n",
      "At fold  5 Mean CV score is  0.04549307194346035\n",
      "At fold  6 Mean CV score is  0.015217592272076511\n",
      "At fold  7 Mean CV score is  0.077563722524267\n",
      "At fold  8 Mean CV score is  0.24152037037498103\n",
      "At fold  9 Mean CV score is  0.2685764023603643\n"
     ]
    }
   ],
   "source": [
    "#Cross validation of the svr model\n",
    "for j in range(2,10):\n",
    "    cv_score=cross_val_score(svr, x, y, cv=j)\n",
    "    print('At fold ', j , \"Mean CV score is \", cv_score.mean())"
   ]
  },
  {
   "cell_type": "code",
   "execution_count": 31,
   "id": "5d1e15a0",
   "metadata": {},
   "outputs": [
    {
     "name": "stdout",
     "output_type": "stream",
     "text": [
      "training accuracy is  0.7523823219054163\n",
      "testing accuracy is  0.7531189363319681\n",
      "Mean Squared Error is  0.03699567489785663\n",
      "Mean Absolute Error is  0.14708339934249554\n",
      "Root Mean Squared Error is  0.192342597720465\n"
     ]
    }
   ],
   "source": [
    "# Modeling for gradient boosting regresssor\n",
    "from sklearn.ensemble import GradientBoostingRegressor\n",
    "\n",
    "gbr=GradientBoostingRegressor()\n",
    "gbr.fit(x_train,y_train)\n",
    "predtraingbr=gbr.predict(x_train)\n",
    "predtestgbr=gbr.predict(x_test)\n",
    "print('training accuracy is ', r2_score(y_train,predtraingbr))\n",
    "print('testing accuracy is ', r2_score(y_test,predtestgbr))\n",
    "print(\"Mean Squared Error is \",mean_squared_error(y_test,predtestgbr))\n",
    "print(\"Mean Absolute Error is \",mean_absolute_error(y_test,predtestgbr))\n",
    "print(\"Root Mean Squared Error is \",np.sqrt(mean_squared_error(y_test,predtestgbr)))"
   ]
  },
  {
   "cell_type": "code",
   "execution_count": null,
   "id": "f5722107",
   "metadata": {},
   "outputs": [
    {
     "name": "stdout",
     "output_type": "stream",
     "text": [
      "At fold  2 Mean CV score is  -1.454829871206504\n",
      "At fold  3 Mean CV score is  0.22556924843228918\n",
      "At fold  4 Mean CV score is  0.32796365545426653\n",
      "At fold  5 Mean CV score is  0.3840233178102186\n",
      "At fold  6 Mean CV score is  0.34330902496734444\n",
      "At fold  7 Mean CV score is  0.3750668333625407\n"
     ]
    }
   ],
   "source": [
    "#Cross validation of the gbr model\n",
    "for j in range(2,10):\n",
    "    cv_score=cross_val_score(gbr, x, y, cv=j)\n",
    "    print('At fold ', j , \"Mean CV score is \", cv_score.mean())"
   ]
  },
  {
   "cell_type": "code",
   "execution_count": 72,
   "id": "8b29f392",
   "metadata": {},
   "outputs": [],
   "source": [
    "from sklearn.linear_model import Lasso,Ridge\n",
    "from sklearn.model_selection import GridSearchCV"
   ]
  },
  {
   "cell_type": "code",
   "execution_count": 73,
   "id": "34d43dcb",
   "metadata": {},
   "outputs": [
    {
     "name": "stdout",
     "output_type": "stream",
     "text": [
      "{'alpha': 1e-05, 'max_iter': 100, 'random_state': 0, 'tol': 0.001}\n"
     ]
    }
   ],
   "source": [
    "# Doing Lasso Regularization\n",
    "#HyperParameter Tunning to find out the best parameters\n",
    "parameters={'alpha':[.00001,0.0001,0.001,0.01,0.1,1,10,100],\n",
    "            'random_state':list(range(0,10)),\n",
    "            'max_iter':[10,100,1000,10000],\n",
    "            'tol': [0.001,0.0001,0.00001,0.000001]}\n",
    "\n",
    "ls=Lasso()\n",
    "clf=GridSearchCV(ls,parameters)\n",
    "clf.fit(x_train,y_train)\n",
    "\n",
    "print(clf.best_params_)"
   ]
  },
  {
   "cell_type": "code",
   "execution_count": 74,
   "id": "7e50e157",
   "metadata": {},
   "outputs": [
    {
     "name": "stdout",
     "output_type": "stream",
     "text": [
      "training accuracy is  0.5655867201341678\n",
      "testing accuracy is  0.5680929639839027\n",
      "Mean Squared Error is  0.06352634729234177\n",
      "Mean Absolute Error is  0.197428889223691\n",
      "Root Mean Squared Error is  0.25204433596560305\n"
     ]
    }
   ],
   "source": [
    "ls=Lasso(alpha=1e-05, max_iter=100, random_state=0, tol=0.001)\n",
    "ls.fit(x_train,y_train)\n",
    "predtrainls=ls.predict(x_train)\n",
    "predtestls=ls.predict(x_test)\n",
    "print('training accuracy is ', r2_score(y_train,predtrainls))\n",
    "print('testing accuracy is ', r2_score(y_test,predtestls))\n",
    "print(\"Mean Squared Error is \",mean_squared_error(y_test,predtestls))\n",
    "print(\"Mean Absolute Error is \",mean_absolute_error(y_test,predtestls))\n",
    "print(\"Root Mean Squared Error is \",np.sqrt(mean_squared_error(y_test,predtestls)))"
   ]
  },
  {
   "cell_type": "code",
   "execution_count": 75,
   "id": "c0247506",
   "metadata": {},
   "outputs": [
    {
     "name": "stdout",
     "output_type": "stream",
     "text": [
      "At fold  2 Mean CV score is  -2.629308805859971\n",
      "At fold  3 Mean CV score is  0.19194364514818138\n",
      "At fold  4 Mean CV score is  0.15402614821125507\n",
      "At fold  5 Mean CV score is  0.21840880401586146\n",
      "At fold  6 Mean CV score is  0.14232202332996777\n",
      "At fold  7 Mean CV score is  0.16300672833324345\n",
      "At fold  8 Mean CV score is  0.16052322144796416\n",
      "At fold  9 Mean CV score is  0.1768938666670661\n"
     ]
    }
   ],
   "source": [
    "#Cross validation of the ls model\n",
    "for j in range(2,10):\n",
    "    cv_score=cross_val_score(ls, x, y, cv=j)\n",
    "    print('At fold ', j , \"Mean CV score is \", cv_score.mean())"
   ]
  },
  {
   "cell_type": "code",
   "execution_count": 76,
   "id": "bc0c865c",
   "metadata": {},
   "outputs": [
    {
     "name": "stdout",
     "output_type": "stream",
     "text": [
      "{'alpha': 1, 'max_iter': 10, 'random_state': 9, 'solver': 'sag'}\n"
     ]
    }
   ],
   "source": [
    "# Doing Ridge Regularization\n",
    "#HyperParameter Tunning to find out the best parameters\n",
    "parameters={'alpha':[.00001,0.0001,0.001,0.01,0.1,1,10,100],\n",
    "            'random_state':list(range(0,10)),\n",
    "            'max_iter':[10,100,1000,10000],\n",
    "            'solver':['auto', 'svd', 'cholesky', 'lsqr', 'sparse_cg', 'sag', 'saga', 'lbfgs']}\n",
    "\n",
    "rg=Ridge()\n",
    "clf=GridSearchCV(rg,parameters)\n",
    "clf.fit(x_train,y_train)\n",
    "\n",
    "print(clf.best_params_)"
   ]
  },
  {
   "cell_type": "code",
   "execution_count": 77,
   "id": "74507499",
   "metadata": {},
   "outputs": [
    {
     "name": "stdout",
     "output_type": "stream",
     "text": [
      "training accuracy is  0.5654167318329034\n",
      "testing accuracy is  0.5675814655831244\n",
      "Mean Squared Error is  0.06360158020669075\n",
      "Mean Absolute Error is  0.19742737101993155\n",
      "Root Mean Squared Error is  0.2521935372024643\n"
     ]
    }
   ],
   "source": [
    "rg=Ridge(alpha=1e-05, max_iter=10, random_state=4, solver='sag')\n",
    "rg.fit(x_train,y_train)\n",
    "predtrainrg=rg.predict(x_train)\n",
    "predtestrg=rg.predict(x_test)\n",
    "print('training accuracy is ', r2_score(y_train,predtrainrg))\n",
    "print('testing accuracy is ', r2_score(y_test,predtestrg))\n",
    "print(\"Mean Squared Error is \",mean_squared_error(y_test,predtestrg))\n",
    "print(\"Mean Absolute Error is \",mean_absolute_error(y_test,predtestrg))\n",
    "print(\"Root Mean Squared Error is \",np.sqrt(mean_squared_error(y_test,predtestrg)))"
   ]
  },
  {
   "cell_type": "code",
   "execution_count": 78,
   "id": "6ebfe192",
   "metadata": {},
   "outputs": [
    {
     "name": "stdout",
     "output_type": "stream",
     "text": [
      "At fold  2 Mean CV score is  -2.615626571606599\n",
      "At fold  3 Mean CV score is  0.17306446698232159\n",
      "At fold  4 Mean CV score is  0.15009226300767015\n",
      "At fold  5 Mean CV score is  0.2138313958481833\n",
      "At fold  6 Mean CV score is  0.135025411883805\n",
      "At fold  7 Mean CV score is  0.16643860539748578\n",
      "At fold  8 Mean CV score is  0.16900929748018195\n",
      "At fold  9 Mean CV score is  0.1760076407307275\n"
     ]
    }
   ],
   "source": [
    "#Cross validation of the ls model\n",
    "for j in range(2,10):\n",
    "    cv_score=cross_val_score(rg, x, y, cv=j)\n",
    "    print('At fold ', j , \"Mean CV score is \", cv_score.mean())"
   ]
  },
  {
   "cell_type": "markdown",
   "id": "976e0369",
   "metadata": {},
   "source": [
    "#### Observations\n",
    "\n",
    "- All models have shown higher testing accuracy at fold 9 for cross validation hence comparing models on the basis of fold 9\n",
    "- It is observed that Extra Tree Regressor model is Showing 91% testing accuracy, 1 training accuracy\n",
    "- For which we can say that Extra Tree Classifier model is considerably fitting the data, hence saving that model\n",
    "- And Going Further for Hyper Parameter tunning of ExtraTreeRegressor"
   ]
  },
  {
   "cell_type": "code",
   "execution_count": null,
   "id": "7b9cf121",
   "metadata": {},
   "outputs": [],
   "source": [
    "# modelling with ExtraTreesRegressor\n",
    "from sklearn.ensemble import ExtraTreesRegressor\n",
    "\n",
    "parameter = {\n",
    "    'n_estimators': [10,100],\n",
    "    'criterion': ['mse', 'mae'],    \n",
    "}\n",
    "\n",
    "model = ExtraTreesRegressor ()\n",
    "\n",
    "gcv = GridSearchCV(model,parameter,cv=9,n_jobs=-1).fit(x_train,y_train.values.ravel())\n",
    "\n",
    "gcv.best_params_"
   ]
  },
  {
   "cell_type": "markdown",
   "id": "0cc128ed",
   "metadata": {},
   "source": [
    "#### Important observation Made\n",
    "- I am avoiding the Hyper Parameter tunning as it getting more time (2hrs) than usual, I may be do not have that much CPU power.\n",
    "- I have tried solving on google colab also but there too it is taking too much time\n",
    "- hence I am saving the model ExtraTreeRegressor Model as this has given me the testing accuracy of 91% it can be considered as the model is predicting quite a good results\n",
    "Saving Model"
   ]
  },
  {
   "cell_type": "markdown",
   "id": "93cf14cb",
   "metadata": {},
   "source": [
    "## Saving the Model"
   ]
  },
  {
   "cell_type": "code",
   "execution_count": 42,
   "id": "ef1c0f03",
   "metadata": {},
   "outputs": [
    {
     "data": {
      "text/plain": [
       "['Avocado Average Price Prediction.pkl']"
      ]
     },
     "execution_count": 42,
     "metadata": {},
     "output_type": "execute_result"
    }
   ],
   "source": [
    "#Importing Job lib for saving the model\n",
    "import joblib\n",
    "joblib.dump(ExtraTreesRegressor(), \"Avocado Average Price Prediction.pkl\")"
   ]
  },
  {
   "cell_type": "code",
   "execution_count": 44,
   "id": "445996bb",
   "metadata": {},
   "outputs": [
    {
     "data": {
      "text/html": [
       "<div>\n",
       "<style scoped>\n",
       "    .dataframe tbody tr th:only-of-type {\n",
       "        vertical-align: middle;\n",
       "    }\n",
       "\n",
       "    .dataframe tbody tr th {\n",
       "        vertical-align: top;\n",
       "    }\n",
       "\n",
       "    .dataframe thead th {\n",
       "        text-align: right;\n",
       "    }\n",
       "</style>\n",
       "<table border=\"1\" class=\"dataframe\">\n",
       "  <thead>\n",
       "    <tr style=\"text-align: right;\">\n",
       "      <th></th>\n",
       "      <th>Original</th>\n",
       "      <th>Predicted</th>\n",
       "    </tr>\n",
       "  </thead>\n",
       "  <tbody>\n",
       "    <tr>\n",
       "      <th>0</th>\n",
       "      <td>1.44</td>\n",
       "      <td>1.4830</td>\n",
       "    </tr>\n",
       "    <tr>\n",
       "      <th>1</th>\n",
       "      <td>0.92</td>\n",
       "      <td>1.1344</td>\n",
       "    </tr>\n",
       "    <tr>\n",
       "      <th>2</th>\n",
       "      <td>1.40</td>\n",
       "      <td>1.4872</td>\n",
       "    </tr>\n",
       "    <tr>\n",
       "      <th>3</th>\n",
       "      <td>1.36</td>\n",
       "      <td>1.3571</td>\n",
       "    </tr>\n",
       "    <tr>\n",
       "      <th>4</th>\n",
       "      <td>1.55</td>\n",
       "      <td>1.5108</td>\n",
       "    </tr>\n",
       "    <tr>\n",
       "      <th>...</th>\n",
       "      <td>...</td>\n",
       "      <td>...</td>\n",
       "    </tr>\n",
       "    <tr>\n",
       "      <th>3526</th>\n",
       "      <td>1.61</td>\n",
       "      <td>1.6415</td>\n",
       "    </tr>\n",
       "    <tr>\n",
       "      <th>3527</th>\n",
       "      <td>1.45</td>\n",
       "      <td>1.3531</td>\n",
       "    </tr>\n",
       "    <tr>\n",
       "      <th>3528</th>\n",
       "      <td>1.96</td>\n",
       "      <td>1.6955</td>\n",
       "    </tr>\n",
       "    <tr>\n",
       "      <th>3529</th>\n",
       "      <td>1.53</td>\n",
       "      <td>1.5529</td>\n",
       "    </tr>\n",
       "    <tr>\n",
       "      <th>3530</th>\n",
       "      <td>1.52</td>\n",
       "      <td>1.5475</td>\n",
       "    </tr>\n",
       "  </tbody>\n",
       "</table>\n",
       "<p>3531 rows × 2 columns</p>\n",
       "</div>"
      ],
      "text/plain": [
       "      Original  Predicted\n",
       "0         1.44     1.4830\n",
       "1         0.92     1.1344\n",
       "2         1.40     1.4872\n",
       "3         1.36     1.3571\n",
       "4         1.55     1.5108\n",
       "...        ...        ...\n",
       "3526      1.61     1.6415\n",
       "3527      1.45     1.3531\n",
       "3528      1.96     1.6955\n",
       "3529      1.53     1.5529\n",
       "3530      1.52     1.5475\n",
       "\n",
       "[3531 rows x 2 columns]"
      ]
     },
     "execution_count": 44,
     "metadata": {},
     "output_type": "execute_result"
    }
   ],
   "source": [
    "a=np.array(y_test)\n",
    "predicted=np.array(predtestetr)\n",
    "df_con=pd.DataFrame({'Original':a,'Predicted':predtestetr}, index=range(len(a)))\n",
    "df_con"
   ]
  },
  {
   "cell_type": "markdown",
   "id": "21fac28b",
   "metadata": {},
   "source": [
    "# Classification model for predicting Type of Avocado\n",
    "Starting from dividing the dataset in to X and Y"
   ]
  },
  {
   "cell_type": "code",
   "execution_count": 81,
   "id": "965f38ce",
   "metadata": {},
   "outputs": [
    {
     "name": "stdout",
     "output_type": "stream",
     "text": [
      "(17651, 12)\n",
      "(17651,)\n"
     ]
    }
   ],
   "source": [
    "X=df.drop(['type'],axis=1)\n",
    "Y=df['type']\n",
    "print(X.shape)\n",
    "print(Y.shape)"
   ]
  },
  {
   "cell_type": "code",
   "execution_count": 82,
   "id": "0a44346c",
   "metadata": {},
   "outputs": [
    {
     "data": {
      "text/plain": [
       "array([[-0.11782446, -0.07532391, -0.65742071, ..., -1.2106467 ,\n",
       "        -2.01058988,  1.49138301],\n",
       "       [-0.06432986, -0.14749743, -0.77717852, ..., -1.2106467 ,\n",
       "        -2.01058988,  1.49138301],\n",
       "       [-1.29886469,  0.20555557, -0.7317763 , ..., -1.2106467 ,\n",
       "        -2.01058988,  1.49138301],\n",
       "       ...,\n",
       "       [ 1.18432357, -0.77527398, -0.61796649, ...,  1.97870686,\n",
       "         1.57828237, -1.64028838],\n",
       "       [ 1.31329624, -0.70179733, -0.54701087, ...,  1.97870686,\n",
       "         1.57828237, -1.64028838],\n",
       "       [ 0.61561867, -0.66738095, -0.35967077, ...,  1.97870686,\n",
       "         1.57828237, -1.64028838]])"
      ]
     },
     "execution_count": 82,
     "metadata": {},
     "output_type": "execute_result"
    }
   ],
   "source": [
    "# Removing Skewness Using Power Transform\n",
    "from sklearn.preprocessing import power_transform\n",
    "X=power_transform(X, method='yeo-johnson')\n",
    "X"
   ]
  },
  {
   "cell_type": "code",
   "execution_count": 83,
   "id": "c0291e47",
   "metadata": {},
   "outputs": [
    {
     "data": {
      "text/plain": [
       "0     0.000464\n",
       "1    -0.008642\n",
       "2    -0.039282\n",
       "3    -0.044675\n",
       "4     0.024168\n",
       "5    -0.022204\n",
       "6    -0.024405\n",
       "7    -0.110913\n",
       "8     0.853758\n",
       "9     0.227731\n",
       "10   -0.257799\n",
       "11   -0.146554\n",
       "dtype: float64"
      ]
     },
     "execution_count": 83,
     "metadata": {},
     "output_type": "execute_result"
    }
   ],
   "source": [
    "#checking for skewness is removed or not\n",
    "skew_df=pd.DataFrame(X)\n",
    "skew_df.skew()"
   ]
  },
  {
   "cell_type": "code",
   "execution_count": 84,
   "id": "04045c7e",
   "metadata": {},
   "outputs": [
    {
     "data": {
      "text/plain": [
       "array([[-0.11782446, -0.07532391, -0.65742071, ..., -1.21061818,\n",
       "        -2.01058988,  1.49138301],\n",
       "       [-0.06432986, -0.14749743, -0.77717852, ..., -1.21061818,\n",
       "        -2.01058988,  1.49138301],\n",
       "       [-1.29886469,  0.20555557, -0.7317763 , ..., -1.21061818,\n",
       "        -2.01058988,  1.49138301],\n",
       "       ...,\n",
       "       [ 1.18432357, -0.77527398, -0.61796649, ...,  1.97873539,\n",
       "         1.57828237, -1.64028838],\n",
       "       [ 1.31329624, -0.70179733, -0.54701087, ...,  1.97873539,\n",
       "         1.57828237, -1.64028838],\n",
       "       [ 0.61561867, -0.66738095, -0.35967077, ...,  1.97873539,\n",
       "         1.57828237, -1.64028838]])"
      ]
     },
     "execution_count": 84,
     "metadata": {},
     "output_type": "execute_result"
    }
   ],
   "source": [
    "#importing the StandardScaler\n",
    "from sklearn.preprocessing import StandardScaler\n",
    "ss=StandardScaler()\n",
    "X=ss.fit_transform(X)\n",
    "X"
   ]
  },
  {
   "cell_type": "code",
   "execution_count": 85,
   "id": "5c06774b",
   "metadata": {},
   "outputs": [],
   "source": [
    "# importing necessary libraries\n",
    "from sklearn.model_selection import train_test_split\n",
    "from sklearn.linear_model import LogisticRegression\n",
    "from sklearn.metrics import accuracy_score, confusion_matrix, classification_report\n",
    "lg=LogisticRegression()"
   ]
  },
  {
   "cell_type": "code",
   "execution_count": 86,
   "id": "f11e66d0",
   "metadata": {},
   "outputs": [
    {
     "name": "stdout",
     "output_type": "stream",
     "text": [
      "At Random State  1\n",
      "testing accuracy 0.9583687340696686 randon state 1\n",
      "Training Accuracy 0.9610481586402266 random state 1\n",
      "max accuracy 0.9583687340696686 max_random_state 1\n",
      "At Random State  2\n",
      "testing accuracy 0.9629000283205891 randon state 2\n",
      "Training Accuracy 0.9600566572237961 random state 2\n",
      "max accuracy 0.9629000283205891 max_random_state 2\n",
      "At Random State  3\n",
      "testing accuracy 0.9606343811951289 randon state 3\n",
      "Training Accuracy 0.9604107648725212 random state 3\n",
      "At Random State  4\n",
      "testing accuracy 0.9612007929764939 randon state 4\n",
      "Training Accuracy 0.9609773371104816 random state 4\n",
      "At Random State  5\n",
      "testing accuracy 0.9580855281789861 randon state 5\n",
      "Training Accuracy 0.9607648725212464 random state 5\n",
      "At Random State  6\n",
      "testing accuracy 0.9657320872274143 randon state 6\n",
      "Training Accuracy 0.9597733711048159 random state 6\n",
      "max accuracy 0.9657320872274143 max_random_state 6\n",
      "At Random State  7\n",
      "testing accuracy 0.962333616539224 randon state 7\n",
      "Training Accuracy 0.9601983002832861 random state 7\n",
      "At Random State  8\n",
      "testing accuracy 0.9578023222883036 randon state 8\n",
      "Training Accuracy 0.9613314447592068 random state 8\n",
      "At Random State  9\n",
      "testing accuracy 0.9612007929764939 randon state 9\n",
      "Training Accuracy 0.9605524079320114 random state 9\n",
      "At Random State  10\n",
      "testing accuracy 0.9597847635230813 randon state 10\n",
      "Training Accuracy 0.9604815864022663 random state 10\n",
      "At Random State  11\n",
      "testing accuracy 0.9595015576323987 randon state 11\n",
      "Training Accuracy 0.9614022662889519 random state 11\n",
      "At Random State  12\n",
      "testing accuracy 0.9583687340696686 randon state 12\n",
      "Training Accuracy 0.9614730878186969 random state 12\n",
      "At Random State  13\n",
      "testing accuracy 0.9643160577740016 randon state 13\n",
      "Training Accuracy 0.9597025495750708 random state 13\n",
      "At Random State  14\n",
      "testing accuracy 0.962333616539224 randon state 14\n",
      "Training Accuracy 0.9599150141643059 random state 14\n",
      "At Random State  15\n",
      "testing accuracy 0.9612007929764939 randon state 15\n",
      "Training Accuracy 0.9606940509915014 random state 15\n",
      "At Random State  16\n",
      "testing accuracy 0.9592183517417162 randon state 16\n",
      "Training Accuracy 0.9614022662889519 random state 16\n",
      "At Random State  17\n",
      "testing accuracy 0.9609175870858114 randon state 17\n",
      "Training Accuracy 0.9604107648725212 random state 17\n",
      "At Random State  18\n",
      "testing accuracy 0.956386292834891 randon state 18\n",
      "Training Accuracy 0.9617563739376771 random state 18\n",
      "At Random State  19\n",
      "testing accuracy 0.9606343811951289 randon state 19\n",
      "Training Accuracy 0.9606232294617564 random state 19\n",
      "At Random State  20\n",
      "testing accuracy 0.9595015576323987 randon state 20\n",
      "Training Accuracy 0.9607648725212464 random state 20\n",
      "At Random State  21\n",
      "testing accuracy 0.9575191163976211 randon state 21\n",
      "Training Accuracy 0.9617563739376771 random state 21\n",
      "At Random State  22\n",
      "testing accuracy 0.962333616539224 randon state 22\n",
      "Training Accuracy 0.9601274787535411 random state 22\n",
      "At Random State  23\n",
      "testing accuracy 0.9597847635230813 randon state 23\n",
      "Training Accuracy 0.9609773371104816 random state 23\n",
      "At Random State  24\n",
      "testing accuracy 0.956386292834891 randon state 24\n",
      "Training Accuracy 0.9611189801699717 random state 24\n",
      "At Random State  25\n",
      "testing accuracy 0.9620504106485415 randon state 25\n",
      "Training Accuracy 0.9599858356940509 random state 25\n",
      "At Random State  26\n",
      "testing accuracy 0.9643160577740016 randon state 26\n",
      "Training Accuracy 0.9596317280453258 random state 26\n",
      "At Random State  27\n",
      "testing accuracy 0.956386292834891 randon state 27\n",
      "Training Accuracy 0.9620396600566572 random state 27\n",
      "At Random State  28\n",
      "testing accuracy 0.9600679694137638 randon state 28\n",
      "Training Accuracy 0.9602691218130311 random state 28\n",
      "At Random State  29\n",
      "testing accuracy 0.9614839988671764 randon state 29\n",
      "Training Accuracy 0.9606940509915014 random state 29\n",
      "At Random State  30\n",
      "testing accuracy 0.9620504106485415 randon state 30\n",
      "Training Accuracy 0.9604107648725212 random state 30\n",
      "At Random State  31\n",
      "testing accuracy 0.9600679694137638 randon state 31\n",
      "Training Accuracy 0.9610481586402266 random state 31\n",
      "At Random State  32\n",
      "testing accuracy 0.9583687340696686 randon state 32\n",
      "Training Accuracy 0.9611189801699717 random state 32\n",
      "At Random State  33\n",
      "testing accuracy 0.9595015576323987 randon state 33\n",
      "Training Accuracy 0.9613314447592068 random state 33\n",
      "At Random State  34\n",
      "testing accuracy 0.9651656754460493 randon state 34\n",
      "Training Accuracy 0.9599150141643059 random state 34\n",
      "At Random State  35\n",
      "testing accuracy 0.9662984990087794 randon state 35\n",
      "Training Accuracy 0.9593484419263456 random state 35\n",
      "max accuracy 0.9662984990087794 max_random_state 35\n",
      "At Random State  36\n",
      "testing accuracy 0.9589351458510337 randon state 36\n",
      "Training Accuracy 0.9612606232294617 random state 36\n",
      "At Random State  37\n",
      "testing accuracy 0.9609175870858114 randon state 37\n",
      "Training Accuracy 0.9601274787535411 random state 37\n",
      "At Random State  38\n",
      "testing accuracy 0.9597847635230813 randon state 38\n",
      "Training Accuracy 0.9604107648725212 random state 38\n",
      "At Random State  39\n",
      "testing accuracy 0.9600679694137638 randon state 39\n",
      "Training Accuracy 0.9601274787535411 random state 39\n",
      "At Random State  40\n",
      "testing accuracy 0.9609175870858114 randon state 40\n",
      "Training Accuracy 0.9606940509915014 random state 40\n",
      "At Random State  41\n",
      "testing accuracy 0.9626168224299065 randon state 41\n",
      "Training Accuracy 0.9605524079320114 random state 41\n",
      "At Random State  42\n",
      "testing accuracy 0.9580855281789861 randon state 42\n",
      "Training Accuracy 0.961685552407932 random state 42\n",
      "At Random State  43\n",
      "testing accuracy 0.9595015576323987 randon state 43\n",
      "Training Accuracy 0.9604107648725212 random state 43\n",
      "At Random State  44\n",
      "testing accuracy 0.9541206457094308 randon state 44\n",
      "Training Accuracy 0.9623229461756374 random state 44\n",
      "At Random State  45\n",
      "testing accuracy 0.9589351458510337 randon state 45\n",
      "Training Accuracy 0.9615439093484419 random state 45\n",
      "At Random State  46\n",
      "testing accuracy 0.9679977343528745 randon state 46\n",
      "Training Accuracy 0.9582152974504249 random state 46\n",
      "max accuracy 0.9679977343528745 max_random_state 46\n",
      "At Random State  47\n",
      "testing accuracy 0.9648824695553667 randon state 47\n",
      "Training Accuracy 0.9592067988668556 random state 47\n",
      "At Random State  48\n",
      "testing accuracy 0.9572359105069386 randon state 48\n",
      "Training Accuracy 0.9620396600566572 random state 48\n",
      "At Random State  49\n",
      "testing accuracy 0.9600679694137638 randon state 49\n",
      "Training Accuracy 0.9614022662889519 random state 49\n",
      "At Random State  50\n",
      "testing accuracy 0.9589351458510337 randon state 50\n",
      "Training Accuracy 0.9612606232294617 random state 50\n",
      "At Random State  51\n",
      "testing accuracy 0.9578023222883036 randon state 51\n",
      "Training Accuracy 0.9612606232294617 random state 51\n",
      "At Random State  52\n",
      "testing accuracy 0.9589351458510337 randon state 52\n",
      "Training Accuracy 0.9609773371104816 random state 52\n",
      "At Random State  53\n",
      "testing accuracy 0.9637496459926367 randon state 53\n",
      "Training Accuracy 0.9602691218130311 random state 53\n",
      "At Random State  54\n",
      "testing accuracy 0.9546870574907959 randon state 54\n",
      "Training Accuracy 0.9624645892351275 random state 54\n",
      "At Random State  55\n",
      "testing accuracy 0.9583687340696686 randon state 55\n",
      "Training Accuracy 0.9609773371104816 random state 55\n",
      "At Random State  56\n",
      "testing accuracy 0.9589351458510337 randon state 56\n",
      "Training Accuracy 0.9606940509915014 random state 56\n",
      "At Random State  57\n",
      "testing accuracy 0.9645992636646842 randon state 57\n",
      "Training Accuracy 0.9596317280453258 random state 57\n",
      "At Random State  58\n",
      "testing accuracy 0.962333616539224 randon state 58\n",
      "Training Accuracy 0.9594900849858357 random state 58\n",
      "At Random State  59\n",
      "testing accuracy 0.9546870574907959 randon state 59\n",
      "Training Accuracy 0.9617563739376771 random state 59\n",
      "At Random State  60\n",
      "testing accuracy 0.9660152931180969 randon state 60\n",
      "Training Accuracy 0.9595609065155808 random state 60\n",
      "At Random State  61\n",
      "testing accuracy 0.9597847635230813 randon state 61\n",
      "Training Accuracy 0.9611898016997167 random state 61\n",
      "At Random State  62\n",
      "testing accuracy 0.9603511753044464 randon state 62\n",
      "Training Accuracy 0.9603399433427762 random state 62\n",
      "At Random State  63\n",
      "testing accuracy 0.9626168224299065 randon state 63\n",
      "Training Accuracy 0.9597025495750708 random state 63\n",
      "At Random State  64\n",
      "testing accuracy 0.9600679694137638 randon state 64\n",
      "Training Accuracy 0.9609065155807366 random state 64\n",
      "At Random State  65\n",
      "testing accuracy 0.9572359105069386 randon state 65\n",
      "Training Accuracy 0.9612606232294617 random state 65\n",
      "At Random State  66\n",
      "testing accuracy 0.9589351458510337 randon state 66\n",
      "Training Accuracy 0.9609065155807366 random state 66\n",
      "At Random State  67\n",
      "testing accuracy 0.9620504106485415 randon state 67\n",
      "Training Accuracy 0.9594192634560906 random state 67\n",
      "At Random State  68\n",
      "testing accuracy 0.9595015576323987 randon state 68\n",
      "Training Accuracy 0.9610481586402266 random state 68\n",
      "At Random State  69\n",
      "testing accuracy 0.9578023222883036 randon state 69\n",
      "Training Accuracy 0.9612606232294617 random state 69\n",
      "At Random State  70\n",
      "testing accuracy 0.9589351458510337 randon state 70\n",
      "Training Accuracy 0.9611189801699717 random state 70\n",
      "At Random State  71\n",
      "testing accuracy 0.9572359105069386 randon state 71\n",
      "Training Accuracy 0.9615439093484419 random state 71\n",
      "At Random State  72\n",
      "testing accuracy 0.9620504106485415 randon state 72\n",
      "Training Accuracy 0.9600566572237961 random state 72\n",
      "At Random State  73\n",
      "testing accuracy 0.9620504106485415 randon state 73\n",
      "Training Accuracy 0.9599150141643059 random state 73\n",
      "At Random State  74\n",
      "testing accuracy 0.967714528462192 randon state 74\n",
      "Training Accuracy 0.9587818696883853 random state 74\n",
      "At Random State  75\n",
      "testing accuracy 0.9592183517417162 randon state 75\n",
      "Training Accuracy 0.9609773371104816 random state 75\n",
      "At Random State  76\n",
      "testing accuracy 0.9597847635230813 randon state 76\n",
      "Training Accuracy 0.9604815864022663 random state 76\n",
      "At Random State  77\n",
      "testing accuracy 0.9597847635230813 randon state 77\n",
      "Training Accuracy 0.9610481586402266 random state 77\n",
      "At Random State  78\n",
      "testing accuracy 0.9586519399603511 randon state 78\n",
      "Training Accuracy 0.9612606232294617 random state 78\n",
      "At Random State  79\n",
      "testing accuracy 0.9600679694137638 randon state 79\n",
      "Training Accuracy 0.9609065155807366 random state 79\n",
      "At Random State  80\n",
      "testing accuracy 0.9583687340696686 randon state 80\n",
      "Training Accuracy 0.9611898016997167 random state 80\n",
      "At Random State  81\n",
      "testing accuracy 0.9606343811951289 randon state 81\n",
      "Training Accuracy 0.9602691218130311 random state 81\n",
      "At Random State  82\n",
      "testing accuracy 0.9583687340696686 randon state 82\n",
      "Training Accuracy 0.9610481586402266 random state 82\n",
      "At Random State  83\n",
      "testing accuracy 0.9555366751628434 randon state 83\n",
      "Training Accuracy 0.9622521246458924 random state 83\n",
      "At Random State  84\n",
      "testing accuracy 0.9589351458510337 randon state 84\n",
      "Training Accuracy 0.9607648725212464 random state 84\n",
      "At Random State  85\n",
      "testing accuracy 0.9643160577740016 randon state 85\n",
      "Training Accuracy 0.9599150141643059 random state 85\n",
      "At Random State  86\n",
      "testing accuracy 0.9592183517417162 randon state 86\n",
      "Training Accuracy 0.9612606232294617 random state 86\n",
      "At Random State  87\n",
      "testing accuracy 0.9643160577740016 randon state 87\n",
      "Training Accuracy 0.9597025495750708 random state 87\n",
      "At Random State  88\n",
      "testing accuracy 0.9561030869442084 randon state 88\n",
      "Training Accuracy 0.9618271954674221 random state 88\n",
      "At Random State  89\n",
      "testing accuracy 0.9603511753044464 randon state 89\n",
      "Training Accuracy 0.9600566572237961 random state 89\n",
      "At Random State  90\n",
      "testing accuracy 0.9546870574907959 randon state 90\n",
      "Training Accuracy 0.9614022662889519 random state 90\n",
      "At Random State  91\n",
      "testing accuracy 0.962333616539224 randon state 91\n",
      "Training Accuracy 0.9601274787535411 random state 91\n",
      "At Random State  92\n",
      "testing accuracy 0.9643160577740016 randon state 92\n",
      "Training Accuracy 0.9594900849858357 random state 92\n",
      "At Random State  93\n",
      "testing accuracy 0.9589351458510337 randon state 93\n",
      "Training Accuracy 0.9606940509915014 random state 93\n",
      "At Random State  94\n",
      "testing accuracy 0.9629000283205891 randon state 94\n",
      "Training Accuracy 0.9599150141643059 random state 94\n",
      "At Random State  95\n",
      "testing accuracy 0.9617672047578589 randon state 95\n",
      "Training Accuracy 0.9597733711048159 random state 95\n",
      "At Random State  96\n",
      "testing accuracy 0.9580855281789861 randon state 96\n",
      "Training Accuracy 0.9606232294617564 random state 96\n",
      "At Random State  97\n",
      "testing accuracy 0.9524214103653356 randon state 97\n",
      "Training Accuracy 0.9623229461756374 random state 97\n",
      "At Random State  98\n",
      "testing accuracy 0.962333616539224 randon state 98\n",
      "Training Accuracy 0.9604815864022663 random state 98\n",
      "At Random State  99\n",
      "testing accuracy 0.9580855281789861 randon state 99\n",
      "Training Accuracy 0.961685552407932 random state 99\n"
     ]
    }
   ],
   "source": [
    "# Finding the random state\n",
    "maxaccu=0\n",
    "maxrs=0\n",
    "for i in range(1,100):\n",
    "    print(\"At Random State \", i)\n",
    "    Xtrain,Xtest,Ytrain,Ytest=train_test_split(X,Y,test_size=.20, random_state=i)\n",
    "    lg.fit(Xtrain,Ytrain)\n",
    "    predlg=lg.predict(Xtest)\n",
    "    trainlg=lg.predict(Xtrain)\n",
    "    acc=accuracy_score(Ytest,predlg)\n",
    "    accu=accuracy_score(Ytrain,trainlg)\n",
    "    print('testing accuracy', acc, 'randon state',i)\n",
    "    print('Training Accuracy', accu, 'random state', i)\n",
    "    if acc>maxaccu:\n",
    "        maxaccu=acc\n",
    "        maxrs=i\n",
    "        print('max accuracy', maxaccu , 'max_random_state', i)"
   ]
  },
  {
   "cell_type": "code",
   "execution_count": 87,
   "id": "0f04cc2d",
   "metadata": {},
   "outputs": [
    {
     "name": "stdout",
     "output_type": "stream",
     "text": [
      "max accuracy 0.9679977343528745 max_random_state 99\n"
     ]
    }
   ],
   "source": [
    "# Checking for the Max. Accuracy at Random State\n",
    "print('max accuracy', maxaccu , 'max_random_state', i)"
   ]
  },
  {
   "cell_type": "code",
   "execution_count": 88,
   "id": "9601a955",
   "metadata": {},
   "outputs": [],
   "source": [
    "# train test split for the data with suggested random state\n",
    "X_train,X_test,Y_train,Y_test=train_test_split(X,Y,test_size=.20,random_state=99)"
   ]
  },
  {
   "cell_type": "code",
   "execution_count": 89,
   "id": "f29ce5de",
   "metadata": {},
   "outputs": [
    {
     "name": "stdout",
     "output_type": "stream",
     "text": [
      "Training accuracy is  0.961685552407932\n",
      "0.9580855281789861\n",
      "[[1671   80]\n",
      " [  68 1712]]\n",
      "              precision    recall  f1-score   support\n",
      "\n",
      "           0       0.96      0.95      0.96      1751\n",
      "           1       0.96      0.96      0.96      1780\n",
      "\n",
      "    accuracy                           0.96      3531\n",
      "   macro avg       0.96      0.96      0.96      3531\n",
      "weighted avg       0.96      0.96      0.96      3531\n",
      "\n"
     ]
    }
   ],
   "source": [
    "# Checking score again for the the lr model \n",
    "lg=LogisticRegression()\n",
    "lg.fit(X_train,Y_train)\n",
    "predlg=lg.predict(X_test)\n",
    "predtrain=lg.predict(X_train)\n",
    "print(\"Training accuracy is \",accuracy_score(Y_train,predtrain))\n",
    "print(accuracy_score(Y_test,predlg))\n",
    "print(confusion_matrix(Y_test,predlg))\n",
    "print(classification_report(Y_test,predlg))"
   ]
  },
  {
   "cell_type": "code",
   "execution_count": 90,
   "id": "7d73a9b8",
   "metadata": {},
   "outputs": [],
   "source": [
    "#AUC ROC Curve\n",
    "# Importing libraries\n",
    "from sklearn.metrics import roc_curve\n",
    "from sklearn.metrics import roc_auc_score"
   ]
  },
  {
   "cell_type": "code",
   "execution_count": 91,
   "id": "1788d414",
   "metadata": {},
   "outputs": [
    {
     "data": {
      "image/png": "[encoded data removed]",
      "text/plain": [
       "<Figure size 432x288 with 1 Axes>"
      ]
     },
     "metadata": {
      "needs_background": "light"
     },
     "output_type": "display_data"
    },
    {
     "data": {
      "text/plain": [
       "0.9580547873125469"
      ]
     },
     "execution_count": 91,
     "metadata": {},
     "output_type": "execute_result"
    }
   ],
   "source": [
    "#AUC ROC curve for Decision Tree Classifier\n",
    "Y_pred_prob=lg.predict_proba(X_test)[:,1]\n",
    "fpr,tpr,threshold=roc_curve(Y_test,Y_pred_prob,pos_label=1)\n",
    "plt.plot([0,1],[0,1],'k--')\n",
    "plt.plot(fpr,tpr,label='Linear Regression')\n",
    "plt.xlabel('False positive rate')\n",
    "plt.ylabel('True positive rate')\n",
    "plt.title('Logistic Regression')\n",
    "plt.show()\n",
    "\n",
    "auc_score=roc_auc_score(Y_test,lg.predict(X_test))\n",
    "\n",
    "auc_score"
   ]
  },
  {
   "cell_type": "code",
   "execution_count": 92,
   "id": "dddb03fb",
   "metadata": {},
   "outputs": [
    {
     "name": "stdout",
     "output_type": "stream",
     "text": [
      "Training accuracy is  1.0\n",
      "0.9915038232795242\n",
      "[[1731   20]\n",
      " [  10 1770]]\n",
      "              precision    recall  f1-score   support\n",
      "\n",
      "           0       0.99      0.99      0.99      1751\n",
      "           1       0.99      0.99      0.99      1780\n",
      "\n",
      "    accuracy                           0.99      3531\n",
      "   macro avg       0.99      0.99      0.99      3531\n",
      "weighted avg       0.99      0.99      0.99      3531\n",
      "\n"
     ]
    }
   ],
   "source": [
    "# using DecisionTreeClassifier \n",
    "from sklearn.tree import DecisionTreeClassifier\n",
    "dtc=DecisionTreeClassifier()\n",
    "dtc.fit(X_train,Y_train)\n",
    "preddtc=dtc.predict(X_test)\n",
    "predtrain=dtc.predict(X_train)\n",
    "print(\"Training accuracy is \",accuracy_score(Y_train,predtrain))\n",
    "print(accuracy_score(Y_test,preddtc))\n",
    "print(confusion_matrix(Y_test,preddtc))\n",
    "print(classification_report(Y_test,preddtc))"
   ]
  },
  {
   "cell_type": "code",
   "execution_count": 93,
   "id": "4439473d",
   "metadata": {},
   "outputs": [
    {
     "data": {
      "image/png": "[encoded data removed]",
      "text/plain": [
       "<Figure size 432x288 with 1 Axes>"
      ]
     },
     "metadata": {
      "needs_background": "light"
     },
     "output_type": "display_data"
    },
    {
     "data": {
      "text/plain": [
       "0.9914799889629682"
      ]
     },
     "execution_count": 93,
     "metadata": {},
     "output_type": "execute_result"
    }
   ],
   "source": [
    "#AUC ROC curve for Decision Tree Classifier\n",
    "Y_pred_prob=dtc.predict_proba(X_test)[:,1]\n",
    "fpr,tpr,threshold=roc_curve(Y_test,Y_pred_prob,pos_label=1)\n",
    "plt.plot([0,1],[0,1],'k--')\n",
    "plt.plot(fpr,tpr,label='Decision Tree Classifier')\n",
    "plt.xlabel('False positive rate')\n",
    "plt.ylabel('True positive rate')\n",
    "plt.title('Decision Tree Classifier')\n",
    "plt.show()\n",
    "\n",
    "auc_score=roc_auc_score(Y_test,dtc.predict(X_test))\n",
    "\n",
    "auc_score"
   ]
  },
  {
   "cell_type": "code",
   "execution_count": 94,
   "id": "e409623b",
   "metadata": {},
   "outputs": [
    {
     "name": "stdout",
     "output_type": "stream",
     "text": [
      "Training accuracy is  1.0\n",
      "0.9980175587652224\n",
      "[[1746    5]\n",
      " [   2 1778]]\n",
      "              precision    recall  f1-score   support\n",
      "\n",
      "           0       1.00      1.00      1.00      1751\n",
      "           1       1.00      1.00      1.00      1780\n",
      "\n",
      "    accuracy                           1.00      3531\n",
      "   macro avg       1.00      1.00      1.00      3531\n",
      "weighted avg       1.00      1.00      1.00      3531\n",
      "\n"
     ]
    }
   ],
   "source": [
    "# Using RandomForestClassifier\n",
    "from sklearn.ensemble import RandomForestClassifier\n",
    "rf=RandomForestClassifier()\n",
    "rf.fit(X_train,Y_train)\n",
    "predrf=rf.predict(X_test)\n",
    "predtrain=rf.predict(X_train)\n",
    "print(\"Training accuracy is \",accuracy_score(Y_train,predtrain))\n",
    "print(accuracy_score(Y_test,predrf))\n",
    "print(confusion_matrix(Y_test,predrf))\n",
    "print(classification_report(Y_test,predrf))"
   ]
  },
  {
   "cell_type": "code",
   "execution_count": 95,
   "id": "90fac772",
   "metadata": {},
   "outputs": [
    {
     "data": {
      "image/png": "[encoded data removed]",
      "text/plain": [
       "<Figure size 432x288 with 1 Axes>"
      ]
     },
     "metadata": {
      "needs_background": "light"
     },
     "output_type": "display_data"
    },
    {
     "data": {
      "text/plain": [
       "0.9980104466789443"
      ]
     },
     "execution_count": 95,
     "metadata": {},
     "output_type": "execute_result"
    }
   ],
   "source": [
    "#AUC ROC curve for Random Forest Classifier Classifier\n",
    "Y_pred_prob=rf.predict_proba(X_test)[:,1]\n",
    "fpr,tpr,threshold=roc_curve(Y_test,Y_pred_prob,pos_label=1)\n",
    "plt.plot([0,1],[0,1],'k--')\n",
    "plt.plot(fpr,tpr,label='Random Forest Classifier')\n",
    "plt.xlabel('False positive rate')\n",
    "plt.ylabel('True positive rate')\n",
    "plt.title('Random Forest Classifier')\n",
    "plt.show()\n",
    "\n",
    "auc_score=roc_auc_score(Y_test,rf.predict(X_test))\n",
    "\n",
    "auc_score"
   ]
  },
  {
   "cell_type": "code",
   "execution_count": 97,
   "id": "5b0e9414",
   "metadata": {},
   "outputs": [
    {
     "name": "stdout",
     "output_type": "stream",
     "text": [
      "Training accuracy is  0.9944050991501416\n",
      "0.9943358821863495\n",
      "[[1740   11]\n",
      " [   9 1771]]\n",
      "              precision    recall  f1-score   support\n",
      "\n",
      "           0       0.99      0.99      0.99      1751\n",
      "           1       0.99      0.99      0.99      1780\n",
      "\n",
      "    accuracy                           0.99      3531\n",
      "   macro avg       0.99      0.99      0.99      3531\n",
      "weighted avg       0.99      0.99      0.99      3531\n",
      "\n"
     ]
    }
   ],
   "source": [
    "# Using SVC\n",
    "from sklearn.svm import SVC\n",
    "svc=SVC(probability=True)\n",
    "svc.fit(X_train,Y_train)\n",
    "predsvc=svc.predict(X_test)\n",
    "predtrain=svc.predict(X_train)\n",
    "print(\"Training accuracy is \",accuracy_score(Y_train,predtrain))\n",
    "print(accuracy_score(Y_test,predsvc))\n",
    "print(confusion_matrix(Y_test,predsvc))\n",
    "print(classification_report(Y_test,predsvc))"
   ]
  },
  {
   "cell_type": "code",
   "execution_count": 98,
   "id": "ed3caca6",
   "metadata": {},
   "outputs": [
    {
     "data": {
      "image/png": "[encoded data removed]",
      "text/plain": [
       "<Figure size 432x288 with 1 Axes>"
      ]
     },
     "metadata": {
      "needs_background": "light"
     },
     "output_type": "display_data"
    },
    {
     "data": {
      "text/plain": [
       "0.9943308478622167"
      ]
     },
     "execution_count": 98,
     "metadata": {},
     "output_type": "execute_result"
    }
   ],
   "source": [
    "#AUC ROC curve for  SVC\n",
    "Y_pred_prob=svc.predict_proba(X_test)[:,1]\n",
    "fpr,tpr,threshold=roc_curve(Y_test,Y_pred_prob,pos_label=1)\n",
    "plt.plot([0,1],[0,1],'k--')\n",
    "plt.plot(fpr,tpr,label='SVC')\n",
    "plt.xlabel('False positive rate')\n",
    "plt.ylabel('True positive rate')\n",
    "plt.title('SVC')\n",
    "plt.show()\n",
    "\n",
    "auc_score=roc_auc_score(Y_test,svc.predict(X_test))\n",
    "\n",
    "auc_score"
   ]
  },
  {
   "cell_type": "code",
   "execution_count": 99,
   "id": "da1dba20",
   "metadata": {},
   "outputs": [
    {
     "name": "stdout",
     "output_type": "stream",
     "text": [
      "Training accuracy is  0.9988668555240793\n",
      "0.9980175587652224\n",
      "[[1746    5]\n",
      " [   2 1778]]\n",
      "              precision    recall  f1-score   support\n",
      "\n",
      "           0       1.00      1.00      1.00      1751\n",
      "           1       1.00      1.00      1.00      1780\n",
      "\n",
      "    accuracy                           1.00      3531\n",
      "   macro avg       1.00      1.00      1.00      3531\n",
      "weighted avg       1.00      1.00      1.00      3531\n",
      "\n"
     ]
    }
   ],
   "source": [
    "# Using KNN\n",
    "from sklearn.neighbors import KNeighborsClassifier\n",
    "knn=KNeighborsClassifier()\n",
    "knn.fit(X_train,Y_train)\n",
    "predknn=knn.predict(X_test)\n",
    "predtrain=knn.predict(X_train)\n",
    "print(\"Training accuracy is \",accuracy_score(Y_train,predtrain))\n",
    "print(accuracy_score(Y_test,predknn))\n",
    "print(confusion_matrix(Y_test,predknn))\n",
    "print(classification_report(Y_test,predknn))"
   ]
  },
  {
   "cell_type": "code",
   "execution_count": 100,
   "id": "55975ae1",
   "metadata": {},
   "outputs": [
    {
     "data": {
      "image/png": "[encoded data removed]",
      "text/plain": [
       "<Figure size 432x288 with 1 Axes>"
      ]
     },
     "metadata": {
      "needs_background": "light"
     },
     "output_type": "display_data"
    },
    {
     "data": {
      "text/plain": [
       "0.9980104466789443"
      ]
     },
     "execution_count": 100,
     "metadata": {},
     "output_type": "execute_result"
    }
   ],
   "source": [
    "#AUC ROC curve for  KNeighborsClassifier\n",
    "Y_pred_prob=knn.predict_proba(X_test)[:,1]\n",
    "fpr,tpr,threshold=roc_curve(Y_test,Y_pred_prob,pos_label=1)\n",
    "plt.plot([0,1],[0,1],'k--')\n",
    "plt.plot(fpr,tpr,label='KNeighborsClassifier')\n",
    "plt.xlabel('False positive rate')\n",
    "plt.ylabel('True positive rate')\n",
    "plt.title('KNeighborsClassifier')\n",
    "plt.show()\n",
    "\n",
    "auc_score=roc_auc_score(Y_test,knn.predict(X_test))\n",
    "\n",
    "auc_score"
   ]
  },
  {
   "cell_type": "code",
   "execution_count": 101,
   "id": "4b38f987",
   "metadata": {},
   "outputs": [
    {
     "name": "stdout",
     "output_type": "stream",
     "text": [
      "Training accuracy is  0.9988668555240793\n",
      "0.9968847352024922\n",
      "[[1745    6]\n",
      " [   5 1775]]\n",
      "              precision    recall  f1-score   support\n",
      "\n",
      "           0       1.00      1.00      1.00      1751\n",
      "           1       1.00      1.00      1.00      1780\n",
      "\n",
      "    accuracy                           1.00      3531\n",
      "   macro avg       1.00      1.00      1.00      3531\n",
      "weighted avg       1.00      1.00      1.00      3531\n",
      "\n"
     ]
    }
   ],
   "source": [
    "# Using GradientBoostingClassifier\n",
    "from sklearn.ensemble import GradientBoostingClassifier\n",
    "xgb=GradientBoostingClassifier()\n",
    "xgb.fit(X_train,Y_train)\n",
    "predxgb=xgb.predict(X_test)\n",
    "predtrain=knn.predict(X_train)\n",
    "print(\"Training accuracy is \",accuracy_score(Y_train,predtrain))\n",
    "print(accuracy_score(Y_test,predxgb))\n",
    "print(confusion_matrix(Y_test,predxgb))\n",
    "print(classification_report(Y_test,predxgb))"
   ]
  },
  {
   "cell_type": "code",
   "execution_count": 102,
   "id": "03d611d3",
   "metadata": {},
   "outputs": [
    {
     "data": {
      "image/png": "[encoded data removed]",
      "text/plain": [
       "<Figure size 432x288 with 1 Axes>"
      ]
     },
     "metadata": {
      "needs_background": "light"
     },
     "output_type": "display_data"
    },
    {
     "data": {
      "text/plain": [
       "0.9968821989360815"
      ]
     },
     "execution_count": 102,
     "metadata": {},
     "output_type": "execute_result"
    }
   ],
   "source": [
    "#AUC ROC curve for  GradientBoostingClassifier\n",
    "Y_pred_prob=xgb.predict_proba(X_test)[:,1]\n",
    "fpr,tpr,threshold=roc_curve(Y_test,Y_pred_prob,pos_label=1)\n",
    "plt.plot([0,1],[0,1],'k--')\n",
    "plt.plot(fpr,tpr,label='GradientBoostingClassifier')\n",
    "plt.xlabel('False positive rate')\n",
    "plt.ylabel('True positive rate')\n",
    "plt.title('GradientBoostingClassifier')\n",
    "plt.show()\n",
    "\n",
    "auc_score=roc_auc_score(Y_test,xgb.predict(X_test))\n",
    "\n",
    "auc_score"
   ]
  },
  {
   "cell_type": "code",
   "execution_count": 103,
   "id": "df6a28f9",
   "metadata": {},
   "outputs": [
    {
     "name": "stdout",
     "output_type": "stream",
     "text": [
      "Training accuracy is  0.9961756373937677\n",
      "0.9951854998583971\n",
      "[[1740   11]\n",
      " [   6 1774]]\n",
      "              precision    recall  f1-score   support\n",
      "\n",
      "           0       1.00      0.99      1.00      1751\n",
      "           1       0.99      1.00      1.00      1780\n",
      "\n",
      "    accuracy                           1.00      3531\n",
      "   macro avg       1.00      1.00      1.00      3531\n",
      "weighted avg       1.00      1.00      1.00      3531\n",
      "\n"
     ]
    }
   ],
   "source": [
    "# using AdaBoostClassifier\n",
    "from sklearn.ensemble import AdaBoostClassifier\n",
    "ada=AdaBoostClassifier()\n",
    "ada.fit(X_train,Y_train)\n",
    "predada=ada.predict(X_test)\n",
    "predtrain=ada.predict(X_train)\n",
    "print(\"Training accuracy is \",accuracy_score(Y_train,predtrain))\n",
    "print(accuracy_score(Y_test,predada))\n",
    "print(confusion_matrix(Y_test,predada))\n",
    "print(classification_report(Y_test,predada))"
   ]
  },
  {
   "cell_type": "code",
   "execution_count": 104,
   "id": "c716c5cc",
   "metadata": {},
   "outputs": [
    {
     "data": {
      "image/png": "[encoded data removed]",
      "text/plain": [
       "<Figure size 432x288 with 1 Axes>"
      ]
     },
     "metadata": {
      "needs_background": "light"
     },
     "output_type": "display_data"
    },
    {
     "data": {
      "text/plain": [
       "0.9951735444914303"
      ]
     },
     "execution_count": 104,
     "metadata": {},
     "output_type": "execute_result"
    }
   ],
   "source": [
    "#AUC ROC curve for  AdaBoostClassifier\n",
    "Y_pred_prob=ada.predict_proba(X_test)[:,1]\n",
    "fpr,tpr,threshold=roc_curve(Y_test,Y_pred_prob,pos_label=1)\n",
    "plt.plot([0,1],[0,1],'k--')\n",
    "plt.plot(fpr,tpr,label='AdaBoostClassifier')\n",
    "plt.xlabel('False positive rate')\n",
    "plt.ylabel('True positive rate')\n",
    "plt.title('AdaBoostClassifier')\n",
    "plt.show()\n",
    "\n",
    "auc_score=roc_auc_score(Y_test,ada.predict(X_test))\n",
    "\n",
    "auc_score"
   ]
  },
  {
   "cell_type": "code",
   "execution_count": 105,
   "id": "03e84702",
   "metadata": {},
   "outputs": [
    {
     "name": "stdout",
     "output_type": "stream",
     "text": [
      "Training accuracy is  0.9361898016997167\n",
      "0.9277824978759558\n",
      "[[1646  105]\n",
      " [ 150 1630]]\n",
      "              precision    recall  f1-score   support\n",
      "\n",
      "           0       0.92      0.94      0.93      1751\n",
      "           1       0.94      0.92      0.93      1780\n",
      "\n",
      "    accuracy                           0.93      3531\n",
      "   macro avg       0.93      0.93      0.93      3531\n",
      "weighted avg       0.93      0.93      0.93      3531\n",
      "\n"
     ]
    }
   ],
   "source": [
    "# Using Naive bayes (GaussianNB)\n",
    "from sklearn.naive_bayes import GaussianNB\n",
    "gnb = GaussianNB()\n",
    "gnb.fit(X_train, Y_train)\n",
    "predgnb = gnb.predict(X_test)\n",
    "predtrain=gnb.predict(X_train)\n",
    "print(\"Training accuracy is \",accuracy_score(Y_train,predtrain))\n",
    "print(accuracy_score(Y_test,predgnb))\n",
    "print(confusion_matrix(Y_test,predgnb))\n",
    "print(classification_report(Y_test,predgnb))"
   ]
  },
  {
   "cell_type": "code",
   "execution_count": 106,
   "id": "04874c2a",
   "metadata": {},
   "outputs": [
    {
     "data": {
      "image/png": "[encoded data removed]",
      "text/plain": [
       "<Figure size 432x288 with 1 Axes>"
      ]
     },
     "metadata": {
      "needs_background": "light"
     },
     "output_type": "display_data"
    },
    {
     "data": {
      "text/plain": [
       "0.9278823016061448"
      ]
     },
     "execution_count": 106,
     "metadata": {},
     "output_type": "execute_result"
    }
   ],
   "source": [
    "#AUC ROC curve for  GaussianNB\n",
    "Y_pred_prob=gnb.predict_proba(X_test)[:,1]\n",
    "fpr,tpr,threshold=roc_curve(Y_test,Y_pred_prob,pos_label=1)\n",
    "plt.plot([0,1],[0,1],'k--')\n",
    "plt.plot(fpr,tpr,label=' GaussianNB')\n",
    "plt.xlabel('False positive rate')\n",
    "plt.ylabel('True positive rate')\n",
    "plt.title(' GaussianNB')\n",
    "plt.show()\n",
    "\n",
    "auc_score=roc_auc_score(Y_test,gnb.predict(X_test))\n",
    "\n",
    "auc_score"
   ]
  },
  {
   "cell_type": "code",
   "execution_count": 107,
   "id": "542a3443",
   "metadata": {},
   "outputs": [
    {
     "name": "stdout",
     "output_type": "stream",
     "text": [
      "taking cv = 2\n",
      "Cross validation score for  LogisticRegression()  is [0.94436891 0.92736544]\n",
      "Mean of Cross Val. score is  0.9358671745660034\n",
      "taking cv = 3\n",
      "Cross validation score for  LogisticRegression()  is [0.93728756 0.95955133 0.94475608]\n",
      "Mean of Cross Val. score is  0.9471983206479058\n",
      "taking cv = 4\n",
      "Cross validation score for  LogisticRegression()  is [0.95286653 0.95354634 0.95490596 0.93699003]\n",
      "Mean of Cross Val. score is  0.9495772144814864\n",
      "taking cv = 5\n",
      "Cross validation score for  LogisticRegression()  is [0.96856415 0.93654391 0.97903683 0.93852691 0.93201133]\n",
      "Mean of Cross Val. score is  0.9509366252608421\n",
      "taking cv = 6\n",
      "Cross validation score for  LogisticRegression()  is [0.96804895 0.93609789 0.96770904 0.94459551 0.96329028 0.9350561 ]\n",
      "Mean of Cross Val. score is  0.9524662959496583\n",
      "taking cv = 7\n",
      "Cross validation score for  LogisticRegression()  is [0.96748612 0.96748612 0.93457573 0.98096749 0.93177311 0.96469655\n",
      " 0.92502975]\n",
      "Mean of Cross Val. score is  0.9531449812736489\n",
      "taking cv = 8\n",
      "Cross validation score for  LogisticRegression()  is [0.96465791 0.96828274 0.93022202 0.96826836 0.93789665 0.96962829\n",
      " 0.97098821 0.91931097]\n",
      "Mean of Cross Val. score is  0.9536568924147637\n",
      "taking cv = 9\n",
      "Cross validation score for  LogisticRegression()  is [0.96279307 0.96687054 0.92197858 0.95971443 0.98776135 0.91789903\n",
      " 0.96277409 0.98215196 0.90668027]\n",
      "Mean of Cross Val. score is  0.952069258110456\n",
      "taking cv = 2\n",
      "Cross validation score for  DecisionTreeClassifier()  is [0.97507365 0.95354108]\n",
      "Mean of Cross Val. score is  0.964307361266513\n",
      "taking cv = 3\n",
      "Cross validation score for  DecisionTreeClassifier()  is [0.95547247 0.982155   0.95801462]\n",
      "Mean of Cross Val. score is  0.9652140275673234\n",
      "taking cv = 4\n",
      "Cross validation score for  DecisionTreeClassifier()  is [0.97507365 0.97303422 0.97711308 0.96078876]\n",
      "Mean of Cross Val. score is  0.971502424017558\n",
      "taking cv = 5\n",
      "Cross validation score for  DecisionTreeClassifier()  is [0.97847635 0.97733711 0.97422096 0.96968839 0.9694051 ]\n",
      "Mean of Cross Val. score is  0.9738255820763564\n",
      "taking cv = 6\n",
      "Cross validation score for  DecisionTreeClassifier()  is [0.97620666 0.97620666 0.96600952 0.96804895 0.98028552 0.97551853]\n",
      "Mean of Cross Val. score is  0.9737126398442731\n",
      "taking cv = 7\n",
      "Cross validation score for  DecisionTreeClassifier()  is [0.98334655 0.99167328 0.97541634 0.98572561 0.9789766  0.96231654\n",
      " 0.96945656]\n",
      "Mean of Cross Val. score is  0.9781302112667101\n",
      "taking cv = 8\n",
      "Cross validation score for  DecisionTreeClassifier()  is [0.98278206 0.98957861 0.98323516 0.97325476 0.97869447 0.98685403\n",
      " 0.95829556 0.96282865]\n",
      "Mean of Cross Val. score is  0.9769404127475383\n",
      "taking cv = 9\n",
      "Cross validation score for  DecisionTreeClassifier()  is [0.98674822 0.98929664 0.98113208 0.97399286 0.98062213 0.96685365\n",
      " 0.9836818  0.97246303 0.98062213]\n",
      "Mean of Cross Val. score is  0.9794902801942212\n",
      "taking cv = 2\n",
      "Cross validation score for  RandomForestClassifier()  is [0.98753682 0.98062323]\n",
      "Mean of Cross Val. score is  0.9840800262423217\n",
      "taking cv = 3\n",
      "Cross validation score for  RandomForestClassifier()  is [0.99082257 0.98776343 0.97314295]\n",
      "Mean of Cross Val. score is  0.9839096500653906\n",
      "taking cv = 4\n",
      "Cross validation score for  RandomForestClassifier()  is [0.99410832 0.98753682 0.99592114 0.96577516]\n",
      "Mean of Cross Val. score is  0.9858353600248504\n",
      "taking cv = 5\n",
      "Cross validation score for  RandomForestClassifier()  is [0.99433588 0.99263456 0.98923513 0.99235127 0.96628895]\n",
      "Mean of Cross Val. score is  0.9869691594401028\n",
      "taking cv = 6\n",
      "Cross validation score for  RandomForestClassifier()  is [0.99252209 0.99490143 0.9860639  0.992862   0.99252209 0.96599796]\n",
      "Mean of Cross Val. score is  0.9874782459755198\n",
      "taking cv = 7\n",
      "Cross validation score for  RandomForestClassifier()  is [0.99524187 0.9964314  0.98651864 0.99524187 0.99285998 0.98928996\n",
      " 0.96271321]\n",
      "Mean of Cross Val. score is  0.9883281331794235\n",
      "taking cv = 8\n",
      "Cross validation score for  RandomForestClassifier()  is [0.99320344 0.99637517 0.99003172 0.98776065 0.99229374 0.99954669\n",
      " 0.98640073 0.9605621 ]\n",
      "Mean of Cross Val. score is  0.9882717809196075\n",
      "taking cv = 9\n",
      "Cross validation score for  RandomForestClassifier()  is [0.98929664 0.99592253 0.99286079 0.98266191 0.99796022 0.9918409\n",
      " 0.9954105  0.98929118 0.95614482]\n",
      "Mean of Cross Val. score is  0.9879321650425454\n",
      "taking cv = 2\n",
      "Cross validation score for  KNeighborsClassifier()  is [0.98017222 0.95014164]\n",
      "Mean of Cross Val. score is  0.9651569307524961\n",
      "taking cv = 3\n",
      "Cross validation score for  KNeighborsClassifier()  is [0.98980286 0.9824949  0.96192419]\n",
      "Mean of Cross Val. score is  0.9780739816558089\n",
      "taking cv = 4\n",
      "Cross validation score for  KNeighborsClassifier()  is [0.99048266 0.98345797 0.97439384 0.9480961 ]\n",
      "Mean of Cross Val. score is  0.9741076419726683\n",
      "taking cv = 5\n",
      "Cross validation score for  KNeighborsClassifier()  is [0.98414047 0.97733711 0.98895184 0.96827195 0.94192635]\n",
      "Mean of Cross Val. score is  0.9721255444492849\n",
      "taking cv = 6\n",
      "Cross validation score for  KNeighborsClassifier()  is [0.98368457 0.98028552 0.98470428 0.97382733 0.98130523 0.95613737]\n",
      "Mean of Cross Val. score is  0.9766573837167597\n",
      "taking cv = 7\n",
      "Cross validation score for  KNeighborsClassifier()  is [0.9924663  0.97858842 0.97819191 0.97343378 0.97262991 0.98175327\n",
      " 0.95200317]\n",
      "Mean of Cross Val. score is  0.9755809667131882\n",
      "taking cv = 8\n",
      "Cross validation score for  KNeighborsClassifier()  is [0.99229724 0.98912551 0.98096964 0.98458749 0.97552131 0.97733454\n",
      " 0.96645512 0.94424297]\n",
      "Mean of Cross Val. score is  0.9763167275392193\n",
      "taking cv = 9\n",
      "Cross validation score for  KNeighborsClassifier()  is [0.99184506 0.98929664 0.98674146 0.98062213 0.98062213 0.97195309\n",
      " 0.98419174 0.93421724 0.93115757]\n",
      "Mean of Cross Val. score is  0.9722941162846533\n",
      "taking cv = 2\n",
      "Cross validation score for  GradientBoostingClassifier()  is [0.98923635 0.98628895]\n",
      "Mean of Cross Val. score is  0.9877626494987447\n",
      "taking cv = 3\n",
      "Cross validation score for  GradientBoostingClassifier()  is [0.992862   0.98759347 0.98589155]\n",
      "Mean of Cross Val. score is  0.9887823414656656\n",
      "taking cv = 4\n",
      "Cross validation score for  GradientBoostingClassifier()  is [0.99070927 0.98731022 0.99750736 0.97778785]\n",
      "Mean of Cross Val. score is  0.9883286759489756\n",
      "taking cv = 5\n",
      "Cross validation score for  GradientBoostingClassifier()  is [0.99348626 0.98583569 0.98951841 0.99235127 0.99008499]\n",
      "Mean of Cross Val. score is  0.9902553265572515\n",
      "taking cv = 6\n",
      "Cross validation score for  GradientBoostingClassifier()  is [0.99048266 0.99116247 0.98198504 0.99626105 0.98912305 0.99081945]\n",
      "Mean of Cross Val. score is  0.9899722875282783\n",
      "taking cv = 7\n",
      "Cross validation score for  GradientBoostingClassifier()  is [0.99167328 0.99365583 0.98334655 0.99365583 0.99563665 0.98809996\n",
      " 0.99047997]\n",
      "Mean of Cross Val. score is  0.9909354376674252\n",
      "taking cv = 8\n",
      "Cross validation score for  GradientBoostingClassifier()  is [0.99048482 0.99184413 0.98323516 0.98685403 0.99456029 0.99954669\n",
      " 0.98458749 0.99048051]\n",
      "Mean of Cross Val. score is  0.9901991407460232\n",
      "taking cv = 9\n",
      "Cross validation score for  GradientBoostingClassifier()  is [0.98878695 0.99082569 0.99439062 0.9790923  0.99337073 0.99439062\n",
      " 0.99439062 0.98827129 0.98980112]\n",
      "Mean of Cross Val. score is  0.9903688813734397\n",
      "taking cv = 2\n",
      "Cross validation score for  AdaBoostClassifier()  is [0.98175844 0.97031161]\n",
      "Mean of Cross Val. score is  0.97603502785037\n",
      "taking cv = 3\n",
      "Cross validation score for  AdaBoostClassifier()  is [0.99014276 0.97603671 0.97960224]\n",
      "Mean of Cross Val. score is  0.9819272378338858\n",
      "taking cv = 4\n",
      "Cross validation score for  AdaBoostClassifier()  is [0.99116247 0.98799003 0.98685701 0.96645512]\n",
      "Mean of Cross Val. score is  0.9831161599321547\n",
      "taking cv = 5\n",
      "Cross validation score for  AdaBoostClassifier()  is [0.98782215 0.98923513 0.98668555 0.98951841 0.97450425]\n",
      "Mean of Cross Val. score is  0.985553097895371\n",
      "taking cv = 6\n",
      "Cross validation score for  AdaBoostClassifier()  is [0.98674371 0.98504419 0.97756628 0.9789259  0.99048266 0.96429786]\n",
      "Mean of Cross Val. score is  0.9805101007170786\n",
      "taking cv = 7\n",
      "Cross validation score for  AdaBoostClassifier()  is [0.99325932 0.98969072 0.98969072 0.98850119 0.98056327 0.98254661\n",
      " 0.95557319]\n",
      "Mean of Cross Val. score is  0.9828321447299354\n",
      "taking cv = 8\n",
      "Cross validation score for  AdaBoostClassifier()  is [0.99184413 0.99320344 0.98232895 0.98776065 0.9800544  0.99365367\n",
      " 0.97914778 0.97189483]\n",
      "Mean of Cross Val. score is  0.9849859827442642\n",
      "taking cv = 9\n",
      "Cross validation score for  AdaBoostClassifier()  is [0.99286442 0.98572885 0.98419174 0.98215196 0.98572157 0.98113208\n",
      " 0.98317185 0.9790923  0.97195309]\n",
      "Mean of Cross Val. score is  0.9828897618407745\n",
      "taking cv = 2\n",
      "Cross validation score for  GaussianNB()  is [0.93723091 0.92464589]\n",
      "Mean of Cross Val. score is  0.930938400515089\n",
      "taking cv = 3\n",
      "Cross validation score for  GaussianNB()  is [0.92692046 0.93575799 0.9326874 ]\n",
      "Mean of Cross Val. score is  0.9317886181398359\n",
      "taking cv = 4\n",
      "Cross validation score for  GaussianNB()  is [0.95513256 0.91842284 0.94606843 0.9106981 ]\n",
      "Mean of Cross Val. score is  0.9325804836900126\n",
      "taking cv = 5\n",
      "Cross validation score for  GaussianNB()  is [0.96318323 0.91133144 0.96232295 0.9082153  0.91983003]\n",
      "Mean of Cross Val. score is  0.9329765901850304\n",
      "taking cv = 6\n",
      "Cross validation score for  GaussianNB()  is [0.95615228 0.91060503 0.95139361 0.92352141 0.9507138  0.90683441]\n",
      "Mean of Cross Val. score is  0.9332034236579462\n",
      "taking cv = 7\n",
      "Cross validation score for  GaussianNB()  is [0.9520222  0.96114195 0.90523394 0.96074544 0.90995637 0.94525982\n",
      " 0.89012297]\n",
      "Mean of Cross Val. score is  0.9320689554294285\n",
      "taking cv = 8\n",
      "Cross validation score for  GaussianNB()  is [0.94608065 0.97462619 0.88038061 0.95648232 0.91341795 0.97733454\n",
      " 0.93291024 0.87941976]\n",
      "Mean of Cross Val. score is  0.932581534029407\n",
      "taking cv = 9\n",
      "Cross validation score for  GaussianNB()  is [0.94138634 0.9775739  0.88322285 0.96430393 0.95665477 0.88781234\n",
      " 0.96124426 0.94849567 0.87251402]\n",
      "Mean of Cross Val. score is  0.9325786752651908\n",
      "taking cv = 2\n",
      "Cross validation score for  SVC(probability=True)  is [0.97960571 0.94379603]\n",
      "Mean of Cross Val. score is  0.9617008721977109\n",
      "taking cv = 3\n",
      "Cross validation score for  SVC(probability=True)  is [0.97059823 0.98011557 0.96855346]\n",
      "Mean of Cross Val. score is  0.9730890864184861\n",
      "taking cv = 4\n",
      "Cross validation score for  SVC(probability=True)  is [0.98685701 0.98164514 0.99002946 0.96101541]\n",
      "Mean of Cross Val. score is  0.9798867559150528\n",
      "taking cv = 5\n",
      "Cross validation score for  SVC(probability=True)  is [0.99461909 0.97223796 0.98923513 0.98696884 0.96175637]\n",
      "Mean of Cross Val. score is  0.9809634776720635\n",
      "taking cv = 6\n",
      "Cross validation score for  SVC(probability=True)  is [0.99592114 0.97790619 0.9789259  0.98674371 0.992862   0.9683781 ]\n",
      "Mean of Cross Val. score is  0.9834561736971836\n",
      "taking cv = 7\n",
      "Cross validation score for  SVC(probability=True)  is [0.99722443 0.9888977  0.9742268  0.99008723 0.98571995 0.9912733\n",
      " 0.96350655]\n",
      "Mean of Cross Val. score is  0.9844194233489105\n",
      "taking cv = 8\n",
      "Cross validation score for  SVC(probability=True)  is [0.99682827 0.9882193  0.9755324  0.98594742 0.98957389 0.99093382\n",
      " 0.99048051 0.95965549]\n",
      "Mean of Cross Val. score is  0.9846463859942876\n",
      "taking cv = 9\n",
      "Cross validation score for  SVC(probability=True)  is [0.99745158 0.98267074 0.98266191 0.97399286 0.99388067 0.98164202\n",
      " 0.99286079 0.99133095 0.9535951 ]\n",
      "Mean of Cross Val. score is  0.9833429586761766\n"
     ]
    }
   ],
   "source": [
    "from sklearn.model_selection import cross_val_score\n",
    "\n",
    "# validation accuracy\n",
    "\n",
    "model=[lg,dtc,rf,knn,xgb,ada,gnb,svc]\n",
    "\n",
    "for i in model:\n",
    "    for j in range(2,10):\n",
    "        print('taking cv =', j)\n",
    "        cr_score=cross_val_score(i, X, Y, cv=j)\n",
    "        print('Cross validation score for ' , i ,' is', cr_score)\n",
    "        print('Mean of Cross Val. score is ', cr_score.mean())"
   ]
  },
  {
   "cell_type": "markdown",
   "id": "5455e816",
   "metadata": {},
   "source": [
    "As we can see that the Cross validation score at fold for Random Forest Classifier is matching to its testing accuracy as well as training accuracy, which is slightly more than the other models\n",
    "\n",
    "Hence selecting Random Forest Classifier for this Problem\n",
    "\n",
    "I do not find need to do the hyperparameter tunning on the database as the random Forest Classifier is giving accuracy of 99.91% and hence I am going to save this model"
   ]
  },
  {
   "cell_type": "code",
   "execution_count": 108,
   "id": "4d5054e4",
   "metadata": {},
   "outputs": [
    {
     "data": {
      "text/plain": [
       "['Avocado Type Prediction.pkl']"
      ]
     },
     "execution_count": 108,
     "metadata": {},
     "output_type": "execute_result"
    }
   ],
   "source": [
    "#Importing Job lib for saving the model\n",
    "import joblib\n",
    "joblib.dump(RandomForestClassifier(), \"Avocado Type Prediction.pkl\")"
   ]
  },
  {
   "cell_type": "code",
   "execution_count": 109,
   "id": "f8429ac0",
   "metadata": {},
   "outputs": [
    {
     "data": {
      "text/html": [
       "<div>\n",
       "<style scoped>\n",
       "    .dataframe tbody tr th:only-of-type {\n",
       "        vertical-align: middle;\n",
       "    }\n",
       "\n",
       "    .dataframe tbody tr th {\n",
       "        vertical-align: top;\n",
       "    }\n",
       "\n",
       "    .dataframe thead th {\n",
       "        text-align: right;\n",
       "    }\n",
       "</style>\n",
       "<table border=\"1\" class=\"dataframe\">\n",
       "  <thead>\n",
       "    <tr style=\"text-align: right;\">\n",
       "      <th></th>\n",
       "      <th>Original</th>\n",
       "      <th>Predicted</th>\n",
       "    </tr>\n",
       "  </thead>\n",
       "  <tbody>\n",
       "    <tr>\n",
       "      <th>0</th>\n",
       "      <td>1</td>\n",
       "      <td>1</td>\n",
       "    </tr>\n",
       "    <tr>\n",
       "      <th>1</th>\n",
       "      <td>0</td>\n",
       "      <td>0</td>\n",
       "    </tr>\n",
       "    <tr>\n",
       "      <th>2</th>\n",
       "      <td>0</td>\n",
       "      <td>0</td>\n",
       "    </tr>\n",
       "    <tr>\n",
       "      <th>3</th>\n",
       "      <td>0</td>\n",
       "      <td>0</td>\n",
       "    </tr>\n",
       "    <tr>\n",
       "      <th>4</th>\n",
       "      <td>0</td>\n",
       "      <td>0</td>\n",
       "    </tr>\n",
       "    <tr>\n",
       "      <th>...</th>\n",
       "      <td>...</td>\n",
       "      <td>...</td>\n",
       "    </tr>\n",
       "    <tr>\n",
       "      <th>3526</th>\n",
       "      <td>1</td>\n",
       "      <td>1</td>\n",
       "    </tr>\n",
       "    <tr>\n",
       "      <th>3527</th>\n",
       "      <td>1</td>\n",
       "      <td>1</td>\n",
       "    </tr>\n",
       "    <tr>\n",
       "      <th>3528</th>\n",
       "      <td>0</td>\n",
       "      <td>0</td>\n",
       "    </tr>\n",
       "    <tr>\n",
       "      <th>3529</th>\n",
       "      <td>0</td>\n",
       "      <td>0</td>\n",
       "    </tr>\n",
       "    <tr>\n",
       "      <th>3530</th>\n",
       "      <td>1</td>\n",
       "      <td>1</td>\n",
       "    </tr>\n",
       "  </tbody>\n",
       "</table>\n",
       "<p>3531 rows × 2 columns</p>\n",
       "</div>"
      ],
      "text/plain": [
       "      Original  Predicted\n",
       "0            1          1\n",
       "1            0          0\n",
       "2            0          0\n",
       "3            0          0\n",
       "4            0          0\n",
       "...        ...        ...\n",
       "3526         1          1\n",
       "3527         1          1\n",
       "3528         0          0\n",
       "3529         0          0\n",
       "3530         1          1\n",
       "\n",
       "[3531 rows x 2 columns]"
      ]
     },
     "execution_count": 109,
     "metadata": {},
     "output_type": "execute_result"
    }
   ],
   "source": [
    "# Conclusion Step \n",
    "a=np.array(Y_test)\n",
    "predicted=np.array(predrf)\n",
    "df_con=pd.DataFrame({'Original':a,'Predicted':predrf}, index=range(len(a)))\n",
    "df_con"
   ]
  },
  {
   "cell_type": "markdown",
   "id": "3ffe3467",
   "metadata": {},
   "source": [
    "#                                       ********The End********"
   ]
  },
  {
   "cell_type": "code",
   "execution_count": null,
   "id": "2ea5b927",
   "metadata": {},
   "outputs": [],
   "source": []
  }
 ],
 "metadata": {
  "kernelspec": {
   "display_name": "Python 3 (ipykernel)",
   "language": "python",
   "name": "python3"
  },
  "language_info": {
   "codemirror_mode": {
    "name": "ipython",
    "version": 3
   },
   "file_extension": ".py",
   "mimetype": "text/x-python",
   "name": "python",
   "nbconvert_exporter": "python",
   "pygments_lexer": "ipython3",
   "version": "3.9.12"
  }
 },
 "nbformat": 4,
 "nbformat_minor": 5
}
