{
 "cells": [
  {
   "cell_type": "code",
   "execution_count": 1,
   "id": "12ab113a",
   "metadata": {},
   "outputs": [
    {
     "name": "stdout",
     "output_type": "stream",
     "text": [
      "Requirement already satisfied: selenium in c:\\users\\suven\\anaconda3\\lib\\site-packages (4.7.2)\n",
      "Requirement already satisfied: trio-websocket~=0.9 in c:\\users\\suven\\anaconda3\\lib\\site-packages (from selenium) (0.9.2)\n",
      "Requirement already satisfied: trio~=0.17 in c:\\users\\suven\\anaconda3\\lib\\site-packages (from selenium) (0.22.0)\n",
      "Requirement already satisfied: urllib3[socks]~=1.26 in c:\\users\\suven\\anaconda3\\lib\\site-packages (from selenium) (1.26.9)\n",
      "Requirement already satisfied: certifi>=2021.10.8 in c:\\users\\suven\\anaconda3\\lib\\site-packages (from selenium) (2021.10.8)\n",
      "Requirement already satisfied: outcome in c:\\users\\suven\\anaconda3\\lib\\site-packages (from trio~=0.17->selenium) (1.2.0)\n",
      "Requirement already satisfied: cffi>=1.14 in c:\\users\\suven\\anaconda3\\lib\\site-packages (from trio~=0.17->selenium) (1.15.0)\n",
      "Requirement already satisfied: idna in c:\\users\\suven\\anaconda3\\lib\\site-packages (from trio~=0.17->selenium) (3.3)\n",
      "Requirement already satisfied: async-generator>=1.9 in c:\\users\\suven\\anaconda3\\lib\\site-packages (from trio~=0.17->selenium) (1.10)\n",
      "Requirement already satisfied: sortedcontainers in c:\\users\\suven\\anaconda3\\lib\\site-packages (from trio~=0.17->selenium) (2.4.0)\n",
      "Requirement already satisfied: attrs>=19.2.0 in c:\\users\\suven\\anaconda3\\lib\\site-packages (from trio~=0.17->selenium) (21.4.0)\n",
      "Requirement already satisfied: sniffio in c:\\users\\suven\\anaconda3\\lib\\site-packages (from trio~=0.17->selenium) (1.2.0)\n",
      "Requirement already satisfied: exceptiongroup>=1.0.0rc9 in c:\\users\\suven\\anaconda3\\lib\\site-packages (from trio~=0.17->selenium) (1.1.0)\n",
      "Requirement already satisfied: pycparser in c:\\users\\suven\\anaconda3\\lib\\site-packages (from cffi>=1.14->trio~=0.17->selenium) (2.21)\n",
      "Requirement already satisfied: wsproto>=0.14 in c:\\users\\suven\\anaconda3\\lib\\site-packages (from trio-websocket~=0.9->selenium) (1.2.0)\n",
      "Requirement already satisfied: PySocks!=1.5.7,<2.0,>=1.5.6 in c:\\users\\suven\\anaconda3\\lib\\site-packages (from urllib3[socks]~=1.26->selenium) (1.7.1)\n",
      "Requirement already satisfied: h11<1,>=0.9.0 in c:\\users\\suven\\anaconda3\\lib\\site-packages (from wsproto>=0.14->trio-websocket~=0.9->selenium) (0.14.0)\n"
     ]
    }
   ],
   "source": [
    "#Installing selenium\n",
    "!pip install selenium"
   ]
  },
  {
   "cell_type": "code",
   "execution_count": 2,
   "id": "24bfc0bb",
   "metadata": {},
   "outputs": [],
   "source": [
    "#Importing all the required libraries\n",
    "import selenium\n",
    "import pandas as pd\n",
    "import numpy as np\n",
    "from selenium import webdriver\n",
    "import warnings\n",
    "warnings.filterwarnings('ignore')\n",
    "from selenium.webdriver.common.by import By\n",
    "import time"
   ]
  },
  {
   "cell_type": "code",
   "execution_count": 3,
   "id": "34142fc0",
   "metadata": {},
   "outputs": [],
   "source": [
    "# Connecting to the webdriver\n",
    "driver = webdriver.Chrome(r\"C:\\Users\\suven\\OneDrive\\Desktop\\Internship\\Web Scraping\\Selenium\\chromedriver.exe\")"
   ]
  },
  {
   "cell_type": "code",
   "execution_count": 4,
   "id": "c1738630",
   "metadata": {},
   "outputs": [],
   "source": [
    "#Importing exceptions\n",
    "# Importing required Exceptions\n",
    "from selenium.common.exceptions import StaleElementReferenceException\n",
    "from selenium.common.exceptions import NoSuchElementException\n",
    "from selenium.webdriver.support.ui import WebDriverWait\n",
    "from selenium.webdriver.support import expected_conditions\n",
    "from selenium.common.exceptions import TimeoutException"
   ]
  },
  {
   "cell_type": "code",
   "execution_count": 5,
   "id": "cbce9402",
   "metadata": {},
   "outputs": [],
   "source": [
    "# importing regex\n",
    "import re"
   ]
  },
  {
   "cell_type": "markdown",
   "id": "6281d45a",
   "metadata": {},
   "source": [
    "# ASSIGNMENT"
   ]
  },
  {
   "cell_type": "markdown",
   "id": "fc483563",
   "metadata": {},
   "source": [
    "1. Write a python program which searches all the product under a particular product from www.amazon.in. \n",
    "The product to be searched will be taken as input from user. For e.g. If user input is ‘guitar’. Then search \n",
    "for guitars."
   ]
  },
  {
   "cell_type": "code",
   "execution_count": 6,
   "id": "bee43995",
   "metadata": {},
   "outputs": [],
   "source": [
    "#Getting amazon page\n",
    "driver.get('https://www.amazon.in/')"
   ]
  },
  {
   "cell_type": "code",
   "execution_count": 7,
   "id": "7e5783f3",
   "metadata": {
    "scrolled": true
   },
   "outputs": [
    {
     "name": "stdout",
     "output_type": "stream",
     "text": [
      "Enter the name of the product you want to search: guitars\n"
     ]
    }
   ],
   "source": [
    "search_item = input(\"Enter the name of the product you want to search: \")"
   ]
  },
  {
   "cell_type": "code",
   "execution_count": null,
   "id": "35c52b79",
   "metadata": {},
   "outputs": [],
   "source": [
    "search_bar = driver.find_element(By.XPATH,'/html/body/div[1]/header/div/div[1]/div[2]/div/form/div[2]/div[1]/input')                                                  \n",
    "search_bar.send_keys(search_item)"
   ]
  },
  {
   "cell_type": "code",
   "execution_count": 8,
   "id": "0548cc3b",
   "metadata": {},
   "outputs": [],
   "source": [
    "search_btn=driver.find_element(By.XPATH,'/html/body/div[1]/header/div/div[1]/div[2]/div/form/div[3]/div/span/input')\n",
    "search_btn.click()"
   ]
  },
  {
   "cell_type": "markdown",
   "id": "47450cf7",
   "metadata": {},
   "source": [
    "-----"
   ]
  },
  {
   "cell_type": "markdown",
   "id": "a4c8313c",
   "metadata": {},
   "source": [
    "2. In the above question, now scrape the following details of each product listed in first 3 pages of your \n",
    "search results and save it in a data frame and csv. In case if any product has less than 3 pages in search \n",
    "results then scrape all the products available under that product name. Details to be scraped are: \"Brand \n",
    "Name\", \"Name of the Product\", \"Price\", \"Return/Exchange\", \"Expected Delivery\", \"Availability\" and \n",
    "“Product URL”. In case, if any of the details are missing for any of the product then replace it by “-“."
   ]
  },
  {
   "cell_type": "code",
   "execution_count": 9,
   "id": "39b3a876",
   "metadata": {},
   "outputs": [],
   "source": [
    "#collecting all the Product URLS\n",
    "urls = []\n",
    "for i in range(0,3):\n",
    "    Page_urls=driver.find_elements(By.XPATH,\"//a[@class='a-link-normal s-no-outline']\")#collecting urls of all the laptop\n",
    "    for i in Page_urls:\n",
    "        urls.append(i.get_attribute('href'))\n",
    "        \n",
    "#next button \n",
    "nxt_btn=driver.find_element(By.XPATH,\"//a[@class='s-pagination-item s-pagination-next s-pagination-button s-pagination-separator']\") \n",
    "url=nxt_btn.get_attribute('href')\n",
    "driver.get(url)\n",
    "time.sleep(2)\n",
    "    "
   ]
  },
  {
   "cell_type": "code",
   "execution_count": 10,
   "id": "3c57b9b1",
   "metadata": {},
   "outputs": [],
   "source": [
    "#Making empty lists and scraping the required spots\n",
    "Product_name = []\n",
    "Brand_name= []\n",
    "Ratings = []\n",
    "No_Ratings = []\n",
    "Price = []\n",
    "Return = []\n",
    "Expected_Delivery = []\n",
    "Availability = []\n",
    "Other_Details = []"
   ]
  },
  {
   "cell_type": "code",
   "execution_count": 13,
   "id": "dc992813",
   "metadata": {},
   "outputs": [],
   "source": [
    "#Start with for loop\n",
    "for i in urls[0:2]:\n",
    "    driver.get(i)\n",
    "    time.sleep(2)\n",
    "    \n",
    "    \n",
    "    #Scraping data for product name\n",
    "    try:\n",
    "        prod=driver.find_element(By.XPATH,\"//span[@id='productTitle']\")\n",
    "        Product_name.append(prod.text)\n",
    "    except NoSuchElementException as e:\n",
    "        Product_name.append(\"-\")"
   ]
  },
  {
   "cell_type": "code",
   "execution_count": 27,
   "id": "93522aef",
   "metadata": {},
   "outputs": [],
   "source": [
    "    #Scraping data for brand name\n",
    "    try:\n",
    "        brand=driver.find_element(By.XPATH,\"//div[@id='bylineInfo_feature_div']/div/a\")\n",
    "        Brand_name.append(brand.text)\n",
    "    except NoSuchElementException as e:\n",
    "        Brand_name.append(\"-\")"
   ]
  },
  {
   "cell_type": "code",
   "execution_count": 29,
   "id": "b02bc945",
   "metadata": {},
   "outputs": [],
   "source": [
    "    #Scraping data for Ratings\n",
    "    try:\n",
    "        rat=driver.find_element(By.XPATH,\"//span[@id='acrPopover']\")\n",
    "        Ratings.append(rat.get_attribute(\"title\"))   \n",
    "    except NoSuchElementException as e:\n",
    "        Ratings.append(\"-\")"
   ]
  },
  {
   "cell_type": "code",
   "execution_count": 31,
   "id": "e279773a",
   "metadata": {},
   "outputs": [],
   "source": [
    "    #Scraping data for No of Ratings\n",
    "    try:\n",
    "        no_rat=driver.find_element(By.XPATH,\"//a[@id='acrCustomerReviewLink']/span\")\n",
    "        No_Ratings.append(no_rat.text)\n",
    "    except NoSuchElementException as e:\n",
    "        No_Ratings.append(\"-\")"
   ]
  },
  {
   "cell_type": "code",
   "execution_count": 34,
   "id": "324548a4",
   "metadata": {},
   "outputs": [],
   "source": [
    "    #Scraping data for Price\n",
    "    try:\n",
    "        pri=driver.find_element(By.XPATH,\"//span[@id='priceblock_ourprice']\")\n",
    "        Price.append(pri.text)\n",
    "    except NoSuchElementException as e:\n",
    "        Price.append(\"-\")"
   ]
  },
  {
   "cell_type": "code",
   "execution_count": 57,
   "id": "a60b6e29",
   "metadata": {},
   "outputs": [],
   "source": [
    "    #Scraping data for Return/Exchange\n",
    "    try:\n",
    "        ret=driver.find_element(By.XPATH,\"//div[@data-name='RETURNS_POLICY']/span/div[2]/a\")\n",
    "        Return.append(ret.text)\n",
    "    except NoSuchElementException as e:\n",
    "        Return.append(\"-\")"
   ]
  },
  {
   "cell_type": "code",
   "execution_count": 54,
   "id": "689720a8",
   "metadata": {},
   "outputs": [],
   "source": [
    "    #Scraping data for Expected_Delivary\n",
    "    try:\n",
    "        delivary=driver.find_element(By.XPATH,\"//div[@id='ddmDeliveryMessage']/b\")\n",
    "        Expected_Delivery.append(delivary.text)\n",
    "    except NoSuchElementException as e:\n",
    "        Expected_Delivery.append(\"-\")"
   ]
  },
  {
   "cell_type": "code",
   "execution_count": 61,
   "id": "42278582",
   "metadata": {},
   "outputs": [],
   "source": [
    "    #Scraping data for Availability\n",
    "    try:\n",
    "        avai=driver.find_element(By.XPATH,\"//div[@id='availability']/span\")\n",
    "        Availability.append(avai.text)\n",
    "    except NoSuchElementException as e:\n",
    "        Availability.append(\"-\")"
   ]
  },
  {
   "cell_type": "code",
   "execution_count": 67,
   "id": "da135284",
   "metadata": {},
   "outputs": [],
   "source": [
    "    #Scraping data for Other_Details\n",
    "    try:\n",
    "        details=driver.find_element(By.XPATH,\"//ul[@class='a-unordered-list a-vertical a-spacing-mini']\")\n",
    "        Other_Details.append(details.text)\n",
    "    except NoSuchElementException as e:\n",
    "        Other_Details.append(\"-\")"
   ]
  },
  {
   "cell_type": "code",
   "execution_count": null,
   "id": "645f29c1",
   "metadata": {},
   "outputs": [],
   "source": [
    "#Making empty lists and scraping the required spots\n",
    "Product_name = []\n",
    "Brand_name= []\n",
    "Ratings = []\n",
    "No_Ratings = []\n",
    "Price = []\n",
    "Return = []\n",
    "Expected_Delivery = []\n",
    "Availability = []\n",
    "Other_Details = []"
   ]
  },
  {
   "cell_type": "code",
   "execution_count": 76,
   "id": "46ce90ed",
   "metadata": {},
   "outputs": [
    {
     "data": {
      "text/html": [
       "<div>\n",
       "<style scoped>\n",
       "    .dataframe tbody tr th:only-of-type {\n",
       "        vertical-align: middle;\n",
       "    }\n",
       "\n",
       "    .dataframe tbody tr th {\n",
       "        vertical-align: top;\n",
       "    }\n",
       "\n",
       "    .dataframe thead th {\n",
       "        text-align: right;\n",
       "    }\n",
       "</style>\n",
       "<table border=\"1\" class=\"dataframe\">\n",
       "  <thead>\n",
       "    <tr style=\"text-align: right;\">\n",
       "      <th></th>\n",
       "      <th>Name</th>\n",
       "      <th>Brand</th>\n",
       "      <th>Rating</th>\n",
       "      <th>No_Ratings</th>\n",
       "      <th>Price</th>\n",
       "      <th>Return</th>\n",
       "      <th>Exp_Delivery</th>\n",
       "      <th>Avail</th>\n",
       "      <th>Other_Details</th>\n",
       "    </tr>\n",
       "  </thead>\n",
       "  <tbody>\n",
       "    <tr>\n",
       "      <th>0</th>\n",
       "      <td>Kadence Slowhand Premium Jumbo Semi Acoustic G...</td>\n",
       "      <td>Brand: KETOSTICS</td>\n",
       "      <td>4.1 out of 5 stars</td>\n",
       "      <td>58 ratings</td>\n",
       "      <td>-</td>\n",
       "      <td>7 days Replacement</td>\n",
       "      <td>-</td>\n",
       "      <td>In stock.</td>\n",
       "      <td>Venus Special 6 Strings | Acoustic Guitar | Co...</td>\n",
       "    </tr>\n",
       "    <tr>\n",
       "      <th>1</th>\n",
       "      <td>Ketostics® Givson Venus Special Guitar Combo (...</td>\n",
       "      <td>Brand: KETOSTICS</td>\n",
       "      <td>4.1 out of 5 stars</td>\n",
       "      <td>58 ratings</td>\n",
       "      <td>-</td>\n",
       "      <td>7 days Replacement</td>\n",
       "      <td>-</td>\n",
       "      <td>In stock.</td>\n",
       "      <td>Venus Special 6 Strings | Acoustic Guitar | Co...</td>\n",
       "    </tr>\n",
       "    <tr>\n",
       "      <th>2</th>\n",
       "      <td>Kadence Slowhand Premium Jumbo Semi Acoustic G...</td>\n",
       "      <td>Brand: KETOSTICS</td>\n",
       "      <td>4.1 out of 5 stars</td>\n",
       "      <td>58 ratings</td>\n",
       "      <td>-</td>\n",
       "      <td>7 days Replacement</td>\n",
       "      <td>-</td>\n",
       "      <td>In stock.</td>\n",
       "      <td>Venus Special 6 Strings | Acoustic Guitar | Co...</td>\n",
       "    </tr>\n",
       "    <tr>\n",
       "      <th>3</th>\n",
       "      <td>Kadence Slowhand Premium Jumbo Semi Acoustic G...</td>\n",
       "      <td>Brand: KETOSTICS</td>\n",
       "      <td>4.1 out of 5 stars</td>\n",
       "      <td>58 ratings</td>\n",
       "      <td>-</td>\n",
       "      <td>7 days Replacement</td>\n",
       "      <td>-</td>\n",
       "      <td>In stock.</td>\n",
       "      <td>Venus Special 6 Strings | Acoustic Guitar | Co...</td>\n",
       "    </tr>\n",
       "    <tr>\n",
       "      <th>4</th>\n",
       "      <td>Ketostics® Givson Venus Special Guitar Combo (...</td>\n",
       "      <td>Brand: KETOSTICS</td>\n",
       "      <td>4.1 out of 5 stars</td>\n",
       "      <td>58 ratings</td>\n",
       "      <td>-</td>\n",
       "      <td>7 days Replacement</td>\n",
       "      <td>-</td>\n",
       "      <td>In stock.</td>\n",
       "      <td>Venus Special 6 Strings | Acoustic Guitar | Co...</td>\n",
       "    </tr>\n",
       "  </tbody>\n",
       "</table>\n",
       "</div>"
      ],
      "text/plain": [
       "                                                Name             Brand  \\\n",
       "0  Kadence Slowhand Premium Jumbo Semi Acoustic G...  Brand: KETOSTICS   \n",
       "1  Ketostics® Givson Venus Special Guitar Combo (...  Brand: KETOSTICS   \n",
       "2  Kadence Slowhand Premium Jumbo Semi Acoustic G...  Brand: KETOSTICS   \n",
       "3  Kadence Slowhand Premium Jumbo Semi Acoustic G...  Brand: KETOSTICS   \n",
       "4  Ketostics® Givson Venus Special Guitar Combo (...  Brand: KETOSTICS   \n",
       "\n",
       "               Rating  No_Ratings Price              Return Exp_Delivery  \\\n",
       "0  4.1 out of 5 stars  58 ratings     -  7 days Replacement            -   \n",
       "1  4.1 out of 5 stars  58 ratings     -  7 days Replacement            -   \n",
       "2  4.1 out of 5 stars  58 ratings     -  7 days Replacement            -   \n",
       "3  4.1 out of 5 stars  58 ratings     -  7 days Replacement            -   \n",
       "4  4.1 out of 5 stars  58 ratings     -  7 days Replacement            -   \n",
       "\n",
       "       Avail                                      Other_Details  \n",
       "0  In stock.  Venus Special 6 Strings | Acoustic Guitar | Co...  \n",
       "1  In stock.  Venus Special 6 Strings | Acoustic Guitar | Co...  \n",
       "2  In stock.  Venus Special 6 Strings | Acoustic Guitar | Co...  \n",
       "3  In stock.  Venus Special 6 Strings | Acoustic Guitar | Co...  \n",
       "4  In stock.  Venus Special 6 Strings | Acoustic Guitar | Co...  "
      ]
     },
     "execution_count": 76,
     "metadata": {},
     "output_type": "execute_result"
    }
   ],
   "source": [
    "      \n",
    "#DATA FRAMING\n",
    "Laptop=pd.DataFrame({'Name':Product_name[0:5],'Brand':Brand_name[0:5],'Rating':Ratings[0:5],'No_Ratings':No_Ratings[0:5],'Price':Price[0:5],'Return':Return[0:5],'Exp_Delivery':Expected_Delivery[0:5],'Avail':Availability[0:5],'Other_Details':Other_Details[0:5]})\n",
    "#Printing Dataframe\n",
    "Laptop"
   ]
  },
  {
   "cell_type": "markdown",
   "id": "11402fc2",
   "metadata": {},
   "source": [
    "----"
   ]
  },
  {
   "cell_type": "markdown",
   "id": "6666495f",
   "metadata": {},
   "source": [
    "3. Write a python program to access the search bar and search button on images.google.com and scrape 10\n",
    "images each for keywords ‘fruits’, ‘cars’ and ‘Machine Learning’, ‘Guitar’, ‘Cakes’"
   ]
  },
  {
   "cell_type": "code",
   "execution_count": 120,
   "id": "61fb55ba",
   "metadata": {},
   "outputs": [],
   "source": [
    "# getting images.google.com\n",
    "url = \"https://images.google.com/\"\n",
    "\n",
    "#Creating empty list and giving search items as list and creating loop\n",
    "image_urls = []    \n",
    "data = []\n",
    "search_item = [\"fruits\", \"cars\", \"Machine Learning\",\"Guitar\",\"Cakes\"]\n",
    "for i in search_item:\n",
    "    driver.get(url)  \n",
    "    \n",
    "    search_bar = driver.find_element(By.XPATH,\"/html/body/div[1]/div[3]/form/div[1]/div[1]/div[1]/div/div[2]/input\") #Xpath for search bar\n",
    "    \n",
    "    search_bar.send_keys(str(i))      #sending key word for search item\n",
    "    \n",
    "    search_button =driver.find_element(By.CLASS_NAME,'zgAlFc').click() #Clicking on search button\n",
    "    \n"
   ]
  },
  {
   "cell_type": "code",
   "execution_count": 121,
   "id": "611d43f5",
   "metadata": {},
   "outputs": [],
   "source": [
    "import requests"
   ]
  },
  {
   "cell_type": "code",
   "execution_count": 122,
   "id": "aef90c21",
   "metadata": {
    "scrolled": true
   },
   "outputs": [
    {
     "name": "stdout",
     "output_type": "stream",
     "text": [
      "Downloading 0 of 30 images\n",
      "Downloading 1 of 30 images\n",
      "Downloading 2 of 30 images\n",
      "Downloading 3 of 30 images\n",
      "Downloading 4 of 30 images\n",
      "Downloading 5 of 30 images\n",
      "Downloading 6 of 30 images\n",
      "Downloading 7 of 30 images\n",
      "Downloading 8 of 30 images\n",
      "Downloading 9 of 30 images\n",
      "Downloading 10 of 30 images\n",
      "Downloading 11 of 30 images\n",
      "Downloading 12 of 30 images\n",
      "Downloading 13 of 30 images\n",
      "Downloading 14 of 30 images\n",
      "Downloading 15 of 30 images\n",
      "Downloading 16 of 30 images\n",
      "Downloading 17 of 30 images\n",
      "Downloading 18 of 30 images\n",
      "Downloading 19 of 30 images\n",
      "Downloading 20 of 30 images\n",
      "Downloading 21 of 30 images\n",
      "Downloading 22 of 30 images\n",
      "Downloading 23 of 30 images\n",
      "Downloading 24 of 30 images\n",
      "Downloading 25 of 30 images\n",
      "Downloading 26 of 30 images\n",
      "Downloading 27 of 30 images\n",
      "Downloading 28 of 30 images\n",
      "Downloading 29 of 30 images\n"
     ]
    }
   ],
   "source": [
    "   # scrolling the web page to get more images\n",
    "for i in range(500):\n",
    "        driver.execute_script(\"window.scrollBy(0,100)\")\n",
    "        \n",
    "        imgs = driver.find_elements(By.XPATH,\"//img[@class='rg_i Q4LuWd']\")\n",
    "img_url = []\n",
    "for image in imgs:\n",
    "        source = image.get_attribute('src')\n",
    "        if source is not None:\n",
    "                if(source[0:4] == 'http'):\n",
    "                    img_url.append(source)\n",
    "for i in img_url[:100]:\n",
    "        urls.append(i)\n",
    "                    \n",
    "for i in range(len(urls)):\n",
    "    if i >= 30:\n",
    "        break\n",
    "    print(\"Downloading {0} of {1} images\" .format(i, 30))\n",
    "    response = requests.get(urls[i])\n",
    "\n",
    "    file = open(r\"C:\\Users\\suven\\OneDrive\\Desktop\\Internship\\Web Scraping\\Selenium-ExceptionHandling\\downloaded_imgs\"+str(i)+\".jpg\", \"wb\")\n",
    "\n",
    "    file.write(response.content)"
   ]
  },
  {
   "cell_type": "markdown",
   "id": "aa3b65d6",
   "metadata": {},
   "source": [
    "4. Write a python program to search for a smartphone(e.g.: Oneplus Nord, pixel 4A, etc.) on\n",
    "www.flipkart.com and scrape following details for all the search results displayed on 1st page. Details to be \n",
    "scraped: “Brand Name”, “Smartphone name”, “Colour”, “RAM”, “Storage(ROM)”, “Primary Camera”, \n",
    "“Secondary Camera”, “Display Size”, “Battery Capacity”, “Price”, “Product URL”. Incase if any of the \n",
    "details is missing then replace it by “- “. Save your results in a dataframe and CSV.\n"
   ]
  },
  {
   "cell_type": "code",
   "execution_count": 124,
   "id": "7df62f06",
   "metadata": {},
   "outputs": [
    {
     "name": "stdout",
     "output_type": "stream",
     "text": [
      " Enter the name of Smartphone that has to be searched : Oneplus Nord\n"
     ]
    }
   ],
   "source": [
    "# Activating the chrome browser\n",
    "item = input(\" Enter the name of Smartphone that has to be searched : \")\n",
    "\n",
    "\n",
    "#get the web page with given url\n",
    "url = \"https://www.flipkart.com/\"\n",
    "driver.get(url)\n"
   ]
  },
  {
   "cell_type": "code",
   "execution_count": 127,
   "id": "fb3921f8",
   "metadata": {},
   "outputs": [],
   "source": [
    "#giving input key word to search bar\n",
    "search_bar = driver.find_element(By.XPATH,\"//div[@class='_3OO5Xc']//input\")\n",
    "search_bar.send_keys(item)\n",
    "\n",
    "search_btn = driver.find_element(By.XPATH,\"/html/body/div[1]/div/div[1]/div[1]/div[2]/div[2]/form/div/button\")\n",
    "search_btn.click()\n",
    "time.sleep(2)"
   ]
  },
  {
   "cell_type": "code",
   "execution_count": 128,
   "id": "658d2c12",
   "metadata": {},
   "outputs": [],
   "source": [
    "# Fetching urls of phones coming on 1st page\n",
    "page1_urls = []\n",
    "urls = driver.find_elements(By.XPATH,'//a[@class=\"_1fQZEK\"]')\n",
    "for url in urls:\n",
    "    page1_urls.append(url.get_attribute(\"href\"))"
   ]
  },
  {
   "cell_type": "code",
   "execution_count": 129,
   "id": "71cc158d",
   "metadata": {},
   "outputs": [
    {
     "data": {
      "text/plain": [
       "24"
      ]
     },
     "execution_count": 129,
     "metadata": {},
     "output_type": "execute_result"
    }
   ],
   "source": [
    "len(page1_urls)"
   ]
  },
  {
   "cell_type": "code",
   "execution_count": 130,
   "id": "1383af88",
   "metadata": {},
   "outputs": [],
   "source": [
    "Smartphones = {}\n",
    "Smartphones[\"Brand\"] = []\n",
    "Smartphones[\"Phone name\"] = []\n",
    "Smartphones[\"Colour\"] = []\n",
    "Smartphones[\"RAM\"] = []\n",
    "Smartphones[\"Storage(ROM)\"] = []\n",
    "Smartphones[\"Primary Camera\"] = []\n",
    "Smartphones[\"Secondary Camera\"] = []\n",
    "Smartphones[\"Display Size\"] = []\n",
    "Smartphones[\"Display Resolution\"] = []\n",
    "Smartphones[\"Processor\"] = []\n",
    "Smartphones[\"Processor Cores\"] = []\n",
    "Smartphones[\"Battery Capacity\"] = []\n",
    "Smartphones[\"Price\"] = []\n",
    "Smartphones[\"URL\"] = []"
   ]
  },
  {
   "cell_type": "code",
   "execution_count": 137,
   "id": "7ed06c30",
   "metadata": {},
   "outputs": [
    {
     "name": "stdout",
     "output_type": "stream",
     "text": [
      "Scraping URL =  https://www.flipkart.com/oneplus-nord-ce-2-lite-5g-blue-tide-128-gb/p/itmae8c2d44e04c8?pid=MOBGHBZHPYDVQ9FS&lid=LSTMOBGHBZHPYDVQ9FSGTDDHO&marketplace=FLIPKART&q=Oneplus+Nord&store=tyy%2F4io&srno=s_1_1&otracker=search&otracker1=search&fm=organic&iid=90d53f9b-e01d-4044-bb81-acdc969bbd76.MOBGHBZHPYDVQ9FS.SEARCH&ppt=hp&ppn=homepage&ssid=bbfvf7qrsw0000001674756091505&qH=53863d4d978d5074\n",
      "Scraping URL =  https://www.flipkart.com/oneplus-nord-ce-2-lite-5g-blue-tide-128-gb/p/itm7acae55b999e6?pid=MOBGJMUHHJE55ARU&lid=LSTMOBGJMUHHJE55ARUIMV2RG&marketplace=FLIPKART&q=Oneplus+Nord&store=tyy%2F4io&srno=s_1_2&otracker=search&otracker1=search&fm=organic&iid=90d53f9b-e01d-4044-bb81-acdc969bbd76.MOBGJMUHHJE55ARU.SEARCH&ppt=hp&ppn=homepage&ssid=bbfvf7qrsw0000001674756091505&qH=53863d4d978d5074\n",
      "Scraping URL =  https://www.flipkart.com/oneplus-nord-ce-2-lite-5g-black-dusk-128-gb/p/itmc5864ef10aa67?pid=MOBGHBZHB7YJT5HF&lid=LSTMOBGHBZHB7YJT5HFRDCRQX&marketplace=FLIPKART&q=Oneplus+Nord&store=tyy%2F4io&srno=s_1_3&otracker=search&otracker1=search&fm=organic&iid=90d53f9b-e01d-4044-bb81-acdc969bbd76.MOBGHBZHB7YJT5HF.SEARCH&ppt=hp&ppn=homepage&ssid=bbfvf7qrsw0000001674756091505&qH=53863d4d978d5074\n",
      "Scraping URL =  https://www.flipkart.com/oneplus-nord-ce-2-5g-bahama-blue-128-gb/p/itm2a9883679c57c?pid=MOBGDBYGG6PPNFD9&lid=LSTMOBGDBYGG6PPNFD9C2SSDV&marketplace=FLIPKART&q=Oneplus+Nord&store=tyy%2F4io&srno=s_1_4&otracker=search&otracker1=search&fm=organic&iid=90d53f9b-e01d-4044-bb81-acdc969bbd76.MOBGDBYGG6PPNFD9.SEARCH&ppt=hp&ppn=homepage&ssid=bbfvf7qrsw0000001674756091505&qH=53863d4d978d5074\n",
      "Scraping URL =  https://www.flipkart.com/oneplus-nord-2-5g-gray-sierra-128-gb/p/itmd16c63dadf5c5?pid=MOBGDBFFA5EGECHQ&lid=LSTMOBGDBFFA5EGECHQQKVBBR&marketplace=FLIPKART&q=Oneplus+Nord&store=tyy%2F4io&srno=s_1_5&otracker=search&otracker1=search&fm=organic&iid=90d53f9b-e01d-4044-bb81-acdc969bbd76.MOBGDBFFA5EGECHQ.SEARCH&ppt=hp&ppn=homepage&ssid=bbfvf7qrsw0000001674756091505&qH=53863d4d978d5074\n",
      "Scraping URL =  https://www.flipkart.com/oneplus-nord-ce-2-lite-5g-black-dusk-128-gb/p/itm7acae55b999e6?pid=MOBGJMUHBTHF8HPM&lid=LSTMOBGJMUHBTHF8HPMQBGGA8&marketplace=FLIPKART&q=Oneplus+Nord&store=tyy%2F4io&srno=s_1_6&otracker=search&otracker1=search&fm=organic&iid=90d53f9b-e01d-4044-bb81-acdc969bbd76.MOBGJMUHBTHF8HPM.SEARCH&ppt=hp&ppn=homepage&ssid=bbfvf7qrsw0000001674756091505&qH=53863d4d978d5074\n",
      "Scraping URL =  https://www.flipkart.com/oneplus-nord-2-5g-blue-haze-256-gb/p/itmd16c63dadf5c5?pid=MOBGDBFHW7596ZTU&lid=LSTMOBGDBFHW7596ZTUTRT8EP&marketplace=FLIPKART&q=Oneplus+Nord&store=tyy%2F4io&srno=s_1_7&otracker=search&otracker1=search&fm=organic&iid=90d53f9b-e01d-4044-bb81-acdc969bbd76.MOBGDBFHW7596ZTU.SEARCH&ppt=hp&ppn=homepage&ssid=bbfvf7qrsw0000001674756091505&qH=53863d4d978d5074\n",
      "Scraping URL =  https://www.flipkart.com/oneplus-nord-2-5g-blue-haze-128-gb/p/itmd16c63dadf5c5?pid=MOBGDBFJXFJPVWKA&lid=LSTMOBGDBFJXFJPVWKA9WW7RD&marketplace=FLIPKART&q=Oneplus+Nord&store=tyy%2F4io&srno=s_1_8&otracker=search&otracker1=search&fm=organic&iid=90d53f9b-e01d-4044-bb81-acdc969bbd76.MOBGDBFJXFJPVWKA.SEARCH&ppt=hp&ppn=homepage&ssid=bbfvf7qrsw0000001674756091505&qH=53863d4d978d5074\n",
      "Scraping URL =  https://www.flipkart.com/oneplus-nord-ce-2-lite-5g-blue-tide-128-gb/p/itm7acae55b999e6?pid=MOBGKGRADDHG3PN4&lid=LSTMOBGKGRADDHG3PN4VRK6DR&marketplace=FLIPKART&q=Oneplus+Nord&store=tyy%2F4io&srno=s_1_9&otracker=search&otracker1=search&fm=organic&iid=90d53f9b-e01d-4044-bb81-acdc969bbd76.MOBGKGRADDHG3PN4.SEARCH&ppt=hp&ppn=homepage&ssid=bbfvf7qrsw0000001674756091505&qH=53863d4d978d5074\n",
      "Scraping URL =  https://www.flipkart.com/oneplus-nord-ce-2-5g-gray-mirror-128-gb/p/itm4644f5bbeb9bb?pid=MOBGKN6FDR7TNMHS&lid=LSTMOBGKN6FDR7TNMHSL5NRW1&marketplace=FLIPKART&q=Oneplus+Nord&store=tyy%2F4io&srno=s_1_10&otracker=search&otracker1=search&fm=organic&iid=90d53f9b-e01d-4044-bb81-acdc969bbd76.MOBGKN6FDR7TNMHS.SEARCH&ppt=hp&ppn=homepage&ssid=bbfvf7qrsw0000001674756091505&qH=53863d4d978d5074\n",
      "Scraping URL =  https://www.flipkart.com/oneplus-nord-ce-2-5g-gray-mirror-128-gb/p/itm33d69f9705a3d?pid=MOBGHHZGCZHJR938&lid=LSTMOBGHHZGCZHJR938SOVHYZ&marketplace=FLIPKART&q=Oneplus+Nord&store=tyy%2F4io&srno=s_1_11&otracker=search&otracker1=search&fm=organic&iid=90d53f9b-e01d-4044-bb81-acdc969bbd76.MOBGHHZGCZHJR938.SEARCH&ppt=hp&ppn=homepage&ssid=bbfvf7qrsw0000001674756091505&qH=53863d4d978d5074\n",
      "Scraping URL =  https://www.flipkart.com/oneplus-nord-ce-2-5g-bahama-blue-128-gb/p/itm2a9883679c57c?pid=MOBGDBYZ2HVZAHZD&lid=LSTMOBGDBYZ2HVZAHZD7YB1MH&marketplace=FLIPKART&q=Oneplus+Nord&store=tyy%2F4io&srno=s_1_12&otracker=search&otracker1=search&fm=organic&iid=90d53f9b-e01d-4044-bb81-acdc969bbd76.MOBGDBYZ2HVZAHZD.SEARCH&ppt=hp&ppn=homepage&ssid=bbfvf7qrsw0000001674756091505&qH=53863d4d978d5074\n",
      "Scraping URL =  https://www.flipkart.com/oneplus-nord-ce-2-5g-bahama-blue-128-gb/p/itm2a9883679c57c?pid=MOBGHHZ2CKB5D4WU&lid=LSTMOBGHHZ2CKB5D4WUNWQ8W2&marketplace=FLIPKART&q=Oneplus+Nord&store=tyy%2F4io&srno=s_1_13&otracker=search&otracker1=search&fm=organic&iid=90d53f9b-e01d-4044-bb81-acdc969bbd76.MOBGHHZ2CKB5D4WU.SEARCH&ppt=hp&ppn=homepage&ssid=bbfvf7qrsw0000001674756091505&qH=53863d4d978d5074\n",
      "Scraping URL =  https://www.flipkart.com/oneplus-nord-ce-2-5g-gray-mirror-128-gb/p/itm33d69f9705a3d?pid=MOBGHHZDYQHWEGMX&lid=LSTMOBGHHZDYQHWEGMXYSV9DF&marketplace=FLIPKART&q=Oneplus+Nord&store=tyy%2F4io&srno=s_1_14&otracker=search&otracker1=search&fm=organic&iid=90d53f9b-e01d-4044-bb81-acdc969bbd76.MOBGHHZDYQHWEGMX.SEARCH&ppt=hp&ppn=homepage&ssid=bbfvf7qrsw0000001674756091505&qH=53863d4d978d5074\n",
      "Scraping URL =  https://www.flipkart.com/oneplus-nord-ce-2-lite-5g-blue-tide-128-gb/p/itm7acae55b999e6?pid=MOBGHBNGY5NDH3GV&lid=LSTMOBGHBNGY5NDH3GVBYKQXG&marketplace=FLIPKART&q=Oneplus+Nord&store=tyy%2F4io&srno=s_1_15&otracker=search&otracker1=search&fm=organic&iid=90d53f9b-e01d-4044-bb81-acdc969bbd76.MOBGHBNGY5NDH3GV.SEARCH&ppt=hp&ppn=homepage&ssid=bbfvf7qrsw0000001674756091505&qH=53863d4d978d5074\n",
      "Scraping URL =  https://www.flipkart.com/oneplus-nord-ce-2-5g-gray-mirror-128-gb/p/itmb99beed9d7675?pid=MOBGHBZHYMH3DDG8&lid=LSTMOBGHBZHYMH3DDG8SGT02E&marketplace=FLIPKART&q=Oneplus+Nord&store=tyy%2F4io&srno=s_1_16&otracker=search&otracker1=search&fm=organic&iid=90d53f9b-e01d-4044-bb81-acdc969bbd76.MOBGHBZHYMH3DDG8.SEARCH&ppt=hp&ppn=homepage&ssid=bbfvf7qrsw0000001674756091505&qH=53863d4d978d5074\n",
      "Scraping URL =  https://www.flipkart.com/oneplus-nord-2-5g-pac-man-256-gb/p/itmd16c63dadf5c5?pid=MOBGEYH6EJGAWMFT&lid=LSTMOBGEYH6EJGAWMFTJRQLTC&marketplace=FLIPKART&q=Oneplus+Nord&store=tyy%2F4io&srno=s_1_17&otracker=search&otracker1=search&fm=organic&iid=90d53f9b-e01d-4044-bb81-acdc969bbd76.MOBGEYH6EJGAWMFT.SEARCH&ppt=hp&ppn=homepage&ssid=bbfvf7qrsw0000001674756091505&qH=53863d4d978d5074\n",
      "Scraping URL =  https://www.flipkart.com/oneplus-nord-2t-5g-gray-shadow-128-gb/p/itmeadf76c1e8943?pid=MOBGHBZH2S8MWQGQ&lid=LSTMOBGHBZH2S8MWQGQ8SKJPZ&marketplace=FLIPKART&q=Oneplus+Nord&store=tyy%2F4io&srno=s_1_18&otracker=search&otracker1=search&fm=organic&iid=90d53f9b-e01d-4044-bb81-acdc969bbd76.MOBGHBZH2S8MWQGQ.SEARCH&ppt=hp&ppn=homepage&ssid=bbfvf7qrsw0000001674756091505&qH=53863d4d978d5074\n",
      "Scraping URL =  https://www.flipkart.com/oneplus-nord-2t-5g-jade-fog-256-gb/p/itm717a6813bfcd0?pid=MOBGHBZHF4YCMGZY&lid=LSTMOBGHBZHF4YCMGZYFNFMJN&marketplace=FLIPKART&q=Oneplus+Nord&store=tyy%2F4io&srno=s_1_19&otracker=search&otracker1=search&fm=organic&iid=90d53f9b-e01d-4044-bb81-acdc969bbd76.MOBGHBZHF4YCMGZY.SEARCH&ppt=hp&ppn=homepage&ssid=bbfvf7qrsw0000001674756091505&qH=53863d4d978d5074\n",
      "Scraping URL =  https://www.flipkart.com/oneplus-nord-ce-2-lite-5g-black-dusk-128-gb/p/itmc56272cceee9d?pid=MOBGHBZHQMNV4KKS&lid=LSTMOBGHBZHQMNV4KKSNGZS4J&marketplace=FLIPKART&q=Oneplus+Nord&store=tyy%2F4io&srno=s_1_20&otracker=search&otracker1=search&fm=organic&iid=90d53f9b-e01d-4044-bb81-acdc969bbd76.MOBGHBZHQMNV4KKS.SEARCH&ppt=hp&ppn=homepage&ssid=bbfvf7qrsw0000001674756091505&qH=53863d4d978d5074\n",
      "Scraping URL =  https://www.flipkart.com/oneplus-nord-2t-5g-jade-fog-128-gb/p/itm31ac32e308282?pid=MOBGHBZHFAUYKH3U&lid=LSTMOBGHBZHFAUYKH3URPUV6O&marketplace=FLIPKART&q=Oneplus+Nord&store=tyy%2F4io&srno=s_1_21&otracker=search&otracker1=search&fm=organic&iid=90d53f9b-e01d-4044-bb81-acdc969bbd76.MOBGHBZHFAUYKH3U.SEARCH&ppt=hp&ppn=homepage&ssid=bbfvf7qrsw0000001674756091505&qH=53863d4d978d5074\n",
      "Scraping URL =  https://www.flipkart.com/oneplus-nord-ce-5g-blue-void-128-gb/p/itmd6dcbd8116ed1?pid=MOBGDM4UUD2FDBPH&lid=LSTMOBGDM4UUD2FDBPHAJNBM9&marketplace=FLIPKART&q=Oneplus+Nord&store=tyy%2F4io&spotlightTagId=TrendingId_tyy%2F4io&srno=s_1_22&otracker=search&otracker1=search&fm=organic&iid=90d53f9b-e01d-4044-bb81-acdc969bbd76.MOBGDM4UUD2FDBPH.SEARCH&ppt=hp&ppn=homepage&ssid=bbfvf7qrsw0000001674756091505&qH=53863d4d978d5074\n",
      "Scraping URL =  https://www.flipkart.com/oneplus-nord-ce-2-5g-gray-mirror-128-gb/p/itmb85e13e274fb0?pid=MOBGHBZHWHHGZZRH&lid=LSTMOBGHBZHWHHGZZRHLNTRSO&marketplace=FLIPKART&q=Oneplus+Nord&store=tyy%2F4io&srno=s_1_23&otracker=search&otracker1=search&fm=organic&iid=90d53f9b-e01d-4044-bb81-acdc969bbd76.MOBGHBZHWHHGZZRH.SEARCH&ppt=hp&ppn=homepage&ssid=bbfvf7qrsw0000001674756091505&qH=53863d4d978d5074\n",
      "Scraping URL =  https://www.flipkart.com/oneplus-nord-2-5g-gray-sierra-256-gb/p/itmd16c63dadf5c5?pid=MOBGDBFRAPSY7GFZ&lid=LSTMOBGDBFRAPSY7GFZAR4VAJ&marketplace=FLIPKART&q=Oneplus+Nord&store=tyy%2F4io&srno=s_1_24&otracker=search&otracker1=search&fm=organic&iid=90d53f9b-e01d-4044-bb81-acdc969bbd76.MOBGDBFRAPSY7GFZ.SEARCH&ppt=hp&ppn=homepage&ssid=bbfvf7qrsw0000001674756091505&qH=53863d4d978d5074\n"
     ]
    }
   ],
   "source": [
    "# Scraping data from each url of page 1\n",
    "for url in page1_urls:\n",
    "    driver.get(url)                                                        \n",
    "    print(\"Scraping URL = \", url)\n",
    "    Smartphones['URL'].append(url)                                                          \n",
    "    time.sleep(2)\n",
    "    \n",
    "    \n",
    "    #Clicking on read more button\n",
    "    try:\n",
    "        read_more = driver.find_element(By.XPATH,'//button[@class=\"_2KpZ6l _1FH0tX\"]')     \n",
    "        read_more.click()\n",
    "    except NoSuchElementException:\n",
    "        print(\"Exception occured while moving to next page\")"
   ]
  },
  {
   "cell_type": "code",
   "execution_count": 139,
   "id": "a8b3fcbd",
   "metadata": {},
   "outputs": [],
   "source": [
    "#Scraping brand name of phone data\n",
    "try:\n",
    "        brand_tags = driver.find_element(By.XPATH,'//span[@class=\"B_NuCI\"]')      \n",
    "        Smartphones[\"Brand\"].append(brand_tags.text.split()[0])\n",
    "except NoSuchElementException:\n",
    "        Smartphones['Brand'].append('-')"
   ]
  },
  {
   "cell_type": "code",
   "execution_count": 140,
   "id": "7f264c33",
   "metadata": {},
   "outputs": [],
   "source": [
    "#Scraping phone name data\n",
    "try:\n",
    "        name_tags = driver.find_element(By.XPATH,'//div[@class=\"_3k-BhJ\"][1]/table/tbody/tr[3]/td[2]/ul/li')     \n",
    "        Smartphones['Phone name'].append(name_tags.text)\n",
    "except NoSuchElementException:\n",
    "        Smartphones['Phone name'].append('-')"
   ]
  },
  {
   "cell_type": "code",
   "execution_count": 142,
   "id": "44735f82",
   "metadata": {},
   "outputs": [],
   "source": [
    "#Scraping phone color data\n",
    "try:\n",
    "        color_tags = driver.find_element(By.XPATH,'//div[@class=\"_3k-BhJ\"][1]/table/tbody/tr[4]/td[2]/ul/li')      \n",
    "        Smartphones['Colour'].append(color_tags.text)\n",
    "except NoSuchElementException:\n",
    "        Smartphones['Colour'].append('-')"
   ]
  },
  {
   "cell_type": "code",
   "execution_count": 143,
   "id": "32b64fe3",
   "metadata": {},
   "outputs": [],
   "source": [
    " #Scraping RAM data\n",
    "try:\n",
    "        ram_tags = driver.find_element(By.XPATH,'//div[@class=\"_3k-BhJ\"][4]/table[1]/tbody/tr[2]/td[2]/ul/li')                \n",
    "        Smartphones['RAM'].append(ram_tags.text)\n",
    "except NoSuchElementException:\n",
    "        Smartphones['RAM'].append('-')"
   ]
  },
  {
   "cell_type": "code",
   "execution_count": 144,
   "id": "bd3c22e7",
   "metadata": {},
   "outputs": [],
   "source": [
    "#Scraping ROM data\n",
    "try:\n",
    "        rom_tags = driver.find_element(By.XPATH,'//div[@class=\"_3k-BhJ\"][4]/table[1]/tbody/tr[1]/td[2]/ul/li')        \n",
    "        Smartphones['Storage(ROM)'].append(rom_tags.text)\n",
    "except NoSuchElementException:\n",
    "        Smartphones['Storage(ROM)'].append('-')"
   ]
  },
  {
   "cell_type": "code",
   "execution_count": 145,
   "id": "d87a46d5",
   "metadata": {},
   "outputs": [],
   "source": [
    "#Scraping Primary camera data\n",
    "try:                                                                                    \n",
    "        pri_tags = driver.find_element(By.XPATH,'//div[@class=\"_3k-BhJ\"][5]/table[1]/tbody/tr[2]/td[2]/ul/li')\n",
    "        Smartphones['Primary Camera'].append(pri_tags.text)\n",
    "except NoSuchElementException:\n",
    "        Smartphones['Primary Camera'].append('-')"
   ]
  },
  {
   "cell_type": "code",
   "execution_count": 148,
   "id": "909b453e",
   "metadata": {},
   "outputs": [],
   "source": [
    " #Scraping secondary camera data\n",
    "try:                                                                                    \n",
    "    sec_tags = driver.find_element(By.XPATH,'//div[@class=\"_3k-BhJ\"][5]/table[1]/tbody/tr[6]/td[1]')\n",
    "    if sec_tags != \"Secondary Camera\" : \n",
    "        if driver.find_element(By.XPATH,'//div[@class=\"_3k-BhJ\"][5]/table[1]/tbody/tr[5]/td[1]').text == \"Secondary Camera\":\n",
    "                sec_cam = driver.find_element_by_xpath('//div[@class=\"_3k-BhJ\"][5]/table[1]/tbody/tr[5]/td[2]/ul/li')\n",
    "        else :\n",
    "                raise NoSuchElementException\n",
    "    else :\n",
    "            sec_cam = driver.find_element(By.XPATH,'//div[@class=\"_3k-BhJ\"][5]/table[1]/tbody/tr[6]/td[2]/ul/li')\n",
    "    Smartphones['Secondary Camera'].append(sec_cam.text)\n",
    "except NoSuchElementException:\n",
    "        Smartphones['Secondary Camera'].append('-')"
   ]
  },
  {
   "cell_type": "code",
   "execution_count": 149,
   "id": "7f873c4b",
   "metadata": {},
   "outputs": [],
   "source": [
    "#Scraping Display size data \n",
    "try:\n",
    "        disp_tags = driver.find_element(By.XPATH,'//div[@class=\"_3k-BhJ\"][2]/div')\n",
    "        if disp_tags.text != \"Display Features\" : raise NoSuchElementException\n",
    "        disp_size = driver.find_element(By.XPATH,'//div[@class=\"_3k-BhJ\"][2]/table[1]/tbody/tr[1]/td[2]/ul/li')  \n",
    "        Smartphones['Display Size'].append(disp_size.text)\n",
    "except NoSuchElementException:\n",
    "        Smartphones['Display Size'].append('-')"
   ]
  },
  {
   "cell_type": "code",
   "execution_count": 150,
   "id": "7a1e17b5",
   "metadata": {},
   "outputs": [],
   "source": [
    "#Scraping display resolution data\n",
    "try:\n",
    "        dires_tags = driver.find_element(By.XPATH,'//div[@class=\"_3k-BhJ\"][2]/div')\n",
    "        if dires_tags.text != \"Display Features\" : raise NoSuchElementException\n",
    "        disp_reso = driver.find_element(By.XPATH,'//div[@class=\"_3k-BhJ\"][2]/table[1]/tbody/tr[2]/td[2]/ul/li')    \n",
    "        Smartphones['Display Resolution'].append(disp_reso.text)\n",
    "except NoSuchElementException:\n",
    "        Smartphones['Display Resolution'].append('-')"
   ]
  },
  {
   "cell_type": "code",
   "execution_count": 167,
   "id": "fd2019b0",
   "metadata": {},
   "outputs": [],
   "source": [
    "#Scraping Processor data\n",
    "try:\n",
    "    pro_tags = driver.find_element(By.XPATH,'//div[@class=\"_3k-BhJ\"][3]/table[1]/tbody/tr[2]/td[1]')\n",
    "    if pro_tags.text != \"Processor Type\" : raise NoSuchElementException\n",
    "    processor = driver.find_element(By.XPATH,'//div[@class=\"_3k-BhJ\"][3]/table[1]/tbody/tr[2]/td[2]/ul/li')   \n",
    "    Smartphones['Processor'].append(processor.text)\n",
    "except NoSuchElementException:\n",
    "    Smartphones['Processor'].append('-')"
   ]
  },
  {
   "cell_type": "code",
   "execution_count": 158,
   "id": "8af7a27a",
   "metadata": {},
   "outputs": [],
   "source": [
    "#Scraping Processor core data    \n",
    "try:                                                                                     \n",
    "    core_tags = driver.find_element(By.XPATH,'//div[@class=\"_3k-BhJ\"][3]/table[1]/tbody/tr[3]/td[1]')\n",
    "    if core_tags.text != \"Processor Core\" :\n",
    "        core_tags = driver.find_element(By.XPATH,'//div[@class=\"_3k-BhJ\"][3]/table[1]/tbody/tr[2]/td[1]')\n",
    "        if core_tags.text != \"Processor Core\" : \n",
    "            raise NoSuchElementException\n",
    "        else :\n",
    "                cores = driver.find_element(By.XPATH,'//div[@class=\"_3k-BhJ\"][3]/table[1]/tbody/tr[2]/td[2]/ul/li')\n",
    "    else :\n",
    "        cores = driver.find_element(By.XPATH,'//div[@class=\"_3k-BhJ\"][3]/table[1]/tbody/tr[3]/td[2]/ul/li')\n",
    "    Smartphones['Processor Cores'].append(cores.text)\n",
    "except NoSuchElementException:\n",
    "        Smartphones['Processor Cores'].append('-')"
   ]
  },
  {
   "cell_type": "code",
   "execution_count": 164,
   "id": "b4ff3905",
   "metadata": {},
   "outputs": [],
   "source": [
    "#Scraping battery capacity data\n",
    "try:\n",
    "    if driver.find_element(By.XPATH,'//div[@class=\"_3k-BhJ\"][10]/div').text != \"Battery & Power Features\" :\n",
    "        if driver.find_element(By.XPATH,#Checking lengths of all scraped data\n",
    "print(len(Smartphones[\"Brand\"]), len(Smartphones[\"Phone name\"]), len(Smartphones[\"Colour\"]), len(Smartphones[\"RAM\"]), len(Smartphones[\"Storage(ROM)\"]), len'//div[@class=\"_3k-BhJ\"][9]/div').text == \"Battery & Power Features\" :\n",
    "            bat_tags = driver.find_element(By.XPATH,'//div[@class=\"_3k-BhJ\"][9]/table/tbody/tr/td[1]')\n",
    "            if bat_tags.text != \"Battery Capacity\" : raise NoSuchElementException\n",
    "            bat_capa = driver.find_element(By.XPATH,'//div[@class=\"_3k-BhJ\"][9]/table/tbody/tr/td[2]/ul/li')                \n",
    "        elif driver.find_element(By.XPATH,'//div[@class=\"_3k-BhJ\"][8]/div').text == \"Battery & Power Features\" :\n",
    "            bat_tags = driver.find_element(By.XPATH,'//div[@class=\"_3k-BhJ\"][8]/table/tbody/tr/td[1]')\n",
    "            if bat_tags.text != \"Battery Capacity\" : raise NoSuchElementException\n",
    "            bat_capa = driver.find_element(By.XPATH,'//div[@class=\"_3k-BhJ\"][8]/table/tbody/tr/td[2]/ul/li')\n",
    "        else:\n",
    "            raise NoSuchElementException\n",
    "    else :\n",
    "        bat_tags = driver.find_element(By.XPATH,'//div[@class=\"_3k-BhJ\"][10]/table/tbody/tr/td[1]')\n",
    "        if bat_tags.text != \"Battery Capacity\" : raise NoSuchElementException\n",
    "        bat_capa = driver.find_element(By.XPATH,'//div[@class=\"_3k-BhJ\"][10]/table/tbody/tr/td[2]/ul/li')              \n",
    "    Smartphones['Battery Capacity'].append(bat_capa.text)\n",
    "except NoSuchElementException:\n",
    "    Smartphones['Battery Capacity'].append('-')"
   ]
  },
  {
   "cell_type": "code",
   "execution_count": 166,
   "id": "c982292b",
   "metadata": {},
   "outputs": [],
   "source": [
    "#Scraping Price data\n",
    "try:\n",
    "    price_tags = driver.find_element(By.XPATH,'//div[@class=\"_30jeq3 _16Jk6d\"]')      \n",
    "    Smartphones['Price'].append(price_tags.text)\n",
    "except NoSuchElementException:\n",
    "    Smartphones['Price'].append('-')"
   ]
  },
  {
   "cell_type": "code",
   "execution_count": null,
   "id": "b520df54",
   "metadata": {},
   "outputs": [],
   "source": [
    "Smartphones = {}\n",
    "Smartphones[\"Brand\"] = []\n",
    "Smartphones[\"Phone name\"] = []\n",
    "Smartphones[\"Colour\"] = []\n",
    "Smartphones[\"RAM\"] = []\n",
    "Smartphones[\"Storage(ROM)\"] = []\n",
    "Smartphones[\"Primary Camera\"] = []\n",
    "Smartphones[\"Secondary Camera\"] = []\n",
    "Smartphones[\"Display Size\"] = []\n",
    "Smartphones[\"Display Resolution\"] = []\n",
    "Smartphones[\"Processor\"] = []\n",
    "Smartphones[\"Processor Cores\"] = []\n",
    "Smartphones[\"Battery Capacity\"] = []\n",
    "Smartphones[\"Price\"] = []\n",
    "Smartphones[\"URL\"] = []"
   ]
  },
  {
   "cell_type": "code",
   "execution_count": 175,
   "id": "f8a8f4ba",
   "metadata": {},
   "outputs": [
    {
     "name": "stdout",
     "output_type": "stream",
     "text": [
      "4 4 4 4 4 4 4 1\n"
     ]
    }
   ],
   "source": [
    "#Checking lengths of all scraped data\n",
    "print(len(Smartphones[\"Brand\"]), len(Smartphones[\"Phone name\"]), len(Smartphones[\"Colour\"]), len(Smartphones[\"RAM\"]), len(Smartphones[\"Storage(ROM)\"]),len(Smartphones[\"Primary Camera\"]),len(Smartphones[\"Secondary Camera\"]),len(Smartphones[\"Display Size\"]) )"
   ]
  },
  {
   "cell_type": "code",
   "execution_count": 176,
   "id": "cfe3c90e",
   "metadata": {},
   "outputs": [
    {
     "name": "stdout",
     "output_type": "stream",
     "text": [
      "1 1 1 1\n"
     ]
    }
   ],
   "source": [
    "print(len(Smartphones[\"Display Resolution\"]),len(Smartphones[\"Processor\"]),len(Smartphones[\"Processor Cores\"]),len(Smartphones[\"Battery Capacity\"]))"
   ]
  },
  {
   "cell_type": "markdown",
   "id": "75be7e64",
   "metadata": {},
   "source": [
    "----"
   ]
  },
  {
   "cell_type": "markdown",
   "id": "2297b97f",
   "metadata": {},
   "source": [
    "5. Write a program to scrap geospatial coordinates (latitude, longitude) of a city searched on google\n",
    "maps.\n"
   ]
  },
  {
   "cell_type": "code",
   "execution_count": 188,
   "id": "adfb1d8e",
   "metadata": {},
   "outputs": [
    {
     "name": "stdout",
     "output_type": "stream",
     "text": [
      "Enter City name that has to be searched : Mumbai\n",
      "URL Extracted:  https://www.google.co.in/maps/place/Mumbai,+Maharashtra/@19.0821978,72.7410989,11z/data=!3m1!4b1!4m5!3m4!1s0x3be7c6306644edc1:0x5da4ed8f8d648c69!8m2!3d19.0759837!4d72.8776559\n",
      "Latitude = 19.0821978, Longitude = 72.7410989\n"
     ]
    }
   ],
   "source": [
    "# opening google maps web page\n",
    "url = \"https://www.google.co.in/maps\"\n",
    "driver.get(url)\n",
    "time.sleep(2)\n",
    "\n",
    "#Sending keyword for seach bar and search button\n",
    "city = input('Enter City name that has to be searched : ')\n",
    "search_bar = driver.find_element(By.XPATH,'/html/body/div[3]/div[9]/div[3]/div[1]/div[1]/div[1]/div[2]/form/div[2]/div[3]/div/input[1]')                     \n",
    "search_bar.clear()                                                             \n",
    "time.sleep(2)\n",
    "search_bar.send_keys(city)                                                     \n",
    "search_btn = driver.find_element(By.XPATH,\"/html/body/div[3]/div[9]/div[3]/div[1]/div[1]/div[1]/div[2]/div[1]/button\")              \n",
    "search_btn.click()                                                             \n",
    "time.sleep(3)\n",
    "\n",
    "try:\n",
    "    url_str = driver.current_url\n",
    "    print(\"URL Extracted: \", url_str)\n",
    "    latitude_longitude = re.findall(r'@(.*)data',url_str)\n",
    "    if len(latitude_longitude):\n",
    "        lat_lng_list = latitude_longitude[0].split(\",\")\n",
    "        if len(lat_lng_list)>=2:\n",
    "            latitude = lat_lng_list[0]\n",
    "            longitude = lat_lng_list[1]\n",
    "        print(\"Latitude = {}, Longitude = {}\".format(latitude, longitude))\n",
    "\n",
    "except Exception as e:\n",
    "        print(\"Error: \", str(e))"
   ]
  },
  {
   "cell_type": "markdown",
   "id": "2f5b6c12",
   "metadata": {},
   "source": [
    "----"
   ]
  },
  {
   "cell_type": "markdown",
   "id": "14e4be75",
   "metadata": {},
   "source": [
    "6. Write a program to scrap details of all the funding deals for second quarter (i.e Jan 21 – March 21) \n",
    "from trak.in."
   ]
  },
  {
   "cell_type": "code",
   "execution_count": 53,
   "id": "24232753",
   "metadata": {},
   "outputs": [],
   "source": [
    "#Activating the chrome browser\n",
    "driver.get('https://trak.in/')"
   ]
  },
  {
   "cell_type": "code",
   "execution_count": 50,
   "id": "457b5693",
   "metadata": {},
   "outputs": [],
   "source": [
    "# Entering the details in the search bar\n",
    "search_button = driver.find_element(By.XPATH,'/html/body/header/div[2]/div/div/a[1]')\n",
    "search_button.click()"
   ]
  },
  {
   "cell_type": "code",
   "execution_count": 52,
   "id": "20f48c6e",
   "metadata": {},
   "outputs": [],
   "source": [
    "fund_deals=driver.find_element(By.XPATH,'/html/body/header/div[4]/div/div/div[1]/nav/div[2]/div/ul/li[9]/a')\n",
    "fund_deals.click()"
   ]
  },
  {
   "cell_type": "code",
   "execution_count": null,
   "id": "53e785bc",
   "metadata": {},
   "outputs": [],
   "source": []
  },
  {
   "cell_type": "markdown",
   "id": "8f3e8baa",
   "metadata": {},
   "source": [
    "----"
   ]
  },
  {
   "cell_type": "markdown",
   "id": "6bd613d6",
   "metadata": {},
   "source": [
    "7. Write a program to scrap all the available details of best gaming laptops from digit.in.\n"
   ]
  },
  {
   "cell_type": "code",
   "execution_count": 196,
   "id": "712998b5",
   "metadata": {},
   "outputs": [],
   "source": [
    "#Opening the specified url\n",
    "url = \"https://www.digit.in/\"\n",
    "driver.get(url)\n",
    "time.sleep(3)\n",
    "#searching for best laptop\n",
    "best_gam_lap = driver.find_element(By.XPATH,\"//div[@class='listing_container']//ul//li[9]\").click()\n",
    "time.sleep(4)"
   ]
  },
  {
   "cell_type": "code",
   "execution_count": 197,
   "id": "bee6592d",
   "metadata": {},
   "outputs": [],
   "source": [
    "#Creating empty lists\n",
    "lap_name = []\n",
    "ope_sys = []\n",
    "display = []\n",
    "processor = []\n",
    "memory = []\n",
    "weight = []\n",
    "dimensions = []\n",
    "graph_proc = []\n",
    "price = []"
   ]
  },
  {
   "cell_type": "code",
   "execution_count": 198,
   "id": "33a1108b",
   "metadata": {},
   "outputs": [],
   "source": [
    "# Scraping the data of laptop names\n",
    "name_tags = driver.find_elements(By.XPATH,\"//table[@id='summtable']//tr//td[1]\")\n",
    "for name in name_tags:\n",
    "    lap_name.append(name.text)\n",
    "    \n",
    "    \n",
    "#Scraping the data of operating system\n",
    "try:\n",
    "    os_tags = driver.find_elements(By.XPATH,\"//div[@class='Spcs-details']//tr[3]//td[3]\")\n",
    "    for os in os_tags:\n",
    "        ope_sys.append(os.text)\n",
    "except NoSuchElementException:\n",
    "    pass\n",
    "\n",
    "\n",
    "#Scraping data of display\n",
    "try:\n",
    "    disp_tags = driver.find_elements(By.XPATH,\"//div[@class='Spcs-details']//tr[4]//td[3]\")\n",
    "    for disp in disp_tags:\n",
    "        display.append(disp.text)\n",
    "except NoSuchElementException:\n",
    "    pass\n",
    "\n",
    "\n",
    "#Scraping data of Processor\n",
    "try:\n",
    "    pro_tags = driver.find_elements(By.XPATH,\"//div[@class='Spcs-details']//tr[5]//td[3]\")\n",
    "    for pro in pro_tags:\n",
    "        processor.append(pro.text)\n",
    "except NoSuchElementException:\n",
    "    pass\n",
    "\n",
    "\n",
    "#Scraping data of memory\n",
    "try:\n",
    "    memo_tags = driver.find_elements(By.XPATH,\"//div[@class='Spcs-details']//tr[6]//td[3]\")\n",
    "    for memo in memo_tags:\n",
    "        memory.append(memo.text)\n",
    "except NoSuchElementException:\n",
    "    pass\n",
    "\n",
    "\n",
    "#Scraping data of weight\n",
    "try:\n",
    "    wgt_tags = driver.find_elements(By.XPATH,\"//div[@class='Spcs-details']//tr[7]//td[3]\")\n",
    "    for wgt in wgt_tags:\n",
    "        weight.append(wgt.text)\n",
    "except NoSuchElementException:\n",
    "    pass\n",
    "\n",
    "\n",
    "#Scraping data of dimensions\n",
    "try:\n",
    "    dim_tags = driver.find_elements(By.XPATH,\"//div[@class='Spcs-details']//tr[8]//td[3]\")\n",
    "    for dim in dim_tags:\n",
    "        dimensions.append(dim.text)\n",
    "except NoSuchElementException:\n",
    "    pass\n",
    "\n",
    "\n",
    "#Scraping data of Graph processor\n",
    "try:\n",
    "    gra_tags = driver.find_elements(By.XPATH,\"//div[@class='Spcs-details']//tr[9]//td[3]\")\n",
    "    for gra in gra_tags:\n",
    "        graph_proc.append(gra.text)\n",
    "except NoSuchElementException:\n",
    "    pass\n",
    "\n",
    "\n",
    "#Scraping data of price\n",
    "try:\n",
    "    pri_tags = driver.find_elements(By.XPATH,\"//td[@class='smprice']\")\n",
    "    for pri in pri_tags:\n",
    "        price.append(pri.text.replace('₹','Rs '))\n",
    "except NoSuchElementException:\n",
    "    pass"
   ]
  },
  {
   "cell_type": "code",
   "execution_count": 201,
   "id": "9129399f",
   "metadata": {},
   "outputs": [],
   "source": [
    "#DATA FRAMEING\n",
    "Gaming_Laptop=pd.DataFrame({})\n",
    "Gaming_Laptop['Laptop Name'] = lap_name\n",
    "Gaming_Laptop['Operating system'] = ope_sys\n",
    "Gaming_Laptop['Display'] = display\n",
    "Gaming_Laptop['Processor'] = processor\n",
    "Gaming_Laptop['Memory'] = memory\n",
    "Gaming_Laptop['Weight'] = weight\n",
    "#Gaming_Laptop['Dimensions'] = dimensions\n",
    "#Gaming_Laptop['Graphical Processor'] = graph_proc\n",
    "Gaming_Laptop['Price'] = price"
   ]
  },
  {
   "cell_type": "code",
   "execution_count": 202,
   "id": "deb2777a",
   "metadata": {},
   "outputs": [
    {
     "data": {
      "text/html": [
       "<div>\n",
       "<style scoped>\n",
       "    .dataframe tbody tr th:only-of-type {\n",
       "        vertical-align: middle;\n",
       "    }\n",
       "\n",
       "    .dataframe tbody tr th {\n",
       "        vertical-align: top;\n",
       "    }\n",
       "\n",
       "    .dataframe thead th {\n",
       "        text-align: right;\n",
       "    }\n",
       "</style>\n",
       "<table border=\"1\" class=\"dataframe\">\n",
       "  <thead>\n",
       "    <tr style=\"text-align: right;\">\n",
       "      <th></th>\n",
       "      <th>Laptop Name</th>\n",
       "      <th>Operating system</th>\n",
       "      <th>Display</th>\n",
       "      <th>Processor</th>\n",
       "      <th>Memory</th>\n",
       "      <th>Weight</th>\n",
       "      <th>Price</th>\n",
       "    </tr>\n",
       "  </thead>\n",
       "  <tbody>\n",
       "    <tr>\n",
       "      <th>0</th>\n",
       "      <td>MSI Titan GT77-12UHS</td>\n",
       "      <td>17.3″ (3840 x 2160) screen, 120 Hz refresh rate</td>\n",
       "      <td>Windows 11 Home</td>\n",
       "      <td>64 GB DDR5 RAM &amp; 2 TB SSD</td>\n",
       "      <td>16 GB DDR6 NVIDIA GeForce RTX 3080 Ti Graphics...</td>\n",
       "      <td>397 x 330 x 23 mm dimension &amp; 3.3 kg weight</td>\n",
       "      <td>N/A</td>\n",
       "    </tr>\n",
       "    <tr>\n",
       "      <th>1</th>\n",
       "      <td>Alienware x17 R2</td>\n",
       "      <td>17.3″ (1920 x 1080) screen, 360 Hz refresh rate</td>\n",
       "      <td>Windows 11 Home</td>\n",
       "      <td>32 GB DDR5 RAM &amp; 1 TB SSD</td>\n",
       "      <td>16 GB DDR6 NVIDIA GEFORCE RTX 3080 Ti Graphics...</td>\n",
       "      <td>299 x 359 x 21 mm dimension &amp; 2.96 kg weight</td>\n",
       "      <td>Rs  389,990</td>\n",
       "    </tr>\n",
       "    <tr>\n",
       "      <th>2</th>\n",
       "      <td>Acer Predator Triton 500 SE PT516-52s</td>\n",
       "      <td>16″ (2560 x 1600) screen</td>\n",
       "      <td>Windows 11</td>\n",
       "      <td>32 GB DDR5 RAM &amp; 2 TB SSD</td>\n",
       "      <td>8 GB DDR6 NVIDIA GeForce RTX 3070 Ti Graphics ...</td>\n",
       "      <td>262 x 359 x 20 mm dimension &amp; 2.4 kg weight</td>\n",
       "      <td>Rs  229,990</td>\n",
       "    </tr>\n",
       "    <tr>\n",
       "      <th>3</th>\n",
       "      <td>Omen by HP (16-B1371TX)</td>\n",
       "      <td>16.1″ (2560 x 1440) screen</td>\n",
       "      <td>Windows 11 Home</td>\n",
       "      <td>8 GB DDR5 RAM &amp; 1 TB SSD</td>\n",
       "      <td>8 GB GDDR6 NVIDIA GeForce RTX 3070 Graphics card</td>\n",
       "      <td>369 x 248 x 23 mm dimension &amp; 2.32 kg weight</td>\n",
       "      <td>Rs  176,490</td>\n",
       "    </tr>\n",
       "    <tr>\n",
       "      <th>4</th>\n",
       "      <td>Acer Predator Helios 300 AN515-45</td>\n",
       "      <td>15.6″ (2560 x 1440) screen, 165 Hz refresh rate</td>\n",
       "      <td>Windows 11 Home</td>\n",
       "      <td>16 GB DDR4 RAM &amp; 512 GB SSD</td>\n",
       "      <td>8 GB DDR6 NVIDIA GeForce RTX 3070 Graphics card</td>\n",
       "      <td>363 x 255 x 23.9 mm dimension &amp; 2.4 kg weight</td>\n",
       "      <td>Rs  172,999</td>\n",
       "    </tr>\n",
       "    <tr>\n",
       "      <th>5</th>\n",
       "      <td>MSI Delta 15 (A5EFK-083IN)</td>\n",
       "      <td>15.6″ (1920 x 1080) screen, 240Hz refresh rate</td>\n",
       "      <td>Windows 11 Home</td>\n",
       "      <td>16 GB DDR4 RAM &amp; 1 TB SSD</td>\n",
       "      <td>10 GB DDR6 AMD Radeon RX 6700M Graphics card</td>\n",
       "      <td>357 x 247 x 19 mm dimension &amp; 1.9 kg weight</td>\n",
       "      <td>Rs  188,990</td>\n",
       "    </tr>\n",
       "    <tr>\n",
       "      <th>6</th>\n",
       "      <td>Omen by HP (16-c0141AX)</td>\n",
       "      <td>16.1″ (2560 x 1440) screen</td>\n",
       "      <td>Windows 11 Home</td>\n",
       "      <td>16 GB DDR4 RAM &amp; 1 TB NVMe</td>\n",
       "      <td>8 GB GDDR6 AMD Radeon™ RX 6600M Graphics card</td>\n",
       "      <td>36.92 x 24.8 x 2.3 mm dimension &amp; 2.3 kg weight</td>\n",
       "      <td>Rs  124,990</td>\n",
       "    </tr>\n",
       "    <tr>\n",
       "      <th>7</th>\n",
       "      <td>Lenovo Legion 5i Pro (82RF00MGIN)</td>\n",
       "      <td>16″ (2560 x 1600) screen, 165 Hz refresh rate</td>\n",
       "      <td>Windows 11 Home</td>\n",
       "      <td>16 GB DDR5 RAM &amp; 1 TB SSD</td>\n",
       "      <td>6 GB DDR6 NVIDIA GeForce RTX 3060 Graphics card</td>\n",
       "      <td>360 x 264 x 20 mm dimension &amp; 2.49 kg weight</td>\n",
       "      <td>Rs  167,990</td>\n",
       "    </tr>\n",
       "    <tr>\n",
       "      <th>8</th>\n",
       "      <td>Alienware m15 R5 Ryzen Edition icc-c780001win</td>\n",
       "      <td>15.6″ (1920 x 1080) screen, 165Hz refresh rate</td>\n",
       "      <td>Windows 11 Home</td>\n",
       "      <td>16 GB DDR4 RAM &amp; 512 GB SSD</td>\n",
       "      <td>6 GB DDR6 NVIDIA GeForce RTX 3060 Graphics card</td>\n",
       "      <td>356.2 x 272.5 x 22.85 mm dimension &amp; 2.69 kg w...</td>\n",
       "      <td>Rs  174,000</td>\n",
       "    </tr>\n",
       "    <tr>\n",
       "      <th>9</th>\n",
       "      <td>Lenovo Slim 7 Gen 6 (82K8002JIN)</td>\n",
       "      <td>15.6″ screen, 165 Hz refresh rate</td>\n",
       "      <td>Windows 11 Home</td>\n",
       "      <td>16 GB DDR4 RAM &amp; 1 TB SSD</td>\n",
       "      <td>6 GB DDR6 NVIDIA GeForce 3060 Max-Q Graphics card</td>\n",
       "      <td>356 x 252 x 16 mm dimension &amp; 1.9 kg weight</td>\n",
       "      <td>Rs  131,990</td>\n",
       "    </tr>\n",
       "  </tbody>\n",
       "</table>\n",
       "</div>"
      ],
      "text/plain": [
       "                                     Laptop Name  \\\n",
       "0                           MSI Titan GT77-12UHS   \n",
       "1                               Alienware x17 R2   \n",
       "2          Acer Predator Triton 500 SE PT516-52s   \n",
       "3                        Omen by HP (16-B1371TX)   \n",
       "4              Acer Predator Helios 300 AN515-45   \n",
       "5                     MSI Delta 15 (A5EFK-083IN)   \n",
       "6                        Omen by HP (16-c0141AX)   \n",
       "7              Lenovo Legion 5i Pro (82RF00MGIN)   \n",
       "8  Alienware m15 R5 Ryzen Edition icc-c780001win   \n",
       "9               Lenovo Slim 7 Gen 6 (82K8002JIN)   \n",
       "\n",
       "                                  Operating system          Display  \\\n",
       "0  17.3″ (3840 x 2160) screen, 120 Hz refresh rate  Windows 11 Home   \n",
       "1  17.3″ (1920 x 1080) screen, 360 Hz refresh rate  Windows 11 Home   \n",
       "2                         16″ (2560 x 1600) screen       Windows 11   \n",
       "3                       16.1″ (2560 x 1440) screen  Windows 11 Home   \n",
       "4  15.6″ (2560 x 1440) screen, 165 Hz refresh rate  Windows 11 Home   \n",
       "5   15.6″ (1920 x 1080) screen, 240Hz refresh rate  Windows 11 Home   \n",
       "6                       16.1″ (2560 x 1440) screen  Windows 11 Home   \n",
       "7    16″ (2560 x 1600) screen, 165 Hz refresh rate  Windows 11 Home   \n",
       "8   15.6″ (1920 x 1080) screen, 165Hz refresh rate  Windows 11 Home   \n",
       "9                15.6″ screen, 165 Hz refresh rate  Windows 11 Home   \n",
       "\n",
       "                     Processor  \\\n",
       "0    64 GB DDR5 RAM & 2 TB SSD   \n",
       "1    32 GB DDR5 RAM & 1 TB SSD   \n",
       "2    32 GB DDR5 RAM & 2 TB SSD   \n",
       "3     8 GB DDR5 RAM & 1 TB SSD   \n",
       "4  16 GB DDR4 RAM & 512 GB SSD   \n",
       "5    16 GB DDR4 RAM & 1 TB SSD   \n",
       "6   16 GB DDR4 RAM & 1 TB NVMe   \n",
       "7    16 GB DDR5 RAM & 1 TB SSD   \n",
       "8  16 GB DDR4 RAM & 512 GB SSD   \n",
       "9    16 GB DDR4 RAM & 1 TB SSD   \n",
       "\n",
       "                                              Memory  \\\n",
       "0  16 GB DDR6 NVIDIA GeForce RTX 3080 Ti Graphics...   \n",
       "1  16 GB DDR6 NVIDIA GEFORCE RTX 3080 Ti Graphics...   \n",
       "2  8 GB DDR6 NVIDIA GeForce RTX 3070 Ti Graphics ...   \n",
       "3   8 GB GDDR6 NVIDIA GeForce RTX 3070 Graphics card   \n",
       "4    8 GB DDR6 NVIDIA GeForce RTX 3070 Graphics card   \n",
       "5       10 GB DDR6 AMD Radeon RX 6700M Graphics card   \n",
       "6      8 GB GDDR6 AMD Radeon™ RX 6600M Graphics card   \n",
       "7    6 GB DDR6 NVIDIA GeForce RTX 3060 Graphics card   \n",
       "8    6 GB DDR6 NVIDIA GeForce RTX 3060 Graphics card   \n",
       "9  6 GB DDR6 NVIDIA GeForce 3060 Max-Q Graphics card   \n",
       "\n",
       "                                              Weight        Price  \n",
       "0        397 x 330 x 23 mm dimension & 3.3 kg weight          N/A  \n",
       "1       299 x 359 x 21 mm dimension & 2.96 kg weight  Rs  389,990  \n",
       "2        262 x 359 x 20 mm dimension & 2.4 kg weight  Rs  229,990  \n",
       "3       369 x 248 x 23 mm dimension & 2.32 kg weight  Rs  176,490  \n",
       "4      363 x 255 x 23.9 mm dimension & 2.4 kg weight  Rs  172,999  \n",
       "5        357 x 247 x 19 mm dimension & 1.9 kg weight  Rs  188,990  \n",
       "6    36.92 x 24.8 x 2.3 mm dimension & 2.3 kg weight  Rs  124,990  \n",
       "7       360 x 264 x 20 mm dimension & 2.49 kg weight  Rs  167,990  \n",
       "8  356.2 x 272.5 x 22.85 mm dimension & 2.69 kg w...  Rs  174,000  \n",
       "9        356 x 252 x 16 mm dimension & 1.9 kg weight  Rs  131,990  "
      ]
     },
     "execution_count": 202,
     "metadata": {},
     "output_type": "execute_result"
    }
   ],
   "source": [
    " #Printing data frame\n",
    "Gaming_Laptop"
   ]
  },
  {
   "cell_type": "markdown",
   "id": "476b6093",
   "metadata": {},
   "source": [
    "----"
   ]
  },
  {
   "cell_type": "markdown",
   "id": "27b99186",
   "metadata": {},
   "source": [
    "8. Write a python program to scrape the details for all billionaires from www.forbes.com. Details to be \n",
    "scrapped: “Rank”, “Name”, “Net worth”, “Age”, “Citizenship”, “Source”, “Industry”.\n"
   ]
  },
  {
   "cell_type": "code",
   "execution_count": 152,
   "id": "2640f14f",
   "metadata": {},
   "outputs": [],
   "source": [
    "# getting the specified url\n",
    "url = \"https://www.forbes.com/?sh=41bd46d2254c\"\n",
    "driver.get(url)"
   ]
  },
  {
   "cell_type": "code",
   "execution_count": 153,
   "id": "02af7858",
   "metadata": {},
   "outputs": [],
   "source": [
    "#let's get option button from the page\n",
    "\n",
    "option_button=driver.find_element(By.XPATH,'/html/body/div[1]/header/nav/div[1]/div/div/div')\n",
    "option_button.click()"
   ]
  },
  {
   "cell_type": "code",
   "execution_count": 154,
   "id": "e88abf51",
   "metadata": {},
   "outputs": [],
   "source": [
    "#Billionaire button\n",
    "\n",
    "bills=driver.find_element(By.XPATH,'/html/body/div[1]/header/nav/div[1]/div/div/div[2]/ul/li[1]/div[1]')\n",
    "bills.click()"
   ]
  },
  {
   "cell_type": "code",
   "execution_count": 155,
   "id": "5d59d458",
   "metadata": {},
   "outputs": [],
   "source": [
    "#world billionaires button\n",
    "world_bills=driver.find_element(By.XPATH,'/html/body/div[1]/header/nav/div[1]/div/div/div[2]/ul/li[1]/div[2]/div[3]/ul/li[1]/a')\n",
    "world_bills.click()"
   ]
  },
  {
   "cell_type": "code",
   "execution_count": 156,
   "id": "de3543e9",
   "metadata": {},
   "outputs": [],
   "source": [
    "#Scraping required data from the web page\n",
    "#Creating empty lists\n",
    "Rank = []\n",
    "Person_Name = []\n",
    "total_net_worth = []\n",
    "Age = []\n",
    "citizenship = []\n",
    "Source = []\n",
    "industry = []\n",
    "\n",
    "\n",
    "while(True):\n",
    "    #Scraping the data of rank\n",
    "    rank_tags= driver.find_elements(By.XPATH,\"//div[@class='rank']\")\n",
    "    for rank in rank_tags:\n",
    "        Rank.append(rank.text)\n",
    "    time.sleep(1)\n",
    "    \n",
    "    \n",
    "    #Scraping the data of names\n",
    "    name_tags= driver.find_elements(By.XPATH,\"//div[@class='personName']//div\")\n",
    "    for name in name_tags:\n",
    "        Person_Name.append(name.text)\n",
    "    time.sleep(1)\n",
    "    \n",
    "    \n",
    "    #Scraping data of age\n",
    "    age_tags= driver.find_elements(By.XPATH,\"//div[@class='age']//div\")\n",
    "    for age in age_tags:\n",
    "        Age.append(age.text)   \n",
    "    time.sleep(1)\n",
    "    \n",
    "    \n",
    "    #Scraping data of citizenship\n",
    "    cit_tags= driver.find_elements(By.XPATH,\"//div[@class='countryOfCitizenship']\")\n",
    "    for cit in cit_tags:\n",
    "        citizenship.append(cit.text)\n",
    "    time.sleep(1)\n",
    "    \n",
    "    \n",
    "    #Scraping data of source of income\n",
    "    sour_tags= driver.find_elements(By.XPATH,\"//div[@class='source']\")\n",
    "    for sour in sour_tags:\n",
    "        Source.append(sour.text)    \n",
    "    time.sleep(1)\n",
    "    \n",
    "    \n",
    "    #Scraping data of Industry\n",
    "    ind_tags= driver.find_elements(By.XPATH,\"//div[@class='category']//div\")\n",
    "    for ind in ind_tags:\n",
    "        industry.append(ind.text)\n",
    "        \n",
    "        \n",
    "    #scraping data of net_worth of billionaire \n",
    "    net_tags= driver.find_elements(By.XPATH,\"//div[@class='netWorth']//div[1]\")\n",
    "    for net in net_tags:\n",
    "        total_net_worth.append(net.text)\n",
    "    time.sleep(1)\n",
    "    \n",
    "    \n",
    "    #Clicking on next button\n",
    "    try:\n",
    "        next_button = driver.find_element(By.XPATH,\"//button[@class='pagination-btn pagination-btn--next ']\")\n",
    "        next_button.click()\n",
    "    except:\n",
    "        break\n",
    "        \n",
    "#Scraping data of net worth\n",
    "Net_Worth = []\n",
    "for i in range(0,len(total_net_worth),2):\n",
    "    Net_Worth.append(total_net_worth[i])"
   ]
  },
  {
   "cell_type": "code",
   "execution_count": 157,
   "id": "2435fe86",
   "metadata": {},
   "outputs": [],
   "source": [
    "#Framing data\n",
    "Billionaires=pd.DataFrame({})\n",
    "Billionaires['Rank'] = Rank\n",
    "Billionaires['Names'] = Person_Name\n",
    "Billionaires['Net Worth'] = Net_Worth\n",
    "Billionaires['Age'] = Age\n",
    "Billionaires['Citizenship'] = citizenship\n",
    "Billionaires['Source'] = Source\n",
    "Billionaires['Industry'] = industry"
   ]
  },
  {
   "cell_type": "code",
   "execution_count": 158,
   "id": "03e0a55c",
   "metadata": {},
   "outputs": [
    {
     "data": {
      "text/html": [
       "<div>\n",
       "<style scoped>\n",
       "    .dataframe tbody tr th:only-of-type {\n",
       "        vertical-align: middle;\n",
       "    }\n",
       "\n",
       "    .dataframe tbody tr th {\n",
       "        vertical-align: top;\n",
       "    }\n",
       "\n",
       "    .dataframe thead th {\n",
       "        text-align: right;\n",
       "    }\n",
       "</style>\n",
       "<table border=\"1\" class=\"dataframe\">\n",
       "  <thead>\n",
       "    <tr style=\"text-align: right;\">\n",
       "      <th></th>\n",
       "      <th>Rank</th>\n",
       "      <th>Names</th>\n",
       "      <th>Net Worth</th>\n",
       "      <th>Age</th>\n",
       "      <th>Citizenship</th>\n",
       "      <th>Source</th>\n",
       "      <th>Industry</th>\n",
       "    </tr>\n",
       "  </thead>\n",
       "  <tbody>\n",
       "    <tr>\n",
       "      <th>0</th>\n",
       "      <td>1.</td>\n",
       "      <td>Elon Musk</td>\n",
       "      <td>$219 B</td>\n",
       "      <td></td>\n",
       "      <td>United States</td>\n",
       "      <td>Tesla, SpaceX</td>\n",
       "      <td></td>\n",
       "    </tr>\n",
       "    <tr>\n",
       "      <th>1</th>\n",
       "      <td>2.</td>\n",
       "      <td>Jeff Bezos</td>\n",
       "      <td>$171 B</td>\n",
       "      <td></td>\n",
       "      <td>United States</td>\n",
       "      <td>Amazon</td>\n",
       "      <td></td>\n",
       "    </tr>\n",
       "    <tr>\n",
       "      <th>2</th>\n",
       "      <td>3.</td>\n",
       "      <td>Bernard Arnault &amp; family</td>\n",
       "      <td>$158 B</td>\n",
       "      <td></td>\n",
       "      <td>France</td>\n",
       "      <td>LVMH</td>\n",
       "      <td></td>\n",
       "    </tr>\n",
       "    <tr>\n",
       "      <th>3</th>\n",
       "      <td>4.</td>\n",
       "      <td>Bill Gates</td>\n",
       "      <td>$129 B</td>\n",
       "      <td></td>\n",
       "      <td>United States</td>\n",
       "      <td>Microsoft</td>\n",
       "      <td></td>\n",
       "    </tr>\n",
       "    <tr>\n",
       "      <th>4</th>\n",
       "      <td>5.</td>\n",
       "      <td>Warren Buffett</td>\n",
       "      <td>$118 B</td>\n",
       "      <td></td>\n",
       "      <td>United States</td>\n",
       "      <td>Berkshire Hathaway</td>\n",
       "      <td></td>\n",
       "    </tr>\n",
       "    <tr>\n",
       "      <th>...</th>\n",
       "      <td>...</td>\n",
       "      <td>...</td>\n",
       "      <td>...</td>\n",
       "      <td>...</td>\n",
       "      <td>...</td>\n",
       "      <td>...</td>\n",
       "      <td>...</td>\n",
       "    </tr>\n",
       "    <tr>\n",
       "      <th>195</th>\n",
       "      <td>192.</td>\n",
       "      <td>Marcel Herrmann Telles</td>\n",
       "      <td>$10.3 B</td>\n",
       "      <td></td>\n",
       "      <td>Brazil</td>\n",
       "      <td>beer</td>\n",
       "      <td></td>\n",
       "    </tr>\n",
       "    <tr>\n",
       "      <th>196</th>\n",
       "      <td>197.</td>\n",
       "      <td>Leon Black</td>\n",
       "      <td>$10 B</td>\n",
       "      <td></td>\n",
       "      <td>United States</td>\n",
       "      <td>private equity</td>\n",
       "      <td></td>\n",
       "    </tr>\n",
       "    <tr>\n",
       "      <th>197</th>\n",
       "      <td>197.</td>\n",
       "      <td>Joe Gebbia</td>\n",
       "      <td>$10 B</td>\n",
       "      <td></td>\n",
       "      <td>United States</td>\n",
       "      <td>Airbnb</td>\n",
       "      <td></td>\n",
       "    </tr>\n",
       "    <tr>\n",
       "      <th>198</th>\n",
       "      <td>197.</td>\n",
       "      <td>David Geffen</td>\n",
       "      <td>$10 B</td>\n",
       "      <td></td>\n",
       "      <td>United States</td>\n",
       "      <td>movies, record labels</td>\n",
       "      <td></td>\n",
       "    </tr>\n",
       "    <tr>\n",
       "      <th>199</th>\n",
       "      <td>197.</td>\n",
       "      <td>Yu Renrong</td>\n",
       "      <td>$10 B</td>\n",
       "      <td></td>\n",
       "      <td>China</td>\n",
       "      <td>semiconductors</td>\n",
       "      <td></td>\n",
       "    </tr>\n",
       "  </tbody>\n",
       "</table>\n",
       "<p>200 rows × 7 columns</p>\n",
       "</div>"
      ],
      "text/plain": [
       "     Rank                     Names Net Worth Age    Citizenship  \\\n",
       "0      1.                 Elon Musk    $219 B      United States   \n",
       "1      2.                Jeff Bezos    $171 B      United States   \n",
       "2      3.  Bernard Arnault & family    $158 B             France   \n",
       "3      4.                Bill Gates    $129 B      United States   \n",
       "4      5.            Warren Buffett    $118 B      United States   \n",
       "..    ...                       ...       ...  ..            ...   \n",
       "195  192.    Marcel Herrmann Telles   $10.3 B             Brazil   \n",
       "196  197.                Leon Black     $10 B      United States   \n",
       "197  197.                Joe Gebbia     $10 B      United States   \n",
       "198  197.              David Geffen     $10 B      United States   \n",
       "199  197.                Yu Renrong     $10 B              China   \n",
       "\n",
       "                    Source Industry  \n",
       "0            Tesla, SpaceX           \n",
       "1                   Amazon           \n",
       "2                     LVMH           \n",
       "3                Microsoft           \n",
       "4       Berkshire Hathaway           \n",
       "..                     ...      ...  \n",
       "195                   beer           \n",
       "196         private equity           \n",
       "197                 Airbnb           \n",
       "198  movies, record labels           \n",
       "199         semiconductors           \n",
       "\n",
       "[200 rows x 7 columns]"
      ]
     },
     "execution_count": 158,
     "metadata": {},
     "output_type": "execute_result"
    }
   ],
   "source": [
    "#Printing dataframe\n",
    "Billionaires"
   ]
  },
  {
   "cell_type": "code",
   "execution_count": 159,
   "id": "71ee68d0",
   "metadata": {},
   "outputs": [],
   "source": [
    "#Saving dataset to csv\n",
    "Billionaires.to_csv(\"Billionaries.csv\")"
   ]
  },
  {
   "cell_type": "markdown",
   "id": "3ae2fb79",
   "metadata": {},
   "source": [
    "----"
   ]
  },
  {
   "cell_type": "markdown",
   "id": "b95266a9",
   "metadata": {},
   "source": [
    "9. Write a program to extract at least 500 Comments, Comment upvote and time when comment was posted \n",
    "from any YouTube Video."
   ]
  },
  {
   "cell_type": "code",
   "execution_count": 102,
   "id": "4c56c226",
   "metadata": {},
   "outputs": [],
   "source": [
    "# Opening youtube\n",
    "url = \"https://www.youtube.com/\"\n",
    "driver.get(url)\n",
    "time.sleep(2)"
   ]
  },
  {
   "cell_type": "code",
   "execution_count": 103,
   "id": "963622e3",
   "metadata": {},
   "outputs": [],
   "source": [
    "#finding element for search bar\n",
    "search_bar = driver.find_element(By.XPATH,'/html/body/ytd-app/div[1]/div/ytd-masthead/div[3]/div[2]/ytd-searchbox/form/div[1]/div[1]/input')\n",
    "search_bar.send_keys(\"GOT\")  #entering Video name\n",
    "time.sleep(1)"
   ]
  },
  {
   "cell_type": "code",
   "execution_count": 104,
   "id": "a17a8dd7",
   "metadata": {},
   "outputs": [],
   "source": [
    "#clicking on search button\n",
    "search_btn = driver.find_element(By.XPATH,\"/html/body/ytd-app/div[1]/div/ytd-masthead/div[3]/div[2]/ytd-searchbox/button/yt-icon\")  \n",
    "search_btn.click()\n",
    "time.sleep(1)"
   ]
  },
  {
   "cell_type": "code",
   "execution_count": 105,
   "id": "74876f15",
   "metadata": {},
   "outputs": [],
   "source": [
    "#clicking on first video\n",
    "link_click = driver.find_element(By.XPATH,\"//yt-formatted-string[@class ='style-scope ytd-video-renderer']\")\n",
    "link_click.click()"
   ]
  },
  {
   "cell_type": "code",
   "execution_count": 106,
   "id": "2379605d",
   "metadata": {},
   "outputs": [],
   "source": [
    "# 1000 time we scroll down to generate more Comments\n",
    "for _ in range(1000):\n",
    "    driver.execute_script(\"window.scrollBy(0,10000)\")"
   ]
  },
  {
   "cell_type": "code",
   "execution_count": 107,
   "id": "86c3f5a6",
   "metadata": {},
   "outputs": [],
   "source": [
    "#make empty lists\n",
    "comments = []\n",
    "comment_time = []\n",
    "Time = []\n",
    "Likes = []\n",
    "No_of_Likes = []"
   ]
  },
  {
   "cell_type": "code",
   "execution_count": 108,
   "id": "8de814e6",
   "metadata": {},
   "outputs": [],
   "source": [
    "#scraping the data of comments\n",
    "cm_tags = driver.find_elements(By.ID,\"content-text\")\n",
    "for cm in cm_tags:\n",
    "    if cm.text is None:\n",
    "        comments.append(\"--\")\n",
    "    else:\n",
    "        comments.append(cm.text)\n",
    "time.sleep(5)"
   ]
  },
  {
   "cell_type": "code",
   "execution_count": 109,
   "id": "a1cd57e5",
   "metadata": {},
   "outputs": [],
   "source": [
    "# scraping the data of time when comment was posted\n",
    "tm_tags = driver.find_elements(By.XPATH,\"//a[contains(text(),'ago')]\")\n",
    "for tm in tm_tags:\n",
    "    Time.append(tm.text)\n",
    "\n",
    "for i in range(0,len(Time),2):\n",
    "    comment_time.append(Time[i])\n",
    "time.sleep(5)"
   ]
  },
  {
   "cell_type": "code",
   "execution_count": 112,
   "id": "bea61b5d",
   "metadata": {},
   "outputs": [],
   "source": [
    "# scraping the data of comment likes\n",
    "like_tags = driver.find_elements(By.XPATH,\"//span[@class='style-scope ytd-comment-action-buttons-renderer']\")\n",
    "for like in like_tags:\n",
    "    Likes.append(like.text)\n",
    "    \n",
    "for i in range(1,len(Likes),2):\n",
    "    No_of_Likes.append(Likes[i])"
   ]
  },
  {
   "cell_type": "code",
   "execution_count": 118,
   "id": "6b05aa6c",
   "metadata": {},
   "outputs": [
    {
     "data": {
      "text/html": [
       "<div>\n",
       "<style scoped>\n",
       "    .dataframe tbody tr th:only-of-type {\n",
       "        vertical-align: middle;\n",
       "    }\n",
       "\n",
       "    .dataframe tbody tr th {\n",
       "        vertical-align: top;\n",
       "    }\n",
       "\n",
       "    .dataframe thead th {\n",
       "        text-align: right;\n",
       "    }\n",
       "</style>\n",
       "<table border=\"1\" class=\"dataframe\">\n",
       "  <thead>\n",
       "    <tr style=\"text-align: right;\">\n",
       "      <th></th>\n",
       "      <th>Comments</th>\n",
       "      <th>Comment_time</th>\n",
       "      <th>No of likes</th>\n",
       "    </tr>\n",
       "  </thead>\n",
       "  <tbody>\n",
       "    <tr>\n",
       "      <th>0</th>\n",
       "      <td>Red Velvet,Aespa,Girls Generation y BoA en un ...</td>\n",
       "      <td>11 days ago</td>\n",
       "      <td>1K</td>\n",
       "    </tr>\n",
       "    <tr>\n",
       "      <th>1</th>\n",
       "      <td>Don’t be shy sm! Give the girls more promotion...</td>\n",
       "      <td>21 hours ago</td>\n",
       "      <td>52</td>\n",
       "    </tr>\n",
       "    <tr>\n",
       "      <th>2</th>\n",
       "      <td>This comeback is way better than most recent g...</td>\n",
       "      <td>12 hours ago (edited)</td>\n",
       "      <td>117</td>\n",
       "    </tr>\n",
       "    <tr>\n",
       "      <th>3</th>\n",
       "      <td>Bom de mais</td>\n",
       "      <td>9 days ago</td>\n",
       "      <td>8</td>\n",
       "    </tr>\n",
       "    <tr>\n",
       "      <th>4</th>\n",
       "      <td>Мне нравится всё в этом клипе и в этом треке. ...</td>\n",
       "      <td>5 days ago</td>\n",
       "      <td>18</td>\n",
       "    </tr>\n",
       "    <tr>\n",
       "      <th>...</th>\n",
       "      <td>...</td>\n",
       "      <td>...</td>\n",
       "      <td>...</td>\n",
       "    </tr>\n",
       "    <tr>\n",
       "      <th>495</th>\n",
       "      <td>hyoyeon!!!</td>\n",
       "      <td>1 day ago</td>\n",
       "      <td>3</td>\n",
       "    </tr>\n",
       "    <tr>\n",
       "      <th>496</th>\n",
       "      <td>Tarian mereka cantik dan terkoordinasi dengan ...</td>\n",
       "      <td>6 hours ago</td>\n",
       "      <td>315</td>\n",
       "    </tr>\n",
       "    <tr>\n",
       "      <th>497</th>\n",
       "      <td>This song sounds long, I love the beginning</td>\n",
       "      <td>11 days ago</td>\n",
       "      <td></td>\n",
       "    </tr>\n",
       "    <tr>\n",
       "      <th>498</th>\n",
       "      <td>They need to promote more actually</td>\n",
       "      <td>3 days ago</td>\n",
       "      <td>1</td>\n",
       "    </tr>\n",
       "    <tr>\n",
       "      <th>499</th>\n",
       "      <td>Gives me the vibes of \"Next Level &amp; Savage by ...</td>\n",
       "      <td>2 days ago</td>\n",
       "      <td>2</td>\n",
       "    </tr>\n",
       "  </tbody>\n",
       "</table>\n",
       "<p>500 rows × 3 columns</p>\n",
       "</div>"
      ],
      "text/plain": [
       "                                              Comments           Comment_time  \\\n",
       "0    Red Velvet,Aespa,Girls Generation y BoA en un ...            11 days ago   \n",
       "1    Don’t be shy sm! Give the girls more promotion...           21 hours ago   \n",
       "2    This comeback is way better than most recent g...  12 hours ago (edited)   \n",
       "3                                          Bom de mais             9 days ago   \n",
       "4    Мне нравится всё в этом клипе и в этом треке. ...             5 days ago   \n",
       "..                                                 ...                    ...   \n",
       "495                                         hyoyeon!!!              1 day ago   \n",
       "496  Tarian mereka cantik dan terkoordinasi dengan ...            6 hours ago   \n",
       "497       This song sounds long, I love the beginning             11 days ago   \n",
       "498                 They need to promote more actually             3 days ago   \n",
       "499  Gives me the vibes of \"Next Level & Savage by ...             2 days ago   \n",
       "\n",
       "    No of likes  \n",
       "0            1K  \n",
       "1            52  \n",
       "2           117  \n",
       "3             8  \n",
       "4            18  \n",
       "..          ...  \n",
       "495           3  \n",
       "496         315  \n",
       "497              \n",
       "498           1  \n",
       "499           2  \n",
       "\n",
       "[500 rows x 3 columns]"
      ]
     },
     "execution_count": 118,
     "metadata": {},
     "output_type": "execute_result"
    }
   ],
   "source": [
    "#Creating dataframe\n",
    "Youtube=pd.DataFrame({})\n",
    "Youtube['Comments'] = comments[:500]\n",
    "Youtube['Comment_time'] = comment_time[:500]\n",
    "Youtube['No of likes'] = No_of_Likes[:500]\n",
    "Youtube"
   ]
  },
  {
   "cell_type": "markdown",
   "id": "6656b829",
   "metadata": {},
   "source": [
    "---"
   ]
  },
  {
   "cell_type": "markdown",
   "id": "a65f5545",
   "metadata": {},
   "source": [
    "10. Write a python program to scrape a data for all available Hostels from https://www.hostelworld.com/ in \n",
    "“London” location. You have to scrape hostel name, distance from city centre, ratings, total reviews, \n",
    "overall reviews, privates from price, dorms from price, facilities and property description."
   ]
  },
  {
   "cell_type": "code",
   "execution_count": 6,
   "id": "f1411106",
   "metadata": {},
   "outputs": [],
   "source": [
    "#get the web page with given url\n",
    "url = \"https://www.hostelworld.com/\"\n",
    "driver.get(url)"
   ]
  },
  {
   "cell_type": "code",
   "execution_count": 9,
   "id": "481fbb2d",
   "metadata": {},
   "outputs": [],
   "source": [
    "#locating the location search bar\n",
    "search_loc = driver.find_element(By.XPATH,'/html/body/div[3]/div/div/div[2]/div[2]/div/div/div[4]/div/div[2]/div/div[1]/div/div/div/input')\n",
    "# write London in search bar\n",
    "search_loc.send_keys(\"London\")\n",
    "\n",
    "# select London\n",
    "London = driver.find_element(By.XPATH,\"/html/body/div[3]/div/div/div[2]/div[2]/div/div/div[4]/div/div[2]/div/div[1]/div/div/ul/li[2]/div\")\n",
    "#clicking on button\n",
    "London.click()\n",
    "\n",
    "# do click on search button\n",
    "search_btn = driver.find_element(By.ID,'search-button')\n",
    "search_btn.click()"
   ]
  },
  {
   "cell_type": "code",
   "execution_count": 10,
   "id": "67206609",
   "metadata": {},
   "outputs": [
    {
     "name": "stdout",
     "output_type": "stream",
     "text": [
      "scrolled done 0\n",
      "scrolled done 1\n",
      "scrolled done 2\n",
      "scrolled done 3\n"
     ]
    }
   ],
   "source": [
    "# scrape data for distance,links and price\n",
    "\n",
    "distances=[]\n",
    "\n",
    "links=[]\n",
    "\n",
    "price=[]\n",
    "\n",
    "for X in range(0,4):\n",
    "\n",
    "    # scroll page\n",
    "\n",
    "    x=0\n",
    "\n",
    "    while x<16:\n",
    "\n",
    "        driver.execute_script(\"window.scrollBy(0,500)\")\n",
    "\n",
    "        time.sleep(1)\n",
    "\n",
    "        x=x+1\n",
    "\n",
    "    print(\"scrolled done\",X)"
   ]
  },
  {
   "cell_type": "code",
   "execution_count": 11,
   "id": "4f31c4fc",
   "metadata": {},
   "outputs": [],
   "source": [
    "try:\n",
    "\n",
    "        distance=driver.find_elements(By.XPATH,'//div[@class=\"subtitle body-3\"]/a/span[1]')\n",
    "\n",
    "        for i in distance:\n",
    "\n",
    "            distances.append(i.text)\n",
    "\n",
    "except NoSuchElementException:\n",
    "\n",
    "        distances.append('-')\n"
   ]
  },
  {
   "cell_type": "code",
   "execution_count": 13,
   "id": "6b26418a",
   "metadata": {},
   "outputs": [],
   "source": [
    " try:\n",
    "\n",
    "        link=driver.find_elements(By.XPATH,'//div[@class=\"property\"]/div/h2/a')\n",
    "\n",
    "        for i in link:\n",
    "\n",
    "            links.append(i.get_attribute('href'))\n",
    "\n",
    "except NoSuchElementException:\n",
    "\n",
    "        links.append('-')"
   ]
  },
  {
   "cell_type": "code",
   "execution_count": 23,
   "id": "e9e93e3d",
   "metadata": {},
   "outputs": [],
   "source": [
    "   try:\n",
    "\n",
    "        for p_form in driver.find_elements(By.XPATH,\"(//div[@class='price-col'])\"):\n",
    "\n",
    "            price.append(p_form.text)\n",
    "\n",
    "except NoSuchElementException:\n",
    "\n",
    "        price.append('No')"
   ]
  },
  {
   "cell_type": "code",
   "execution_count": 29,
   "id": "415441fd",
   "metadata": {},
   "outputs": [],
   "source": [
    "#the price of private and dorms in single list this code is by forget it \n",
    "\n",
    "privatesform=[]\n",
    "\n",
    "dormsform=[]\n",
    "\n",
    "for private in range(0,len(price),2):\n",
    "\n",
    "    privatesform.append(price[private])\n",
    "\n",
    "for dorms in range(1,len(price),2):\n",
    "\n",
    "    dormsform.append(price[dorms])"
   ]
  },
  {
   "cell_type": "code",
   "execution_count": 33,
   "id": "4d038635",
   "metadata": {},
   "outputs": [
    {
     "name": "stdout",
     "output_type": "stream",
     "text": [
      "Part one completed\n"
     ]
    }
   ],
   "source": [
    "# remove unwanted details from price lists     \n",
    "\n",
    "pvr=[]\n",
    "\n",
    "dvr=[]\n",
    "\n",
    "for i in privatesform:\n",
    "\n",
    "    if i=='No Privates Available':\n",
    "\n",
    "        pvr.append(i)\n",
    "\n",
    "    else:\n",
    "\n",
    "        pvr.append(i[-7:].strip(' ').strip('\\n'))\n",
    "\n",
    "    \n",
    "\n",
    "for i in dormsform:\n",
    "\n",
    "    if i=='No Dorms Available':\n",
    "\n",
    "        dvr.append(i)\n",
    "\n",
    "    else:\n",
    "\n",
    "        dvr.append(i[-7:].strip(' ').strip('\\n').strip('m\\n'))\n",
    "\n",
    "        \n",
    "print('Part one completed')"
   ]
  },
  {
   "cell_type": "code",
   "execution_count": 50,
   "id": "4bb87224",
   "metadata": {},
   "outputs": [
    {
     "ename": "WebDriverException",
     "evalue": "Message: disconnected: Unable to receive message from renderer\n  (failed to check if window was closed: disconnected: Unable to receive message from renderer)\n  (Session info: chrome=109.0.5414.75)\nStacktrace:\nBacktrace:\n\t(No symbol) [0x00776643]\n\t(No symbol) [0x0070BE21]\n\t(No symbol) [0x0060DA9D]\n\t(No symbol) [0x005FF49A]\n\t(No symbol) [0x005FF2D8]\n\t(No symbol) [0x005FEAA6]\n\t(No symbol) [0x00614517]\n\t(No symbol) [0x00677057]\n\t(No symbol) [0x0065FB76]\n\t(No symbol) [0x006349C1]\n\t(No symbol) [0x00635E5D]\n\tGetHandleVerifier [0x009EA142+2497106]\n\tGetHandleVerifier [0x00A185D3+2686691]\n\tGetHandleVerifier [0x00A1BB9C+2700460]\n\tGetHandleVerifier [0x00823B10+635936]\n\t(No symbol) [0x00714A1F]\n\t(No symbol) [0x0071A418]\n\t(No symbol) [0x0071A505]\n\t(No symbol) [0x0072508B]\n\tBaseThreadInitThunk [0x770B6BD9+25]\n\tRtlGetFullPathName_UEx [0x77A68FD2+1218]\n\tRtlGetFullPathName_UEx [0x77A68F9D+1165]\n",
     "output_type": "error",
     "traceback": [
      "\u001b[1;31m---------------------------------------------------------------------------\u001b[0m",
      "\u001b[1;31mWebDriverException\u001b[0m                        Traceback (most recent call last)",
      "Input \u001b[1;32mIn [50]\u001b[0m, in \u001b[0;36m<cell line: 13>\u001b[1;34m()\u001b[0m\n\u001b[0;32m     13\u001b[0m \u001b[38;5;28;01mfor\u001b[39;00m x \u001b[38;5;129;01min\u001b[39;00m links:\n\u001b[0;32m     15\u001b[0m     \u001b[38;5;28;01mtry\u001b[39;00m:\n\u001b[1;32m---> 17\u001b[0m         \u001b[43mdriver\u001b[49m\u001b[38;5;241;43m.\u001b[39;49m\u001b[43mget\u001b[49m\u001b[43m(\u001b[49m\u001b[43mx\u001b[49m\u001b[43m)\u001b[49m\n\u001b[0;32m     19\u001b[0m         time\u001b[38;5;241m.\u001b[39msleep(\u001b[38;5;241m3\u001b[39m)\n\u001b[0;32m     23\u001b[0m         x\u001b[38;5;241m=\u001b[39m\u001b[38;5;241m0\u001b[39m\n",
      "File \u001b[1;32m~\\anaconda3\\lib\\site-packages\\selenium\\webdriver\\remote\\webdriver.py:455\u001b[0m, in \u001b[0;36mWebDriver.get\u001b[1;34m(self, url)\u001b[0m\n\u001b[0;32m    451\u001b[0m \u001b[38;5;28;01mdef\u001b[39;00m \u001b[38;5;21mget\u001b[39m(\u001b[38;5;28mself\u001b[39m, url: \u001b[38;5;28mstr\u001b[39m) \u001b[38;5;241m-\u001b[39m\u001b[38;5;241m>\u001b[39m \u001b[38;5;28;01mNone\u001b[39;00m:\n\u001b[0;32m    452\u001b[0m     \u001b[38;5;124;03m\"\"\"\u001b[39;00m\n\u001b[0;32m    453\u001b[0m \u001b[38;5;124;03m    Loads a web page in the current browser session.\u001b[39;00m\n\u001b[0;32m    454\u001b[0m \u001b[38;5;124;03m    \"\"\"\u001b[39;00m\n\u001b[1;32m--> 455\u001b[0m     \u001b[38;5;28;43mself\u001b[39;49m\u001b[38;5;241;43m.\u001b[39;49m\u001b[43mexecute\u001b[49m\u001b[43m(\u001b[49m\u001b[43mCommand\u001b[49m\u001b[38;5;241;43m.\u001b[39;49m\u001b[43mGET\u001b[49m\u001b[43m,\u001b[49m\u001b[43m \u001b[49m\u001b[43m{\u001b[49m\u001b[38;5;124;43m\"\u001b[39;49m\u001b[38;5;124;43murl\u001b[39;49m\u001b[38;5;124;43m\"\u001b[39;49m\u001b[43m:\u001b[49m\u001b[43m \u001b[49m\u001b[43murl\u001b[49m\u001b[43m}\u001b[49m\u001b[43m)\u001b[49m\n",
      "File \u001b[1;32m~\\anaconda3\\lib\\site-packages\\selenium\\webdriver\\remote\\webdriver.py:444\u001b[0m, in \u001b[0;36mWebDriver.execute\u001b[1;34m(self, driver_command, params)\u001b[0m\n\u001b[0;32m    442\u001b[0m response \u001b[38;5;241m=\u001b[39m \u001b[38;5;28mself\u001b[39m\u001b[38;5;241m.\u001b[39mcommand_executor\u001b[38;5;241m.\u001b[39mexecute(driver_command, params)\n\u001b[0;32m    443\u001b[0m \u001b[38;5;28;01mif\u001b[39;00m response:\n\u001b[1;32m--> 444\u001b[0m     \u001b[38;5;28;43mself\u001b[39;49m\u001b[38;5;241;43m.\u001b[39;49m\u001b[43merror_handler\u001b[49m\u001b[38;5;241;43m.\u001b[39;49m\u001b[43mcheck_response\u001b[49m\u001b[43m(\u001b[49m\u001b[43mresponse\u001b[49m\u001b[43m)\u001b[49m\n\u001b[0;32m    445\u001b[0m     response[\u001b[38;5;124m\"\u001b[39m\u001b[38;5;124mvalue\u001b[39m\u001b[38;5;124m\"\u001b[39m] \u001b[38;5;241m=\u001b[39m \u001b[38;5;28mself\u001b[39m\u001b[38;5;241m.\u001b[39m_unwrap_value(response\u001b[38;5;241m.\u001b[39mget(\u001b[38;5;124m\"\u001b[39m\u001b[38;5;124mvalue\u001b[39m\u001b[38;5;124m\"\u001b[39m, \u001b[38;5;28;01mNone\u001b[39;00m))\n\u001b[0;32m    446\u001b[0m     \u001b[38;5;28;01mreturn\u001b[39;00m response\n",
      "File \u001b[1;32m~\\anaconda3\\lib\\site-packages\\selenium\\webdriver\\remote\\errorhandler.py:249\u001b[0m, in \u001b[0;36mErrorHandler.check_response\u001b[1;34m(self, response)\u001b[0m\n\u001b[0;32m    247\u001b[0m         alert_text \u001b[38;5;241m=\u001b[39m value[\u001b[38;5;124m\"\u001b[39m\u001b[38;5;124malert\u001b[39m\u001b[38;5;124m\"\u001b[39m]\u001b[38;5;241m.\u001b[39mget(\u001b[38;5;124m\"\u001b[39m\u001b[38;5;124mtext\u001b[39m\u001b[38;5;124m\"\u001b[39m)\n\u001b[0;32m    248\u001b[0m     \u001b[38;5;28;01mraise\u001b[39;00m exception_class(message, screen, stacktrace, alert_text)  \u001b[38;5;66;03m# type: ignore[call-arg]  # mypy is not smart enough here\u001b[39;00m\n\u001b[1;32m--> 249\u001b[0m \u001b[38;5;28;01mraise\u001b[39;00m exception_class(message, screen, stacktrace)\n",
      "\u001b[1;31mWebDriverException\u001b[0m: Message: disconnected: Unable to receive message from renderer\n  (failed to check if window was closed: disconnected: Unable to receive message from renderer)\n  (Session info: chrome=109.0.5414.75)\nStacktrace:\nBacktrace:\n\t(No symbol) [0x00776643]\n\t(No symbol) [0x0070BE21]\n\t(No symbol) [0x0060DA9D]\n\t(No symbol) [0x005FF49A]\n\t(No symbol) [0x005FF2D8]\n\t(No symbol) [0x005FEAA6]\n\t(No symbol) [0x00614517]\n\t(No symbol) [0x00677057]\n\t(No symbol) [0x0065FB76]\n\t(No symbol) [0x006349C1]\n\t(No symbol) [0x00635E5D]\n\tGetHandleVerifier [0x009EA142+2497106]\n\tGetHandleVerifier [0x00A185D3+2686691]\n\tGetHandleVerifier [0x00A1BB9C+2700460]\n\tGetHandleVerifier [0x00823B10+635936]\n\t(No symbol) [0x00714A1F]\n\t(No symbol) [0x0071A418]\n\t(No symbol) [0x0071A505]\n\t(No symbol) [0x0072508B]\n\tBaseThreadInitThunk [0x770B6BD9+25]\n\tRtlGetFullPathName_UEx [0x77A68FD2+1218]\n\tRtlGetFullPathName_UEx [0x77A68F9D+1165]\n"
     ]
    }
   ],
   "source": [
    "#scrape data for  property_descriptions,names,ratings,total_reviews,overall_reviews\n",
    "\n",
    "property_descriptions=[]\n",
    "\n",
    "names=[]\n",
    "\n",
    "ratings=[]\n",
    "\n",
    "total_reviews=[]\n",
    "\n",
    "overall_reviews=[]\n",
    "\n",
    "for x in links:\n",
    "\n",
    "    try:\n",
    "\n",
    "        driver.get(x)\n",
    "\n",
    "        time.sleep(3)\n",
    "\n",
    "        \n",
    "\n",
    "        x=0\n",
    "\n",
    "        while x<10:\n",
    "            driver.execute_script(\"window.scrollBy(0,250)\")\n",
    "\n",
    "            time.sleep(1)\n",
    "\n",
    "            x=x+1\n",
    "\n",
    "    \n",
    "\n",
    "        try:\n",
    "\n",
    "            property_description=driver.find_element(By.XPATH,'//div[@class=\"description-container\"]/div/div[2]')\n",
    "\n",
    "            property_descriptions.append(property_description.text)\n",
    "\n",
    "        except NoSuchElementException:\n",
    "\n",
    "            property_descriptions.append('-')\n",
    "\n",
    "\n",
    "\n",
    "        try:\n",
    "\n",
    "            name=driver.find_element(By.XPATH,'//div[@class=\"title-2\"]')\n",
    "\n",
    "            names.append(name.text)\n",
    "\n",
    "        except NoSuchElementException:\n",
    "\n",
    "            names.append('-')\n",
    "\n",
    "\n",
    "\n",
    "        try:\n",
    "\n",
    "            rating=driver.find_element(By.XPATH,'//div[@class=\"score orange big\"]')\n",
    "\n",
    "            ratings.append(rating.text)\n",
    "\n",
    "        except NoSuchElementException:\n",
    "\n",
    "            ratings.append('-')\n",
    "\n",
    "\n",
    "\n",
    "        try:\n",
    "\n",
    "            total_review=driver.find_element(By.XPATH,'//div[@class=\"reviews\"]')\n",
    "\n",
    "            total_reviews.append(total_review.text.strip('Total Reviews'))\n",
    "\n",
    "        except NoSuchElementException:\n",
    "\n",
    "            total_reviews.append('-')\n",
    "\n",
    "\n",
    "\n",
    "        try:\n",
    "\n",
    "            overall_review=driver.find_element(By.XPATH,'//div[@class=\"keyword\"]')\n",
    "\n",
    "            overall_reviews.append(overall_review.text)\n",
    "\n",
    "        except NoSuchElementException:\n",
    "\n",
    "            overall_reviews.append('-')\n",
    "\n",
    "        \n",
    "\n",
    "    except TimeoutException:\n",
    "\n",
    "        property_descriptions.append('-')\n",
    "\n",
    "        names.append('-')\n",
    "\n",
    "        ratings.append('-')\n",
    "\n",
    "        total_reviews.append('-')\n",
    "\n",
    "        overall_reviews.append('-')\n",
    "\n",
    "        prs.append('-')\n",
    "\n",
    "        drs.append('-')\n",
    "            \n",
    "   "
   ]
  },
  {
   "cell_type": "code",
   "execution_count": null,
   "id": "284893e6",
   "metadata": {},
   "outputs": [],
   "source": [
    "# creating DataFrame\n",
    "Hostel = pd.DataFrame({})\n",
    "Hostel['Hostel Name'] = hostel_name\n",
    "Hostel['Distance from City Centre'] = distances\n",
    "Hostel['Ratings'] = rating\n",
    "Hostel['Total Reviews'] = reviews\n",
    "Hostel['Overall Reviews'] = over_all\n",
    "Hostel['Privates from Price'] = privatesform\n",
    "Hostel['Dorms from Price'] = dormsform\n",
    "Hostel['Facilities'] = facilities\n",
    "Hostel['Description'] = proprty_descriptions\n",
    "Hostel"
   ]
  },
  {
   "cell_type": "code",
   "execution_count": null,
   "id": "c45a829a",
   "metadata": {},
   "outputs": [],
   "source": []
  }
 ],
 "metadata": {
  "kernelspec": {
   "display_name": "Python 3 (ipykernel)",
   "language": "python",
   "name": "python3"
  },
  "language_info": {
   "codemirror_mode": {
    "name": "ipython",
    "version": 3
   },
   "file_extension": ".py",
   "mimetype": "text/x-python",
   "name": "python",
   "nbconvert_exporter": "python",
   "pygments_lexer": "ipython3",
   "version": "3.9.12"
  }
 },
 "nbformat": 4,
 "nbformat_minor": 5
}
