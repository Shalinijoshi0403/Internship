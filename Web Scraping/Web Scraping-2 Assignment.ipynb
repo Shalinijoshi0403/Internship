{
 "cells": [
  {
   "cell_type": "code",
   "execution_count": 1,
   "id": "08689a19",
   "metadata": {},
   "outputs": [
    {
     "name": "stdout",
     "output_type": "stream",
     "text": [
      "Requirement already satisfied: selenium in c:\\users\\suven\\anaconda3\\lib\\site-packages (4.7.2)\n",
      "Requirement already satisfied: trio~=0.17 in c:\\users\\suven\\anaconda3\\lib\\site-packages (from selenium) (0.22.0)\n",
      "Requirement already satisfied: certifi>=2021.10.8 in c:\\users\\suven\\anaconda3\\lib\\site-packages (from selenium) (2021.10.8)\n",
      "Requirement already satisfied: urllib3[socks]~=1.26 in c:\\users\\suven\\anaconda3\\lib\\site-packages (from selenium) (1.26.9)\n",
      "Requirement already satisfied: trio-websocket~=0.9 in c:\\users\\suven\\anaconda3\\lib\\site-packages (from selenium) (0.9.2)\n",
      "Requirement already satisfied: sortedcontainers in c:\\users\\suven\\anaconda3\\lib\\site-packages (from trio~=0.17->selenium) (2.4.0)\n",
      "Requirement already satisfied: async-generator>=1.9 in c:\\users\\suven\\anaconda3\\lib\\site-packages (from trio~=0.17->selenium) (1.10)\n",
      "Requirement already satisfied: attrs>=19.2.0 in c:\\users\\suven\\anaconda3\\lib\\site-packages (from trio~=0.17->selenium) (21.4.0)\n",
      "Requirement already satisfied: idna in c:\\users\\suven\\anaconda3\\lib\\site-packages (from trio~=0.17->selenium) (3.3)\n",
      "Requirement already satisfied: outcome in c:\\users\\suven\\anaconda3\\lib\\site-packages (from trio~=0.17->selenium) (1.2.0)\n",
      "Requirement already satisfied: exceptiongroup>=1.0.0rc9 in c:\\users\\suven\\anaconda3\\lib\\site-packages (from trio~=0.17->selenium) (1.1.0)\n",
      "Requirement already satisfied: sniffio in c:\\users\\suven\\anaconda3\\lib\\site-packages (from trio~=0.17->selenium) (1.2.0)\n",
      "Requirement already satisfied: cffi>=1.14 in c:\\users\\suven\\anaconda3\\lib\\site-packages (from trio~=0.17->selenium) (1.15.0)\n",
      "Requirement already satisfied: pycparser in c:\\users\\suven\\anaconda3\\lib\\site-packages (from cffi>=1.14->trio~=0.17->selenium) (2.21)\n",
      "Requirement already satisfied: wsproto>=0.14 in c:\\users\\suven\\anaconda3\\lib\\site-packages (from trio-websocket~=0.9->selenium) (1.2.0)\n",
      "Requirement already satisfied: PySocks!=1.5.7,<2.0,>=1.5.6 in c:\\users\\suven\\anaconda3\\lib\\site-packages (from urllib3[socks]~=1.26->selenium) (1.7.1)\n",
      "Requirement already satisfied: h11<1,>=0.9.0 in c:\\users\\suven\\anaconda3\\lib\\site-packages (from wsproto>=0.14->trio-websocket~=0.9->selenium) (0.14.0)\n"
     ]
    }
   ],
   "source": [
    "!pip install selenium"
   ]
  },
  {
   "cell_type": "code",
   "execution_count": 2,
   "id": "a169b0f3",
   "metadata": {},
   "outputs": [],
   "source": [
    "import selenium\n",
    "import pandas as pd\n",
    "from selenium import webdriver\n",
    "import warnings\n",
    "warnings.filterwarnings('ignore')\n",
    "from selenium.webdriver.common.by import By\n",
    "import time"
   ]
  },
  {
   "cell_type": "code",
   "execution_count": 3,
   "id": "d5e021b1",
   "metadata": {},
   "outputs": [],
   "source": [
    "# Connecting to the webdriver\n",
    "driver = webdriver.Chrome(r\"C:\\Users\\suven\\OneDrive\\Desktop\\Internship\\Web Scraping\\Selenium\\chromedriver.exe\")"
   ]
  },
  {
   "cell_type": "code",
   "execution_count": null,
   "id": "e3ea31de",
   "metadata": {},
   "outputs": [],
   "source": [
    "driver = webdriver.Chrome(r\"chromedriver.exe\")"
   ]
  },
  {
   "cell_type": "markdown",
   "id": "1b87afc5",
   "metadata": {},
   "source": [
    "## ASSIGNMENT"
   ]
  },
  {
   "cell_type": "markdown",
   "id": "1746f01a",
   "metadata": {},
   "source": [
    "Q1: Write a python program to scrape data for “Data Analyst” Job position in “Bangalore” location. You \n",
    "have to scrape the job-title, job-location, company_name, experience_required. You have to scrape first 10 \n",
    "jobs data.\n",
    "This task will be done in following steps:\n",
    "1. First get the webpage https://www.naukri.com/\n",
    "2. Enter “Data Analyst” in “Skill, Designations, Companies” field and enter “Bangalore” in “enter the \n",
    "location” field.\n",
    "3. Then click the searchbutton.\n",
    "4. Then scrape the data for the first 10 jobs results you get.\n",
    "5. Finally create a dataframe of the scraped data.\n",
    "Note: All of the above steps have to be done in code. No step is to be done manually"
   ]
  },
  {
   "cell_type": "code",
   "execution_count": 21,
   "id": "bc3fa21a",
   "metadata": {},
   "outputs": [],
   "source": [
    "#1. First get the webpage https://www.naukri.com/\n",
    "driver.get('https://www.naukri.com/')"
   ]
  },
  {
   "cell_type": "code",
   "execution_count": 24,
   "id": "7182b691",
   "metadata": {},
   "outputs": [],
   "source": [
    "#2.Enter “Data Analyst” in “Skill, Designations, Companies” field and enter “Bangalore” in “enter the location” field.\n",
    "designation = driver.find_element(By.CLASS_NAME,'suggestor-input')\n",
    "designation.send_keys('Data Analyst')"
   ]
  },
  {
   "cell_type": "code",
   "execution_count": 25,
   "id": "a54be08f",
   "metadata": {},
   "outputs": [],
   "source": [
    "location = driver.find_element(By.XPATH,'/html/body/div[1]/div[6]/div/div/div[5]/div/div/div/input')\n",
    "location.send_keys('Bangalore')"
   ]
  },
  {
   "cell_type": "code",
   "execution_count": null,
   "id": "7916276c",
   "metadata": {},
   "outputs": [],
   "source": [
    "#3.Then click the searchbutton."
   ]
  },
  {
   "cell_type": "code",
   "execution_count": 26,
   "id": "cdf3a14b",
   "metadata": {},
   "outputs": [],
   "source": [
    "search = driver.find_element(By.CLASS_NAME,'qsbSubmit')\n",
    "search.click()"
   ]
  },
  {
   "cell_type": "code",
   "execution_count": null,
   "id": "5c302d17",
   "metadata": {},
   "outputs": [],
   "source": [
    "#4.Then scrape the data for the first 10 jobs results you get."
   ]
  },
  {
   "cell_type": "code",
   "execution_count": 34,
   "id": "d049ff53",
   "metadata": {},
   "outputs": [],
   "source": [
    "job_title=[]\n",
    "job_location=[]\n",
    "company_name=[]\n",
    "experience_required=[]"
   ]
  },
  {
   "cell_type": "code",
   "execution_count": 35,
   "id": "45ee71ab",
   "metadata": {},
   "outputs": [],
   "source": [
    "#Scraping job title from the given page\n",
    "title_tags=driver.find_elements(By.XPATH,'//a[@class=\"title ellipsis\"]')\n",
    "for i in title_tags[0:10]:\n",
    "    title=i.text\n",
    "    job_title.append(title)\n",
    "    \n",
    "location_tags=driver.find_elements(By.XPATH,'//span[@class=\"ellipsis fleft locWdth\"]')\n",
    "for i in location_tags[0:10]:\n",
    "    location=i.text\n",
    "    job_location.append(location)\n",
    "    \n",
    "company_tags=driver.find_elements(By.XPATH,'//a[@class=\"subTitle ellipsis fleft\"]')\n",
    "for i in company_tags[0:10]:\n",
    "    company=i.text\n",
    "    company_name.append(company)\n",
    "\n",
    "experience_tags=driver.find_elements(By.XPATH,'//span[@class=\"ellipsis fleft expwdth\"]')\n",
    "for i in company_tags[0:10]:\n",
    "    experience=i.text\n",
    "    experience_required.append(experience)"
   ]
  },
  {
   "cell_type": "code",
   "execution_count": 36,
   "id": "a88c0ed2",
   "metadata": {},
   "outputs": [
    {
     "name": "stdout",
     "output_type": "stream",
     "text": [
      "10 10 10 10\n"
     ]
    }
   ],
   "source": [
    "print(len(job_title),len(job_location),len(company_name),len(experience_required))"
   ]
  },
  {
   "cell_type": "code",
   "execution_count": null,
   "id": "e4277019",
   "metadata": {},
   "outputs": [],
   "source": [
    "5. #Finally create a dataframe of the scraped data. Note: All of the above steps have to be done in code.\n",
    "No step is to be done manually"
   ]
  },
  {
   "cell_type": "code",
   "execution_count": 37,
   "id": "63981f72",
   "metadata": {},
   "outputs": [
    {
     "data": {
      "text/html": [
       "<div>\n",
       "<style scoped>\n",
       "    .dataframe tbody tr th:only-of-type {\n",
       "        vertical-align: middle;\n",
       "    }\n",
       "\n",
       "    .dataframe tbody tr th {\n",
       "        vertical-align: top;\n",
       "    }\n",
       "\n",
       "    .dataframe thead th {\n",
       "        text-align: right;\n",
       "    }\n",
       "</style>\n",
       "<table border=\"1\" class=\"dataframe\">\n",
       "  <thead>\n",
       "    <tr style=\"text-align: right;\">\n",
       "      <th></th>\n",
       "      <th>Title</th>\n",
       "      <th>location</th>\n",
       "      <th>company</th>\n",
       "      <th>experience</th>\n",
       "    </tr>\n",
       "  </thead>\n",
       "  <tbody>\n",
       "    <tr>\n",
       "      <th>0</th>\n",
       "      <td>Data Analyst 2</td>\n",
       "      <td>Bangalore/Bengaluru</td>\n",
       "      <td>Zynga</td>\n",
       "      <td>Zynga</td>\n",
       "    </tr>\n",
       "    <tr>\n",
       "      <th>1</th>\n",
       "      <td>Data Analyst Engineer</td>\n",
       "      <td>Bangalore/Bengaluru</td>\n",
       "      <td>Ethos Watch</td>\n",
       "      <td>Ethos Watch</td>\n",
       "    </tr>\n",
       "    <tr>\n",
       "      <th>2</th>\n",
       "      <td>Global SCM Project &amp; Data Analyst</td>\n",
       "      <td>Bangalore/Bengaluru</td>\n",
       "      <td>Aptiv</td>\n",
       "      <td>Aptiv</td>\n",
       "    </tr>\n",
       "    <tr>\n",
       "      <th>3</th>\n",
       "      <td>Market Research Data Analyst</td>\n",
       "      <td>Bengaluru</td>\n",
       "      <td>Robas Research</td>\n",
       "      <td>Robas Research</td>\n",
       "    </tr>\n",
       "    <tr>\n",
       "      <th>4</th>\n",
       "      <td>Analyst-Data Maintenance</td>\n",
       "      <td>Bangalore/Bengaluru</td>\n",
       "      <td>Accenture</td>\n",
       "      <td>Accenture</td>\n",
       "    </tr>\n",
       "    <tr>\n",
       "      <th>5</th>\n",
       "      <td>Analyst-Data Maintenance</td>\n",
       "      <td>Bangalore/Bengaluru</td>\n",
       "      <td>Accenture</td>\n",
       "      <td>Accenture</td>\n",
       "    </tr>\n",
       "    <tr>\n",
       "      <th>6</th>\n",
       "      <td>Analyst-Clinical Data Management (CDM)</td>\n",
       "      <td>Bangalore/Bengaluru</td>\n",
       "      <td>Accenture</td>\n",
       "      <td>Accenture</td>\n",
       "    </tr>\n",
       "    <tr>\n",
       "      <th>7</th>\n",
       "      <td>Senior Analyst - Murex Data Reporting - IT Con...</td>\n",
       "      <td>Bangalore/Bengaluru, Mumbai, Gurgaon/Gurugram</td>\n",
       "      <td>Megma Services</td>\n",
       "      <td>Megma Services</td>\n",
       "    </tr>\n",
       "    <tr>\n",
       "      <th>8</th>\n",
       "      <td>Data Analyst</td>\n",
       "      <td>Bangalore/Bengaluru</td>\n",
       "      <td>Shell</td>\n",
       "      <td>Shell</td>\n",
       "    </tr>\n",
       "    <tr>\n",
       "      <th>9</th>\n",
       "      <td>Data Analyst / Product Analyst / Business Analyst</td>\n",
       "      <td>Bangalore/Bengaluru, Delhi / NCR</td>\n",
       "      <td>Benchire</td>\n",
       "      <td>Benchire</td>\n",
       "    </tr>\n",
       "  </tbody>\n",
       "</table>\n",
       "</div>"
      ],
      "text/plain": [
       "                                               Title  \\\n",
       "0                                     Data Analyst 2   \n",
       "1                              Data Analyst Engineer   \n",
       "2                  Global SCM Project & Data Analyst   \n",
       "3                       Market Research Data Analyst   \n",
       "4                           Analyst-Data Maintenance   \n",
       "5                           Analyst-Data Maintenance   \n",
       "6             Analyst-Clinical Data Management (CDM)   \n",
       "7  Senior Analyst - Murex Data Reporting - IT Con...   \n",
       "8                                       Data Analyst   \n",
       "9  Data Analyst / Product Analyst / Business Analyst   \n",
       "\n",
       "                                        location         company  \\\n",
       "0                            Bangalore/Bengaluru           Zynga   \n",
       "1                            Bangalore/Bengaluru     Ethos Watch   \n",
       "2                            Bangalore/Bengaluru           Aptiv   \n",
       "3                                      Bengaluru  Robas Research   \n",
       "4                            Bangalore/Bengaluru       Accenture   \n",
       "5                            Bangalore/Bengaluru       Accenture   \n",
       "6                            Bangalore/Bengaluru       Accenture   \n",
       "7  Bangalore/Bengaluru, Mumbai, Gurgaon/Gurugram  Megma Services   \n",
       "8                            Bangalore/Bengaluru           Shell   \n",
       "9               Bangalore/Bengaluru, Delhi / NCR        Benchire   \n",
       "\n",
       "       experience  \n",
       "0           Zynga  \n",
       "1     Ethos Watch  \n",
       "2           Aptiv  \n",
       "3  Robas Research  \n",
       "4       Accenture  \n",
       "5       Accenture  \n",
       "6       Accenture  \n",
       "7  Megma Services  \n",
       "8           Shell  \n",
       "9        Benchire  "
      ]
     },
     "execution_count": 37,
     "metadata": {},
     "output_type": "execute_result"
    }
   ],
   "source": [
    "df=pd.DataFrame({'Title':job_title,'location':job_location,'company':company_name,'experience':experience_required})\n",
    "df"
   ]
  },
  {
   "cell_type": "markdown",
   "id": "51bae42b",
   "metadata": {},
   "source": [
    "-------------"
   ]
  },
  {
   "cell_type": "markdown",
   "id": "67cb75df",
   "metadata": {},
   "source": [
    "Q2:Write a python program to scrape data for “Data Scientist” Job position in “Bangalore” location. You \n",
    "have to scrape the job-title, job-location, company_name. You have to scrape first 10 jobs data.\n",
    "This task will be done in following steps:\n",
    "1. First get the webpage https://www.naukri.com/\n",
    "2. Enter “Data Scientist” in “Skill, Designations, Companies” field and enter “Bangalore” in “enter the \n",
    "location” field.\n",
    "3. Then click the searchbutton.\n",
    "4. Then scrape the data for the first 10 jobs results youget.\n",
    "5. Finally create a dataframe of the scraped data.\n",
    "Note: All of the above steps have to be done in code. No step is to be done manually.\n"
   ]
  },
  {
   "cell_type": "code",
   "execution_count": 47,
   "id": "d9b1552c",
   "metadata": {},
   "outputs": [],
   "source": [
    "# 1.First get the webpage https://www.naukri.com/\n",
    "driver.get('https://www.naukri.com/')"
   ]
  },
  {
   "cell_type": "code",
   "execution_count": 48,
   "id": "ee141928",
   "metadata": {},
   "outputs": [],
   "source": [
    "#2.Enter “Data Scientist” in “Skill, Designations, Companies” field and enter “Bangalore” in “enter the location” field.\n",
    "designation = driver.find_element(By.CLASS_NAME,'suggestor-input')\n",
    "designation.send_keys('Data Scientist')"
   ]
  },
  {
   "cell_type": "code",
   "execution_count": 49,
   "id": "0c215b4b",
   "metadata": {},
   "outputs": [],
   "source": [
    "location = driver.find_element(By.XPATH,'/html/body/div[1]/div[6]/div/div/div[5]/div/div/div/input')\n",
    "location.send_keys('Bangalore')"
   ]
  },
  {
   "cell_type": "code",
   "execution_count": 50,
   "id": "7c76be8b",
   "metadata": {},
   "outputs": [],
   "source": [
    "#3.Then click the searchbutton.\n",
    "search = driver.find_element(By.CLASS_NAME,'qsbSubmit')\n",
    "search.click()"
   ]
  },
  {
   "cell_type": "code",
   "execution_count": null,
   "id": "ca16ca46",
   "metadata": {},
   "outputs": [],
   "source": [
    "#4.Then scrape the data for the first 10 jobs results youget."
   ]
  },
  {
   "cell_type": "code",
   "execution_count": 51,
   "id": "9b3753eb",
   "metadata": {},
   "outputs": [],
   "source": [
    "job_title=[]\n",
    "job_location=[]\n",
    "company_name=[]\n",
    "experience_required=[]"
   ]
  },
  {
   "cell_type": "code",
   "execution_count": 52,
   "id": "05e6d55f",
   "metadata": {},
   "outputs": [],
   "source": [
    "#Scraping job title from the given page\n",
    "title_tags=driver.find_elements(By.XPATH,'//a[@class=\"title ellipsis\"]')\n",
    "for i in title_tags[0:10]:\n",
    "    title=i.text\n",
    "    job_title.append(title)\n",
    "    \n",
    "location_tags=driver.find_elements(By.XPATH,'//span[@class=\"ellipsis fleft locWdth\"]')\n",
    "for i in location_tags[0:10]:\n",
    "    location=i.text\n",
    "    job_location.append(location)\n",
    "    \n",
    "company_tags=driver.find_elements(By.XPATH,'//a[@class=\"subTitle ellipsis fleft\"]')\n",
    "for i in company_tags[0:10]:\n",
    "    company=i.text\n",
    "    company_name.append(company)\n",
    "\n",
    "experience_tags=driver.find_elements(By.XPATH,'//span[@class=\"ellipsis fleft expwdth\"]')\n",
    "for i in company_tags[0:10]:\n",
    "    experience=i.text\n",
    "    experience_required.append(experience)"
   ]
  },
  {
   "cell_type": "code",
   "execution_count": 53,
   "id": "9ee8d434",
   "metadata": {},
   "outputs": [
    {
     "name": "stdout",
     "output_type": "stream",
     "text": [
      "10 10 10 10\n"
     ]
    }
   ],
   "source": [
    "print(len(job_title),len(job_location),len(company_name),len(experience_required))"
   ]
  },
  {
   "cell_type": "code",
   "execution_count": null,
   "id": "2250fcbd",
   "metadata": {},
   "outputs": [],
   "source": [
    "5. #Finally create a dataframe of the scraped data. Note: All of the above steps have to be done in code.\n",
    "No step is to be done manually"
   ]
  },
  {
   "cell_type": "code",
   "execution_count": 54,
   "id": "a7a47c66",
   "metadata": {},
   "outputs": [
    {
     "data": {
      "text/html": [
       "<div>\n",
       "<style scoped>\n",
       "    .dataframe tbody tr th:only-of-type {\n",
       "        vertical-align: middle;\n",
       "    }\n",
       "\n",
       "    .dataframe tbody tr th {\n",
       "        vertical-align: top;\n",
       "    }\n",
       "\n",
       "    .dataframe thead th {\n",
       "        text-align: right;\n",
       "    }\n",
       "</style>\n",
       "<table border=\"1\" class=\"dataframe\">\n",
       "  <thead>\n",
       "    <tr style=\"text-align: right;\">\n",
       "      <th></th>\n",
       "      <th>Title</th>\n",
       "      <th>location</th>\n",
       "      <th>company</th>\n",
       "      <th>experience</th>\n",
       "    </tr>\n",
       "  </thead>\n",
       "  <tbody>\n",
       "    <tr>\n",
       "      <th>0</th>\n",
       "      <td>Data Scientist</td>\n",
       "      <td>Bangalore/Bengaluru, Noida, Kolkata, Mumbai, H...</td>\n",
       "      <td>Capgemini</td>\n",
       "      <td>Capgemini</td>\n",
       "    </tr>\n",
       "    <tr>\n",
       "      <th>1</th>\n",
       "      <td>Data Scientist</td>\n",
       "      <td>Temp. WFH - Bangalore/Bengaluru, Hyderabad/Sec...</td>\n",
       "      <td>Tech Mahindra</td>\n",
       "      <td>Tech Mahindra</td>\n",
       "    </tr>\n",
       "    <tr>\n",
       "      <th>2</th>\n",
       "      <td>Data Science Specialist</td>\n",
       "      <td>Bangalore/Bengaluru, Kolkata, Mumbai, Hyderaba...</td>\n",
       "      <td>Accenture</td>\n",
       "      <td>Accenture</td>\n",
       "    </tr>\n",
       "    <tr>\n",
       "      <th>3</th>\n",
       "      <td>Analystics &amp; Modeling Specialist</td>\n",
       "      <td>Bangalore/Bengaluru, Kolkata, Mumbai, Hyderaba...</td>\n",
       "      <td>Accenture</td>\n",
       "      <td>Accenture</td>\n",
       "    </tr>\n",
       "    <tr>\n",
       "      <th>4</th>\n",
       "      <td>Lead Data Scientist</td>\n",
       "      <td>Bangalore/Bengaluru, Noida, Hyderabad/Secunder...</td>\n",
       "      <td>Birlasoft</td>\n",
       "      <td>Birlasoft</td>\n",
       "    </tr>\n",
       "    <tr>\n",
       "      <th>5</th>\n",
       "      <td>Data Scientist</td>\n",
       "      <td>Hybrid - Bangalore/Bengaluru, Noida, Hyderabad...</td>\n",
       "      <td>Birlasoft</td>\n",
       "      <td>Birlasoft</td>\n",
       "    </tr>\n",
       "    <tr>\n",
       "      <th>6</th>\n",
       "      <td>Data Scientist Knowledge graph</td>\n",
       "      <td>Hybrid - Bangalore/Bengaluru, Pune</td>\n",
       "      <td>Capco</td>\n",
       "      <td>Capco</td>\n",
       "    </tr>\n",
       "    <tr>\n",
       "      <th>7</th>\n",
       "      <td>Data Scientist</td>\n",
       "      <td>Bangalore/Bengaluru</td>\n",
       "      <td>Infosys</td>\n",
       "      <td>Infosys</td>\n",
       "    </tr>\n",
       "    <tr>\n",
       "      <th>8</th>\n",
       "      <td>Supply Chain Specialist Staff</td>\n",
       "      <td>Bangalore/Bengaluru</td>\n",
       "      <td>Juniper Networks</td>\n",
       "      <td>Juniper Networks</td>\n",
       "    </tr>\n",
       "    <tr>\n",
       "      <th>9</th>\n",
       "      <td>Analytic Delivery Lead</td>\n",
       "      <td>Bangalore/Bengaluru, Kolkata, Mumbai, Hyderaba...</td>\n",
       "      <td>Gharondaa Advisors</td>\n",
       "      <td>Gharondaa Advisors</td>\n",
       "    </tr>\n",
       "  </tbody>\n",
       "</table>\n",
       "</div>"
      ],
      "text/plain": [
       "                              Title  \\\n",
       "0                    Data Scientist   \n",
       "1                    Data Scientist   \n",
       "2           Data Science Specialist   \n",
       "3  Analystics & Modeling Specialist   \n",
       "4               Lead Data Scientist   \n",
       "5                    Data Scientist   \n",
       "6    Data Scientist Knowledge graph   \n",
       "7                    Data Scientist   \n",
       "8     Supply Chain Specialist Staff   \n",
       "9            Analytic Delivery Lead   \n",
       "\n",
       "                                            location             company  \\\n",
       "0  Bangalore/Bengaluru, Noida, Kolkata, Mumbai, H...           Capgemini   \n",
       "1  Temp. WFH - Bangalore/Bengaluru, Hyderabad/Sec...       Tech Mahindra   \n",
       "2  Bangalore/Bengaluru, Kolkata, Mumbai, Hyderaba...           Accenture   \n",
       "3  Bangalore/Bengaluru, Kolkata, Mumbai, Hyderaba...           Accenture   \n",
       "4  Bangalore/Bengaluru, Noida, Hyderabad/Secunder...           Birlasoft   \n",
       "5  Hybrid - Bangalore/Bengaluru, Noida, Hyderabad...           Birlasoft   \n",
       "6                 Hybrid - Bangalore/Bengaluru, Pune               Capco   \n",
       "7                                Bangalore/Bengaluru             Infosys   \n",
       "8                                Bangalore/Bengaluru    Juniper Networks   \n",
       "9  Bangalore/Bengaluru, Kolkata, Mumbai, Hyderaba...  Gharondaa Advisors   \n",
       "\n",
       "           experience  \n",
       "0           Capgemini  \n",
       "1       Tech Mahindra  \n",
       "2           Accenture  \n",
       "3           Accenture  \n",
       "4           Birlasoft  \n",
       "5           Birlasoft  \n",
       "6               Capco  \n",
       "7             Infosys  \n",
       "8    Juniper Networks  \n",
       "9  Gharondaa Advisors  "
      ]
     },
     "execution_count": 54,
     "metadata": {},
     "output_type": "execute_result"
    }
   ],
   "source": [
    "df=pd.DataFrame({'Title':job_title,'location':job_location,'company':company_name,'experience':experience_required})\n",
    "df"
   ]
  },
  {
   "cell_type": "markdown",
   "id": "4cc0a860",
   "metadata": {},
   "source": [
    "-------"
   ]
  },
  {
   "cell_type": "markdown",
   "id": "cb5df2ad",
   "metadata": {},
   "source": [
    "Q3: In this question you have to scrape data using the filters available on the webpage as shown below"
   ]
  },
  {
   "cell_type": "markdown",
   "id": "8025b29d",
   "metadata": {},
   "source": [
    "You have to use the location and salary filter.\n",
    "You have to scrape data for “Data Scientist” designation for first 10 job results. \n",
    "You have to scrape the job-title, job-location, company name, experience required.\n",
    "The location filter to be used is “Delhi/NCR”. The salary filter to be used is “3-6” lakhs\n",
    "The task will be done as shown in the below steps:\n",
    "1. first get thewebpage https://www.naukri.com/\n",
    "2. Enter “Data Scientist” in “Skill, Designations, and Companies” field.\n",
    "3. Then click the searchbutton.\n",
    "4. Then apply the location filter and salary filter by checking the respective boxes\n",
    "5. Then scrape the data for the first 10 jobs results youget.\n",
    "6. Finally create a dataframe of the scraped data.\n",
    "Note: All of the above steps have to be done in code. No step is to be done manually.\n"
   ]
  },
  {
   "cell_type": "code",
   "execution_count": 203,
   "id": "b1b356c0",
   "metadata": {},
   "outputs": [],
   "source": [
    "#1.first get thewebpage https://www.naukri.com/\n",
    "driver.get('https://www.naukri.com/')"
   ]
  },
  {
   "cell_type": "code",
   "execution_count": 60,
   "id": "c9b5bfe8",
   "metadata": {},
   "outputs": [],
   "source": [
    "#2.Enter “Data Scientist” in “Skill, Designations, and Companies” field."
   ]
  },
  {
   "cell_type": "code",
   "execution_count": 204,
   "id": "89ff4154",
   "metadata": {},
   "outputs": [],
   "source": [
    "designation = driver.find_element(By.CLASS_NAME,'suggestor-input')\n",
    "designation.send_keys('Data Scientist')"
   ]
  },
  {
   "cell_type": "code",
   "execution_count": null,
   "id": "8b9d648c",
   "metadata": {},
   "outputs": [],
   "source": [
    "#3.Then click the searchbutton."
   ]
  },
  {
   "cell_type": "code",
   "execution_count": 205,
   "id": "6ecaa37f",
   "metadata": {},
   "outputs": [],
   "source": [
    "search = driver.find_element(By.CLASS_NAME,'qsbSubmit')\n",
    "search.click()"
   ]
  },
  {
   "cell_type": "code",
   "execution_count": null,
   "id": "de35ad14",
   "metadata": {},
   "outputs": [],
   "source": [
    "#4.Then apply the location filter and salary filter by checking the respective boxes"
   ]
  },
  {
   "cell_type": "code",
   "execution_count": 206,
   "id": "692a7e1d",
   "metadata": {},
   "outputs": [],
   "source": [
    "loc_filter=driver.find_elements(By.XPATH,\"//div[@class='mt-8 chckBoxCont']//span\")\n",
    "\n",
    "\n",
    "for i in loc_filter :\n",
    "    if (i.text=='Delhi / NCR'):\n",
    "        i.click()\n",
    "        break"
   ]
  },
  {
   "cell_type": "code",
   "execution_count": 207,
   "id": "3b3aadaf",
   "metadata": {},
   "outputs": [],
   "source": [
    "sal_filter=driver.find_elements(By.XPATH,\"//div[@class='mt-8 chckBoxCont']//span\")\n",
    "for i in sal_filter:\n",
    "    if(i.text=='3-6 Lakhs'):\n",
    "        i.click()\n",
    "        break"
   ]
  },
  {
   "cell_type": "code",
   "execution_count": null,
   "id": "c01dab30",
   "metadata": {},
   "outputs": [],
   "source": [
    "#scraping required data"
   ]
  },
  {
   "cell_type": "code",
   "execution_count": null,
   "id": "b0b1a465",
   "metadata": {},
   "outputs": [],
   "source": [
    "#5.Then scrape the data for the first 10 jobs results you get."
   ]
  },
  {
   "cell_type": "code",
   "execution_count": 209,
   "id": "b2a84419",
   "metadata": {},
   "outputs": [],
   "source": [
    "job_title=[]\n",
    "job_location=[]\n",
    "company_name=[]\n",
    "experience_required=[]"
   ]
  },
  {
   "cell_type": "code",
   "execution_count": 210,
   "id": "7ee15e8e",
   "metadata": {},
   "outputs": [],
   "source": [
    "#Scraping job title from the given page\n",
    "title_tags=driver.find_elements(By.XPATH,'//a[@class=\"title ellipsis\"]')\n",
    "for i in title_tags[0:10]:\n",
    "    title=i.text\n",
    "    job_title.append(title)\n",
    "    \n",
    "location_tags=driver.find_elements(By.XPATH,'//span[@class=\"ellipsis fleft locWdth\"]')\n",
    "for i in location_tags[0:10]:\n",
    "    location=i.text\n",
    "    job_location.append(location)\n",
    "    \n",
    "company_tags=driver.find_elements(By.XPATH,'//a[@class=\"subTitle ellipsis fleft\"]')\n",
    "for i in company_tags[0:10]:\n",
    "    company=i.text\n",
    "    company_name.append(company)\n",
    "\n",
    "experience_tags=driver.find_elements(By.XPATH,'//span[@class=\"ellipsis fleft expwdth\"]')\n",
    "for i in company_tags[0:10]:\n",
    "    experience=i.text\n",
    "    experience_required.append(experience)"
   ]
  },
  {
   "cell_type": "code",
   "execution_count": null,
   "id": "5b7fa0ac",
   "metadata": {},
   "outputs": [],
   "source": [
    "#6.Finally create a dataframe of the scraped data. Note: All of the above steps have to be done in code. No step is to be done manually."
   ]
  },
  {
   "cell_type": "code",
   "execution_count": 211,
   "id": "e92deed3",
   "metadata": {},
   "outputs": [
    {
     "data": {
      "text/html": [
       "<div>\n",
       "<style scoped>\n",
       "    .dataframe tbody tr th:only-of-type {\n",
       "        vertical-align: middle;\n",
       "    }\n",
       "\n",
       "    .dataframe tbody tr th {\n",
       "        vertical-align: top;\n",
       "    }\n",
       "\n",
       "    .dataframe thead th {\n",
       "        text-align: right;\n",
       "    }\n",
       "</style>\n",
       "<table border=\"1\" class=\"dataframe\">\n",
       "  <thead>\n",
       "    <tr style=\"text-align: right;\">\n",
       "      <th></th>\n",
       "      <th>Title</th>\n",
       "      <th>location</th>\n",
       "      <th>company</th>\n",
       "      <th>experience</th>\n",
       "    </tr>\n",
       "  </thead>\n",
       "  <tbody>\n",
       "    <tr>\n",
       "      <th>0</th>\n",
       "      <td>Data Scientist</td>\n",
       "      <td>Noida, Kolkata, Mumbai, Hyderabad/Secunderabad...</td>\n",
       "      <td>Capgemini</td>\n",
       "      <td>Capgemini</td>\n",
       "    </tr>\n",
       "    <tr>\n",
       "      <th>1</th>\n",
       "      <td>Data Scientist</td>\n",
       "      <td>Temp. WFH - Hyderabad/Secunderabad, Pune, Chen...</td>\n",
       "      <td>Tech Mahindra</td>\n",
       "      <td>Tech Mahindra</td>\n",
       "    </tr>\n",
       "    <tr>\n",
       "      <th>2</th>\n",
       "      <td>Analystics &amp; Modeling Specialist</td>\n",
       "      <td>Kolkata, Mumbai, Hyderabad/Secunderabad, Pune,...</td>\n",
       "      <td>Accenture</td>\n",
       "      <td>Accenture</td>\n",
       "    </tr>\n",
       "    <tr>\n",
       "      <th>3</th>\n",
       "      <td>Data Science Specialist</td>\n",
       "      <td>Kolkata, Mumbai, Hyderabad/Secunderabad, Pune,...</td>\n",
       "      <td>Accenture</td>\n",
       "      <td>Accenture</td>\n",
       "    </tr>\n",
       "    <tr>\n",
       "      <th>4</th>\n",
       "      <td>Data Engineer</td>\n",
       "      <td>Temp. WFH - Pune, Chennai, Mumbai (All Areas)</td>\n",
       "      <td>Hexaware Technologies</td>\n",
       "      <td>Hexaware Technologies</td>\n",
       "    </tr>\n",
       "    <tr>\n",
       "      <th>5</th>\n",
       "      <td>Data Scientist</td>\n",
       "      <td>Bangalore/Bengaluru</td>\n",
       "      <td>ANZ</td>\n",
       "      <td>ANZ</td>\n",
       "    </tr>\n",
       "    <tr>\n",
       "      <th>6</th>\n",
       "      <td>Staff Data Analyst</td>\n",
       "      <td>Bangalore/Bengaluru</td>\n",
       "      <td>Walmart</td>\n",
       "      <td>Walmart</td>\n",
       "    </tr>\n",
       "    <tr>\n",
       "      <th>7</th>\n",
       "      <td>Data Scientist</td>\n",
       "      <td>Bangalore/Bengaluru</td>\n",
       "      <td>ANZ</td>\n",
       "      <td>ANZ</td>\n",
       "    </tr>\n",
       "    <tr>\n",
       "      <th>8</th>\n",
       "      <td>Lead Data Scientist</td>\n",
       "      <td>Noida, Hyderabad/Secunderabad, Pune, Chennai, ...</td>\n",
       "      <td>Birlasoft</td>\n",
       "      <td>Birlasoft</td>\n",
       "    </tr>\n",
       "    <tr>\n",
       "      <th>9</th>\n",
       "      <td>Data Scientist</td>\n",
       "      <td>Hybrid - Noida, Hyderabad/Secunderabad, Pune, ...</td>\n",
       "      <td>Birlasoft</td>\n",
       "      <td>Birlasoft</td>\n",
       "    </tr>\n",
       "  </tbody>\n",
       "</table>\n",
       "</div>"
      ],
      "text/plain": [
       "                              Title  \\\n",
       "0                    Data Scientist   \n",
       "1                    Data Scientist   \n",
       "2  Analystics & Modeling Specialist   \n",
       "3           Data Science Specialist   \n",
       "4                     Data Engineer   \n",
       "5                    Data Scientist   \n",
       "6                Staff Data Analyst   \n",
       "7                    Data Scientist   \n",
       "8               Lead Data Scientist   \n",
       "9                    Data Scientist   \n",
       "\n",
       "                                            location                company  \\\n",
       "0  Noida, Kolkata, Mumbai, Hyderabad/Secunderabad...              Capgemini   \n",
       "1  Temp. WFH - Hyderabad/Secunderabad, Pune, Chen...          Tech Mahindra   \n",
       "2  Kolkata, Mumbai, Hyderabad/Secunderabad, Pune,...              Accenture   \n",
       "3  Kolkata, Mumbai, Hyderabad/Secunderabad, Pune,...              Accenture   \n",
       "4      Temp. WFH - Pune, Chennai, Mumbai (All Areas)  Hexaware Technologies   \n",
       "5                                Bangalore/Bengaluru                    ANZ   \n",
       "6                                Bangalore/Bengaluru                Walmart   \n",
       "7                                Bangalore/Bengaluru                    ANZ   \n",
       "8  Noida, Hyderabad/Secunderabad, Pune, Chennai, ...              Birlasoft   \n",
       "9  Hybrid - Noida, Hyderabad/Secunderabad, Pune, ...              Birlasoft   \n",
       "\n",
       "              experience  \n",
       "0              Capgemini  \n",
       "1          Tech Mahindra  \n",
       "2              Accenture  \n",
       "3              Accenture  \n",
       "4  Hexaware Technologies  \n",
       "5                    ANZ  \n",
       "6                Walmart  \n",
       "7                    ANZ  \n",
       "8              Birlasoft  \n",
       "9              Birlasoft  "
      ]
     },
     "execution_count": 211,
     "metadata": {},
     "output_type": "execute_result"
    }
   ],
   "source": [
    "df=pd.DataFrame({'Title':job_title,'location':job_location,'company':company_name,'experience':experience_required})\n",
    "df"
   ]
  },
  {
   "cell_type": "markdown",
   "id": "c4edc95f",
   "metadata": {},
   "source": [
    "-----"
   ]
  },
  {
   "cell_type": "markdown",
   "id": "f78429aa",
   "metadata": {},
   "source": [
    "Q4: Scrape data of first 100 sunglasses listings on flipkart.com. You have to scrape four attributes:\n",
    "1. Brand\n",
    "2. ProductDescription\n",
    "3. Price\n",
    "The attributes which you have to scrape is ticked marked in the below image.\n",
    "\n",
    "To scrape the data you have to go through following steps:\n",
    "1. Go to Flipkart webpage by url :https://www.flipkart.com/\n",
    "2. Enter “sunglasses” in the search field where “search for products, brands and more” is written and \n",
    "click the search icon\n",
    "3. After that you will reach to the page having a lot of sunglasses. From this page you can scrap the \n",
    "required data asusual.\n",
    "\n",
    "4. After scraping data from the first page, go to the “Next” Button at the bottom other page , then\n",
    "click on it.\n",
    "5. Now scrape data from this page asusual\n",
    "6. Repeat this until you get data for 100sunglasses.\n",
    "Note: That all of the above steps have to be done by coding only and not manually."
   ]
  },
  {
   "cell_type": "code",
   "execution_count": 48,
   "id": "600eae9b",
   "metadata": {},
   "outputs": [],
   "source": [
    "#1. Go to Flipkart webpage by url :https://www.flipkart.com/\n",
    "driver.get('https://www.flipkart.com/')"
   ]
  },
  {
   "cell_type": "code",
   "execution_count": 49,
   "id": "af145d8a",
   "metadata": {},
   "outputs": [],
   "source": [
    "#2. Enter “sunglasses” in the search field where “search for products, brands and more” is written and click the search icon \n",
    "\n",
    "search_product = driver.find_element(By.CLASS_NAME,'_3704LK')\n",
    "search_product.send_keys('sunglasses')"
   ]
  },
  {
   "cell_type": "code",
   "execution_count": 50,
   "id": "2819b6ce",
   "metadata": {},
   "outputs": [],
   "source": [
    "#click on the search button\n",
    "\n",
    "search_button =driver.find_element(By.CLASS_NAME,'L0Z3Pu')\n",
    "search_button.click()"
   ]
  },
  {
   "cell_type": "code",
   "execution_count": null,
   "id": "7e9eea1a",
   "metadata": {},
   "outputs": [],
   "source": [
    "#3. After that you will reach to the page having a lot of sunglasses. From this page you can scrap the required data asusual.\n",
    "#4.After scraping data from the first page, go to the “Next” Button at the bottom other page , then click on it.\n",
    "#5.Now scrape data from this page asusual"
   ]
  },
  {
   "cell_type": "code",
   "execution_count": 51,
   "id": "02ea8e05",
   "metadata": {
    "scrolled": true
   },
   "outputs": [],
   "source": [
    "Brand = []\n",
    "Product_Description = []\n",
    "Price= []\n",
    "\n",
    "\n",
    "brand = driver.find_elements(By.XPATH,\"//div[@class='_2WkVRV']\")\n",
    "prod_desc = driver.find_elements(By.XPATH,\"//p[@class='IRpwTa']\")\n",
    "price = driver.find_elements(By.XPATH,\"//div[@class='_30jeq3']\")\n",
    "\n",
    "\n",
    "\n",
    "for i in brand:\n",
    "    Brand.append(i.text)\n",
    "for j in prod_desc:\n",
    "    Product_Description.append(j.text)\n",
    "for k in price:\n",
    "    Price.append(k.text) \n",
    "\n",
    "    \n",
    "time.sleep(3)        \n",
    "        \n",
    "        \n",
    "nxt_button=driver.find_element(By.XPATH,'/html/body/div[1]/div/div[3]/div[1]/div[2]/div[12]/div/div/nav/a[11]/span')\n",
    "nxt_button.click()"
   ]
  },
  {
   "cell_type": "code",
   "execution_count": 52,
   "id": "33c2d1fd",
   "metadata": {},
   "outputs": [
    {
     "name": "stdout",
     "output_type": "stream",
     "text": [
      "40 40\n"
     ]
    }
   ],
   "source": [
    "print(len(Brand),len(Price))"
   ]
  },
  {
   "cell_type": "code",
   "execution_count": 54,
   "id": "59d5e827",
   "metadata": {},
   "outputs": [
    {
     "data": {
      "text/html": [
       "<div>\n",
       "<style scoped>\n",
       "    .dataframe tbody tr th:only-of-type {\n",
       "        vertical-align: middle;\n",
       "    }\n",
       "\n",
       "    .dataframe tbody tr th {\n",
       "        vertical-align: top;\n",
       "    }\n",
       "\n",
       "    .dataframe thead th {\n",
       "        text-align: right;\n",
       "    }\n",
       "</style>\n",
       "<table border=\"1\" class=\"dataframe\">\n",
       "  <thead>\n",
       "    <tr style=\"text-align: right;\">\n",
       "      <th></th>\n",
       "      <th>Brand</th>\n",
       "      <th>Price</th>\n",
       "    </tr>\n",
       "  </thead>\n",
       "  <tbody>\n",
       "    <tr>\n",
       "      <th>0</th>\n",
       "      <td>Soul Hub</td>\n",
       "      <td>₹1,208</td>\n",
       "    </tr>\n",
       "    <tr>\n",
       "      <th>1</th>\n",
       "      <td>Resist</td>\n",
       "      <td>₹1,399</td>\n",
       "    </tr>\n",
       "    <tr>\n",
       "      <th>2</th>\n",
       "      <td>Elligator</td>\n",
       "      <td>₹149</td>\n",
       "    </tr>\n",
       "    <tr>\n",
       "      <th>3</th>\n",
       "      <td>Fastrack</td>\n",
       "      <td>₹649</td>\n",
       "    </tr>\n",
       "    <tr>\n",
       "      <th>4</th>\n",
       "      <td>Fastrack</td>\n",
       "      <td>₹539</td>\n",
       "    </tr>\n",
       "    <tr>\n",
       "      <th>5</th>\n",
       "      <td>Elligator</td>\n",
       "      <td>₹229</td>\n",
       "    </tr>\n",
       "    <tr>\n",
       "      <th>6</th>\n",
       "      <td>SHAAH COLLECTIONS</td>\n",
       "      <td>₹185</td>\n",
       "    </tr>\n",
       "    <tr>\n",
       "      <th>7</th>\n",
       "      <td>ROZZETTA CRAFT</td>\n",
       "      <td>₹449</td>\n",
       "    </tr>\n",
       "    <tr>\n",
       "      <th>8</th>\n",
       "      <td>Elligator</td>\n",
       "      <td>₹129</td>\n",
       "    </tr>\n",
       "    <tr>\n",
       "      <th>9</th>\n",
       "      <td>PHENOMENAL</td>\n",
       "      <td>₹129</td>\n",
       "    </tr>\n",
       "    <tr>\n",
       "      <th>10</th>\n",
       "      <td>LIZA ANGEL</td>\n",
       "      <td>₹174</td>\n",
       "    </tr>\n",
       "    <tr>\n",
       "      <th>11</th>\n",
       "      <td>Dervin</td>\n",
       "      <td>₹224</td>\n",
       "    </tr>\n",
       "    <tr>\n",
       "      <th>12</th>\n",
       "      <td>PIRASO</td>\n",
       "      <td>₹274</td>\n",
       "    </tr>\n",
       "    <tr>\n",
       "      <th>13</th>\n",
       "      <td>SUNBEE</td>\n",
       "      <td>₹185</td>\n",
       "    </tr>\n",
       "    <tr>\n",
       "      <th>14</th>\n",
       "      <td>SUNBEE</td>\n",
       "      <td>₹129</td>\n",
       "    </tr>\n",
       "    <tr>\n",
       "      <th>15</th>\n",
       "      <td>ROYAL SON</td>\n",
       "      <td>₹497</td>\n",
       "    </tr>\n",
       "    <tr>\n",
       "      <th>16</th>\n",
       "      <td>SRPM</td>\n",
       "      <td>₹129</td>\n",
       "    </tr>\n",
       "    <tr>\n",
       "      <th>17</th>\n",
       "      <td>New Specs</td>\n",
       "      <td>₹259</td>\n",
       "    </tr>\n",
       "    <tr>\n",
       "      <th>18</th>\n",
       "      <td>Elligator</td>\n",
       "      <td>₹149</td>\n",
       "    </tr>\n",
       "    <tr>\n",
       "      <th>19</th>\n",
       "      <td>Silver Kartz</td>\n",
       "      <td>₹266</td>\n",
       "    </tr>\n",
       "    <tr>\n",
       "      <th>20</th>\n",
       "      <td>VINCENT CHASE</td>\n",
       "      <td>₹599</td>\n",
       "    </tr>\n",
       "    <tr>\n",
       "      <th>21</th>\n",
       "      <td>SRPM</td>\n",
       "      <td>₹149</td>\n",
       "    </tr>\n",
       "    <tr>\n",
       "      <th>22</th>\n",
       "      <td>SUNBEE</td>\n",
       "      <td>₹129</td>\n",
       "    </tr>\n",
       "    <tr>\n",
       "      <th>23</th>\n",
       "      <td>ROZZETTA CRAFT</td>\n",
       "      <td>₹449</td>\n",
       "    </tr>\n",
       "    <tr>\n",
       "      <th>24</th>\n",
       "      <td>EYELLUSION</td>\n",
       "      <td>₹281</td>\n",
       "    </tr>\n",
       "    <tr>\n",
       "      <th>25</th>\n",
       "      <td>Fastrack</td>\n",
       "      <td>₹566</td>\n",
       "    </tr>\n",
       "    <tr>\n",
       "      <th>26</th>\n",
       "      <td>Satyam Kraft</td>\n",
       "      <td>₹299</td>\n",
       "    </tr>\n",
       "    <tr>\n",
       "      <th>27</th>\n",
       "      <td>ROZZETTA CRAFT</td>\n",
       "      <td>₹649</td>\n",
       "    </tr>\n",
       "    <tr>\n",
       "      <th>28</th>\n",
       "      <td>SRPM</td>\n",
       "      <td>₹179</td>\n",
       "    </tr>\n",
       "    <tr>\n",
       "      <th>29</th>\n",
       "      <td>PIRASO</td>\n",
       "      <td>₹268</td>\n",
       "    </tr>\n",
       "    <tr>\n",
       "      <th>30</th>\n",
       "      <td>PIRASO</td>\n",
       "      <td>₹182</td>\n",
       "    </tr>\n",
       "    <tr>\n",
       "      <th>31</th>\n",
       "      <td>IZAAN MART</td>\n",
       "      <td>₹530</td>\n",
       "    </tr>\n",
       "    <tr>\n",
       "      <th>32</th>\n",
       "      <td>PIRASO</td>\n",
       "      <td>₹244</td>\n",
       "    </tr>\n",
       "    <tr>\n",
       "      <th>33</th>\n",
       "      <td>LIZA ANGEL</td>\n",
       "      <td>₹129</td>\n",
       "    </tr>\n",
       "    <tr>\n",
       "      <th>34</th>\n",
       "      <td>LIZA ANGEL</td>\n",
       "      <td>₹129</td>\n",
       "    </tr>\n",
       "    <tr>\n",
       "      <th>35</th>\n",
       "      <td>ROZZETTA CRAFT</td>\n",
       "      <td>₹399</td>\n",
       "    </tr>\n",
       "    <tr>\n",
       "      <th>36</th>\n",
       "      <td>PIRASO</td>\n",
       "      <td>₹257</td>\n",
       "    </tr>\n",
       "    <tr>\n",
       "      <th>37</th>\n",
       "      <td>PIRASO</td>\n",
       "      <td>₹270</td>\n",
       "    </tr>\n",
       "    <tr>\n",
       "      <th>38</th>\n",
       "      <td>Elligator</td>\n",
       "      <td>₹149</td>\n",
       "    </tr>\n",
       "    <tr>\n",
       "      <th>39</th>\n",
       "      <td>SUNBEE</td>\n",
       "      <td>₹185</td>\n",
       "    </tr>\n",
       "  </tbody>\n",
       "</table>\n",
       "</div>"
      ],
      "text/plain": [
       "                Brand   Price\n",
       "0            Soul Hub  ₹1,208\n",
       "1              Resist  ₹1,399\n",
       "2           Elligator    ₹149\n",
       "3            Fastrack    ₹649\n",
       "4            Fastrack    ₹539\n",
       "5           Elligator    ₹229\n",
       "6   SHAAH COLLECTIONS    ₹185\n",
       "7      ROZZETTA CRAFT    ₹449\n",
       "8           Elligator    ₹129\n",
       "9          PHENOMENAL    ₹129\n",
       "10         LIZA ANGEL    ₹174\n",
       "11             Dervin    ₹224\n",
       "12             PIRASO    ₹274\n",
       "13             SUNBEE    ₹185\n",
       "14             SUNBEE    ₹129\n",
       "15          ROYAL SON    ₹497\n",
       "16               SRPM    ₹129\n",
       "17          New Specs    ₹259\n",
       "18          Elligator    ₹149\n",
       "19       Silver Kartz    ₹266\n",
       "20      VINCENT CHASE    ₹599\n",
       "21               SRPM    ₹149\n",
       "22             SUNBEE    ₹129\n",
       "23     ROZZETTA CRAFT    ₹449\n",
       "24         EYELLUSION    ₹281\n",
       "25           Fastrack    ₹566\n",
       "26       Satyam Kraft    ₹299\n",
       "27     ROZZETTA CRAFT    ₹649\n",
       "28               SRPM    ₹179\n",
       "29             PIRASO    ₹268\n",
       "30             PIRASO    ₹182\n",
       "31         IZAAN MART    ₹530\n",
       "32             PIRASO    ₹244\n",
       "33         LIZA ANGEL    ₹129\n",
       "34         LIZA ANGEL    ₹129\n",
       "35     ROZZETTA CRAFT    ₹399\n",
       "36             PIRASO    ₹257\n",
       "37             PIRASO    ₹270\n",
       "38          Elligator    ₹149\n",
       "39             SUNBEE    ₹185"
      ]
     },
     "execution_count": 54,
     "metadata": {},
     "output_type": "execute_result"
    }
   ],
   "source": [
    "#lets  make dataframe from the scraped data\n",
    "\n",
    "df = pd.DataFrame({'Brand':Brand[0:100],'Price':Price[0:100]})\n",
    "\n",
    "df"
   ]
  },
  {
   "cell_type": "markdown",
   "id": "3deaf9b3",
   "metadata": {},
   "source": [
    "-----"
   ]
  },
  {
   "cell_type": "markdown",
   "id": "fcb983f1",
   "metadata": {},
   "source": [
    "Q5: Scrape 100 reviews data from flipkart.com for iphone11 phone. You have to go the link: \n",
    "https://www.flipkart.com/apple-iphone-11-black-64-gb/product\u0002reviews/itm4e5041ba101fd?pid=MOBFWQ6BXGJCEYNY&lid=LSTMOBFWQ6BXGJCEYNYZXSHRJ&market \n",
    "place=FLIPKART\n",
    "\n",
    "As shown in the above page you have to scrape the tick marked attributes. These are:\n",
    "1. Rating\n",
    "2. Review summary\n",
    "3. Full review\n",
    "4. You have to scrape this data for first 100reviews.\n",
    "Note: All the steps required during scraping should be done through code only and not manually.\n"
   ]
  },
  {
   "cell_type": "code",
   "execution_count": 176,
   "id": "57893656",
   "metadata": {},
   "outputs": [],
   "source": [
    "driver.get('https://www.flipkart.com/apple-iphone-11-black-64-gb-includes-earpods-power-adapter/product-reviews/itm0f37c2240b217?pid=MOBFKCTSVZAXUHGR&lid=LSTMOBFKCTSVZAXUHGREPBFGI&marketplace=FLIPKART')"
   ]
  },
  {
   "cell_type": "code",
   "execution_count": 164,
   "id": "376114d0",
   "metadata": {},
   "outputs": [
    {
     "data": {
      "text/html": [
       "<div>\n",
       "<style scoped>\n",
       "    .dataframe tbody tr th:only-of-type {\n",
       "        vertical-align: middle;\n",
       "    }\n",
       "\n",
       "    .dataframe tbody tr th {\n",
       "        vertical-align: top;\n",
       "    }\n",
       "\n",
       "    .dataframe thead th {\n",
       "        text-align: right;\n",
       "    }\n",
       "</style>\n",
       "<table border=\"1\" class=\"dataframe\">\n",
       "  <thead>\n",
       "    <tr style=\"text-align: right;\">\n",
       "      <th></th>\n",
       "      <th>Rating</th>\n",
       "      <th>Review_summary</th>\n",
       "      <th>Full_review</th>\n",
       "    </tr>\n",
       "  </thead>\n",
       "  <tbody>\n",
       "    <tr>\n",
       "      <th>0</th>\n",
       "      <td>&lt;selenium.webdriver.remote.webelement.WebEleme...</td>\n",
       "      <td>&lt;selenium.webdriver.remote.webelement.WebEleme...</td>\n",
       "      <td>&lt;selenium.webdriver.remote.webelement.WebEleme...</td>\n",
       "    </tr>\n",
       "    <tr>\n",
       "      <th>1</th>\n",
       "      <td>&lt;selenium.webdriver.remote.webelement.WebEleme...</td>\n",
       "      <td>&lt;selenium.webdriver.remote.webelement.WebEleme...</td>\n",
       "      <td>&lt;selenium.webdriver.remote.webelement.WebEleme...</td>\n",
       "    </tr>\n",
       "    <tr>\n",
       "      <th>2</th>\n",
       "      <td>&lt;selenium.webdriver.remote.webelement.WebEleme...</td>\n",
       "      <td>&lt;selenium.webdriver.remote.webelement.WebEleme...</td>\n",
       "      <td>&lt;selenium.webdriver.remote.webelement.WebEleme...</td>\n",
       "    </tr>\n",
       "    <tr>\n",
       "      <th>3</th>\n",
       "      <td>&lt;selenium.webdriver.remote.webelement.WebEleme...</td>\n",
       "      <td>&lt;selenium.webdriver.remote.webelement.WebEleme...</td>\n",
       "      <td>&lt;selenium.webdriver.remote.webelement.WebEleme...</td>\n",
       "    </tr>\n",
       "    <tr>\n",
       "      <th>4</th>\n",
       "      <td>&lt;selenium.webdriver.remote.webelement.WebEleme...</td>\n",
       "      <td>&lt;selenium.webdriver.remote.webelement.WebEleme...</td>\n",
       "      <td>&lt;selenium.webdriver.remote.webelement.WebEleme...</td>\n",
       "    </tr>\n",
       "    <tr>\n",
       "      <th>5</th>\n",
       "      <td>&lt;selenium.webdriver.remote.webelement.WebEleme...</td>\n",
       "      <td>&lt;selenium.webdriver.remote.webelement.WebEleme...</td>\n",
       "      <td>&lt;selenium.webdriver.remote.webelement.WebEleme...</td>\n",
       "    </tr>\n",
       "    <tr>\n",
       "      <th>6</th>\n",
       "      <td>&lt;selenium.webdriver.remote.webelement.WebEleme...</td>\n",
       "      <td>&lt;selenium.webdriver.remote.webelement.WebEleme...</td>\n",
       "      <td>&lt;selenium.webdriver.remote.webelement.WebEleme...</td>\n",
       "    </tr>\n",
       "    <tr>\n",
       "      <th>7</th>\n",
       "      <td>&lt;selenium.webdriver.remote.webelement.WebEleme...</td>\n",
       "      <td>&lt;selenium.webdriver.remote.webelement.WebEleme...</td>\n",
       "      <td>&lt;selenium.webdriver.remote.webelement.WebEleme...</td>\n",
       "    </tr>\n",
       "    <tr>\n",
       "      <th>8</th>\n",
       "      <td>&lt;selenium.webdriver.remote.webelement.WebEleme...</td>\n",
       "      <td>&lt;selenium.webdriver.remote.webelement.WebEleme...</td>\n",
       "      <td>&lt;selenium.webdriver.remote.webelement.WebEleme...</td>\n",
       "    </tr>\n",
       "    <tr>\n",
       "      <th>9</th>\n",
       "      <td>&lt;selenium.webdriver.remote.webelement.WebEleme...</td>\n",
       "      <td>&lt;selenium.webdriver.remote.webelement.WebEleme...</td>\n",
       "      <td>&lt;selenium.webdriver.remote.webelement.WebEleme...</td>\n",
       "    </tr>\n",
       "  </tbody>\n",
       "</table>\n",
       "</div>"
      ],
      "text/plain": [
       "                                              Rating  \\\n",
       "0  <selenium.webdriver.remote.webelement.WebEleme...   \n",
       "1  <selenium.webdriver.remote.webelement.WebEleme...   \n",
       "2  <selenium.webdriver.remote.webelement.WebEleme...   \n",
       "3  <selenium.webdriver.remote.webelement.WebEleme...   \n",
       "4  <selenium.webdriver.remote.webelement.WebEleme...   \n",
       "5  <selenium.webdriver.remote.webelement.WebEleme...   \n",
       "6  <selenium.webdriver.remote.webelement.WebEleme...   \n",
       "7  <selenium.webdriver.remote.webelement.WebEleme...   \n",
       "8  <selenium.webdriver.remote.webelement.WebEleme...   \n",
       "9  <selenium.webdriver.remote.webelement.WebEleme...   \n",
       "\n",
       "                                      Review_summary  \\\n",
       "0  <selenium.webdriver.remote.webelement.WebEleme...   \n",
       "1  <selenium.webdriver.remote.webelement.WebEleme...   \n",
       "2  <selenium.webdriver.remote.webelement.WebEleme...   \n",
       "3  <selenium.webdriver.remote.webelement.WebEleme...   \n",
       "4  <selenium.webdriver.remote.webelement.WebEleme...   \n",
       "5  <selenium.webdriver.remote.webelement.WebEleme...   \n",
       "6  <selenium.webdriver.remote.webelement.WebEleme...   \n",
       "7  <selenium.webdriver.remote.webelement.WebEleme...   \n",
       "8  <selenium.webdriver.remote.webelement.WebEleme...   \n",
       "9  <selenium.webdriver.remote.webelement.WebEleme...   \n",
       "\n",
       "                                         Full_review  \n",
       "0  <selenium.webdriver.remote.webelement.WebEleme...  \n",
       "1  <selenium.webdriver.remote.webelement.WebEleme...  \n",
       "2  <selenium.webdriver.remote.webelement.WebEleme...  \n",
       "3  <selenium.webdriver.remote.webelement.WebEleme...  \n",
       "4  <selenium.webdriver.remote.webelement.WebEleme...  \n",
       "5  <selenium.webdriver.remote.webelement.WebEleme...  \n",
       "6  <selenium.webdriver.remote.webelement.WebEleme...  \n",
       "7  <selenium.webdriver.remote.webelement.WebEleme...  \n",
       "8  <selenium.webdriver.remote.webelement.WebEleme...  \n",
       "9  <selenium.webdriver.remote.webelement.WebEleme...  "
      ]
     },
     "execution_count": 164,
     "metadata": {},
     "output_type": "execute_result"
    }
   ],
   "source": [
    "Rating = []\n",
    "Review_summary = []\n",
    "Full_review = []\n",
    "\n",
    "rating = driver.find_elements(By.XPATH,\"//div[@class='_3LWZlK _1BLPMq']\")\n",
    "review = driver.find_elements(By.XPATH,\"//p[@class='_2-N8zT']\")\n",
    "full_review = driver.find_elements(By.XPATH,\"//div[@class='t-ZTKy']\")\n",
    "\n",
    "#for page in range(0,3):\n",
    "for i in rating:\n",
    "    Rating.append(i.text)\n",
    "for o in review:\n",
    "    Review_summary.append(o.text)\n",
    "for p in full_review:\n",
    "    Full_review.append(p.text)    \n",
    "    \n",
    "df = pd.DataFrame({'Rating':Rating,'Review_summary':Review_summary,'Full_review':Full_review})\n",
    "\n",
    "df"
   ]
  },
  {
   "cell_type": "markdown",
   "id": "1492dd64",
   "metadata": {},
   "source": [
    "----"
   ]
  },
  {
   "cell_type": "markdown",
   "id": "3e5046ba",
   "metadata": {},
   "source": [
    "Q6: Scrape data for first 100 sneakers you find when you visit flipkart.com and search for “sneakers” in the \n",
    "search field.\n",
    "You have to scrape 3 attributes of each sneaker:\n",
    "1. Brand\n",
    "2. ProductDescription\n",
    "3. Price\n",
    "As shown in the below image, you have to scrape the above attributes."
   ]
  },
  {
   "cell_type": "code",
   "execution_count": 171,
   "id": "7bfa9483",
   "metadata": {},
   "outputs": [],
   "source": [
    "driver.get('https://www.flipkart.com/')"
   ]
  },
  {
   "cell_type": "code",
   "execution_count": 172,
   "id": "52a1374f",
   "metadata": {},
   "outputs": [],
   "source": [
    "search_product = driver.find_element(By.CLASS_NAME,'_3704LK')\n",
    "search_product.send_keys('sneakers')"
   ]
  },
  {
   "cell_type": "code",
   "execution_count": 173,
   "id": "f14373b0",
   "metadata": {},
   "outputs": [],
   "source": [
    "#click on the search button\n",
    "\n",
    "search_button =driver.find_element(By.CLASS_NAME,'_34RNph')\n",
    "search_button.click()"
   ]
  },
  {
   "cell_type": "code",
   "execution_count": 183,
   "id": "4292d41f",
   "metadata": {},
   "outputs": [],
   "source": [
    "Brand = []\n",
    "Product_Description = []\n",
    "Price= []\n",
    "\n",
    "\n",
    "for i in range(3):\n",
    "    brand = driver.find_elements(By.CLASS_NAME,'_2WkVRV')\n",
    "    for i in brand:Brand.append(i.text)\n",
    "    \n",
    "    product_des = driver.find_elements(By.CLASS_NAME,'IRpwTa')\n",
    "    for i in product_des:Product_Description.append(i.text)    \n",
    "    \n",
    "    price = driver.find_elements(By.CLASS_NAME,'_30jeq3')\n",
    "    for i in price:Price.append(i.text)\n",
    "\n",
    "time.sleep(3)        \n",
    "        \n",
    "        \n",
    "nxt_button=driver.find_element(By.CLASS_NAME,'_1LKTO3')\n",
    "nxt_button.click()\n",
    "                     "
   ]
  },
  {
   "cell_type": "code",
   "execution_count": 185,
   "id": "6a477f95",
   "metadata": {},
   "outputs": [
    {
     "name": "stdout",
     "output_type": "stream",
     "text": [
      "120 120 135\n"
     ]
    }
   ],
   "source": [
    "print(len(Brand),len(Product_Description),len(Price))"
   ]
  },
  {
   "cell_type": "code",
   "execution_count": 189,
   "id": "44b36f1b",
   "metadata": {},
   "outputs": [
    {
     "data": {
      "text/html": [
       "<div>\n",
       "<style scoped>\n",
       "    .dataframe tbody tr th:only-of-type {\n",
       "        vertical-align: middle;\n",
       "    }\n",
       "\n",
       "    .dataframe tbody tr th {\n",
       "        vertical-align: top;\n",
       "    }\n",
       "\n",
       "    .dataframe thead th {\n",
       "        text-align: right;\n",
       "    }\n",
       "</style>\n",
       "<table border=\"1\" class=\"dataframe\">\n",
       "  <thead>\n",
       "    <tr style=\"text-align: right;\">\n",
       "      <th></th>\n",
       "      <th>BRAND</th>\n",
       "      <th>PRODUCT_DESCRIPTION</th>\n",
       "      <th>PRICE</th>\n",
       "    </tr>\n",
       "  </thead>\n",
       "  <tbody>\n",
       "    <tr>\n",
       "      <th>0</th>\n",
       "      <td>GVR</td>\n",
       "      <td>CLASSIC CT SNEAKER Sneakers For Men</td>\n",
       "      <td>₹749</td>\n",
       "    </tr>\n",
       "    <tr>\n",
       "      <th>1</th>\n",
       "      <td>GVR</td>\n",
       "      <td>SNEAKERS FOR MEN Sneakers For Men</td>\n",
       "      <td>₹749</td>\n",
       "    </tr>\n",
       "    <tr>\n",
       "      <th>2</th>\n",
       "      <td>World Wear Footwear</td>\n",
       "      <td>5011-Latest Collection Stylish &amp; Trendy Casual...</td>\n",
       "      <td>₹199</td>\n",
       "    </tr>\n",
       "    <tr>\n",
       "      <th>3</th>\n",
       "      <td>ADIDAS</td>\n",
       "      <td>STREET ICON M Sneakers For Men</td>\n",
       "      <td>₹1,907</td>\n",
       "    </tr>\n",
       "    <tr>\n",
       "      <th>4</th>\n",
       "      <td>aadi</td>\n",
       "      <td>Synthetic Leather |Lightweight|Comfort|Summer|...</td>\n",
       "      <td>₹434</td>\n",
       "    </tr>\n",
       "    <tr>\n",
       "      <th>...</th>\n",
       "      <td>...</td>\n",
       "      <td>...</td>\n",
       "      <td>...</td>\n",
       "    </tr>\n",
       "    <tr>\n",
       "      <th>95</th>\n",
       "      <td>Bepassion</td>\n",
       "      <td>STYLISH CASUAL FOR MEW Sneakers For Men</td>\n",
       "      <td>₹1,047</td>\n",
       "    </tr>\n",
       "    <tr>\n",
       "      <th>96</th>\n",
       "      <td>SFR</td>\n",
       "      <td>Sneakers For Men</td>\n",
       "      <td>₹199</td>\n",
       "    </tr>\n",
       "    <tr>\n",
       "      <th>97</th>\n",
       "      <td>ADIDAS</td>\n",
       "      <td>STREET ICON M Sneakers For Men</td>\n",
       "      <td>₹749</td>\n",
       "    </tr>\n",
       "    <tr>\n",
       "      <th>98</th>\n",
       "      <td>RED TAPE</td>\n",
       "      <td>Sneakers For Men</td>\n",
       "      <td>₹399</td>\n",
       "    </tr>\n",
       "    <tr>\n",
       "      <th>99</th>\n",
       "      <td>ADIDAS ORIGINALS</td>\n",
       "      <td>NIZZA PLATFORM W Sneakers For Women</td>\n",
       "      <td>₹1,504</td>\n",
       "    </tr>\n",
       "  </tbody>\n",
       "</table>\n",
       "<p>100 rows × 3 columns</p>\n",
       "</div>"
      ],
      "text/plain": [
       "                  BRAND                                PRODUCT_DESCRIPTION  \\\n",
       "0                   GVR                CLASSIC CT SNEAKER Sneakers For Men   \n",
       "1                   GVR                  SNEAKERS FOR MEN Sneakers For Men   \n",
       "2   World Wear Footwear  5011-Latest Collection Stylish & Trendy Casual...   \n",
       "3                ADIDAS                     STREET ICON M Sneakers For Men   \n",
       "4                  aadi  Synthetic Leather |Lightweight|Comfort|Summer|...   \n",
       "..                  ...                                                ...   \n",
       "95            Bepassion            STYLISH CASUAL FOR MEW Sneakers For Men   \n",
       "96                  SFR                                   Sneakers For Men   \n",
       "97               ADIDAS                     STREET ICON M Sneakers For Men   \n",
       "98             RED TAPE                                   Sneakers For Men   \n",
       "99     ADIDAS ORIGINALS                NIZZA PLATFORM W Sneakers For Women   \n",
       "\n",
       "     PRICE  \n",
       "0     ₹749  \n",
       "1     ₹749  \n",
       "2     ₹199  \n",
       "3   ₹1,907  \n",
       "4     ₹434  \n",
       "..     ...  \n",
       "95  ₹1,047  \n",
       "96    ₹199  \n",
       "97    ₹749  \n",
       "98    ₹399  \n",
       "99  ₹1,504  \n",
       "\n",
       "[100 rows x 3 columns]"
      ]
     },
     "execution_count": 189,
     "metadata": {},
     "output_type": "execute_result"
    }
   ],
   "source": [
    "#creating DataFrame for the scraped Data\n",
    "\n",
    "df=pd.DataFrame()\n",
    "df[\"BRAND\"]=Brand[:100]\n",
    "df[\"PRODUCT_DESCRIPTION\"]=Product_Description[:100]\n",
    "df[\"PRICE\"]=Price[:100]\n",
    "df"
   ]
  },
  {
   "cell_type": "markdown",
   "id": "0ba8d378",
   "metadata": {},
   "source": [
    "----"
   ]
  },
  {
   "cell_type": "markdown",
   "id": "84b7f817",
   "metadata": {},
   "source": [
    "Q7: Go to webpage https://www.amazon.in/ Enter “Laptop” in the search field and then click the search icon. Then \n",
    "set CPU Type filter to “Intel Core i7” as shown in the below image:\n",
    "After setting the filters scrape first 10 laptops data. You have to scrape 3 attributes for each laptop:\n",
    "1. Title\n",
    "2. Ratings\n",
    "3. Price"
   ]
  },
  {
   "cell_type": "code",
   "execution_count": 48,
   "id": "2b65d860",
   "metadata": {},
   "outputs": [],
   "source": [
    "driver.get('https://www.amazon.com/')"
   ]
  },
  {
   "cell_type": "code",
   "execution_count": 49,
   "id": "f8d7118e",
   "metadata": {},
   "outputs": [],
   "source": [
    "#click on the search button\n",
    "\n",
    "Product = driver.find_element(By.XPATH,\"//input[@class='nav-input nav-progressive-attribute']\")\n",
    "Product.send_keys('Laptop')\n"
   ]
  },
  {
   "cell_type": "code",
   "execution_count": 50,
   "id": "1eb3b063",
   "metadata": {},
   "outputs": [],
   "source": [
    "#click on the search button\n",
    "\n",
    "search_button =driver.find_element(By.XPATH,'/html/body/div[1]/header/div/div[1]/div[2]/div/form/div[3]/div/span/input')\n",
    "search_button.click()"
   ]
  },
  {
   "cell_type": "code",
   "execution_count": 51,
   "id": "3b2659e4",
   "metadata": {},
   "outputs": [],
   "source": [
    "#Then set CPU Type filter to “Intel Core i7\n",
    "\n",
    "CPU = driver.find_element(By.XPATH,'//span[@class=\"a-size-base a-color-base puis-bold-weight-text\"]')\n",
    "CPU.click()"
   ]
  },
  {
   "cell_type": "code",
   "execution_count": 53,
   "id": "3006cc78",
   "metadata": {},
   "outputs": [],
   "source": [
    "Inteli7 = driver.find_element(By.XPATH,'/html/body/div[1]/div[2]/div[1]/div[2]/div/div[3]/span/div[1]/div/div/div[6]/ul[3]/li[6]/span/div/div/ul/li[16]/span/a/span')\n",
    "Inteli7.click()"
   ]
  },
  {
   "cell_type": "code",
   "execution_count": 54,
   "id": "0e89e00d",
   "metadata": {},
   "outputs": [],
   "source": [
    "title_el=driver.find_elements(By.XPATH,\"//h2[@class='a-size-mini a-spacing-none a-color-base s-line-clamp-2']\")\n",
    "title=[]\n",
    "for i in title_el[:10]:\n",
    "    title.append(i.text)"
   ]
  },
  {
   "cell_type": "code",
   "execution_count": 55,
   "id": "43129475",
   "metadata": {},
   "outputs": [],
   "source": [
    "price_el=driver.find_elements(By.XPATH,\"//span[@class='a-price-whole']\")\n",
    "price=[]\n",
    "for i in price_el[:10]:\n",
    "    price.append(i.text)"
   ]
  },
  {
   "cell_type": "code",
   "execution_count": 56,
   "id": "498d78d5",
   "metadata": {},
   "outputs": [],
   "source": [
    "Rating=[]\n",
    "titles_rat=driver.find_elements(By.XPATH,\"//div[@class='a-row a-size-small']/span\")\n",
    "\n",
    "for i in titles_rat:\n",
    "\n",
    "    Rating.append(i.get_attribute(\"aria-label\"))\n",
    "\n",
    "rating=[]\n",
    "\n",
    "for i in range(0,len(Rating))[0:20]:\n",
    "\n",
    "    if i == 0 or  i/2 == i//2:\n",
    "\n",
    "        rating.append(Rating[i][0:3])"
   ]
  },
  {
   "cell_type": "code",
   "execution_count": 57,
   "id": "0c81305b",
   "metadata": {},
   "outputs": [
    {
     "name": "stdout",
     "output_type": "stream",
     "text": [
      "10 10 10\n"
     ]
    }
   ],
   "source": [
    "print(len(title),len(price),len(rating))"
   ]
  },
  {
   "cell_type": "code",
   "execution_count": null,
   "id": "312d087c",
   "metadata": {},
   "outputs": [],
   "source": [
    "# Creating a dataframe of the scraped details"
   ]
  },
  {
   "cell_type": "code",
   "execution_count": 58,
   "id": "21f673f3",
   "metadata": {},
   "outputs": [
    {
     "data": {
      "text/html": [
       "<div>\n",
       "<style scoped>\n",
       "    .dataframe tbody tr th:only-of-type {\n",
       "        vertical-align: middle;\n",
       "    }\n",
       "\n",
       "    .dataframe tbody tr th {\n",
       "        vertical-align: top;\n",
       "    }\n",
       "\n",
       "    .dataframe thead th {\n",
       "        text-align: right;\n",
       "    }\n",
       "</style>\n",
       "<table border=\"1\" class=\"dataframe\">\n",
       "  <thead>\n",
       "    <tr style=\"text-align: right;\">\n",
       "      <th></th>\n",
       "      <th>Title</th>\n",
       "      <th>Ratings</th>\n",
       "      <th>Price</th>\n",
       "    </tr>\n",
       "  </thead>\n",
       "  <tbody>\n",
       "    <tr>\n",
       "      <th>0</th>\n",
       "      <td>Acer Aspire 5 Notebook Laptop, 15.6 inch FHD D...</td>\n",
       "      <td>4.5</td>\n",
       "      <td>759</td>\n",
       "    </tr>\n",
       "    <tr>\n",
       "      <th>1</th>\n",
       "      <td>Lenovo IdeaPad 3 Laptop, 14\" FHD Display, Inte...</td>\n",
       "      <td>4.5</td>\n",
       "      <td>699</td>\n",
       "    </tr>\n",
       "    <tr>\n",
       "      <th>2</th>\n",
       "      <td>Acer Nitro 5 AN515-57-79TD Gaming Laptop | Int...</td>\n",
       "      <td>4.5</td>\n",
       "      <td>798</td>\n",
       "    </tr>\n",
       "    <tr>\n",
       "      <th>3</th>\n",
       "      <td>ASUS TUF Dash 15 (2022) Gaming Laptop, 15.6\" 1...</td>\n",
       "      <td>4.4</td>\n",
       "      <td>1,149</td>\n",
       "    </tr>\n",
       "    <tr>\n",
       "      <th>4</th>\n",
       "      <td>Lenovo IdeaPad Gaming 3i - 2022 - Everyday Gam...</td>\n",
       "      <td>4.6</td>\n",
       "      <td>829</td>\n",
       "    </tr>\n",
       "    <tr>\n",
       "      <th>5</th>\n",
       "      <td>Acer Nitro 5 AN515-58-725A Gaming Laptop | Int...</td>\n",
       "      <td>5.0</td>\n",
       "      <td>1,340</td>\n",
       "    </tr>\n",
       "    <tr>\n",
       "      <th>6</th>\n",
       "      <td>HP 2022 Newest ProBook 15.6\" Business Laptop F...</td>\n",
       "      <td>4.1</td>\n",
       "      <td>1,379</td>\n",
       "    </tr>\n",
       "    <tr>\n",
       "      <th>7</th>\n",
       "      <td>2022 Newest HP 17 Laptop, 17.3 \" HD+ Touchscre...</td>\n",
       "      <td>5.0</td>\n",
       "      <td>999</td>\n",
       "    </tr>\n",
       "    <tr>\n",
       "      <th>8</th>\n",
       "      <td>Acer Aspire 5 Notebook Laptop, 15.6 inch FHD D...</td>\n",
       "      <td>4.4</td>\n",
       "      <td>759</td>\n",
       "    </tr>\n",
       "    <tr>\n",
       "      <th>9</th>\n",
       "      <td>Acer 2023 Newest Aspire Vero AV15-51-7617 Gree...</td>\n",
       "      <td>4.5</td>\n",
       "      <td>699</td>\n",
       "    </tr>\n",
       "  </tbody>\n",
       "</table>\n",
       "</div>"
      ],
      "text/plain": [
       "                                               Title Ratings  Price\n",
       "0  Acer Aspire 5 Notebook Laptop, 15.6 inch FHD D...     4.5    759\n",
       "1  Lenovo IdeaPad 3 Laptop, 14\" FHD Display, Inte...     4.5    699\n",
       "2  Acer Nitro 5 AN515-57-79TD Gaming Laptop | Int...     4.5    798\n",
       "3  ASUS TUF Dash 15 (2022) Gaming Laptop, 15.6\" 1...     4.4  1,149\n",
       "4  Lenovo IdeaPad Gaming 3i - 2022 - Everyday Gam...     4.6    829\n",
       "5  Acer Nitro 5 AN515-58-725A Gaming Laptop | Int...     5.0  1,340\n",
       "6  HP 2022 Newest ProBook 15.6\" Business Laptop F...     4.1  1,379\n",
       "7  2022 Newest HP 17 Laptop, 17.3 \" HD+ Touchscre...     5.0    999\n",
       "8  Acer Aspire 5 Notebook Laptop, 15.6 inch FHD D...     4.4    759\n",
       "9  Acer 2023 Newest Aspire Vero AV15-51-7617 Gree...     4.5    699"
      ]
     },
     "execution_count": 58,
     "metadata": {},
     "output_type": "execute_result"
    }
   ],
   "source": [
    "df=pd.DataFrame({'Title':title,'Ratings':rating,'Price':price})\n",
    "df"
   ]
  },
  {
   "cell_type": "markdown",
   "id": "cc9994a9",
   "metadata": {},
   "source": [
    "----"
   ]
  },
  {
   "cell_type": "markdown",
   "id": "e4bf4b24",
   "metadata": {},
   "source": [
    "Q8: Write a python program to scrape data for Top 1000 Quotes of All Time.\n",
    "The above task will be done in following steps:\n",
    "1. First get the webpagehttps://www.azquotes.com/\n",
    "2. Click on TopQuotes\n",
    "3. Than scrap a) Quote b) Author c) Type Of Quotes"
   ]
  },
  {
   "cell_type": "code",
   "execution_count": 298,
   "id": "02dfd2bd",
   "metadata": {},
   "outputs": [],
   "source": [
    "#1. First get the webpagehttps://www.azquotes.com/\n",
    "\n",
    "driver.get('https://www.azquotes.com/')"
   ]
  },
  {
   "cell_type": "code",
   "execution_count": null,
   "id": "183bd464",
   "metadata": {},
   "outputs": [],
   "source": [
    "# Click on TopQuotes"
   ]
  },
  {
   "cell_type": "code",
   "execution_count": 299,
   "id": "685a0128",
   "metadata": {},
   "outputs": [],
   "source": [
    "Top_Quotes_button =driver.find_element(By.XPATH,'/html/body/div[1]/div[1]/div[1]/div/div[3]/ul/li[5]/a')\n",
    "Top_Quotes_button.click()"
   ]
  },
  {
   "cell_type": "code",
   "execution_count": null,
   "id": "31af57cf",
   "metadata": {},
   "outputs": [],
   "source": [
    "#3. Then scrap a) Quote b) Author c) Type Of Quotes"
   ]
  },
  {
   "cell_type": "code",
   "execution_count": null,
   "id": "a148fe8a",
   "metadata": {},
   "outputs": [],
   "source": [
    "#a) Quote"
   ]
  },
  {
   "cell_type": "code",
   "execution_count": 300,
   "id": "03178228",
   "metadata": {},
   "outputs": [],
   "source": [
    "Quotes_list=[]\n",
    "Authors_list=[]\n",
    "Type_of_Quotes_list=[]"
   ]
  },
  {
   "cell_type": "code",
   "execution_count": 301,
   "id": "878bb4ee",
   "metadata": {},
   "outputs": [],
   "source": [
    "Quotes_list_tags = driver.find_elements(By.XPATH,'//a[@class=\"title\"]')\n",
    "for i in Quotes_list_tags[0:10]:\n",
    "    quotes=i.text\n",
    "    Quotes_list.append(quotes)\n",
    "\n",
    "Authors_list_tags = driver.find_elements(By.XPATH,'//div[@class=\"author\"]')\n",
    "for i in Authors_list_tags[0:10]:\n",
    "    authors=i.text\n",
    "    Authors_list.append(authors)\n",
    "\n",
    "Type_of_Quotes_list_tags=driver.find_elements(By.XPATH,'//div[@class=\"tags\"]')\n",
    "for i in Type_of_Quotes_list_tags[0:10]:\n",
    "    quotes_type=i.text\n",
    "    Type_of_Quotes_list.append(quotes_type)\n",
    "\n",
    "    "
   ]
  },
  {
   "cell_type": "code",
   "execution_count": 302,
   "id": "33743430",
   "metadata": {},
   "outputs": [
    {
     "name": "stdout",
     "output_type": "stream",
     "text": [
      "10 10 10\n"
     ]
    }
   ],
   "source": [
    "print(len(Quotes_list),len(Type_of_Quotes_list),len(Authors_list))"
   ]
  },
  {
   "cell_type": "code",
   "execution_count": 303,
   "id": "c53e8cf2",
   "metadata": {},
   "outputs": [
    {
     "data": {
      "text/html": [
       "<div>\n",
       "<style scoped>\n",
       "    .dataframe tbody tr th:only-of-type {\n",
       "        vertical-align: middle;\n",
       "    }\n",
       "\n",
       "    .dataframe tbody tr th {\n",
       "        vertical-align: top;\n",
       "    }\n",
       "\n",
       "    .dataframe thead th {\n",
       "        text-align: right;\n",
       "    }\n",
       "</style>\n",
       "<table border=\"1\" class=\"dataframe\">\n",
       "  <thead>\n",
       "    <tr style=\"text-align: right;\">\n",
       "      <th></th>\n",
       "      <th>Quotes</th>\n",
       "      <th>Author</th>\n",
       "      <th>Type_of_Quotes</th>\n",
       "    </tr>\n",
       "  </thead>\n",
       "  <tbody>\n",
       "    <tr>\n",
       "      <th>0</th>\n",
       "      <td>The essence of strategy is choosing what not t...</td>\n",
       "      <td>Michael Porter</td>\n",
       "      <td>Essence, Deep Thought, Transcendentalism</td>\n",
       "    </tr>\n",
       "    <tr>\n",
       "      <th>1</th>\n",
       "      <td>One cannot and must not try to erase the past ...</td>\n",
       "      <td>Golda Meir</td>\n",
       "      <td>Inspiration, Past, Trying</td>\n",
       "    </tr>\n",
       "    <tr>\n",
       "      <th>2</th>\n",
       "      <td>Patriotism means to stand by the country. It d...</td>\n",
       "      <td>Theodore Roosevelt</td>\n",
       "      <td>Country, Peace, War</td>\n",
       "    </tr>\n",
       "    <tr>\n",
       "      <th>3</th>\n",
       "      <td>Death is something inevitable. When a man has ...</td>\n",
       "      <td>Nelson Mandela</td>\n",
       "      <td>Inspirational, Motivational, Death</td>\n",
       "    </tr>\n",
       "    <tr>\n",
       "      <th>4</th>\n",
       "      <td>You have to love a nation that celebrates its ...</td>\n",
       "      <td>Erma Bombeck</td>\n",
       "      <td>4th Of July, Food, Patriotic</td>\n",
       "    </tr>\n",
       "    <tr>\n",
       "      <th>5</th>\n",
       "      <td>Be more concerned with your character than you...</td>\n",
       "      <td>John Wooden</td>\n",
       "      <td>Inspirational, Success, Basketball</td>\n",
       "    </tr>\n",
       "    <tr>\n",
       "      <th>6</th>\n",
       "      <td>Weak people revenge. Strong people forgive. In...</td>\n",
       "      <td>Albert Einstein</td>\n",
       "      <td>Strong, Revenge, Intelligent</td>\n",
       "    </tr>\n",
       "    <tr>\n",
       "      <th>7</th>\n",
       "      <td>A mind is like a parachute. It doesn't work if...</td>\n",
       "      <td>Frank Zappa</td>\n",
       "      <td>Inspirational, Teacher, Religious</td>\n",
       "    </tr>\n",
       "    <tr>\n",
       "      <th>8</th>\n",
       "      <td>Never be afraid to raise your voice for honest...</td>\n",
       "      <td>William Faulkner</td>\n",
       "      <td>Truth, Honesty, Lying</td>\n",
       "    </tr>\n",
       "    <tr>\n",
       "      <th>9</th>\n",
       "      <td>There are three kinds of men. The one that lea...</td>\n",
       "      <td>Will Rogers</td>\n",
       "      <td>Funny, Reading, Learning</td>\n",
       "    </tr>\n",
       "  </tbody>\n",
       "</table>\n",
       "</div>"
      ],
      "text/plain": [
       "                                              Quotes              Author  \\\n",
       "0  The essence of strategy is choosing what not t...      Michael Porter   \n",
       "1  One cannot and must not try to erase the past ...          Golda Meir   \n",
       "2  Patriotism means to stand by the country. It d...  Theodore Roosevelt   \n",
       "3  Death is something inevitable. When a man has ...      Nelson Mandela   \n",
       "4  You have to love a nation that celebrates its ...        Erma Bombeck   \n",
       "5  Be more concerned with your character than you...         John Wooden   \n",
       "6  Weak people revenge. Strong people forgive. In...     Albert Einstein   \n",
       "7  A mind is like a parachute. It doesn't work if...         Frank Zappa   \n",
       "8  Never be afraid to raise your voice for honest...    William Faulkner   \n",
       "9  There are three kinds of men. The one that lea...         Will Rogers   \n",
       "\n",
       "                             Type_of_Quotes  \n",
       "0  Essence, Deep Thought, Transcendentalism  \n",
       "1                 Inspiration, Past, Trying  \n",
       "2                       Country, Peace, War  \n",
       "3        Inspirational, Motivational, Death  \n",
       "4              4th Of July, Food, Patriotic  \n",
       "5        Inspirational, Success, Basketball  \n",
       "6              Strong, Revenge, Intelligent  \n",
       "7         Inspirational, Teacher, Religious  \n",
       "8                     Truth, Honesty, Lying  \n",
       "9                  Funny, Reading, Learning  "
      ]
     },
     "execution_count": 303,
     "metadata": {},
     "output_type": "execute_result"
    }
   ],
   "source": [
    "# Creating a dataframe of the scraped items\n",
    "df=pd.DataFrame({'Quotes':Quotes_list,'Author':Authors_list,'Type_of_Quotes':Type_of_Quotes_list})\n",
    "df"
   ]
  },
  {
   "cell_type": "markdown",
   "id": "45ad0a42",
   "metadata": {},
   "source": [
    "----"
   ]
  },
  {
   "cell_type": "markdown",
   "id": "bfb5bf27",
   "metadata": {},
   "source": [
    "Q9: Write a python program to display list of respected former Prime Ministers of India(i.e. Name, Born-Dead, \n",
    "Term of office, Remarks) from https://www.jagranjosh.com/.\n",
    "This task will be done in following steps:\n",
    "1. First get the webpagehttps://www.jagranjosh.com/\n",
    "2. Then You have to click on the GK option\n",
    "3. Then click on the List of all Prime Ministers of India\n",
    "4. Then scrap the mentioned data and make theDataFrame."
   ]
  },
  {
   "cell_type": "code",
   "execution_count": 7,
   "id": "f0041ac7",
   "metadata": {},
   "outputs": [],
   "source": [
    "driver.get('https://www.jagranjosh.com/')"
   ]
  },
  {
   "cell_type": "code",
   "execution_count": 8,
   "id": "f189a2a5",
   "metadata": {},
   "outputs": [],
   "source": [
    "GK_button =driver.find_element(By.XPATH,'/html/body/div/div[1]/div/div[1]/div/div[6]/div/div[1]/header/div[3]/ul/li[9]/a')\n",
    "GK_button.click()"
   ]
  },
  {
   "cell_type": "code",
   "execution_count": 9,
   "id": "cb02056b",
   "metadata": {},
   "outputs": [],
   "source": [
    "PM_List =driver.find_element(By.XPATH,'/html/body/div[1]/div/div/div[2]/div/div[10]/div/div/ul/li[2]/a')\n",
    "PM_List.click()"
   ]
  },
  {
   "cell_type": "code",
   "execution_count": 10,
   "id": "28057052",
   "metadata": {},
   "outputs": [],
   "source": [
    "Name=[]\n",
    "Born_Dead=[]\n",
    "Term_Office=[]\n",
    "Remark=[]"
   ]
  },
  {
   "cell_type": "code",
   "execution_count": 11,
   "id": "b956d8d6",
   "metadata": {},
   "outputs": [
    {
     "data": {
      "text/plain": [
       "['Jawahar Lal Nehru', 'Gulzarilal Nanda (Acting)', 'Lal Bahadur Shastri']"
      ]
     },
     "execution_count": 11,
     "metadata": {},
     "output_type": "execute_result"
    }
   ],
   "source": [
    "Name_tags=driver.find_elements(By.XPATH,'//div[@class=\"table-box\"]/table/tbody/tr/td[2]/p')\n",
    "for i in Name_tags:\n",
    "    name=i.text\n",
    "    Name.append(name)\n",
    "Name[0:3]"
   ]
  },
  {
   "cell_type": "code",
   "execution_count": 12,
   "id": "94d0e923",
   "metadata": {},
   "outputs": [
    {
     "data": {
      "text/plain": [
       "['(1889–1964)', '(1898-1998)', '(1904–1966)']"
      ]
     },
     "execution_count": 12,
     "metadata": {},
     "output_type": "execute_result"
    }
   ],
   "source": [
    "Born_Dead_tags=driver.find_elements(By.XPATH,'//div[@class=\"table-box\"]/table/tbody/tr/td[3]/p')\n",
    "for i in Born_Dead_tags:\n",
    "    born_dead=i.text\n",
    "    Born_Dead.append(born_dead)\n",
    "Born_Dead[0:3]"
   ]
  },
  {
   "cell_type": "code",
   "execution_count": 13,
   "id": "cae140ba",
   "metadata": {},
   "outputs": [
    {
     "data": {
      "text/plain": [
       "['15 August 1947 to 27 May 1964',\n",
       " '16 years, 286 days',\n",
       " '27 May 1964 to 9 June 1964,']"
      ]
     },
     "execution_count": 13,
     "metadata": {},
     "output_type": "execute_result"
    }
   ],
   "source": [
    "Term_Office_tags=driver.find_elements(By.XPATH,'//div[@class=\"table-box\"]/table/tbody/tr/td[4]/p')\n",
    "for i in Term_Office_tags:\n",
    "    term=i.text\n",
    "    Term_Office.append(term)\n",
    "Term_Office[0:3]"
   ]
  },
  {
   "cell_type": "code",
   "execution_count": 14,
   "id": "d16684ab",
   "metadata": {},
   "outputs": [
    {
     "data": {
      "text/plain": [
       "['The first prime minister of India and the longest-serving PM of India, the first to die in office.',\n",
       " 'First acting PM of India',\n",
       " \"He has given the slogan of 'Jai Jawan Jai Kisan' during the Indo-Pak war of 1965\"]"
      ]
     },
     "execution_count": 14,
     "metadata": {},
     "output_type": "execute_result"
    }
   ],
   "source": [
    "Remark_tags=driver.find_elements(By.XPATH,'//div[@class=\"table-box\"]/table/tbody/tr/td[5]/p')\n",
    "for i in Remark_tags:\n",
    "    remark=i.text\n",
    "    Remark.append(remark)\n",
    "Remark[0:3]"
   ]
  },
  {
   "cell_type": "code",
   "execution_count": 136,
   "id": "a2da127b",
   "metadata": {},
   "outputs": [
    {
     "name": "stdout",
     "output_type": "stream",
     "text": [
      "54 54 71 36\n"
     ]
    }
   ],
   "source": [
    "print(len(Name),len(Born_Dead),len(Term_Office),len(Remark))"
   ]
  },
  {
   "cell_type": "code",
   "execution_count": 17,
   "id": "35788394",
   "metadata": {},
   "outputs": [
    {
     "data": {
      "text/html": [
       "<div>\n",
       "<style scoped>\n",
       "    .dataframe tbody tr th:only-of-type {\n",
       "        vertical-align: middle;\n",
       "    }\n",
       "\n",
       "    .dataframe tbody tr th {\n",
       "        vertical-align: top;\n",
       "    }\n",
       "\n",
       "    .dataframe thead th {\n",
       "        text-align: right;\n",
       "    }\n",
       "</style>\n",
       "<table border=\"1\" class=\"dataframe\">\n",
       "  <thead>\n",
       "    <tr style=\"text-align: right;\">\n",
       "      <th></th>\n",
       "      <th>Name</th>\n",
       "      <th>Born_Dead</th>\n",
       "      <th>Term_Office</th>\n",
       "      <th>Remark</th>\n",
       "    </tr>\n",
       "  </thead>\n",
       "  <tbody>\n",
       "    <tr>\n",
       "      <th>0</th>\n",
       "      <td>Jawahar Lal Nehru</td>\n",
       "      <td>(1889–1964)</td>\n",
       "      <td>15 August 1947 to 27 May 1964</td>\n",
       "      <td>The first prime minister of India and the long...</td>\n",
       "    </tr>\n",
       "    <tr>\n",
       "      <th>1</th>\n",
       "      <td>Gulzarilal Nanda (Acting)</td>\n",
       "      <td>(1898-1998)</td>\n",
       "      <td>16 years, 286 days</td>\n",
       "      <td>First acting PM of India</td>\n",
       "    </tr>\n",
       "    <tr>\n",
       "      <th>2</th>\n",
       "      <td>Lal Bahadur Shastri</td>\n",
       "      <td>(1904–1966)</td>\n",
       "      <td>27 May 1964 to 9 June 1964,</td>\n",
       "      <td>He has given the slogan of 'Jai Jawan Jai Kisa...</td>\n",
       "    </tr>\n",
       "    <tr>\n",
       "      <th>3</th>\n",
       "      <td>Gulzari Lal Nanda  (Acting)</td>\n",
       "      <td>(1898-1998)</td>\n",
       "      <td>13 days</td>\n",
       "      <td>-</td>\n",
       "    </tr>\n",
       "    <tr>\n",
       "      <th>4</th>\n",
       "      <td>Indira Gandhi</td>\n",
       "      <td>(1917–1984)</td>\n",
       "      <td>9 June 1964 to 11 January 1966</td>\n",
       "      <td>First female Prime Minister of India</td>\n",
       "    </tr>\n",
       "    <tr>\n",
       "      <th>5</th>\n",
       "      <td>Morarji Desai</td>\n",
       "      <td>(1896–1995)</td>\n",
       "      <td>1 year, 216 days</td>\n",
       "      <td>Oldest to become PM (81 years old) and first t...</td>\n",
       "    </tr>\n",
       "    <tr>\n",
       "      <th>6</th>\n",
       "      <td>Charan Singh</td>\n",
       "      <td>(1902–1987)</td>\n",
       "      <td>11 January 1966 to 24 January 1966</td>\n",
       "      <td>Only PM who did not face the Parliament</td>\n",
       "    </tr>\n",
       "    <tr>\n",
       "      <th>7</th>\n",
       "      <td>Indira Gandhi</td>\n",
       "      <td>(1917–1984)</td>\n",
       "      <td>13 days</td>\n",
       "      <td>The first lady who served as PM for the second...</td>\n",
       "    </tr>\n",
       "    <tr>\n",
       "      <th>8</th>\n",
       "      <td>Rajiv Gandhi</td>\n",
       "      <td>(1944–1991)</td>\n",
       "      <td>24 January 1966 to 24 March 1977</td>\n",
       "      <td>Youngest to become PM (40 years old)</td>\n",
       "    </tr>\n",
       "    <tr>\n",
       "      <th>9</th>\n",
       "      <td>V. P. Singh</td>\n",
       "      <td>(1931–2008)</td>\n",
       "      <td>11 years, 59 days</td>\n",
       "      <td>First PM to step down after a vote of no confi...</td>\n",
       "    </tr>\n",
       "  </tbody>\n",
       "</table>\n",
       "</div>"
      ],
      "text/plain": [
       "                          Name    Born_Dead  \\\n",
       "0            Jawahar Lal Nehru  (1889–1964)   \n",
       "1    Gulzarilal Nanda (Acting)  (1898-1998)   \n",
       "2          Lal Bahadur Shastri  (1904–1966)   \n",
       "3  Gulzari Lal Nanda  (Acting)  (1898-1998)   \n",
       "4                Indira Gandhi  (1917–1984)   \n",
       "5                Morarji Desai  (1896–1995)   \n",
       "6                 Charan Singh  (1902–1987)   \n",
       "7                Indira Gandhi  (1917–1984)   \n",
       "8                 Rajiv Gandhi  (1944–1991)   \n",
       "9                  V. P. Singh  (1931–2008)   \n",
       "\n",
       "                          Term_Office  \\\n",
       "0       15 August 1947 to 27 May 1964   \n",
       "1                  16 years, 286 days   \n",
       "2         27 May 1964 to 9 June 1964,   \n",
       "3                             13 days   \n",
       "4      9 June 1964 to 11 January 1966   \n",
       "5                    1 year, 216 days   \n",
       "6  11 January 1966 to 24 January 1966   \n",
       "7                             13 days   \n",
       "8    24 January 1966 to 24 March 1977   \n",
       "9                   11 years, 59 days   \n",
       "\n",
       "                                              Remark  \n",
       "0  The first prime minister of India and the long...  \n",
       "1                           First acting PM of India  \n",
       "2  He has given the slogan of 'Jai Jawan Jai Kisa...  \n",
       "3                                                  -  \n",
       "4               First female Prime Minister of India  \n",
       "5  Oldest to become PM (81 years old) and first t...  \n",
       "6            Only PM who did not face the Parliament  \n",
       "7  The first lady who served as PM for the second...  \n",
       "8               Youngest to become PM (40 years old)  \n",
       "9  First PM to step down after a vote of no confi...  "
      ]
     },
     "execution_count": 17,
     "metadata": {},
     "output_type": "execute_result"
    }
   ],
   "source": [
    "df=pd.DataFrame({'Name':Name[0:10],'Born_Dead':Born_Dead[0:10],'Term_Office':Term_Office[0:10],'Remark':Remark[0:10]})\n",
    "df"
   ]
  },
  {
   "cell_type": "markdown",
   "id": "73ff90a1",
   "metadata": {},
   "source": [
    "---"
   ]
  },
  {
   "cell_type": "markdown",
   "id": "3b6a83f6",
   "metadata": {},
   "source": [
    "Q10: Write a python program to display list of 50 Most expensive cars in the world (i.e. \n",
    "Car name and Price) from https://www.motor1.com/\n",
    "This task will be done in following steps:\n",
    "1. First get the webpagehttps://www.motor1.com/\n",
    "2. Then You have to click on the List option from Dropdown menu on leftside.\n",
    "3. Then click on 50 most expensive carsin the world..\n",
    "4. Then scrap the mentioned data and make the dataframe"
   ]
  },
  {
   "cell_type": "code",
   "execution_count": 307,
   "id": "eb53d580",
   "metadata": {},
   "outputs": [],
   "source": [
    "driver.get('https://www.motor1.com/')"
   ]
  },
  {
   "cell_type": "code",
   "execution_count": 308,
   "id": "b5ac6996",
   "metadata": {},
   "outputs": [],
   "source": [
    "Dragdown =driver.find_element(By.CLASS_NAME,'m1-hamburger-button')\n",
    "Dragdown.click()"
   ]
  },
  {
   "cell_type": "code",
   "execution_count": 309,
   "id": "f7c29d12",
   "metadata": {},
   "outputs": [],
   "source": [
    "List=driver.find_element(By.XPATH,'/html/body/div[4]/div[1]/div[3]/ul/li[5]/a')\n",
    "List.click()"
   ]
  },
  {
   "cell_type": "code",
   "execution_count": 312,
   "id": "20a5e82f",
   "metadata": {},
   "outputs": [],
   "source": [
    "expcars=driver.find_element(By.XPATH,'/html/body/div[3]/div[9]/div[1]/div[1]/div/div/div[9]/div/div[1]/h3/a')\n",
    "expcars.click()"
   ]
  },
  {
   "cell_type": "code",
   "execution_count": 313,
   "id": "9d544e99",
   "metadata": {},
   "outputs": [],
   "source": [
    "Brand=[]\n",
    "Price=[]\n",
    "Description=[]"
   ]
  },
  {
   "cell_type": "code",
   "execution_count": 67,
   "id": "9d2445cf",
   "metadata": {},
   "outputs": [],
   "source": [
    "Brand_tags=driver.find_elements(By.XPATH,'//h3[@class=\"subheader\"]')\n",
    "for i in Brand_tags[0:10]:\n",
    "    brand=i.text\n",
    "    Brand.append(brand)\n",
    "    \n",
    "Price_tags=driver.find_elements(By.XPATH,'//strong[@class=\"subheader\"]')\n",
    "for i in Price_tags[0:10]:\n",
    "    price=i.text\n",
    "    Price.append(price)\n",
    "\n",
    "#Desc_tags=driver.find_elements(By.XPATH,'//p[@class=\"subheader\"]')\n",
    "#for i in Desc_tags[0:10]:\n",
    "    #desc=i.text\n",
    "    #Description.append(desc)"
   ]
  },
  {
   "cell_type": "code",
   "execution_count": 69,
   "id": "2633a275",
   "metadata": {},
   "outputs": [
    {
     "name": "stdout",
     "output_type": "stream",
     "text": [
      "40 40\n"
     ]
    }
   ],
   "source": [
    "print(len(Brand),len(Price))"
   ]
  },
  {
   "cell_type": "code",
   "execution_count": 71,
   "id": "79adbe82",
   "metadata": {},
   "outputs": [
    {
     "data": {
      "text/html": [
       "<div>\n",
       "<style scoped>\n",
       "    .dataframe tbody tr th:only-of-type {\n",
       "        vertical-align: middle;\n",
       "    }\n",
       "\n",
       "    .dataframe tbody tr th {\n",
       "        vertical-align: top;\n",
       "    }\n",
       "\n",
       "    .dataframe thead th {\n",
       "        text-align: right;\n",
       "    }\n",
       "</style>\n",
       "<table border=\"1\" class=\"dataframe\">\n",
       "  <thead>\n",
       "    <tr style=\"text-align: right;\">\n",
       "      <th></th>\n",
       "      <th>CarName</th>\n",
       "      <th>Price</th>\n",
       "    </tr>\n",
       "  </thead>\n",
       "  <tbody>\n",
       "    <tr>\n",
       "      <th>0</th>\n",
       "      <td>Soul Hub</td>\n",
       "      <td>₹1,208</td>\n",
       "    </tr>\n",
       "    <tr>\n",
       "      <th>1</th>\n",
       "      <td>Resist</td>\n",
       "      <td>₹1,399</td>\n",
       "    </tr>\n",
       "    <tr>\n",
       "      <th>2</th>\n",
       "      <td>Elligator</td>\n",
       "      <td>₹149</td>\n",
       "    </tr>\n",
       "    <tr>\n",
       "      <th>3</th>\n",
       "      <td>Fastrack</td>\n",
       "      <td>₹699</td>\n",
       "    </tr>\n",
       "    <tr>\n",
       "      <th>4</th>\n",
       "      <td>Fastrack</td>\n",
       "      <td>₹499</td>\n",
       "    </tr>\n",
       "    <tr>\n",
       "      <th>5</th>\n",
       "      <td>Elligator</td>\n",
       "      <td>₹129</td>\n",
       "    </tr>\n",
       "    <tr>\n",
       "      <th>6</th>\n",
       "      <td>SHAAH COLLECTIONS</td>\n",
       "      <td>₹185</td>\n",
       "    </tr>\n",
       "    <tr>\n",
       "      <th>7</th>\n",
       "      <td>CART2DEAL</td>\n",
       "      <td>₹1,244</td>\n",
       "    </tr>\n",
       "    <tr>\n",
       "      <th>8</th>\n",
       "      <td>Elligator</td>\n",
       "      <td>₹229</td>\n",
       "    </tr>\n",
       "    <tr>\n",
       "      <th>9</th>\n",
       "      <td>PHENOMENAL</td>\n",
       "      <td>₹129</td>\n",
       "    </tr>\n",
       "    <tr>\n",
       "      <th>10</th>\n",
       "      <td>LIZA ANGEL</td>\n",
       "      <td>₹174</td>\n",
       "    </tr>\n",
       "    <tr>\n",
       "      <th>11</th>\n",
       "      <td>CART2DEAL</td>\n",
       "      <td>₹1,244</td>\n",
       "    </tr>\n",
       "    <tr>\n",
       "      <th>12</th>\n",
       "      <td>PIRASO</td>\n",
       "      <td>₹274</td>\n",
       "    </tr>\n",
       "    <tr>\n",
       "      <th>13</th>\n",
       "      <td>SUNBEE</td>\n",
       "      <td>₹129</td>\n",
       "    </tr>\n",
       "    <tr>\n",
       "      <th>14</th>\n",
       "      <td>Fastrack</td>\n",
       "      <td>₹579</td>\n",
       "    </tr>\n",
       "    <tr>\n",
       "      <th>15</th>\n",
       "      <td>ROZZETTA CRAFT</td>\n",
       "      <td>₹649</td>\n",
       "    </tr>\n",
       "    <tr>\n",
       "      <th>16</th>\n",
       "      <td>SUNBEE</td>\n",
       "      <td>₹185</td>\n",
       "    </tr>\n",
       "    <tr>\n",
       "      <th>17</th>\n",
       "      <td>Fastrack</td>\n",
       "      <td>₹579</td>\n",
       "    </tr>\n",
       "    <tr>\n",
       "      <th>18</th>\n",
       "      <td>SUNBEE</td>\n",
       "      <td>₹129</td>\n",
       "    </tr>\n",
       "    <tr>\n",
       "      <th>19</th>\n",
       "      <td>ROZZETTA CRAFT</td>\n",
       "      <td>₹398</td>\n",
       "    </tr>\n",
       "    <tr>\n",
       "      <th>20</th>\n",
       "      <td>SRPM</td>\n",
       "      <td>₹179</td>\n",
       "    </tr>\n",
       "    <tr>\n",
       "      <th>21</th>\n",
       "      <td>VINCENT CHASE</td>\n",
       "      <td>₹599</td>\n",
       "    </tr>\n",
       "    <tr>\n",
       "      <th>22</th>\n",
       "      <td>Elligator</td>\n",
       "      <td>₹149</td>\n",
       "    </tr>\n",
       "    <tr>\n",
       "      <th>23</th>\n",
       "      <td>Silver Kartz</td>\n",
       "      <td>₹266</td>\n",
       "    </tr>\n",
       "    <tr>\n",
       "      <th>24</th>\n",
       "      <td>New Specs</td>\n",
       "      <td>₹259</td>\n",
       "    </tr>\n",
       "    <tr>\n",
       "      <th>25</th>\n",
       "      <td>PIRASO</td>\n",
       "      <td>₹182</td>\n",
       "    </tr>\n",
       "    <tr>\n",
       "      <th>26</th>\n",
       "      <td>SRPM</td>\n",
       "      <td>₹149</td>\n",
       "    </tr>\n",
       "    <tr>\n",
       "      <th>27</th>\n",
       "      <td>Soul Hub</td>\n",
       "      <td>₹1,215</td>\n",
       "    </tr>\n",
       "    <tr>\n",
       "      <th>28</th>\n",
       "      <td>SRPM</td>\n",
       "      <td>₹129</td>\n",
       "    </tr>\n",
       "    <tr>\n",
       "      <th>29</th>\n",
       "      <td>PIRASO</td>\n",
       "      <td>₹268</td>\n",
       "    </tr>\n",
       "    <tr>\n",
       "      <th>30</th>\n",
       "      <td>Elligator</td>\n",
       "      <td>₹149</td>\n",
       "    </tr>\n",
       "    <tr>\n",
       "      <th>31</th>\n",
       "      <td>ROZZETTA CRAFT</td>\n",
       "      <td>₹398</td>\n",
       "    </tr>\n",
       "    <tr>\n",
       "      <th>32</th>\n",
       "      <td>EYELLUSION</td>\n",
       "      <td>₹281</td>\n",
       "    </tr>\n",
       "    <tr>\n",
       "      <th>33</th>\n",
       "      <td>Satyam Kraft</td>\n",
       "      <td>₹299</td>\n",
       "    </tr>\n",
       "    <tr>\n",
       "      <th>34</th>\n",
       "      <td>LIZA ANGEL</td>\n",
       "      <td>₹129</td>\n",
       "    </tr>\n",
       "    <tr>\n",
       "      <th>35</th>\n",
       "      <td>Dervin</td>\n",
       "      <td>₹224</td>\n",
       "    </tr>\n",
       "    <tr>\n",
       "      <th>36</th>\n",
       "      <td>LIZA ANGEL</td>\n",
       "      <td>₹129</td>\n",
       "    </tr>\n",
       "    <tr>\n",
       "      <th>37</th>\n",
       "      <td>PIRASO</td>\n",
       "      <td>₹270</td>\n",
       "    </tr>\n",
       "    <tr>\n",
       "      <th>38</th>\n",
       "      <td>SUNBEE</td>\n",
       "      <td>₹273</td>\n",
       "    </tr>\n",
       "    <tr>\n",
       "      <th>39</th>\n",
       "      <td>ROZZETTA CRAFT</td>\n",
       "      <td>₹499</td>\n",
       "    </tr>\n",
       "  </tbody>\n",
       "</table>\n",
       "</div>"
      ],
      "text/plain": [
       "              CarName   Price\n",
       "0            Soul Hub  ₹1,208\n",
       "1              Resist  ₹1,399\n",
       "2           Elligator    ₹149\n",
       "3            Fastrack    ₹699\n",
       "4            Fastrack    ₹499\n",
       "5           Elligator    ₹129\n",
       "6   SHAAH COLLECTIONS    ₹185\n",
       "7           CART2DEAL  ₹1,244\n",
       "8           Elligator    ₹229\n",
       "9          PHENOMENAL    ₹129\n",
       "10         LIZA ANGEL    ₹174\n",
       "11          CART2DEAL  ₹1,244\n",
       "12             PIRASO    ₹274\n",
       "13             SUNBEE    ₹129\n",
       "14           Fastrack    ₹579\n",
       "15     ROZZETTA CRAFT    ₹649\n",
       "16             SUNBEE    ₹185\n",
       "17           Fastrack    ₹579\n",
       "18             SUNBEE    ₹129\n",
       "19     ROZZETTA CRAFT    ₹398\n",
       "20               SRPM    ₹179\n",
       "21      VINCENT CHASE    ₹599\n",
       "22          Elligator    ₹149\n",
       "23       Silver Kartz    ₹266\n",
       "24          New Specs    ₹259\n",
       "25             PIRASO    ₹182\n",
       "26               SRPM    ₹149\n",
       "27           Soul Hub  ₹1,215\n",
       "28               SRPM    ₹129\n",
       "29             PIRASO    ₹268\n",
       "30          Elligator    ₹149\n",
       "31     ROZZETTA CRAFT    ₹398\n",
       "32         EYELLUSION    ₹281\n",
       "33       Satyam Kraft    ₹299\n",
       "34         LIZA ANGEL    ₹129\n",
       "35             Dervin    ₹224\n",
       "36         LIZA ANGEL    ₹129\n",
       "37             PIRASO    ₹270\n",
       "38             SUNBEE    ₹273\n",
       "39     ROZZETTA CRAFT    ₹499"
      ]
     },
     "execution_count": 71,
     "metadata": {},
     "output_type": "execute_result"
    }
   ],
   "source": [
    "df=pd.DataFrame({'CarName':Brand,'Price':Price})\n",
    "df"
   ]
  },
  {
   "cell_type": "markdown",
   "id": "12aa013a",
   "metadata": {},
   "source": [
    "-----"
   ]
  },
  {
   "cell_type": "markdown",
   "id": "2b46c4a3",
   "metadata": {},
   "source": [
    "#                                                  *** The End ***"
   ]
  },
  {
   "cell_type": "code",
   "execution_count": null,
   "id": "88649156",
   "metadata": {},
   "outputs": [],
   "source": []
  }
 ],
 "metadata": {
  "kernelspec": {
   "display_name": "Python 3 (ipykernel)",
   "language": "python",
   "name": "python3"
  },
  "language_info": {
   "codemirror_mode": {
    "name": "ipython",
    "version": 3
   },
   "file_extension": ".py",
   "mimetype": "text/x-python",
   "name": "python",
   "nbconvert_exporter": "python",
   "pygments_lexer": "ipython3",
   "version": "3.9.12"
  }
 },
 "nbformat": 4,
 "nbformat_minor": 5
}
