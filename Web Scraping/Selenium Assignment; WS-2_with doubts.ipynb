{
 "cells": [
  {
   "cell_type": "code",
   "execution_count": 230,
   "id": "08689a19",
   "metadata": {},
   "outputs": [
    {
     "name": "stdout",
     "output_type": "stream",
     "text": [
      "Requirement already satisfied: selenium in c:\\users\\suven\\anaconda3\\lib\\site-packages (4.7.2)\n",
      "Requirement already satisfied: trio-websocket~=0.9 in c:\\users\\suven\\anaconda3\\lib\\site-packages (from selenium) (0.9.2)\n",
      "Requirement already satisfied: urllib3[socks]~=1.26 in c:\\users\\suven\\anaconda3\\lib\\site-packages (from selenium) (1.26.9)\n",
      "Requirement already satisfied: certifi>=2021.10.8 in c:\\users\\suven\\anaconda3\\lib\\site-packages (from selenium) (2021.10.8)\n",
      "Requirement already satisfied: trio~=0.17 in c:\\users\\suven\\anaconda3\\lib\\site-packages (from selenium) (0.22.0)\n",
      "Requirement already satisfied: sortedcontainers in c:\\users\\suven\\anaconda3\\lib\\site-packages (from trio~=0.17->selenium) (2.4.0)\n",
      "Requirement already satisfied: sniffio in c:\\users\\suven\\anaconda3\\lib\\site-packages (from trio~=0.17->selenium) (1.2.0)\n",
      "Requirement already satisfied: idna in c:\\users\\suven\\anaconda3\\lib\\site-packages (from trio~=0.17->selenium) (3.3)\n",
      "Requirement already satisfied: attrs>=19.2.0 in c:\\users\\suven\\anaconda3\\lib\\site-packages (from trio~=0.17->selenium) (21.4.0)\n",
      "Requirement already satisfied: exceptiongroup>=1.0.0rc9 in c:\\users\\suven\\anaconda3\\lib\\site-packages (from trio~=0.17->selenium) (1.1.0)\n",
      "Requirement already satisfied: outcome in c:\\users\\suven\\anaconda3\\lib\\site-packages (from trio~=0.17->selenium) (1.2.0)\n",
      "Requirement already satisfied: async-generator>=1.9 in c:\\users\\suven\\anaconda3\\lib\\site-packages (from trio~=0.17->selenium) (1.10)\n",
      "Requirement already satisfied: cffi>=1.14 in c:\\users\\suven\\anaconda3\\lib\\site-packages (from trio~=0.17->selenium) (1.15.0)\n",
      "Requirement already satisfied: pycparser in c:\\users\\suven\\anaconda3\\lib\\site-packages (from cffi>=1.14->trio~=0.17->selenium) (2.21)\n",
      "Requirement already satisfied: wsproto>=0.14 in c:\\users\\suven\\anaconda3\\lib\\site-packages (from trio-websocket~=0.9->selenium) (1.2.0)\n",
      "Requirement already satisfied: PySocks!=1.5.7,<2.0,>=1.5.6 in c:\\users\\suven\\anaconda3\\lib\\site-packages (from urllib3[socks]~=1.26->selenium) (1.7.1)\n",
      "Requirement already satisfied: h11<1,>=0.9.0 in c:\\users\\suven\\anaconda3\\lib\\site-packages (from wsproto>=0.14->trio-websocket~=0.9->selenium) (0.14.0)\n"
     ]
    }
   ],
   "source": [
    "!pip install selenium"
   ]
  },
  {
   "cell_type": "code",
   "execution_count": 231,
   "id": "a169b0f3",
   "metadata": {},
   "outputs": [],
   "source": [
    "import selenium\n",
    "import pandas as pd\n",
    "from selenium import webdriver\n",
    "import warnings\n",
    "warnings.filterwarnings('ignore')\n",
    "from selenium.webdriver.common.by import By\n",
    "import time"
   ]
  },
  {
   "cell_type": "code",
   "execution_count": 232,
   "id": "d5e021b1",
   "metadata": {},
   "outputs": [],
   "source": [
    "# Connecting to the webdriver\n",
    "driver = webdriver.Chrome(r\"C:\\Users\\suven\\OneDrive\\Desktop\\Internship\\Web Scraping\\Selenium\\chromedriver.exe\")"
   ]
  },
  {
   "cell_type": "code",
   "execution_count": null,
   "id": "e3ea31de",
   "metadata": {},
   "outputs": [],
   "source": [
    "driver = webdriver.Chrome(r\"chromedriver.exe\")"
   ]
  },
  {
   "cell_type": "markdown",
   "id": "1b87afc5",
   "metadata": {},
   "source": [
    "## ASSIGNMENT"
   ]
  },
  {
   "cell_type": "markdown",
   "id": "1746f01a",
   "metadata": {},
   "source": [
    "Q1: Write a python program to scrape data for “Data Analyst” Job position in “Bangalore” location. You \n",
    "have to scrape the job-title, job-location, company_name, experience_required. You have to scrape first 10 \n",
    "jobs data.\n",
    "This task will be done in following steps:\n",
    "1. First get the webpage https://www.naukri.com/\n",
    "2. Enter “Data Analyst” in “Skill, Designations, Companies” field and enter “Bangalore” in “enter the \n",
    "location” field.\n",
    "3. Then click the searchbutton.\n",
    "4. Then scrape the data for the first 10 jobs results you get.\n",
    "5. Finally create a dataframe of the scraped data.\n",
    "Note: All of the above steps have to be done in code. No step is to be done manually"
   ]
  },
  {
   "cell_type": "code",
   "execution_count": 21,
   "id": "bc3fa21a",
   "metadata": {},
   "outputs": [],
   "source": [
    "#1. First get the webpage https://www.naukri.com/\n",
    "driver.get('https://www.naukri.com/')"
   ]
  },
  {
   "cell_type": "code",
   "execution_count": 24,
   "id": "7182b691",
   "metadata": {},
   "outputs": [],
   "source": [
    "#2.Enter “Data Analyst” in “Skill, Designations, Companies” field and enter “Bangalore” in “enter the location” field.\n",
    "designation = driver.find_element(By.CLASS_NAME,'suggestor-input')\n",
    "designation.send_keys('Data Analyst')"
   ]
  },
  {
   "cell_type": "code",
   "execution_count": 25,
   "id": "a54be08f",
   "metadata": {},
   "outputs": [],
   "source": [
    "location = driver.find_element(By.XPATH,'/html/body/div[1]/div[6]/div/div/div[5]/div/div/div/input')\n",
    "location.send_keys('Bangalore')"
   ]
  },
  {
   "cell_type": "code",
   "execution_count": null,
   "id": "7916276c",
   "metadata": {},
   "outputs": [],
   "source": [
    "#3.Then click the searchbutton."
   ]
  },
  {
   "cell_type": "code",
   "execution_count": 26,
   "id": "cdf3a14b",
   "metadata": {},
   "outputs": [],
   "source": [
    "search = driver.find_element(By.CLASS_NAME,'qsbSubmit')\n",
    "search.click()"
   ]
  },
  {
   "cell_type": "code",
   "execution_count": null,
   "id": "5c302d17",
   "metadata": {},
   "outputs": [],
   "source": [
    "#4.Then scrape the data for the first 10 jobs results you get."
   ]
  },
  {
   "cell_type": "code",
   "execution_count": 34,
   "id": "d049ff53",
   "metadata": {},
   "outputs": [],
   "source": [
    "job_title=[]\n",
    "job_location=[]\n",
    "company_name=[]\n",
    "experience_required=[]"
   ]
  },
  {
   "cell_type": "code",
   "execution_count": 35,
   "id": "45ee71ab",
   "metadata": {},
   "outputs": [],
   "source": [
    "#Scraping job title from the given page\n",
    "title_tags=driver.find_elements(By.XPATH,'//a[@class=\"title ellipsis\"]')\n",
    "for i in title_tags[0:10]:\n",
    "    title=i.text\n",
    "    job_title.append(title)\n",
    "    \n",
    "location_tags=driver.find_elements(By.XPATH,'//span[@class=\"ellipsis fleft locWdth\"]')\n",
    "for i in location_tags[0:10]:\n",
    "    location=i.text\n",
    "    job_location.append(location)\n",
    "    \n",
    "company_tags=driver.find_elements(By.XPATH,'//a[@class=\"subTitle ellipsis fleft\"]')\n",
    "for i in company_tags[0:10]:\n",
    "    company=i.text\n",
    "    company_name.append(company)\n",
    "\n",
    "experience_tags=driver.find_elements(By.XPATH,'//span[@class=\"ellipsis fleft expwdth\"]')\n",
    "for i in company_tags[0:10]:\n",
    "    experience=i.text\n",
    "    experience_required.append(experience)"
   ]
  },
  {
   "cell_type": "code",
   "execution_count": 36,
   "id": "a88c0ed2",
   "metadata": {},
   "outputs": [
    {
     "name": "stdout",
     "output_type": "stream",
     "text": [
      "10 10 10 10\n"
     ]
    }
   ],
   "source": [
    "print(len(job_title),len(job_location),len(company_name),len(experience_required))"
   ]
  },
  {
   "cell_type": "code",
   "execution_count": null,
   "id": "e4277019",
   "metadata": {},
   "outputs": [],
   "source": [
    "5. #Finally create a dataframe of the scraped data. Note: All of the above steps have to be done in code.\n",
    "No step is to be done manually"
   ]
  },
  {
   "cell_type": "code",
   "execution_count": 37,
   "id": "63981f72",
   "metadata": {},
   "outputs": [
    {
     "data": {
      "text/html": [
       "<div>\n",
       "<style scoped>\n",
       "    .dataframe tbody tr th:only-of-type {\n",
       "        vertical-align: middle;\n",
       "    }\n",
       "\n",
       "    .dataframe tbody tr th {\n",
       "        vertical-align: top;\n",
       "    }\n",
       "\n",
       "    .dataframe thead th {\n",
       "        text-align: right;\n",
       "    }\n",
       "</style>\n",
       "<table border=\"1\" class=\"dataframe\">\n",
       "  <thead>\n",
       "    <tr style=\"text-align: right;\">\n",
       "      <th></th>\n",
       "      <th>Title</th>\n",
       "      <th>location</th>\n",
       "      <th>company</th>\n",
       "      <th>experience</th>\n",
       "    </tr>\n",
       "  </thead>\n",
       "  <tbody>\n",
       "    <tr>\n",
       "      <th>0</th>\n",
       "      <td>Data Analyst 2</td>\n",
       "      <td>Bangalore/Bengaluru</td>\n",
       "      <td>Zynga</td>\n",
       "      <td>Zynga</td>\n",
       "    </tr>\n",
       "    <tr>\n",
       "      <th>1</th>\n",
       "      <td>Data Analyst Engineer</td>\n",
       "      <td>Bangalore/Bengaluru</td>\n",
       "      <td>Ethos Watch</td>\n",
       "      <td>Ethos Watch</td>\n",
       "    </tr>\n",
       "    <tr>\n",
       "      <th>2</th>\n",
       "      <td>Global SCM Project &amp; Data Analyst</td>\n",
       "      <td>Bangalore/Bengaluru</td>\n",
       "      <td>Aptiv</td>\n",
       "      <td>Aptiv</td>\n",
       "    </tr>\n",
       "    <tr>\n",
       "      <th>3</th>\n",
       "      <td>Market Research Data Analyst</td>\n",
       "      <td>Bengaluru</td>\n",
       "      <td>Robas Research</td>\n",
       "      <td>Robas Research</td>\n",
       "    </tr>\n",
       "    <tr>\n",
       "      <th>4</th>\n",
       "      <td>Analyst-Data Maintenance</td>\n",
       "      <td>Bangalore/Bengaluru</td>\n",
       "      <td>Accenture</td>\n",
       "      <td>Accenture</td>\n",
       "    </tr>\n",
       "    <tr>\n",
       "      <th>5</th>\n",
       "      <td>Analyst-Data Maintenance</td>\n",
       "      <td>Bangalore/Bengaluru</td>\n",
       "      <td>Accenture</td>\n",
       "      <td>Accenture</td>\n",
       "    </tr>\n",
       "    <tr>\n",
       "      <th>6</th>\n",
       "      <td>Analyst-Clinical Data Management (CDM)</td>\n",
       "      <td>Bangalore/Bengaluru</td>\n",
       "      <td>Accenture</td>\n",
       "      <td>Accenture</td>\n",
       "    </tr>\n",
       "    <tr>\n",
       "      <th>7</th>\n",
       "      <td>Senior Analyst - Murex Data Reporting - IT Con...</td>\n",
       "      <td>Bangalore/Bengaluru, Mumbai, Gurgaon/Gurugram</td>\n",
       "      <td>Megma Services</td>\n",
       "      <td>Megma Services</td>\n",
       "    </tr>\n",
       "    <tr>\n",
       "      <th>8</th>\n",
       "      <td>Data Analyst</td>\n",
       "      <td>Bangalore/Bengaluru</td>\n",
       "      <td>Shell</td>\n",
       "      <td>Shell</td>\n",
       "    </tr>\n",
       "    <tr>\n",
       "      <th>9</th>\n",
       "      <td>Data Analyst / Product Analyst / Business Analyst</td>\n",
       "      <td>Bangalore/Bengaluru, Delhi / NCR</td>\n",
       "      <td>Benchire</td>\n",
       "      <td>Benchire</td>\n",
       "    </tr>\n",
       "  </tbody>\n",
       "</table>\n",
       "</div>"
      ],
      "text/plain": [
       "                                               Title  \\\n",
       "0                                     Data Analyst 2   \n",
       "1                              Data Analyst Engineer   \n",
       "2                  Global SCM Project & Data Analyst   \n",
       "3                       Market Research Data Analyst   \n",
       "4                           Analyst-Data Maintenance   \n",
       "5                           Analyst-Data Maintenance   \n",
       "6             Analyst-Clinical Data Management (CDM)   \n",
       "7  Senior Analyst - Murex Data Reporting - IT Con...   \n",
       "8                                       Data Analyst   \n",
       "9  Data Analyst / Product Analyst / Business Analyst   \n",
       "\n",
       "                                        location         company  \\\n",
       "0                            Bangalore/Bengaluru           Zynga   \n",
       "1                            Bangalore/Bengaluru     Ethos Watch   \n",
       "2                            Bangalore/Bengaluru           Aptiv   \n",
       "3                                      Bengaluru  Robas Research   \n",
       "4                            Bangalore/Bengaluru       Accenture   \n",
       "5                            Bangalore/Bengaluru       Accenture   \n",
       "6                            Bangalore/Bengaluru       Accenture   \n",
       "7  Bangalore/Bengaluru, Mumbai, Gurgaon/Gurugram  Megma Services   \n",
       "8                            Bangalore/Bengaluru           Shell   \n",
       "9               Bangalore/Bengaluru, Delhi / NCR        Benchire   \n",
       "\n",
       "       experience  \n",
       "0           Zynga  \n",
       "1     Ethos Watch  \n",
       "2           Aptiv  \n",
       "3  Robas Research  \n",
       "4       Accenture  \n",
       "5       Accenture  \n",
       "6       Accenture  \n",
       "7  Megma Services  \n",
       "8           Shell  \n",
       "9        Benchire  "
      ]
     },
     "execution_count": 37,
     "metadata": {},
     "output_type": "execute_result"
    }
   ],
   "source": [
    "df=pd.DataFrame({'Title':job_title,'location':job_location,'company':company_name,'experience':experience_required})\n",
    "df"
   ]
  },
  {
   "cell_type": "markdown",
   "id": "51bae42b",
   "metadata": {},
   "source": [
    "-------------"
   ]
  },
  {
   "cell_type": "markdown",
   "id": "67cb75df",
   "metadata": {},
   "source": [
    "Q2:Write a python program to scrape data for “Data Scientist” Job position in “Bangalore” location. You \n",
    "have to scrape the job-title, job-location, company_name. You have to scrape first 10 jobs data.\n",
    "This task will be done in following steps:\n",
    "1. First get the webpage https://www.naukri.com/\n",
    "2. Enter “Data Scientist” in “Skill, Designations, Companies” field and enter “Bangalore” in “enter the \n",
    "location” field.\n",
    "3. Then click the searchbutton.\n",
    "4. Then scrape the data for the first 10 jobs results youget.\n",
    "5. Finally create a dataframe of the scraped data.\n",
    "Note: All of the above steps have to be done in code. No step is to be done manually.\n"
   ]
  },
  {
   "cell_type": "code",
   "execution_count": 47,
   "id": "d9b1552c",
   "metadata": {},
   "outputs": [],
   "source": [
    "# 1.First get the webpage https://www.naukri.com/\n",
    "driver.get('https://www.naukri.com/')"
   ]
  },
  {
   "cell_type": "code",
   "execution_count": 48,
   "id": "ee141928",
   "metadata": {},
   "outputs": [],
   "source": [
    "#2.Enter “Data Scientist” in “Skill, Designations, Companies” field and enter “Bangalore” in “enter the location” field.\n",
    "designation = driver.find_element(By.CLASS_NAME,'suggestor-input')\n",
    "designation.send_keys('Data Scientist')"
   ]
  },
  {
   "cell_type": "code",
   "execution_count": 49,
   "id": "0c215b4b",
   "metadata": {},
   "outputs": [],
   "source": [
    "location = driver.find_element(By.XPATH,'/html/body/div[1]/div[6]/div/div/div[5]/div/div/div/input')\n",
    "location.send_keys('Bangalore')"
   ]
  },
  {
   "cell_type": "code",
   "execution_count": 50,
   "id": "7c76be8b",
   "metadata": {},
   "outputs": [],
   "source": [
    "#3.Then click the searchbutton.\n",
    "search = driver.find_element(By.CLASS_NAME,'qsbSubmit')\n",
    "search.click()"
   ]
  },
  {
   "cell_type": "code",
   "execution_count": null,
   "id": "ca16ca46",
   "metadata": {},
   "outputs": [],
   "source": [
    "#4.Then scrape the data for the first 10 jobs results youget."
   ]
  },
  {
   "cell_type": "code",
   "execution_count": 51,
   "id": "9b3753eb",
   "metadata": {},
   "outputs": [],
   "source": [
    "job_title=[]\n",
    "job_location=[]\n",
    "company_name=[]\n",
    "experience_required=[]"
   ]
  },
  {
   "cell_type": "code",
   "execution_count": 52,
   "id": "05e6d55f",
   "metadata": {},
   "outputs": [],
   "source": [
    "#Scraping job title from the given page\n",
    "title_tags=driver.find_elements(By.XPATH,'//a[@class=\"title ellipsis\"]')\n",
    "for i in title_tags[0:10]:\n",
    "    title=i.text\n",
    "    job_title.append(title)\n",
    "    \n",
    "location_tags=driver.find_elements(By.XPATH,'//span[@class=\"ellipsis fleft locWdth\"]')\n",
    "for i in location_tags[0:10]:\n",
    "    location=i.text\n",
    "    job_location.append(location)\n",
    "    \n",
    "company_tags=driver.find_elements(By.XPATH,'//a[@class=\"subTitle ellipsis fleft\"]')\n",
    "for i in company_tags[0:10]:\n",
    "    company=i.text\n",
    "    company_name.append(company)\n",
    "\n",
    "experience_tags=driver.find_elements(By.XPATH,'//span[@class=\"ellipsis fleft expwdth\"]')\n",
    "for i in company_tags[0:10]:\n",
    "    experience=i.text\n",
    "    experience_required.append(experience)"
   ]
  },
  {
   "cell_type": "code",
   "execution_count": 53,
   "id": "9ee8d434",
   "metadata": {},
   "outputs": [
    {
     "name": "stdout",
     "output_type": "stream",
     "text": [
      "10 10 10 10\n"
     ]
    }
   ],
   "source": [
    "print(len(job_title),len(job_location),len(company_name),len(experience_required))"
   ]
  },
  {
   "cell_type": "code",
   "execution_count": null,
   "id": "2250fcbd",
   "metadata": {},
   "outputs": [],
   "source": [
    "5. #Finally create a dataframe of the scraped data. Note: All of the above steps have to be done in code.\n",
    "No step is to be done manually"
   ]
  },
  {
   "cell_type": "code",
   "execution_count": 54,
   "id": "a7a47c66",
   "metadata": {},
   "outputs": [
    {
     "data": {
      "text/html": [
       "<div>\n",
       "<style scoped>\n",
       "    .dataframe tbody tr th:only-of-type {\n",
       "        vertical-align: middle;\n",
       "    }\n",
       "\n",
       "    .dataframe tbody tr th {\n",
       "        vertical-align: top;\n",
       "    }\n",
       "\n",
       "    .dataframe thead th {\n",
       "        text-align: right;\n",
       "    }\n",
       "</style>\n",
       "<table border=\"1\" class=\"dataframe\">\n",
       "  <thead>\n",
       "    <tr style=\"text-align: right;\">\n",
       "      <th></th>\n",
       "      <th>Title</th>\n",
       "      <th>location</th>\n",
       "      <th>company</th>\n",
       "      <th>experience</th>\n",
       "    </tr>\n",
       "  </thead>\n",
       "  <tbody>\n",
       "    <tr>\n",
       "      <th>0</th>\n",
       "      <td>Data Scientist</td>\n",
       "      <td>Bangalore/Bengaluru, Noida, Kolkata, Mumbai, H...</td>\n",
       "      <td>Capgemini</td>\n",
       "      <td>Capgemini</td>\n",
       "    </tr>\n",
       "    <tr>\n",
       "      <th>1</th>\n",
       "      <td>Data Scientist</td>\n",
       "      <td>Temp. WFH - Bangalore/Bengaluru, Hyderabad/Sec...</td>\n",
       "      <td>Tech Mahindra</td>\n",
       "      <td>Tech Mahindra</td>\n",
       "    </tr>\n",
       "    <tr>\n",
       "      <th>2</th>\n",
       "      <td>Data Science Specialist</td>\n",
       "      <td>Bangalore/Bengaluru, Kolkata, Mumbai, Hyderaba...</td>\n",
       "      <td>Accenture</td>\n",
       "      <td>Accenture</td>\n",
       "    </tr>\n",
       "    <tr>\n",
       "      <th>3</th>\n",
       "      <td>Analystics &amp; Modeling Specialist</td>\n",
       "      <td>Bangalore/Bengaluru, Kolkata, Mumbai, Hyderaba...</td>\n",
       "      <td>Accenture</td>\n",
       "      <td>Accenture</td>\n",
       "    </tr>\n",
       "    <tr>\n",
       "      <th>4</th>\n",
       "      <td>Lead Data Scientist</td>\n",
       "      <td>Bangalore/Bengaluru, Noida, Hyderabad/Secunder...</td>\n",
       "      <td>Birlasoft</td>\n",
       "      <td>Birlasoft</td>\n",
       "    </tr>\n",
       "    <tr>\n",
       "      <th>5</th>\n",
       "      <td>Data Scientist</td>\n",
       "      <td>Hybrid - Bangalore/Bengaluru, Noida, Hyderabad...</td>\n",
       "      <td>Birlasoft</td>\n",
       "      <td>Birlasoft</td>\n",
       "    </tr>\n",
       "    <tr>\n",
       "      <th>6</th>\n",
       "      <td>Data Scientist Knowledge graph</td>\n",
       "      <td>Hybrid - Bangalore/Bengaluru, Pune</td>\n",
       "      <td>Capco</td>\n",
       "      <td>Capco</td>\n",
       "    </tr>\n",
       "    <tr>\n",
       "      <th>7</th>\n",
       "      <td>Data Scientist</td>\n",
       "      <td>Bangalore/Bengaluru</td>\n",
       "      <td>Infosys</td>\n",
       "      <td>Infosys</td>\n",
       "    </tr>\n",
       "    <tr>\n",
       "      <th>8</th>\n",
       "      <td>Supply Chain Specialist Staff</td>\n",
       "      <td>Bangalore/Bengaluru</td>\n",
       "      <td>Juniper Networks</td>\n",
       "      <td>Juniper Networks</td>\n",
       "    </tr>\n",
       "    <tr>\n",
       "      <th>9</th>\n",
       "      <td>Analytic Delivery Lead</td>\n",
       "      <td>Bangalore/Bengaluru, Kolkata, Mumbai, Hyderaba...</td>\n",
       "      <td>Gharondaa Advisors</td>\n",
       "      <td>Gharondaa Advisors</td>\n",
       "    </tr>\n",
       "  </tbody>\n",
       "</table>\n",
       "</div>"
      ],
      "text/plain": [
       "                              Title  \\\n",
       "0                    Data Scientist   \n",
       "1                    Data Scientist   \n",
       "2           Data Science Specialist   \n",
       "3  Analystics & Modeling Specialist   \n",
       "4               Lead Data Scientist   \n",
       "5                    Data Scientist   \n",
       "6    Data Scientist Knowledge graph   \n",
       "7                    Data Scientist   \n",
       "8     Supply Chain Specialist Staff   \n",
       "9            Analytic Delivery Lead   \n",
       "\n",
       "                                            location             company  \\\n",
       "0  Bangalore/Bengaluru, Noida, Kolkata, Mumbai, H...           Capgemini   \n",
       "1  Temp. WFH - Bangalore/Bengaluru, Hyderabad/Sec...       Tech Mahindra   \n",
       "2  Bangalore/Bengaluru, Kolkata, Mumbai, Hyderaba...           Accenture   \n",
       "3  Bangalore/Bengaluru, Kolkata, Mumbai, Hyderaba...           Accenture   \n",
       "4  Bangalore/Bengaluru, Noida, Hyderabad/Secunder...           Birlasoft   \n",
       "5  Hybrid - Bangalore/Bengaluru, Noida, Hyderabad...           Birlasoft   \n",
       "6                 Hybrid - Bangalore/Bengaluru, Pune               Capco   \n",
       "7                                Bangalore/Bengaluru             Infosys   \n",
       "8                                Bangalore/Bengaluru    Juniper Networks   \n",
       "9  Bangalore/Bengaluru, Kolkata, Mumbai, Hyderaba...  Gharondaa Advisors   \n",
       "\n",
       "           experience  \n",
       "0           Capgemini  \n",
       "1       Tech Mahindra  \n",
       "2           Accenture  \n",
       "3           Accenture  \n",
       "4           Birlasoft  \n",
       "5           Birlasoft  \n",
       "6               Capco  \n",
       "7             Infosys  \n",
       "8    Juniper Networks  \n",
       "9  Gharondaa Advisors  "
      ]
     },
     "execution_count": 54,
     "metadata": {},
     "output_type": "execute_result"
    }
   ],
   "source": [
    "df=pd.DataFrame({'Title':job_title,'location':job_location,'company':company_name,'experience':experience_required})\n",
    "df"
   ]
  },
  {
   "cell_type": "markdown",
   "id": "4cc0a860",
   "metadata": {},
   "source": [
    "-------"
   ]
  },
  {
   "cell_type": "markdown",
   "id": "cb5df2ad",
   "metadata": {},
   "source": [
    "Q3: In this question you have to scrape data using the filters available on the webpage as shown below"
   ]
  },
  {
   "cell_type": "markdown",
   "id": "8025b29d",
   "metadata": {},
   "source": [
    "You have to use the location and salary filter.\n",
    "You have to scrape data for “Data Scientist” designation for first 10 job results. \n",
    "You have to scrape the job-title, job-location, company name, experience required.\n",
    "The location filter to be used is “Delhi/NCR”. The salary filter to be used is “3-6” lakhs\n",
    "The task will be done as shown in the below steps:\n",
    "1. first get thewebpage https://www.naukri.com/\n",
    "2. Enter “Data Scientist” in “Skill, Designations, and Companies” field.\n",
    "3. Then click the searchbutton.\n",
    "4. Then apply the location filter and salary filter by checking the respective boxes\n",
    "5. Then scrape the data for the first 10 jobs results youget.\n",
    "6. Finally create a dataframe of the scraped data.\n",
    "Note: All of the above steps have to be done in code. No step is to be done manually.\n"
   ]
  },
  {
   "cell_type": "code",
   "execution_count": 203,
   "id": "b1b356c0",
   "metadata": {},
   "outputs": [],
   "source": [
    "#1.first get thewebpage https://www.naukri.com/\n",
    "driver.get('https://www.naukri.com/')"
   ]
  },
  {
   "cell_type": "code",
   "execution_count": 60,
   "id": "c9b5bfe8",
   "metadata": {},
   "outputs": [],
   "source": [
    "#2.Enter “Data Scientist” in “Skill, Designations, and Companies” field."
   ]
  },
  {
   "cell_type": "code",
   "execution_count": 204,
   "id": "782d40b4",
   "metadata": {},
   "outputs": [],
   "source": [
    "designation = driver.find_element(By.CLASS_NAME,'suggestor-input')\n",
    "designation.send_keys('Data Scientist')"
   ]
  },
  {
   "cell_type": "code",
   "execution_count": null,
   "id": "8b9d648c",
   "metadata": {},
   "outputs": [],
   "source": [
    "#3.Then click the searchbutton."
   ]
  },
  {
   "cell_type": "code",
   "execution_count": 205,
   "id": "6ecaa37f",
   "metadata": {},
   "outputs": [],
   "source": [
    "search = driver.find_element(By.CLASS_NAME,'qsbSubmit')\n",
    "search.click()"
   ]
  },
  {
   "cell_type": "code",
   "execution_count": null,
   "id": "de35ad14",
   "metadata": {},
   "outputs": [],
   "source": [
    "#4.Then apply the location filter and salary filter by checking the respective boxes"
   ]
  },
  {
   "cell_type": "code",
   "execution_count": 206,
   "id": "692a7e1d",
   "metadata": {},
   "outputs": [],
   "source": [
    "loc_filter=driver.find_elements(By.XPATH,\"//div[@class='mt-8 chckBoxCont']//span\")\n",
    "\n",
    "\n",
    "for i in loc_filter :\n",
    "    if (i.text=='Delhi / NCR'):\n",
    "        i.click()\n",
    "        break"
   ]
  },
  {
   "cell_type": "code",
   "execution_count": 207,
   "id": "3b3aadaf",
   "metadata": {},
   "outputs": [],
   "source": [
    "sal_filter=driver.find_elements(By.XPATH,\"//div[@class='mt-8 chckBoxCont']//span\")\n",
    "for i in sal_filter:\n",
    "    if(i.text=='3-6 Lakhs'):\n",
    "        i.click()\n",
    "        break"
   ]
  },
  {
   "cell_type": "code",
   "execution_count": null,
   "id": "c01dab30",
   "metadata": {},
   "outputs": [],
   "source": [
    "#scraping required data"
   ]
  },
  {
   "cell_type": "code",
   "execution_count": null,
   "id": "b0b1a465",
   "metadata": {},
   "outputs": [],
   "source": [
    "#5.Then scrape the data for the first 10 jobs results you get."
   ]
  },
  {
   "cell_type": "code",
   "execution_count": 209,
   "id": "b2a84419",
   "metadata": {},
   "outputs": [],
   "source": [
    "job_title=[]\n",
    "job_location=[]\n",
    "company_name=[]\n",
    "experience_required=[]"
   ]
  },
  {
   "cell_type": "code",
   "execution_count": 210,
   "id": "7ee15e8e",
   "metadata": {},
   "outputs": [],
   "source": [
    "#Scraping job title from the given page\n",
    "title_tags=driver.find_elements(By.XPATH,'//a[@class=\"title ellipsis\"]')\n",
    "for i in title_tags[0:10]:\n",
    "    title=i.text\n",
    "    job_title.append(title)\n",
    "    \n",
    "location_tags=driver.find_elements(By.XPATH,'//span[@class=\"ellipsis fleft locWdth\"]')\n",
    "for i in location_tags[0:10]:\n",
    "    location=i.text\n",
    "    job_location.append(location)\n",
    "    \n",
    "company_tags=driver.find_elements(By.XPATH,'//a[@class=\"subTitle ellipsis fleft\"]')\n",
    "for i in company_tags[0:10]:\n",
    "    company=i.text\n",
    "    company_name.append(company)\n",
    "\n",
    "experience_tags=driver.find_elements(By.XPATH,'//span[@class=\"ellipsis fleft expwdth\"]')\n",
    "for i in company_tags[0:10]:\n",
    "    experience=i.text\n",
    "    experience_required.append(experience)"
   ]
  },
  {
   "cell_type": "code",
   "execution_count": null,
   "id": "5b7fa0ac",
   "metadata": {},
   "outputs": [],
   "source": [
    "#6.Finally create a dataframe of the scraped data. Note: All of the above steps have to be done in code. No step is to be done manually."
   ]
  },
  {
   "cell_type": "code",
   "execution_count": 211,
   "id": "e92deed3",
   "metadata": {},
   "outputs": [
    {
     "data": {
      "text/html": [
       "<div>\n",
       "<style scoped>\n",
       "    .dataframe tbody tr th:only-of-type {\n",
       "        vertical-align: middle;\n",
       "    }\n",
       "\n",
       "    .dataframe tbody tr th {\n",
       "        vertical-align: top;\n",
       "    }\n",
       "\n",
       "    .dataframe thead th {\n",
       "        text-align: right;\n",
       "    }\n",
       "</style>\n",
       "<table border=\"1\" class=\"dataframe\">\n",
       "  <thead>\n",
       "    <tr style=\"text-align: right;\">\n",
       "      <th></th>\n",
       "      <th>Title</th>\n",
       "      <th>location</th>\n",
       "      <th>company</th>\n",
       "      <th>experience</th>\n",
       "    </tr>\n",
       "  </thead>\n",
       "  <tbody>\n",
       "    <tr>\n",
       "      <th>0</th>\n",
       "      <td>Data Scientist</td>\n",
       "      <td>Noida, Kolkata, Mumbai, Hyderabad/Secunderabad...</td>\n",
       "      <td>Capgemini</td>\n",
       "      <td>Capgemini</td>\n",
       "    </tr>\n",
       "    <tr>\n",
       "      <th>1</th>\n",
       "      <td>Data Scientist</td>\n",
       "      <td>Temp. WFH - Hyderabad/Secunderabad, Pune, Chen...</td>\n",
       "      <td>Tech Mahindra</td>\n",
       "      <td>Tech Mahindra</td>\n",
       "    </tr>\n",
       "    <tr>\n",
       "      <th>2</th>\n",
       "      <td>Analystics &amp; Modeling Specialist</td>\n",
       "      <td>Kolkata, Mumbai, Hyderabad/Secunderabad, Pune,...</td>\n",
       "      <td>Accenture</td>\n",
       "      <td>Accenture</td>\n",
       "    </tr>\n",
       "    <tr>\n",
       "      <th>3</th>\n",
       "      <td>Data Science Specialist</td>\n",
       "      <td>Kolkata, Mumbai, Hyderabad/Secunderabad, Pune,...</td>\n",
       "      <td>Accenture</td>\n",
       "      <td>Accenture</td>\n",
       "    </tr>\n",
       "    <tr>\n",
       "      <th>4</th>\n",
       "      <td>Data Engineer</td>\n",
       "      <td>Temp. WFH - Pune, Chennai, Mumbai (All Areas)</td>\n",
       "      <td>Hexaware Technologies</td>\n",
       "      <td>Hexaware Technologies</td>\n",
       "    </tr>\n",
       "    <tr>\n",
       "      <th>5</th>\n",
       "      <td>Data Scientist</td>\n",
       "      <td>Bangalore/Bengaluru</td>\n",
       "      <td>ANZ</td>\n",
       "      <td>ANZ</td>\n",
       "    </tr>\n",
       "    <tr>\n",
       "      <th>6</th>\n",
       "      <td>Staff Data Analyst</td>\n",
       "      <td>Bangalore/Bengaluru</td>\n",
       "      <td>Walmart</td>\n",
       "      <td>Walmart</td>\n",
       "    </tr>\n",
       "    <tr>\n",
       "      <th>7</th>\n",
       "      <td>Data Scientist</td>\n",
       "      <td>Bangalore/Bengaluru</td>\n",
       "      <td>ANZ</td>\n",
       "      <td>ANZ</td>\n",
       "    </tr>\n",
       "    <tr>\n",
       "      <th>8</th>\n",
       "      <td>Lead Data Scientist</td>\n",
       "      <td>Noida, Hyderabad/Secunderabad, Pune, Chennai, ...</td>\n",
       "      <td>Birlasoft</td>\n",
       "      <td>Birlasoft</td>\n",
       "    </tr>\n",
       "    <tr>\n",
       "      <th>9</th>\n",
       "      <td>Data Scientist</td>\n",
       "      <td>Hybrid - Noida, Hyderabad/Secunderabad, Pune, ...</td>\n",
       "      <td>Birlasoft</td>\n",
       "      <td>Birlasoft</td>\n",
       "    </tr>\n",
       "  </tbody>\n",
       "</table>\n",
       "</div>"
      ],
      "text/plain": [
       "                              Title  \\\n",
       "0                    Data Scientist   \n",
       "1                    Data Scientist   \n",
       "2  Analystics & Modeling Specialist   \n",
       "3           Data Science Specialist   \n",
       "4                     Data Engineer   \n",
       "5                    Data Scientist   \n",
       "6                Staff Data Analyst   \n",
       "7                    Data Scientist   \n",
       "8               Lead Data Scientist   \n",
       "9                    Data Scientist   \n",
       "\n",
       "                                            location                company  \\\n",
       "0  Noida, Kolkata, Mumbai, Hyderabad/Secunderabad...              Capgemini   \n",
       "1  Temp. WFH - Hyderabad/Secunderabad, Pune, Chen...          Tech Mahindra   \n",
       "2  Kolkata, Mumbai, Hyderabad/Secunderabad, Pune,...              Accenture   \n",
       "3  Kolkata, Mumbai, Hyderabad/Secunderabad, Pune,...              Accenture   \n",
       "4      Temp. WFH - Pune, Chennai, Mumbai (All Areas)  Hexaware Technologies   \n",
       "5                                Bangalore/Bengaluru                    ANZ   \n",
       "6                                Bangalore/Bengaluru                Walmart   \n",
       "7                                Bangalore/Bengaluru                    ANZ   \n",
       "8  Noida, Hyderabad/Secunderabad, Pune, Chennai, ...              Birlasoft   \n",
       "9  Hybrid - Noida, Hyderabad/Secunderabad, Pune, ...              Birlasoft   \n",
       "\n",
       "              experience  \n",
       "0              Capgemini  \n",
       "1          Tech Mahindra  \n",
       "2              Accenture  \n",
       "3              Accenture  \n",
       "4  Hexaware Technologies  \n",
       "5                    ANZ  \n",
       "6                Walmart  \n",
       "7                    ANZ  \n",
       "8              Birlasoft  \n",
       "9              Birlasoft  "
      ]
     },
     "execution_count": 211,
     "metadata": {},
     "output_type": "execute_result"
    }
   ],
   "source": [
    "df=pd.DataFrame({'Title':job_title,'location':job_location,'company':company_name,'experience':experience_required})\n",
    "df"
   ]
  },
  {
   "cell_type": "markdown",
   "id": "c4edc95f",
   "metadata": {},
   "source": [
    "-----"
   ]
  },
  {
   "cell_type": "markdown",
   "id": "f78429aa",
   "metadata": {},
   "source": [
    "Q4: Scrape data of first 100 sunglasses listings on flipkart.com. You have to scrape four attributes:\n",
    "1. Brand\n",
    "2. ProductDescription\n",
    "3. Price\n",
    "The attributes which you have to scrape is ticked marked in the below image.\n",
    "\n",
    "To scrape the data you have to go through following steps:\n",
    "1. Go to Flipkart webpage by url :https://www.flipkart.com/\n",
    "2. Enter “sunglasses” in the search field where “search for products, brands and more” is written and \n",
    "click the search icon\n",
    "3. After that you will reach to the page having a lot of sunglasses. From this page you can scrap the \n",
    "required data asusual.\n",
    "\n",
    "4. After scraping data from the first page, go to the “Next” Button at the bottom other page , then\n",
    "click on it.\n",
    "5. Now scrape data from this page asusual\n",
    "6. Repeat this until you get data for 100sunglasses.\n",
    "Note: That all of the above steps have to be done by coding only and not manually."
   ]
  },
  {
   "cell_type": "code",
   "execution_count": 212,
   "id": "600eae9b",
   "metadata": {},
   "outputs": [],
   "source": [
    "#1. Go to Flipkart webpage by url :https://www.flipkart.com/\n",
    "driver.get('https://www.flipkart.com/')"
   ]
  },
  {
   "cell_type": "code",
   "execution_count": 213,
   "id": "af145d8a",
   "metadata": {},
   "outputs": [],
   "source": [
    "#2. Enter “sunglasses” in the search field where “search for products, brands and more” is written and click the search icon \n",
    "\n",
    "search_product = driver.find_element(By.CLASS_NAME,'_3704LK')\n",
    "search_product.send_keys('sunglasses')"
   ]
  },
  {
   "cell_type": "code",
   "execution_count": 217,
   "id": "2819b6ce",
   "metadata": {},
   "outputs": [],
   "source": [
    "#click on the search button\n",
    "\n",
    "search_button =driver.find_element(By.CLASS_NAME,'L0Z3Pu')\n",
    "search_button.click()"
   ]
  },
  {
   "cell_type": "code",
   "execution_count": null,
   "id": "7e9eea1a",
   "metadata": {},
   "outputs": [],
   "source": [
    "#3. After that you will reach to the page having a lot of sunglasses. From this page you can scrap the required data asusual.\n",
    "#4.After scraping data from the first page, go to the “Next” Button at the bottom other page , then click on it.\n",
    "#5.Now scrape data from this page asusual"
   ]
  },
  {
   "cell_type": "code",
   "execution_count": 218,
   "id": "02ea8e05",
   "metadata": {
    "scrolled": true
   },
   "outputs": [],
   "source": [
    "Brand = []\n",
    "Product_Description = []\n",
    "Price= []\n",
    "\n",
    "\n",
    "brand = driver.find_elements(By.XPATH,\"//div[@class='_2WkVRV']\")\n",
    "prod_desc = driver.find_elements(By.XPATH,\"//p[@class='IRpwTa']\")\n",
    "price = driver.find_elements(By.XPATH,\"//div[@class='_30jeq3']\")\n",
    "\n",
    "\n",
    "\n",
    "for i in brand:\n",
    "    Brand.append(i.text)\n",
    "for o in prod_desc:\n",
    "    Product_Description.append(o.text)\n",
    "for p in price:\n",
    "    Price.append(p.text) \n",
    "\n",
    "    \n",
    "time.sleep(3)        \n",
    "        \n",
    "        \n",
    "nxt_button=driver.find_element(By.XPATH,'/html/body/div[1]/div/div[3]/div[1]/div[2]/div[12]/div/div/nav/a[11]/span')\n",
    "nxt_button.click()"
   ]
  },
  {
   "cell_type": "code",
   "execution_count": 219,
   "id": "33c2d1fd",
   "metadata": {},
   "outputs": [
    {
     "name": "stdout",
     "output_type": "stream",
     "text": [
      "40 0 40\n"
     ]
    }
   ],
   "source": [
    "print(len(Brand),len(Product_Description),len(Price))"
   ]
  },
  {
   "cell_type": "markdown",
   "id": "507f3549",
   "metadata": {},
   "source": [
    "# DOUBT"
   ]
  },
  {
   "cell_type": "code",
   "execution_count": 199,
   "id": "59d5e827",
   "metadata": {},
   "outputs": [
    {
     "data": {
      "text/html": [
       "<div>\n",
       "<style scoped>\n",
       "    .dataframe tbody tr th:only-of-type {\n",
       "        vertical-align: middle;\n",
       "    }\n",
       "\n",
       "    .dataframe tbody tr th {\n",
       "        vertical-align: top;\n",
       "    }\n",
       "\n",
       "    .dataframe thead th {\n",
       "        text-align: right;\n",
       "    }\n",
       "</style>\n",
       "<table border=\"1\" class=\"dataframe\">\n",
       "  <thead>\n",
       "    <tr style=\"text-align: right;\">\n",
       "      <th></th>\n",
       "      <th>Brand</th>\n",
       "      <th>Price</th>\n",
       "    </tr>\n",
       "  </thead>\n",
       "  <tbody>\n",
       "    <tr>\n",
       "      <th>0</th>\n",
       "      <td>PC STAR</td>\n",
       "      <td>₹282</td>\n",
       "    </tr>\n",
       "    <tr>\n",
       "      <th>1</th>\n",
       "      <td>Elligator</td>\n",
       "      <td>₹179</td>\n",
       "    </tr>\n",
       "    <tr>\n",
       "      <th>2</th>\n",
       "      <td>Fastrack</td>\n",
       "      <td>₹599</td>\n",
       "    </tr>\n",
       "    <tr>\n",
       "      <th>3</th>\n",
       "      <td>Elligator</td>\n",
       "      <td>₹149</td>\n",
       "    </tr>\n",
       "    <tr>\n",
       "      <th>4</th>\n",
       "      <td>Fastrack</td>\n",
       "      <td>₹499</td>\n",
       "    </tr>\n",
       "    <tr>\n",
       "      <th>5</th>\n",
       "      <td>Elligator</td>\n",
       "      <td>₹129</td>\n",
       "    </tr>\n",
       "    <tr>\n",
       "      <th>6</th>\n",
       "      <td>Elligator</td>\n",
       "      <td>₹229</td>\n",
       "    </tr>\n",
       "    <tr>\n",
       "      <th>7</th>\n",
       "      <td>ROZZETTA CRAFT</td>\n",
       "      <td>₹398</td>\n",
       "    </tr>\n",
       "    <tr>\n",
       "      <th>8</th>\n",
       "      <td>PHENOMENAL</td>\n",
       "      <td>₹129</td>\n",
       "    </tr>\n",
       "    <tr>\n",
       "      <th>9</th>\n",
       "      <td>LIZA ANGEL</td>\n",
       "      <td>₹174</td>\n",
       "    </tr>\n",
       "    <tr>\n",
       "      <th>10</th>\n",
       "      <td>SHAAH COLLECTIONS</td>\n",
       "      <td>₹129</td>\n",
       "    </tr>\n",
       "    <tr>\n",
       "      <th>11</th>\n",
       "      <td>ROZZETTA CRAFT</td>\n",
       "      <td>₹423</td>\n",
       "    </tr>\n",
       "    <tr>\n",
       "      <th>12</th>\n",
       "      <td>VINCENT CHASE</td>\n",
       "      <td>₹599</td>\n",
       "    </tr>\n",
       "    <tr>\n",
       "      <th>13</th>\n",
       "      <td>Elligator</td>\n",
       "      <td>₹149</td>\n",
       "    </tr>\n",
       "    <tr>\n",
       "      <th>14</th>\n",
       "      <td>SRPM</td>\n",
       "      <td>₹149</td>\n",
       "    </tr>\n",
       "    <tr>\n",
       "      <th>15</th>\n",
       "      <td>PC STAR</td>\n",
       "      <td>₹229</td>\n",
       "    </tr>\n",
       "    <tr>\n",
       "      <th>16</th>\n",
       "      <td>PIRASO</td>\n",
       "      <td>₹274</td>\n",
       "    </tr>\n",
       "    <tr>\n",
       "      <th>17</th>\n",
       "      <td>PIRASO</td>\n",
       "      <td>₹182</td>\n",
       "    </tr>\n",
       "    <tr>\n",
       "      <th>18</th>\n",
       "      <td>SRPM</td>\n",
       "      <td>₹179</td>\n",
       "    </tr>\n",
       "    <tr>\n",
       "      <th>19</th>\n",
       "      <td>ROZZETTA CRAFT</td>\n",
       "      <td>₹398</td>\n",
       "    </tr>\n",
       "    <tr>\n",
       "      <th>20</th>\n",
       "      <td>LIZA ANGEL</td>\n",
       "      <td>₹129</td>\n",
       "    </tr>\n",
       "    <tr>\n",
       "      <th>21</th>\n",
       "      <td>New Specs</td>\n",
       "      <td>₹259</td>\n",
       "    </tr>\n",
       "    <tr>\n",
       "      <th>22</th>\n",
       "      <td>ROZZETTA CRAFT</td>\n",
       "      <td>₹649</td>\n",
       "    </tr>\n",
       "    <tr>\n",
       "      <th>23</th>\n",
       "      <td>Silver Kartz</td>\n",
       "      <td>₹266</td>\n",
       "    </tr>\n",
       "    <tr>\n",
       "      <th>24</th>\n",
       "      <td>Fastrack</td>\n",
       "      <td>₹579</td>\n",
       "    </tr>\n",
       "    <tr>\n",
       "      <th>25</th>\n",
       "      <td>SUNBEE</td>\n",
       "      <td>₹129</td>\n",
       "    </tr>\n",
       "    <tr>\n",
       "      <th>26</th>\n",
       "      <td>PIRASO</td>\n",
       "      <td>₹257</td>\n",
       "    </tr>\n",
       "    <tr>\n",
       "      <th>27</th>\n",
       "      <td>Dervin</td>\n",
       "      <td>₹224</td>\n",
       "    </tr>\n",
       "    <tr>\n",
       "      <th>28</th>\n",
       "      <td>PIRASO</td>\n",
       "      <td>₹244</td>\n",
       "    </tr>\n",
       "    <tr>\n",
       "      <th>29</th>\n",
       "      <td>SRPM</td>\n",
       "      <td>₹129</td>\n",
       "    </tr>\n",
       "    <tr>\n",
       "      <th>30</th>\n",
       "      <td>EYELLUSION</td>\n",
       "      <td>₹281</td>\n",
       "    </tr>\n",
       "    <tr>\n",
       "      <th>31</th>\n",
       "      <td>CART2DEAL</td>\n",
       "      <td>₹1,244</td>\n",
       "    </tr>\n",
       "    <tr>\n",
       "      <th>32</th>\n",
       "      <td>LIZA ANGEL</td>\n",
       "      <td>₹129</td>\n",
       "    </tr>\n",
       "    <tr>\n",
       "      <th>33</th>\n",
       "      <td>Rich Club</td>\n",
       "      <td>₹258</td>\n",
       "    </tr>\n",
       "    <tr>\n",
       "      <th>34</th>\n",
       "      <td>PIRASO</td>\n",
       "      <td>₹268</td>\n",
       "    </tr>\n",
       "    <tr>\n",
       "      <th>35</th>\n",
       "      <td>ARICKS</td>\n",
       "      <td>₹259</td>\n",
       "    </tr>\n",
       "    <tr>\n",
       "      <th>36</th>\n",
       "      <td>VINCENT CHASE</td>\n",
       "      <td>₹999</td>\n",
       "    </tr>\n",
       "    <tr>\n",
       "      <th>37</th>\n",
       "      <td>ROZZETTA CRAFT</td>\n",
       "      <td>₹471</td>\n",
       "    </tr>\n",
       "    <tr>\n",
       "      <th>38</th>\n",
       "      <td>Fastrack</td>\n",
       "      <td>₹579</td>\n",
       "    </tr>\n",
       "    <tr>\n",
       "      <th>39</th>\n",
       "      <td>RESIST EYEWEAR</td>\n",
       "      <td>₹1,399</td>\n",
       "    </tr>\n",
       "  </tbody>\n",
       "</table>\n",
       "</div>"
      ],
      "text/plain": [
       "                Brand   Price\n",
       "0             PC STAR    ₹282\n",
       "1           Elligator    ₹179\n",
       "2            Fastrack    ₹599\n",
       "3           Elligator    ₹149\n",
       "4            Fastrack    ₹499\n",
       "5           Elligator    ₹129\n",
       "6           Elligator    ₹229\n",
       "7      ROZZETTA CRAFT    ₹398\n",
       "8          PHENOMENAL    ₹129\n",
       "9          LIZA ANGEL    ₹174\n",
       "10  SHAAH COLLECTIONS    ₹129\n",
       "11     ROZZETTA CRAFT    ₹423\n",
       "12      VINCENT CHASE    ₹599\n",
       "13          Elligator    ₹149\n",
       "14               SRPM    ₹149\n",
       "15            PC STAR    ₹229\n",
       "16             PIRASO    ₹274\n",
       "17             PIRASO    ₹182\n",
       "18               SRPM    ₹179\n",
       "19     ROZZETTA CRAFT    ₹398\n",
       "20         LIZA ANGEL    ₹129\n",
       "21          New Specs    ₹259\n",
       "22     ROZZETTA CRAFT    ₹649\n",
       "23       Silver Kartz    ₹266\n",
       "24           Fastrack    ₹579\n",
       "25             SUNBEE    ₹129\n",
       "26             PIRASO    ₹257\n",
       "27             Dervin    ₹224\n",
       "28             PIRASO    ₹244\n",
       "29               SRPM    ₹129\n",
       "30         EYELLUSION    ₹281\n",
       "31          CART2DEAL  ₹1,244\n",
       "32         LIZA ANGEL    ₹129\n",
       "33          Rich Club    ₹258\n",
       "34             PIRASO    ₹268\n",
       "35             ARICKS    ₹259\n",
       "36      VINCENT CHASE    ₹999\n",
       "37     ROZZETTA CRAFT    ₹471\n",
       "38           Fastrack    ₹579\n",
       "39     RESIST EYEWEAR  ₹1,399"
      ]
     },
     "execution_count": 199,
     "metadata": {},
     "output_type": "execute_result"
    }
   ],
   "source": [
    "#lets  make dataframe from the scraped data\n",
    "\n",
    "df = pd.DataFrame({'Brand': Brand[:100],'Price':Price[:100]})\n",
    "\n",
    "df"
   ]
  },
  {
   "cell_type": "markdown",
   "id": "3deaf9b3",
   "metadata": {},
   "source": [
    "-----"
   ]
  },
  {
   "cell_type": "markdown",
   "id": "fcb983f1",
   "metadata": {},
   "source": [
    "Q5: Scrape 100 reviews data from flipkart.com for iphone11 phone. You have to go the link: \n",
    "https://www.flipkart.com/apple-iphone-11-black-64-gb/product\u0002reviews/itm4e5041ba101fd?pid=MOBFWQ6BXGJCEYNY&lid=LSTMOBFWQ6BXGJCEYNYZXSHRJ&market \n",
    "place=FLIPKART\n",
    "\n",
    "As shown in the above page you have to scrape the tick marked attributes. These are:\n",
    "1. Rating\n",
    "2. Review summary\n",
    "3. Full review\n",
    "4. You have to scrape this data for first 100reviews.\n",
    "Note: All the steps required during scraping should be done through code only and not manually.\n"
   ]
  },
  {
   "cell_type": "code",
   "execution_count": 176,
   "id": "57893656",
   "metadata": {},
   "outputs": [],
   "source": [
    "driver.get('https://www.flipkart.com/apple-iphone-11-black-64-gb-includes-earpods-power-adapter/product-reviews/itm0f37c2240b217?pid=MOBFKCTSVZAXUHGR&lid=LSTMOBFKCTSVZAXUHGREPBFGI&marketplace=FLIPKART')"
   ]
  },
  {
   "cell_type": "code",
   "execution_count": 164,
   "id": "376114d0",
   "metadata": {},
   "outputs": [
    {
     "data": {
      "text/html": [
       "<div>\n",
       "<style scoped>\n",
       "    .dataframe tbody tr th:only-of-type {\n",
       "        vertical-align: middle;\n",
       "    }\n",
       "\n",
       "    .dataframe tbody tr th {\n",
       "        vertical-align: top;\n",
       "    }\n",
       "\n",
       "    .dataframe thead th {\n",
       "        text-align: right;\n",
       "    }\n",
       "</style>\n",
       "<table border=\"1\" class=\"dataframe\">\n",
       "  <thead>\n",
       "    <tr style=\"text-align: right;\">\n",
       "      <th></th>\n",
       "      <th>Rating</th>\n",
       "      <th>Review_summary</th>\n",
       "      <th>Full_review</th>\n",
       "    </tr>\n",
       "  </thead>\n",
       "  <tbody>\n",
       "    <tr>\n",
       "      <th>0</th>\n",
       "      <td>&lt;selenium.webdriver.remote.webelement.WebEleme...</td>\n",
       "      <td>&lt;selenium.webdriver.remote.webelement.WebEleme...</td>\n",
       "      <td>&lt;selenium.webdriver.remote.webelement.WebEleme...</td>\n",
       "    </tr>\n",
       "    <tr>\n",
       "      <th>1</th>\n",
       "      <td>&lt;selenium.webdriver.remote.webelement.WebEleme...</td>\n",
       "      <td>&lt;selenium.webdriver.remote.webelement.WebEleme...</td>\n",
       "      <td>&lt;selenium.webdriver.remote.webelement.WebEleme...</td>\n",
       "    </tr>\n",
       "    <tr>\n",
       "      <th>2</th>\n",
       "      <td>&lt;selenium.webdriver.remote.webelement.WebEleme...</td>\n",
       "      <td>&lt;selenium.webdriver.remote.webelement.WebEleme...</td>\n",
       "      <td>&lt;selenium.webdriver.remote.webelement.WebEleme...</td>\n",
       "    </tr>\n",
       "    <tr>\n",
       "      <th>3</th>\n",
       "      <td>&lt;selenium.webdriver.remote.webelement.WebEleme...</td>\n",
       "      <td>&lt;selenium.webdriver.remote.webelement.WebEleme...</td>\n",
       "      <td>&lt;selenium.webdriver.remote.webelement.WebEleme...</td>\n",
       "    </tr>\n",
       "    <tr>\n",
       "      <th>4</th>\n",
       "      <td>&lt;selenium.webdriver.remote.webelement.WebEleme...</td>\n",
       "      <td>&lt;selenium.webdriver.remote.webelement.WebEleme...</td>\n",
       "      <td>&lt;selenium.webdriver.remote.webelement.WebEleme...</td>\n",
       "    </tr>\n",
       "    <tr>\n",
       "      <th>5</th>\n",
       "      <td>&lt;selenium.webdriver.remote.webelement.WebEleme...</td>\n",
       "      <td>&lt;selenium.webdriver.remote.webelement.WebEleme...</td>\n",
       "      <td>&lt;selenium.webdriver.remote.webelement.WebEleme...</td>\n",
       "    </tr>\n",
       "    <tr>\n",
       "      <th>6</th>\n",
       "      <td>&lt;selenium.webdriver.remote.webelement.WebEleme...</td>\n",
       "      <td>&lt;selenium.webdriver.remote.webelement.WebEleme...</td>\n",
       "      <td>&lt;selenium.webdriver.remote.webelement.WebEleme...</td>\n",
       "    </tr>\n",
       "    <tr>\n",
       "      <th>7</th>\n",
       "      <td>&lt;selenium.webdriver.remote.webelement.WebEleme...</td>\n",
       "      <td>&lt;selenium.webdriver.remote.webelement.WebEleme...</td>\n",
       "      <td>&lt;selenium.webdriver.remote.webelement.WebEleme...</td>\n",
       "    </tr>\n",
       "    <tr>\n",
       "      <th>8</th>\n",
       "      <td>&lt;selenium.webdriver.remote.webelement.WebEleme...</td>\n",
       "      <td>&lt;selenium.webdriver.remote.webelement.WebEleme...</td>\n",
       "      <td>&lt;selenium.webdriver.remote.webelement.WebEleme...</td>\n",
       "    </tr>\n",
       "    <tr>\n",
       "      <th>9</th>\n",
       "      <td>&lt;selenium.webdriver.remote.webelement.WebEleme...</td>\n",
       "      <td>&lt;selenium.webdriver.remote.webelement.WebEleme...</td>\n",
       "      <td>&lt;selenium.webdriver.remote.webelement.WebEleme...</td>\n",
       "    </tr>\n",
       "  </tbody>\n",
       "</table>\n",
       "</div>"
      ],
      "text/plain": [
       "                                              Rating  \\\n",
       "0  <selenium.webdriver.remote.webelement.WebEleme...   \n",
       "1  <selenium.webdriver.remote.webelement.WebEleme...   \n",
       "2  <selenium.webdriver.remote.webelement.WebEleme...   \n",
       "3  <selenium.webdriver.remote.webelement.WebEleme...   \n",
       "4  <selenium.webdriver.remote.webelement.WebEleme...   \n",
       "5  <selenium.webdriver.remote.webelement.WebEleme...   \n",
       "6  <selenium.webdriver.remote.webelement.WebEleme...   \n",
       "7  <selenium.webdriver.remote.webelement.WebEleme...   \n",
       "8  <selenium.webdriver.remote.webelement.WebEleme...   \n",
       "9  <selenium.webdriver.remote.webelement.WebEleme...   \n",
       "\n",
       "                                      Review_summary  \\\n",
       "0  <selenium.webdriver.remote.webelement.WebEleme...   \n",
       "1  <selenium.webdriver.remote.webelement.WebEleme...   \n",
       "2  <selenium.webdriver.remote.webelement.WebEleme...   \n",
       "3  <selenium.webdriver.remote.webelement.WebEleme...   \n",
       "4  <selenium.webdriver.remote.webelement.WebEleme...   \n",
       "5  <selenium.webdriver.remote.webelement.WebEleme...   \n",
       "6  <selenium.webdriver.remote.webelement.WebEleme...   \n",
       "7  <selenium.webdriver.remote.webelement.WebEleme...   \n",
       "8  <selenium.webdriver.remote.webelement.WebEleme...   \n",
       "9  <selenium.webdriver.remote.webelement.WebEleme...   \n",
       "\n",
       "                                         Full_review  \n",
       "0  <selenium.webdriver.remote.webelement.WebEleme...  \n",
       "1  <selenium.webdriver.remote.webelement.WebEleme...  \n",
       "2  <selenium.webdriver.remote.webelement.WebEleme...  \n",
       "3  <selenium.webdriver.remote.webelement.WebEleme...  \n",
       "4  <selenium.webdriver.remote.webelement.WebEleme...  \n",
       "5  <selenium.webdriver.remote.webelement.WebEleme...  \n",
       "6  <selenium.webdriver.remote.webelement.WebEleme...  \n",
       "7  <selenium.webdriver.remote.webelement.WebEleme...  \n",
       "8  <selenium.webdriver.remote.webelement.WebEleme...  \n",
       "9  <selenium.webdriver.remote.webelement.WebEleme...  "
      ]
     },
     "execution_count": 164,
     "metadata": {},
     "output_type": "execute_result"
    }
   ],
   "source": [
    "Rating = []\n",
    "Review_summary = []\n",
    "Full_review = []\n",
    "\n",
    "rating = driver.find_elements(By.XPATH,\"//div[@class='_3LWZlK _1BLPMq']\")\n",
    "review = driver.find_elements(By.XPATH,\"//p[@class='_2-N8zT']\")\n",
    "full_review = driver.find_elements(By.XPATH,\"//div[@class='t-ZTKy']\")\n",
    "\n",
    "#for page in range(0,3):\n",
    "for i in rating:\n",
    "    Rating.append(i.text)\n",
    "for o in review:\n",
    "    Review_summary.append(o.text)\n",
    "for p in full_review:\n",
    "    Full_review.append(p.text)    \n",
    "    \n",
    "df = pd.DataFrame({'Rating':Rating,'Review_summary':Review_summary,'Full_review':Full_review})\n",
    "\n",
    "df"
   ]
  },
  {
   "cell_type": "markdown",
   "id": "1492dd64",
   "metadata": {},
   "source": [
    "----"
   ]
  },
  {
   "cell_type": "markdown",
   "id": "3e5046ba",
   "metadata": {},
   "source": [
    "Q6: Scrape data for first 100 sneakers you find when you visit flipkart.com and search for “sneakers” in the \n",
    "search field.\n",
    "You have to scrape 3 attributes of each sneaker:\n",
    "1. Brand\n",
    "2. ProductDescription\n",
    "3. Price\n",
    "As shown in the below image, you have to scrape the above attributes."
   ]
  },
  {
   "cell_type": "code",
   "execution_count": 171,
   "id": "7bfa9483",
   "metadata": {},
   "outputs": [],
   "source": [
    "driver.get('https://www.flipkart.com/')"
   ]
  },
  {
   "cell_type": "code",
   "execution_count": 172,
   "id": "52a1374f",
   "metadata": {},
   "outputs": [],
   "source": [
    "search_product = driver.find_element(By.CLASS_NAME,'_3704LK')\n",
    "search_product.send_keys('sneakers')"
   ]
  },
  {
   "cell_type": "code",
   "execution_count": 173,
   "id": "f14373b0",
   "metadata": {},
   "outputs": [],
   "source": [
    "#click on the search button\n",
    "\n",
    "search_button =driver.find_element(By.CLASS_NAME,'_34RNph')\n",
    "search_button.click()"
   ]
  },
  {
   "cell_type": "code",
   "execution_count": 183,
   "id": "4292d41f",
   "metadata": {},
   "outputs": [],
   "source": [
    "Brand = []\n",
    "Product_Description = []\n",
    "Price= []\n",
    "\n",
    "\n",
    "for i in range(3):\n",
    "    brand = driver.find_elements(By.CLASS_NAME,'_2WkVRV')\n",
    "    for i in brand:Brand.append(i.text)\n",
    "    \n",
    "    product_des = driver.find_elements(By.CLASS_NAME,'IRpwTa')\n",
    "    for i in product_des:Product_Description.append(i.text)    \n",
    "    \n",
    "    price = driver.find_elements(By.CLASS_NAME,'_30jeq3')\n",
    "    for i in price:Price.append(i.text)\n",
    "\n",
    "time.sleep(3)        \n",
    "        \n",
    "        \n",
    "nxt_button=driver.find_element(By.CLASS_NAME,'_1LKTO3')\n",
    "nxt_button.click()\n",
    "                     "
   ]
  },
  {
   "cell_type": "code",
   "execution_count": 185,
   "id": "6a477f95",
   "metadata": {},
   "outputs": [
    {
     "name": "stdout",
     "output_type": "stream",
     "text": [
      "120 120 135\n"
     ]
    }
   ],
   "source": [
    "print(len(Brand),len(Product_Description),len(Price))"
   ]
  },
  {
   "cell_type": "code",
   "execution_count": 189,
   "id": "44b36f1b",
   "metadata": {},
   "outputs": [
    {
     "data": {
      "text/html": [
       "<div>\n",
       "<style scoped>\n",
       "    .dataframe tbody tr th:only-of-type {\n",
       "        vertical-align: middle;\n",
       "    }\n",
       "\n",
       "    .dataframe tbody tr th {\n",
       "        vertical-align: top;\n",
       "    }\n",
       "\n",
       "    .dataframe thead th {\n",
       "        text-align: right;\n",
       "    }\n",
       "</style>\n",
       "<table border=\"1\" class=\"dataframe\">\n",
       "  <thead>\n",
       "    <tr style=\"text-align: right;\">\n",
       "      <th></th>\n",
       "      <th>BRAND</th>\n",
       "      <th>PRODUCT_DESCRIPTION</th>\n",
       "      <th>PRICE</th>\n",
       "    </tr>\n",
       "  </thead>\n",
       "  <tbody>\n",
       "    <tr>\n",
       "      <th>0</th>\n",
       "      <td>GVR</td>\n",
       "      <td>CLASSIC CT SNEAKER Sneakers For Men</td>\n",
       "      <td>₹749</td>\n",
       "    </tr>\n",
       "    <tr>\n",
       "      <th>1</th>\n",
       "      <td>GVR</td>\n",
       "      <td>SNEAKERS FOR MEN Sneakers For Men</td>\n",
       "      <td>₹749</td>\n",
       "    </tr>\n",
       "    <tr>\n",
       "      <th>2</th>\n",
       "      <td>World Wear Footwear</td>\n",
       "      <td>5011-Latest Collection Stylish &amp; Trendy Casual...</td>\n",
       "      <td>₹199</td>\n",
       "    </tr>\n",
       "    <tr>\n",
       "      <th>3</th>\n",
       "      <td>ADIDAS</td>\n",
       "      <td>STREET ICON M Sneakers For Men</td>\n",
       "      <td>₹1,907</td>\n",
       "    </tr>\n",
       "    <tr>\n",
       "      <th>4</th>\n",
       "      <td>aadi</td>\n",
       "      <td>Synthetic Leather |Lightweight|Comfort|Summer|...</td>\n",
       "      <td>₹434</td>\n",
       "    </tr>\n",
       "    <tr>\n",
       "      <th>...</th>\n",
       "      <td>...</td>\n",
       "      <td>...</td>\n",
       "      <td>...</td>\n",
       "    </tr>\n",
       "    <tr>\n",
       "      <th>95</th>\n",
       "      <td>Bepassion</td>\n",
       "      <td>STYLISH CASUAL FOR MEW Sneakers For Men</td>\n",
       "      <td>₹1,047</td>\n",
       "    </tr>\n",
       "    <tr>\n",
       "      <th>96</th>\n",
       "      <td>SFR</td>\n",
       "      <td>Sneakers For Men</td>\n",
       "      <td>₹199</td>\n",
       "    </tr>\n",
       "    <tr>\n",
       "      <th>97</th>\n",
       "      <td>ADIDAS</td>\n",
       "      <td>STREET ICON M Sneakers For Men</td>\n",
       "      <td>₹749</td>\n",
       "    </tr>\n",
       "    <tr>\n",
       "      <th>98</th>\n",
       "      <td>RED TAPE</td>\n",
       "      <td>Sneakers For Men</td>\n",
       "      <td>₹399</td>\n",
       "    </tr>\n",
       "    <tr>\n",
       "      <th>99</th>\n",
       "      <td>ADIDAS ORIGINALS</td>\n",
       "      <td>NIZZA PLATFORM W Sneakers For Women</td>\n",
       "      <td>₹1,504</td>\n",
       "    </tr>\n",
       "  </tbody>\n",
       "</table>\n",
       "<p>100 rows × 3 columns</p>\n",
       "</div>"
      ],
      "text/plain": [
       "                  BRAND                                PRODUCT_DESCRIPTION  \\\n",
       "0                   GVR                CLASSIC CT SNEAKER Sneakers For Men   \n",
       "1                   GVR                  SNEAKERS FOR MEN Sneakers For Men   \n",
       "2   World Wear Footwear  5011-Latest Collection Stylish & Trendy Casual...   \n",
       "3                ADIDAS                     STREET ICON M Sneakers For Men   \n",
       "4                  aadi  Synthetic Leather |Lightweight|Comfort|Summer|...   \n",
       "..                  ...                                                ...   \n",
       "95            Bepassion            STYLISH CASUAL FOR MEW Sneakers For Men   \n",
       "96                  SFR                                   Sneakers For Men   \n",
       "97               ADIDAS                     STREET ICON M Sneakers For Men   \n",
       "98             RED TAPE                                   Sneakers For Men   \n",
       "99     ADIDAS ORIGINALS                NIZZA PLATFORM W Sneakers For Women   \n",
       "\n",
       "     PRICE  \n",
       "0     ₹749  \n",
       "1     ₹749  \n",
       "2     ₹199  \n",
       "3   ₹1,907  \n",
       "4     ₹434  \n",
       "..     ...  \n",
       "95  ₹1,047  \n",
       "96    ₹199  \n",
       "97    ₹749  \n",
       "98    ₹399  \n",
       "99  ₹1,504  \n",
       "\n",
       "[100 rows x 3 columns]"
      ]
     },
     "execution_count": 189,
     "metadata": {},
     "output_type": "execute_result"
    }
   ],
   "source": [
    "#creating DataFrame for the scraped Data\n",
    "\n",
    "df=pd.DataFrame()\n",
    "df[\"BRAND\"]=Brand[:100]\n",
    "df[\"PRODUCT_DESCRIPTION\"]=Product_Description[:100]\n",
    "df[\"PRICE\"]=Price[:100]\n",
    "df"
   ]
  },
  {
   "cell_type": "markdown",
   "id": "0ba8d378",
   "metadata": {},
   "source": [
    "----"
   ]
  },
  {
   "cell_type": "markdown",
   "id": "84b7f817",
   "metadata": {},
   "source": [
    "Q7: Go to webpage https://www.amazon.in/ Enter “Laptop” in the search field and then click the search icon. Then \n",
    "set CPU Type filter to “Intel Core i7” as shown in the below image:\n",
    "After setting the filters scrape first 10 laptops data. You have to scrape 3 attributes for each laptop:\n",
    "1. Title\n",
    "2. Ratings\n",
    "3. Price"
   ]
  },
  {
   "cell_type": "code",
   "execution_count": 225,
   "id": "2b65d860",
   "metadata": {},
   "outputs": [],
   "source": [
    "driver.get('https://www.amazon.com/')"
   ]
  },
  {
   "cell_type": "code",
   "execution_count": 226,
   "id": "f8d7118e",
   "metadata": {},
   "outputs": [],
   "source": [
    "#click on the search button\n",
    "\n",
    "Product = driver.find_element(By.XPATH,\"//input[@class='nav-input nav-progressive-attribute']\")\n",
    "Product.send_keys('Laptop')\n"
   ]
  },
  {
   "cell_type": "code",
   "execution_count": 227,
   "id": "c06a2269",
   "metadata": {},
   "outputs": [],
   "source": [
    "#click on the search button\n",
    "\n",
    "search_button =driver.find_element(By.XPATH,'/html/body/div[1]/header/div/div[1]/div[2]/div/form/div[3]/div/span/input')\n",
    "search_button.click()"
   ]
  },
  {
   "cell_type": "markdown",
   "id": "2b5c698a",
   "metadata": {},
   "source": [
    "# DOUBT"
   ]
  },
  {
   "cell_type": "code",
   "execution_count": 229,
   "id": "7f6d1527",
   "metadata": {},
   "outputs": [
    {
     "ename": "ElementNotInteractableException",
     "evalue": "Message: element not interactable\n  (Session info: chrome=109.0.5414.75)\nStacktrace:\nBacktrace:\n\t(No symbol) [0x0057F243]\n\t(No symbol) [0x00507FD1]\n\t(No symbol) [0x003FCF10]\n\t(No symbol) [0x0042795E]\n\t(No symbol) [0x004270E5]\n\t(No symbol) [0x0044858C]\n\t(No symbol) [0x00422BFF]\n\t(No symbol) [0x00448804]\n\t(No symbol) [0x0045C9EB]\n\t(No symbol) [0x00448386]\n\t(No symbol) [0x0042163C]\n\t(No symbol) [0x0042269D]\n\tGetHandleVerifier [0x00819A22+2655074]\n\tGetHandleVerifier [0x0080CA24+2601828]\n\tGetHandleVerifier [0x00628C0A+619850]\n\tGetHandleVerifier [0x00627830+614768]\n\t(No symbol) [0x005105FC]\n\t(No symbol) [0x00515968]\n\t(No symbol) [0x00515A55]\n\t(No symbol) [0x0052051B]\n\tBaseThreadInitThunk [0x770B6BD9+25]\n\tRtlGetFullPathName_UEx [0x77A68FD2+1218]\n\tRtlGetFullPathName_UEx [0x77A68F9D+1165]\n",
     "output_type": "error",
     "traceback": [
      "\u001b[1;31m---------------------------------------------------------------------------\u001b[0m",
      "\u001b[1;31mElementNotInteractableException\u001b[0m           Traceback (most recent call last)",
      "Input \u001b[1;32mIn [229]\u001b[0m, in \u001b[0;36m<cell line: 4>\u001b[1;34m()\u001b[0m\n\u001b[0;32m      1\u001b[0m \u001b[38;5;66;03m#Then set CPU Type filter to “Intel Core i7\u001b[39;00m\n\u001b[0;32m      3\u001b[0m CPU \u001b[38;5;241m=\u001b[39m driver\u001b[38;5;241m.\u001b[39mfind_element(By\u001b[38;5;241m.\u001b[39mXPATH,\u001b[38;5;124m\"\u001b[39m\u001b[38;5;124m/html/body/div[1]/div[2]/div[1]/div[2]/div/div[3]/span/div[1]/div/div/div[6]/div[3]/span\u001b[39m\u001b[38;5;124m\"\u001b[39m)\n\u001b[1;32m----> 4\u001b[0m \u001b[43mCPU\u001b[49m\u001b[38;5;241;43m.\u001b[39;49m\u001b[43msend_keys\u001b[49m\u001b[43m(\u001b[49m\u001b[38;5;124;43m\"\u001b[39;49m\u001b[38;5;124;43mIntel Core i7\u001b[39;49m\u001b[38;5;124;43m\"\u001b[39;49m\u001b[43m)\u001b[49m\n",
      "File \u001b[1;32m~\\anaconda3\\lib\\site-packages\\selenium\\webdriver\\remote\\webelement.py:233\u001b[0m, in \u001b[0;36mWebElement.send_keys\u001b[1;34m(self, *value)\u001b[0m\n\u001b[0;32m    230\u001b[0m             remote_files\u001b[38;5;241m.\u001b[39mappend(\u001b[38;5;28mself\u001b[39m\u001b[38;5;241m.\u001b[39m_upload(file))\n\u001b[0;32m    231\u001b[0m         value \u001b[38;5;241m=\u001b[39m \u001b[38;5;124m\"\u001b[39m\u001b[38;5;130;01m\\n\u001b[39;00m\u001b[38;5;124m\"\u001b[39m\u001b[38;5;241m.\u001b[39mjoin(remote_files)\n\u001b[1;32m--> 233\u001b[0m \u001b[38;5;28;43mself\u001b[39;49m\u001b[38;5;241;43m.\u001b[39;49m\u001b[43m_execute\u001b[49m\u001b[43m(\u001b[49m\n\u001b[0;32m    234\u001b[0m \u001b[43m    \u001b[49m\u001b[43mCommand\u001b[49m\u001b[38;5;241;43m.\u001b[39;49m\u001b[43mSEND_KEYS_TO_ELEMENT\u001b[49m\u001b[43m,\u001b[49m\u001b[43m \u001b[49m\u001b[43m{\u001b[49m\u001b[38;5;124;43m\"\u001b[39;49m\u001b[38;5;124;43mtext\u001b[39;49m\u001b[38;5;124;43m\"\u001b[39;49m\u001b[43m:\u001b[49m\u001b[43m \u001b[49m\u001b[38;5;124;43m\"\u001b[39;49m\u001b[38;5;124;43m\"\u001b[39;49m\u001b[38;5;241;43m.\u001b[39;49m\u001b[43mjoin\u001b[49m\u001b[43m(\u001b[49m\u001b[43mkeys_to_typing\u001b[49m\u001b[43m(\u001b[49m\u001b[43mvalue\u001b[49m\u001b[43m)\u001b[49m\u001b[43m)\u001b[49m\u001b[43m,\u001b[49m\u001b[43m \u001b[49m\u001b[38;5;124;43m\"\u001b[39;49m\u001b[38;5;124;43mvalue\u001b[39;49m\u001b[38;5;124;43m\"\u001b[39;49m\u001b[43m:\u001b[49m\u001b[43m \u001b[49m\u001b[43mkeys_to_typing\u001b[49m\u001b[43m(\u001b[49m\u001b[43mvalue\u001b[49m\u001b[43m)\u001b[49m\u001b[43m}\u001b[49m\n\u001b[0;32m    235\u001b[0m \u001b[43m\u001b[49m\u001b[43m)\u001b[49m\n",
      "File \u001b[1;32m~\\anaconda3\\lib\\site-packages\\selenium\\webdriver\\remote\\webelement.py:410\u001b[0m, in \u001b[0;36mWebElement._execute\u001b[1;34m(self, command, params)\u001b[0m\n\u001b[0;32m    408\u001b[0m     params \u001b[38;5;241m=\u001b[39m {}\n\u001b[0;32m    409\u001b[0m params[\u001b[38;5;124m\"\u001b[39m\u001b[38;5;124mid\u001b[39m\u001b[38;5;124m\"\u001b[39m] \u001b[38;5;241m=\u001b[39m \u001b[38;5;28mself\u001b[39m\u001b[38;5;241m.\u001b[39m_id\n\u001b[1;32m--> 410\u001b[0m \u001b[38;5;28;01mreturn\u001b[39;00m \u001b[38;5;28;43mself\u001b[39;49m\u001b[38;5;241;43m.\u001b[39;49m\u001b[43m_parent\u001b[49m\u001b[38;5;241;43m.\u001b[39;49m\u001b[43mexecute\u001b[49m\u001b[43m(\u001b[49m\u001b[43mcommand\u001b[49m\u001b[43m,\u001b[49m\u001b[43m \u001b[49m\u001b[43mparams\u001b[49m\u001b[43m)\u001b[49m\n",
      "File \u001b[1;32m~\\anaconda3\\lib\\site-packages\\selenium\\webdriver\\remote\\webdriver.py:444\u001b[0m, in \u001b[0;36mWebDriver.execute\u001b[1;34m(self, driver_command, params)\u001b[0m\n\u001b[0;32m    442\u001b[0m response \u001b[38;5;241m=\u001b[39m \u001b[38;5;28mself\u001b[39m\u001b[38;5;241m.\u001b[39mcommand_executor\u001b[38;5;241m.\u001b[39mexecute(driver_command, params)\n\u001b[0;32m    443\u001b[0m \u001b[38;5;28;01mif\u001b[39;00m response:\n\u001b[1;32m--> 444\u001b[0m     \u001b[38;5;28;43mself\u001b[39;49m\u001b[38;5;241;43m.\u001b[39;49m\u001b[43merror_handler\u001b[49m\u001b[38;5;241;43m.\u001b[39;49m\u001b[43mcheck_response\u001b[49m\u001b[43m(\u001b[49m\u001b[43mresponse\u001b[49m\u001b[43m)\u001b[49m\n\u001b[0;32m    445\u001b[0m     response[\u001b[38;5;124m\"\u001b[39m\u001b[38;5;124mvalue\u001b[39m\u001b[38;5;124m\"\u001b[39m] \u001b[38;5;241m=\u001b[39m \u001b[38;5;28mself\u001b[39m\u001b[38;5;241m.\u001b[39m_unwrap_value(response\u001b[38;5;241m.\u001b[39mget(\u001b[38;5;124m\"\u001b[39m\u001b[38;5;124mvalue\u001b[39m\u001b[38;5;124m\"\u001b[39m, \u001b[38;5;28;01mNone\u001b[39;00m))\n\u001b[0;32m    446\u001b[0m     \u001b[38;5;28;01mreturn\u001b[39;00m response\n",
      "File \u001b[1;32m~\\anaconda3\\lib\\site-packages\\selenium\\webdriver\\remote\\errorhandler.py:249\u001b[0m, in \u001b[0;36mErrorHandler.check_response\u001b[1;34m(self, response)\u001b[0m\n\u001b[0;32m    247\u001b[0m         alert_text \u001b[38;5;241m=\u001b[39m value[\u001b[38;5;124m\"\u001b[39m\u001b[38;5;124malert\u001b[39m\u001b[38;5;124m\"\u001b[39m]\u001b[38;5;241m.\u001b[39mget(\u001b[38;5;124m\"\u001b[39m\u001b[38;5;124mtext\u001b[39m\u001b[38;5;124m\"\u001b[39m)\n\u001b[0;32m    248\u001b[0m     \u001b[38;5;28;01mraise\u001b[39;00m exception_class(message, screen, stacktrace, alert_text)  \u001b[38;5;66;03m# type: ignore[call-arg]  # mypy is not smart enough here\u001b[39;00m\n\u001b[1;32m--> 249\u001b[0m \u001b[38;5;28;01mraise\u001b[39;00m exception_class(message, screen, stacktrace)\n",
      "\u001b[1;31mElementNotInteractableException\u001b[0m: Message: element not interactable\n  (Session info: chrome=109.0.5414.75)\nStacktrace:\nBacktrace:\n\t(No symbol) [0x0057F243]\n\t(No symbol) [0x00507FD1]\n\t(No symbol) [0x003FCF10]\n\t(No symbol) [0x0042795E]\n\t(No symbol) [0x004270E5]\n\t(No symbol) [0x0044858C]\n\t(No symbol) [0x00422BFF]\n\t(No symbol) [0x00448804]\n\t(No symbol) [0x0045C9EB]\n\t(No symbol) [0x00448386]\n\t(No symbol) [0x0042163C]\n\t(No symbol) [0x0042269D]\n\tGetHandleVerifier [0x00819A22+2655074]\n\tGetHandleVerifier [0x0080CA24+2601828]\n\tGetHandleVerifier [0x00628C0A+619850]\n\tGetHandleVerifier [0x00627830+614768]\n\t(No symbol) [0x005105FC]\n\t(No symbol) [0x00515968]\n\t(No symbol) [0x00515A55]\n\t(No symbol) [0x0052051B]\n\tBaseThreadInitThunk [0x770B6BD9+25]\n\tRtlGetFullPathName_UEx [0x77A68FD2+1218]\n\tRtlGetFullPathName_UEx [0x77A68F9D+1165]\n"
     ]
    }
   ],
   "source": [
    "#Then set CPU Type filter to “Intel Core i7\n",
    "\n",
    "CPU = driver.find_element(By.XPATH,\"/html/body/div[1]/div[2]/div[1]/div[2]/div/div[3]/span/div[1]/div/div/div[6]/div[3]/span\")\n",
    "CPU.send_keys(\"Intel Core i7\")"
   ]
  },
  {
   "cell_type": "code",
   "execution_count": 56,
   "id": "0e89e00d",
   "metadata": {},
   "outputs": [],
   "source": [
    "title_el=driver.find_elements(By.XPATH,\"//h2[@class='a-size-mini a-spacing-none a-color-base s-line-clamp-2']\")\n",
    "title=[]\n",
    "for i in title_el[:10]:\n",
    "    title.append(i.text)"
   ]
  },
  {
   "cell_type": "code",
   "execution_count": 57,
   "id": "43129475",
   "metadata": {},
   "outputs": [],
   "source": [
    "price_el=driver.find_elements(By.XPATH,\"//span[@class='a-price-whole']\")\n",
    "price=[]\n",
    "for i in price_el[:10]:\n",
    "    price.append(i.text)"
   ]
  },
  {
   "cell_type": "code",
   "execution_count": 58,
   "id": "bbafbe62",
   "metadata": {},
   "outputs": [],
   "source": [
    "url2=driver.find_elements(By.XPATH,\"//a[@class='a-link-normal a-text-normal']\")\n",
    "\n",
    "rating_url=[]\n",
    "for i in url2[:10]:\n",
    "    rating_url.append(i.get_attribute('href'))\n"
   ]
  },
  {
   "cell_type": "code",
   "execution_count": 59,
   "id": "e62b2db2",
   "metadata": {},
   "outputs": [
    {
     "data": {
      "text/plain": [
       "[]"
      ]
     },
     "execution_count": 59,
     "metadata": {},
     "output_type": "execute_result"
    }
   ],
   "source": [
    "import time\n",
    "rating=[]\n",
    "for i in rating_url[:10]:\n",
    "    driver.get(i)\n",
    "    time.sleep(3)\n",
    "    try:\n",
    "        \n",
    "        ratings = driver.find_element(By.XPATH,\".//span[@class='a-icon-alt']/..\")\n",
    "        ratings = ratings.get_attribute('innerHTML').split(\">\")[1].split(\" \")[0]\n",
    "        rating.append(ratings)\n",
    "    except:\n",
    "        \n",
    "        \n",
    "        rating.append(\"00\")\n",
    "rating"
   ]
  },
  {
   "cell_type": "code",
   "execution_count": 60,
   "id": "9615f232",
   "metadata": {},
   "outputs": [
    {
     "data": {
      "text/html": [
       "<div>\n",
       "<style scoped>\n",
       "    .dataframe tbody tr th:only-of-type {\n",
       "        vertical-align: middle;\n",
       "    }\n",
       "\n",
       "    .dataframe tbody tr th {\n",
       "        vertical-align: top;\n",
       "    }\n",
       "\n",
       "    .dataframe thead th {\n",
       "        text-align: right;\n",
       "    }\n",
       "</style>\n",
       "<table border=\"1\" class=\"dataframe\">\n",
       "  <thead>\n",
       "    <tr style=\"text-align: right;\">\n",
       "      <th></th>\n",
       "      <th>TITLE</th>\n",
       "      <th>RATING</th>\n",
       "      <th>PRICE</th>\n",
       "    </tr>\n",
       "  </thead>\n",
       "  <tbody>\n",
       "  </tbody>\n",
       "</table>\n",
       "</div>"
      ],
      "text/plain": [
       "Empty DataFrame\n",
       "Columns: [TITLE, RATING, PRICE]\n",
       "Index: []"
      ]
     },
     "execution_count": 60,
     "metadata": {},
     "output_type": "execute_result"
    }
   ],
   "source": [
    "#creating DataFrame for the scraped data\n",
    "\n",
    "laptop_df=pd.DataFrame()\n",
    "\n",
    "laptop_df['TITLE']=title[:10]\n",
    "laptop_df['RATING']=rating[:10]\n",
    "laptop_df['PRICE']=price[:10]\n",
    "\n",
    "laptop_df"
   ]
  },
  {
   "cell_type": "markdown",
   "id": "cc9994a9",
   "metadata": {},
   "source": [
    "----"
   ]
  },
  {
   "cell_type": "markdown",
   "id": "e4bf4b24",
   "metadata": {},
   "source": [
    "Q8: Write a python program to scrape data for Top 1000 Quotes of All Time.\n",
    "The above task will be done in following steps:\n",
    "1. First get the webpagehttps://www.azquotes.com/\n",
    "2. Click on TopQuotes\n",
    "3. Than scrap a) Quote b) Author c) Type Of Quotes"
   ]
  },
  {
   "cell_type": "code",
   "execution_count": 149,
   "id": "02dfd2bd",
   "metadata": {},
   "outputs": [],
   "source": [
    "#1. First get the webpagehttps://www.azquotes.com/\n",
    "\n",
    "driver.get('https://www.azquotes.com/')"
   ]
  },
  {
   "cell_type": "code",
   "execution_count": null,
   "id": "661e555c",
   "metadata": {},
   "outputs": [],
   "source": [
    "# Click on TopQuotes"
   ]
  },
  {
   "cell_type": "code",
   "execution_count": 150,
   "id": "180c5145",
   "metadata": {},
   "outputs": [],
   "source": [
    "Top_Quotes_button =driver.find_element(By.XPATH,'/html/body/div[1]/div[1]/div[1]/div/div[3]/ul/li[5]/a')\n",
    "Top_Quotes_button.click()"
   ]
  },
  {
   "cell_type": "code",
   "execution_count": null,
   "id": "96185ef3",
   "metadata": {},
   "outputs": [],
   "source": [
    "#3. Then scrap a) Quote b) Author c) Type Of Quotes"
   ]
  },
  {
   "cell_type": "code",
   "execution_count": null,
   "id": "44605dfa",
   "metadata": {},
   "outputs": [],
   "source": [
    "#a) Quote"
   ]
  },
  {
   "cell_type": "code",
   "execution_count": 65,
   "id": "0db041a2",
   "metadata": {},
   "outputs": [],
   "source": [
    "Quotes_list=[]\n",
    "Authors_list=[]\n",
    "Type_of_Quotes_list=[]"
   ]
  },
  {
   "cell_type": "markdown",
   "id": "7c6f20e9",
   "metadata": {},
   "source": [
    "# DOUBT"
   ]
  },
  {
   "cell_type": "code",
   "execution_count": 152,
   "id": "f32d4187",
   "metadata": {},
   "outputs": [
    {
     "name": "stdout",
     "output_type": "stream",
     "text": [
      "60 40 20\n"
     ]
    }
   ],
   "source": [
    "print(len(Quotes_list),len(Type_of_Quotes_list),len(Authors_list))"
   ]
  },
  {
   "cell_type": "code",
   "execution_count": 151,
   "id": "1cd8af99",
   "metadata": {},
   "outputs": [],
   "source": [
    "Quotes_list_tags = driver.find_elements(By.XPATH,'//a[@class=\"title\"]')\n",
    "for i in Quotes_list_tags[0:10]:\n",
    "    quotes=i.text\n",
    "    Quotes_list.append(quotes)\n",
    "\n",
    "Authors_list_tags = driver.find_elements(By.XPATH,'//div[@class=\"author\"]')\n",
    "for i in Authors_list_tags[0:10]:\n",
    "    authors=i.text\n",
    "    Authors_list.append(authors)\n",
    "\n",
    "Type_of_Quotes_list_tags=driver.find_elements(By.XPATH,'//div[@class=\"tags\"]')\n",
    "for i in Type_of_Quotes_list_tags[0:10]:\n",
    "    quotes_type=i.text\n",
    "    Type_of_Quotes_list.append(quotes_type)\n",
    "\n",
    "    "
   ]
  },
  {
   "cell_type": "code",
   "execution_count": null,
   "id": "85de446d",
   "metadata": {},
   "outputs": [],
   "source": []
  },
  {
   "cell_type": "markdown",
   "id": "45ad0a42",
   "metadata": {},
   "source": [
    "----"
   ]
  },
  {
   "cell_type": "markdown",
   "id": "2554f906",
   "metadata": {},
   "source": [
    "Q9: Write a python program to display list of respected former Prime Ministers of India(i.e. Name, Born-Dead, \n",
    "Term of office, Remarks) from https://www.jagranjosh.com/.\n",
    "This task will be done in following steps:\n",
    "1. First get the webpagehttps://www.jagranjosh.com/\n",
    "2. Then You have to click on the GK option\n",
    "3. Then click on the List of all Prime Ministers of India\n",
    "4. Then scrap the mentioned data and make theDataFrame."
   ]
  },
  {
   "cell_type": "code",
   "execution_count": 146,
   "id": "22b20c10",
   "metadata": {},
   "outputs": [],
   "source": [
    "driver.get('https://www.jagranjosh.com/')"
   ]
  },
  {
   "cell_type": "code",
   "execution_count": 147,
   "id": "3a8e57e7",
   "metadata": {},
   "outputs": [],
   "source": [
    "GK_button =driver.find_element(By.XPATH,'/html/body/div/div[1]/div/div[1]/div/div[6]/div/div[1]/header/div[3]/ul/li[9]/a')\n",
    "GK_button.click()"
   ]
  },
  {
   "cell_type": "code",
   "execution_count": 148,
   "id": "eca4944c",
   "metadata": {},
   "outputs": [],
   "source": [
    "PM_List =driver.find_element(By.XPATH,'/html/body/div[1]/div/div/div[2]/div/div[10]/div/div/ul/li[2]/a')\n",
    "PM_List.click()"
   ]
  },
  {
   "cell_type": "code",
   "execution_count": null,
   "id": "e71bdd3d",
   "metadata": {},
   "outputs": [],
   "source": [
    "Name=[]\n",
    "Born-Dead=[]\n",
    "Term_Office=[]\n",
    "Remark=[]"
   ]
  },
  {
   "cell_type": "markdown",
   "id": "125212f9",
   "metadata": {},
   "source": [
    "# DOUBT"
   ]
  },
  {
   "cell_type": "code",
   "execution_count": null,
   "id": "981fd551",
   "metadata": {},
   "outputs": [],
   "source": [
    "Name_tags=driver.find_elements(By.XPATH,)\n",
    "for i in title_tags[0:10]:\n",
    "    name=i.text\n",
    "    Name.append(name)"
   ]
  },
  {
   "cell_type": "markdown",
   "id": "73ff90a1",
   "metadata": {},
   "source": [
    "---"
   ]
  },
  {
   "cell_type": "markdown",
   "id": "3b6a83f6",
   "metadata": {},
   "source": [
    "Q10: Write a python program to display list of 50 Most expensive cars in the world (i.e. \n",
    "Car name and Price) from https://www.motor1.com/\n",
    "This task will be done in following steps:\n",
    "1. First get the webpagehttps://www.motor1.com/\n",
    "2. Then You have to click on the List option from Dropdown menu on leftside.\n",
    "3. Then click on 50 most expensive carsin the world..\n",
    "4. Then scrap the mentioned data and make the dataframe"
   ]
  },
  {
   "cell_type": "code",
   "execution_count": 236,
   "id": "eb53d580",
   "metadata": {},
   "outputs": [],
   "source": [
    "driver.get('https://www.motor1.com/')"
   ]
  },
  {
   "cell_type": "code",
   "execution_count": 237,
   "id": "957c29d7",
   "metadata": {},
   "outputs": [],
   "source": [
    "Dragdown =driver.find_element(By.CLASS_NAME,'m1-hamburger-button')\n",
    "Dragdown.click()"
   ]
  },
  {
   "cell_type": "code",
   "execution_count": 238,
   "id": "e5fd135a",
   "metadata": {},
   "outputs": [],
   "source": [
    "List=driver.find_element(By.XPATH,'/html/body/div[4]/div[1]/div[3]/ul/li[5]/a')\n",
    "List.click()"
   ]
  },
  {
   "cell_type": "code",
   "execution_count": 240,
   "id": "c65d938d",
   "metadata": {},
   "outputs": [],
   "source": [
    "expcars=driver.find_element(By.XPATH,'/html/body/div[3]/div[9]/div[1]/div[1]/div/div/div[9]/div/div[1]/h3/a')\n",
    "expcars.click()"
   ]
  },
  {
   "cell_type": "code",
   "execution_count": 241,
   "id": "830de9af",
   "metadata": {},
   "outputs": [],
   "source": [
    "Brand=[]\n",
    "Price=[]\n",
    "Description=[]"
   ]
  },
  {
   "cell_type": "markdown",
   "id": "b070b0a9",
   "metadata": {},
   "source": [
    "# DOUBT"
   ]
  },
  {
   "cell_type": "code",
   "execution_count": 242,
   "id": "caec394d",
   "metadata": {},
   "outputs": [],
   "source": [
    "Brand_tags=driver.find_elements(By.XPATH,'//h3[@class=\"subheader\"]')\n",
    "for i in Brand_tags[0:10]:\n",
    "    brand=i.text\n",
    "    Brand.append(brand)\n",
    "    \n",
    "#Price_tags=driver.find_elements(By.XPATH,'//h3[@class=\"m1_Native\"\"]')\n",
    "#for i in Price_tags[0:10]:\n",
    "    #price=i.text\n",
    "    #Price.append(price)\n",
    "\n",
    "Desc_tags=driver.find_elements(By.XPATH,'//p[@class=\"m1_Native\"]')\n",
    "for i in Desc_tags[0:10]:\n",
    "    desc=i.text\n",
    "    Description.append(desc)"
   ]
  },
  {
   "cell_type": "code",
   "execution_count": 243,
   "id": "b1e39203",
   "metadata": {},
   "outputs": [
    {
     "name": "stdout",
     "output_type": "stream",
     "text": [
      "10 0 0\n"
     ]
    }
   ],
   "source": [
    "print(len(Brand),len(Price),len(Description))"
   ]
  },
  {
   "cell_type": "code",
   "execution_count": 135,
   "id": "92d8e8ff",
   "metadata": {},
   "outputs": [
    {
     "data": {
      "text/html": [
       "<div>\n",
       "<style scoped>\n",
       "    .dataframe tbody tr th:only-of-type {\n",
       "        vertical-align: middle;\n",
       "    }\n",
       "\n",
       "    .dataframe tbody tr th {\n",
       "        vertical-align: top;\n",
       "    }\n",
       "\n",
       "    .dataframe thead th {\n",
       "        text-align: right;\n",
       "    }\n",
       "</style>\n",
       "<table border=\"1\" class=\"dataframe\">\n",
       "  <thead>\n",
       "    <tr style=\"text-align: right;\">\n",
       "      <th></th>\n",
       "      <th>CarName</th>\n",
       "    </tr>\n",
       "  </thead>\n",
       "  <tbody>\n",
       "    <tr>\n",
       "      <th>0</th>\n",
       "      <td>Drako GTE</td>\n",
       "    </tr>\n",
       "    <tr>\n",
       "      <th>1</th>\n",
       "      <td>De Tomaso P72</td>\n",
       "    </tr>\n",
       "    <tr>\n",
       "      <th>2</th>\n",
       "      <td>Ferrari LaFerrari</td>\n",
       "    </tr>\n",
       "    <tr>\n",
       "      <th>3</th>\n",
       "      <td>Pagani Huayra</td>\n",
       "    </tr>\n",
       "    <tr>\n",
       "      <th>4</th>\n",
       "      <td>McLaren Elva</td>\n",
       "    </tr>\n",
       "    <tr>\n",
       "      <th>5</th>\n",
       "      <td>Czinger 21C</td>\n",
       "    </tr>\n",
       "    <tr>\n",
       "      <th>6</th>\n",
       "      <td>Ferrari Monza</td>\n",
       "    </tr>\n",
       "    <tr>\n",
       "      <th>7</th>\n",
       "      <td>Gordon Murray T.33</td>\n",
       "    </tr>\n",
       "    <tr>\n",
       "      <th>8</th>\n",
       "      <td>Koenigsegg Gemera</td>\n",
       "    </tr>\n",
       "    <tr>\n",
       "      <th>9</th>\n",
       "      <td>Zenvo TSR-S</td>\n",
       "    </tr>\n",
       "  </tbody>\n",
       "</table>\n",
       "</div>"
      ],
      "text/plain": [
       "              CarName\n",
       "0           Drako GTE\n",
       "1       De Tomaso P72\n",
       "2   Ferrari LaFerrari\n",
       "3       Pagani Huayra\n",
       "4        McLaren Elva\n",
       "5         Czinger 21C\n",
       "6       Ferrari Monza\n",
       "7  Gordon Murray T.33\n",
       "8   Koenigsegg Gemera\n",
       "9         Zenvo TSR-S"
      ]
     },
     "execution_count": 135,
     "metadata": {},
     "output_type": "execute_result"
    }
   ],
   "source": [
    "df=pd.DataFrame({'CarName':Brand})\n",
    "df"
   ]
  },
  {
   "cell_type": "markdown",
   "id": "796d362f",
   "metadata": {},
   "source": [
    "-----"
   ]
  },
  {
   "cell_type": "markdown",
   "id": "d3acf09e",
   "metadata": {},
   "source": [
    "#                                                  *** The End ***"
   ]
  },
  {
   "cell_type": "code",
   "execution_count": null,
   "id": "8b40bb47",
   "metadata": {},
   "outputs": [],
   "source": []
  }
 ],
 "metadata": {
  "kernelspec": {
   "display_name": "Python 3 (ipykernel)",
   "language": "python",
   "name": "python3"
  },
  "language_info": {
   "codemirror_mode": {
    "name": "ipython",
    "version": 3
   },
   "file_extension": ".py",
   "mimetype": "text/x-python",
   "name": "python",
   "nbconvert_exporter": "python",
   "pygments_lexer": "ipython3",
   "version": "3.9.12"
  }
 },
 "nbformat": 4,
 "nbformat_minor": 5
}
